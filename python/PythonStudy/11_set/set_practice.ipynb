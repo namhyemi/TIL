{
 "cells": [
  {
   "cell_type": "code",
   "execution_count": 1,
   "id": "f9297b8b-ce95-4f94-9757-658c01db2aa8",
   "metadata": {},
   "outputs": [],
   "source": [
    "#1. my_variable 이름의 비어있는 튜플\n",
    "my_variable = tuple()"
   ]
  },
  {
   "cell_type": "code",
   "execution_count": 2,
   "id": "f9a7a9eb-9435-49f1-984d-0215eab00325",
   "metadata": {},
   "outputs": [],
   "source": [
    "#2. 다음 코드를 실행 후 오류가 발생하는 원인을 설명\n",
    "t = (1,2,3)\n",
    "#t[0] ='a'\n",
    "# 이미 생성된 튜플은 값 변경이 불가능하다."
   ]
  },
  {
   "cell_type": "code",
   "execution_count": 3,
   "id": "4849cbd7-0fa2-4939-aa91-d82fa6798fa6",
   "metadata": {},
   "outputs": [],
   "source": [
    "#3 숫자 1이 지정된 튜플을 생성하라\n",
    "test = 1,"
   ]
  },
  {
   "cell_type": "code",
   "execution_count": 4,
   "id": "c1126747-6e39-4ae9-9a3e-010afaf7ce89",
   "metadata": {},
   "outputs": [],
   "source": [
    "#4 t가 바인딩하는 데이터 타입은 무엇인가?\n",
    "t =('a','b','c')\n",
    "# tuple 이다."
   ]
  },
  {
   "cell_type": "code",
   "execution_count": 5,
   "id": "2c433bda-1a4c-4482-9f67-132bf2c9907a",
   "metadata": {},
   "outputs": [
    {
     "name": "stdout",
     "output_type": "stream",
     "text": [
      "('A', 'b', 'c')\n"
     ]
    }
   ],
   "source": [
    "#5 변수 t가 ('A','b','c') 튜플을 가리키도록 수정하라\n",
    "t = ('a','b','c')\n",
    "tt = list(t)\n",
    "tt[0] = 'A'\n",
    "t = tuple(tt)\n",
    "print(t)\n",
    "#t = ('A','b','c')"
   ]
  },
  {
   "cell_type": "code",
   "execution_count": 6,
   "id": "320a21f6-97a6-4421-8c93-bfe1a4ca5da9",
   "metadata": {},
   "outputs": [],
   "source": [
    "#6 다음 튜플을 리스트로 변환하라\n",
    "interest = ('삼성전자','LG전자','SK Hynix')\n",
    "interest = list(('삼성전자','LG전자','SK Hynix'))"
   ]
  },
  {
   "cell_type": "code",
   "execution_count": 7,
   "id": "3bb0cfce-2ebf-40e3-9947-25e958f50fcf",
   "metadata": {},
   "outputs": [],
   "source": [
    "#7 다음 리스트를 튜플로 변경하라\n",
    "interest = ['삼성전자','LG전자','SK Hynix']\n",
    "interest = tuple(('삼성전자','LG전자','SK Hynix'))"
   ]
  },
  {
   "cell_type": "code",
   "execution_count": 8,
   "id": "3892bdb8-e751-47c5-870c-a82f9f050572",
   "metadata": {},
   "outputs": [],
   "source": [
    "#8 파티에 참선한 사람이 다음과 같을 때 집합을 생성하고 조건에 맞게 출력\n",
    "partyA = {'Park','Kim','Lee'}\n",
    "partyB = {'Park','길동','몽룡'}"
   ]
  },
  {
   "cell_type": "code",
   "execution_count": 9,
   "id": "972261be-894e-4739-9992-1bd4fdceccee",
   "metadata": {},
   "outputs": [
    {
     "name": "stdout",
     "output_type": "stream",
     "text": [
      "{'몽룡', 'Kim', 'Park', '길동', 'Lee'}\n",
      "{'Park'}\n",
      "{'Lee', 'Kim'}\n",
      "{'몽룡', '길동'}\n"
     ]
    }
   ],
   "source": [
    "# 1) 파티에 참석한 모든 사람은?\n",
    "print(partyA.union(partyB))\n",
    "# 2) 2개의 파티에 모두 참석한 사람은?\n",
    "print(partyA.intersection(partyB))\n",
    "# 3) 파티 A에만 참석한 사람\n",
    "print(partyA.difference(partyB))\n",
    "# 4) 파티 B에만 참석한 사람\n",
    "print(partyB.difference(partyA))"
   ]
  },
  {
   "cell_type": "code",
   "execution_count": null,
   "id": "562b4de3-6e23-462a-82d2-1c0f330dda96",
   "metadata": {},
   "outputs": [],
   "source": []
  }
 ],
 "metadata": {
  "kernelspec": {
   "display_name": "python Multi",
   "language": "python",
   "name": "multi"
  },
  "language_info": {
   "codemirror_mode": {
    "name": "ipython",
    "version": 3
   },
   "file_extension": ".py",
   "mimetype": "text/x-python",
   "name": "python",
   "nbconvert_exporter": "python",
   "pygments_lexer": "ipython3",
   "version": "3.7.6"
  }
 },
 "nbformat": 4,
 "nbformat_minor": 5
}
