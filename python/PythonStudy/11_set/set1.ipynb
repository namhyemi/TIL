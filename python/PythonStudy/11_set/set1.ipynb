{
 "cells": [
  {
   "cell_type": "code",
   "execution_count": 1,
   "id": "3e687e24-d5a9-4235-9f17-b0f78f3d30b0",
   "metadata": {},
   "outputs": [],
   "source": [
    "# set"
   ]
  },
  {
   "cell_type": "code",
   "execution_count": 8,
   "id": "c40f0293-f0e6-4219-90dd-58080e2f0000",
   "metadata": {},
   "outputs": [
    {
     "name": "stdout",
     "output_type": "stream",
     "text": [
      "<class 'set'>\n",
      "{1, 3, 4, 5, 7}\n"
     ]
    }
   ],
   "source": [
    "s1 = set()\n",
    "print(type(s1))\n",
    "s1 = {3, 5, 7, 1, 3, 4}\n",
    "print(s1)"
   ]
  },
  {
   "cell_type": "code",
   "execution_count": 9,
   "id": "2a25e43c-36e4-4ef5-a628-b5d764539b08",
   "metadata": {},
   "outputs": [
    {
     "name": "stdout",
     "output_type": "stream",
     "text": [
      "{(10, 20, 40)}\n"
     ]
    }
   ],
   "source": [
    "#s2 ={[10, 20, 40]}\n",
    "s2 = {(10, 20, 40)}\n",
    "print(s2)"
   ]
  },
  {
   "cell_type": "code",
   "execution_count": 10,
   "id": "0a23c0c2-137d-4f64-9314-22f57421c4eb",
   "metadata": {},
   "outputs": [],
   "source": [
    "# 인덱스 사용 불가\n",
    "# s1[0]"
   ]
  },
  {
   "cell_type": "code",
   "execution_count": 11,
   "id": "b970c06e-fd12-411d-950e-f117bdcdeee9",
   "metadata": {},
   "outputs": [
    {
     "name": "stdout",
     "output_type": "stream",
     "text": [
      "{(10, 20, 40), 90}\n",
      "{1, 3, 4, 5, 7, -9}\n"
     ]
    }
   ],
   "source": [
    "# # 데이터 추가 .add()\n",
    "s2.add(90)\n",
    "print(s2)\n",
    "\n",
    "s1.add(-9)\n",
    "print(s1)"
   ]
  },
  {
   "cell_type": "code",
   "execution_count": 12,
   "id": "fafc9639-3952-4a86-8d14-a010c2024153",
   "metadata": {},
   "outputs": [
    {
     "name": "stdout",
     "output_type": "stream",
     "text": [
      "{1, 3, 4, 5, 7}\n",
      "{1, 3, 4, 5, 7}\n",
      "{1, 3, 4, 5}\n",
      "{1, 3, 5}\n"
     ]
    }
   ],
   "source": [
    "# # 데이터삭제 .remove()\n",
    "s1.remove(-9)\n",
    "print(s1)\n",
    "#s1.remove(8)  # 값이 에러 발생\n",
    "print(s1)\n",
    "s1.discard(7)\n",
    "print(s1)\n",
    "s1.discard(4)\n",
    "print(s1)"
   ]
  },
  {
   "cell_type": "code",
   "execution_count": 7,
   "id": "98f44140-e9d3-49de-91a4-b17425db5b28",
   "metadata": {},
   "outputs": [
    {
     "name": "stdout",
     "output_type": "stream",
     "text": [
      "set()\n"
     ]
    }
   ],
   "source": [
    "s1.clear()\n",
    "print(s1)\n",
    "\n",
    "# del s1\n",
    "# print(s1)"
   ]
  },
  {
   "cell_type": "code",
   "execution_count": 14,
   "id": "19f45b4f-e132-4947-bf22-af601c619a09",
   "metadata": {},
   "outputs": [
    {
     "name": "stdout",
     "output_type": "stream",
     "text": [
      "{1, 2, 3, 4, 5, 6, 8}\n",
      "{3, 4}\n",
      "{1, 6}\n",
      "{8, 2, 5}\n",
      "{1, 2, 3, 4, 5, 6, 8}\n",
      "{3, 4}\n",
      "{1, 6}\n"
     ]
    }
   ],
   "source": [
    "# 집합 연산 : union, intersection, difference\n",
    "\n",
    "s1 = {3,4,1,6}\n",
    "s2 = {2,4,5,8,3}\n",
    "print(s1.union(s2))\n",
    "print(s1.intersection(s2))\n",
    "print(s1.difference(s2))\n",
    "print(s2.difference(s1))\n",
    "\n",
    "print(s1 | s2)\n",
    "print(s1 & s2)\n",
    "print(s1 - s2)"
   ]
  },
  {
   "cell_type": "code",
   "execution_count": 15,
   "id": "30870ffa-658f-4992-ab03-1653cfa5cbae",
   "metadata": {},
   "outputs": [
    {
     "name": "stdout",
     "output_type": "stream",
     "text": [
      "{'r', 'd'}\n"
     ]
    }
   ],
   "source": [
    "# set 컴프리핸션\n",
    "a = {x for x in 'abracadabra' if x not in 'abc'}\n",
    "print(a)"
   ]
  },
  {
   "cell_type": "code",
   "execution_count": null,
   "id": "3e62c1e2-3972-4695-a1a7-1ecd5b1180f9",
   "metadata": {},
   "outputs": [],
   "source": []
  }
 ],
 "metadata": {
  "kernelspec": {
   "display_name": "python Multi",
   "language": "python",
   "name": "multi"
  },
  "language_info": {
   "codemirror_mode": {
    "name": "ipython",
    "version": 3
   },
   "file_extension": ".py",
   "mimetype": "text/x-python",
   "name": "python",
   "nbconvert_exporter": "python",
   "pygments_lexer": "ipython3",
   "version": "3.7.6"
  }
 },
 "nbformat": 4,
 "nbformat_minor": 5
}
