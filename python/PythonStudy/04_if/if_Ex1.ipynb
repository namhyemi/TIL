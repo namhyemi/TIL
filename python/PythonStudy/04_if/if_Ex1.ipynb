{
 "cells": [
  {
   "cell_type": "code",
   "execution_count": 1,
   "id": "24f11747-d931-4bc8-8f2a-39732297e348",
   "metadata": {},
   "outputs": [],
   "source": [
    "# 등록된 ID : flower\n",
    "# 비밀번호 : 1234"
   ]
  },
  {
   "cell_type": "code",
   "execution_count": 2,
   "id": "14aab34c-29e5-4276-927f-e41835107646",
   "metadata": {},
   "outputs": [],
   "source": [
    "ID = 'flower'\n",
    "PASS = '1234'"
   ]
  },
  {
   "cell_type": "code",
   "execution_count": 3,
   "id": "e9fa5598-3ede-44c4-b400-17fb881e222f",
   "metadata": {},
   "outputs": [
    {
     "name": "stdin",
     "output_type": "stream",
     "text": [
      "ID를 입력하세요 :  flower\n",
      "비밀번호를 입력하세요 :  1234\n"
     ]
    }
   ],
   "source": [
    "input_ID = input(\"ID를 입력하세요 : \")\n",
    "input_PASS = input(\"비밀번호를 입력하세요 : \")"
   ]
  },
  {
   "cell_type": "code",
   "execution_count": 6,
   "id": "0a86ca4e-3fea-47ee-aaea-3f43a4a30e25",
   "metadata": {},
   "outputs": [
    {
     "name": "stdout",
     "output_type": "stream",
     "text": [
      "로그인 성공.\n"
     ]
    }
   ],
   "source": [
    "if input_ID == ID and input_PASS == PASS:\n",
    "    print(\"로그인 성공.\")\n",
    "else:\n",
    "    print(\"로그인 실패.\")"
   ]
  },
  {
   "cell_type": "code",
   "execution_count": null,
   "id": "8dd24db3-5d6e-4181-9a9c-c4be16b943a2",
   "metadata": {},
   "outputs": [],
   "source": []
  }
 ],
 "metadata": {
  "kernelspec": {
   "display_name": "Python Multi",
   "language": "python",
   "name": "multi"
  },
  "language_info": {
   "codemirror_mode": {
    "name": "ipython",
    "version": 3
   },
   "file_extension": ".py",
   "mimetype": "text/x-python",
   "name": "python",
   "nbconvert_exporter": "python",
   "pygments_lexer": "ipython3",
   "version": "3.7.6"
  }
 },
 "nbformat": 4,
 "nbformat_minor": 5
}
