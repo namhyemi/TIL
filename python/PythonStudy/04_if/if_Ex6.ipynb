{
 "cells": [
  {
   "cell_type": "code",
   "execution_count": 1,
   "id": "67c56079-5ce7-4588-9053-543a077b005f",
   "metadata": {},
   "outputs": [],
   "source": [
    "# 키보드로 입력받은 정수가 짝수인지 홀수인지?"
   ]
  },
  {
   "cell_type": "code",
   "execution_count": 2,
   "id": "f9a43b41-d60d-48a0-8539-7fa13223078a",
   "metadata": {},
   "outputs": [
    {
     "name": "stdin",
     "output_type": "stream",
     "text": [
      "정수를 입력해주세요 :  10\n"
     ]
    }
   ],
   "source": [
    "num = int(input(\"정수를 입력해주세요 : \"))"
   ]
  },
  {
   "cell_type": "code",
   "execution_count": 4,
   "id": "5a922374-ad56-4194-831e-b6dfe27e7325",
   "metadata": {},
   "outputs": [
    {
     "name": "stdout",
     "output_type": "stream",
     "text": [
      "짝수입니다.\n"
     ]
    }
   ],
   "source": [
    "if num%2 == 0:\n",
    "    print(\"짝수입니다.\")\n",
    "else:\n",
    "    print(\"홀수입니다.\")"
   ]
  },
  {
   "cell_type": "code",
   "execution_count": null,
   "id": "33cbca87-4f6c-401a-bd91-c79358b17e7c",
   "metadata": {},
   "outputs": [],
   "source": []
  }
 ],
 "metadata": {
  "kernelspec": {
   "display_name": "Python Multi",
   "language": "python",
   "name": "multi"
  },
  "language_info": {
   "codemirror_mode": {
    "name": "ipython",
    "version": 3
   },
   "file_extension": ".py",
   "mimetype": "text/x-python",
   "name": "python",
   "nbconvert_exporter": "python",
   "pygments_lexer": "ipython3",
   "version": "3.7.6"
  }
 },
 "nbformat": 4,
 "nbformat_minor": 5
}
