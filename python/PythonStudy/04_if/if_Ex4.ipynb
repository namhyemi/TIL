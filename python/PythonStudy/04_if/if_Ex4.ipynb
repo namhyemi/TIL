{
 "cells": [
  {
   "cell_type": "code",
   "execution_count": 1,
   "id": "77337157-d5cb-46a3-b1e1-d3520db89496",
   "metadata": {},
   "outputs": [],
   "source": [
    "# 컴퓨터와 게임하는 경우"
   ]
  },
  {
   "cell_type": "code",
   "execution_count": 2,
   "id": "7c27701c-71e5-4c67-b110-47c6c76f159f",
   "metadata": {},
   "outputs": [],
   "source": [
    "from random import randint"
   ]
  },
  {
   "cell_type": "code",
   "execution_count": 5,
   "id": "b0cda483-f5ec-430f-8f8a-06d42cdae796",
   "metadata": {},
   "outputs": [
    {
     "name": "stdout",
     "output_type": "stream",
     "text": [
      "com : 98 vs you : 99\n",
      "이겼습니다.\n"
     ]
    }
   ],
   "source": [
    "YOU = randint(1,100)\n",
    "COM = randint(1,100)\n",
    "\n",
    "print(\"com : %d vs you : %d\" %(COM,YOU))\n",
    "if YOU > COM :\n",
    "    print(\"이겼습니다.\")\n",
    "else :\n",
    "    print(\"졌습니다.\")"
   ]
  },
  {
   "cell_type": "code",
   "execution_count": null,
   "id": "ac5a845f-7a98-4862-9c3d-53f0ae8ae65d",
   "metadata": {},
   "outputs": [],
   "source": []
  }
 ],
 "metadata": {
  "kernelspec": {
   "display_name": "Python Multi",
   "language": "python",
   "name": "multi"
  },
  "language_info": {
   "codemirror_mode": {
    "name": "ipython",
    "version": 3
   },
   "file_extension": ".py",
   "mimetype": "text/x-python",
   "name": "python",
   "nbconvert_exporter": "python",
   "pygments_lexer": "ipython3",
   "version": "3.7.6"
  }
 },
 "nbformat": 4,
 "nbformat_minor": 5
}
