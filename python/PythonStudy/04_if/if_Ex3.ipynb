{
 "cells": [
  {
   "cell_type": "code",
   "execution_count": 1,
   "id": "7c2c38b7-a035-423c-9ad5-814e4ba0d15b",
   "metadata": {},
   "outputs": [],
   "source": [
    "# 정수 3개를 입력받아서 제일 큰 수를 출력"
   ]
  },
  {
   "cell_type": "code",
   "execution_count": 10,
   "id": "57f7ad1b-083a-472b-85ce-edbef4e67e1c",
   "metadata": {},
   "outputs": [
    {
     "name": "stdin",
     "output_type": "stream",
     "text": [
      "정수1를 입력하세요 :  10\n",
      "정수2를 입력하세요 :  20\n",
      "정수3를 입력하세요 :  30\n"
     ]
    }
   ],
   "source": [
    "num1 = int(input(\"정수1를 입력하세요 : \"))\n",
    "num2 = int(input(\"정수2를 입력하세요 : \"))\n",
    "num3 = int(input(\"정수3를 입력하세요 : \"))"
   ]
  },
  {
   "cell_type": "code",
   "execution_count": 11,
   "id": "78b19ed3-5a8d-4904-9d23-58dd73a00bee",
   "metadata": {},
   "outputs": [
    {
     "name": "stdout",
     "output_type": "stream",
     "text": [
      "제일 큰 수는 30이다.\n"
     ]
    }
   ],
   "source": [
    "if num1 > num2 and num1 > num3 :\n",
    "    max_num = num1\n",
    "elif num2 > num3 :\n",
    "    max_num = num2\n",
    "else :\n",
    "    max_num = num3\n",
    "\n",
    "print(\"제일 큰 수는 %d이다.\" %max_num)"
   ]
  },
  {
   "cell_type": "code",
   "execution_count": null,
   "id": "5432d844-a68c-4121-b0bd-0af1b0a2016d",
   "metadata": {},
   "outputs": [],
   "source": []
  }
 ],
 "metadata": {
  "kernelspec": {
   "display_name": "Python Multi",
   "language": "python",
   "name": "multi"
  },
  "language_info": {
   "codemirror_mode": {
    "name": "ipython",
    "version": 3
   },
   "file_extension": ".py",
   "mimetype": "text/x-python",
   "name": "python",
   "nbconvert_exporter": "python",
   "pygments_lexer": "ipython3",
   "version": "3.7.6"
  }
 },
 "nbformat": 4,
 "nbformat_minor": 5
}
