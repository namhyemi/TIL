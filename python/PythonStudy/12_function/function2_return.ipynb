{
 "cells": [
  {
   "cell_type": "code",
   "execution_count": null,
   "id": "e7208df6-8c2e-4bf5-9a12-0d1be05681c3",
   "metadata": {},
   "outputs": [],
   "source": [
    "# 함수의 반환값(return)"
   ]
  },
  {
   "cell_type": "code",
   "execution_count": 1,
   "id": "f6c963e7-7de0-481c-8d9c-8b9a69990b42",
   "metadata": {},
   "outputs": [
    {
     "name": "stdin",
     "output_type": "stream",
     "text": [
      "숫자1 입력 : 10\n",
      "숫자2 입력 : 20\n"
     ]
    },
    {
     "name": "stdout",
     "output_type": "stream",
     "text": [
      "합은 30\n"
     ]
    }
   ],
   "source": [
    "def sum() :\n",
    "    a = int(input('숫자1 입력 :'))\n",
    "    b = int(input('숫자2 입력 :'))\n",
    "    # print(a+b)\n",
    "    return a+b\n",
    "\n",
    "# res = sum()\n",
    "# print('합은 %d' % res)\n",
    "print('합은 %d' % sum())"
   ]
  },
  {
   "cell_type": "code",
   "execution_count": 2,
   "id": "268e070f-a918-4f29-bd41-c78c20b100c0",
   "metadata": {},
   "outputs": [
    {
     "name": "stdin",
     "output_type": "stream",
     "text": [
      "높이 :  2\n",
      "밑변 :  10\n"
     ]
    },
    {
     "name": "stdout",
     "output_type": "stream",
     "text": [
      "삼각형의 면적 : 10.00\n"
     ]
    }
   ],
   "source": [
    "# 삼각형의 넓이 계산 함수 get_triangle_area()\n",
    "# 높이와 밑변을 키보드로 입력\n",
    "# 결과값을 반환\n",
    "# 높이 :\n",
    "# 밑변 :\n",
    "# 삼각형의 면적 :\n",
    "\n",
    "def get_triangle_area():\n",
    "    h = int(input('높이 : '))\n",
    "    w = int(input('밑변 : '))\n",
    "    area = h * w / 2\n",
    "    return area\n",
    "\n",
    "area = get_triangle_area()\n",
    "print('삼각형의 면적 : %.2f' % area)"
   ]
  },
  {
   "cell_type": "code",
   "execution_count": 3,
   "id": "b32e0174-5767-4223-aae9-6e9625f2ef5e",
   "metadata": {},
   "outputs": [],
   "source": [
    "# 반환값이 여러 개인 경우\n",
    "# 반환값의 형식은 튜플"
   ]
  },
  {
   "cell_type": "code",
   "execution_count": 4,
   "id": "3a14e90e-8aff-4cde-ba42-86cd33aef3c6",
   "metadata": {},
   "outputs": [
    {
     "name": "stdin",
     "output_type": "stream",
     "text": [
      "높이 :  2\n",
      "밑변 :  15\n"
     ]
    },
    {
     "name": "stdout",
     "output_type": "stream",
     "text": [
      "높이 2, 밑변 15, 삼각형의 넓이 15.00\n"
     ]
    }
   ],
   "source": [
    "def get_triangle_area():\n",
    "    h = int(input('높이 : '))\n",
    "    w = int(input('밑변 : '))\n",
    "    area = h * w / 2\n",
    "    return h, w, area\n",
    "\n",
    "area = get_triangle_area()\n",
    "print('높이 %d, 밑변 %d, 삼각형의 넓이 %.2f' % (area[0], area[1], area[2]))"
   ]
  },
  {
   "cell_type": "code",
   "execution_count": 5,
   "id": "cb9145a5-19ca-4414-bba3-c7bd64cf37c3",
   "metadata": {},
   "outputs": [
    {
     "name": "stdout",
     "output_type": "stream",
     "text": [
      "1\n"
     ]
    }
   ],
   "source": [
    "def multiReturn() :\n",
    "    return 1\n",
    "    return 2\n",
    "    return 3\n",
    "\n",
    "print(multiReturn())"
   ]
  },
  {
   "cell_type": "code",
   "execution_count": 6,
   "id": "14e8e419-0085-452b-9b13-09be53742a92",
   "metadata": {},
   "outputs": [
    {
     "name": "stdin",
     "output_type": "stream",
     "text": [
      "상품가격 입력 :  1000\n",
      "주문수량 입력 :  10\n"
     ]
    },
    {
     "name": "stdout",
     "output_type": "stream",
     "text": [
      "------------------------------\n",
      "상품가격 : 1000원\n",
      "주문수량 : 10개\n",
      "주문액 : 10000원\n"
     ]
    }
   ],
   "source": [
    "def order() :\n",
    "    a=int(input('상품가격 입력 : '))\n",
    "    b=int(input('주문수량 입력 : '))\n",
    "    price=a*b\n",
    "    return a,b,price\n",
    "\n",
    "price=order()\n",
    "print('-'*30)\n",
    "print('상품가격 : {0}원\\n주문수량 : {1}개\\n주문액 : {2}원'.format(price[0],price[1],price[2]))"
   ]
  },
  {
   "cell_type": "code",
   "execution_count": 7,
   "id": "000e65db-cf69-42dc-95f4-26e2cc2383c5",
   "metadata": {},
   "outputs": [],
   "source": [
    "# 리스트 반환값"
   ]
  },
  {
   "cell_type": "code",
   "execution_count": 10,
   "id": "0c59bfcd-91db-4ce5-bfcf-bac0b150a877",
   "metadata": {},
   "outputs": [
    {
     "name": "stdin",
     "output_type": "stream",
     "text": [
      "이름 입력 :  김씨\n",
      "이름 입력 :  박씨\n",
      "이름 입력 :  이씨\n"
     ]
    },
    {
     "name": "stdout",
     "output_type": "stream",
     "text": [
      "<class 'list'>\n",
      "['김씨', '박씨', '이씨']\n"
     ]
    }
   ],
   "source": [
    "def getNames():\n",
    "    names = []\n",
    "    for i in range(3):\n",
    "        name = input('이름 입력 : ')\n",
    "        names.append(name)\n",
    "\n",
    "    return names\n",
    "\n",
    "nameL = getNames()\n",
    "print(type(nameL))\n",
    "print(nameL)"
   ]
  },
  {
   "cell_type": "code",
   "execution_count": 11,
   "id": "d291eaa9-d7ea-4820-83cf-2244c19a2baf",
   "metadata": {},
   "outputs": [],
   "source": [
    "# 이름과 나이를 입력받아서 딕셔너리 형식으로 반환\n",
    "# {'name':'홍길동', 'age':20 }"
   ]
  },
  {
   "cell_type": "code",
   "execution_count": 12,
   "id": "b05477c2-0617-4c5e-875a-05d6b0923723",
   "metadata": {},
   "outputs": [
    {
     "name": "stdin",
     "output_type": "stream",
     "text": [
      "이름 입력 :  김씨\n",
      "나이 입력 :  20\n"
     ]
    },
    {
     "name": "stdout",
     "output_type": "stream",
     "text": [
      "{'name': '김씨', 'age': '20'}\n",
      "<class 'dict'>\n",
      "name : 김씨\n",
      "age : 20\n",
      "name : 김씨\n",
      "age : 20\n"
     ]
    }
   ],
   "source": [
    "def getInfo():\n",
    "    info = dict()\n",
    "    name = input('이름 입력 : ')\n",
    "    age = input('나이 입력 : ')\n",
    "    # info['name'] = name\n",
    "    # info['age'] = age\n",
    "    info = {'name': name , 'age': age}\n",
    "    return info\n",
    "\n",
    "info = getInfo()\n",
    "print(info)\n",
    "print(type(info))\n",
    "\n",
    "for key, value in info.items():\n",
    "    print(key,':',value)\n",
    "\n",
    "for key in info.keys():\n",
    "    print(key,':',info[key])"
   ]
  },
  {
   "cell_type": "code",
   "execution_count": 13,
   "id": "b8ddf216-7c95-411e-9b1a-04c2948cf222",
   "metadata": {},
   "outputs": [
    {
     "name": "stdout",
     "output_type": "stream",
     "text": [
      "Hello\n",
      "None\n"
     ]
    }
   ],
   "source": [
    "# 반환값이 없는 경우 None 출력\n",
    "\n",
    "def showHello():\n",
    "    print('Hello')\n",
    "\n",
    "result = showHello()\n",
    "print(result)"
   ]
  },
  {
   "cell_type": "code",
   "execution_count": null,
   "id": "68d7b1e3-ae18-409f-a5d3-96d464b736f7",
   "metadata": {},
   "outputs": [],
   "source": []
  }
 ],
 "metadata": {
  "kernelspec": {
   "display_name": "python Multi",
   "language": "python",
   "name": "multi"
  },
  "language_info": {
   "codemirror_mode": {
    "name": "ipython",
    "version": 3
   },
   "file_extension": ".py",
   "mimetype": "text/x-python",
   "name": "python",
   "nbconvert_exporter": "python",
   "pygments_lexer": "ipython3",
   "version": "3.7.6"
  }
 },
 "nbformat": 4,
 "nbformat_minor": 5
}
