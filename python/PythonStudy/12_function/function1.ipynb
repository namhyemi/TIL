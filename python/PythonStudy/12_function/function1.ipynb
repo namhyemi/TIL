{
 "cells": [
  {
   "cell_type": "code",
   "execution_count": 2,
   "id": "e723b4da-21ba-46e6-b4f8-d86f7f9a440d",
   "metadata": {},
   "outputs": [],
   "source": [
    "# 함수의 개요"
   ]
  },
  {
   "cell_type": "code",
   "execution_count": 3,
   "id": "67f7db7a-6c8b-4315-8e2d-7b2b16c74bee",
   "metadata": {},
   "outputs": [],
   "source": [
    "# 함수 정의\n",
    "def printHello():\n",
    "    print('Hello')\n",
    "\n",
    "def printName(name):\n",
    "    print(name)\n",
    "\n",
    "def area_sqaure(width, height):\n",
    "    area = width * height\n",
    "    return area"
   ]
  },
  {
   "cell_type": "code",
   "execution_count": 4,
   "id": "32416ff3-c9fc-4b42-a80e-36eea4bdf6b4",
   "metadata": {},
   "outputs": [
    {
     "name": "stdout",
     "output_type": "stream",
     "text": [
      "200\n",
      "Hello\n",
      "Lee\n"
     ]
    }
   ],
   "source": [
    "# 함수 호출\n",
    "w = 10; h = 20\n",
    "area = area_sqaure(w, h)\n",
    "print(area)\n",
    "printHello()\n",
    "printName('Lee')"
   ]
  },
  {
   "cell_type": "code",
   "execution_count": 17,
   "id": "1c4dda01-d70f-4703-b39d-5c0bef08990f",
   "metadata": {},
   "outputs": [
    {
     "name": "stdout",
     "output_type": "stream",
     "text": [
      "Nam\n",
      "20\n",
      "010-1234-5678\n",
      "None\n"
     ]
    }
   ],
   "source": [
    "# 연습문제\n",
    "# 함수이름 : show_info()\n",
    "\n",
    "# 이경미\n",
    "# 20\n",
    "# 010-1234-1234\n",
    "\n",
    "def show_info():\n",
    "    a = 'Nam'\n",
    "    b= '20'\n",
    "    c= '010-1234-5678'\n",
    "    print(a)\n",
    "    print(b)\n",
    "    print(c)\n",
    "    \n",
    "result = show_info()\n",
    "print(result)"
   ]
  },
  {
   "cell_type": "code",
   "execution_count": 16,
   "id": "b37610a8-8000-404b-a77a-564e0981c3dc",
   "metadata": {},
   "outputs": [
    {
     "name": "stdin",
     "output_type": "stream",
     "text": [
      "숫자 1 입력 : 10\n",
      "숫자 2 입력 : 5\n"
     ]
    },
    {
     "name": "stdout",
     "output_type": "stream",
     "text": [
      "15\n"
     ]
    }
   ],
   "source": [
    "# 함수이름 sum()\n",
    "# 숫자 2개를 키보드로 입력받아서 두 수의 합을 출력\n",
    "\n",
    "# 숫자1 입력 : 10\n",
    "# 숫자2 입력 : 20\n",
    "# 합 : 7\n",
    "\n",
    "def sum():\n",
    "    a=input('숫자 1 입력 :')\n",
    "    b=input('숫자 2 입력 :')\n",
    "    hap=int(a)+int(b)\n",
    "    print(hap)\n",
    "    #print(a+b)\n",
    "\n",
    "sum()"
   ]
  },
  {
   "cell_type": "code",
   "execution_count": null,
   "id": "0ec6b23a-d7e3-4a11-a177-07e641ad655c",
   "metadata": {},
   "outputs": [],
   "source": []
  }
 ],
 "metadata": {
  "kernelspec": {
   "display_name": "python Multi",
   "language": "python",
   "name": "multi"
  },
  "language_info": {
   "codemirror_mode": {
    "name": "ipython",
    "version": 3
   },
   "file_extension": ".py",
   "mimetype": "text/x-python",
   "name": "python",
   "nbconvert_exporter": "python",
   "pygments_lexer": "ipython3",
   "version": "3.7.6"
  }
 },
 "nbformat": 4,
 "nbformat_minor": 5
}
