{
 "cells": [
  {
   "cell_type": "code",
   "execution_count": null,
   "id": "f6af79aa-dd81-43ec-abbc-94c726d2c258",
   "metadata": {},
   "outputs": [],
   "source": [
    "## 팩토리얼 계산 함수 factorial()\n",
    "# n! = n*(n-1)*(n-2)*...*2*1"
   ]
  },
  {
   "cell_type": "code",
   "execution_count": null,
   "id": "4b57c81a-5b41-4f8b-ab58-4efedffa66b2",
   "metadata": {},
   "outputs": [],
   "source": [
    "# def factorial(n):\n",
    "#     a = n\n",
    "#     for i in range(a-1, 0, -1):\n",
    "#         a *= i\n",
    "#     return a\n",
    "#\n",
    "# def fact(n):\n",
    "#     start = 1\n",
    "#     for x in range(1, n+1):\n",
    "#         start *= x\n",
    "#\n",
    "#     return print(start)"
   ]
  },
  {
   "cell_type": "code",
   "execution_count": 4,
   "id": "0471017e-c152-42b3-bfd4-d7ed9d338627",
   "metadata": {},
   "outputs": [
    {
     "name": "stdout",
     "output_type": "stream",
     "text": [
      "120\n"
     ]
    }
   ],
   "source": [
    "#재귀함수 :\n",
    "def factorial(n):\n",
    "    if n == 1:\n",
    "        return 1\n",
    "    return n * factorial(n - 1)\n",
    "\n",
    "# f(4) : 4*f(3) = 4*3*2*1\n",
    "# f(3) : 3*f(2) = 3*2*1\n",
    "# f(2) : 2*f(1) = 2*1\n",
    "# f(1) : 1\n",
    "\n",
    "print(factorial(5))\n",
    "\n",
    "# result = factorial(3)\n",
    "# print(result)"
   ]
  },
  {
   "cell_type": "code",
   "execution_count": 1,
   "id": "75ef8d55-d5af-4276-b51d-9c857d15f3b4",
   "metadata": {},
   "outputs": [
    {
     "name": "stdin",
     "output_type": "stream",
     "text": [
      "n =  5\n"
     ]
    },
    {
     "name": "stdout",
     "output_type": "stream",
     "text": [
      "120\n"
     ]
    }
   ],
   "source": [
    "n = int(input('n = '))\n",
    "\n",
    "def factorial(n):\n",
    "    f = 1\n",
    "    for i in range(n):\n",
    "        f *= (i+1)\n",
    "\n",
    "    return print(f)\n",
    "\n",
    "factorial(n)"
   ]
  },
  {
   "cell_type": "code",
   "execution_count": null,
   "id": "a7a59a4f-618d-4fca-829f-7db1e920b4c2",
   "metadata": {},
   "outputs": [],
   "source": []
  }
 ],
 "metadata": {
  "kernelspec": {
   "display_name": "python Multi",
   "language": "python",
   "name": "multi"
  },
  "language_info": {
   "codemirror_mode": {
    "name": "ipython",
    "version": 3
   },
   "file_extension": ".py",
   "mimetype": "text/x-python",
   "name": "python",
   "nbconvert_exporter": "python",
   "pygments_lexer": "ipython3",
   "version": "3.7.6"
  }
 },
 "nbformat": 4,
 "nbformat_minor": 5
}
