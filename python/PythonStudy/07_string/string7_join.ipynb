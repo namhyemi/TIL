{
 "cells": [
  {
   "cell_type": "code",
   "execution_count": 1,
   "id": "8843309e-456a-4fcf-be97-0642b053fc0e",
   "metadata": {},
   "outputs": [],
   "source": [
    "# join()"
   ]
  },
  {
   "cell_type": "code",
   "execution_count": 2,
   "id": "077d7097-461f-4436-9532-93d4c7a686d0",
   "metadata": {},
   "outputs": [
    {
     "name": "stdout",
     "output_type": "stream",
     "text": [
      "baabaab\n"
     ]
    }
   ],
   "source": [
    "a = 'aa'\n",
    "print(a.join('bbb'))"
   ]
  },
  {
   "cell_type": "code",
   "execution_count": 3,
   "id": "86d9acc8-d1e6-491f-9e2f-69024daa56ba",
   "metadata": {},
   "outputs": [
    {
     "name": "stdout",
     "output_type": "stream",
     "text": [
      "1-2-3-4\n"
     ]
    }
   ],
   "source": [
    "b = '-'\n",
    "print(b.join('1234'))"
   ]
  },
  {
   "cell_type": "code",
   "execution_count": 4,
   "id": "6cb617b3-b039-419e-826d-7f19b0a89d4c",
   "metadata": {},
   "outputs": [
    {
     "name": "stdout",
     "output_type": "stream",
     "text": [
      "10,20,30,40,50\n"
     ]
    }
   ],
   "source": [
    "number = ['10','20','30','40','50']\n",
    "sep = ','\n",
    "result = sep.join(number)\n",
    "print(result)"
   ]
  },
  {
   "cell_type": "code",
   "execution_count": 5,
   "id": "402a74f4-84ad-451e-95f6-0f6fd90581e8",
   "metadata": {},
   "outputs": [
    {
     "name": "stdout",
     "output_type": "stream",
     "text": [
      "1990-01-01\n"
     ]
    }
   ],
   "source": [
    "date = ['1990','01','01']\n",
    "sep = '-'\n",
    "print(sep.join(date))"
   ]
  },
  {
   "cell_type": "code",
   "execution_count": null,
   "id": "0571512b-118c-4705-ab01-3a1cd46d1ba1",
   "metadata": {},
   "outputs": [],
   "source": []
  }
 ],
 "metadata": {
  "kernelspec": {
   "display_name": "Python Multi",
   "language": "python",
   "name": "multi"
  },
  "language_info": {
   "codemirror_mode": {
    "name": "ipython",
    "version": 3
   },
   "file_extension": ".py",
   "mimetype": "text/x-python",
   "name": "python",
   "nbconvert_exporter": "python",
   "pygments_lexer": "ipython3",
   "version": "3.7.6"
  }
 },
 "nbformat": 4,
 "nbformat_minor": 5
}
