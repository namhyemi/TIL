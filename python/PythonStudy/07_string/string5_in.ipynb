{
 "cells": [
  {
   "cell_type": "code",
   "execution_count": 1,
   "id": "09ab76a3-9b16-42b9-820c-d334364f255c",
   "metadata": {},
   "outputs": [],
   "source": [
    "# in"
   ]
  },
  {
   "cell_type": "code",
   "execution_count": 2,
   "id": "91379784-e0e3-4672-bdb9-3c6b9dd78eed",
   "metadata": {},
   "outputs": [],
   "source": [
    "string = 'Python programming'"
   ]
  },
  {
   "cell_type": "code",
   "execution_count": 3,
   "id": "98906431-55e4-4b49-a993-489272abaf0b",
   "metadata": {},
   "outputs": [
    {
     "name": "stdout",
     "output_type": "stream",
     "text": [
      "있습니다.\n"
     ]
    }
   ],
   "source": [
    "if 'Python' in string:\n",
    "    print(\"있습니다.\")\n",
    "else:\n",
    "    print(\"없습니다.\")"
   ]
  },
  {
   "cell_type": "code",
   "execution_count": 4,
   "id": "781b9411-c123-4d83-a111-bfa992ec34d7",
   "metadata": {},
   "outputs": [],
   "source": [
    "# in 과 list"
   ]
  },
  {
   "cell_type": "code",
   "execution_count": 10,
   "id": "0952277f-f1f3-463d-9046-aedb19adbc09",
   "metadata": {},
   "outputs": [
    {
     "name": "stdin",
     "output_type": "stream",
     "text": [
      "input name : 정종\n"
     ]
    },
    {
     "name": "stdout",
     "output_type": "stream",
     "text": [
      "이름이 있습니다.\n"
     ]
    }
   ],
   "source": [
    "names = ['태조','정종','태종','세종','문종']\n",
    "name = input('input name :')\n",
    "if name in names:\n",
    "    print(\"이름이 있습니다.\")\n",
    "else:\n",
    "    print(\"이름이 없습니다.\")"
   ]
  },
  {
   "cell_type": "code",
   "execution_count": null,
   "id": "c57103df-cc29-4a65-be3c-851aa54108d9",
   "metadata": {},
   "outputs": [],
   "source": []
  }
 ],
 "metadata": {
  "kernelspec": {
   "display_name": "Python Multi",
   "language": "python",
   "name": "multi"
  },
  "language_info": {
   "codemirror_mode": {
    "name": "ipython",
    "version": 3
   },
   "file_extension": ".py",
   "mimetype": "text/x-python",
   "name": "python",
   "nbconvert_exporter": "python",
   "pygments_lexer": "ipython3",
   "version": "3.7.6"
  }
 },
 "nbformat": 4,
 "nbformat_minor": 5
}
