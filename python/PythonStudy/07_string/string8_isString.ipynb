{
 "cells": [
  {
   "cell_type": "code",
   "execution_count": 1,
   "id": "d0c594e5-ad24-49a8-80f5-e68a59c57163",
   "metadata": {},
   "outputs": [],
   "source": [
    "# 문자열의 구성요소 판단"
   ]
  },
  {
   "cell_type": "code",
   "execution_count": 2,
   "id": "914a7f60-c5f5-457b-ad35-1ee1673f319b",
   "metadata": {},
   "outputs": [],
   "source": [
    "# isalpha() : 문자만 있는지 True/False"
   ]
  },
  {
   "cell_type": "code",
   "execution_count": 3,
   "id": "c6ddd144-2bb1-4bfc-bffe-93502d38b950",
   "metadata": {},
   "outputs": [],
   "source": [
    "# isdigit() : 숫자만 있는지"
   ]
  },
  {
   "cell_type": "code",
   "execution_count": 4,
   "id": "01d6863c-91b7-42d5-930e-4c6ec5277b85",
   "metadata": {},
   "outputs": [],
   "source": [
    "# isspace() : 공백여부"
   ]
  },
  {
   "cell_type": "code",
   "execution_count": 5,
   "id": "bd2b6532-7332-4dac-8e4d-0fcb271f4295",
   "metadata": {},
   "outputs": [],
   "source": [
    "# isalnum() : 문자, 숫자만 있는지"
   ]
  },
  {
   "cell_type": "code",
   "execution_count": null,
   "id": "8c0e29e9-5f35-47bf-a92b-6d66c0ebb2c5",
   "metadata": {},
   "outputs": [],
   "source": []
  },
  {
   "cell_type": "code",
   "execution_count": 6,
   "id": "0562c0a3-9e59-47f2-a67e-622cfce90b35",
   "metadata": {},
   "outputs": [],
   "source": [
    "text = '1234567num'"
   ]
  },
  {
   "cell_type": "code",
   "execution_count": 7,
   "id": "85efc169-bf0c-4a34-ba44-91e448d6aab3",
   "metadata": {},
   "outputs": [
    {
     "name": "stdout",
     "output_type": "stream",
     "text": [
      "False\n",
      "False\n",
      "True\n",
      "True\n",
      "False\n",
      "True\n"
     ]
    }
   ],
   "source": [
    "print(text.isdigit())\n",
    "print(text.isalpha())\n",
    "print('  '.isspace())\n",
    "print(text.isalnum())\n",
    "print('Abc'.islower())\n",
    "print('AAA'.isupper())"
   ]
  },
  {
   "cell_type": "code",
   "execution_count": null,
   "id": "00f6b0ac-b111-4fab-a67d-c07dd89e38ba",
   "metadata": {},
   "outputs": [],
   "source": []
  },
  {
   "cell_type": "code",
   "execution_count": 8,
   "id": "c0715e6c-04db-4b56-aeea-2542f15e3913",
   "metadata": {},
   "outputs": [
    {
     "name": "stdin",
     "output_type": "stream",
     "text": [
      "문장을 입력하세요 :  rabong10@naver.com\n"
     ]
    },
    {
     "name": "stdout",
     "output_type": "stream",
     "text": [
      "문자 : 14\n",
      "숫자 : 2\n",
      "공백 : 0\n",
      "그외 : 2\n"
     ]
    }
   ],
   "source": [
    "# 문장을 입력하여 알파벳, 숫자, 스페이스, 그 외의 문자의 개수를 계산 출력\n",
    "alphas = digits = space = others = 0\n",
    "string = input('문장을 입력하세요 : ')\n",
    "for c in string :\n",
    "    if c.isalpha():\n",
    "        alphas += 1\n",
    "    elif c.isdigit():\n",
    "        digits += 1\n",
    "    elif c.isspace():\n",
    "        space += 1\n",
    "    else :\n",
    "        others += 1\n",
    "        \n",
    "print(\"문자 : {}\\n숫자 : {}\\n공백 : {}\\n그외 : {}\".format(alphas,digits,space,others))"
   ]
  },
  {
   "cell_type": "code",
   "execution_count": null,
   "id": "89a3f5f7-c9d1-486a-b48f-d358cbddcbd6",
   "metadata": {},
   "outputs": [],
   "source": []
  }
 ],
 "metadata": {
  "kernelspec": {
   "display_name": "Python Multi",
   "language": "python",
   "name": "multi"
  },
  "language_info": {
   "codemirror_mode": {
    "name": "ipython",
    "version": 3
   },
   "file_extension": ".py",
   "mimetype": "text/x-python",
   "name": "python",
   "nbconvert_exporter": "python",
   "pygments_lexer": "ipython3",
   "version": "3.7.6"
  }
 },
 "nbformat": 4,
 "nbformat_minor": 5
}
