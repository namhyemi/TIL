{
 "cells": [
  {
   "cell_type": "code",
   "execution_count": 1,
   "id": "aaa7176a-4adc-416d-af84-02837f1ede74",
   "metadata": {},
   "outputs": [],
   "source": [
    "# string 관련 함수"
   ]
  },
  {
   "cell_type": "code",
   "execution_count": 2,
   "id": "354fc9df-2ccb-47ae-933d-cdcea97f70e1",
   "metadata": {},
   "outputs": [],
   "source": [
    "# len() : 문자열의 length"
   ]
  },
  {
   "cell_type": "code",
   "execution_count": 3,
   "id": "1544fa7b-dd39-4ad5-87be-9d9cb3af8bdc",
   "metadata": {},
   "outputs": [
    {
     "name": "stdout",
     "output_type": "stream",
     "text": [
      "18\n"
     ]
    }
   ],
   "source": [
    "string = 'Python Programming'\n",
    "n = len(string)\n",
    "print(n)"
   ]
  },
  {
   "cell_type": "code",
   "execution_count": 4,
   "id": "9c42201c-c1a5-427b-bc36-d686980b8e10",
   "metadata": {},
   "outputs": [],
   "source": [
    "# count() : 문자열에서 찾고자하는 문자(열)의 개수"
   ]
  },
  {
   "cell_type": "code",
   "execution_count": 6,
   "id": "e1fdfee1-b966-4c84-8027-ae8f604f2a6e",
   "metadata": {},
   "outputs": [
    {
     "name": "stdout",
     "output_type": "stream",
     "text": [
      "1\n"
     ]
    }
   ],
   "source": [
    "print(string.count('ing'))"
   ]
  },
  {
   "cell_type": "code",
   "execution_count": 7,
   "id": "dec15966-2d48-4d1c-8a63-a09406f8e7d3",
   "metadata": {},
   "outputs": [],
   "source": [
    "# find() : 특정문자열 존재여부에 따라 위치 인덱스나 -1 반환"
   ]
  },
  {
   "cell_type": "code",
   "execution_count": 9,
   "id": "e75acee1-93eb-4fe4-b678-7a5ef4823885",
   "metadata": {},
   "outputs": [
    {
     "name": "stdout",
     "output_type": "stream",
     "text": [
      "15\n",
      "-1\n"
     ]
    }
   ],
   "source": [
    "print(string.find('ing'))\n",
    "print(string.find('ong'))"
   ]
  },
  {
   "cell_type": "code",
   "execution_count": 10,
   "id": "e427671c-fa59-43f4-ac95-1cf875747106",
   "metadata": {},
   "outputs": [],
   "source": [
    "# index() "
   ]
  },
  {
   "cell_type": "code",
   "execution_count": 14,
   "id": "ac6400c2-c3ec-45d9-96f6-7eeedcf794e8",
   "metadata": {},
   "outputs": [
    {
     "name": "stdout",
     "output_type": "stream",
     "text": [
      "15\n"
     ]
    }
   ],
   "source": [
    "print(string.index('ing'))\n",
    "# print(string.index('ong'))"
   ]
  },
  {
   "cell_type": "code",
   "execution_count": 15,
   "id": "695ecdc3-a45e-4bfd-901a-61d7e6f335a9",
   "metadata": {},
   "outputs": [],
   "source": [
    "crawling = 'Data crawling is fun.'"
   ]
  },
  {
   "cell_type": "code",
   "execution_count": 16,
   "id": "7f84023a-c2a5-4d40-8303-109cc2d66ebe",
   "metadata": {},
   "outputs": [
    {
     "name": "stdout",
     "output_type": "stream",
     "text": [
      "10\n",
      "14\n",
      "-1\n"
     ]
    }
   ],
   "source": [
    "print(crawling.find('i'))\n",
    "print(crawling.rfind('i'))\n",
    "print(crawling.find('i',1,9))"
   ]
  },
  {
   "cell_type": "code",
   "execution_count": 17,
   "id": "abfbc5a6-6847-4ff8-8f75-a6508e3dec4d",
   "metadata": {},
   "outputs": [
    {
     "name": "stdout",
     "output_type": "stream",
     "text": [
      "10\n",
      "14\n"
     ]
    }
   ],
   "source": [
    "print(crawling.index('i'))\n",
    "print(crawling.rindex('i'))\n",
    "# print(crawling.index('i',1,9)) ValueError: substring not found"
   ]
  },
  {
   "cell_type": "code",
   "execution_count": null,
   "id": "77449042-3d0e-4590-9797-fcb8cd7a9b94",
   "metadata": {},
   "outputs": [],
   "source": []
  }
 ],
 "metadata": {
  "kernelspec": {
   "display_name": "Python Multi",
   "language": "python",
   "name": "multi"
  },
  "language_info": {
   "codemirror_mode": {
    "name": "ipython",
    "version": 3
   },
   "file_extension": ".py",
   "mimetype": "text/x-python",
   "name": "python",
   "nbconvert_exporter": "python",
   "pygments_lexer": "ipython3",
   "version": "3.7.6"
  }
 },
 "nbformat": 4,
 "nbformat_minor": 5
}
