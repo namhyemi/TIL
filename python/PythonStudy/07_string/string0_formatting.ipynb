{
 "cells": [
  {
   "cell_type": "code",
   "execution_count": 1,
   "id": "d0a96afd-37cd-4e39-922e-5f3a937e4b90",
   "metadata": {},
   "outputs": [],
   "source": [
    "# formatting : %d %f %s %c"
   ]
  },
  {
   "cell_type": "code",
   "execution_count": 3,
   "id": "839f10d9-51f2-4c20-98ee-433d17b0dd6a",
   "metadata": {},
   "outputs": [],
   "source": [
    "alphas = 12; digit = 2; height = 179.33; string = 'python'"
   ]
  },
  {
   "cell_type": "code",
   "execution_count": 12,
   "id": "29aa5de2-53fc-4a3c-b650-459ea8e1ed2a",
   "metadata": {},
   "outputs": [
    {
     "name": "stdout",
     "output_type": "stream",
     "text": [
      "문자 : 12개\n",
      "문자 :  12 개\n",
      "문자 : 12개, 숫자 : 2개\n",
      "문자 : 12개, 숫자 : 2개\n",
      "키는 179.3\n",
      "python    \n",
      "    python\n",
      "  python  \n",
      "--python--\n",
      "python    \n",
      "    python\n",
      "  python  \n"
     ]
    }
   ],
   "source": [
    "print('문자 : %d개' %alphas)\n",
    "print('문자 : ', format(alphas,'d'),'개')\n",
    "print(\"문자 : {0}개, 숫자 : {1}개\".format(alphas,digit))\n",
    "print(\"문자 : {alp}개, 숫자 : {dig}개\".format(alp=alphas,dig=digit))\n",
    "print(\"키는 {0:5.1f}\".format(height))\n",
    "print('{0:<10}'.format(string))\n",
    "print('{0:>10}'.format(string))\n",
    "print('{0:^10}'.format(string))\n",
    "print('{0:-^10}'.format(string))\n",
    "print(string.ljust(10))\n",
    "print(string.rjust(10))\n",
    "print(string.center(10))"
   ]
  },
  {
   "cell_type": "code",
   "execution_count": null,
   "id": "61f8982a-3e3e-44b2-8596-075d571e4a51",
   "metadata": {},
   "outputs": [],
   "source": []
  },
  {
   "cell_type": "code",
   "execution_count": 14,
   "id": "2d18c4c8-4dd8-4b0b-be7d-116fb511fa01",
   "metadata": {},
   "outputs": [],
   "source": [
    "from datetime import date, datetime, timedelta"
   ]
  },
  {
   "cell_type": "code",
   "execution_count": 15,
   "id": "ddd0b9c9-f4f8-4a08-bab8-c6c0ac302a09",
   "metadata": {},
   "outputs": [
    {
     "name": "stdout",
     "output_type": "stream",
     "text": [
      "2021\n",
      "6\n",
      "15\n"
     ]
    }
   ],
   "source": [
    "today = date.today()\n",
    "print(today.year)\n",
    "print(today.month)\n",
    "print(today.day)"
   ]
  },
  {
   "cell_type": "code",
   "execution_count": 19,
   "id": "033201f9-eadd-4478-9087-e6c1e9449bc1",
   "metadata": {},
   "outputs": [
    {
     "name": "stdout",
     "output_type": "stream",
     "text": [
      "23:10:29.037496\n",
      "23\n",
      "10\n",
      "29\n",
      "37496\n",
      "2021-06-14\n",
      "2021-06-22\n",
      "2021-06-15 00:00:00\n"
     ]
    }
   ],
   "source": [
    "cur_time = datetime.now().time()\n",
    "print(cur_time)\n",
    "print(cur_time.hour)\n",
    "print(cur_time.minute)\n",
    "print(cur_time.second)\n",
    "print(cur_time.microsecond)\n",
    "\n",
    "print(today+timedelta(days=-1))\n",
    "print(today+timedelta(days=7))\n",
    "\n",
    "print(today.strftime(('%Y-%m-%d %H:%M:%S')))"
   ]
  },
  {
   "cell_type": "code",
   "execution_count": null,
   "id": "6b2c4226-d3f5-414d-aca6-f558ac6fa44f",
   "metadata": {},
   "outputs": [],
   "source": []
  }
 ],
 "metadata": {
  "kernelspec": {
   "display_name": "Python Multi",
   "language": "python",
   "name": "multi"
  },
  "language_info": {
   "codemirror_mode": {
    "name": "ipython",
    "version": 3
   },
   "file_extension": ".py",
   "mimetype": "text/x-python",
   "name": "python",
   "nbconvert_exporter": "python",
   "pygments_lexer": "ipython3",
   "version": "3.7.6"
  }
 },
 "nbformat": 4,
 "nbformat_minor": 5
}
