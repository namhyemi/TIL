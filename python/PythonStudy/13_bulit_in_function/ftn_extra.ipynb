{
 "cells": [
  {
   "cell_type": "code",
   "execution_count": 2,
   "id": "36e87fb8-f37a-40f0-a1ca-d9a80be0d349",
   "metadata": {},
   "outputs": [
    {
     "name": "stdout",
     "output_type": "stream",
     "text": [
      "hahahahaha"
     ]
    }
   ],
   "source": [
    "# 재귀함수\n",
    "\n",
    "# def selfCall():\n",
    "#     print('ha', end='')\n",
    "#     selfCall()\n",
    "\n",
    "def selfCall(num):\n",
    "    if num == 0:\n",
    "        return\n",
    "    else:\n",
    "        print('ha', end='')\n",
    "        selfCall(num-1)\n",
    "\n",
    "selfCall(5)"
   ]
  },
  {
   "cell_type": "code",
   "execution_count": 3,
   "id": "3c570558-0a58-4541-8f64-19dae5e13fc5",
   "metadata": {},
   "outputs": [
    {
     "name": "stdout",
     "output_type": "stream",
     "text": [
      "120\n"
     ]
    }
   ],
   "source": [
    "# 팩토리얼 계산\n",
    "def fact(num):\n",
    "    if num==1 :\n",
    "        return 1\n",
    "    else:\n",
    "        return num*fact(num-1)\n",
    "print(fact(5))"
   ]
  },
  {
   "cell_type": "code",
   "execution_count": 8,
   "id": "21e92448-291e-4bb0-ba74-3ef2503b24f6",
   "metadata": {},
   "outputs": [
    {
     "name": "stdout",
     "output_type": "stream",
     "text": [
      "24 23 22 21 20 19 18 17 16 15 14 13 12 11 10 9 8 7 6 5 4 3 2 1\n"
     ]
    }
   ],
   "source": [
    "# 실습: 자연수를 입력받으면 해당하는 자연수까지 출력하는 재귀함수\n",
    "# 24 입력하면 24~1으로 출력\n",
    "\n",
    "# def count(num):\n",
    "#     pass\n",
    "\n",
    "# def count(num):\n",
    "#     if num == 0:\n",
    "#         return True\n",
    "#     else:\n",
    "#         print(num, end=' ')\n",
    "#         return count(num-1)\n",
    "\n",
    "def count(num):\n",
    "    if num == 1:\n",
    "        return print(1)\n",
    "    else:\n",
    "        print(num, end=' ')\n",
    "        return count(num-1)\n",
    "\n",
    "count(24)"
   ]
  },
  {
   "cell_type": "code",
   "execution_count": 10,
   "id": "bfd0aae8-169c-40e2-afac-2d3702ee67e0",
   "metadata": {},
   "outputs": [
    {
     "name": "stdout",
     "output_type": "stream",
     "text": [
      "30\n"
     ]
    }
   ],
   "source": [
    "# 내부함수 : 함수 내에서 정의된 함수\n",
    "def outFunc(x, y):\n",
    "    def inFunc(a, b):\n",
    "        return a + b\n",
    "    return inFunc(x, y)\n",
    "\n",
    "print(outFunc(10, 20))\n",
    "# print(inFunc(10,20))"
   ]
  },
  {
   "cell_type": "code",
   "execution_count": null,
   "id": "d1232a51-9cf8-483e-a2c9-93bed5bdc72b",
   "metadata": {},
   "outputs": [],
   "source": [
    "# lambda 함수(표현식)\n",
    "# 방법1.\n",
    "#   (lambda 매개변수들: 식)(인수들)\n",
    "\n",
    "# 방법2.\n",
    "#  객체명 = lambda 매개변수들: 식\n",
    "#  객체명(인수들)"
   ]
  },
  {
   "cell_type": "code",
   "execution_count": 11,
   "id": "debf10c3-69fc-4724-8919-988efee6d637",
   "metadata": {},
   "outputs": [
    {
     "name": "stdout",
     "output_type": "stream",
     "text": [
      "60\n"
     ]
    }
   ],
   "source": [
    "def hap(x,y):\n",
    "    return x+y\n",
    "\n",
    "print(hap(10,50))"
   ]
  },
  {
   "cell_type": "code",
   "execution_count": 12,
   "id": "6a0eadf4-4e76-41b5-a4d7-1dedae80eb84",
   "metadata": {},
   "outputs": [
    {
     "name": "stdout",
     "output_type": "stream",
     "text": [
      "60\n",
      "15\n"
     ]
    }
   ],
   "source": [
    "print((lambda x, y:x+y)(10,50))\n",
    "\n",
    "hap2 = lambda x, y:x+y\n",
    "print(hap2(5, 10))"
   ]
  },
  {
   "cell_type": "code",
   "execution_count": 13,
   "id": "848ab423-c9a9-4470-a24a-8f62e11e0d3f",
   "metadata": {},
   "outputs": [
    {
     "name": "stdout",
     "output_type": "stream",
     "text": [
      "30\n",
      "130\n"
     ]
    }
   ],
   "source": [
    "def hap(x=10,y=20):\n",
    "    return x+y\n",
    "print(hap())\n",
    "print(hap(30, 100))"
   ]
  },
  {
   "cell_type": "code",
   "execution_count": 15,
   "id": "82f2b22c-4b9c-464a-acb2-b72d58cc2f72",
   "metadata": {},
   "outputs": [
    {
     "name": "stdout",
     "output_type": "stream",
     "text": [
      "30\n",
      "19\n"
     ]
    }
   ],
   "source": [
    "hap3 = lambda x=10, y=20 : x+y\n",
    "print(hap3())\n",
    "print(hap3(9,10))"
   ]
  },
  {
   "cell_type": "code",
   "execution_count": 19,
   "id": "6a8f77f6-b677-47ff-bfeb-58cbdd6997a2",
   "metadata": {},
   "outputs": [
    {
     "name": "stdout",
     "output_type": "stream",
     "text": [
      "11\n"
     ]
    }
   ],
   "source": [
    "# # 람다함수 안에서 변수를 생성할 수 없다\n",
    "# print((lambda x: y=10, x+y)(10))\n",
    "y=10\n",
    "print((lambda x: x+y)(1))"
   ]
  },
  {
   "cell_type": "code",
   "execution_count": 20,
   "id": "d2333d1e-bcc6-4b44-8013-8ec70fefea14",
   "metadata": {},
   "outputs": [
    {
     "name": "stdout",
     "output_type": "stream",
     "text": [
      "[11, 13, 14]\n",
      "[11, 13, 14]\n"
     ]
    }
   ],
   "source": [
    "# 람다함수 list 사용\n",
    "# 리스트의 값에 각각 10을 더하는 람다함수를 작성\n",
    "def addTen(x):\n",
    "    return x + 10\n",
    "# myL = [1,3,4]\n",
    "print(list(map(addTen, [1,3,4])))\n",
    "print(list(map(lambda x:x+10, [1,3,4])))"
   ]
  },
  {
   "cell_type": "code",
   "execution_count": null,
   "id": "f899db58-7b1f-4000-8ae3-995bb21ed81f",
   "metadata": {},
   "outputs": [],
   "source": [
    "# 실습문제. 두개의 리스트의 같은 요소의 값들을 더해서 하나의 리스트로 반환\n",
    "# 1) def 함수 정의\n",
    "# 2) lambda 표현식 정의"
   ]
  },
  {
   "cell_type": "code",
   "execution_count": 41,
   "id": "f9914b57-cb87-4af8-8ffc-44c4f6613fc6",
   "metadata": {},
   "outputs": [
    {
     "name": "stdout",
     "output_type": "stream",
     "text": [
      "[11, 22, 33, 44]\n"
     ]
    }
   ],
   "source": [
    "list1 = [1,2,3,4]\n",
    "list2 = [10,20,30,40]\n",
    "\n",
    "# 1) def 함수 정의\n",
    "def addList(x,y):\n",
    "    return x+y\n",
    "\n",
    "list3 = list(map(addList,list1,list2))\n",
    "print(list3)"
   ]
  },
  {
   "cell_type": "code",
   "execution_count": 24,
   "id": "e2fd3da0-97df-4697-99cb-f996fc08ee1c",
   "metadata": {},
   "outputs": [
    {
     "name": "stdout",
     "output_type": "stream",
     "text": [
      "[11, 22, 33, 44]\n"
     ]
    }
   ],
   "source": [
    "# 2) Lamda 표현식 정의\n",
    "#y = [10,20,30,40]\n",
    "print(list(map(lambda x,y: (x + y),[1,2,3,4],[10,20,30,40])))"
   ]
  },
  {
   "cell_type": "code",
   "execution_count": 25,
   "id": "57aaf1a9-7230-4676-93a6-16a4b324bc50",
   "metadata": {},
   "outputs": [
    {
     "name": "stdout",
     "output_type": "stream",
     "text": [
      "[11, 22, 33, 44]\n"
     ]
    }
   ],
   "source": [
    "def addList(x, y):\n",
    "    newList = []\n",
    "\n",
    "    for i in range(len(x)):\n",
    "        newList.append(x[i] + y[i])\n",
    "\n",
    "    return print(newList)\n",
    "\n",
    "addList(list1, list2)"
   ]
  },
  {
   "cell_type": "code",
   "execution_count": 23,
   "id": "07d91bce-f9b6-460b-a651-cd1c32f8636d",
   "metadata": {},
   "outputs": [
    {
     "name": "stdout",
     "output_type": "stream",
     "text": [
      "[11, 22, 33, 44]\n",
      "[11, 22, 33, 44]\n"
     ]
    }
   ],
   "source": [
    "# 2) Lambda 표현식 정의\n",
    "newList = list(map(lambda x, y: x + y,list1, list2))\n",
    "print(newList)\n",
    "\n",
    "def hap(a, b):\n",
    "    return [x + y for x, y in zip(a, b)]\n",
    "\n",
    "print(hap(list1, list2))"
   ]
  },
  {
   "cell_type": "code",
   "execution_count": null,
   "id": "43c405d2-1d3c-4f4a-9e4f-e2e9c93a86b4",
   "metadata": {},
   "outputs": [],
   "source": []
  }
 ],
 "metadata": {
  "kernelspec": {
   "display_name": "python Multi",
   "language": "python",
   "name": "multi"
  },
  "language_info": {
   "codemirror_mode": {
    "name": "ipython",
    "version": 3
   },
   "file_extension": ".py",
   "mimetype": "text/x-python",
   "name": "python",
   "nbconvert_exporter": "python",
   "pygments_lexer": "ipython3",
   "version": "3.7.6"
  }
 },
 "nbformat": 4,
 "nbformat_minor": 5
}
