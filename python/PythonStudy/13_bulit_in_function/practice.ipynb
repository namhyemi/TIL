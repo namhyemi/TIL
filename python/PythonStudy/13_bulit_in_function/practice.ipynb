{
 "cells": [
  {
   "cell_type": "code",
   "execution_count": 1,
   "id": "b82d94b0-9632-467c-b2ce-05b762f149b4",
   "metadata": {},
   "outputs": [
    {
     "name": "stdout",
     "output_type": "stream",
     "text": [
      "[(0, 'apple'), (1, 'banana'), (2, 'grape')]\n"
     ]
    }
   ],
   "source": [
    "#1.\n",
    "mylist = ['apple' ,'banana', 'grape']\n",
    "result = list(enumerate(mylist))\n",
    "print(result)"
   ]
  },
  {
   "cell_type": "code",
   "execution_count": 2,
   "id": "fe3497e6-323b-4903-99e8-ca2879ca7c24",
   "metadata": {},
   "outputs": [
    {
     "name": "stdout",
     "output_type": "stream",
     "text": [
      "{'my': 5, 'cat': 6, 'has': 2, 'blue': 3, 'eyes,': 4, 'is': 7, 'cute': 8}\n"
     ]
    }
   ],
   "source": [
    "#2\n",
    "cat_song = \"my cat has blue eyes, my cat is cute\"\n",
    "print({i:j for j,i in enumerate(cat_song.split())})"
   ]
  },
  {
   "cell_type": "code",
   "execution_count": 4,
   "id": "9679f9c6-6c8b-4011-ba7d-13c57e2929b8",
   "metadata": {},
   "outputs": [
    {
     "name": "stdout",
     "output_type": "stream",
     "text": [
      "orange&pink&brown&black&white\n"
     ]
    }
   ],
   "source": [
    "#3\n",
    "colors = ['orange', 'pink', 'brown', 'black', 'white']\n",
    "result = '&'.join(colors)\n",
    "print(result)"
   ]
  },
  {
   "cell_type": "code",
   "execution_count": 5,
   "id": "0a133cf1-3333-44ee-aec0-ba4661349379",
   "metadata": {},
   "outputs": [
    {
     "name": "stdout",
     "output_type": "stream",
     "text": [
      "{'students': 0, 'superuser': 1, 'professor': 2, 'employee': 3}\n"
     ]
    }
   ],
   "source": [
    "#4.\n",
    "user_dict = {}\n",
    "user_list = [\"students\",\"superuser\", \"professor\", \"employee\"]\n",
    "for value_1, value_2 in enumerate(user_list):\n",
    "    user_dict[value_2] = value_1\n",
    "print(user_dict)"
   ]
  },
  {
   "cell_type": "code",
   "execution_count": 6,
   "id": "e605601d-7cf5-4ee5-9ac4-239be8132b4d",
   "metadata": {},
   "outputs": [
    {
     "name": "stdout",
     "output_type": "stream",
     "text": [
      "[0, 2, 4, 6, 8]\n"
     ]
    }
   ],
   "source": [
    "#5.\n",
    "result = [i for i in range(10) if i%2 == 0]\n",
    "print(result)"
   ]
  },
  {
   "cell_type": "code",
   "execution_count": 7,
   "id": "38f7d511-1f90-49bf-8b82-510c8a1b4197",
   "metadata": {},
   "outputs": [
    {
     "name": "stdout",
     "output_type": "stream",
     "text": [
      "['zero one ', ' three']\n"
     ]
    }
   ],
   "source": [
    "items = 'zero one two three'.split(\"two\")\n",
    "print(items)"
   ]
  },
  {
   "cell_type": "code",
   "execution_count": 8,
   "id": "364da70b-a79f-4bee-8b89-39ac805664dc",
   "metadata": {},
   "outputs": [
    {
     "name": "stdout",
     "output_type": "stream",
     "text": [
      "[0, 1, 2, 3, 4, 5, 6, 7, 8, 9]\n"
     ]
    }
   ],
   "source": [
    "result =[i for i in range(10)]\n",
    "print(result)"
   ]
  },
  {
   "cell_type": "code",
   "execution_count": 9,
   "id": "c658bc17-ef3d-47c6-9c7c-1cc1fa701cd6",
   "metadata": {},
   "outputs": [
    {
     "name": "stdout",
     "output_type": "stream",
     "text": [
      "['zero', 'one', 'two', 'three']\n"
     ]
    }
   ],
   "source": [
    "items ='zero one two three'.split()\n",
    "print(items)"
   ]
  },
  {
   "cell_type": "code",
   "execution_count": 10,
   "id": "3485811a-fdd3-4f3f-8c26-2ec9489e94d5",
   "metadata": {},
   "outputs": [
    {
     "name": "stdout",
     "output_type": "stream",
     "text": [
      "cs50\n"
     ]
    }
   ],
   "source": [
    "example = 'cs50.gachon.edu'\n",
    "subdomain, domain, tld = example.split('.')\n",
    "print(subdomain)"
   ]
  },
  {
   "cell_type": "code",
   "execution_count": 11,
   "id": "aba3801e-550f-4e0b-a22b-f8253c15b009",
   "metadata": {},
   "outputs": [
    {
     "name": "stdout",
     "output_type": "stream",
     "text": [
      "['Cat', 'Panda', 'Owl']\n"
     ]
    }
   ],
   "source": [
    "#6\n",
    "animal = ['Fox', 'Dog', 'Cat', 'Monkey', 'Horse', 'Panda', 'Owl']\n",
    "print([ani for ani in animal if 'o' not in ani])"
   ]
  },
  {
   "cell_type": "code",
   "execution_count": 12,
   "id": "2c07947a-d067-419a-a743-ebc2717eefaa",
   "metadata": {},
   "outputs": [
    {
     "name": "stdout",
     "output_type": "stream",
     "text": [
      "HongGilDong\n",
      "DongUniversity\n"
     ]
    }
   ],
   "source": [
    "#7\n",
    "name = \"Hanbit University\"\n",
    "student = [\"Hong\", \"Gil\", \"Dong\"]\n",
    "split_name = name.split()\n",
    "join_student = ''.join(student)\n",
    "print(join_student)\n",
    "print(join_student[-4:] + split_name[1])"
   ]
  },
  {
   "cell_type": "code",
   "execution_count": 13,
   "id": "bd803088-8d0d-4cf8-920d-34d698ff2de1",
   "metadata": {},
   "outputs": [
    {
     "name": "stdout",
     "output_type": "stream",
     "text": [
      "20\n"
     ]
    }
   ],
   "source": [
    "#8\n",
    "kor_score = [49, 79, 20, 100, 80]\n",
    "math_score = [43, 59, 85, 30, 90]\n",
    "eng_score = [49, 79, 48, 60, 100]\n",
    "midterm_score = [kor_score, math_score, eng_score]\n",
    "print(midterm_score[0][2])"
   ]
  },
  {
   "cell_type": "code",
   "execution_count": 14,
   "id": "401dcbbd-91a3-41df-82df-eb389e4651b2",
   "metadata": {},
   "outputs": [
    {
     "name": "stdout",
     "output_type": "stream",
     "text": [
      "[[12, 3], [15, 3]]\n"
     ]
    }
   ],
   "source": [
    "#9\n",
    "a = [1, 2, 3]\n",
    "b = [4, 5, ]\n",
    "c = [7, 8, 9]\n",
    "print([[sum(k), len(k)] for k in zip(a, b, c)])"
   ]
  },
  {
   "cell_type": "code",
   "execution_count": 15,
   "id": "96e16ea5-27b0-4a76-9aff-0abfa9509253",
   "metadata": {},
   "outputs": [
    {
     "name": "stdout",
     "output_type": "stream",
     "text": [
      "yellow\n"
     ]
    }
   ],
   "source": [
    "#10\n",
    "week = ['mon', 'tue', 'wed', 'thu', 'fri', 'sat', 'sun']\n",
    "rainbow = ['red', 'orange', 'yellow', 'green', 'blue', 'navy', 'purple']\n",
    "list_data = [week, rainbow]\n",
    "\n",
    "print(list_data[1][2])"
   ]
  },
  {
   "cell_type": "code",
   "execution_count": 16,
   "id": "54e0efb6-619a-4c8a-be77-7481cc6cad3a",
   "metadata": {},
   "outputs": [
    {
     "name": "stdout",
     "output_type": "stream",
     "text": [
      "score: 72\n"
     ]
    }
   ],
   "source": [
    "#11\n",
    "kor_score = [30, 79, 20, 100, 80]\n",
    "math_score = [43, 59, 0, 30, 90]\n",
    "eng_score = [49, 72, 48, 67, 15]\n",
    "midterm_score = [kor_score, math_score, eng_score]\n",
    "print (\"score:\",midterm_score[2][1])"
   ]
  },
  {
   "cell_type": "code",
   "execution_count": 17,
   "id": "392cef70-7e22-40a7-94ce-3797b1663e8c",
   "metadata": {},
   "outputs": [
    {
     "name": "stdout",
     "output_type": "stream",
     "text": [
      "0 ('a', '1')\n",
      "1 ('b', '2')\n",
      "2 ('c', '3')\n",
      "['a', '2', 'error']\n"
     ]
    }
   ],
   "source": [
    "#12\n",
    "alist = [\"a\", \"b\", \"c\"]\n",
    "blist = [\"1\", \"2\", \"3\"]\n",
    "abcd= []\n",
    "\n",
    "for a, b in enumerate(zip(alist, blist)):\n",
    "    try:\n",
    "        print(a,b)\n",
    "        abcd.append(b[a])\n",
    "    except IndexError:\n",
    "        abcd.append(\"error\")\n",
    "\n",
    "print(abcd)"
   ]
  },
  {
   "cell_type": "code",
   "execution_count": 21,
   "id": "793781ac-ad11-4657-a0f9-754872330eee",
   "metadata": {},
   "outputs": [
    {
     "name": "stdout",
     "output_type": "stream",
     "text": [
      "a1 b1\n",
      "a2 b2\n",
      "a3 b3\n"
     ]
    }
   ],
   "source": [
    "#13\n",
    "alist = ['a1', 'a2', 'a3']\n",
    "blist = ['b1', 'b2' ,'b3']\n",
    "for a,b in zip(alist, blist):\n",
    "        print(a, b)"
   ]
  },
  {
   "cell_type": "code",
   "execution_count": 22,
   "id": "d3b912f2-39ff-4bdc-a8df-2b10d89edc4b",
   "metadata": {},
   "outputs": [
    {
     "name": "stdout",
     "output_type": "stream",
     "text": [
      "['a0', 'a2', 'a4', 'a6', 'a8', 'a10', 'a12', 'a14', 'a16', 'a18', 'b0', 'b2', 'b4', 'b6', 'b8', 'b10', 'b12', 'b14', 'b16', 'b18', 'c0', 'c2', 'c4', 'c6', 'c8', 'c10', 'c12', 'c14', 'c16', 'c18', 'd0', 'd2', 'd4', 'd6', 'd8', 'd10', 'd12', 'd14', 'd16', 'd18', 'e0', 'e2', 'e4', 'e6', 'e8', 'e10', 'e12', 'e14', 'e16', 'e18', 'f0', 'f2', 'f4', 'f6', 'f8', 'f10', 'f12', 'f14', 'f16', 'f18', 'g0', 'g2', 'g4', 'g6', 'g8', 'g10', 'g12', 'g14', 'g16', 'g18', 'h0', 'h2', 'h4', 'h6', 'h8', 'h10', 'h12', 'h14', 'h16', 'h18']\n",
      "80\n"
     ]
    }
   ],
   "source": [
    "#14\n",
    "alphabet = [\"a\", \"b\", \"c\", \"d\", \"e\", \"f\", \"g\", \"h\"]\n",
    "nums = [i for i in range(20)]\n",
    "answer = [alpha+str(num) for alpha in alphabet for num in nums if num%2==0]\n",
    "print(answer)\n",
    "print(len(answer))"
   ]
  },
  {
   "cell_type": "code",
   "execution_count": null,
   "id": "c57af6d3-c36d-4285-a555-c08c3f8fa42b",
   "metadata": {},
   "outputs": [],
   "source": []
  }
 ],
 "metadata": {
  "kernelspec": {
   "display_name": "python Multi",
   "language": "python",
   "name": "multi"
  },
  "language_info": {
   "codemirror_mode": {
    "name": "ipython",
    "version": 3
   },
   "file_extension": ".py",
   "mimetype": "text/x-python",
   "name": "python",
   "nbconvert_exporter": "python",
   "pygments_lexer": "ipython3",
   "version": "3.7.6"
  }
 },
 "nbformat": 4,
 "nbformat_minor": 5
}
