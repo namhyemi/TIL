{
 "cells": [
  {
   "cell_type": "code",
   "execution_count": 1,
   "id": "f2cc9dea-33d9-4ae7-923b-6852c1f7e586",
   "metadata": {},
   "outputs": [
    {
     "name": "stdout",
     "output_type": "stream",
     "text": [
      "False\n",
      "True\n",
      "False\n",
      "False\n"
     ]
    }
   ],
   "source": [
    "# any(), all()\n",
    "print(all([0,1,2,3]))\n",
    "print(any([0,1,0]))\n",
    "print(any([0,'',0]))\n",
    "print(any([0,[],0]))"
   ]
  },
  {
   "cell_type": "code",
   "execution_count": 2,
   "id": "0a27b94a-a49d-4d4b-a289-a6a2c5ebcbb0",
   "metadata": {},
   "outputs": [
    {
     "name": "stdout",
     "output_type": "stream",
     "text": [
      "A\n",
      "a\n"
     ]
    }
   ],
   "source": [
    "# ascii code value : chr(x)\n",
    "print(chr(65)) # A\n",
    "print(chr(97)) # a"
   ]
  },
  {
   "cell_type": "code",
   "execution_count": 3,
   "id": "ea09fba2-6411-4a03-ba25-de1909d8cc01",
   "metadata": {},
   "outputs": [
    {
     "name": "stdout",
     "output_type": "stream",
     "text": [
      "97\n",
      "10\n",
      "32\n",
      "9\n",
      "92\n"
     ]
    }
   ],
   "source": [
    "# ord(c)\n",
    "print(ord('a'))\n",
    "print(ord('\\n'))\n",
    "print(ord(' '))\n",
    "print(ord('\\t'))\n",
    "print(ord('\\\\'))"
   ]
  },
  {
   "cell_type": "code",
   "execution_count": 4,
   "id": "b897615a-7be8-4cfa-a681-cb12d9a5bfe6",
   "metadata": {},
   "outputs": [
    {
     "name": "stdout",
     "output_type": "stream",
     "text": [
      "(2, 1)\n"
     ]
    }
   ],
   "source": [
    "# divmod(a, b)\n",
    "print(divmod(7,3)) # 몫, 나머지"
   ]
  },
  {
   "cell_type": "code",
   "execution_count": 7,
   "id": "620d63c8-5a88-4e1f-9e7d-b221fdf949cd",
   "metadata": {},
   "outputs": [
    {
     "name": "stdout",
     "output_type": "stream",
     "text": [
      "13.5\n",
      "<class 'float'>\n",
      "8\n",
      "<class 'int'>\n"
     ]
    }
   ],
   "source": [
    "# eval(expression)\n",
    "print(eval('13.5'))\n",
    "print(type(eval('13.5')))\n",
    "print(eval('3+5'))\n",
    "print(type(eval('3+5')))"
   ]
  },
  {
   "cell_type": "code",
   "execution_count": 6,
   "id": "73a8a9c4-cb51-453f-a0c6-67ea30d53540",
   "metadata": {},
   "outputs": [
    {
     "name": "stdout",
     "output_type": "stream",
     "text": [
      "Help on built-in function print in module builtins:\n",
      "\n",
      "print(...)\n",
      "    print(value, ..., sep=' ', end='\\n', file=sys.stdout, flush=False)\n",
      "    \n",
      "    Prints the values to a stream, or to sys.stdout by default.\n",
      "    Optional keyword arguments:\n",
      "    file:  a file-like object (stream); defaults to the current sys.stdout.\n",
      "    sep:   string inserted between values, default a space.\n",
      "    end:   string appended after the last value, default a newline.\n",
      "    flush: whether to forcibly flush the stream.\n",
      "\n",
      "Help on built-in function sum in module builtins:\n",
      "\n",
      "sum(iterable, start=0, /)\n",
      "    Return the sum of a 'start' value (default: 0) plus an iterable of numbers\n",
      "    \n",
      "    When the iterable is empty, return the start value.\n",
      "    This function is intended specifically for use with numeric values and may\n",
      "    reject non-numeric types.\n",
      "\n"
     ]
    }
   ],
   "source": [
    "# help()\n",
    "help(print)\n",
    "help(sum)"
   ]
  },
  {
   "cell_type": "code",
   "execution_count": null,
   "id": "6bfe4b1f-6a12-49f2-81b6-4d40e371e91a",
   "metadata": {},
   "outputs": [],
   "source": []
  }
 ],
 "metadata": {
  "kernelspec": {
   "display_name": "python Multi",
   "language": "python",
   "name": "multi"
  },
  "language_info": {
   "codemirror_mode": {
    "name": "ipython",
    "version": 3
   },
   "file_extension": ".py",
   "mimetype": "text/x-python",
   "name": "python",
   "nbconvert_exporter": "python",
   "pygments_lexer": "ipython3",
   "version": "3.7.6"
  }
 },
 "nbformat": 4,
 "nbformat_minor": 5
}
