{
 "cells": [
  {
   "cell_type": "code",
   "execution_count": 1,
   "id": "e1feb0ad-b04c-4f3d-9ecb-2798bc7d898a",
   "metadata": {},
   "outputs": [],
   "source": [
    "# 현금이 5000원이 있고, 사탕 가격이 120원인 경우\n",
    "# 최대한 살 수 있는 사탕의 개와 나머지 돈은 얼마인가?"
   ]
  },
  {
   "cell_type": "code",
   "execution_count": 5,
   "id": "d3d25ff1-59d4-4237-99bf-bfea4078a59e",
   "metadata": {},
   "outputs": [
    {
     "name": "stdout",
     "output_type": "stream",
     "text": [
      "사탕 개수는 41개이고 나머지 돈은 80원이다\n"
     ]
    }
   ],
   "source": [
    "money = 5000\n",
    "candy = 120\n",
    "\n",
    "num = money // candy\n",
    "res = money % candy\n",
    "\n",
    "print('사탕 개수는 {}개이고 나머지 돈은 {}원이다'.format(num, res))"
   ]
  },
  {
   "cell_type": "code",
   "execution_count": null,
   "id": "108aae7e-f0da-452d-b100-09d5f9926896",
   "metadata": {},
   "outputs": [],
   "source": []
  }
 ],
 "metadata": {
  "kernelspec": {
   "display_name": "Python Multi",
   "language": "python",
   "name": "multi"
  },
  "language_info": {
   "codemirror_mode": {
    "name": "ipython",
    "version": 3
   },
   "file_extension": ".py",
   "mimetype": "text/x-python",
   "name": "python",
   "nbconvert_exporter": "python",
   "pygments_lexer": "ipython3",
   "version": "3.7.6"
  }
 },
 "nbformat": 4,
 "nbformat_minor": 5
}
