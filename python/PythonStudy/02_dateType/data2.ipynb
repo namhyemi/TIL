{
 "cells": [
  {
   "cell_type": "code",
   "execution_count": 1,
   "id": "01bc7f29-7267-4610-b082-cd5bfb6503a0",
   "metadata": {},
   "outputs": [],
   "source": [
    "# eval() : 입력된 문자열에 해당하는 숫자형으로 변환\n",
    "# int() : 정수형\n",
    "# float() : 실수형\n",
    "# str() : 문자형"
   ]
  },
  {
   "cell_type": "raw",
   "id": "110136cd-16cb-41d7-8059-0091cfcf46ed",
   "metadata": {},
   "source": [
    "num1 = eval(input('number1 :'))\n",
    "num2 = eval(input('number1 :'))\n",
    "total = num1 + num2\n",
    "print('num1 + num2 = {}'.format(total))\n",
    "print('num1 type:',type(num1))\n",
    "print('num2 type:',type(num2))"
   ]
  },
  {
   "cell_type": "code",
   "execution_count": null,
   "id": "26ad6437-6e62-4185-bdbb-d985435f554a",
   "metadata": {},
   "outputs": [],
   "source": []
  },
  {
   "cell_type": "code",
   "execution_count": 2,
   "id": "f4a7d7e0-fbe8-498b-b367-8b92d7141d2e",
   "metadata": {},
   "outputs": [],
   "source": [
    "# = : assign"
   ]
  },
  {
   "cell_type": "code",
   "execution_count": 3,
   "id": "dfd318ef-a2c3-4d42-9092-a2c97fa0a98c",
   "metadata": {},
   "outputs": [],
   "source": [
    "# print() : 출력 \n",
    "# input() : 입력\n",
    "# format() : 출력 포맷\n",
    "# type() : 타입\n",
    "# id() : 주소\n",
    "# del : 변수 삭제"
   ]
  },
  {
   "cell_type": "code",
   "execution_count": 4,
   "id": "178322cc-ac0d-4498-88d1-2e9705cfbb46",
   "metadata": {},
   "outputs": [],
   "source": [
    "# escape : \\n, \\t, \\\\, \\\" \\'"
   ]
  },
  {
   "cell_type": "code",
   "execution_count": 5,
   "id": "69fefbbb-38ab-438f-a614-27bfd618f81a",
   "metadata": {},
   "outputs": [],
   "source": [
    "# r \\n"
   ]
  },
  {
   "cell_type": "code",
   "execution_count": null,
   "id": "323ed1bd-60cc-4f36-ab36-c5611ece0e4d",
   "metadata": {},
   "outputs": [],
   "source": []
  }
 ],
 "metadata": {
  "kernelspec": {
   "display_name": "Python Multi",
   "language": "python",
   "name": "multi"
  },
  "language_info": {
   "codemirror_mode": {
    "name": "ipython",
    "version": 3
   },
   "file_extension": ".py",
   "mimetype": "text/x-python",
   "name": "python",
   "nbconvert_exporter": "python",
   "pygments_lexer": "ipython3",
   "version": "3.7.6"
  }
 },
 "nbformat": 4,
 "nbformat_minor": 5
}
