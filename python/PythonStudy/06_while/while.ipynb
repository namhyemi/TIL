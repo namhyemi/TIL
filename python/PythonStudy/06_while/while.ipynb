{
 "cells": [
  {
   "cell_type": "code",
   "execution_count": 1,
   "id": "32c94bc2-6454-447e-be37-553eaf7817f5",
   "metadata": {},
   "outputs": [],
   "source": [
    "# while 구문 이해 : 조건이 만족하는(True)동안만 반복문을 수행"
   ]
  },
  {
   "cell_type": "code",
   "execution_count": 2,
   "id": "e1e72acb-47d0-4fd5-9629-8ed98bf9b4a9",
   "metadata": {},
   "outputs": [
    {
     "name": "stdout",
     "output_type": "stream",
     "text": [
      "10 9 8 7 6 5 4 3 2 1 "
     ]
    }
   ],
   "source": [
    "# 1~10 까지의 정수를 출력\n",
    "\n",
    "num = 10\n",
    "\n",
    "while num:\n",
    "    print(num, end=' ')\n",
    "    num -= 1\n",
    "    \n",
    "# n = 1\n",
    "# while num < 10:\n",
    "#      print(num, end=' ')\n",
    "#      num += 1"
   ]
  },
  {
   "cell_type": "code",
   "execution_count": null,
   "id": "6870551e-1cf1-463a-a4c8-b00854eab282",
   "metadata": {},
   "outputs": [],
   "source": []
  },
  {
   "cell_type": "code",
   "execution_count": 3,
   "id": "83550f13-fe2d-4518-a21c-41bec7a238c7",
   "metadata": {},
   "outputs": [],
   "source": [
    "# continue문"
   ]
  },
  {
   "cell_type": "code",
   "execution_count": 6,
   "id": "54e82483-04a7-4044-9827-64b82c465795",
   "metadata": {},
   "outputs": [
    {
     "name": "stdout",
     "output_type": "stream",
     "text": [
      "2\n",
      "4\n",
      "6\n",
      "8\n",
      "10\n"
     ]
    }
   ],
   "source": [
    "x = 0\n",
    "while x < 10:\n",
    "    x += 1\n",
    "    if x % 2 != 0: # 홀수\n",
    "        continue\n",
    "    print(x)"
   ]
  },
  {
   "cell_type": "code",
   "execution_count": null,
   "id": "3cfacf9b-d34f-4301-a1a9-52012bcf2ee1",
   "metadata": {},
   "outputs": [],
   "source": []
  },
  {
   "cell_type": "code",
   "execution_count": 7,
   "id": "fbf63a13-1f79-417f-8822-7f3a8ee5c5f0",
   "metadata": {},
   "outputs": [],
   "source": [
    "# 무한반복(loop) & break"
   ]
  },
  {
   "cell_type": "code",
   "execution_count": 11,
   "id": "5bfb95a8-4181-4374-a700-f18993f93ae3",
   "metadata": {},
   "outputs": [
    {
     "name": "stdout",
     "output_type": "stream",
     "text": [
      "반복시작\n"
     ]
    },
    {
     "name": "stdin",
     "output_type": "stream",
     "text": [
      "반복중. 종료하려면 x 입력: 1\n",
      "반복중. 종료하려면 x 입력: 2\n",
      "반복중. 종료하려면 x 입력: x\n"
     ]
    },
    {
     "name": "stdout",
     "output_type": "stream",
     "text": [
      "반복종료\n"
     ]
    }
   ],
   "source": [
    "print(\"반복시작\")\n",
    "while True:\n",
    "    answer = input('반복중. 종료하려면 x 입력:')\n",
    "    if answer == 'x':\n",
    "        break\n",
    "print(\"반복종료\")"
   ]
  },
  {
   "cell_type": "code",
   "execution_count": null,
   "id": "31e39a26-b76c-4056-9b97-0ce3b4b4ee74",
   "metadata": {},
   "outputs": [],
   "source": []
  }
 ],
 "metadata": {
  "kernelspec": {
   "display_name": "Python Multi",
   "language": "python",
   "name": "multi"
  },
  "language_info": {
   "codemirror_mode": {
    "name": "ipython",
    "version": 3
   },
   "file_extension": ".py",
   "mimetype": "text/x-python",
   "name": "python",
   "nbconvert_exporter": "python",
   "pygments_lexer": "ipython3",
   "version": "3.7.6"
  }
 },
 "nbformat": 4,
 "nbformat_minor": 5
}
