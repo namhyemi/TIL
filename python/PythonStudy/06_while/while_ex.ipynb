{
 "cells": [
  {
   "cell_type": "code",
   "execution_count": 1,
   "id": "899b7f68-d941-4770-9a80-19be0cf7baec",
   "metadata": {},
   "outputs": [],
   "source": [
    "# while문을 이용하여 1~100까지의 정수 중 3의 배수의 합을 출력"
   ]
  },
  {
   "cell_type": "code",
   "execution_count": 3,
   "id": "7b9116b6-b631-408d-8fdb-a1e2973acacb",
   "metadata": {},
   "outputs": [
    {
     "name": "stdout",
     "output_type": "stream",
     "text": [
      "1~100 중 3의 배수의 합은 1683이다\n"
     ]
    }
   ],
   "source": [
    "n = 1\n",
    "total = 0\n",
    "\n",
    "while n < 101:\n",
    "    if n % 3 == 0:\n",
    "        total += n\n",
    "    n+=1\n",
    "    \n",
    "# while n*3 < 101:\n",
    "#     sum += n*3\n",
    "#     n+=1\n",
    "\n",
    "print(\"1~100 중 3의 배수의 합은 {}이다\".format(total))"
   ]
  },
  {
   "cell_type": "code",
   "execution_count": null,
   "id": "f2687fae-9e88-4e38-bd22-afc7f1e580df",
   "metadata": {},
   "outputs": [],
   "source": []
  }
 ],
 "metadata": {
  "kernelspec": {
   "display_name": "Python Multi",
   "language": "python",
   "name": "multi"
  },
  "language_info": {
   "codemirror_mode": {
    "name": "ipython",
    "version": 3
   },
   "file_extension": ".py",
   "mimetype": "text/x-python",
   "name": "python",
   "nbconvert_exporter": "python",
   "pygments_lexer": "ipython3",
   "version": "3.7.6"
  }
 },
 "nbformat": 4,
 "nbformat_minor": 5
}
