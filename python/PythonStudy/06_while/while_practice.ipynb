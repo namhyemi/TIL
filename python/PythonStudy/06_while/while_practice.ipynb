{
 "cells": [
  {
   "cell_type": "code",
   "execution_count": 1,
   "id": "02cc0f16-25a7-4e60-9828-975ac393b619",
   "metadata": {},
   "outputs": [
    {
     "name": "stdout",
     "output_type": "stream",
     "text": [
      "*****\n",
      "****\n",
      "***\n",
      "**\n",
      "*\n"
     ]
    }
   ],
   "source": [
    "for i in range(5,0,-1):\n",
    "    for j in range(i-1):\n",
    "        print(\"*\",end='')\n",
    "    print(\"*\")"
   ]
  },
  {
   "cell_type": "code",
   "execution_count": 13,
   "id": "0190cf7c-c0b4-48c9-9ff2-2aad308e23c4",
   "metadata": {},
   "outputs": [
    {
     "name": "stdout",
     "output_type": "stream",
     "text": [
      "    *\n",
      "   ***\n",
      "  *****\n",
      " *******\n",
      "*********\n",
      "*********\n",
      " *******\n",
      "  *****\n",
      "   ***\n",
      "    *\n"
     ]
    }
   ],
   "source": [
    "check = 4\n",
    "for i in range(5):\n",
    "    for n in range(check):\n",
    "        print(\" \", end=\"\")\n",
    "    for n in range(9-2*check):\n",
    "        print(\"*\", end=\"\")\n",
    "    check -= 1\n",
    "    print(\"\")\n",
    "    \n",
    "for i in range(5,0,-1):\n",
    "     print(' '*(5-i)+'*'*(2*i-1))"
   ]
  },
  {
   "cell_type": "code",
   "execution_count": 5,
   "id": "20155d74-f0d4-4162-81fd-0a07cb201661",
   "metadata": {},
   "outputs": [
    {
     "name": "stdin",
     "output_type": "stream",
     "text": [
      "숫자 입력 :  1\n",
      "숫자 입력 :  2\n",
      "숫자 입력 :  3\n",
      "숫자 입력 :  4\n",
      "숫자 입력 :  5\n",
      "숫자 입력 :  6\n",
      "숫자 입력 :  7\n"
     ]
    },
    {
     "name": "stdout",
     "output_type": "stream",
     "text": [
      "7 입력! 종료\n"
     ]
    }
   ],
   "source": [
    "answer = input(\"숫자 입력 : \")\n",
    "while True:\n",
    "    if answer == '7':\n",
    "        break\n",
    "    answer = input(\"숫자 입력 : \")\n",
    "print('%s 입력! 종료' %answer)"
   ]
  },
  {
   "cell_type": "code",
   "execution_count": null,
   "id": "ebe86b8d-0dd1-4776-9117-235bb28a27d6",
   "metadata": {},
   "outputs": [],
   "source": []
  },
  {
   "cell_type": "code",
   "execution_count": null,
   "id": "8229f5a0-0833-403d-b1ff-2b39d9fd1357",
   "metadata": {},
   "outputs": [],
   "source": [
    "# 1곡에 2000원하는 노래방 기계에서 현재 잔액 100000원이 소진될 때까지 \n",
    "# 노래방을 이용하는 프로그램 작성"
   ]
  },
  {
   "cell_type": "code",
   "execution_count": 8,
   "id": "a1c9350e-8997-49e6-ae53-5d5525fbf51c",
   "metadata": {},
   "outputs": [
    {
     "name": "stdout",
     "output_type": "stream",
     "text": [
      "노래를 1곡 불렀습니다.\n",
      "현재 8000원 남았습니다.\n",
      "노래를 2곡 불렀습니다.\n",
      "현재 6000원 남았습니다.\n",
      "노래를 3곡 불렀습니다.\n",
      "현재 4000원 남았습니다.\n",
      "노래를 4곡 불렀습니다.\n",
      "현재 2000원 남았습니다.\n",
      "노래를 5곡 불렀습니다.\n",
      "현재 0원 남았습니다.\n",
      "잔액이 없습니다. 종료합니다.\n"
     ]
    }
   ],
   "source": [
    "money = 10000\n",
    "num = 0\n",
    "\n",
    "while True :\n",
    "    money -= 2000\n",
    "    if money < 0 :\n",
    "        break\n",
    "    else :\n",
    "        num += 1\n",
    "    print(\"노래를 %d곡 불렀습니다.\" %num)\n",
    "    print(\"현재 %d원 남았습니다.\" %money)\n",
    "print(\"잔액이 없습니다. 종료합니다.\")"
   ]
  },
  {
   "cell_type": "code",
   "execution_count": null,
   "id": "08d9fdc4-efdb-4949-acc6-d0fffb63287b",
   "metadata": {},
   "outputs": [],
   "source": []
  }
 ],
 "metadata": {
  "kernelspec": {
   "display_name": "Python Multi",
   "language": "python",
   "name": "multi"
  },
  "language_info": {
   "codemirror_mode": {
    "name": "ipython",
    "version": 3
   },
   "file_extension": ".py",
   "mimetype": "text/x-python",
   "name": "python",
   "nbconvert_exporter": "python",
   "pygments_lexer": "ipython3",
   "version": "3.7.6"
  }
 },
 "nbformat": 4,
 "nbformat_minor": 5
}
