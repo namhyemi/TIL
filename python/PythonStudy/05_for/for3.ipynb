{
 "cells": [
  {
   "cell_type": "code",
   "execution_count": 1,
   "id": "9290e81d-f8c4-46f2-bd65-e055f64713d1",
   "metadata": {},
   "outputs": [],
   "source": [
    "# 숫자 10개를 입력 받아서 양, 음, 0의 개수 출력"
   ]
  },
  {
   "cell_type": "code",
   "execution_count": 1,
   "id": "712e626e-2e83-4f67-af0b-f688f7e225c2",
   "metadata": {},
   "outputs": [
    {
     "name": "stdin",
     "output_type": "stream",
     "text": [
      "숫자1 를 입력하세요:  15\n",
      "숫자2 를 입력하세요:  2\n",
      "숫자3 를 입력하세요:  -7\n",
      "숫자4 를 입력하세요:  9\n",
      "숫자5 를 입력하세요:  0\n",
      "숫자6 를 입력하세요:  -4\n",
      "숫자7 를 입력하세요:  2\n",
      "숫자8 를 입력하세요:  0\n",
      "숫자9 를 입력하세요:  4\n",
      "숫자10 를 입력하세요:  -11\n"
     ]
    },
    {
     "name": "stdout",
     "output_type": "stream",
     "text": [
      "양의 개수 : 5, 음의 개수 : 3, 0의 개수 :2\n"
     ]
    }
   ],
   "source": [
    "p_number = n_number = zero = 0\n",
    "\n",
    "for i in range(10):\n",
    "    num = int(input(\"숫자{} 를 입력하세요: \".format(i+1)))\n",
    "    if num>0:\n",
    "        p_number+=1\n",
    "    elif num < 0:\n",
    "        n_number +=1\n",
    "    else:\n",
    "        zero +=1\n",
    "        \n",
    "print(\"양의 개수 : {}, 음의 개수 : {}, 0의 개수 :{}\".format(p_number,n_number,zero))"
   ]
  },
  {
   "cell_type": "code",
   "execution_count": null,
   "id": "eae5218b-385e-4195-8f7c-e29f09ebce03",
   "metadata": {},
   "outputs": [],
   "source": []
  }
 ],
 "metadata": {
  "kernelspec": {
   "display_name": "Python Multi",
   "language": "python",
   "name": "multi"
  },
  "language_info": {
   "codemirror_mode": {
    "name": "ipython",
    "version": 3
   },
   "file_extension": ".py",
   "mimetype": "text/x-python",
   "name": "python",
   "nbconvert_exporter": "python",
   "pygments_lexer": "ipython3",
   "version": "3.7.6"
  }
 },
 "nbformat": 4,
 "nbformat_minor": 5
}
