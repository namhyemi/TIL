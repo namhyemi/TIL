{
 "cells": [
  {
   "cell_type": "code",
   "execution_count": 1,
   "id": "b0a600fc-f50b-4a64-9d4f-7eab58b708e7",
   "metadata": {},
   "outputs": [],
   "source": [
    "# 1~100 까지의 합 구하기"
   ]
  },
  {
   "cell_type": "code",
   "execution_count": 2,
   "id": "5210463f-0feb-44fe-bdd2-ea54eadd0444",
   "metadata": {},
   "outputs": [
    {
     "name": "stdout",
     "output_type": "stream",
     "text": [
      "1~100까지의 합은 5050\n"
     ]
    }
   ],
   "source": [
    "total=0\n",
    "for num in range(1,101):\n",
    "    total += num\n",
    "print(\"1~100까지의 합은 %d\" %total)"
   ]
  },
  {
   "cell_type": "code",
   "execution_count": null,
   "id": "95f358b7-6ba1-4204-a4a0-2629beff7cdb",
   "metadata": {},
   "outputs": [],
   "source": []
  },
  {
   "cell_type": "code",
   "execution_count": 3,
   "id": "d449f379-9a11-43e4-a8ac-e26ca0227466",
   "metadata": {},
   "outputs": [],
   "source": [
    "# 1~20 정수 중 3의 배수 출력하고 합계 구하기"
   ]
  },
  {
   "cell_type": "code",
   "execution_count": 4,
   "id": "2f475e7b-4839-4019-b8b5-c718adc170e8",
   "metadata": {},
   "outputs": [
    {
     "name": "stdout",
     "output_type": "stream",
     "text": [
      "3 6 9 12 15 18 \n",
      "1~20 중 3의 배수의 합은 63이다\n"
     ]
    }
   ],
   "source": [
    "total =0\n",
    "for num in range(1,21):\n",
    "    if num % 3 == 0:\n",
    "        print(num, end=' ')\n",
    "        total += num\n",
    "print()\n",
    "print(\"1~20 중 3의 배수의 합은 %d이다\" %total)"
   ]
  },
  {
   "cell_type": "code",
   "execution_count": null,
   "id": "4568b5ec-f523-4aa9-ac1b-dac84dc07e56",
   "metadata": {},
   "outputs": [],
   "source": []
  },
  {
   "cell_type": "code",
   "execution_count": 5,
   "id": "079f27ca-99e8-4dd5-9df3-ac2d94bf3e5d",
   "metadata": {},
   "outputs": [],
   "source": [
    "# 두 숫자를 입력받아서 이 수 사이의 숫자의 합을 구하기"
   ]
  },
  {
   "cell_type": "code",
   "execution_count": 9,
   "id": "fb548474-440b-4ac6-b26a-26528fcce4fa",
   "metadata": {},
   "outputs": [
    {
     "name": "stdin",
     "output_type": "stream",
     "text": [
      "정수 두개를 입력하세요(띄어쓰기로 구분) 1 10\n"
     ]
    },
    {
     "name": "stdout",
     "output_type": "stream",
     "text": [
      "두 정수 사이의 합은 55이다\n"
     ]
    }
   ],
   "source": [
    "num1, num2 = input(\"정수 두개를 입력하세요(띄어쓰기로 구분)\").split(' ')\n",
    "total = 0\n",
    "if(num1 < num2):\n",
    "    for num in range(int(num1),int(num2)+1):\n",
    "        total += num\n",
    "else :\n",
    "    for num in range(int(num2),int(num1)+1):\n",
    "        total += num\n",
    "\n",
    "        \n",
    "print(\"두 정수 사이의 합은 %d이다\" %total)"
   ]
  },
  {
   "cell_type": "code",
   "execution_count": null,
   "id": "ed6909d2-51a6-48a3-aad7-02c34663ea1c",
   "metadata": {},
   "outputs": [],
   "source": []
  },
  {
   "cell_type": "code",
   "execution_count": 10,
   "id": "4afd9d0c-ca73-451d-9d55-5b63ec8f3d21",
   "metadata": {},
   "outputs": [],
   "source": [
    "# 카운트 다운 프로그램 작성"
   ]
  },
  {
   "cell_type": "code",
   "execution_count": 13,
   "id": "6544ca02-3218-482f-a726-0a050008fefd",
   "metadata": {},
   "outputs": [
    {
     "name": "stdin",
     "output_type": "stream",
     "text": [
      "시작 숫자를 입력하시오 :  10\n"
     ]
    },
    {
     "name": "stdout",
     "output_type": "stream",
     "text": [
      "10 9 8 7 6 5 4 3 2 1 종료\n"
     ]
    }
   ],
   "source": [
    "count = int(input('시작 숫자를 입력하시오 : '))\n",
    "for n in range(count, 0, -1):\n",
    "    print(n, end=' ')\n",
    "print(\"종료\")"
   ]
  },
  {
   "cell_type": "code",
   "execution_count": null,
   "id": "8d2f5294-b2c9-4d0f-9562-3d75e97e670b",
   "metadata": {},
   "outputs": [],
   "source": []
  },
  {
   "cell_type": "code",
   "execution_count": 14,
   "id": "4ba87abe-a6a0-44c4-ac1b-b6a24b806a71",
   "metadata": {},
   "outputs": [],
   "source": [
    "# 이름 리스트에 해당하는 이름이 있는지 출력"
   ]
  },
  {
   "cell_type": "code",
   "execution_count": 16,
   "id": "905d6010-b082-402e-b323-642b61df3289",
   "metadata": {},
   "outputs": [
    {
     "name": "stdin",
     "output_type": "stream",
     "text": [
      "이름을 입력하세요 :  태종\n"
     ]
    },
    {
     "name": "stdout",
     "output_type": "stream",
     "text": [
      "이름이 있습니다.\n"
     ]
    }
   ],
   "source": [
    "names = ['태조','정종','태종','세종','문종']\n",
    "\n",
    "InputName = input('이름을 입력하세요 : ')\n",
    "\n",
    "for name in names:\n",
    "    if InputName == name:\n",
    "        flag = True \n",
    "        break;\n",
    "    else:\n",
    "        flag = False\n",
    "\n",
    "if flag:\n",
    "    print(\"이름이 있습니다.\")\n",
    "else :\n",
    "    print(\"이름이 없습니다.\")\n",
    "\n",
    "# if name in names:\n",
    "#     print(\"이름이 존재합니다\")"
   ]
  },
  {
   "cell_type": "code",
   "execution_count": null,
   "id": "16117e98-ac59-4569-8c6f-ff1a8aa3a25d",
   "metadata": {},
   "outputs": [],
   "source": []
  },
  {
   "cell_type": "code",
   "execution_count": null,
   "id": "075bcbfc-753e-4e48-930f-898e6fcb6811",
   "metadata": {},
   "outputs": [],
   "source": []
  }
 ],
 "metadata": {
  "kernelspec": {
   "display_name": "Python Multi",
   "language": "python",
   "name": "multi"
  },
  "language_info": {
   "codemirror_mode": {
    "name": "ipython",
    "version": 3
   },
   "file_extension": ".py",
   "mimetype": "text/x-python",
   "name": "python",
   "nbconvert_exporter": "python",
   "pygments_lexer": "ipython3",
   "version": "3.7.6"
  }
 },
 "nbformat": 4,
 "nbformat_minor": 5
}
