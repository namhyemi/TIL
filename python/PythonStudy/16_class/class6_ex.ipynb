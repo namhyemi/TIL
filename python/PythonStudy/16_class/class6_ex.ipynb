{
 "cells": [
  {
   "cell_type": "code",
   "execution_count": 1,
   "id": "e46f4148-cdf9-4edc-ab8c-0c783b77fd3f",
   "metadata": {},
   "outputs": [],
   "source": [
    "# 클래스 상속 실습\n",
    "# 슈퍼클래스 : 사람 클래스 Person <- 서브클래스 : 학생클래스 Student\n",
    "\n",
    "class Person:\n",
    "    def __init__(self, age, sex, name):\n",
    "        self.age = age\n",
    "        self.name = name\n",
    "        self.sex = sex\n",
    "\n",
    "    def greeting(self):\n",
    "        print('안녕하세요')"
   ]
  },
  {
   "cell_type": "code",
   "execution_count": 2,
   "id": "d9272896-97f6-4152-8d4d-d36974c4643f",
   "metadata": {},
   "outputs": [],
   "source": [
    "class Student(Person):\n",
    "    # 학교, 학과, 학번, 공부하다(), 시험보다()\n",
    "    def __init__(self, age, sex, name, school, major, number):\n",
    "        super().__init__(age, sex, name)\n",
    "        self.school = school\n",
    "        self.major = major\n",
    "        self.number = number\n",
    "\n",
    "    def study(self):\n",
    "        print(\"%s가 %s를 공부하고 있습니다.\" %(self.name, self.major))\n",
    "\n",
    "    def test(self):\n",
    "        print(\"%s가 %s 과목을 시험치고 있습니다.\" %(self.name, self.major))"
   ]
  },
  {
   "cell_type": "code",
   "execution_count": 3,
   "id": "96b97283-d01a-4c14-aec0-9d135cca097c",
   "metadata": {},
   "outputs": [
    {
     "name": "stdout",
     "output_type": "stream",
     "text": [
      "안녕하세요\n",
      "안녕하세요\n",
      "이기리가 DS를 공부하고 있습니다.\n"
     ]
    }
   ],
   "source": [
    "person1 = Person(1, 'F', '이기쁨')\n",
    "student1 = Student(20, 'M', '이기리', 'S', 'DS', '123')\n",
    "person1.greeting()\n",
    "student1.greeting()\n",
    "student1.study()"
   ]
  },
  {
   "cell_type": "code",
   "execution_count": null,
   "id": "f8b939df-1064-496f-8f2e-1591d0341e30",
   "metadata": {},
   "outputs": [],
   "source": []
  }
 ],
 "metadata": {
  "kernelspec": {
   "display_name": "python Multi",
   "language": "python",
   "name": "multi"
  },
  "language_info": {
   "codemirror_mode": {
    "name": "ipython",
    "version": 3
   },
   "file_extension": ".py",
   "mimetype": "text/x-python",
   "name": "python",
   "nbconvert_exporter": "python",
   "pygments_lexer": "ipython3",
   "version": "3.7.6"
  }
 },
 "nbformat": 4,
 "nbformat_minor": 5
}
