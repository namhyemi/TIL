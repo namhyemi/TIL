{
 "cells": [
  {
   "cell_type": "code",
   "execution_count": 1,
   "id": "ec301be0-d707-481c-bd79-209ae2b9a525",
   "metadata": {},
   "outputs": [
    {
     "name": "stdout",
     "output_type": "stream",
     "text": [
      "Neapolitan Mastiff 가 놀고 있다.\n",
      "음식을 먹는다.\n",
      "이 강아지의 종류는 Neapolitan Mastiff이고,\n",
      "크키는 Lage이고,\n",
      "나이는 5이고,\n",
      "색깔은 Black입니다.\n",
      "Neapolitan Mastiff 나이가 5살 더 많습니다.\n",
      "maltese, Chow Chow 의 나이가 같습니다.\n"
     ]
    }
   ],
   "source": [
    "# 다음 조건을 만족하는 Dog 클래스를 정의하고\n",
    "# 객체 세 마리를 생성하여 표현하는 코드를 작성하시오.\n",
    "\n",
    "class Dog:\n",
    "    def __init__(self, breed, size, age ,color):\n",
    "        self.Breed = breed\n",
    "        self.Size = size\n",
    "        self.Age = age\n",
    "        self.Color = color\n",
    "\n",
    "    def __str__(self):\n",
    "        return \"이 강아지의 종류는 %s이고,\\n크키는 %s이고,\\n나이는 %d이고,\\n색깔은 %s입니다.\"%(self.Breed, self.Size, self.Age, self.Color)\n",
    "\n",
    "    def __lt__(self,other):\n",
    "        return self.Age < other.Age\n",
    "\n",
    "    def __eq__(self,other):\n",
    "        return self.Age == other.Age\n",
    "\n",
    "    def Eat(self):\n",
    "        print(\"음식을 먹는다.\")\n",
    "\n",
    "    def Sleep(self):\n",
    "        print(\"%s 가 잠들었다.\" % self.Breed)\n",
    "\n",
    "    def Sit(self):\n",
    "        pass\n",
    "#        print(\"%s 가 앉아 있다.\" % self.Breed)\n",
    "\n",
    "    def Run(self):\n",
    "        print(\"%s 가 놀고 있다.\" % self.Breed)\n",
    "\n",
    "dog1 = Dog('Neapolitan Mastiff','Lage',5,'Black')\n",
    "dog2 = Dog('maltese','small',2,'White')\n",
    "dog3 = Dog('Chow Chow','Midium',2,'Brown')\n",
    "\n",
    "dog1.Run()\n",
    "dog2.Eat()\n",
    "\n",
    "print(dog1)\n",
    "if dog1 < dog2:\n",
    "    print(\"%s 나이가 %d살 더 많습니다.\" % (dog2.Breed,dog2.Age))\n",
    "else:\n",
    "    print(\"%s 나이가 %d살 더 많습니다.\" % (dog1.Breed,dog1.Age))\n",
    "\n",
    "if dog2 == dog3:\n",
    "    print(\"%s, %s 의 나이가 같습니다.\" %(dog2.Breed,dog3.Breed))\n",
    "else:\n",
    "    print(\"%s, %s 의 나이가 다릅니다.\" %(dog2.Breed,dog3.Breed))"
   ]
  }
 ],
 "metadata": {
  "kernelspec": {
   "display_name": "python Multi",
   "language": "python",
   "name": "multi"
  },
  "language_info": {
   "codemirror_mode": {
    "name": "ipython",
    "version": 3
   },
   "file_extension": ".py",
   "mimetype": "text/x-python",
   "name": "python",
   "nbconvert_exporter": "python",
   "pygments_lexer": "ipython3",
   "version": "3.7.6"
  }
 },
 "nbformat": 4,
 "nbformat_minor": 5
}
