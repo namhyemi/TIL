{
 "cells": [
  {
   "cell_type": "code",
   "execution_count": 1,
   "id": "746bbace-66ec-4ac7-8520-53b97b4ce125",
   "metadata": {},
   "outputs": [
    {
     "name": "stdout",
     "output_type": "stream",
     "text": [
      "1명 태어났습니다\n",
      "2명 태어났습니다\n",
      "Kim가 인사해요\n",
      "Lee가 인사해요\n"
     ]
    }
   ],
   "source": [
    "# 클래스메소드 (class mehod) : self 를 통하지 않고 바로 클래스가 메소드 호출\n",
    "# @classmethod : 클래스메소드임을 표시\n",
    "# 클래스 변수를 이용하는 메소드를 정의\n",
    "\n",
    "class Person:\n",
    "    count = 0  # 클래스변수\n",
    "\n",
    "    def __init__(self, name):\n",
    "        Person.count += 1\n",
    "        self.name = name\n",
    "\n",
    "    @classmethod\n",
    "    def showCount(cls):\n",
    "        print('%d명 태어났습니다' % cls.count)  # cls로 클래스 속성에 접근\n",
    "\n",
    "    def greeting(self):\n",
    "        print('%s가 인사해요' % self.name)\n",
    "\n",
    "kim = Person('Kim')\n",
    "Person.showCount()\n",
    "Lee = Person('Lee')\n",
    "Person.showCount()\n",
    "kim.greeting()\n",
    "Lee.greeting()"
   ]
  },
  {
   "cell_type": "code",
   "execution_count": null,
   "id": "482d6f14-8960-4d93-ad8f-d83b05bd8989",
   "metadata": {},
   "outputs": [],
   "source": []
  }
 ],
 "metadata": {
  "kernelspec": {
   "display_name": "python Multi",
   "language": "python",
   "name": "multi"
  },
  "language_info": {
   "codemirror_mode": {
    "name": "ipython",
    "version": 3
   },
   "file_extension": ".py",
   "mimetype": "text/x-python",
   "name": "python",
   "nbconvert_exporter": "python",
   "pygments_lexer": "ipython3",
   "version": "3.7.6"
  }
 },
 "nbformat": 4,
 "nbformat_minor": 5
}
