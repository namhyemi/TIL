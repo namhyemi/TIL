{
 "cells": [
  {
   "cell_type": "code",
   "execution_count": 1,
   "id": "7758b2c8-65ae-467f-bf6c-fe4138fa7cd5",
   "metadata": {},
   "outputs": [
    {
     "name": "stdout",
     "output_type": "stream",
     "text": [
      "15 길이의 선이 생성\n",
      "10 길이의 선이 생성\n",
      "선의 길이 : 15\n",
      "두 선의 길이의 합 :  25\n",
      "몰라요\n"
     ]
    }
   ],
   "source": [
    "# __str__(self), __repr__(self), __del__(self),\n",
    "# __add__(self), __le__(self), __lt__(self), __gt__(self), __ge__(self),\n",
    "# __eq__(self), __ne__(self)\n",
    "\n",
    "class Line:\n",
    "    length = 0\n",
    "\n",
    "    def __init__(self, length=0):\n",
    "        self.length = length\n",
    "        print('%s 길이의 선이 생성' %(self.length))\n",
    "\n",
    "    # def __del__(self):\n",
    "    #     print('%s 길이의 선이 소멸' %(self.length))\n",
    "\n",
    "    def __repr__(self):\n",
    "        return '선의 길이 : ' + str(self.length)\n",
    "\n",
    "    def __add__(self, other):\n",
    "        return self.length + other.length\n",
    "\n",
    "    def __eq__(self, other):\n",
    "        return self.length == other.length\n",
    "\n",
    "    def __ne__(self, other):\n",
    "        return self.length != other.length\n",
    "\n",
    "    def __lt__(self, other):\n",
    "        return self.length < other.length\n",
    "\n",
    "\n",
    "line1 = Line(15)\n",
    "line2 = Line(10)\n",
    "print(line1)\n",
    "print('두 선의 길이의 합 : ', line1 + line2)\n",
    "if line1 < line2:\n",
    "    print('선 2가 더 크네요')\n",
    "elif line1 == line2:\n",
    "    print('길이가 달라요')\n",
    "else:\n",
    "    print('몰라요')\n",
    "\n",
    "# del(line1)"
   ]
  },
  {
   "cell_type": "code",
   "execution_count": null,
   "id": "612d1e67-25ad-409d-8cf2-8a12632e392f",
   "metadata": {},
   "outputs": [],
   "source": []
  }
 ],
 "metadata": {
  "kernelspec": {
   "display_name": "python Multi",
   "language": "python",
   "name": "multi"
  },
  "language_info": {
   "codemirror_mode": {
    "name": "ipython",
    "version": 3
   },
   "file_extension": ".py",
   "mimetype": "text/x-python",
   "name": "python",
   "nbconvert_exporter": "python",
   "pygments_lexer": "ipython3",
   "version": "3.7.6"
  }
 },
 "nbformat": 4,
 "nbformat_minor": 5
}
