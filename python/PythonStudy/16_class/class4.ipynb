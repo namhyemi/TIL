{
 "cells": [
  {
   "cell_type": "code",
   "execution_count": 2,
   "id": "f42b43c3-7eee-40f3-baae-5c61f2000f51",
   "metadata": {},
   "outputs": [
    {
     "name": "stdout",
     "output_type": "stream",
     "text": [
      "0\n",
      "white\n",
      "1\n",
      "2\n"
     ]
    }
   ],
   "source": [
    "# 인스턴스 변수와 클래스 변수\n",
    "\n",
    "class Car:\n",
    "    number = 0\n",
    "    \n",
    "    def __init__(self, speed=0, color='white'):\n",
    "        self.speed = speed\n",
    "        self.color = color\n",
    "        Car.number += 1\n",
    "\n",
    "    def __str__(self):\n",
    "        return '이 자동차의 색상은 %s이고,\\n속도는 %d입니다.' % (self.color, self.speed)\n",
    "\n",
    "    # color 필드 값을 반환메소드\n",
    "    def getColor(self):\n",
    "        return self.color\n",
    "\n",
    "    # color 필드값을 변경메소드\n",
    "    def setColor(self, color):\n",
    "        self.color = color\n",
    "\n",
    "    def showInfo(self):\n",
    "        print('속도는 %d입니다.' % self.speed)\n",
    "\n",
    "    def drive(self):\n",
    "        if self.speed != 0:\n",
    "            print('%d 로 주행중입니다' % self.speed)\n",
    "        else:\n",
    "            print('정차중입니다')\n",
    "\n",
    "    def upSpeed(self, up):\n",
    "        self.speed += up\n",
    "\n",
    "    def downSpeed(self, down):\n",
    "        self.speed -= down\n",
    "        if self.speed < 0 :\n",
    "            self.speed = 0\n",
    "\n",
    "# car1 = Car()\n",
    "# print(car1.getColor())\n",
    "# car1.setColor('Red')\n",
    "# print(car1.getColor())\n",
    "# # car1.color = 'blue'   # 필드를 외부에 직접 접근\n",
    "# # car1.__showColor()\n",
    "# car1.showInfo()\n",
    "# car1.upSpeed(20)\n",
    "# car1.drive()\n",
    "# car1.upSpeed(20)\n",
    "# car1.drive()\n",
    "# car1.downSpeed(10)\n",
    "# car1.drive()\n",
    "# print(car1)\n",
    "\n",
    "car1 = Car()\n",
    "# 인스턴스 변수(필드)\n",
    "print(car1.speed)\n",
    "print(car1.color)\n",
    "\n",
    "# 클래스 변수\n",
    "print(Car.number)\n",
    "\n",
    "car2 = Car(10, 'Blue')\n",
    "print(Car.number)"
   ]
  },
  {
   "cell_type": "code",
   "execution_count": null,
   "id": "c7ba51b5-3435-4f92-bf08-e747fc9fa418",
   "metadata": {},
   "outputs": [],
   "source": []
  }
 ],
 "metadata": {
  "kernelspec": {
   "display_name": "python Multi",
   "language": "python",
   "name": "multi"
  },
  "language_info": {
   "codemirror_mode": {
    "name": "ipython",
    "version": 3
   },
   "file_extension": ".py",
   "mimetype": "text/x-python",
   "name": "python",
   "nbconvert_exporter": "python",
   "pygments_lexer": "ipython3",
   "version": "3.7.6"
  }
 },
 "nbformat": 4,
 "nbformat_minor": 5
}
