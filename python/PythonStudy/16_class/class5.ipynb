{
 "cells": [
  {
   "cell_type": "code",
   "execution_count": 1,
   "id": "1d5a4363-742c-493a-9289-2550e0420ba7",
   "metadata": {},
   "outputs": [],
   "source": [
    "# 클래스 상속(inheritance)\n",
    "\n",
    "class Car:\n",
    "    number = 0\n",
    "    def __init__(self, speed=0, color='white'):\n",
    "        self.speed = speed\n",
    "        self.color = color\n",
    "        Car.number += 1\n",
    "\n",
    "    def __str__(self):\n",
    "        return '이 자동차의 색상은 %s이고,\\n속도는 %d입니다.' % (self.color, self.speed)\n",
    "\n",
    "    # color 필드 값을 반환메소드\n",
    "    def getColor(self):\n",
    "        return self.color\n",
    "\n",
    "    # color 필드값을 변경메소드\n",
    "    def setColor(self, color):\n",
    "        self.color = color\n",
    "\n",
    "    def showInfo(self):\n",
    "        print('속도는 %d입니다.' % self.speed)\n",
    "\n",
    "    def drive(self):\n",
    "        if self.speed != 0:\n",
    "            print('%d 로 주행중입니다' % self.speed)\n",
    "        else:\n",
    "            print('정차중입니다')\n",
    "\n",
    "    def upSpeed(self, up):\n",
    "        self.speed += up\n",
    "\n",
    "    def downSpeed(self, down):\n",
    "        self.speed -= down\n",
    "        if self.speed < 0 :\n",
    "            self.speed = 0"
   ]
  },
  {
   "cell_type": "code",
   "execution_count": 2,
   "id": "b70eb6aa-8f12-45d7-b00c-d8b4c2dbe070",
   "metadata": {},
   "outputs": [],
   "source": [
    "class Truck(Car):\n",
    "    def __init__(self, speed, color, load):\n",
    "        super().__init__(speed, color)  # 부모 객체 사용\n",
    "        self.load = load          # 필드 추가\n",
    "\n",
    "    # 메소드를 재정의 : 오버라이딩(overriding)\n",
    "    def showLoad(self):\n",
    "        print(self.load)\n",
    "\n",
    "    def upLoad(self, up):\n",
    "        self.load += up\n",
    "\n",
    "    def showInfo(self):\n",
    "        print('Truck : 속도는 %d이고, 적재량은 %d입니다.' % (self.speed,self.load))"
   ]
  },
  {
   "cell_type": "code",
   "execution_count": 3,
   "id": "5ceebeb9-1367-4797-9e7b-2063d4680ae1",
   "metadata": {},
   "outputs": [],
   "source": [
    "class SportCar(Car):\n",
    "    def __init__(self, speed, color, seats):\n",
    "        super().__init__(speed, color)\n",
    "        self.seats = seats\n",
    "\n",
    "    def showInfo(self):\n",
    "        print('Sport Car : 색상은 %s, 좌석수는 %d' %(self.color, self.seats))"
   ]
  },
  {
   "cell_type": "code",
   "execution_count": 7,
   "id": "789a1509-48b8-4851-95dc-c3c609e5f0a1",
   "metadata": {},
   "outputs": [
    {
     "name": "stdout",
     "output_type": "stream",
     "text": [
      "속도는 0입니다.\n",
      "Truck : 속도는 0이고, 적재량은 1000입니다.\n",
      "Sport Car : 색상은 Red, 좌석수는 2\n"
     ]
    }
   ],
   "source": [
    "car1 = Car()\n",
    "car2 = Truck(0,'Blue', 1000)\n",
    "car3 = SportCar(0,'Red',2)\n",
    "car1.showInfo()\n",
    "car2.showInfo()\n",
    "car3.showInfo()\n",
    "# print(isinstance(car2, Car))\n",
    "# print(issubclass(Truck, Car))\n",
    "# print(issubclass(bool, int))"
   ]
  },
  {
   "cell_type": "code",
   "execution_count": 6,
   "id": "8aa0dd3e-4802-40d5-97e8-cfd6d507b122",
   "metadata": {},
   "outputs": [
    {
     "name": "stdout",
     "output_type": "stream",
     "text": [
      "속도는 0입니다.\n",
      "Truck : 속도는 0이고, 적재량은 1000입니다.\n",
      "Sport Car : 색상은 Red, 좌석수는 2\n"
     ]
    }
   ],
   "source": [
    "# 다형성(polymorphism) : 동일한 이름의 메소드이지만, 다른 기능을 수행\n",
    "carL = [car1, car2, car3]\n",
    "\n",
    "for car in carL:\n",
    "    car.showInfo()"
   ]
  },
  {
   "cell_type": "code",
   "execution_count": null,
   "id": "1462a6cc-ed45-4996-b8c6-a9a467505a4d",
   "metadata": {},
   "outputs": [],
   "source": []
  }
 ],
 "metadata": {
  "kernelspec": {
   "display_name": "python Multi",
   "language": "python",
   "name": "multi"
  },
  "language_info": {
   "codemirror_mode": {
    "name": "ipython",
    "version": 3
   },
   "file_extension": ".py",
   "mimetype": "text/x-python",
   "name": "python",
   "nbconvert_exporter": "python",
   "pygments_lexer": "ipython3",
   "version": "3.7.6"
  }
 },
 "nbformat": 4,
 "nbformat_minor": 5
}
