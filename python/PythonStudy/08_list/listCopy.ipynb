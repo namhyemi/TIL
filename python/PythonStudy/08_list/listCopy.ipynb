{
 "cells": [
  {
   "cell_type": "code",
   "execution_count": 1,
   "id": "537cdf15-0670-45fd-8050-334f8f750896",
   "metadata": {},
   "outputs": [],
   "source": [
    "# 리스트의 복사"
   ]
  },
  {
   "cell_type": "code",
   "execution_count": 1,
   "id": "22e1b9e4-3947-4a9f-87e2-c32702d27d4e",
   "metadata": {},
   "outputs": [
    {
     "name": "stdout",
     "output_type": "stream",
     "text": [
      "scores : [65, 70, 90, 89, 78]\n",
      "value : [65, 70, 90, 89, 78]\n",
      "scores 값변경 : [65, 70, 90, 98, 78]\n",
      "value : [65, 70, 90, 98, 78]\n"
     ]
    }
   ],
   "source": [
    "# 얕은 복사\n",
    "\n",
    "scores = [65, 70, 90, 89, 78]\n",
    "value = scores\n",
    "\n",
    "print('scores :', scores)\n",
    "print('value :', value)\n",
    "\n",
    "scores[3] = 98\n",
    "print('scores 값변경 :', scores)\n",
    "print('value :', value)\n",
    "\n",
    "# value[0] = 100\n",
    "# print('scores :', scores)\n",
    "# print('value :', value)\n",
    "#"
   ]
  },
  {
   "cell_type": "code",
   "execution_count": 2,
   "id": "43663203-724e-49c4-a73b-18fb363d2c93",
   "metadata": {},
   "outputs": [],
   "source": [
    "# 깊은 복사(deep copy) : .copy()  list( )   deepcopy()"
   ]
  },
  {
   "cell_type": "code",
   "execution_count": 4,
   "id": "56474781-2fa2-461c-9ed3-a2a170effeac",
   "metadata": {},
   "outputs": [
    {
     "name": "stdout",
     "output_type": "stream",
     "text": [
      "value2 [150, 70, 300, 98, 78]\n",
      "scores : [50, 70, 300, 98, 78]\n",
      "value : [50, 70, 300, 98, 78]\n",
      "value2 : [150, 70, 300, 98, 78]\n"
     ]
    }
   ],
   "source": [
    "value2 = scores.copy()\n",
    "print('value2', value2)\n",
    "scores[0] = 50\n",
    "print('scores :', scores)\n",
    "print('value :', value)\n",
    "print('value2 :', value2)"
   ]
  },
  {
   "cell_type": "code",
   "execution_count": 2,
   "id": "a3c6b82e-c75d-4753-8ad2-e9cb19212277",
   "metadata": {},
   "outputs": [
    {
     "name": "stdout",
     "output_type": "stream",
     "text": [
      "scores : [65, 70, 90, 98, 78]\n",
      "value3 : [65, 70, 90, 98, 78]\n",
      "scores : [150, 70, 90, 98, 78]\n",
      "value3 : [65, 70, 90, 98, 78]\n"
     ]
    }
   ],
   "source": [
    "value3 = list(scores)\n",
    "print('scores :', scores)\n",
    "print('value3 :', value3)\n",
    "scores[0] = 150\n",
    "print('scores :', scores)\n",
    "print('value3 :', value3)"
   ]
  },
  {
   "cell_type": "code",
   "execution_count": 3,
   "id": "97d3422f-bd93-46e8-9bc7-c67d35488eae",
   "metadata": {},
   "outputs": [
    {
     "name": "stdout",
     "output_type": "stream",
     "text": [
      "scores : [150, 70, 300, 98, 78]\n",
      "value4 : [150, 70, 90, 98, 78]\n"
     ]
    }
   ],
   "source": [
    "import copy\n",
    "\n",
    "value4 = copy.deepcopy(scores)\n",
    "scores[2] = 300\n",
    "print('scores :', scores)\n",
    "print('value4 :', value4)"
   ]
  },
  {
   "cell_type": "code",
   "execution_count": null,
   "id": "9b5e4bea-16b9-4ef6-9ca1-1d6f3e0af801",
   "metadata": {},
   "outputs": [],
   "source": []
  }
 ],
 "metadata": {
  "kernelspec": {
   "display_name": "python Multi",
   "language": "python",
   "name": "multi"
  },
  "language_info": {
   "codemirror_mode": {
    "name": "ipython",
    "version": 3
   },
   "file_extension": ".py",
   "mimetype": "text/x-python",
   "name": "python",
   "nbconvert_exporter": "python",
   "pygments_lexer": "ipython3",
   "version": "3.7.6"
  }
 },
 "nbformat": 4,
 "nbformat_minor": 5
}
