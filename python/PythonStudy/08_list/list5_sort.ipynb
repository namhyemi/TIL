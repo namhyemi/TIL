{
 "cells": [
  {
   "cell_type": "code",
   "execution_count": 1,
   "id": "231234ba-17c9-4f8a-b08b-44186985e6c7",
   "metadata": {},
   "outputs": [],
   "source": [
    "# 리스트의 요소를 정렬 : sort() reverse() / sorted()함수"
   ]
  },
  {
   "cell_type": "code",
   "execution_count": 3,
   "id": "f08921ff-4dbd-48dc-944c-df72fe9a71e0",
   "metadata": {},
   "outputs": [
    {
     "name": "stdout",
     "output_type": "stream",
     "text": [
      "[3, 6, 0, -4, 1]\n"
     ]
    }
   ],
   "source": [
    "a = [3, 6, 0, -4, 1]\n",
    "print(a)"
   ]
  },
  {
   "cell_type": "code",
   "execution_count": 5,
   "id": "98257db1-9b8a-429e-89f8-4cc04d9f68b8",
   "metadata": {},
   "outputs": [
    {
     "name": "stdout",
     "output_type": "stream",
     "text": [
      "[-4, 0, 1, 3, 6]\n"
     ]
    }
   ],
   "source": [
    "a.sort()\n",
    "print(a)"
   ]
  },
  {
   "cell_type": "code",
   "execution_count": 6,
   "id": "6141a7db-71aa-4bd9-8e85-c7c753d140cf",
   "metadata": {},
   "outputs": [
    {
     "name": "stdout",
     "output_type": "stream",
     "text": [
      "[6, 3, 1, 0, -4]\n"
     ]
    }
   ],
   "source": [
    "a.sort(reverse=True)\n",
    "print(a)"
   ]
  },
  {
   "cell_type": "code",
   "execution_count": 7,
   "id": "0549b2f4-a4c9-4e2a-961b-d4479a620783",
   "metadata": {},
   "outputs": [
    {
     "name": "stdout",
     "output_type": "stream",
     "text": [
      "[-4, 0, 1, 3, 6]\n"
     ]
    }
   ],
   "source": [
    "a.reverse()\n",
    "print(a)"
   ]
  },
  {
   "cell_type": "code",
   "execution_count": 8,
   "id": "1223bc73-8bf5-4568-831d-6340938397bf",
   "metadata": {},
   "outputs": [
    {
     "name": "stdout",
     "output_type": "stream",
     "text": [
      "[]\n",
      "[6, 3, 1, 0, -4]\n"
     ]
    }
   ],
   "source": [
    "# reverse() 메소드를 사용하지 않고 리스트를 역순으로 생성하여 출력하기\n",
    "b = []\n",
    "for i in range(len(a)):\n",
    "    # item=a.pop()\n",
    "    # print(item)\n",
    "    # b.append(item)\n",
    "    b.append(a.pop())\n",
    "print(a)\n",
    "print(b)"
   ]
  },
  {
   "cell_type": "code",
   "execution_count": 9,
   "id": "cc786ff8-b06b-4a5f-8809-b42a1c6a269e",
   "metadata": {},
   "outputs": [
    {
     "name": "stdout",
     "output_type": "stream",
     "text": [
      "[3, 6, 0, -4, 1]\n",
      "[-4, 0, 1, 3, 6]\n"
     ]
    }
   ],
   "source": [
    "a = [3, 6, 0, -4, 1]\n",
    "# sorted() 함수\n",
    "c = sorted(a)\n",
    "print(a)\n",
    "print(c)"
   ]
  },
  {
   "cell_type": "code",
   "execution_count": 22,
   "id": "53988826-1909-4b7a-b876-65a5ffb411f3",
   "metadata": {},
   "outputs": [
    {
     "name": "stdout",
     "output_type": "stream",
     "text": [
      "['Apple', 'aPPle', 'apple', 'banana', 'GRAPE', 'melon']\n",
      "['Apple', 'GRAPE', 'aPPle', 'apple', 'banana', 'melon']\n"
     ]
    }
   ],
   "source": [
    "string = ['GRAPE', 'Apple', 'aPPle', 'banana', 'melon', 'apple']\n",
    "string.sort(key=str.lower) #대/소문자 상관없이 정렬(upper)\n",
    "print(string)\n",
    "string.sort()\n",
    "print(string)"
   ]
  },
  {
   "cell_type": "code",
   "execution_count": 20,
   "id": "e830d6e7-ad4d-48ce-95e5-0ddcb7bc8569",
   "metadata": {},
   "outputs": [],
   "source": [
    "# max(), min()함수"
   ]
  },
  {
   "cell_type": "code",
   "execution_count": 14,
   "id": "fc6253bb-2db2-4043-910a-b2cf732c3696",
   "metadata": {},
   "outputs": [
    {
     "name": "stdout",
     "output_type": "stream",
     "text": [
      "6\n",
      "-4\n",
      "melon\n",
      "Apple\n"
     ]
    }
   ],
   "source": [
    "a = [3, 6, 0, -4, 1]\n",
    "print(max(a))\n",
    "print(min(a))\n",
    "\n",
    "string = ['GRAPE', 'Apple', 'aPPle', 'banana', 'melon', 'apple']\n",
    "print(max(string))\n",
    "print(min(string))"
   ]
  },
  {
   "cell_type": "code",
   "execution_count": null,
   "id": "392c4761-6d4e-4629-8f0d-e1481d6e2df2",
   "metadata": {},
   "outputs": [],
   "source": []
  }
 ],
 "metadata": {
  "kernelspec": {
   "display_name": "python Multi",
   "language": "python",
   "name": "multi"
  },
  "language_info": {
   "codemirror_mode": {
    "name": "ipython",
    "version": 3
   },
   "file_extension": ".py",
   "mimetype": "text/x-python",
   "name": "python",
   "nbconvert_exporter": "python",
   "pygments_lexer": "ipython3",
   "version": "3.7.6"
  }
 },
 "nbformat": 4,
 "nbformat_minor": 5
}
