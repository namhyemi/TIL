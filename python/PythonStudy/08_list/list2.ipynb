{
 "cells": [
  {
   "cell_type": "code",
   "execution_count": 1,
   "id": "990999b3-e9cb-425f-97a0-a1b52f7b5daa",
   "metadata": {},
   "outputs": [],
   "source": [
    "# 리스트의 주요 메소드"
   ]
  },
  {
   "cell_type": "code",
   "execution_count": null,
   "id": "030c8851-657b-47d0-b142-8d87891142e3",
   "metadata": {},
   "outputs": [],
   "source": [
    "#리스트의 길이 계산 함수 : Len(리스트명)\n",
    "#리스트의 요소 제거 : remove(), pop()\n",
    "#리스트의 확장 : extend()\n",
    "#리스트의 요소를 정렬 : sort() , reverse()\n",
    "#리스트의 요소 찾기 : index()\n",
    "#리스트 요소 중 큰 값(max()), 작은 값(min())"
   ]
  },
  {
   "cell_type": "code",
   "execution_count": 2,
   "id": "a410c475-0c8c-4047-85c1-7fe3219baf50",
   "metadata": {},
   "outputs": [
    {
     "name": "stdout",
     "output_type": "stream",
     "text": [
      "리스트의 길이 9 \n"
     ]
    }
   ],
   "source": [
    "# 리스트의 길이 계산 함수 : len(리스트명)\n",
    "a = [1,2,3,4,5,6,3,9,3]\n",
    "print('리스트의 길이 %d ' % len(a))"
   ]
  },
  {
   "cell_type": "code",
   "execution_count": 3,
   "id": "65c170c1-c7a6-427a-9c1a-6cc30f7a3a49",
   "metadata": {},
   "outputs": [
    {
     "name": "stdout",
     "output_type": "stream",
     "text": [
      "3\n"
     ]
    }
   ],
   "source": [
    "# 리스트의 요소\n",
    "print(a.count(3))"
   ]
  },
  {
   "cell_type": "code",
   "execution_count": 4,
   "id": "3b2795d6-26d7-4ae3-9e08-ee40280f585a",
   "metadata": {},
   "outputs": [
    {
     "name": "stdout",
     "output_type": "stream",
     "text": [
      "[1, 2, 3, 4, 5, 6, 3, 9, 3, 100]\n"
     ]
    }
   ],
   "source": [
    "# 리스트의 요소 추가, 삽입 : append(), insert()\n",
    "a.append(100)\n",
    "print(a)"
   ]
  },
  {
   "cell_type": "code",
   "execution_count": 5,
   "id": "3e480749-69ca-4dea-90cc-ae6534629198",
   "metadata": {},
   "outputs": [
    {
     "name": "stdout",
     "output_type": "stream",
     "text": [
      "[1, 2, 3, 4, 5, 6, 3, 9, 3, 100, [110, 120]]\n"
     ]
    }
   ],
   "source": [
    "a.append([110, 120])\n",
    "print(a)"
   ]
  },
  {
   "cell_type": "code",
   "execution_count": 6,
   "id": "35960405-4b99-4ab8-bb8a-74082a319c31",
   "metadata": {},
   "outputs": [
    {
     "name": "stdout",
     "output_type": "stream",
     "text": [
      "[1, 2, 120, 3, 4, 5, 6, 3, 9, 3, 100, [110, 120]]\n"
     ]
    }
   ],
   "source": [
    "a.insert(2, 120)\n",
    "print(a)"
   ]
  },
  {
   "cell_type": "code",
   "execution_count": 7,
   "id": "89fb8cfa-bb0e-404e-902e-7af95a912cd1",
   "metadata": {},
   "outputs": [
    {
     "name": "stdout",
     "output_type": "stream",
     "text": [
      "[]\n",
      "[5.5]\n",
      "[5.5, 10.5]\n",
      "[5.5, 10.5, 6.5]\n"
     ]
    }
   ],
   "source": [
    "b = []\n",
    "print(b)\n",
    "b.append(5.5)\n",
    "print(b)\n",
    "b.append(10.5)\n",
    "print(b)\n",
    "b.append(6.5)\n",
    "print(b)"
   ]
  },
  {
   "cell_type": "code",
   "execution_count": 9,
   "id": "6a484ad2-ab06-4b87-9773-a5ffd27077da",
   "metadata": {},
   "outputs": [
    {
     "name": "stdin",
     "output_type": "stream",
     "text": [
      "점수입력: 10\n",
      "점수입력: 20\n",
      "점수입력: 30\n",
      "점수입력: 40\n",
      "점수입력: 50\n",
      "점수입력: 60\n",
      "점수입력: 70\n",
      "점수입력: 80\n",
      "점수입력: 90\n",
      "점수입력: 100\n"
     ]
    },
    {
     "name": "stdout",
     "output_type": "stream",
     "text": [
      "[100, 90, 80, 70, 60, 50, 40, 30, 20, 10]\n"
     ]
    }
   ],
   "source": [
    "scores = []\n",
    "for i in range(10):\n",
    "    score1 = int(input('점수입력:'))\n",
    "    #scores.append(score)\n",
    "    scores.insert(0, score1)\n",
    "\n",
    "print(scores)"
   ]
  },
  {
   "cell_type": "code",
   "execution_count": null,
   "id": "0f53673c-24a6-45ae-bf19-bc30a6ca7242",
   "metadata": {},
   "outputs": [],
   "source": []
  }
 ],
 "metadata": {
  "kernelspec": {
   "display_name": "python Multi",
   "language": "python",
   "name": "multi"
  },
  "language_info": {
   "codemirror_mode": {
    "name": "ipython",
    "version": 3
   },
   "file_extension": ".py",
   "mimetype": "text/x-python",
   "name": "python",
   "nbconvert_exporter": "python",
   "pygments_lexer": "ipython3",
   "version": "3.7.6"
  }
 },
 "nbformat": 4,
 "nbformat_minor": 5
}
