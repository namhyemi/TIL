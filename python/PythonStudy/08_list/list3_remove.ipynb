{
 "cells": [
  {
   "cell_type": "code",
   "execution_count": null,
   "id": "6f7983fc-554d-40d0-8f01-c6d3e4eda7a2",
   "metadata": {},
   "outputs": [],
   "source": [
    "# 리스트의 요소를 제거 : remove() pop()"
   ]
  },
  {
   "cell_type": "code",
   "execution_count": 4,
   "id": "9e5d29f4-aaa7-4244-8c04-40aafa7d98f3",
   "metadata": {},
   "outputs": [],
   "source": [
    "# remove(삭제하려는값 value) : 가장 첫번째 만나는 값을 삭제"
   ]
  },
  {
   "cell_type": "code",
   "execution_count": 4,
   "id": "b87facd1-872b-446f-b47b-72b641f55e7d",
   "metadata": {},
   "outputs": [
    {
     "name": "stdout",
     "output_type": "stream",
     "text": [
      "[1, 2, 3, 4, 5, 3, 4, -5, 10]\n"
     ]
    }
   ],
   "source": [
    "n = [1,2,3,4,5,3,4,-1,-5,10]\n",
    "n.remove(-1) #list 내에 있는 -1 제거(맨 처음 만난 값만 제거함)\n",
    "#n.remove(20) 없는값을 제거할 시 에러가 뜬다.\n",
    "print(n)"
   ]
  },
  {
   "cell_type": "code",
   "execution_count": 3,
   "id": "ff7deb18-c134-4e52-81f7-3b0ab8757e60",
   "metadata": {},
   "outputs": [
    {
     "name": "stdout",
     "output_type": "stream",
     "text": [
      "2\n"
     ]
    }
   ],
   "source": [
    "cnt = n.count(3) #존재하는지 확인 후 remove()사용\n",
    "print(cnt)"
   ]
  },
  {
   "cell_type": "code",
   "execution_count": null,
   "id": "a4973cb4-3868-48a5-aee5-e3270210aeb0",
   "metadata": {},
   "outputs": [],
   "source": [
    "# pop() : 맨마지막 값은 삭제, pop(index) : index위치의 값을 삭제, 반환"
   ]
  },
  {
   "cell_type": "code",
   "execution_count": 5,
   "id": "5015e0cd-6fc9-41b5-8694-edd40fc5d86f",
   "metadata": {},
   "outputs": [
    {
     "name": "stdout",
     "output_type": "stream",
     "text": [
      "[1, 2, 3, 4, 3, 4, -5, 10]\n",
      "5\n"
     ]
    }
   ],
   "source": [
    "data = n.pop(4)\n",
    "print(n)\n",
    "print(data)"
   ]
  }
 ],
 "metadata": {
  "kernelspec": {
   "display_name": "python Multi",
   "language": "python",
   "name": "multi"
  },
  "language_info": {
   "codemirror_mode": {
    "name": "ipython",
    "version": 3
   },
   "file_extension": ".py",
   "mimetype": "text/x-python",
   "name": "python",
   "nbconvert_exporter": "python",
   "pygments_lexer": "ipython3",
   "version": "3.7.6"
  }
 },
 "nbformat": 4,
 "nbformat_minor": 5
}
