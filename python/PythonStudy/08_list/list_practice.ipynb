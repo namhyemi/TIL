{
 "cells": [
  {
   "cell_type": "code",
   "execution_count": 1,
   "id": "b3a77534-9798-404d-b770-091d3ea0817c",
   "metadata": {},
   "outputs": [
    {
     "name": "stdin",
     "output_type": "stream",
     "text": [
      "회원 입력 :  가\n",
      "회원 입력 :  나\n",
      "회원 입력 :  다\n"
     ]
    },
    {
     "name": "stdout",
     "output_type": "stream",
     "text": [
      "회원 명단 :  가 나 다 \n",
      "\n"
     ]
    }
   ],
   "source": [
    "# 1\n",
    "# 회원이름을 입력받아 회원명단 리스트를 생성 후\n",
    "# 회원명단 리스트 내용을 출력\n",
    "\n",
    "num = 3\n",
    "nameL = list()\n",
    "while num:\n",
    "    name = input(\"회원 입력 : \")\n",
    "    nameL.append(name)\n",
    "    num -= 1\n",
    "\n",
    "#print('회원 명단 : ', *nameL)\n",
    "print(\"회원 명단 : \", end =' ')\n",
    "for i in nameL:\n",
    "    print(i, end=' ')\n",
    "print(\"\")\n",
    "print(\"\")"
   ]
  },
  {
   "cell_type": "code",
   "execution_count": 3,
   "id": "77d807cf-80f5-4faa-9841-657638bee1f2",
   "metadata": {},
   "outputs": [
    {
     "name": "stdin",
     "output_type": "stream",
     "text": [
      "상품 등록 (엔터키 누르면 종료) :  에어컨\n",
      "상품 등록 (엔터키 누르면 종료) :  티비\n",
      "상품 등록 (엔터키 누르면 종료) :  냉장고\n",
      "상품 등록 (엔터키 누르면 종료) :  \n"
     ]
    },
    {
     "name": "stdout",
     "output_type": "stream",
     "text": [
      "등록된 상품 : 에어컨 티비 냉장고 "
     ]
    }
   ],
   "source": [
    "# 3\n",
    "# 상품을 리스트에 추가하고 엔터키를 누르면 입력 종료\n",
    "# 등록된 상품 리스트를 출력하는 코드 작성\n",
    "\n",
    "itemL = list()\n",
    "item = input(\"상품 등록 (엔터키 누르면 종료) : \")\n",
    "while True:\n",
    "    if(item == ''):\n",
    "        break\n",
    "    itemL.append(item)\n",
    "    item = input(\"상품 등록 (엔터키 누르면 종료) : \")\n",
    "\n",
    "print(\"등록된 상품 : \", end='')\n",
    "for i in itemL:\n",
    "    print(i, end=' ')"
   ]
  },
  {
   "cell_type": "code",
   "execution_count": null,
   "id": "24486dd8-8eb9-4925-9b3d-5d1f0f89d9d5",
   "metadata": {},
   "outputs": [],
   "source": []
  }
 ],
 "metadata": {
  "kernelspec": {
   "display_name": "python Multi",
   "language": "python",
   "name": "multi"
  },
  "language_info": {
   "codemirror_mode": {
    "name": "ipython",
    "version": 3
   },
   "file_extension": ".py",
   "mimetype": "text/x-python",
   "name": "python",
   "nbconvert_exporter": "python",
   "pygments_lexer": "ipython3",
   "version": "3.7.6"
  }
 },
 "nbformat": 4,
 "nbformat_minor": 5
}
