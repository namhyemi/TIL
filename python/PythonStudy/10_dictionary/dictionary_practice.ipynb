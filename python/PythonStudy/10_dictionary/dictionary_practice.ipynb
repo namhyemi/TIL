{
 "cells": [
  {
   "cell_type": "code",
   "execution_count": 1,
   "id": "1057d2de-466c-4f59-8474-73ae06fe3afe",
   "metadata": {},
   "outputs": [
    {
     "name": "stdout",
     "output_type": "stream",
     "text": [
      "이름      총점     평균\n",
      "홍길동    368    92.00\n",
      "이몽룡    384    96.00\n",
      "성춘향    356    89.00\n",
      "변학도    378    94.50\n",
      "박지성    389    97.25\n",
      "류현진    336    84.00\n"
     ]
    }
   ],
   "source": [
    "#1\n",
    "#학생들의 이름과 성적을 딕셔너리로 저장\n",
    "#딕셔너리를 사용하여 성적에 대한 총점과 평균을 계산하여 출력\n",
    "students = [\n",
    "   {\"name\" : \"홍길동\", \"korean\" : 87, \"math\" : 98, \"english\" : 88, \"science\" : 95},\n",
    "   {\"name\" : \"이몽룡\", \"korean\" : 92, \"math\" : 98, \"english\" : 96, \"science\" : 98},\n",
    "   {\"name\" : \"성춘향\", \"korean\" : 76, \"math\" : 96, \"english\" : 94, \"science\" : 90},\n",
    "   {\"name\" : \"변학도\", \"korean\" : 98, \"math\" : 92, \"english\" : 96, \"science\" : 92},\n",
    "   {\"name\" : \"박지성\", \"korean\" : 95, \"math\" : 98, \"english\" : 98, \"science\" : 98},\n",
    "   {\"name\" : \"류현진\", \"korean\" : 64, \"math\" : 88, \"english\" : 92, \"science\" : 92}\n",
    "]\n",
    "\n",
    "print(\"이름      총점     평균\")\n",
    "for student in students:\n",
    "   total = 0\n",
    "   print(student['name'], end = '  ')\n",
    "   for grade in (student) :\n",
    "      if 'name' != grade :\n",
    "         total+= student[grade]\n",
    "   # total = student['korean']+student['math']+student['english']+student['science']\n",
    "   print(\"%5.d %8.2f\" %(total, total/(len(students[0].keys())-1)))"
   ]
  },
  {
   "cell_type": "code",
   "execution_count": 2,
   "id": "eb7dde43-104a-4a3b-93e5-bed482215802",
   "metadata": {},
   "outputs": [
    {
     "name": "stdout",
     "output_type": "stream",
     "text": [
      "\n",
      "\n"
     ]
    },
    {
     "name": "stdin",
     "output_type": "stream",
     "text": [
      "영어 단어 등록 (종료는 quit) :  cat\n",
      "cat의 뜻입력 (종료는 quit) :  고양이\n"
     ]
    },
    {
     "name": "stdout",
     "output_type": "stream",
     "text": [
      " \n"
     ]
    },
    {
     "name": "stdin",
     "output_type": "stream",
     "text": [
      "영어 단어 등록 (종료는 quit) :  dog\n",
      "dog의 뜻입력 (종료는 quit) :  강아지\n"
     ]
    },
    {
     "name": "stdout",
     "output_type": "stream",
     "text": [
      " \n"
     ]
    },
    {
     "name": "stdin",
     "output_type": "stream",
     "text": [
      "영어 단어 등록 (종료는 quit) :  quit\n"
     ]
    },
    {
     "name": "stdout",
     "output_type": "stream",
     "text": [
      "\n"
     ]
    },
    {
     "name": "stdin",
     "output_type": "stream",
     "text": [
      "검색할 단어 입력(종료는 quit) :  cat\n"
     ]
    },
    {
     "name": "stdout",
     "output_type": "stream",
     "text": [
      "cat의 뜻은 고양이입니다\n",
      "\n"
     ]
    },
    {
     "name": "stdin",
     "output_type": "stream",
     "text": [
      "검색할 단어 입력(종료는 quit) :  dog\n"
     ]
    },
    {
     "name": "stdout",
     "output_type": "stream",
     "text": [
      "dog의 뜻은 강아지입니다\n",
      "\n"
     ]
    },
    {
     "name": "stdin",
     "output_type": "stream",
     "text": [
      "검색할 단어 입력(종료는 quit) :  quit\n"
     ]
    }
   ],
   "source": [
    "#2\n",
    "print(\"\\n\")\n",
    "#딕셔너리를 이용하여 사용자로부터 영어단어와 뜻을 입력받아 사전을 구성\n",
    "#사용자가 입력한 단어를 검색하여 뜻을 출력\n",
    "\n",
    "d = {}\n",
    "\n",
    "while True :\n",
    "   word = input(\"영어 단어 등록 (종료는 quit) : \")\n",
    "   if word == 'quit':\n",
    "      break\n",
    "   elif word in d:\n",
    "      print(\"%s는 이미 등록된 단어입니다.\" %word)\n",
    "   else :\n",
    "      mean = input(\"%s의 뜻입력 (종료는 quit) : \" %word)\n",
    "      if mean == \"quit\":\n",
    "         break\n",
    "      d[word] = mean\n",
    "\n",
    "   print(\" \")\n",
    "\n",
    "print(\"\")\n",
    "while True:\n",
    "   word = input(\"검색할 단어 입력(종료는 quit) : \")\n",
    "   if word in d :\n",
    "      print(\"%s의 뜻은 %s입니다\" %(word, d[word]))\n",
    "   elif word == \"quit\":\n",
    "      break\n",
    "   else :\n",
    "      print(\"%s는 사전에 없는 단어입니다.\" %word)\n",
    "   print(\"\")"
   ]
  },
  {
   "cell_type": "code",
   "execution_count": null,
   "id": "87c84e6c-78dd-4f29-be97-32f7ac4d9f62",
   "metadata": {},
   "outputs": [],
   "source": []
  }
 ],
 "metadata": {
  "kernelspec": {
   "display_name": "python Multi",
   "language": "python",
   "name": "multi"
  },
  "language_info": {
   "codemirror_mode": {
    "name": "ipython",
    "version": 3
   },
   "file_extension": ".py",
   "mimetype": "text/x-python",
   "name": "python",
   "nbconvert_exporter": "python",
   "pygments_lexer": "ipython3",
   "version": "3.7.6"
  }
 },
 "nbformat": 4,
 "nbformat_minor": 5
}
