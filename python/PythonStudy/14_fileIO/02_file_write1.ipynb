{
 "cells": [
  {
   "cell_type": "code",
   "execution_count": null,
   "id": "3090bb14-1ec1-4db9-a8e4-a260bafd5145",
   "metadata": {},
   "outputs": [],
   "source": [
    "# 파일에 쓰기 : 파일을 쓰기 모드(w)로 열고,\n",
    "# 파일객체의 write() 함수를 이용하여 파일에 출력(기록)"
   ]
  },
  {
   "cell_type": "code",
   "execution_count": null,
   "id": "c19cbabc-e36b-470d-b9db-75c55733b0a3",
   "metadata": {},
   "outputs": [],
   "source": [
    "# data = 'hello'\n",
    "# f = open('file2.txt', 'w')  # 파일객체 f\n",
    "# f.write(data)\n",
    "# f.close()"
   ]
  },
  {
   "cell_type": "code",
   "execution_count": null,
   "id": "b4ac3ffd-8850-48ff-b032-16fdbad95713",
   "metadata": {},
   "outputs": [],
   "source": [
    "# data = '안녕하세요'\n",
    "# f = open('file2.txt', 'w')  # 파일객체 f\n",
    "# f.write(data)\n",
    "# f.close()\n",
    "# 한글이 깨져보임"
   ]
  },
  {
   "cell_type": "code",
   "execution_count": 1,
   "id": "c2068ae2-2bb5-4091-b7c8-2385093777b2",
   "metadata": {},
   "outputs": [],
   "source": [
    "# 한글 인코딩 utf-8 지정\n",
    "data = '안녕하세요'\n",
    "f = open('file2.txt', 'w', encoding='utf-8')  # 파일객체 f\n",
    "f.write(data)\n",
    "f.close()\n",
    "# utf-8 형식으로 저장 : 한글깨지지 않음"
   ]
  },
  {
   "cell_type": "code",
   "execution_count": null,
   "id": "5ee99223-0800-4e35-90f2-7a6f8b9cd95c",
   "metadata": {},
   "outputs": [],
   "source": []
  }
 ],
 "metadata": {
  "kernelspec": {
   "display_name": "python Multi",
   "language": "python",
   "name": "multi"
  },
  "language_info": {
   "codemirror_mode": {
    "name": "ipython",
    "version": 3
   },
   "file_extension": ".py",
   "mimetype": "text/x-python",
   "name": "python",
   "nbconvert_exporter": "python",
   "pygments_lexer": "ipython3",
   "version": "3.7.6"
  }
 },
 "nbformat": 4,
 "nbformat_minor": 5
}
