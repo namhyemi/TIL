{
 "cells": [
  {
   "cell_type": "code",
   "execution_count": 2,
   "id": "c05e431c-efb6-4d81-a8ec-9e0cc849d191",
   "metadata": {},
   "outputs": [
    {
     "name": "stdout",
     "output_type": "stream",
     "text": [
      "01234\n",
      "abcde\n",
      "가나다라마\n",
      "\n",
      "Python programmingR programming\n",
      "\n",
      "51\n",
      "<class 'str'>\n",
      "0\n",
      "1\n",
      "2\n",
      "3\n",
      "4\n",
      "\n",
      "\n",
      "a\n",
      "b\n",
      "c\n",
      "d\n",
      "e\n",
      "\n",
      "\n",
      "가\n",
      "나\n",
      "다\n",
      "라\n",
      "마\n",
      "\n",
      "\n",
      "\n",
      "\n",
      "P\n",
      "y\n",
      "t\n",
      "h\n",
      "o\n",
      "n\n",
      " \n",
      "p\n",
      "r\n",
      "o\n",
      "g\n",
      "r\n",
      "a\n",
      "m\n",
      "m\n",
      "i\n",
      "n\n",
      "g\n",
      "R\n",
      " \n",
      "p\n",
      "r\n",
      "o\n",
      "g\n",
      "r\n",
      "a\n",
      "m\n",
      "m\n",
      "i\n",
      "n\n",
      "g\n",
      "\n",
      "\n"
     ]
    }
   ],
   "source": [
    "# read(): 파일전체를 읽어서 문자열 반환\n",
    "\n",
    "f = open('test2.txt','r',encoding='utf-8')\n",
    "data = f.read()\n",
    "print(data)\n",
    "\n",
    "print(len(data))\n",
    "print(type(data))\n",
    "\n",
    "for ch in data:\n",
    "    print(ch)\n",
    "\n",
    "f.close()"
   ]
  },
  {
   "cell_type": "code",
   "execution_count": null,
   "id": "dccfc4ec-3c6d-4436-8e88-b5e6cba9e831",
   "metadata": {},
   "outputs": [],
   "source": []
  }
 ],
 "metadata": {
  "kernelspec": {
   "display_name": "python Multi",
   "language": "python",
   "name": "multi"
  },
  "language_info": {
   "codemirror_mode": {
    "name": "ipython",
    "version": 3
   },
   "file_extension": ".py",
   "mimetype": "text/x-python",
   "name": "python",
   "nbconvert_exporter": "python",
   "pygments_lexer": "ipython3",
   "version": "3.7.6"
  }
 },
 "nbformat": 4,
 "nbformat_minor": 5
}
