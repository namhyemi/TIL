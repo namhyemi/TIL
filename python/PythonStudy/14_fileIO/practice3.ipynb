{
 "cells": [
  {
   "cell_type": "code",
   "execution_count": 6,
   "id": "91e6eb7d-e318-47b0-af81-28525cdd2821",
   "metadata": {},
   "outputs": [
    {
     "name": "stdout",
     "output_type": "stream",
     "text": [
      "['50 -15\\n', '\\n', '61 33\\n', '463 -666\\n', '63 16\\n', '95 55\\n', '-35 -56\\n', '-3 32\\n', '-62 100']\n",
      "50+-15=35.0\n",
      "61+33=94.0\n",
      "463+-666=-203.0\n",
      "63+16=79.0\n",
      "95+55=150.0\n",
      "-35+-56=-91.0\n",
      "-3+32=29.0\n",
      "-62+100=38.0\n",
      "\n"
     ]
    }
   ],
   "source": [
    "#list_num.txt 파일을 읽어들이는 코드 작성\n",
    "\n",
    "input_file = open(\"list_num.txt\",\"r\")\n",
    "list_file=input_file.readlines()\n",
    "print(list_file)\n",
    "\n",
    "#한줄에 두개의 숫자가 저장되어 있는 파일을 읽어와서\n",
    "#한줄의 두 숫자를 더한 연산을 한 후 연산결과를 파일로 내보내는 프로그램\n",
    "\n",
    "#파일을 읽어오고 파일에 쓰고, 숫자에 대해 연산하는 기능은 함수로 정의해서 사용\n",
    "#sum(inputfile 객체,저장파일명)\n",
    "\n",
    "#메인에서는 해당 함수를 호출해서 결과를 출력한다.\n",
    "#함수 정의 부분\n",
    "def sum(input_file,ouput_filename) :\n",
    "    #함수 기능 구현\n",
    "    list_file = input_file.readlines() #전달된 파일객체에서 데이터 읽어오기\n",
    "    output_file = open(ouput_filename,\"w\")\n",
    "    # print(list_file)\n",
    "\n",
    "    #리스트 각 요소에 대하여 필요없는 문자 제거 작업\n",
    "    for i in range(0,len(list_file)) :\n",
    "        list_file[i]=list_file[i].replace(\"\\n\",\"\")\n",
    "    # print(list_file)\n",
    "        if list_file[i] !='' :\n",
    "            value1,value2 = list_file[i].split()\n",
    "            sum = float(value1) + float(value2)\n",
    "            # print(value1,\"+\",value2,\"=\",sum)\n",
    "            new_line = value1+'+'+value2+'='+str(sum) +'\\n'\n",
    "            output_file.write(new_line)\n",
    "        else :\n",
    "            continue\n",
    "    output_file.close() #파일 닫기\n",
    "\n",
    "#main : 프로그램 실행코드\n",
    "#숫자가 저장되어 있는 파일 열기\n",
    "input_file = open(\"list_num.txt\",\"r\")\n",
    "sum(input_file, \"list_calc.txt\")\n",
    "input_file.close()\n",
    "\n",
    "with open('list_calc.txt','r') as f:\n",
    "    print(f.read())"
   ]
  },
  {
   "cell_type": "code",
   "execution_count": null,
   "id": "08c93703-3d6f-45f4-baf0-dcdde36943a4",
   "metadata": {},
   "outputs": [],
   "source": []
  }
 ],
 "metadata": {
  "kernelspec": {
   "display_name": "python Multi",
   "language": "python",
   "name": "multi"
  },
  "language_info": {
   "codemirror_mode": {
    "name": "ipython",
    "version": 3
   },
   "file_extension": ".py",
   "mimetype": "text/x-python",
   "name": "python",
   "nbconvert_exporter": "python",
   "pygments_lexer": "ipython3",
   "version": "3.7.6"
  }
 },
 "nbformat": 4,
 "nbformat_minor": 5
}
