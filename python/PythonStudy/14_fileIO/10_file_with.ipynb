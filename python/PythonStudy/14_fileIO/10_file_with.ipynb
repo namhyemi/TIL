{
 "cells": [
  {
   "cell_type": "code",
   "execution_count": 14,
   "id": "f904100c-6387-470e-8a61-837c16924585",
   "metadata": {},
   "outputs": [
    {
     "name": "stdout",
     "output_type": "stream",
     "text": [
      "나는 파이썬을 배우고 있어요.\n",
      "쉽지는 않지만\n",
      "하나씩 내가 해내니 성취감이 느껴져 좋네요\n"
     ]
    }
   ],
   "source": [
    "# with 문으로 파일 열기\n",
    "\n",
    "with open('test3.txt', 'w') as f:\n",
    "    f.write('hello')\n",
    "\n",
    "\n",
    "filename = 'test4.txt'\n",
    "data = '''나는 파이썬을 배우고 있어요.\n",
    "쉽지는 않지만\n",
    "하나씩 내가 해내니 성취감이 느껴져 좋네요'''\n",
    "\n",
    "with open(filename, 'w', encoding='utf-8') as f:\n",
    "    f.write(data)\n",
    "    \n",
    "with open(filename, 'r', encoding='utf-8') as f:\n",
    "    data=f.read()\n",
    "    print(data)"
   ]
  },
  {
   "cell_type": "code",
   "execution_count": null,
   "id": "eab9a5ce-2a83-4111-a830-7b93d99c9d88",
   "metadata": {},
   "outputs": [],
   "source": []
  }
 ],
 "metadata": {
  "kernelspec": {
   "display_name": "python Multi",
   "language": "python",
   "name": "multi"
  },
  "language_info": {
   "codemirror_mode": {
    "name": "ipython",
    "version": 3
   },
   "file_extension": ".py",
   "mimetype": "text/x-python",
   "name": "python",
   "nbconvert_exporter": "python",
   "pygments_lexer": "ipython3",
   "version": "3.7.6"
  }
 },
 "nbformat": 4,
 "nbformat_minor": 5
}
