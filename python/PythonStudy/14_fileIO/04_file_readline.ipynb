{
 "cells": [
  {
   "cell_type": "code",
   "execution_count": null,
   "id": "8a50fda4-1c60-4580-b8ff-e4562f025e75",
   "metadata": {},
   "outputs": [],
   "source": [
    "## readline() 함수 이용하여 파일 읽어오기\n",
    "\n",
    "# readline() : 1개의 행씩 읽어 오기, 행 끝에 '\\n' 포함\n",
    "# readlines() : 모든 행을 읽어 라인 단위별로 잘라서 리스트를 생성\n",
    "#               ['...\\n','...\\n','...\\n',...,'...\\n']\n",
    "# read() : 내용 전체를 한 문자열로 반환 ''' '''"
   ]
  },
  {
   "cell_type": "code",
   "execution_count": 5,
   "id": "77f88ccd-1812-4299-a249-8c3594b4a297",
   "metadata": {},
   "outputs": [],
   "source": [
    "# print('-----첫번째 행 읽어오기---------')\n",
    "\n",
    "# ANSI형식으로 저장된 파일 읽기\n",
    "# f = open('test.txt','r')\n",
    "# line = f.readline()\n",
    "# print(line)\n",
    "# f.close()"
   ]
  },
  {
   "cell_type": "code",
   "execution_count": null,
   "id": "3180758a-d80c-49ad-9593-857558bce300",
   "metadata": {},
   "outputs": [],
   "source": [
    "# utf-8저장된 파일 읽기\n",
    "# f = open('test.txt','r')\n",
    "# line = f.readline()\n",
    "# print(line)\n",
    "# f.close()\n",
    "# 오류발생\n",
    "# UnicodeDecodeError: 'cp949' codec can't decode byte 0xec in position 0: illegal multibyte sequence"
   ]
  },
  {
   "cell_type": "code",
   "execution_count": 7,
   "id": "f6ac363b-7c88-4dd4-917b-b2f9d07bea9e",
   "metadata": {},
   "outputs": [
    {
     "name": "stdout",
     "output_type": "stream",
     "text": [
      "안녕하세요. 홍길동입니다.\n",
      "\n"
     ]
    }
   ],
   "source": [
    "# 인코딩 utf-8 로 지정하여 해결\n",
    "f = open('test.txt','r', encoding='utf-8')\n",
    "line = f.readline()\n",
    "print(line)\n",
    "f.close()"
   ]
  },
  {
   "cell_type": "code",
   "execution_count": 8,
   "id": "e2d53bf5-02be-4c90-88cc-3343e5ec2dcc",
   "metadata": {},
   "outputs": [
    {
     "name": "stdout",
     "output_type": "stream",
     "text": [
      "안녕하세요. 홍길동입니다.\n",
      "\n",
      "지금 파이썬을 공부하는 중이에요\n"
     ]
    }
   ],
   "source": [
    "# print('----여러 줄 읽기------')\n",
    "\n",
    "f = open('test.txt','r', encoding='utf-8')\n",
    "line = f.readline()\n",
    "print(line)\n",
    "line = f.readline()\n",
    "print(line)\n",
    "f.close()\n",
    "# 출력형식 :\n",
    "# 안녕하세요. 홍길동입니다.\n",
    "#\n",
    "# 지금 파이썬을 공부하는 중이에요\n",
    "#\n",
    "\n",
    "# f = open('test.txt','r', encoding='utf-8')\n",
    "# line = f.readline()\n",
    "# print(line, end='')\n",
    "# line = f.readline()\n",
    "# print(line)\n",
    "# f.close()\n",
    "# 출력형식 :\n",
    "# 안녕하세요. 홍길동입니다.\n",
    "# 지금 파이썬을 공부하는 중이에요"
   ]
  },
  {
   "cell_type": "code",
   "execution_count": 10,
   "id": "31f0f564-801f-4880-ad70-86b3f9ad7843",
   "metadata": {},
   "outputs": [
    {
     "name": "stdout",
     "output_type": "stream",
     "text": [
      "안녕하세요. 홍길동입니다.\n",
      "지금 파이썬을 공부하는 중이에요"
     ]
    }
   ],
   "source": [
    "# #----파일 전체 읽기------\n",
    "f = open('test.txt','r', encoding='utf-8')\n",
    "while True:\n",
    "    line = f.readline()\n",
    "    if(line ==''):\n",
    "        break\n",
    "    print(line, end='')\n",
    "f.close()\n",
    "\n",
    "# f = open('test.txt','r', encoding='utf-8')\n",
    "# while 1:\n",
    "#     try:\n",
    "#         line = f.readline()\n",
    "#         print(line, end=\"\")\n",
    "#     except Exception:\n",
    "#         break\n",
    "# f.close()"
   ]
  },
  {
   "cell_type": "code",
   "execution_count": null,
   "id": "7756d7ff-ab4e-4c95-a170-21850ee6d7fc",
   "metadata": {},
   "outputs": [],
   "source": []
  }
 ],
 "metadata": {
  "kernelspec": {
   "display_name": "python Multi",
   "language": "python",
   "name": "multi"
  },
  "language_info": {
   "codemirror_mode": {
    "name": "ipython",
    "version": 3
   },
   "file_extension": ".py",
   "mimetype": "text/x-python",
   "name": "python",
   "nbconvert_exporter": "python",
   "pygments_lexer": "ipython3",
   "version": "3.7.6"
  }
 },
 "nbformat": 4,
 "nbformat_minor": 5
}
