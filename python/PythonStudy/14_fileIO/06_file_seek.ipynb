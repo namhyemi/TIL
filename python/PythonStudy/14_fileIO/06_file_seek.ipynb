{
 "cells": [
  {
   "cell_type": "code",
   "execution_count": null,
   "id": "efc665db-95ca-44d2-9c58-a0091b663b96",
   "metadata": {},
   "outputs": [],
   "source": [
    "#파일 내에서 검색\n",
    "# seek(offset, whence) 함수"
   ]
  },
  {
   "cell_type": "code",
   "execution_count": 19,
   "id": "beb179b2-b795-47a9-8f74-99691ff6ff7a",
   "metadata": {},
   "outputs": [
    {
     "name": "stdout",
     "output_type": "stream",
     "text": [
      "['나다라마\\n', '\\n', 'Python programmingR programming\\n']\n"
     ]
    }
   ],
   "source": [
    "f = open('test2.txt','r', encoding='utf-8')\n",
    "# f.seek(0,0)  # 시작위치는 0행, 0열\n",
    "# f.seek(1,0)  # 시작위치는 0행, 1열\n",
    "# f.seek(7,0)  # 시작위치는 1행 0열 (\\n 2바이트)\n",
    "# f.seek(14,0)\n",
    "# f.seek(15,0)  # 오류발생 : UnicodeDecodeError: 'utf-8' codec can't decode byte 0xb0 in position 0: invalid start byte\n",
    "# 한글 3바이트\n",
    "f.seek(17,0)\n",
    "lines = f.readlines()\n",
    "print(lines)\n",
    "f.close()"
   ]
  },
  {
   "cell_type": "code",
   "execution_count": null,
   "id": "ff188ba3-a7d8-488e-9867-97c3020fff10",
   "metadata": {},
   "outputs": [],
   "source": []
  },
  {
   "cell_type": "code",
   "execution_count": null,
   "id": "846e964f-c614-4c72-b492-2c1415e0951a",
   "metadata": {},
   "outputs": [],
   "source": []
  }
 ],
 "metadata": {
  "kernelspec": {
   "display_name": "python Multi",
   "language": "python",
   "name": "multi"
  },
  "language_info": {
   "codemirror_mode": {
    "name": "ipython",
    "version": 3
   },
   "file_extension": ".py",
   "mimetype": "text/x-python",
   "name": "python",
   "nbconvert_exporter": "python",
   "pygments_lexer": "ipython3",
   "version": "3.7.6"
  }
 },
 "nbformat": 4,
 "nbformat_minor": 5
}
