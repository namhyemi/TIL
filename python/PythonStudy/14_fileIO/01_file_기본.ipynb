{
 "cells": [
  {
   "cell_type": "code",
   "execution_count": null,
   "id": "8f608692-f753-491a-8f1a-ef32ce8df49f",
   "metadata": {},
   "outputs": [],
   "source": [
    "#파일 입출력\n",
    "#파일 생성하기 (open())\n",
    "#파일에 쓰기 (write())\n",
    "#파일에서 읽기(read())\n",
    "#파일에 추가하기 (append())\n",
    "#파일 연결 종료 하기 (close())\n",
    "# with 문과 함께 사용 : close() 단계를 자동 수행함."
   ]
  },
  {
   "cell_type": "code",
   "execution_count": null,
   "id": "e9f9941a-2aca-4dac-b511-9365a8bb9b59",
   "metadata": {},
   "outputs": [],
   "source": [
    "#open() 함수\n",
    "#형식\n",
    "#파일객체 = open(파일명, 파일 열기모드)\n",
    "#파일이 저장된 메모리 참조하는 객체로 생성\n",
    "#open이후 작업에서는 파일객체.함수(파일객체.read())형식으로 사용\n",
    "#파일 열기 모드\n",
    "#r : 읽기, w : 쓰기, a : append(파일끝에 내용 추가)"
   ]
  },
  {
   "cell_type": "code",
   "execution_count": null,
   "id": "6929fccd-9b2b-4c85-aafe-d84df908bec5",
   "metadata": {},
   "outputs": [],
   "source": [
    "#파일 사용 코드\n",
    "#파일객체.close()함수- 파일 닫기\n",
    "#파일 작업이 끝나면 close()함수로 열려있는 파일 객체를 닫는다.\n",
    "#파일 닫지 않아도 에러는 나지 않고, 프로그램 종료시 전부 자동으로 닫힌다.\n",
    "#쓰기모드로 연 파일을 닫지 않고 다시 작업하는 경우 에러가 발생\n",
    "#close()로 닫는 것이 좋다."
   ]
  },
  {
   "cell_type": "code",
   "execution_count": null,
   "id": "7cb509b0-945e-4d2f-ad61-68f0dea151fd",
   "metadata": {},
   "outputs": [],
   "source": [
    "#빈 파일 생성\n",
    "#파일을 쓰기모드(w)로 연다.\n",
    "#해당파일이 존재하지 않으면 새로 생성하고\n",
    "#존재하면 덮어 씀(기존 내용은 없어짐)\n",
    "\n",
    "#원래 있던 파일의 수정은 append 방식으로 열어야 함.\n",
    "\n",
    "### 파일 입출력의 기본 형식은 txt 임.\n",
    "\n",
    "#디렉터리 변경하지 않으면 현재 코딩중인 파일의 디렉터리에 생성됨 : 경로를 적어주지 않으면\n",
    "\n",
    "#!!!!파일 입출력은 콘솔 실행 불가 : 실행메뉴를 이용해야 함."
   ]
  },
  {
   "cell_type": "code",
   "execution_count": null,
   "id": "c02f9154-1953-4727-ad7b-a95000695928",
   "metadata": {},
   "outputs": [],
   "source": [
    "#파일생성 : 파일명만 적기\n",
    "\n",
    "# f = open(\"file1.txt\",'w')\n",
    "# f.close()\n",
    "# 생성된 file1.txt 파일은 빈 파일"
   ]
  },
  {
   "cell_type": "code",
   "execution_count": null,
   "id": "01044db7-d099-4497-8e5d-6921aa47e872",
   "metadata": {},
   "outputs": [],
   "source": [
    "# 경로 수정 : 디렉토리가 존재하지 않는 경우\n",
    "\n",
    "# f = open(\"c:/python/file1.txt\",'w')\n",
    "# f.close()\n",
    "# FileNotFoundError: [Errno 2] No such file or directory: 'c:/python/file1.txt'"
   ]
  },
  {
   "cell_type": "code",
   "execution_count": null,
   "id": "c4b5fadd-78c3-4015-9951-1234bf1742d5",
   "metadata": {},
   "outputs": [],
   "source": [
    "# 디렉토리 경로 설정 시  '\\' 사용하면 오류 발생  => \\\\ 또는 /\n",
    "# 파일의 절대경로\n",
    "# f = open(\"c:\\pythonStudy\\file1.txt\",'w')\n",
    "# f = open(\"c:\\\\pythonStudy\\\\file2.txt\",'w')\n",
    "# f.close()\n",
    "# OSError: [Errno 22] Invalid argument: 'c:\\\\pythonStudy\\x0cile1.txt'"
   ]
  },
  {
   "cell_type": "code",
   "execution_count": null,
   "id": "44a984d2-db9d-4ed6-ad21-dbe539a0bbab",
   "metadata": {},
   "outputs": [],
   "source": [
    "# 상대경로 표현\n",
    "# f = open(\"../file.txt\",'w')\n",
    "# f.close()\n",
    "# C:/pythonStudy/file.txt"
   ]
  }
 ],
 "metadata": {
  "kernelspec": {
   "display_name": "python Multi",
   "language": "python",
   "name": "multi"
  },
  "language_info": {
   "codemirror_mode": {
    "name": "ipython",
    "version": 3
   },
   "file_extension": ".py",
   "mimetype": "text/x-python",
   "name": "python",
   "nbconvert_exporter": "python",
   "pygments_lexer": "ipython3",
   "version": "3.7.6"
  }
 },
 "nbformat": 4,
 "nbformat_minor": 5
}
