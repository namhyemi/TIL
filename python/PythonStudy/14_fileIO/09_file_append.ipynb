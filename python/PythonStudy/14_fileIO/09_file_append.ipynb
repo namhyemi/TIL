{
 "cells": [
  {
   "cell_type": "code",
   "execution_count": 3,
   "id": "146a933d-7905-4840-929b-746efb947e95",
   "metadata": {},
   "outputs": [
    {
     "name": "stdout",
     "output_type": "stream",
     "text": [
      "01234\n",
      "abcde\n",
      "가나다라마\n",
      "\n",
      "Python programming\n",
      "\n",
      "R programming\n",
      "\n"
     ]
    }
   ],
   "source": [
    "# append mode를 사용하여 파일끝에 추가\n",
    "# 파일 열기모드는 'a'\n",
    "\n",
    "# f = open('test2.txt', 'a', encoding='utf-8')\n",
    "# data = '\\n\\nPython programming'\n",
    "# f.write(data)\n",
    "# f.close()\n",
    "\n",
    "# 읽기모드로 파일을 열어서 내용 출력\n",
    "\n",
    "f = open('test2.txt', 'a', encoding='utf-8')\n",
    "data = '\\nR programming\\n'\n",
    "f.write(data)\n",
    "f.close()\n",
    "\n",
    "f = open('test2.txt', 'r', encoding='utf-8')\n",
    "print(f.read())\n",
    "f.close()\n"
   ]
  },
  {
   "cell_type": "code",
   "execution_count": null,
   "id": "3f9c33bc-4eb0-4426-af67-94c87e1a3826",
   "metadata": {},
   "outputs": [],
   "source": []
  }
 ],
 "metadata": {
  "kernelspec": {
   "display_name": "python Multi",
   "language": "python",
   "name": "multi"
  },
  "language_info": {
   "codemirror_mode": {
    "name": "ipython",
    "version": 3
   },
   "file_extension": ".py",
   "mimetype": "text/x-python",
   "name": "python",
   "nbconvert_exporter": "python",
   "pygments_lexer": "ipython3",
   "version": "3.7.6"
  }
 },
 "nbformat": 4,
 "nbformat_minor": 5
}
