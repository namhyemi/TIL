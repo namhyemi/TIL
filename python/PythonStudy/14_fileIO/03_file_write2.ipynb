{
 "cells": [
  {
   "cell_type": "code",
   "execution_count": null,
   "id": "de1d9875-fdf7-4d49-a77f-cefd0373968c",
   "metadata": {},
   "outputs": [],
   "source": [
    "# 파일에 쓰기 w ; write()"
   ]
  },
  {
   "cell_type": "code",
   "execution_count": null,
   "id": "0d581319-bb89-4618-a3a1-c8941d04687a",
   "metadata": {},
   "outputs": [],
   "source": [
    "# 여러 줄의 데이터 쓰기\n",
    "# f = open('file3.txt', 'w', encoding='utf-8')\n",
    "# for i in range(1, 11):\n",
    "#     data = '%d행' % i\n",
    "#     f.write(data)\n",
    "# f.close()\n",
    "# 파일 내용 : 1행2행3행4행5행6행7행8행9행10행"
   ]
  },
  {
   "cell_type": "code",
   "execution_count": null,
   "id": "fb3078cc-9e32-4aab-bcb7-c3033786d0b1",
   "metadata": {},
   "outputs": [],
   "source": [
    "# 탭으로 구분하여 출력\n",
    "# f = open('file4.txt', 'w', encoding='utf-8')\n",
    "# for i in range(1, 11):\n",
    "#     data = '%d행\\t' % i\n",
    "#     f.write(data)\n",
    "# f.close()\n",
    "# 1행\t2행\t3행\t4행\t5행\t6행\t7행\t8행\t9행\t10행"
   ]
  },
  {
   "cell_type": "code",
   "execution_count": null,
   "id": "02990c7e-5236-40d1-8730-80ed1bcca1ec",
   "metadata": {},
   "outputs": [],
   "source": [
    "# 한 줄 단위로 출력\n",
    "# f = open('file4.txt', 'w', encoding='utf-8')\n",
    "# for i in range(1, 11):\n",
    "#     data = '%d행\\n' % i\n",
    "#     f.write(data)\n",
    "# f.close()"
   ]
  },
  {
   "cell_type": "code",
   "execution_count": null,
   "id": "1cff1f75-1997-4831-98c9-7b03266c60d1",
   "metadata": {},
   "outputs": [],
   "source": [
    "# ',' 넣어서 csv 파일 형식으로 저장\n",
    "# f = open('file4.csv', 'w', encoding='utf-8')\n",
    "# for i in range(1, 11):\n",
    "#     data = '%d행,' % i\n",
    "#     f.write(data)\n",
    "# f.close()"
   ]
  },
  {
   "cell_type": "code",
   "execution_count": 1,
   "id": "928e47ea-2dbd-467e-b612-8654420497af",
   "metadata": {},
   "outputs": [],
   "source": [
    "f = open('file4.csv', 'w', encoding='utf-8')\n",
    "for i in range(1, 11):\n",
    "    if i==10:\n",
    "        data = '%d행,' % i\n",
    "    else:\n",
    "        data = '%d행,' % i\n",
    "    f.write(data)\n",
    "f.close()"
   ]
  },
  {
   "cell_type": "code",
   "execution_count": null,
   "id": "4d304c77-8fd9-4ac8-ac3a-71aa50035688",
   "metadata": {},
   "outputs": [],
   "source": []
  }
 ],
 "metadata": {
  "kernelspec": {
   "display_name": "python Multi",
   "language": "python",
   "name": "multi"
  },
  "language_info": {
   "codemirror_mode": {
    "name": "ipython",
    "version": 3
   },
   "file_extension": ".py",
   "mimetype": "text/x-python",
   "name": "python",
   "nbconvert_exporter": "python",
   "pygments_lexer": "ipython3",
   "version": "3.7.6"
  }
 },
 "nbformat": 4,
 "nbformat_minor": 5
}
