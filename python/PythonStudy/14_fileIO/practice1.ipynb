{
 "cells": [
  {
   "cell_type": "code",
   "execution_count": 2,
   "id": "523f064a-adee-466a-acb6-d3df84ce5aaa",
   "metadata": {},
   "outputs": [
    {
     "name": "stdin",
     "output_type": "stream",
     "text": [
      "저장 1, 출력 2, 종료 q :  1\n",
      "멤버 명단을 저장할 파일명을 입력하세요. :  name.txt\n",
      "멤버를 입력하세요.(종료는 q) :  김씨\n",
      "멤버를 입력하세요.(종료는 q) :  이씨\n",
      "멤버를 입력하세요.(종료는 q) :  q\n",
      "저장 1, 출력 2, 종료 q :  2\n",
      "멤버 명단이 저장된 파일명을 입력하세요. :  name.txt\n"
     ]
    },
    {
     "name": "stdout",
     "output_type": "stream",
     "text": [
      "김씨\n",
      "이씨\n"
     ]
    },
    {
     "name": "stdin",
     "output_type": "stream",
     "text": [
      "저장 1, 출력 2, 종료 q :  q\n"
     ]
    }
   ],
   "source": [
    "#사용자로부터 회원 명단을 입력받아서 파일로 저장하는 함수 정의\n",
    "#input_member(저장파일명)\n",
    "#사용자로부터 명단 입력 받고 저장이 완료된 후\n",
    "#저장되었습니다.를 출력\n",
    "#명단 입력은 q키를 누를때까지 계속 작업 한다.\n",
    "\n",
    "def input_member(input_file) :\n",
    "    f = open(input_file,'w',encoding='utf-8')\n",
    "    while True :\n",
    "        mem = input(\"멤버를 입력하세요.(종료는 q) : \")\n",
    "        if mem == 'q' :\n",
    "            break\n",
    "        else :\n",
    "            f.write(mem + '\\n')\n",
    "    f.close()\n",
    "\n",
    "\n",
    "#사용자가 입력한 파일을 열어서 출력해주는 함수 정의\n",
    "#output_member(출력데이터파일명)\n",
    "#전달된파일명을 이용해서 파일에 들어있는 데이터를 출력한다.\n",
    "def output_member(output_file) :\n",
    "    f=open(output_file,'r',encoding='utf-8')\n",
    "    lines = f.readlines()\n",
    "    for mem in lines :\n",
    "        print(mem,end='')\n",
    "    f.close()\n",
    "\n",
    "\n",
    "#실행코드(main)\n",
    "#q를 입력할때 까지 실행은 무한 반복\n",
    "#사용자에게 저장 1, 출력 2, 종료 q\n",
    "# input_file=input(\"멤버 명단을 저장할 파일명을 입력하세요. :\")\n",
    "# input_member(input_file)\n",
    "# output_file = input(\"멤버 명단이 저장되어 있는 파일명을 입력하세요. : \")\n",
    "# output_member(output_file)\n",
    "\n",
    "#main\n",
    "while True :\n",
    "    sel = input(\"저장 1, 출력 2, 종료 q : \")\n",
    "    if sel == '1' :\n",
    "        input_file = input(\"멤버 명단을 저장할 파일명을 입력하세요. : \")\n",
    "        input_member(input_file)\n",
    "    elif sel == '2' :\n",
    "        output_file = input(\"멤버 명단이 저장된 파일명을 입력하세요. : \")\n",
    "        output_member(output_file)\n",
    "    elif sel == 'q' :\n",
    "        break\n",
    "    else :\n",
    "        print(\"잘못 입력 하셨습니다.\")"
   ]
  },
  {
   "cell_type": "code",
   "execution_count": null,
   "id": "5e62ec64-24e9-4270-ab32-edc07425a986",
   "metadata": {},
   "outputs": [],
   "source": []
  }
 ],
 "metadata": {
  "kernelspec": {
   "display_name": "python Multi",
   "language": "python",
   "name": "multi"
  },
  "language_info": {
   "codemirror_mode": {
    "name": "ipython",
    "version": 3
   },
   "file_extension": ".py",
   "mimetype": "text/x-python",
   "name": "python",
   "nbconvert_exporter": "python",
   "pygments_lexer": "ipython3",
   "version": "3.7.6"
  }
 },
 "nbformat": 4,
 "nbformat_minor": 5
}
