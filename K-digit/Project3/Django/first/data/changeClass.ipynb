{
 "cells": [
  {
   "cell_type": "code",
   "execution_count": null,
   "id": "8c78c7d3",
   "metadata": {},
   "outputs": [],
   "source": [
    "## \n",
    "## obj.name 파일에 있는 순서대로 클래스 지정"
   ]
  },
  {
   "cell_type": "code",
   "execution_count": null,
   "id": "968b446c",
   "metadata": {},
   "outputs": [],
   "source": [
    "import os\n",
    "import pandas as pd\n",
    "import time\n",
    "\n",
    "#### txt 파일 수정 ####\n",
    "def class_define(path, count):\n",
    "    \n",
    "    path = '/home/tutor/bpm/dataset/training/' + path + '/' ### 음식 이미지 정보 담긴 txt 파일 있는 경로\n",
    "\n",
    "    file_names = os.listdir(path)\n",
    "    file_names = [file for file in folder_names if file.endswith('.txt')]\n",
    "    file_names.sort()\n",
    "\n",
    "    for file in file_names:\n",
    "        try:\n",
    "            with open(path+file, 'r') as f:\n",
    "                context = f.readline().strip()\n",
    "        \n",
    "            with open(path+file, 'w') as f:\n",
    "                f.write(str(count)+' '+' '.join(context.split(' ')[1:]))\n",
    "        except:\n",
    "            print(file, '변경 실패')\n",
    "\n",
    "\n",
    "### main() ####\n",
    "if __name__ == '__main__':\n",
    "    \n",
    "    with open('obj.names', 'r') as fl: ## 사용하는 .names 파일 위치 작성\n",
    "        count = 1\n",
    "        for names in fl.readlines():\n",
    "            try :\n",
    "                start = time.time()\n",
    "                class_define(names.strip(), count)\n",
    "                count += 1\n",
    "                print(names.strip(), '폴더 완료, 실행시간 : ', time.time()-start, '(s)')\n",
    "            except :\n",
    "                print(names.strip(), '폴더 실패') ## 폴더가 없습니다."
   ]
  },
  {
   "cell_type": "code",
   "execution_count": null,
   "id": "b1f15e25",
   "metadata": {},
   "outputs": [],
   "source": [
    "## \n",
    "## obj.name 파일에 있는 순서대로 클래스 지정"
   ]
  },
  {
   "cell_type": "code",
   "execution_count": null,
   "id": "d87da6ef",
   "metadata": {},
   "outputs": [],
   "source": [
    "import os\n",
    "import pandas as pd\n",
    "import time\n",
    "\n",
    "#### txt 파일 수정 ####\n",
    "def class_define(path, count):\n",
    "    \n",
    "    path = '/home/tutor/bpm/dataset/validation/' + path + '/' ### 음식 이미지 정보 담긴 txt 파일 있는 경로\n",
    "\n",
    "    file_names = os.listdir(path)\n",
    "    file_names = [file for file in folder_names if file.endswith('.txt')]\n",
    "    file_names.sort()\n",
    "\n",
    "    for file in file_names:\n",
    "        try:\n",
    "            with open(path+file, 'r') as f:\n",
    "                context = f.readline().strip()\n",
    "        \n",
    "            with open(path+file, 'w') as f:\n",
    "                f.write(str(count)+' '+' '.join(context.split(' ')[1:]))\n",
    "        except:\n",
    "            print(file, '변경 실패')\n",
    "\n",
    "\n",
    "### main() ####\n",
    "if __name__ == '__main__':\n",
    "    \n",
    "    with open('obj.names', 'r') as fl: ## 사용하는 .names 파일 위치 작성\n",
    "        count = 1\n",
    "        for names in fl.readlines():\n",
    "            try :\n",
    "                start = time.time()\n",
    "                class_define(names.strip(), count)\n",
    "                count += 1\n",
    "                print(names.strip(), '폴더 완료, 실행시간 : ', time.time()-start, '(s)')\n",
    "            except :\n",
    "                print(names.strip(), '폴더 실패') ## 폴더가 없습니다."
   ]
  }
 ],
 "metadata": {
  "kernelspec": {
   "display_name": "Python 3",
   "language": "python",
   "name": "python3"
  },
  "language_info": {
   "codemirror_mode": {
    "name": "ipython",
    "version": 3
   },
   "file_extension": ".py",
   "mimetype": "text/x-python",
   "name": "python",
   "nbconvert_exporter": "python",
   "pygments_lexer": "ipython3",
   "version": "3.6.9"
  }
 },
 "nbformat": 4,
 "nbformat_minor": 5
}
