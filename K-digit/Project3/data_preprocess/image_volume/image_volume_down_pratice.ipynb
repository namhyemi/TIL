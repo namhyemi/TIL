{
 "cells": [
  {
   "cell_type": "code",
   "execution_count": 2,
   "id": "c87281c4-f6ef-4636-a860-fb497d56ed0e",
   "metadata": {},
   "outputs": [],
   "source": [
    "import os\n",
    "import time\n",
    "\n",
    "from PIL import Image"
   ]
  },
  {
   "cell_type": "code",
   "execution_count": 3,
   "id": "64af5180-21c7-4d23-bfec-d59eb8ffba6d",
   "metadata": {},
   "outputs": [
    {
     "name": "stdout",
     "output_type": "stream",
     "text": [
      "test  time :  0.0\n",
      "test\\1  time :  0.07301568984985352\n",
      "test\\2  time :  0.0\n"
     ]
    }
   ],
   "source": [
    "# 파일 오픈 에러 (깨진파일)\n",
    "targetdir = 'test' # 폴더 이름\n",
    "files = os.listdir(targetdir)\n",
    "\n",
    "format = [\".jpg\",\".jpeg\",\".png\",\".JPG\",\".JPEG\",\".PNG\"]\n",
    "\n",
    "\n",
    "for (path,dirs,files) in os.walk(targetdir):\n",
    "    start = time.time()\n",
    "    for file in files :\n",
    "        try:\n",
    "            image = Image.open(path+'\\\\'+file) ## path : 이미지 폴더명, file : 파일명\n",
    "#             image.save(path+'\\\\'+file,'JPEG',quality=40)  # 파일 저장(원본 덮어쓰기)\n",
    "#             createFolder(path+'_new') # 새로운 폴더 생성\n",
    "#             image.save(path+'_new'+'\\\\'+file,'JPEG',quality=40) # 파일 저장\n",
    "        except:\n",
    "            print('Error! file name : ', file)\n",
    "    print(path,\" time : \", time.time() - start)"
   ]
  },
  {
   "cell_type": "code",
   "execution_count": 4,
   "id": "245ccbe9-155c-4285-b2db-f7ce0b07c561",
   "metadata": {},
   "outputs": [
    {
     "name": "stdout",
     "output_type": "stream",
     "text": [
      "train  time :  0.0\n",
      "train\\04015003_new\\04_045_04015003_161189395035058_0.jpeg\n",
      "train\\04015003_new  time :  0.1540355682373047\n",
      "train\\04016001_new  time :  0.13202834129333496\n",
      "train\\04017001_new  time :  0.1340315341949463\n",
      "train\\04017002_new  time :  0.14603257179260254\n",
      "train\\04018001_new  time :  0.13402986526489258\n",
      "train\\04018002_new  time :  0.13003039360046387\n",
      "train\\04018003_new\\04_048_04018003_161198452128723_0.jpeg\n",
      "train\\04018003_new\\04_048_04018003_161198692444621_0.jpeg\n",
      "train\\04018003_new\\04_048_04018003_161201019285612_0.jpeg\n",
      "train\\04018003_new  time :  0.13102960586547852\n",
      "train\\04018004_new  time :  0.13203120231628418\n"
     ]
    }
   ],
   "source": [
    "# 파일 상태 확인 (원본인지 전환본인지)\n",
    "targetdir = 'train' # 폴더 이름\n",
    "files = os.listdir(targetdir)\n",
    "\n",
    "format = [\".jpg\",\".jpeg\",\".png\",\".JPG\",\".JPEG\",\".PNG\"]\n",
    "\n",
    "\n",
    "for (path,dirs,files) in os.walk(targetdir):\n",
    "    start = time.time()\n",
    "    for file in files :\n",
    "        try:\n",
    "            if(os.path.getsize(path+'\\\\'+file) > 2000000):\n",
    "                print(path+'\\\\'+file)\n",
    "            else:\n",
    "                pass\n",
    "        except:\n",
    "            print('Error! file name : ', file)\n",
    "    print(path,\" time : \", time.time() - start)"
   ]
  },
  {
   "cell_type": "code",
   "execution_count": 4,
   "id": "c3d5d4d4-0672-4925-b6ca-de61ab7cde8d",
   "metadata": {},
   "outputs": [
    {
     "name": "stdout",
     "output_type": "stream",
     "text": [
      "test  time :  0.0\n",
      "Error! file name :  06_062_06012006_160454698756181_0.jpg\n",
      "Error! file name :  09_093_09013001_160344406683678_0.png\n",
      "test\\1  time :  0.0019996166229248047\n",
      "test\\2  time :  0.0\n"
     ]
    }
   ],
   "source": [
    "# 파일 전환\n",
    "targetdir = 'test' # 폴더 이름\n",
    "files = os.listdir(targetdir)\n",
    "\n",
    "format = [\".jpg\",\".jpeg\",\".png\",\".JPG\",\".JPEG\",\".PNG\"]\n",
    "\n",
    "\n",
    "for (path,dirs,files) in os.walk(targetdir):\n",
    "    start = time.time()\n",
    "    for file in files :\n",
    "        try:\n",
    "            image = Image.open(path+'\\\\'+file) ## path : 이미지 폴더명, file : 파일명\n",
    "#             image.save(path+'\\\\'+file,'JPEG',quality=40)  # 파일 저장(원본 덮어쓰기)\n",
    "            createFolder(path+'_new') # 새로운 폴더 생성\n",
    "            image.save(path+'_new'+'\\\\'+file,'JPEG',quality=40) # 파일 저장\n",
    "        \n",
    "        except:\n",
    "            print('Error! file name : ', file)\n",
    "    print(path,\" time : \", time.time() - start)"
   ]
  },
  {
   "cell_type": "code",
   "execution_count": null,
   "id": "81240fae-63f0-41fe-a66b-c3e4085421e1",
   "metadata": {},
   "outputs": [],
   "source": []
  },
  {
   "cell_type": "code",
   "execution_count": null,
   "id": "3ee8392f-12da-4d70-9c45-4d6f2348a138",
   "metadata": {},
   "outputs": [],
   "source": [
    "## 연습"
   ]
  },
  {
   "cell_type": "code",
   "execution_count": 11,
   "id": "0265ba6c-20d5-43f0-b22b-e721cab22172",
   "metadata": {},
   "outputs": [],
   "source": [
    "file = '04_049_04019007_160897566483022_1.jpg'"
   ]
  },
  {
   "cell_type": "code",
   "execution_count": 114,
   "id": "8ba61ac1-f79f-4842-bb26-905665583359",
   "metadata": {},
   "outputs": [],
   "source": [
    "img = Image.open(file)"
   ]
  },
  {
   "cell_type": "code",
   "execution_count": 10,
   "id": "f30f1a13-8213-4089-941c-c22506c0438f",
   "metadata": {},
   "outputs": [],
   "source": [
    "# print(os.path.getsize(img),'bytes')"
   ]
  },
  {
   "cell_type": "code",
   "execution_count": 11,
   "id": "14a70d41-4dfc-4add-9c4d-0d5a7bb33926",
   "metadata": {},
   "outputs": [],
   "source": [
    "# img.save('chage01.jpg','JPEG',quality=40)"
   ]
  },
  {
   "cell_type": "code",
   "execution_count": 12,
   "id": "1524355a-b2ea-4d63-b96c-e275d274d349",
   "metadata": {},
   "outputs": [
    {
     "name": "stdout",
     "output_type": "stream",
     "text": [
      "4276929 byte\n"
     ]
    }
   ],
   "source": [
    "print(os.path.getsize('07_073_07013012_160273840068170.jpg'),'byte')"
   ]
  },
  {
   "cell_type": "code",
   "execution_count": 14,
   "id": "ae606aa9-979d-4735-9f23-50781f5daa10",
   "metadata": {},
   "outputs": [
    {
     "data": {
      "text/plain": [
       "True"
      ]
     },
     "execution_count": 14,
     "metadata": {},
     "output_type": "execute_result"
    }
   ],
   "source": [
    "os.path.getsize('07_073_07013012_160273840068170.jpg') > 1000000"
   ]
  },
  {
   "cell_type": "code",
   "execution_count": 7,
   "id": "c475706f-1caf-4f4d-8edb-ddedb70793bc",
   "metadata": {},
   "outputs": [],
   "source": [
    "targetdir = 'image'"
   ]
  },
  {
   "cell_type": "code",
   "execution_count": 8,
   "id": "c36edb31-cebc-455b-8e15-9f17354e0f24",
   "metadata": {},
   "outputs": [],
   "source": [
    "files = os.listdir(targetdir)"
   ]
  },
  {
   "cell_type": "code",
   "execution_count": 34,
   "id": "0ce0ed0c-741b-46e0-ba1d-dfa50191c16d",
   "metadata": {},
   "outputs": [],
   "source": [
    "# files"
   ]
  },
  {
   "cell_type": "code",
   "execution_count": 9,
   "id": "277d334a-0130-481c-a810-867b95f57f58",
   "metadata": {},
   "outputs": [],
   "source": [
    "format = [\".jpg\",\".jpeg\",\"png\",\"JPG\",\"JPEG\",\"PNG\"]"
   ]
  },
  {
   "cell_type": "code",
   "execution_count": 10,
   "id": "2151b3e0-cb20-418a-ba20-4f030d41e1ff",
   "metadata": {},
   "outputs": [
    {
     "name": "stdout",
     "output_type": "stream",
     "text": [
      "time :  3.624666452407837\n"
     ]
    }
   ],
   "source": [
    "start = time.time()\n",
    "\n",
    "for (path,dirs,files) in os.walk(targetdir):\n",
    "    for file in files :\n",
    "        image = Image.open(path+'\\\\'+file)\n",
    "        image.save(file,'JPEG',quality=40)\n",
    "        \n",
    "print(\"time : \", time.time() - start)"
   ]
  },
  {
   "cell_type": "code",
   "execution_count": null,
   "id": "0e13aa26-9b62-41c0-bdb4-1087392629f1",
   "metadata": {},
   "outputs": [],
   "source": [
    "## 파일내 디렉터별 접근 -> 무의미, 원래 그렇게 접근해서 중복"
   ]
  },
  {
   "cell_type": "code",
   "execution_count": 5,
   "id": "7e3b7d06-5bc8-4b58-9759-c0bd8d04be7b",
   "metadata": {},
   "outputs": [],
   "source": [
    "def createFolder(directory):\n",
    "    try:\n",
    "        if not os.path.exists(directory):\n",
    "            os.makedirs(directory)\n",
    "    except OSError:\n",
    "        print ('Error: Creating directory. ' +  directory)"
   ]
  },
  {
   "cell_type": "code",
   "execution_count": 84,
   "id": "f9a02c13-403d-44e2-81de-1488cd69cb3a",
   "metadata": {},
   "outputs": [],
   "source": [
    "def openImage(targetdir, new):\n",
    "    print(targetdir, new)\n",
    "    for (path,dirs,files) in os.walk(targetdir+'\\\\'+new):\n",
    "        print(files)\n",
    "        for file in files :\n",
    "            print(targetdir+new)\n",
    "            image = Image.open(path+'\\\\'+file)\n",
    "#             image.save(targetdir+'\\\\'+'new_'+path+'\\\\'+file,'JPEG',quality=40)\n",
    "            createFolder('new_'+path) # 새로운 폴더 생성\n",
    "            image.save('new_'+path+'\\\\'+file,'JPEG',quality=40) # 파일 저장"
   ]
  },
  {
   "cell_type": "code",
   "execution_count": 85,
   "id": "fb4422ac-69dc-4afc-bd5d-060830f140fe",
   "metadata": {},
   "outputs": [
    {
     "name": "stdout",
     "output_type": "stream",
     "text": [
      "1\n",
      "new 1\n",
      "['01_011_01011001_160273203821324.jpeg']\n",
      "new1\n",
      "2\n",
      "new 2\n",
      "['01_011_01011001_160273207049000.jpeg']\n",
      "new2\n"
     ]
    }
   ],
   "source": [
    "targetdir = 'new'\n",
    "\n",
    "files = os.listdir(targetdir)\n",
    "\n",
    "format = [\".jpg\",\".jpeg\",\"png\",\"JPG\",\"JPEG\",\"PNG\"]\n",
    "\n",
    "for (path,dirs,files) in os.walk(targetdir):\n",
    "    for i in dirs:\n",
    "        print(i)\n",
    "        openImage(targetdir, i)\n",
    "#     print(files)\n",
    "#     for path "
   ]
  },
  {
   "cell_type": "code",
   "execution_count": null,
   "id": "01e1f777-5810-4651-944c-78906b53e65c",
   "metadata": {},
   "outputs": [],
   "source": []
  },
  {
   "cell_type": "code",
   "execution_count": null,
   "id": "1fc1ac32-66c7-42c3-a9d2-a299fbe6c9eb",
   "metadata": {},
   "outputs": [],
   "source": [
    "import time\n",
    "import os\n",
    "from PIL import Image"
   ]
  },
  {
   "cell_type": "code",
   "execution_count": 86,
   "id": "7146d5ff-b9b1-495a-b79c-8edd84fbcc9e",
   "metadata": {},
   "outputs": [
    {
     "name": "stdout",
     "output_type": "stream",
     "text": [
      "time :  0.29706788063049316\n"
     ]
    }
   ],
   "source": [
    "targetdir = 'new'\n",
    "files = os.listdir(targetdir)\n",
    "format = [\".jpg\",\".jpeg\",\"png\",\"JPG\",\"JPEG\",\"PNG\"]\n",
    "\n",
    "start = time.time()\n",
    "\n",
    "for (path,dirs,files) in os.walk(targetdir):\n",
    "    for file in files :\n",
    "        image = Image.open(path+'\\\\'+file)\n",
    "#         image.save(path+'\\\\'+file,'JPEG',quality=40)\n",
    "        createFolder('new_'+path) # 새로운 폴더 생성\n",
    "        image.save('new_'+path+'\\\\'+file,'JPEG',quality=40) # 파일 저장\n",
    "        \n",
    "print(\"time : \", time.time() - start)"
   ]
  },
  {
   "cell_type": "code",
   "execution_count": null,
   "id": "14e68769-3eb7-479f-bae2-ac3ffc309b79",
   "metadata": {},
   "outputs": [],
   "source": []
  }
 ],
 "metadata": {
  "kernelspec": {
   "display_name": "Python Multi",
   "language": "python",
   "name": "multi"
  },
  "language_info": {
   "codemirror_mode": {
    "name": "ipython",
    "version": 3
   },
   "file_extension": ".py",
   "mimetype": "text/x-python",
   "name": "python",
   "nbconvert_exporter": "python",
   "pygments_lexer": "ipython3",
   "version": "3.7.6"
  }
 },
 "nbformat": 4,
 "nbformat_minor": 5
}
