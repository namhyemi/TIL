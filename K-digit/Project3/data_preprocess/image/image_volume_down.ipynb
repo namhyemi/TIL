{
 "cells": [
  {
   "cell_type": "code",
   "execution_count": null,
   "id": "86ea903f-b923-4a4c-a605-c1952122ac8f",
   "metadata": {},
   "outputs": [],
   "source": []
  },
  {
   "cell_type": "code",
   "execution_count": null,
   "id": "c386f9c6-b627-44e2-a706-92ac033435ca",
   "metadata": {},
   "outputs": [],
   "source": [
    "#image_volume_down (용량 낮추기)"
   ]
  },
  {
   "cell_type": "code",
   "execution_count": null,
   "id": "dfd0371b-78b5-452a-a901-9bce1dd8aede",
   "metadata": {},
   "outputs": [],
   "source": [
    "# !pip install pillow"
   ]
  },
  {
   "cell_type": "code",
   "execution_count": null,
   "id": "bc28c204-c84f-444a-80e5-5396962f13a3",
   "metadata": {},
   "outputs": [],
   "source": [
    "import time\n",
    "import os\n",
    "from PIL import Image"
   ]
  },
  {
   "cell_type": "code",
   "execution_count": null,
   "id": "d06f4d13-74fe-45ad-802a-10e93ab490d8",
   "metadata": {},
   "outputs": [],
   "source": [
    "## 폴더생성\n",
    "\n",
    "def createFolder(directory): \n",
    "    try:\n",
    "        if not os.path.exists(directory):\n",
    "            os.makedirs(directory)\n",
    "    except OSError:\n",
    "        print ('Error: Creating directory. ' +  directory)"
   ]
  },
  {
   "cell_type": "code",
   "execution_count": null,
   "id": "1cecedb4-d05f-4f68-ba50-547c872a36ee",
   "metadata": {},
   "outputs": [],
   "source": [
    "targetdir = 'train' # 폴더 이름\n",
    "files = os.listdir(targetdir)\n",
    "\n",
    "format = [\".jpg\",\".jpeg\",\".png\",\".JPG\",\".JPEG\",\".PNG\"]\n",
    "\n",
    "\n",
    "for (path,dirs,files) in os.walk(targetdir):\n",
    "    start = time.time()\n",
    "    for file in files :\n",
    "        try:\n",
    "            image = Image.open(path+'\\\\'+file) ## path : 이미지 폴더명, file : 파일명\n",
    "#             image.save(path+'\\\\'+file,'JPEG',quality=40)  # 파일 저장(원본 덮어쓰기)\n",
    "            createFolder(path+'_new') # 새로운 폴더 생성\n",
    "            image.save(path+'_new'+'\\\\'+file,'JPEG',quality=40) # 파일 저장        \n",
    "        except:\n",
    "            print('Error! file name : ', file)\n",
    "    print(path,\" time : \", time.time() - start)"
   ]
  }
 ],
 "metadata": {
  "kernelspec": {
   "display_name": "Python Multi",
   "language": "python",
   "name": "multi"
  },
  "language_info": {
   "codemirror_mode": {
    "name": "ipython",
    "version": 3
   },
   "file_extension": ".py",
   "mimetype": "text/x-python",
   "name": "python",
   "nbconvert_exporter": "python",
   "pygments_lexer": "ipython3",
   "version": "3.7.6"
  }
 },
 "nbformat": 4,
 "nbformat_minor": 5
}
