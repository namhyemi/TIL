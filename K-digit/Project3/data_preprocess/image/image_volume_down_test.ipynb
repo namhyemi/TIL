{
 "cells": [
  {
   "cell_type": "code",
   "execution_count": null,
   "id": "82bd55e2-224f-4f1a-ba5d-9a5a783fd371",
   "metadata": {},
   "outputs": [],
   "source": [
    "## 화질 낮추기"
   ]
  },
  {
   "cell_type": "code",
   "execution_count": null,
   "id": "723f3800-e1be-49b3-a7c7-4e175484527f",
   "metadata": {},
   "outputs": [],
   "source": [
    "# !pip install pillow"
   ]
  },
  {
   "cell_type": "code",
   "execution_count": 2,
   "id": "3a356a2f-1fc9-4de3-a820-46d3c0fe9551",
   "metadata": {},
   "outputs": [],
   "source": [
    "import time\n",
    "import os\n",
    "from PIL import Image"
   ]
  },
  {
   "cell_type": "code",
   "execution_count": 3,
   "id": "523a8856-da3e-44a9-87f7-2be7760f32c5",
   "metadata": {},
   "outputs": [],
   "source": [
    "def createFolder(directory):\n",
    "    try:\n",
    "        if not os.path.exists(directory):\n",
    "            os.makedirs(directory)\n",
    "    except OSError:\n",
    "        print ('Error: Creating directory. ' +  directory)"
   ]
  },
  {
   "cell_type": "code",
   "execution_count": null,
   "id": "05be513c-4af3-4ddd-9670-1b11907c618f",
   "metadata": {},
   "outputs": [],
   "source": []
  },
  {
   "cell_type": "code",
   "execution_count": 4,
   "id": "3c0bd7c7-74dc-4a96-8ebc-97e5b6c2c46d",
   "metadata": {},
   "outputs": [
    {
     "name": "stdout",
     "output_type": "stream",
     "text": [
      "train  time :  0.0\n",
      "train\\06012012  time :  222.40833258628845\n",
      "train\\06012013  time :  204.02647590637207\n",
      "train\\06013001  time :  209.87858033180237\n",
      "train\\06013002  time :  221.1506907939911\n",
      "train\\06013003  time :  185.12104153633118\n",
      "train\\06014001  time :  174.48591876029968\n",
      "train\\07011001  time :  209.91970562934875\n",
      "Error! file name :  07_071_07011002_160809247374784_0.png\n",
      "Error! file name :  07_071_07011002_160809247374784_1.png\n",
      "train\\07011002  time :  174.08572673797607\n"
     ]
    }
   ],
   "source": [
    "targetdir = 'train' # 폴더 이름\n",
    "files = os.listdir(targetdir)\n",
    "\n",
    "format = [\".jpg\",\".jpeg\",\".png\",\".JPG\",\".JPEG\",\".PNG\"]\n",
    "\n",
    "\n",
    "for (path,dirs,files) in os.walk(targetdir):\n",
    "    start = time.time()\n",
    "    for file in files :\n",
    "        try:\n",
    "            image = Image.open(path+'\\\\'+file) ## path : 이미지 폴더명, file : 파일명\n",
    "#             image.save(path+'\\\\'+file,'JPEG',quality=40)  # 파일 저장(원본 덮어쓰기)\n",
    "            createFolder(path+'_new') # 새로운 폴더 생성\n",
    "            image.save(path+'_new'+'\\\\'+file,'JPEG',quality=40) # 파일 저장        \n",
    "        except:\n",
    "            print('Error! file name : ', file)\n",
    "    print(path,\" time : \", time.time() - start)"
   ]
  },
  {
   "cell_type": "code",
   "execution_count": 12,
   "id": "70fe7198-0460-4857-9a69-8d3e6a7a3fc7",
   "metadata": {},
   "outputs": [
    {
     "name": "stdout",
     "output_type": "stream",
     "text": [
      "21\n",
      "train  time :  0.0\n",
      "train\\04013020  time :  194.43127465248108\n",
      "train\\04013021  time :  198.59375071525574\n",
      "train\\04013022  time :  209.8949692249298\n",
      "train\\04013023  time :  193.58543157577515\n",
      "train\\04013024  time :  210.16537499427795\n",
      "train\\04014001  time :  178.49341201782227\n",
      "train\\04015001  time :  222.14123725891113\n",
      "train\\04015002  time :  227.9497263431549\n"
     ]
    }
   ],
   "source": [
    "print(\"21\")\n",
    "targetdir = 'train' # 폴더 이름\n",
    "files = os.listdir(targetdir)\n",
    "\n",
    "format = [\".jpg\",\".jpeg\",\".png\",\".JPG\",\".JPEG\",\".PNG\"]\n",
    "\n",
    "\n",
    "for (path,dirs,files) in os.walk(targetdir):\n",
    "    start = time.time()\n",
    "    for file in files :\n",
    "        try:\n",
    "            image = Image.open(path+'\\\\'+file) ## path : 이미지 폴더명, file : 파일명\n",
    "#             image.save(path+'\\\\'+file,'JPEG',quality=40)  # 파일 저장(원본 덮어쓰기)\n",
    "            createFolder(path+'_new') # 새로운 폴더 생성\n",
    "            image.save(path+'_new'+'\\\\'+file,'JPEG',quality=40) # 파일 저장        \n",
    "        except:\n",
    "            print('Error! file name : ', file)\n",
    "    print(path,\" time : \", time.time() - start)"
   ]
  },
  {
   "cell_type": "code",
   "execution_count": 6,
   "id": "e60a6bfe-1b56-46bb-bfdf-224942d7825e",
   "metadata": {},
   "outputs": [
    {
     "name": "stdout",
     "output_type": "stream",
     "text": [
      "22\n",
      "train  time :  0.0\n",
      "train\\04015003  time :  181.8296184539795\n",
      "train\\04016001  time :  162.3557894229889\n",
      "train\\04017001  time :  192.41659688949585\n",
      "train\\04017002  time :  172.61885905265808\n",
      "train\\04018001  time :  207.15704226493835\n",
      "train\\04018002  time :  196.95283007621765\n",
      "train\\04018003  time :  152.74470615386963\n",
      "train\\04018004  time :  196.09719371795654\n"
     ]
    }
   ],
   "source": [
    "print(\"22\")\n",
    "targetdir = 'train' # 폴더 이름\n",
    "files = os.listdir(targetdir)\n",
    "\n",
    "format = [\".jpg\",\".jpeg\",\".png\",\".JPG\",\".JPEG\",\".PNG\"]\n",
    "\n",
    "\n",
    "for (path,dirs,files) in os.walk(targetdir):\n",
    "    start = time.time()\n",
    "    for file in files :\n",
    "        try:\n",
    "            image = Image.open(path+'\\\\'+file) ## path : 이미지 폴더명, file : 파일명\n",
    "#             image.save(path+'\\\\'+file,'JPEG',quality=40)  # 파일 저장(원본 덮어쓰기)\n",
    "            createFolder(path+'_new') # 새로운 폴더 생성\n",
    "            image.save(path+'_new'+'\\\\'+file,'JPEG',quality=40) # 파일 저장        \n",
    "        except:\n",
    "            print('Error! file name : ', file)\n",
    "    print(path,\" time : \", time.time() - start)"
   ]
  },
  {
   "cell_type": "code",
   "execution_count": 11,
   "id": "a5f5de22-54ec-46c3-93f4-defce1382425",
   "metadata": {},
   "outputs": [
    {
     "name": "stdout",
     "output_type": "stream",
     "text": [
      "24\n",
      "train  time :  0.0\n",
      "train\\05011001  time :  197.02851796150208\n",
      "train\\05011002  time :  177.23570609092712\n",
      "train\\05011004  time :  214.11384987831116\n",
      "train\\05011008  time :  194.97827529907227\n",
      "train\\05011010  time :  206.4503469467163\n",
      "train\\05011011  time :  166.77050042152405\n",
      "train\\05011012  time :  197.3684401512146\n",
      "train\\05012001  time :  128.3292908668518\n"
     ]
    }
   ],
   "source": [
    "print(\"24\")\n",
    "targetdir = 'train' # 폴더 이름\n",
    "files = os.listdir(targetdir)\n",
    "\n",
    "format = [\".jpg\",\".jpeg\",\".png\",\".JPG\",\".JPEG\",\".PNG\"]\n",
    "\n",
    "\n",
    "for (path,dirs,files) in os.walk(targetdir):\n",
    "    start = time.time()\n",
    "    for file in files :\n",
    "        try:\n",
    "            image = Image.open(path+'\\\\'+file) ## path : 이미지 폴더명, file : 파일명\n",
    "#             image.save(path+'\\\\'+file,'JPEG',quality=40)  # 파일 저장(원본 덮어쓰기)\n",
    "            createFolder(path+'_new') # 새로운 폴더 생성\n",
    "            image.save(path+'_new'+'\\\\'+file,'JPEG',quality=40) # 파일 저장        \n",
    "        except:\n",
    "            print('Error! file name : ', file)\n",
    "    print(path,\" time : \", time.time() - start)"
   ]
  },
  {
   "cell_type": "code",
   "execution_count": 10,
   "id": "d1f61093-1393-4985-988c-f1d5a2682afd",
   "metadata": {},
   "outputs": [
    {
     "name": "stdout",
     "output_type": "stream",
     "text": [
      "25\n",
      "train  time :  0.0\n",
      "train\\05012002  time :  150.62715005874634\n",
      "train\\05012003  time :  189.15047788619995\n",
      "train\\05012004  time :  159.35326099395752\n",
      "train\\05012005  time :  199.56257486343384\n",
      "train\\05013001  time :  185.3433825969696\n",
      "train\\06012001  time :  210.14484882354736\n",
      "train\\06012002  time :  134.43607711791992\n",
      "train\\06012003  time :  144.1071605682373\n"
     ]
    }
   ],
   "source": [
    "print(\"25\")\n",
    "targetdir = 'train' # 폴더 이름\n",
    "files = os.listdir(targetdir)\n",
    "\n",
    "format = [\".jpg\",\".jpeg\",\".png\",\".JPG\",\".JPEG\",\".PNG\"]\n",
    "\n",
    "\n",
    "for (path,dirs,files) in os.walk(targetdir):\n",
    "    start = time.time()\n",
    "    for file in files :\n",
    "        try:\n",
    "            image = Image.open(path+'\\\\'+file) ## path : 이미지 폴더명, file : 파일명\n",
    "#             image.save(path+'\\\\'+file,'JPEG',quality=40)  # 파일 저장(원본 덮어쓰기)\n",
    "            createFolder(path+'_new') # 새로운 폴더 생성\n",
    "            image.save(path+'_new'+'\\\\'+file,'JPEG',quality=40) # 파일 저장        \n",
    "        except:\n",
    "            print('Error! file name : ', file)\n",
    "    print(path,\" time : \", time.time() - start)"
   ]
  },
  {
   "cell_type": "code",
   "execution_count": 9,
   "id": "9a96b72b-6796-4d59-b58d-37ea02981420",
   "metadata": {},
   "outputs": [
    {
     "name": "stdout",
     "output_type": "stream",
     "text": [
      "26\n",
      "train  time :  0.0\n",
      "train\\06012004  time :  169.2130515575409\n",
      "train\\06012005  time :  167.20181441307068\n",
      "train\\06012006  time :  198.02177000045776\n",
      "train\\06012007  time :  148.6014301776886\n",
      "train\\06012008  time :  179.48866868019104\n",
      "train\\06012009  time :  205.83265042304993\n",
      "train\\06012010  time :  171.56937718391418\n",
      "train\\06012011  time :  189.05739569664001\n"
     ]
    }
   ],
   "source": [
    "print(\"26\")\n",
    "targetdir = 'train' # 폴더 이름\n",
    "files = os.listdir(targetdir)\n",
    "\n",
    "format = [\".jpg\",\".jpeg\",\".png\",\".JPG\",\".JPEG\",\".PNG\"]\n",
    "\n",
    "\n",
    "for (path,dirs,files) in os.walk(targetdir):\n",
    "    start = time.time()\n",
    "    for file in files :\n",
    "        try:\n",
    "            image = Image.open(path+'\\\\'+file) ## path : 이미지 폴더명, file : 파일명\n",
    "#             image.save(path+'\\\\'+file,'JPEG',quality=40)  # 파일 저장(원본 덮어쓰기)\n",
    "            createFolder(path+'_new') # 새로운 폴더 생성\n",
    "            image.save(path+'_new'+'\\\\'+file,'JPEG',quality=40) # 파일 저장        \n",
    "        except:\n",
    "            print('Error! file name : ', file)\n",
    "    print(path,\" time : \", time.time() - start)"
   ]
  },
  {
   "cell_type": "code",
   "execution_count": 5,
   "id": "35363997-94b1-486d-865a-940b38eb4afa",
   "metadata": {},
   "outputs": [
    {
     "name": "stdout",
     "output_type": "stream",
     "text": [
      "31\n",
      "train  time :  0.0\n",
      "train\\08011004  time :  208.65210485458374\n",
      "train\\08011005  time :  228.46038675308228\n",
      "train\\08011006  time :  209.64050936698914\n",
      "train\\08011007  time :  152.80653715133667\n",
      "train\\08011008  time :  207.1943860054016\n",
      "train\\08012001  time :  166.07023000717163\n",
      "Error! file name :  08_082_08012002_160626876868045_0.png\n",
      "train\\08012002  time :  221.58581399917603\n",
      "train\\08012003  time :  90.78066658973694\n"
     ]
    }
   ],
   "source": [
    "print(\"31\")\n",
    "targetdir = 'train' # 폴더 이름\n",
    "files = os.listdir(targetdir)\n",
    "\n",
    "format = [\".jpg\",\".jpeg\",\".png\",\".JPG\",\".JPEG\",\".PNG\"]\n",
    "\n",
    "\n",
    "for (path,dirs,files) in os.walk(targetdir):\n",
    "    start = time.time()\n",
    "    for file in files :\n",
    "        try:\n",
    "            image = Image.open(path+'\\\\'+file) ## path : 이미지 폴더명, file : 파일명\n",
    "#             image.save(path+'\\\\'+file,'JPEG',quality=40)  # 파일 저장(원본 덮어쓰기)\n",
    "            createFolder(path+'_new') # 새로운 폴더 생성\n",
    "            image.save(path+'_new'+'\\\\'+file,'JPEG',quality=40) # 파일 저장        \n",
    "        except:\n",
    "            print('Error! file name : ', file)\n",
    "    print(path,\" time : \", time.time() - start)"
   ]
  },
  {
   "cell_type": "code",
   "execution_count": 6,
   "id": "4856d18d-435c-4506-bfee-d887c9770de0",
   "metadata": {},
   "outputs": [
    {
     "name": "stdout",
     "output_type": "stream",
     "text": [
      "32\n",
      "train  time :  0.0\n",
      "Error! file name :  08_082_08012004_160515706496625_0.png\n",
      "Error! file name :  08_082_08012004_160515706496625_1.png\n",
      "train\\08012004  time :  180.90437865257263\n",
      "train\\08012005  time :  189.36958289146423\n",
      "train\\08012006  time :  184.07665729522705\n",
      "train\\08012007  time :  230.72589540481567\n",
      "train\\08012008  time :  171.81031584739685\n",
      "train\\08012009  time :  207.42752027511597\n",
      "train\\08012010  time :  192.2444794178009\n",
      "train\\08013001  time :  201.31362628936768\n"
     ]
    }
   ],
   "source": [
    "print(\"32\")\n",
    "targetdir = 'train' # 폴더 이름\n",
    "files = os.listdir(targetdir)\n",
    "\n",
    "format = [\".jpg\",\".jpeg\",\".png\",\".JPG\",\".JPEG\",\".PNG\"]\n",
    "\n",
    "\n",
    "for (path,dirs,files) in os.walk(targetdir):\n",
    "    start = time.time()\n",
    "    for file in files :\n",
    "        try:\n",
    "            image = Image.open(path+'\\\\'+file) ## path : 이미지 폴더명, file : 파일명\n",
    "#             image.save(path+'\\\\'+file,'JPEG',quality=40)  # 파일 저장(원본 덮어쓰기)\n",
    "            createFolder(path+'_new') # 새로운 폴더 생성\n",
    "            image.save(path+'_new'+'\\\\'+file,'JPEG',quality=40) # 파일 저장        \n",
    "        except:\n",
    "            print('Error! file name : ', file)\n",
    "    print(path,\" time : \", time.time() - start)"
   ]
  },
  {
   "cell_type": "code",
   "execution_count": 7,
   "id": "4d364488-6119-4b19-ac12-29e8e0d6e846",
   "metadata": {},
   "outputs": [
    {
     "name": "stdout",
     "output_type": "stream",
     "text": [
      "33\n",
      "train  time :  0.0\n",
      "train\\08013002  time :  92.35706853866577\n",
      "train\\08013003  time :  174.408362865448\n",
      "Error! file name :  08_083_08013004_160604152763609_0.jpg\n",
      "train\\08013004  time :  165.63393998146057\n",
      "train\\08013005  time :  225.10730075836182\n",
      "train\\08013006  time :  219.93674278259277\n",
      "train\\08014001  time :  194.27346467971802\n",
      "train\\08014002  time :  204.23802495002747\n",
      "train\\08014003  time :  189.50788831710815\n"
     ]
    }
   ],
   "source": [
    "print(\"33\")\n",
    "targetdir = 'train' # 폴더 이름\n",
    "files = os.listdir(targetdir)\n",
    "\n",
    "format = [\".jpg\",\".jpeg\",\".png\",\".JPG\",\".JPEG\",\".PNG\"]\n",
    "\n",
    "\n",
    "for (path,dirs,files) in os.walk(targetdir):\n",
    "    start = time.time()\n",
    "    for file in files :\n",
    "        try:\n",
    "            image = Image.open(path+'\\\\'+file) ## path : 이미지 폴더명, file : 파일명\n",
    "#             image.save(path+'\\\\'+file,'JPEG',quality=40)  # 파일 저장(원본 덮어쓰기)\n",
    "            createFolder(path+'_new') # 새로운 폴더 생성\n",
    "            image.save(path+'_new'+'\\\\'+file,'JPEG',quality=40) # 파일 저장        \n",
    "        except:\n",
    "            print('Error! file name : ', file)\n",
    "    print(path,\" time : \", time.time() - start)"
   ]
  },
  {
   "cell_type": "code",
   "execution_count": 4,
   "id": "ef222e61-e21b-44f2-bb71-7ae69dbc9b7f",
   "metadata": {},
   "outputs": [
    {
     "name": "stdout",
     "output_type": "stream",
     "text": [
      "34\n",
      "train  time :  0.0\n",
      "train\\09011001  time :  228.37696743011475\n",
      "train\\09011002  time :  192.25944995880127\n",
      "train\\09011003  time :  170.7879455089569\n",
      "train\\09011004  time :  211.11354804039001\n",
      "train\\09011005  time :  225.81967306137085\n",
      "train\\09011006  time :  215.09704971313477\n",
      "train\\09011007  time :  219.87224459648132\n",
      "train\\09011008  time :  174.67357397079468\n"
     ]
    }
   ],
   "source": [
    "print(\"34\")\n",
    "targetdir = 'train' # 폴더 이름\n",
    "files = os.listdir(targetdir)\n",
    "\n",
    "format = [\".jpg\",\".jpeg\",\".png\",\".JPG\",\".JPEG\",\".PNG\"]\n",
    "\n",
    "\n",
    "for (path,dirs,files) in os.walk(targetdir):\n",
    "    start = time.time()\n",
    "    for file in files :\n",
    "        try:\n",
    "            image = Image.open(path+'\\\\'+file) ## path : 이미지 폴더명, file : 파일명\n",
    "#             image.save(path+'\\\\'+file,'JPEG',quality=40)  # 파일 저장(원본 덮어쓰기)\n",
    "            createFolder(path+'_new') # 새로운 폴더 생성\n",
    "            image.save(path+'_new'+'\\\\'+file,'JPEG',quality=40) # 파일 저장        \n",
    "        except:\n",
    "            print('Error! file name : ', file)\n",
    "    print(path,\" time : \", time.time() - start)"
   ]
  },
  {
   "cell_type": "code",
   "execution_count": 5,
   "id": "ac09ffbf-e968-4827-8f44-1f2aae4e2915",
   "metadata": {},
   "outputs": [
    {
     "name": "stdout",
     "output_type": "stream",
     "text": [
      "35\n",
      "train  time :  0.0\n",
      "train\\09012001  time :  167.62541937828064\n",
      "train\\09012002  time :  225.60316729545593\n",
      "Error! file name :  09_093_09013001_160344406683678_0.png\n",
      "train\\09013001  time :  233.86014461517334\n",
      "train\\09013002  time :  229.59819769859314\n",
      "train\\09014001  time :  161.66245031356812\n",
      "Error! file name :  09_094_09014002_160626922524731_0.png\n",
      "train\\09014002  time :  157.9138708114624\n",
      "Error! file name :  09_094_09014003_160626882515908_0.png\n",
      "train\\09014003  time :  130.2906277179718\n",
      "train\\09014004  time :  210.04926347732544\n"
     ]
    }
   ],
   "source": [
    "print(\"35\")\n",
    "targetdir = 'train' # 폴더 이름\n",
    "files = os.listdir(targetdir)\n",
    "\n",
    "format = [\".jpg\",\".jpeg\",\".png\",\".JPG\",\".JPEG\",\".PNG\"]\n",
    "\n",
    "\n",
    "for (path,dirs,files) in os.walk(targetdir):\n",
    "    start = time.time()\n",
    "    for file in files :\n",
    "        try:\n",
    "            image = Image.open(path+'\\\\'+file) ## path : 이미지 폴더명, file : 파일명\n",
    "#             image.save(path+'\\\\'+file,'JPEG',quality=40)  # 파일 저장(원본 덮어쓰기)\n",
    "            createFolder(path+'_new') # 새로운 폴더 생성\n",
    "            image.save(path+'_new'+'\\\\'+file,'JPEG',quality=40) # 파일 저장        \n",
    "        except:\n",
    "            print('Error! file name : ', file)\n",
    "    print(path,\" time : \", time.time() - start)"
   ]
  },
  {
   "cell_type": "code",
   "execution_count": null,
   "id": "d25d3629-3046-4708-a9db-dc8374a365e3",
   "metadata": {
    "tags": []
   },
   "outputs": [],
   "source": [
    "## 파일 open 에러 확인\n",
    "\n",
    "targetdir = 'train' # 폴더 이름\n",
    "files = os.listdir(targetdir)\n",
    "\n",
    "format = [\".jpg\",\".jpeg\",\".png\",\".JPG\",\".JPEG\",\".PNG\"]\n",
    "\n",
    "\n",
    "for (path,dirs,files) in os.walk(targetdir):\n",
    "    start = time.time()\n",
    "    for file in files :\n",
    "        try:\n",
    "            image = Image.open(path+'\\\\'+file) ## path : 이미지 폴더명, file : 파일명\n",
    "        except:\n",
    "            print('Error! file name : ', file)\n",
    "    print(path,\" time : \", time.time() - start)"
   ]
  }
 ],
 "metadata": {
  "kernelspec": {
   "display_name": "Python Multi",
   "language": "python",
   "name": "multi"
  },
  "language_info": {
   "codemirror_mode": {
    "name": "ipython",
    "version": 3
   },
   "file_extension": ".py",
   "mimetype": "text/x-python",
   "name": "python",
   "nbconvert_exporter": "python",
   "pygments_lexer": "ipython3",
   "version": "3.7.6"
  }
 },
 "nbformat": 4,
 "nbformat_minor": 5
}
