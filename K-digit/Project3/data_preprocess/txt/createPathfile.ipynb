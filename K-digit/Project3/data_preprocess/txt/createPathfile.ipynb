{
 "cells": [
  {
   "cell_type": "code",
   "execution_count": null,
   "id": "8d833363-3aeb-4264-bb98-0d3cf1688d1c",
   "metadata": {},
   "outputs": [],
   "source": [
    "## YOLO에 사용할 train.txt 생성 (이미지 경로)"
   ]
  },
  {
   "cell_type": "code",
   "execution_count": null,
   "id": "9fc01ef4-c475-48d1-85ad-05835bb6fb29",
   "metadata": {},
   "outputs": [],
   "source": [
    "import os\n",
    "import time\n",
    "\n",
    "with open('train_rice.txt', 'w') as f: ### 저장하려는 파일명\n",
    "    with open('obj.names', 'r') as fl: ### 사용하는 .names 파일명\n",
    "        for folder in fl.readlines():\n",
    "            try:\n",
    "                folder = folder.strip()\n",
    "                path = './' + folder + '/' ## 이미지 파일 있는 경로\n",
    "                file_list = os.listdir(path)\n",
    "                file_list.sort()\n",
    "                try:\n",
    "                    start = time.time()\n",
    "                    for file in file_list:\n",
    "                        if file[-4:] != '.txt':\n",
    "                            f.write('/home/bpm/dataset/training/' + folder + '/' + file + '\\n') ## 절대경로\n",
    "                    print(folder, '완료.', '실행시간 : ', start-time.time())\n",
    "                except:\n",
    "                    print(file, 'file 오류')\n",
    "            except:\n",
    "                print(folder, '오류')"
   ]
  },
  {
   "cell_type": "code",
   "execution_count": null,
   "id": "fd268630-7b70-4a5f-9aee-4100fd8ceed7",
   "metadata": {},
   "outputs": [],
   "source": [
    "## YOLO에 사용할 test.txt 생성 (이미지 경로)"
   ]
  },
  {
   "cell_type": "code",
   "execution_count": null,
   "id": "a31a12e6-8d45-43bd-aeaa-0987e883d2c9",
   "metadata": {},
   "outputs": [],
   "source": [
    "import os\n",
    "import time\n",
    "\n",
    "with open('train_rice.txt', 'w') as f: ### 저장하려는 파일명\n",
    "    with open('obj.names', 'r') as fl: ### 사용하는 .names 파일명\n",
    "        for folder in fl.readlines():\n",
    "            try:\n",
    "                folder = folder.strip()\n",
    "                path = './' + folder + '/' ## 이미지 파일 있는 경로\n",
    "                file_list = os.listdir(path)\n",
    "                file_list.sort()\n",
    "                try:\n",
    "                    start = time.time()\n",
    "                    for file in file_list:\n",
    "                        if file[-4:] != '.txt':\n",
    "                            f.write('/home/bpm/dataset/validation/' + folder + '/' + file + '\\n') ## 절대경로\n",
    "                    print(folder, '완료.', '실행시간 : ', start-time.time())\n",
    "                except:\n",
    "                    print(file, 'file 오류')\n",
    "            except:\n",
    "                print(folder, '오류')"
   ]
  }
 ],
 "metadata": {
  "kernelspec": {
   "display_name": "Python Multi",
   "language": "python",
   "name": "multi"
  },
  "language_info": {
   "codemirror_mode": {
    "name": "ipython",
    "version": 3
   },
   "file_extension": ".py",
   "mimetype": "text/x-python",
   "name": "python",
   "nbconvert_exporter": "python",
   "pygments_lexer": "ipython3",
   "version": "3.7.6"
  }
 },
 "nbformat": 4,
 "nbformat_minor": 5
}
