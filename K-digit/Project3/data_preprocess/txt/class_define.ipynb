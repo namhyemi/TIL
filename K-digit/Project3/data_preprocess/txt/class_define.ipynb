{
 "cells": [
  {
   "cell_type": "code",
   "execution_count": 2,
   "id": "f7f477a0-a9a0-452c-9e33-4d9d63b437ea",
   "metadata": {},
   "outputs": [],
   "source": [
    "## \n",
    "## obj.name 파일에 있는 순서대로 클래스 지정"
   ]
  },
  {
   "cell_type": "code",
   "execution_count": 26,
   "id": "7390f5b1-4c81-4262-8ab0-917642a98bd0",
   "metadata": {},
   "outputs": [],
   "source": [
    "import os\n",
    "import pandas as pd\n",
    "import time"
   ]
  },
  {
   "cell_type": "code",
   "execution_count": 50,
   "id": "7c5b9fca-2c28-40cd-a114-8820b0c0dd5b",
   "metadata": {},
   "outputs": [
    {
     "name": "stdout",
     "output_type": "stream",
     "text": [
      "1010 폴더 완료, 실행시간 :  0.0030024051666259766 (s)\n",
      "2020 폴더 실패\n",
      "3030 폴더 실패\n"
     ]
    }
   ],
   "source": [
    "import os\n",
    "import pandas as pd\n",
    "import time\n",
    "\n",
    "#### txt 파일 수정 ####\n",
    "def class_define(path, count):\n",
    "    \n",
    "    path = './' + path + '/' ### 음식 이미지 정보 담긴 txt 파일 있는 경로\n",
    "\n",
    "    file_names = os.listdir(path)\n",
    "    file_names = [file for file in folder_names if file.endswith('.txt')]\n",
    "    file_names.sort()\n",
    "\n",
    "    for file in file_names:\n",
    "        try:\n",
    "            with open(path+file, 'r') as f:\n",
    "                context = f.readline().strip()\n",
    "        \n",
    "            with open(path+file, 'w') as f:\n",
    "                f.write(str(count)+' '+' '.join(context.split(' ')[1:]))\n",
    "        except:\n",
    "            print(file, '변경 실패')\n",
    "\n",
    "\n",
    "### main() ####\n",
    "if __name__ == '__main__':\n",
    "    \n",
    "    with open('obj.names', 'r') as fl: ## 사용하는 .names 파일 위치 작성\n",
    "        count = 100\n",
    "        for names in fl.readlines():\n",
    "            try :\n",
    "                start = time.time()\n",
    "                class_define(names.strip(), count)\n",
    "                count += 1\n",
    "                print(names.strip(), '폴더 완료, 실행시간 : ', time.time()-start, '(s)')\n",
    "            except :\n",
    "                print(names.strip(), '폴더 실패') ## 폴더가 없습니다."
   ]
  }
 ],
 "metadata": {
  "kernelspec": {
   "display_name": "Python Multi",
   "language": "python",
   "name": "multi"
  },
  "language_info": {
   "codemirror_mode": {
    "name": "ipython",
    "version": 3
   },
   "file_extension": ".py",
   "mimetype": "text/x-python",
   "name": "python",
   "nbconvert_exporter": "python",
   "pygments_lexer": "ipython3",
   "version": "3.7.6"
  }
 },
 "nbformat": 4,
 "nbformat_minor": 5
}
