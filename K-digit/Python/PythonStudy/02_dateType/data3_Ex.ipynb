{
 "cells": [
  {
   "cell_type": "code",
   "execution_count": 1,
   "id": "2957f021-0dec-4c4f-b8af-1943a0fc45e1",
   "metadata": {},
   "outputs": [
    {
     "name": "stdin",
     "output_type": "stream",
     "text": [
      "정수 1 입력 :  10\n",
      "정수 2 입력 :  23\n"
     ]
    }
   ],
   "source": [
    "num1 = int(input(\"정수 1 입력 : \"))\n",
    "num2 = int(input(\"정수 2 입력 : \"))"
   ]
  },
  {
   "cell_type": "code",
   "execution_count": 2,
   "id": "a95ed1a3-c050-4c99-b04d-e8c34035a1ed",
   "metadata": {},
   "outputs": [],
   "source": [
    "total = num1 + num2\n",
    "avg = total/2"
   ]
  },
  {
   "cell_type": "code",
   "execution_count": 3,
   "id": "8382f603-3c73-4fce-bdb2-b9737085626f",
   "metadata": {},
   "outputs": [
    {
     "name": "stdout",
     "output_type": "stream",
     "text": [
      "두 수의 합은 33, 평균은 16.50\n"
     ]
    }
   ],
   "source": [
    "print('두 수의 합은 %d, 평균은 %.2f' %(total,avg))"
   ]
  },
  {
   "cell_type": "code",
   "execution_count": 4,
   "id": "25a9c5a3-0170-4f7d-ba57-0fa8c8b2a977",
   "metadata": {},
   "outputs": [
    {
     "name": "stdout",
     "output_type": "stream",
     "text": [
      "두 수의 합은 33, 평균은 16.5\n"
     ]
    }
   ],
   "source": [
    "print('두 수의 합은 {0}, 평균은 {1}'.format(total,avg))"
   ]
  },
  {
   "cell_type": "code",
   "execution_count": 5,
   "id": "eaaeb246-6ce7-423d-98ed-998a204fdece",
   "metadata": {},
   "outputs": [
    {
     "name": "stdout",
     "output_type": "stream",
     "text": [
      "두 수의 합은 33, 평균은 16.50\n"
     ]
    }
   ],
   "source": [
    "print('두 수의 합은 {0:d}, 평균은 {1:.2f}'.format(total,avg))"
   ]
  }
 ],
 "metadata": {
  "kernelspec": {
   "display_name": "Python Multi",
   "language": "python",
   "name": "multi"
  },
  "language_info": {
   "codemirror_mode": {
    "name": "ipython",
    "version": 3
   },
   "file_extension": ".py",
   "mimetype": "text/x-python",
   "name": "python",
   "nbconvert_exporter": "python",
   "pygments_lexer": "ipython3",
   "version": "3.7.6"
  }
 },
 "nbformat": 4,
 "nbformat_minor": 5
}
