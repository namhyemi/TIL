{
 "cells": [
  {
   "cell_type": "code",
   "execution_count": 1,
   "id": "b5a653a3-fa2d-472c-8daa-440261fecb9a",
   "metadata": {},
   "outputs": [],
   "source": [
    "# 16진수 구분 코드 작성"
   ]
  },
  {
   "cell_type": "code",
   "execution_count": 3,
   "id": "83e89e63-338c-47dc-870c-541fbe7daa2e",
   "metadata": {},
   "outputs": [
    {
     "name": "stdin",
     "output_type": "stream",
     "text": [
      "16진수 한글자 입력 :  A\n"
     ]
    },
    {
     "name": "stdout",
     "output_type": "stream",
     "text": [
      "10진수 ==> 10\n"
     ]
    }
   ],
   "source": [
    "num = input(\"16진수 한글자 입력 : \")\n",
    "if((num >= '0' and num <= '16') or (num >= 'A' and num <= 'G') or (num >= 'a' and num <= 'g')):\n",
    "    num = int(num, 16)\n",
    "    print(\"10진수 ==> %d\" %num)"
   ]
  },
  {
   "cell_type": "code",
   "execution_count": null,
   "id": "83cc753f-ae8f-44da-9252-ec0d9e5bce1b",
   "metadata": {},
   "outputs": [],
   "source": []
  },
  {
   "cell_type": "code",
   "execution_count": 4,
   "id": "dc97e2cc-465f-4f64-9fa9-c23a6a51828a",
   "metadata": {},
   "outputs": [],
   "source": [
    "# 주사위 게임"
   ]
  },
  {
   "cell_type": "code",
   "execution_count": 5,
   "id": "fbb6007e-dd4b-4d32-82f4-0aa0b4e5f998",
   "metadata": {},
   "outputs": [],
   "source": [
    "from random import randint"
   ]
  },
  {
   "cell_type": "code",
   "execution_count": 11,
   "id": "0b46ca3e-ea62-4abe-a178-6620306cdeed",
   "metadata": {},
   "outputs": [
    {
     "name": "stdout",
     "output_type": "stream",
     "text": [
      "A 의 숫자는 6 입니다.\n",
      "B 의 숫자는 3 입니다.\n",
      "A가 이겼습니다.\n"
     ]
    }
   ],
   "source": [
    "A = randint(1,6)\n",
    "B = randint(1,6)\n",
    "\n",
    "print(\"A 의 숫자는 %d 입니다.\" %A)\n",
    "print(\"B 의 숫자는 %d 입니다.\" %B)\n",
    "\n",
    "if A > B:\n",
    "    print(\"A가 이겼습니다.\")\n",
    "elif A < B:\n",
    "    print(\"B가 이겼습니다.\")\n",
    "else:\n",
    "    print(\"비겼습니다\")"
   ]
  },
  {
   "cell_type": "code",
   "execution_count": null,
   "id": "ce389bca-390d-429b-aceb-0c61003daa25",
   "metadata": {},
   "outputs": [],
   "source": []
  }
 ],
 "metadata": {
  "kernelspec": {
   "display_name": "Python Multi",
   "language": "python",
   "name": "multi"
  },
  "language_info": {
   "codemirror_mode": {
    "name": "ipython",
    "version": 3
   },
   "file_extension": ".py",
   "mimetype": "text/x-python",
   "name": "python",
   "nbconvert_exporter": "python",
   "pygments_lexer": "ipython3",
   "version": "3.7.6"
  }
 },
 "nbformat": 4,
 "nbformat_minor": 5
}
