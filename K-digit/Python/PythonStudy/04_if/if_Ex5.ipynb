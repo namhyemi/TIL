{
 "cells": [
  {
   "cell_type": "code",
   "execution_count": 1,
   "id": "cb56e4ff-d8d5-4b28-88f9-bef5d2b3679a",
   "metadata": {},
   "outputs": [],
   "source": [
    "# 도형 선택 후 면적 구하기"
   ]
  },
  {
   "cell_type": "code",
   "execution_count": 4,
   "id": "b0a4727d-eea2-4944-a641-611c12eca4a0",
   "metadata": {},
   "outputs": [
    {
     "name": "stdin",
     "output_type": "stream",
     "text": [
      "도형입력(1: 사각형, 2: 삼각형, 3: 원) :  3\n"
     ]
    }
   ],
   "source": [
    "shape = int(input(\"도형입력(1: 사각형, 2: 삼각형, 3: 원) : \"))"
   ]
  },
  {
   "cell_type": "code",
   "execution_count": 7,
   "id": "ca81829f-dc0f-47d3-b990-5a563d29468d",
   "metadata": {},
   "outputs": [
    {
     "name": "stdin",
     "output_type": "stream",
     "text": [
      "반지름을 입력하세요 :  10\n"
     ]
    },
    {
     "name": "stdout",
     "output_type": "stream",
     "text": [
      "원의 면적은 314.16입니다.\n"
     ]
    }
   ],
   "source": [
    "if shape == 1:\n",
    "    height = int(input(\"가로 길이를 입력하세요 : \"))\n",
    "    width = int(input(\"세로 길이를 입력하세요 : \"))\n",
    "    area = height * width\n",
    "    print(\"사각형의 면적은 %d입니다.\"%area)\n",
    "elif shape == 2:\n",
    "    height = int(input(\"높이를 입력하세요 : \"))\n",
    "    width = int(input(\"밑변를 입력하세요 : \"))\n",
    "    area = height*width /2\n",
    "    print(\"삼각형의 면적은 %.2f입니다.\"%area)\n",
    "elif shape == 3:\n",
    "    radius = int(input(\"반지름을 입력하세요 : \"))\n",
    "    area = radius * radius * 3.14159265\n",
    "    print(\"원의 면적은 %.2f입니다.\"%area)\n",
    "else : \n",
    "    print(\"잘못 입력하였습니다.\")"
   ]
  },
  {
   "cell_type": "code",
   "execution_count": null,
   "id": "e3e55e7e-e71f-4456-9129-ae2f601c922f",
   "metadata": {},
   "outputs": [],
   "source": []
  }
 ],
 "metadata": {
  "kernelspec": {
   "display_name": "Python Multi",
   "language": "python",
   "name": "multi"
  },
  "language_info": {
   "codemirror_mode": {
    "name": "ipython",
    "version": 3
   },
   "file_extension": ".py",
   "mimetype": "text/x-python",
   "name": "python",
   "nbconvert_exporter": "python",
   "pygments_lexer": "ipython3",
   "version": "3.7.6"
  }
 },
 "nbformat": 4,
 "nbformat_minor": 5
}
