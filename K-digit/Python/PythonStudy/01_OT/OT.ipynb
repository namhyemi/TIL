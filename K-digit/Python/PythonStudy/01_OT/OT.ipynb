{
 "cells": [
  {
   "cell_type": "code",
   "execution_count": 1,
   "id": "e1ae661c-d663-44b0-acb6-4a8795c72428",
   "metadata": {},
   "outputs": [],
   "source": [
    "# 첫번째 파이썬\n",
    "# OT.py"
   ]
  },
  {
   "cell_type": "code",
   "execution_count": null,
   "id": "6ce1ac43-0aee-4632-a044-8acaf3154d22",
   "metadata": {},
   "outputs": [],
   "source": [
    "# 주석문 : 프로그램에 대한 설명문, 실행에 영향 없음\n",
    "# 주석처리 방법\n",
    "# 1줄 주석 : 줄 맨 처음에 '#' 기호 사용\n",
    "# 블럭 주석 : 파이썬은 여러줄 주석 기호는 없음.\n",
    "# 다만 ''' ''' 이용하면 문자열 처리 되면서 실행에 영향을 주지 않는다.\n",
    "#\n",
    "# 미리 입력 해 놓은 내용 ctrl+/ 키를 이용해 한번에 주석처리 가능\n",
    "#\n",
    "# 주석문을 사용하는 이유\n",
    "# 프로그램에 관한 정보를 추가할 수 있다.\n",
    "# 수정이 용이하다.\n",
    "# 가독성을 높여준다.\n",
    "# 코드를 이해하기 쉽다."
   ]
  },
  {
   "cell_type": "code",
   "execution_count": 2,
   "id": "3a526a58-b30b-4b86-93d4-e067f6553ad9",
   "metadata": {},
   "outputs": [],
   "source": [
    "# 변수에 값을 저장(할당 assign)\n",
    "x = 10 \n",
    "y = 20\n",
    "z = 30"
   ]
  },
  {
   "cell_type": "code",
   "execution_count": 3,
   "id": "b040b546-2bcb-42fc-9c7f-26440bf4c839",
   "metadata": {},
   "outputs": [
    {
     "name": "stdout",
     "output_type": "stream",
     "text": [
      "10 20 30\n",
      "10\n",
      "20\n",
      "30\n"
     ]
    }
   ],
   "source": [
    "print(x,y,z)\n",
    "print(x)\n",
    "print(y)\n",
    "print(z)"
   ]
  },
  {
   "cell_type": "code",
   "execution_count": 5,
   "id": "6ae0675b-e60f-4de0-a403-cffebfd1afe8",
   "metadata": {},
   "outputs": [],
   "source": [
    "# 여러개의 변수에 여러개의 값을 저장\n",
    "x,y,z = 15,25,35"
   ]
  },
  {
   "cell_type": "code",
   "execution_count": 6,
   "id": "29319428-8ad7-4e47-8324-46d675ed4fad",
   "metadata": {},
   "outputs": [
    {
     "name": "stdout",
     "output_type": "stream",
     "text": [
      "15 25 35\n",
      "15\n",
      "25\n",
      "35\n"
     ]
    }
   ],
   "source": [
    "print(x,y,z)\n",
    "print(x)\n",
    "print(y)\n",
    "print(z)"
   ]
  },
  {
   "cell_type": "code",
   "execution_count": 7,
   "id": "40450007-115a-4dde-a2d3-a400576c17a3",
   "metadata": {},
   "outputs": [],
   "source": [
    "# 여러 개의 변수에 동일한 값을 할당\n",
    "a=b=c=100"
   ]
  },
  {
   "cell_type": "code",
   "execution_count": 8,
   "id": "7780fc29-543d-4151-be36-f255f00d81fd",
   "metadata": {},
   "outputs": [
    {
     "name": "stdout",
     "output_type": "stream",
     "text": [
      "100 100 100\n"
     ]
    }
   ],
   "source": [
    "print(a,b,c)"
   ]
  },
  {
   "cell_type": "code",
   "execution_count": 11,
   "id": "bb231f66-f1f1-414e-a613-0bef1cf2bc96",
   "metadata": {},
   "outputs": [
    {
     "name": "stdout",
     "output_type": "stream",
     "text": [
      "a = 10\n",
      "b = 20\n"
     ]
    }
   ],
   "source": [
    "# 두 변수의 값을 교환(swap)\n",
    "a,b = 10, 20\n",
    "print('a =',a)\n",
    "print('b =',b)"
   ]
  },
  {
   "cell_type": "code",
   "execution_count": 12,
   "id": "215a225a-9fa4-4a60-84f5-ed9e200a2b15",
   "metadata": {},
   "outputs": [
    {
     "name": "stdout",
     "output_type": "stream",
     "text": [
      "a = 20\n",
      "b = 10\n"
     ]
    }
   ],
   "source": [
    "a,b = b,a\n",
    "print('a =',a)\n",
    "print('b =',b)"
   ]
  },
  {
   "cell_type": "code",
   "execution_count": 15,
   "id": "2825b6ec-b7b4-44d2-9c2e-47ce5953eb0d",
   "metadata": {},
   "outputs": [
    {
     "name": "stdout",
     "output_type": "stream",
     "text": [
      "100\n",
      "140723955084784\n",
      "<class 'int'>\n"
     ]
    }
   ],
   "source": [
    "# 변수를 삭제\n",
    "x = 100\n",
    "print(x)\n",
    "print(id(x))\n",
    "print(type(x))"
   ]
  },
  {
   "cell_type": "code",
   "execution_count": null,
   "id": "753bcba8-8b6f-42ab-bfaf-f9646ab884c8",
   "metadata": {},
   "outputs": [],
   "source": [
    "del(x)\n",
    "# print(x) \n",
    "# NameError: name 'x' is not defined"
   ]
  },
  {
   "cell_type": "code",
   "execution_count": 18,
   "id": "51d15dcc-0bba-44d5-ae48-643d4724fe6e",
   "metadata": {},
   "outputs": [
    {
     "name": "stdout",
     "output_type": "stream",
     "text": [
      "moon 25\n"
     ]
    }
   ],
   "source": [
    "# 문자열에 큰 따옴표 사용\n",
    "name = \"moon\"\n",
    "age = 25\n",
    "print(name, age)"
   ]
  },
  {
   "cell_type": "code",
   "execution_count": 30,
   "id": "de070762-b5fa-4153-9a63-621a811e7a21",
   "metadata": {},
   "outputs": [
    {
     "name": "stdout",
     "output_type": "stream",
     "text": [
      "moon은 서울시 강남구에 삽니다.\n",
      "moon은 서울시 강남구에 삽니다.\n"
     ]
    }
   ],
   "source": [
    "address = '서울시 강남구'\n",
    "print(name + \"은 \" + address + \"에 삽니다.\")\n",
    "print(name + '은 ' + address + '에 삽니다.') "
   ]
  },
  {
   "cell_type": "code",
   "execution_count": 38,
   "id": "dc66d8e8-117a-49fe-9d9a-440610e288dd",
   "metadata": {},
   "outputs": [
    {
     "name": "stdout",
     "output_type": "stream",
     "text": [
      "moon 은  서울시 강남구 에 삽니다.\n"
     ]
    }
   ],
   "source": [
    "# ,와 + 차이\n",
    "print(name, \"은 \", address, \"에 삽니다.\")"
   ]
  },
  {
   "cell_type": "code",
   "execution_count": null,
   "id": "b89567c4-99fb-4ac0-96d3-345ce5c87599",
   "metadata": {},
   "outputs": [],
   "source": [
    "# 문자열 변수와 값을 연결할 때 깞이 숫자면 + 사용불가\n",
    "# 문자열 데이터를 연결할 때만 + 사용 가능\n",
    "# print(name + '은' + age + \"살 입니다.\") TypeError: can only concatenate str (not \"int\") to str"
   ]
  },
  {
   "cell_type": "code",
   "execution_count": 40,
   "id": "ba2d4f94-f58d-486c-9b83-53d7a57d7e00",
   "metadata": {},
   "outputs": [
    {
     "name": "stdout",
     "output_type": "stream",
     "text": [
      "moon은 25살 입니다.\n"
     ]
    }
   ],
   "source": [
    "# 형 변환\n",
    "print(name + '은 ' + str(age) + \"살 입니다.\")"
   ]
  },
  {
   "cell_type": "code",
   "execution_count": 41,
   "id": "7ff2f8b9-cb12-4ef2-a497-354c2d00d163",
   "metadata": {},
   "outputs": [],
   "source": [
    "# 값의 형태를 강제적으로 다른 형태로 변환하는 것\n",
    "# 문자열 형변환 함수 str()\n",
    "# 정수형 형변환 함수 int()\n",
    "# 실수형 형변환 함수 float()"
   ]
  },
  {
   "cell_type": "code",
   "execution_count": 44,
   "id": "a358e35d-bc01-4d40-b773-a93ab468b3e0",
   "metadata": {},
   "outputs": [
    {
     "name": "stdout",
     "output_type": "stream",
     "text": [
      "사각형의 면적은 : 5000\n"
     ]
    }
   ],
   "source": [
    "# 사각형 면적을 구하는 프로그램\n",
    "width = 100\n",
    "height = 50\n",
    "area = width * height\n",
    "print(\"사각형의 면적은 :\", area)"
   ]
  },
  {
   "cell_type": "code",
   "execution_count": 45,
   "id": "d4e593b1-f331-4b3c-89e7-1acec67c0907",
   "metadata": {},
   "outputs": [],
   "source": [
    "#  형식 지정 출력\n",
    "name, no, year, grade, average = '홍길동', 2021001, 1, 'A', 93.5"
   ]
  },
  {
   "cell_type": "code",
   "execution_count": 46,
   "id": "76b49cff-1e66-4dfc-8c91-b2d7bf6cf451",
   "metadata": {},
   "outputs": [
    {
     "name": "stdout",
     "output_type": "stream",
     "text": [
      "성명 : 홍길동\n",
      "학번 : 2021001\n",
      "학년 : 1\n",
      "성적 : A\n",
      "평균 : 93.5\n"
     ]
    }
   ],
   "source": [
    "print(\"성명 :\", name)\n",
    "print(\"학번 :\", no)\n",
    "print(\"학년 :\", year)\n",
    "print(\"성적 :\", grade)\n",
    "print(\"평균 :\", average)"
   ]
  },
  {
   "cell_type": "code",
   "execution_count": 61,
   "id": "a66b6b24-8b39-44e4-b387-08993863e364",
   "metadata": {},
   "outputs": [
    {
     "name": "stdout",
     "output_type": "stream",
     "text": [
      "성명 : 홍길동\n",
      "학번 : 2021001\n",
      "학년 : 1\n",
      "성적 : A\n",
      "평균 : 93.50\n"
     ]
    }
   ],
   "source": [
    "print(\"성명 : %s\" %name)\n",
    "print(\"학번 : %d\" %no)\n",
    "print(\"학년 : %d\" %year)\n",
    "print(\"성적 : %s\" %grade)\n",
    "print(\"평균 : %.2f\" %average)"
   ]
  },
  {
   "cell_type": "code",
   "execution_count": 58,
   "id": "6c83f095-d9c3-4179-8a4a-cdfafdfdcd41",
   "metadata": {},
   "outputs": [
    {
     "name": "stdout",
     "output_type": "stream",
     "text": [
      "이름 : 홍길동, 출석률 : 80%\n"
     ]
    }
   ],
   "source": [
    "rate = 80\n",
    "print('이름 : %s, 출석률 : %d%%' %(name, rate))"
   ]
  },
  {
   "cell_type": "code",
   "execution_count": 63,
   "id": "b6a6de9e-701a-4438-9ae6-d1f63cd52869",
   "metadata": {},
   "outputs": [
    {
     "name": "stdout",
     "output_type": "stream",
     "text": [
      "32.22222222222222\n"
     ]
    }
   ],
   "source": [
    "# 화씨온도를 섭씨 온도로 변환\n",
    "# C = (F-32)*5/9\n",
    "Ftemp = 90\n",
    "Ctemp = (Ftemp-32)*5/9\n",
    "print(Ctemp)"
   ]
  },
  {
   "cell_type": "code",
   "execution_count": 68,
   "id": "44cd3d9a-0a10-4b84-8768-b5a39a5dcef2",
   "metadata": {},
   "outputs": [
    {
     "name": "stdout",
     "output_type": "stream",
     "text": [
      "32.222222\n",
      "32.22\n",
      "32\n"
     ]
    }
   ],
   "source": [
    "print(\"%f\" %Ctemp) # 소수점이하 6자리로 출력\n",
    "print(\"%.2f\" %Ctemp) # 소수점이하 2자리로 출력\n",
    "print(\"%.f\" %Ctemp) # 소수점이하 생략"
   ]
  },
  {
   "cell_type": "code",
   "execution_count": 69,
   "id": "7aa4b173-51df-4cfe-a8f4-61c7d5c66cd5",
   "metadata": {},
   "outputs": [
    {
     "name": "stdout",
     "output_type": "stream",
     "text": [
      "     32.22\n"
     ]
    }
   ],
   "source": [
    "print(format(Ctemp, '10.2f')) # 전체자리 숫자를 10으로 설정했기 때문에 앞에 공백이 출력"
   ]
  },
  {
   "cell_type": "code",
   "execution_count": 72,
   "id": "7b3135e2-0d13-4c87-981f-3ec470895db6",
   "metadata": {},
   "outputs": [
    {
     "name": "stdout",
     "output_type": "stream",
     "text": [
      "250, 83.33\n"
     ]
    }
   ],
   "source": [
    "# 포맷 코드, 2개 이상의 값 출력\n",
    "total = 250\n",
    "average = 83.33\n",
    "print(\"%d, %.2f\" %(total,average)) # 실제 출력되는 값들은 ()로 묶어야 한다."
   ]
  },
  {
   "cell_type": "code",
   "execution_count": 73,
   "id": "3c5e7776-9738-4f24-bcf0-b1503d1e4761",
   "metadata": {},
   "outputs": [
    {
     "name": "stdout",
     "output_type": "stream",
     "text": [
      "313.1592\n"
     ]
    }
   ],
   "source": [
    "# 상수\n",
    "# 변화되지 않는 값\n",
    "# 파이썬에서는 별도의 상수가 없음\n",
    "# 변수와 구분하기 위해 대문자로 사용\n",
    "PI = 3.131592 \n",
    "r = 10\n",
    "area = r*r*PI\n",
    "print(area)"
   ]
  },
  {
   "cell_type": "code",
   "execution_count": 78,
   "id": "b318d3c7-b1f1-4ed2-950e-47fcbc51a3f3",
   "metadata": {},
   "outputs": [
    {
     "name": "stdout",
     "output_type": "stream",
     "text": [
      "10300.0\n",
      "10300\n",
      "10,300\n"
     ]
    }
   ],
   "source": [
    "INT_RATE = 0.03\n",
    "deposit = 10000\n",
    "interest = deposit * INT_RATE\n",
    "balance = deposit + interest\n",
    "print(balance)\n",
    "print(int(balance)) #변수값을 정수형으로 형변환 후 출력\n",
    "print(format(int(balance),',')) # 변수값을 정수형으로 형변환 후 천단위 구분자 출력"
   ]
  },
  {
   "cell_type": "code",
   "execution_count": 80,
   "id": "092b782b-952b-4168-a360-4c4c41429745",
   "metadata": {},
   "outputs": [
    {
     "name": "stdout",
     "output_type": "stream",
     "text": [
      "10 812 83 4860\n"
     ]
    }
   ],
   "source": [
    "# 정수 리터럴 \n",
    "a = 0b1010 # 2진수\n",
    "b = 812 # 10진수\n",
    "c = 0o123 # 8진수\n",
    "d = 0x12fc # 16진수\n",
    "print(a,b,c,d)"
   ]
  },
  {
   "cell_type": "code",
   "execution_count": 81,
   "id": "d9f12e30-4172-4e68-950c-1c2d11207787",
   "metadata": {},
   "outputs": [
    {
     "name": "stdout",
     "output_type": "stream",
     "text": [
      "3.14 -123.45 123456.7\n"
     ]
    }
   ],
   "source": [
    "# 실수 리터럴\n",
    "f1 = 3.14\n",
    "f2 = -123.45\n",
    "f3 = 1.234567e5\n",
    "print(f1,f2,f3)"
   ]
  },
  {
   "cell_type": "code",
   "execution_count": 91,
   "id": "8d05bc45-a3eb-4f5c-a939-b7754f3fdce9",
   "metadata": {},
   "outputs": [
    {
     "name": "stdout",
     "output_type": "stream",
     "text": [
      "홍길동 Python It's Python Programming It's Python Programming\n",
      "삼 따옴표는\n",
      "여러줄에 나누어서 \n",
      "문자를 저장할 때 사용\n"
     ]
    }
   ],
   "source": [
    "# 문자열 리터럴\n",
    "str1 = '홍길동'\n",
    "str2 = \"Python\"\n",
    "str3 = '''It's Python Programming'''\n",
    "str4 = \"\"\"It's Python Programming\"\"\"\n",
    "str5 = \"\"\"삼 따옴표는\n",
    "여러줄에 나누어서 \n",
    "문자를 저장할 때 사용\"\"\"\n",
    "print(str1,str2,str3,str4)\n",
    "print(str5)"
   ]
  },
  {
   "cell_type": "code",
   "execution_count": 93,
   "id": "a2da58dd-9eee-4bc2-841a-4cff6616ba25",
   "metadata": {},
   "outputs": [
    {
     "name": "stdout",
     "output_type": "stream",
     "text": [
      "True False\n"
     ]
    }
   ],
   "source": [
    "# 논리값 리터럴\n",
    "T = True\n",
    "F = False\n",
    "print(T,F)"
   ]
  },
  {
   "cell_type": "code",
   "execution_count": 96,
   "id": "b9d2814f-0822-442c-b7f9-00d6f353bb3d",
   "metadata": {},
   "outputs": [
    {
     "name": "stdout",
     "output_type": "stream",
     "text": [
      "None\n",
      "<class 'NoneType'>\n",
      "140723954605280\n"
     ]
    }
   ],
   "source": [
    "# 특수 리터럴\n",
    "address = None\n",
    "print(address)\n",
    "print(type(address))\n",
    "print(id(address))"
   ]
  },
  {
   "cell_type": "code",
   "execution_count": 99,
   "id": "3eac970b-d514-4352-947e-91b39a3fe35d",
   "metadata": {},
   "outputs": [
    {
     "name": "stdout",
     "output_type": "stream",
     "text": [
      "12 15\n"
     ]
    }
   ],
   "source": [
    "# 행 분리 기호(역슬래시와 괄호)\n",
    "# 내용이 긴 경우 여러 행으로 분리 가능\n",
    "a = 1 + 2 +\\\n",
    "    + 4 + 5\n",
    "b =(1 + 2 +\n",
    "   3 + 4 + 5)\n",
    "print(a, b)"
   ]
  },
  {
   "cell_type": "code",
   "execution_count": 105,
   "id": "e6deff49-2722-4341-96d9-3ad69fd556dd",
   "metadata": {},
   "outputs": [
    {
     "name": "stdout",
     "output_type": "stream",
     "text": [
      "긴 문장을 입력할 때 중간에서 엔터키를 치면다음행으로 가고1줄로 인식\n"
     ]
    }
   ],
   "source": [
    "print(\"긴 문장을 입력할 때 중간에서 엔터키를 치면\"\n",
    "     \"다음행으로 가도\"\n",
    "     \"1줄로 인식\")"
   ]
  },
  {
   "cell_type": "code",
   "execution_count": 101,
   "id": "e42aad10-2cf5-48a5-bd8e-de2b7ee353b5",
   "metadata": {},
   "outputs": [
    {
     "name": "stdout",
     "output_type": "stream",
     "text": [
      "c:\\PythonStudy\n",
      "ame\n",
      "c:\\PythonStudy\\name\n"
     ]
    }
   ],
   "source": [
    "print(\"c:\\PythonStudy\\name\") #\\n은 줄바꿈 기능\n",
    "print(r\"c:\\PythonStudy\\name\")"
   ]
  },
  {
   "cell_type": "code",
   "execution_count": 108,
   "id": "1072ff17-cd1b-44a1-ad25-034d0709fdc8",
   "metadata": {},
   "outputs": [
    {
     "name": "stdout",
     "output_type": "stream",
     "text": [
      "apple\n",
      "banana\n"
     ]
    }
   ],
   "source": [
    "# print('apple') print(\"banana\")\n",
    "# SyntaxError: invalid syntax\n",
    "print('apple'); print(\"banana\")"
   ]
  },
  {
   "cell_type": "code",
   "execution_count": 112,
   "id": "5f6569ae-5ae4-42b9-8c64-90a2eb7479dc",
   "metadata": {},
   "outputs": [
    {
     "name": "stdout",
     "output_type": "stream",
     "text": [
      "first\n",
      "second\n"
     ]
    }
   ],
   "source": [
    "# print() 함수 : 다음행으로 커서 이동\n",
    "print(\"first\")\n",
    "print(\"second\")"
   ]
  },
  {
   "cell_type": "code",
   "execution_count": 117,
   "id": "5d4897c9-4fb7-40a0-b702-4139de8aa8e5",
   "metadata": {},
   "outputs": [
    {
     "name": "stdout",
     "output_type": "stream",
     "text": [
      "first second\n",
      "first_second\n"
     ]
    }
   ],
   "source": [
    "# end = ' ' : 한줄로 출력 , ' '안에는 다양한 구분자 사용 가능(띄어쓰기, 쉼표, 콜론, ...)\n",
    "print(\"first\", end=' ')\n",
    "print(\"second\")\n",
    "print(\"first\", end='_')\n",
    "print(\"second\")"
   ]
  }
 ],
 "metadata": {
  "kernelspec": {
   "display_name": "Python Multi",
   "language": "python",
   "name": "multi"
  },
  "language_info": {
   "codemirror_mode": {
    "name": "ipython",
    "version": 3
   },
   "file_extension": ".py",
   "mimetype": "text/x-python",
   "name": "python",
   "nbconvert_exporter": "python",
   "pygments_lexer": "ipython3",
   "version": "3.7.6"
  }
 },
 "nbformat": 4,
 "nbformat_minor": 5
}
