{
 "cells": [
  {
   "cell_type": "code",
   "execution_count": 1,
   "id": "16857f56-2ed2-49c6-9cb9-ba5c7294edf9",
   "metadata": {},
   "outputs": [],
   "source": [
    "# 클래스 구현 : 메서드, 필드 정의, 생성자 이용\n",
    "\n",
    "# 클래스 선언\n",
    "# class 클래스이름 [(슈퍼클래스명)] :\n",
    "#     필드(속성)1\n",
    "#     필드(속성)2\n",
    "#     def method1(self):\n",
    "#         ...\n",
    "#     def method2(self):\n",
    "#         ..."
   ]
  },
  {
   "cell_type": "code",
   "execution_count": 2,
   "id": "01f7cd07-2890-4f37-a71e-1f2b6f79fb78",
   "metadata": {},
   "outputs": [
    {
     "name": "stdout",
     "output_type": "stream",
     "text": [
      "<__main__.Car object at 0x00000213CABD5988>\n"
     ]
    }
   ],
   "source": [
    "# 빈 클래스 정의\n",
    "class Car:\n",
    "    pass\n",
    "\n",
    "car1 = Car()\n",
    "print(car1)\n",
    "# <__main__.Car object at 0x0000020491E4F1F0>"
   ]
  },
  {
   "cell_type": "code",
   "execution_count": 4,
   "id": "c3fdd627-6259-4fdd-9766-ed1c155d8dfa",
   "metadata": {},
   "outputs": [
    {
     "name": "stdout",
     "output_type": "stream",
     "text": [
      "시험중입니다\n",
      "시험중입니다\n",
      "시험중입니다\n"
     ]
    }
   ],
   "source": [
    "class Car:\n",
    "    # 메소드 정의\n",
    "    def show(self):\n",
    "        print('시험중입니다')\n",
    "\n",
    "# 인스턴스 생성\n",
    "car1 = Car()\n",
    "car2 = Car()\n",
    "car3 = Car()\n",
    "car1.show()   # 메소드 호출\n",
    "car2.show()\n",
    "car3.show()"
   ]
  },
  {
   "cell_type": "code",
   "execution_count": 6,
   "id": "61659684-725c-44ed-a59b-64faebe789fb",
   "metadata": {},
   "outputs": [],
   "source": [
    "# 특정 클래스의 인스턴스인지 확인 : isinstance(인스턴스명, 클래스명)"
   ]
  },
  {
   "cell_type": "code",
   "execution_count": 6,
   "id": "7d047fdb-8f10-473f-b12d-c235e9bbf96f",
   "metadata": {},
   "outputs": [
    {
     "name": "stdout",
     "output_type": "stream",
     "text": [
      "True\n",
      "False\n"
     ]
    }
   ],
   "source": [
    "print(isinstance(car1, Car))\n",
    "print(isinstance(car1, int))"
   ]
  },
  {
   "cell_type": "code",
   "execution_count": 8,
   "id": "85d018dc-f77b-4628-93ca-5edd51bce12e",
   "metadata": {},
   "outputs": [
    {
     "name": "stdout",
     "output_type": "stream",
     "text": [
      "True\n",
      "<class 'int'>\n"
     ]
    }
   ],
   "source": [
    "x = 3\n",
    "print(isinstance(x,int))\n",
    "print(type(x))"
   ]
  },
  {
   "cell_type": "code",
   "execution_count": 9,
   "id": "30da1417-24b7-4666-911d-47d0018d98fd",
   "metadata": {},
   "outputs": [
    {
     "name": "stdout",
     "output_type": "stream",
     "text": [
      "True\n"
     ]
    }
   ],
   "source": [
    "y = list([1,2,3,4])\n",
    "print(isinstance(y, list))"
   ]
  },
  {
   "cell_type": "code",
   "execution_count": 11,
   "id": "0a390305-f826-4513-b524-84e0d6e83f7f",
   "metadata": {},
   "outputs": [
    {
     "name": "stdout",
     "output_type": "stream",
     "text": [
      "True\n",
      "<class 'str'>\n"
     ]
    }
   ],
   "source": [
    "z = 'Hi, 반가워요'\n",
    "print(isinstance(z, str))\n",
    "print(type(z))"
   ]
  },
  {
   "cell_type": "code",
   "execution_count": 12,
   "id": "72c179bf-f02a-4e87-8d81-11fe6f9ccd94",
   "metadata": {},
   "outputs": [
    {
     "name": "stdout",
     "output_type": "stream",
     "text": [
      "<class 'bool'>\n"
     ]
    }
   ],
   "source": [
    "a = True\n",
    "print(type(a))"
   ]
  },
  {
   "cell_type": "code",
   "execution_count": 14,
   "id": "e39c99f9-d9bb-4f6e-83c8-9282d44c44b3",
   "metadata": {},
   "outputs": [
    {
     "name": "stdout",
     "output_type": "stream",
     "text": [
      "True\n",
      "<class 'tuple'>\n",
      "False\n"
     ]
    }
   ],
   "source": [
    "# 파이썬에서 기본제공하고 있는 int, float, bool, str, list, dict, set, tuple\n",
    "# => 클래스\n",
    "\n",
    "# instance & object : 같은 것 가리키고 있음\n",
    "# instnace : 클래스와 연관지어 말할 때 ,예. car1은 Car 클래스의 인스턴스이다\n",
    "# object :단독으로 부를 때, 예. car1 객체\n",
    "\n",
    "print(isinstance(a, int))\n",
    "\n",
    "b = (1,2,3)\n",
    "print(type(b))\n",
    "print(isinstance(b,list))"
   ]
  },
  {
   "cell_type": "code",
   "execution_count": 5,
   "id": "1f794e54-f999-4ba2-8953-88cc6165250b",
   "metadata": {},
   "outputs": [],
   "source": [
    "# 필드 추가 : 메소드 내에서 사용"
   ]
  },
  {
   "cell_type": "code",
   "execution_count": 18,
   "id": "052b89a5-179e-47b1-84db-b7c9c5bf3389",
   "metadata": {},
   "outputs": [
    {
     "name": "stdout",
     "output_type": "stream",
     "text": [
      "70 로 주행중입니다\n",
      "70\n",
      "50 로 주행중입니다\n",
      "red\n"
     ]
    }
   ],
   "source": [
    "class Car:\n",
    "    def show(self):\n",
    "        print('시험중입니다')\n",
    "\n",
    "    # def drive(self):\n",
    "    #     self.speed=60   # speed 필드\n",
    "    #     print('%d 로 주행중입니다' % self.speed)\n",
    "\n",
    "    def drive(self, speed):\n",
    "        self.speed = speed  # speed 필드\n",
    "        print('%d 로 주행중입니다' % self.speed)\n",
    "        \n",
    "# 메인 : 인스턴스를 생성하고 이용\n",
    "car1 = Car()\n",
    "car1.drive(70)\n",
    "print(car1.speed)\n",
    "car1.drive(50)\n",
    "\n",
    "# 인스턴스.필드\n",
    "car1.color = 'red'\n",
    "print(car1.color)"
   ]
  },
  {
   "cell_type": "code",
   "execution_count": 16,
   "id": "2acda39f-ea9f-46e9-a2db-f4ba285d4094",
   "metadata": {},
   "outputs": [
    {
     "name": "stdout",
     "output_type": "stream",
     "text": [
      "0\n",
      "0 로 주행중입니다\n",
      "60 로 주행중입니다\n"
     ]
    }
   ],
   "source": [
    "# 클래스에서 필드 선언\n",
    "class Car:\n",
    "    speed = 0\n",
    "    color = ''\n",
    "    model = ''\n",
    "\n",
    "    def show(self):\n",
    "        print('시험중입니다')\n",
    "\n",
    "    def drive(self):\n",
    "        print('%d 로 주행중입니다' % self.speed)\n",
    "\n",
    "mycar = Car()\n",
    "print(mycar.speed)\n",
    "mycar.drive()\n",
    "mycar.speed = 60\n",
    "mycar.drive()"
   ]
  },
  {
   "cell_type": "code",
   "execution_count": 5,
   "id": "1c80f406-ac95-47a9-af5a-8d8367c5c271",
   "metadata": {},
   "outputs": [],
   "source": [
    "# 생성자(consrutor) : 인스턴스를 생성해주는 함수"
   ]
  },
  {
   "cell_type": "code",
   "execution_count": 19,
   "id": "e2420424-236a-4a45-a782-809b49ace236",
   "metadata": {},
   "outputs": [
    {
     "name": "stdout",
     "output_type": "stream",
     "text": [
      "white\n",
      "0\n",
      "이 자동차의 색상은 white입니다.\n",
      "정차중입니다\n",
      "50 로 주행중입니다\n"
     ]
    }
   ],
   "source": [
    "# 기본 생성자  : 인스턴스 호출 => 인스턴스명.클래스이름()\n",
    "class Car:\n",
    "    def __init__(self):\n",
    "        self.color = 'white'\n",
    "        self.speed = 0\n",
    "\n",
    "    def showInfo(self):\n",
    "        print('이 자동차의 색상은 %s입니다.' % self.color)\n",
    "\n",
    "    def drive(self):\n",
    "        if self.speed != 0:\n",
    "            print('%d 로 주행중입니다' % self.speed)\n",
    "        else:\n",
    "            print('정차중입니다')\n",
    "\n",
    "mycar = Car()\n",
    "print(mycar.color)\n",
    "print(mycar.speed)\n",
    "mycar.showInfo()\n",
    "mycar.drive()\n",
    "mycar.speed = 50\n",
    "mycar.drive()"
   ]
  },
  {
   "cell_type": "code",
   "execution_count": 20,
   "id": "cb30dfb3-baa4-4126-97fd-780bb575864e",
   "metadata": {},
   "outputs": [
    {
     "name": "stdout",
     "output_type": "stream",
     "text": [
      "red\n",
      "10\n",
      "이 자동차의 색상은 red입니다.\n",
      "10 로 주행중입니다\n",
      "50 로 주행중입니다\n",
      "이 자동차의 색상은 blue입니다.\n"
     ]
    }
   ],
   "source": [
    "# 매개변수가 있는 생성자 __init__(self, 매개변수1, 매개변수2,...)\n",
    "# => 필드의 초기값 지정\n",
    "\n",
    "class Car:\n",
    "    def __init__(self, color, speed):\n",
    "        self.color = color\n",
    "        self.speed = speed\n",
    "\n",
    "    def showInfo(self):\n",
    "        print('이 자동차의 색상은 %s입니다.' % self.color)\n",
    "\n",
    "    def drive(self):\n",
    "        if self.speed != 0:\n",
    "            print('%d 로 주행중입니다' % self.speed)\n",
    "        else:\n",
    "            print('정차중입니다')\n",
    "\n",
    "mycar = Car('red', 10)\n",
    "print(mycar.color)\n",
    "print(mycar.speed)\n",
    "mycar.showInfo()\n",
    "mycar.drive()\n",
    "mycar.speed = 50\n",
    "mycar.drive()\n",
    "\n",
    "yourcar = Car('blue', 0)\n",
    "yourcar.showInfo()"
   ]
  },
  {
   "cell_type": "code",
   "execution_count": 21,
   "id": "418f4090-7860-4b35-ac61-e838b9c1e02d",
   "metadata": {},
   "outputs": [
    {
     "name": "stdout",
     "output_type": "stream",
     "text": [
      "이 자동차의 색상은 white입니다.\n",
      "이 자동차의 색상은 yellow입니다.\n",
      "이 자동차의 색상은 blue입니다.\n",
      "10 로 주행중입니다\n",
      "50\n",
      "black\n"
     ]
    }
   ],
   "source": [
    "# 디폴트 매개변수를 사용한 생성자\n",
    "class Car:\n",
    "    def __init__(self, speed=0, color='white'):\n",
    "        self.speed = speed\n",
    "        self.color = color\n",
    "\n",
    "    def showInfo(self):\n",
    "        print('이 자동차의 색상은 %s입니다.' % self.color)\n",
    "\n",
    "    def drive(self):\n",
    "        if self.speed != 0:\n",
    "            print('%d 로 주행중입니다' % self.speed)\n",
    "        else:\n",
    "            print('정차중입니다')\n",
    "\n",
    "car1 = Car()\n",
    "car2 = Car(color='yellow')\n",
    "car3 = Car(10, 'blue')\n",
    "car4 = Car(10)\n",
    "car5 = Car(color='black', speed=50)\n",
    "car1.showInfo()\n",
    "car2.showInfo()\n",
    "car3.showInfo()\n",
    "car4.drive()\n",
    "print(car5.speed)\n",
    "print(car5.color)"
   ]
  },
  {
   "cell_type": "code",
   "execution_count": 22,
   "id": "24ac5817-d65a-4d38-8df8-4d6d00f4c827",
   "metadata": {},
   "outputs": [
    {
     "name": "stdout",
     "output_type": "stream",
     "text": [
      "white\n",
      "Red\n",
      "이 자동차의 색상은 Red입니다.\n",
      "속도는 0입니다.\n",
      "20 로 주행중입니다\n",
      "40 로 주행중입니다\n",
      "30 로 주행중입니다\n"
     ]
    }
   ],
   "source": [
    "# 비공개 필드 정의 :  __필드명\n",
    "# 클래스 내부의 메소드를 통해서 사용\n",
    "\n",
    "class Car:\n",
    "    def __init__(self, speed=0, color='white'):\n",
    "        self.speed = speed\n",
    "        self.__color = color  # 클래스 내에서만 사용하는 비공개 필드\n",
    "\n",
    "#    def __str__(self):\n",
    "   # print('이 자동차의 색상은 %s이고,\\n 속도는 %d입니다.' % (self.__color, self.speed))\n",
    "\n",
    "    # color 필드 값을 반환메소드\n",
    "    def getColor(self):\n",
    "        return self.__color\n",
    "\n",
    "    # color 필드값을 변경메소드\n",
    "    def setColor(self, color):\n",
    "        self.__color = color\n",
    "\n",
    "    # 비공개 메소드\n",
    "    def __showColor(self):\n",
    "        print('이 자동차의 색상은 %s입니다.' % self.__color)\n",
    "\n",
    "    def showInfo(self):\n",
    "        self.__showColor()\n",
    "        print('속도는 %d입니다.' % self.speed)\n",
    "\n",
    "    def drive(self):\n",
    "        if self.speed != 0:\n",
    "            print('%d 로 주행중입니다' % self.speed)\n",
    "        else:\n",
    "            print('정차중입니다')\n",
    "\n",
    "    def upSpeed(self, up):\n",
    "        self.speed += up\n",
    "\n",
    "    def downSpeed(self, down):\n",
    "        self.speed -= down\n",
    "        if self.speed < 0 :\n",
    "            self.speed = 0\n",
    "\n",
    "car1 = Car()\n",
    "print(car1.getColor())\n",
    "car1.setColor('Red')\n",
    "print(car1.getColor())\n",
    "# car1.color = 'blue'   # 필드를 외부에 직접 접근\n",
    "# car1.__showColor()\n",
    "car1.showInfo()\n",
    "car1.upSpeed(20)\n",
    "car1.drive()\n",
    "car1.upSpeed(20)\n",
    "car1.drive()\n",
    "car1.downSpeed(10)\n",
    "car1.drive()"
   ]
  },
  {
   "cell_type": "code",
   "execution_count": null,
   "id": "e6aec872-ccbb-4ad3-aa3f-3b148efc0333",
   "metadata": {},
   "outputs": [],
   "source": []
  }
 ],
 "metadata": {
  "kernelspec": {
   "display_name": "python Multi",
   "language": "python",
   "name": "multi"
  },
  "language_info": {
   "codemirror_mode": {
    "name": "ipython",
    "version": 3
   },
   "file_extension": ".py",
   "mimetype": "text/x-python",
   "name": "python",
   "nbconvert_exporter": "python",
   "pygments_lexer": "ipython3",
   "version": "3.7.6"
  }
 },
 "nbformat": 4,
 "nbformat_minor": 5
}
