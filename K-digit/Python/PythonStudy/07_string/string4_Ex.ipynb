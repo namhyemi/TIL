{
 "cells": [
  {
   "cell_type": "code",
   "execution_count": 1,
   "id": "1c88f3fc-c1b9-4a56-8206-390e8d64da0c",
   "metadata": {},
   "outputs": [],
   "source": [
    "# email type 체크"
   ]
  },
  {
   "cell_type": "code",
   "execution_count": 4,
   "id": "064c39f0-6b00-4923-a971-b544e155436a",
   "metadata": {},
   "outputs": [
    {
     "name": "stdin",
     "output_type": "stream",
     "text": [
      "input email :  rabong@han@naver.com\n"
     ]
    },
    {
     "name": "stdout",
     "output_type": "stream",
     "text": [
      "이메일 형식이 아닙니다.\n",
      "입력한 이메일 : rabong@han@naver.com\n"
     ]
    }
   ],
   "source": [
    "email = input('input email : ')\n",
    "if(email.find('@') == -1 or\n",
    "   email.find('.') == -1 or\n",
    "   email.index('@') > email.index('.') or\n",
    "   email.index('.') - email.index('@') < 2 or\n",
    "   email.index('@') == 0 or\n",
    "   len(email) - email.index('.') <= 1 or\n",
    "   email.count('@') >= 2 or\n",
    "   email.count('.') >= 2) :\n",
    "    print(\"이메일 형식이 아닙니다.\")\n",
    "print(\"입력한 이메일 : %s\" %email)"
   ]
  },
  {
   "cell_type": "code",
   "execution_count": null,
   "id": "28f2e9e8-20d3-4ace-9747-27f2ae452c1c",
   "metadata": {},
   "outputs": [],
   "source": []
  }
 ],
 "metadata": {
  "kernelspec": {
   "display_name": "Python Multi",
   "language": "python",
   "name": "multi"
  },
  "language_info": {
   "codemirror_mode": {
    "name": "ipython",
    "version": 3
   },
   "file_extension": ".py",
   "mimetype": "text/x-python",
   "name": "python",
   "nbconvert_exporter": "python",
   "pygments_lexer": "ipython3",
   "version": "3.7.6"
  }
 },
 "nbformat": 4,
 "nbformat_minor": 5
}
