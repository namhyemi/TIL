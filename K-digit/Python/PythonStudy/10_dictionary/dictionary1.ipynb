{
 "cells": [
  {
   "cell_type": "code",
   "execution_count": 1,
   "id": "3ed95ec2-986d-4083-8f43-724dd4d391e6",
   "metadata": {},
   "outputs": [],
   "source": [
    "# 딕셔너리 dictionary\n",
    "# 키와 값으로 구성  { 키1:값1, 키2:값2, .... }"
   ]
  },
  {
   "cell_type": "code",
   "execution_count": 2,
   "id": "98c72c83-e3dc-44de-92f7-dfb0d446ef70",
   "metadata": {},
   "outputs": [
    {
     "name": "stdout",
     "output_type": "stream",
     "text": [
      "{1: 'a', 2: 'b', 3: 'c'}\n",
      "<class 'dict'>\n"
     ]
    }
   ],
   "source": [
    "# 딕셔너리 만들기\n",
    "d = {} ; d = dict()\n",
    "d = {1:'a', 2:'b', 3:'c'} # item\n",
    "print(d)\n",
    "print(type(d))"
   ]
  },
  {
   "cell_type": "code",
   "execution_count": 5,
   "id": "1061d19f-fc4d-4b33-8070-d29b618f5e03",
   "metadata": {},
   "outputs": [
    {
     "name": "stdout",
     "output_type": "stream",
     "text": [
      "a\n",
      "Lee\n"
     ]
    }
   ],
   "source": [
    "# 딕셔너리 요소 접근\n",
    "print(d[1])\n",
    "\n",
    "d2 = {'name':'Lee', 'tel':'010-111-1111'}\n",
    "print(d2['name'])"
   ]
  },
  {
   "cell_type": "code",
   "execution_count": 6,
   "id": "72745314-4fa2-4db2-bdeb-db3ae1d684df",
   "metadata": {},
   "outputs": [
    {
     "name": "stdout",
     "output_type": "stream",
     "text": [
      "{1: 'a', 2: 'b', 3: 'c', 4: 'f'}\n",
      "{'name': 'Lee', 'tel': '010-111-1111', 'address': '서울시 강남구'}\n"
     ]
    }
   ],
   "source": [
    "# 딕셔너리에 요소 추가\n",
    "d[4]='f'\n",
    "print(d)\n",
    "\n",
    "d2['address']='서울시 강남구'\n",
    "print(d2)"
   ]
  },
  {
   "cell_type": "code",
   "execution_count": 7,
   "id": "73fd23c4-bb35-4677-860f-dcc01370ae86",
   "metadata": {},
   "outputs": [],
   "source": [
    "# keys(), values(), items()\n",
    "d3 ={'name':'daum',\n",
    "     'url':'www.daum.net',\n",
    "     'userid':'dm',\n",
    "     'pw': 1234}"
   ]
  },
  {
   "cell_type": "code",
   "execution_count": 8,
   "id": "7404b297-ee6e-496c-8985-239027e414a4",
   "metadata": {},
   "outputs": [
    {
     "name": "stdout",
     "output_type": "stream",
     "text": [
      "<class 'dict_keys'>\n",
      "dict_keys(['name', 'url', 'userid'])\n",
      "['name', 'url', 'userid']\n"
     ]
    }
   ],
   "source": [
    "d3_Key = d3.keys()\n",
    "print(type(d3_Key))\n",
    "print(d3_Key)\n",
    "print(list(d3_Key))"
   ]
  },
  {
   "cell_type": "code",
   "execution_count": 18,
   "id": "c348676a-740f-4cff-ba3d-9208ce69ca68",
   "metadata": {},
   "outputs": [
    {
     "name": "stdout",
     "output_type": "stream",
     "text": [
      "<class 'dict_values'>\n",
      "dict_values(['daum', 'www.daum.net', 'dm'])\n",
      "['daum', 'www.daum.net', 'dm']\n"
     ]
    }
   ],
   "source": [
    "d3_values = d3.values()\n",
    "print(type(d3_values))\n",
    "print(d3_values)\n",
    "print(list(d3_values))"
   ]
  },
  {
   "cell_type": "code",
   "execution_count": 16,
   "id": "2f997658-d775-4f5a-bf72-94e40a32a8ee",
   "metadata": {},
   "outputs": [
    {
     "name": "stdout",
     "output_type": "stream",
     "text": [
      "dict_items([('name', 'daum'), ('url', 'www.daum.net'), ('userid', 'dm')])\n",
      "('name', 'daum')\n"
     ]
    }
   ],
   "source": [
    "d3_items = d3.items()\n",
    "print(d3_items)\n",
    "print(list(d3_items)[0]) #결과가 튜플이라 값 바꾸기 제한적"
   ]
  },
  {
   "cell_type": "code",
   "execution_count": 11,
   "id": "809b51d7-49ab-49d2-9191-d48d76b1966e",
   "metadata": {},
   "outputs": [
    {
     "name": "stdout",
     "output_type": "stream",
     "text": [
      "name\n",
      "url\n",
      "userid\n"
     ]
    }
   ],
   "source": [
    "for key in d3.keys():\n",
    "    print(key)"
   ]
  },
  {
   "cell_type": "code",
   "execution_count": 12,
   "id": "b2cc9c63-1c21-4ffe-aae5-1dde5759bf4f",
   "metadata": {},
   "outputs": [
    {
     "name": "stdout",
     "output_type": "stream",
     "text": [
      "daum\n",
      "www.daum.net\n",
      "dm\n"
     ]
    }
   ],
   "source": [
    "for value in d3.values():\n",
    "    print(value)"
   ]
  },
  {
   "cell_type": "code",
   "execution_count": 13,
   "id": "1618ad5f-271e-44c7-8519-a6158cb9cbe1",
   "metadata": {},
   "outputs": [
    {
     "name": "stdout",
     "output_type": "stream",
     "text": [
      "('name', 'daum')\n",
      "('url', 'www.daum.net')\n",
      "('userid', 'dm')\n"
     ]
    }
   ],
   "source": [
    "for item in d3.items():\n",
    "    print(item)"
   ]
  },
  {
   "cell_type": "code",
   "execution_count": 20,
   "id": "8dc7934b-06ab-4cb6-a72a-47f08c3faba2",
   "metadata": {},
   "outputs": [
    {
     "name": "stdout",
     "output_type": "stream",
     "text": [
      "daum\n",
      "www.daum.net\n",
      "not exist\n"
     ]
    }
   ],
   "source": [
    "print(d3['name'])\n",
    "# print(d3['add'])\n",
    "print(d3.get('url'))\n",
    "print(d3.get('add', 'not exist'))"
   ]
  },
  {
   "cell_type": "code",
   "execution_count": 23,
   "id": "e3102e09-7ba2-4286-904e-83635b4d3c84",
   "metadata": {},
   "outputs": [
    {
     "name": "stdout",
     "output_type": "stream",
     "text": [
      "link에 대한 데이터가 없음\n"
     ]
    }
   ],
   "source": [
    "k = 'link'\n",
    "\n",
    "if d3.get(k) is None:\n",
    "    print(k + '에 대한 데이터가 없음')"
   ]
  },
  {
   "cell_type": "code",
   "execution_count": 24,
   "id": "a7295695-2fe6-418e-b506-71e09fde8d99",
   "metadata": {},
   "outputs": [
    {
     "name": "stdout",
     "output_type": "stream",
     "text": [
      "False\n",
      "True\n",
      "True\n"
     ]
    }
   ],
   "source": [
    "# in /  not in\n",
    "print('link' in d3)\n",
    "print('link' not in d3)\n",
    "\n",
    "print('name' in d3)"
   ]
  },
  {
   "cell_type": "code",
   "execution_count": null,
   "id": "53a424a6-ce56-4d0e-a9a0-b5f9bbe46206",
   "metadata": {},
   "outputs": [],
   "source": [
    "# print(dir(d3))\n",
    "# ['__class__', '__class_getitem__', '__contains__', '__delattr__',\n",
    "#  '__delitem__', '__dir__', '__doc__', '__eq__', '__format__', '__ge__',\n",
    "#  '__getattribute__', '__getitem__', '__gt__', '__hash__', '__init__',\n",
    "#  '__init_subclass__', '__ior__', '__iter__', '__le__', '__len__', '__lt__',\n",
    "#  '__ne__', '__new__', '__or__', '__reduce__', '__reduce_ex__', '__repr__',\n",
    "#  '__reversed__', '__ror__', '__setattr__', '__setitem__', '__sizeof__',\n",
    "#  '__str__', '__subclasshook__', 'clear', 'copy', 'fromkeys', 'get',\n",
    "#  'items', 'keys', 'pop', 'popitem', 'setdefault', 'update', 'values']"
   ]
  },
  {
   "cell_type": "code",
   "execution_count": 25,
   "id": "339bb954-d6cb-49d5-9cb6-073fd3e88daf",
   "metadata": {},
   "outputs": [
    {
     "name": "stdout",
     "output_type": "stream",
     "text": [
      "('userid', 'dm')\n",
      "{'name': 'daum', 'url': 'www.daum.net'}\n"
     ]
    }
   ],
   "source": [
    "print(d3.popitem())\n",
    "print(d3)"
   ]
  },
  {
   "cell_type": "code",
   "execution_count": 26,
   "id": "3ee586a4-1f04-415c-82d4-57758850f827",
   "metadata": {},
   "outputs": [
    {
     "name": "stdout",
     "output_type": "stream",
     "text": [
      "[4, 9, 16]\n",
      "{2: 4, 3: 9, 4: 16}\n",
      "name : daum\n",
      "url : www.daum.net\n"
     ]
    }
   ],
   "source": [
    "# zip()\n",
    "# 컴프리헨션\n",
    "y = [x**2 for x in (2,3,4)]\n",
    "print(y)\n",
    "z = {x : x**2 for x in (2,3,4)}\n",
    "print(z)\n",
    "\n",
    "for key, val in d3.items():\n",
    "    print('%s : %s' %(key, val))\n",
    "\n",
    "students = {1 : [80,86,60],\n",
    "            2 : [87,90,30],\n",
    "            3 : []}\n",
    "endDict = {}\n",
    "endDict['dog']='개'\n",
    "endDict['cat']='고양이'"
   ]
  },
  {
   "cell_type": "code",
   "execution_count": null,
   "id": "d08f9107-a402-49c1-b00d-41dfe1b17bdd",
   "metadata": {},
   "outputs": [],
   "source": []
  }
 ],
 "metadata": {
  "kernelspec": {
   "display_name": "python Multi",
   "language": "python",
   "name": "multi"
  },
  "language_info": {
   "codemirror_mode": {
    "name": "ipython",
    "version": 3
   },
   "file_extension": ".py",
   "mimetype": "text/x-python",
   "name": "python",
   "nbconvert_exporter": "python",
   "pygments_lexer": "ipython3",
   "version": "3.7.6"
  }
 },
 "nbformat": 4,
 "nbformat_minor": 5
}
