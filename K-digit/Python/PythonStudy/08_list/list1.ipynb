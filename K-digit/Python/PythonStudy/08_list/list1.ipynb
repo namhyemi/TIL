{
 "cells": [
  {
   "cell_type": "code",
   "execution_count": null,
   "id": "99601f27-adfe-411b-baf3-10f56aeb21ff",
   "metadata": {},
   "outputs": [],
   "source": [
    "# 리스트의 기본 개념"
   ]
  },
  {
   "cell_type": "code",
   "execution_count": 1,
   "id": "2f1dbf51-0c6a-407c-af0f-b8da7fc25188",
   "metadata": {},
   "outputs": [],
   "source": [
    "intL = [1, 3, 2, 10]\n",
    "floatL = [1.5, 3.2, 5.4]\n",
    "nameL =['태조', '정종', '태종', '세종']\n",
    "numL = [1, 3, 4, [1,2]]\n",
    "samL = [1,3,.5, '여름']"
   ]
  },
  {
   "cell_type": "code",
   "execution_count": 5,
   "id": "7bae561d-bf1d-4505-b9ac-7198681a9f90",
   "metadata": {},
   "outputs": [
    {
     "name": "stdout",
     "output_type": "stream",
     "text": [
      "[1, 3, 2, 10]\n",
      "[1, 3, 4, [1, 2]]\n",
      "[1, 3, 0.5, '여름']\n",
      "<class 'list'>\n"
     ]
    }
   ],
   "source": [
    "print(intL)\n",
    "print(numL)\n",
    "print(samL)\n",
    "print(type(intL))"
   ]
  },
  {
   "cell_type": "code",
   "execution_count": 7,
   "id": "43d1446d-b54a-477a-81d1-93295e9049cf",
   "metadata": {},
   "outputs": [
    {
     "name": "stdout",
     "output_type": "stream",
     "text": [
      "1\n",
      "3\n",
      "4\n",
      "[1, 2]\n"
     ]
    }
   ],
   "source": [
    "for x in numL:\n",
    "    print(x)"
   ]
  },
  {
   "cell_type": "code",
   "execution_count": 8,
   "id": "973fbe03-74d3-47b9-a61e-767b4a59dc8b",
   "metadata": {},
   "outputs": [
    {
     "name": "stdout",
     "output_type": "stream",
     "text": [
      "1\n",
      "3\n",
      "4\n",
      "[1, 2]\n"
     ]
    }
   ],
   "source": [
    "for i in range(len(numL)):\n",
    "    print(numL[i])"
   ]
  },
  {
   "cell_type": "code",
   "execution_count": 9,
   "id": "4b15c8cd-80cb-4988-8051-97c2eafdd74e",
   "metadata": {},
   "outputs": [
    {
     "name": "stdout",
     "output_type": "stream",
     "text": [
      "1.5\n",
      "3.2\n",
      "5.4\n"
     ]
    }
   ],
   "source": [
    "a, b, c = floatL\n",
    "print(a)\n",
    "print(b)\n",
    "print(c)"
   ]
  },
  {
   "cell_type": "code",
   "execution_count": 10,
   "id": "f6ba2d72-174d-441d-98b2-149feb0c6eab",
   "metadata": {},
   "outputs": [
    {
     "name": "stdout",
     "output_type": "stream",
     "text": [
      "30\n",
      "50\n",
      "20\n",
      "70\n",
      "40\n",
      "총점 : 210, 평균 : 42.000000\n"
     ]
    }
   ],
   "source": [
    "data = \"{a1:30 } ,{a2: 50},{ a3 :20},{a4:70},{a5:40}\"\n",
    "split_data = data.split(',')\n",
    "\n",
    "n = total =0\n",
    "\n",
    "for d in split_data:\n",
    "    id, score = d.split(':')    # d={a1:30}   => ['{a1' , '30}']\n",
    "    score = int(score.split('}')[0])  # '30}'  => ['30'] => 30\n",
    "    #score = int(item2[0])\n",
    "    #score = int(item[1].split('}')[0])\n",
    "    print(score)\n",
    "    total += score\n",
    "    n += 1\n",
    "\n",
    "print('총점 : %d, 평균 : %f' % (total, total/n))"
   ]
  },
  {
   "cell_type": "code",
   "execution_count": 11,
   "id": "7ee4a5a2-2fd9-4ab6-8913-a570b6277fb4",
   "metadata": {},
   "outputs": [],
   "source": [
    "# 인덱싱(indexing) & 슬라이싱(slicing)"
   ]
  },
  {
   "cell_type": "code",
   "execution_count": 14,
   "id": "06734899-af0d-4db8-b0d6-99f1f47f6c80",
   "metadata": {},
   "outputs": [
    {
     "name": "stdout",
     "output_type": "stream",
     "text": [
      "세종\n",
      "['태조', '정종', '태종', '세종']\n",
      "['정종', '태종']\n",
      "세\n"
     ]
    }
   ],
   "source": [
    "# nameL =['태조', '정종', '태종', '세종']\n",
    "print(nameL[-1])\n",
    "print(nameL[:])\n",
    "print(nameL[1:3])\n",
    "print(nameL[-1][0])"
   ]
  },
  {
   "cell_type": "code",
   "execution_count": 17,
   "id": "f6d240b9-819e-4a84-a29e-f3a38dfc49eb",
   "metadata": {},
   "outputs": [
    {
     "name": "stdout",
     "output_type": "stream",
     "text": [
      "['태조', '정종', '태종']\n",
      "['세종']\n",
      "세종\n",
      "['태조', '정종', '태종', '세종']\n"
     ]
    }
   ],
   "source": [
    "print(nameL[:-1])\n",
    "print(nameL[-1:])\n",
    "print(nameL[-1])\n",
    "n = len(nameL)\n",
    "print(nameL[:n])"
   ]
  },
  {
   "cell_type": "code",
   "execution_count": 15,
   "id": "7f074380-d888-4c8d-9efd-0f10e6fe9d26",
   "metadata": {},
   "outputs": [
    {
     "name": "stdout",
     "output_type": "stream",
     "text": [
      "[[1, 3, 2, 10], [1.5, 3.2, 5.4], ['태조', '정종', '태종', '세종'], [1, 3, 4, [1, 2]]]\n",
      "1\n"
     ]
    }
   ],
   "source": [
    "allL = []   # 빈 리스트 생성\n",
    "allL = list()\n",
    "\n",
    "allL = [intL, floatL, nameL, numL]\n",
    "print(allL)\n",
    "print(allL[-1][-1][0])"
   ]
  },
  {
   "cell_type": "code",
   "execution_count": 18,
   "id": "a6d185aa-0937-4b9a-a8d7-15d4ce40c6e8",
   "metadata": {},
   "outputs": [
    {
     "name": "stdout",
     "output_type": "stream",
     "text": [
      "[1, 3, 4, [1, 2], 1, 3, 0.5, '여름']\n",
      "[1, 3, 4, [1, 2], 1, 3, 4, [1, 2], 1, 3, 4, [1, 2]]\n"
     ]
    }
   ],
   "source": [
    "# 리스트의  +, * 연산\n",
    "sumL = numL + samL\n",
    "print(sumL)\n",
    "print(numL*3)"
   ]
  },
  {
   "cell_type": "code",
   "execution_count": 19,
   "id": "790f43e7-f852-4f42-b8d2-c1676b2163ee",
   "metadata": {},
   "outputs": [
    {
     "name": "stdout",
     "output_type": "stream",
     "text": [
      "[1, 3, 4, [1, 2]]\n",
      "[1, 3, 4, 10]\n",
      "[1, 3]\n"
     ]
    }
   ],
   "source": [
    "# 리스트의 내용 변경\n",
    "print(numL)\n",
    "numL[3] = 10\n",
    "print(numL)\n",
    "numL[2:4] = []\n",
    "print(numL)"
   ]
  }
 ],
 "metadata": {
  "kernelspec": {
   "display_name": "python Multi",
   "language": "python",
   "name": "multi"
  },
  "language_info": {
   "codemirror_mode": {
    "name": "ipython",
    "version": 3
   },
   "file_extension": ".py",
   "mimetype": "text/x-python",
   "name": "python",
   "nbconvert_exporter": "python",
   "pygments_lexer": "ipython3",
   "version": "3.7.6"
  }
 },
 "nbformat": 4,
 "nbformat_minor": 5
}
