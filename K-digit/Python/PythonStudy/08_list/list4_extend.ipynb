{
 "cells": [
  {
   "cell_type": "code",
   "execution_count": 1,
   "id": "16c786f9-7b9e-4d40-b5f5-56bdee3e3d4c",
   "metadata": {},
   "outputs": [],
   "source": [
    "# extend() : append()  insert()"
   ]
  },
  {
   "cell_type": "code",
   "execution_count": 8,
   "id": "7bf52b2c-830e-40c1-bbc9-7ebae9888355",
   "metadata": {},
   "outputs": [
    {
     "name": "stdout",
     "output_type": "stream",
     "text": [
      "[3, 6, 0, -4, 1, [40, 30, 20, 50]]\n"
     ]
    }
   ],
   "source": [
    "a = [3, 6, 0, -4, 1]\n",
    "b = [40, 30, 20, 50]\n",
    "a.append(b) # 요소 하나만 가능\n",
    "print(a)"
   ]
  },
  {
   "cell_type": "code",
   "execution_count": 10,
   "id": "128bedd9-a488-4140-b651-33fdb1eddf17",
   "metadata": {},
   "outputs": [
    {
     "name": "stdout",
     "output_type": "stream",
     "text": [
      "[3, 6, [40, 30, 20, 50], 0, -4, 1]\n"
     ]
    }
   ],
   "source": [
    "a = [3, 6, 0, -4, 1]\n",
    "b = [40, 30, 20, 50]\n",
    "a.insert(2, b)\n",
    "print(a)"
   ]
  },
  {
   "cell_type": "code",
   "execution_count": 11,
   "id": "8cdc92b7-4fc2-4f4e-8689-ffd7c8b7a1a9",
   "metadata": {},
   "outputs": [
    {
     "name": "stdout",
     "output_type": "stream",
     "text": [
      "[3, 6, 0, -4, 1, 40, 30, 20, 50]\n"
     ]
    }
   ],
   "source": [
    "a = [3, 6, 0, -4, 1]\n",
    "b = [40, 30, 20, 50]\n",
    "a.extend(b) # 여러 요소 가능\n",
    "print(a)"
   ]
  },
  {
   "cell_type": "code",
   "execution_count": null,
   "id": "e2f212ba-016f-47a7-9081-fa4014fe745e",
   "metadata": {},
   "outputs": [],
   "source": []
  }
 ],
 "metadata": {
  "kernelspec": {
   "display_name": "python Multi",
   "language": "python",
   "name": "multi"
  },
  "language_info": {
   "codemirror_mode": {
    "name": "ipython",
    "version": 3
   },
   "file_extension": ".py",
   "mimetype": "text/x-python",
   "name": "python",
   "nbconvert_exporter": "python",
   "pygments_lexer": "ipython3",
   "version": "3.7.6"
  }
 },
 "nbformat": 4,
 "nbformat_minor": 5
}
