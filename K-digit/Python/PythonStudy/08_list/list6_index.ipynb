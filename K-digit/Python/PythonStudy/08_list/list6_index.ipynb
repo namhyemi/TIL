{
 "cells": [
  {
   "cell_type": "code",
   "execution_count": 1,
   "id": "c48fa7af-339d-4cc3-8132-f031483e983b",
   "metadata": {},
   "outputs": [],
   "source": [
    "# index()메소드"
   ]
  },
  {
   "cell_type": "code",
   "execution_count": 3,
   "id": "79e7056c-4eb9-47ab-ac0d-9f0ca021ebe5",
   "metadata": {},
   "outputs": [
    {
     "name": "stdout",
     "output_type": "stream",
     "text": [
      "3\n"
     ]
    }
   ],
   "source": [
    "a = [3, 6, 0, -4, 1]\n",
    "b = a.index(-4)\n",
    "print(b)"
   ]
  },
  {
   "cell_type": "code",
   "execution_count": 4,
   "id": "acb99865-eed9-4129-bef1-b7205bf7124c",
   "metadata": {},
   "outputs": [],
   "source": [
    "# in / not in"
   ]
  },
  {
   "cell_type": "code",
   "execution_count": 5,
   "id": "4f4f1780-22ab-4a65-bbef-a4670590e671",
   "metadata": {},
   "outputs": [
    {
     "name": "stdout",
     "output_type": "stream",
     "text": [
      "Not Exist\n"
     ]
    }
   ],
   "source": [
    "if 2 not in a:\n",
    "    print('Not Exist')\n",
    "else:\n",
    "    print('Exist!')"
   ]
  },
  {
   "cell_type": "code",
   "execution_count": null,
   "id": "41180490-1c68-4480-9225-97d24e66a4ec",
   "metadata": {},
   "outputs": [],
   "source": []
  }
 ],
 "metadata": {
  "kernelspec": {
   "display_name": "python Multi",
   "language": "python",
   "name": "multi"
  },
  "language_info": {
   "codemirror_mode": {
    "name": "ipython",
    "version": 3
   },
   "file_extension": ".py",
   "mimetype": "text/x-python",
   "name": "python",
   "nbconvert_exporter": "python",
   "pygments_lexer": "ipython3",
   "version": "3.7.6"
  }
 },
 "nbformat": 4,
 "nbformat_minor": 5
}
