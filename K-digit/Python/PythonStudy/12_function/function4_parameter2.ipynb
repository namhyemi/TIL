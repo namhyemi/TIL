{
 "cells": [
  {
   "cell_type": "code",
   "execution_count": null,
   "id": "f6b4dc86-3eae-49d3-b179-1d5d3914ceaa",
   "metadata": {},
   "outputs": [],
   "source": [
    "# 함수의 매개변수 형식\n",
    "# 매개변수에 기본값 지정 : default argument"
   ]
  },
  {
   "cell_type": "code",
   "execution_count": 7,
   "id": "c3fabc7f-f99a-455d-ae3f-5a96016c4ae5",
   "metadata": {},
   "outputs": [
    {
     "name": "stdout",
     "output_type": "stream",
     "text": [
      "Hello\n",
      "Hi\n",
      "Hi!\n",
      "Kim Hi\n",
      "Kim Hello!\n",
      "홍길동 10 F\n",
      "강감찬 40 F\n",
      "변학도 40 M\n"
     ]
    }
   ],
   "source": [
    "def showMessage(message='Hi!'):\n",
    "    print(message)\n",
    "\n",
    "def showMessage2(name, message='Hello!'):\n",
    "    print(name, message)\n",
    "\n",
    "# defualt argument는 맨 뒤에\n",
    "# def showMessage2(message='Hello!', name):\n",
    "#     print(name, message)\n",
    "\n",
    "def showInfo(name, age=10, sex='F'):\n",
    "    print(name, age, sex)\n",
    "    \n",
    "showMessage('Hello')\n",
    "showMessage('Hi')\n",
    "showMessage()\n",
    "showMessage2('Kim', 'Hi')\n",
    "showMessage2('Kim')\n",
    "\n",
    "showInfo('홍길동')\n",
    "showInfo('강감찬', 40)\n",
    "showInfo('변학도', 40, 'M')"
   ]
  },
  {
   "cell_type": "code",
   "execution_count": 8,
   "id": "a013234e-7f65-4d0e-900c-491b1b75efc6",
   "metadata": {},
   "outputs": [
    {
     "name": "stdout",
     "output_type": "stream",
     "text": [
      "Hong Park Chio Lee "
     ]
    }
   ],
   "source": [
    "# 함수의 실인수로 리스트가 전달\n",
    "def showNames(names):\n",
    "    for name in names:\n",
    "        print(name, end=' ')\n",
    "\n",
    "names = ['Hong', 'Park', 'Chio','Lee']\n",
    "showNames(names)"
   ]
  },
  {
   "cell_type": "code",
   "execution_count": 10,
   "id": "743a1014-1e6a-4b9b-bc2d-1addd83ac459",
   "metadata": {},
   "outputs": [
    {
     "name": "stdout",
     "output_type": "stream",
     "text": [
      "{'name': 'Kim', 'age': 19, 'phone': '010-1111-1023'}\n",
      "이름 :  Kim\n",
      "나이 :  19\n",
      "연락처 :  010-1111-1023\n"
     ]
    }
   ],
   "source": [
    "# 함수의 실인수로 딕셔너리가 전달\n",
    "def showInfoStd(student):\n",
    "    print(student)\n",
    "    print('이름 : ', student['name'])\n",
    "    print('나이 : ', student['age'])\n",
    "    print('연락처 : ', student.get('phone'))\n",
    "\n",
    "info_std = {'name':'Kim', 'age':19, 'phone':'010-1111-1023'}\n",
    "showInfoStd(info_std)"
   ]
  },
  {
   "cell_type": "code",
   "execution_count": 14,
   "id": "11702010-bd6d-4e6d-b638-809fcd0a9fa0",
   "metadata": {},
   "outputs": [
    {
     "name": "stdout",
     "output_type": "stream",
     "text": [
      "9\n",
      "7\n",
      "18\n"
     ]
    }
   ],
   "source": [
    "# 가변길이 매개변수\n",
    "#  *args : arguments 1개이상 지정\n",
    "#  **kwargs : keyword arguments key=value\n",
    "\n",
    "def mySum(*args):\n",
    "    total = 0\n",
    "    for x in args:\n",
    "        total += x\n",
    "    return total\n",
    "\n",
    "print(mySum(1,3,5))\n",
    "print(mySum(3,4))\n",
    "print(mySum(1,2,4,5,6))\n",
    "#print(mySum([1,2,4,5,6])) #에러"
   ]
  },
  {
   "cell_type": "code",
   "execution_count": 16,
   "id": "72dfa3b4-db9f-4714-b897-ec762f203c33",
   "metadata": {},
   "outputs": [
    {
     "name": "stdout",
     "output_type": "stream",
     "text": [
      "id name add \n",
      "123 Kim Seoul \n",
      "('id', 123)\n",
      "('name', 'Kim')\n",
      "('add', 'Seoul')\n"
     ]
    }
   ],
   "source": [
    "def myShowInfo(**kwargs):\n",
    "    for key in kwargs.keys():\n",
    "        print(key, end=' ')\n",
    "    print()\n",
    "    for value in kwargs.values():\n",
    "        print(value, end=' ')\n",
    "    print()\n",
    "    for item in kwargs.items():\n",
    "        print(item)\n",
    "\n",
    "myShowInfo(id=123, name='Kim', add='Seoul')\n",
    "# myShowInfo(id=333, name='Lee')\n",
    "# myShowInfo(id=121, name='Hong', add='Daegu', phone='111-1111')"
   ]
  },
  {
   "cell_type": "code",
   "execution_count": null,
   "id": "fdce8c15-b5a3-497e-b76b-b4b0b570e706",
   "metadata": {},
   "outputs": [],
   "source": [
    "def calculator(operator, *args):\n",
    "    pass"
   ]
  },
  {
   "cell_type": "code",
   "execution_count": 18,
   "id": "c5a4b0e6-7923-4cf0-afc6-246d6854bed5",
   "metadata": {},
   "outputs": [
    {
     "name": "stdout",
     "output_type": "stream",
     "text": [
      "{'name': 'Lee', 'age': 30, 'sex': 'F'}\n",
      "{'name': 'Kim', 'age': 30, 'sex': 'M'}\n",
      "{'name': 'Kim', 'age': 15, 'sex': 'M'}\n",
      "{'name': 'Kim', 'age': 15, 'sex': 'M'}\n"
     ]
    }
   ],
   "source": [
    "def studentInfo(name, age=4, sex='M'):\n",
    "    student = {'name':name,\n",
    "               'age':age,\n",
    "               'sex':sex\n",
    "               }\n",
    "    return student\n",
    "\n",
    "print(studentInfo('Lee', 30, 'F'))   # 위치인수\n",
    "print(studentInfo(name='Kim', age=30, sex='M'))  #키워드기반 인수\n",
    "print(studentInfo(name='Kim', sex='M', age=15))\n",
    "\n",
    "print(studentInfo('Kim', sex='M', age=15))\n",
    "# print(studentInfo(name='hong', 15, 'F'))  # 오류\n",
    "# 위치인수와 키워드인수를 혼용할때는 키워드인수는 위치인수 뒤쪽으로"
   ]
  },
  {
   "cell_type": "code",
   "execution_count": null,
   "id": "216656f3-79e9-45e9-9b58-afe72176f898",
   "metadata": {},
   "outputs": [],
   "source": []
  }
 ],
 "metadata": {
  "kernelspec": {
   "display_name": "python Multi",
   "language": "python",
   "name": "multi"
  },
  "language_info": {
   "codemirror_mode": {
    "name": "ipython",
    "version": 3
   },
   "file_extension": ".py",
   "mimetype": "text/x-python",
   "name": "python",
   "nbconvert_exporter": "python",
   "pygments_lexer": "ipython3",
   "version": "3.7.6"
  }
 },
 "nbformat": 4,
 "nbformat_minor": 5
}
