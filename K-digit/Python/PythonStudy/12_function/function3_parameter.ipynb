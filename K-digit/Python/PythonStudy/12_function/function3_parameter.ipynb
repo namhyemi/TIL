{
 "cells": [
  {
   "cell_type": "code",
   "execution_count": null,
   "id": "86b05edb-c35a-4649-8fa0-d5314d991d53",
   "metadata": {},
   "outputs": [],
   "source": [
    "# 함수의 매개변수(parameter)\n",
    "# 함수에 전달(입력)되는 값 (함수 정의할 때)"
   ]
  },
  {
   "cell_type": "code",
   "execution_count": null,
   "id": "6125f0aa-c14d-4d25-ba0e-4f5236989bdd",
   "metadata": {},
   "outputs": [],
   "source": [
    "# 인수(argument) : 함수에 실제로 전달되는 값"
   ]
  },
  {
   "cell_type": "code",
   "execution_count": 1,
   "id": "1e4bd0ca-f7ec-4646-ad2a-e73e12fb3a03",
   "metadata": {},
   "outputs": [
    {
     "name": "stdout",
     "output_type": "stream",
     "text": [
      "이름은 홍길동이고 나이는 18에요\n"
     ]
    }
   ],
   "source": [
    "def showInfo(name, age):\n",
    "    print('이름은 %s이고 나이는 %d에요' %(name, age))\n",
    "\n",
    "showInfo('홍길동', 18)"
   ]
  },
  {
   "cell_type": "code",
   "execution_count": 2,
   "id": "55a4f97e-3cf6-41ec-bbc3-72662e9845d2",
   "metadata": {},
   "outputs": [
    {
     "name": "stdin",
     "output_type": "stream",
     "text": [
      "밑변: 10\n",
      "높이:  5\n"
     ]
    },
    {
     "name": "stdout",
     "output_type": "stream",
     "text": [
      "25.0\n"
     ]
    }
   ],
   "source": [
    "def getArea(width, height):\n",
    "    return width*height*0.5\n",
    "\n",
    "w = int(input('밑변:'))\n",
    "h = int(input('높이: '))\n",
    "print(getArea(w, h))"
   ]
  },
  {
   "cell_type": "code",
   "execution_count": null,
   "id": "836705b0-52a8-4f9f-a75e-36695c217dae",
   "metadata": {},
   "outputs": [],
   "source": [
    "# 사칙연산을 수행하는 함수들을 정의하여 호출\n",
    "# add(x, y)\n",
    "# sub(x, y)\n",
    "# mul(x, y)\n",
    "# div(x, y)"
   ]
  },
  {
   "cell_type": "code",
   "execution_count": null,
   "id": "06e6f521-ee1b-4300-9c64-0a50915b304e",
   "metadata": {},
   "outputs": [],
   "source": [
    "# 2개의 숫자를 키보드로 입력받고, 각 함수에 전달하여\n",
    "# 계산 결과를 아래와 같이 출력하는 코드 완성\n",
    "# 10 + 5 = 15\n",
    "# 10 - 5 = 5\n",
    "# 10 * 5 = 50\n",
    "# 10 / 5 = 2.0"
   ]
  },
  {
   "cell_type": "code",
   "execution_count": 3,
   "id": "782dcc65-b37b-4205-81f8-846539fea72a",
   "metadata": {},
   "outputs": [
    {
     "name": "stdin",
     "output_type": "stream",
     "text": [
      "숫자1 입력 :  5\n",
      "숫자2 입력 :  2\n"
     ]
    },
    {
     "name": "stdout",
     "output_type": "stream",
     "text": [
      "5 + 2 = 7\n",
      "5 - 2 = 3\n",
      "5 * 2 = 10\n",
      "5 / 2 = 2.5\n"
     ]
    }
   ],
   "source": [
    "def add(x,y):\n",
    "    return x + y\n",
    "def sub(x,y):\n",
    "    return x - y\n",
    "def mul(x,y):\n",
    "    return x * y\n",
    "def div(x,y):\n",
    "    return x / y\n",
    "\n",
    "x = int(input('숫자1 입력 : '))\n",
    "y = int(input('숫자2 입력 : '))\n",
    "\n",
    "print('%d + %d = %d' %(x, y, add(x,y)))\n",
    "print('%d - %d = %d' %(x, y, sub(x,y)))\n",
    "print('%d * %d = %d' %(x, y, mul(x,y)))\n",
    "print('%d / %d = %.1f' %(x, y, div(x,y)))"
   ]
  },
  {
   "cell_type": "code",
   "execution_count": 4,
   "id": "8abf8560-ed29-4da6-9deb-a7b92747ffa6",
   "metadata": {},
   "outputs": [
    {
     "name": "stdin",
     "output_type": "stream",
     "text": [
      "상품가격 :  50000\n",
      "주문수량 :  10\n"
     ]
    },
    {
     "name": "stdout",
     "output_type": "stream",
     "text": [
      "상품가격 :  50000 원\n",
      "주문수량 :  10 개\n",
      "====================\n",
      "주문액 :  500000 원\n",
      "할인액 :  50000.0 원\n",
      "지불액 :  450000 원\n"
     ]
    },
    {
     "data": {
      "text/plain": [
       "(50000, 10, 500000, 50000.0, 450000)"
      ]
     },
     "execution_count": 4,
     "metadata": {},
     "output_type": "execute_result"
    }
   ],
   "source": [
    "def order():\n",
    "    price = int(input('상품가격 : '))\n",
    "    qty = int(input('주문수량 : '))\n",
    "    amount = int(price * qty)\n",
    "    if amount >= 100000:\n",
    "        discount = amount*0.1\n",
    "    elif amount >= 50000:\n",
    "        discount = amount*0.05\n",
    "    else:\n",
    "        discount = amount\n",
    "    total = int(amount-discount)\n",
    "\n",
    "\n",
    "\n",
    "    print('상품가격 : ',price,'원')\n",
    "    print('주문수량 : ',qty,'개')\n",
    "    print('='*20)\n",
    "    print('주문액 : ',amount,'원')\n",
    "    print('할인액 : ',discount,'원')\n",
    "    print('지불액 : ',total,'원')\n",
    "\n",
    "    return price,qty,amount,discount,total\n",
    "\n",
    "order()"
   ]
  },
  {
   "cell_type": "code",
   "execution_count": null,
   "id": "1cf01d91-4202-4254-9c23-beaabbf8eaa0",
   "metadata": {},
   "outputs": [],
   "source": [
    "# def order():\n",
    "#     price = int(input('상품가격 : '))\n",
    "#     qty = int(input('주문수량 : '))\n",
    "#     amount = int(price * qty)\n",
    "#     if amount >= 100000:\n",
    "#         discount = amount*0.1\n",
    "#     elif amount >= 50000:\n",
    "#         discount = amount*0.05\n",
    "#     else:\n",
    "#         discount = amount\n",
    "#     total = int(amount-discount)\n",
    "#\n",
    "#     return price,qty,amount,discount,total"
   ]
  },
  {
   "cell_type": "code",
   "execution_count": null,
   "id": "cb34a12c-c722-49d2-b9c2-636824013df1",
   "metadata": {},
   "outputs": [],
   "source": [
    "# def order(price, qty):\n",
    "#     amount = price * qty\n",
    "#     if amount >= 100000:\n",
    "#         discount = amount*0.1\n",
    "#     elif amount >= 50000:\n",
    "#         discount = amount*0.05\n",
    "#     else:\n",
    "#         discount = amount\n",
    "#     total = int(amount-discount)\n",
    "#\n",
    "#     return price,qty,amount,discount,total"
   ]
  },
  {
   "cell_type": "code",
   "execution_count": 5,
   "id": "81d336d9-47de-4961-a10d-94fbdfa3ef24",
   "metadata": {},
   "outputs": [
    {
     "name": "stdin",
     "output_type": "stream",
     "text": [
      "상품가격 :  650000\n",
      "주문수량 :  10\n"
     ]
    },
    {
     "name": "stdout",
     "output_type": "stream",
     "text": [
      "====================\n",
      "{'price': 650000, 'qty': 10, 'amount': 6500000, 'discount': 650000.0, 'total': 5850000}\n",
      "price : 650000\n",
      "qty : 10\n",
      "amount : 6500000\n",
      "discount : 650000.0\n",
      "total : 5850000\n"
     ]
    }
   ],
   "source": [
    "#딕셔너리 값으로 반환\n",
    "def order(price, qty):\n",
    "    amount = price * qty\n",
    "    if amount >= 100000:\n",
    "        discount = amount*0.1\n",
    "    elif amount >= 50000:\n",
    "        discount = amount*0.05\n",
    "    else:\n",
    "        discount = amount\n",
    "    total = int(amount-discount)\n",
    "    info = {'price':price,\n",
    "            'qty':qty,\n",
    "            'amount': amount,\n",
    "            'discount': discount,\n",
    "            'total': total}\n",
    "    return info\n",
    "\n",
    "price = int(input('상품가격 : '))\n",
    "qty = int(input('주문수량 : '))\n",
    "order = order(price, qty)\n",
    "#print('상품가격 : %s',order[0],'원')\n",
    "#print('주문수량 : ',order[1],'개')\n",
    "print('='*20)\n",
    "print(order)\n",
    "for key in order.keys():\n",
    "    print(key, ':', order[key])"
   ]
  },
  {
   "cell_type": "code",
   "execution_count": null,
   "id": "9f210b36-4004-4b53-b829-80c22f5af214",
   "metadata": {},
   "outputs": [],
   "source": []
  }
 ],
 "metadata": {
  "kernelspec": {
   "display_name": "python Multi",
   "language": "python",
   "name": "multi"
  },
  "language_info": {
   "codemirror_mode": {
    "name": "ipython",
    "version": 3
   },
   "file_extension": ".py",
   "mimetype": "text/x-python",
   "name": "python",
   "nbconvert_exporter": "python",
   "pygments_lexer": "ipython3",
   "version": "3.7.6"
  }
 },
 "nbformat": 4,
 "nbformat_minor": 5
}
