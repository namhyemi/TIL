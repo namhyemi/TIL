{
 "cells": [
  {
   "cell_type": "code",
   "execution_count": null,
   "id": "b7b7bd44-f8ce-49fa-9c30-e881fae7b46e",
   "metadata": {},
   "outputs": [],
   "source": [
    "# 실습문제\n",
    "\n",
    "#1.\n",
    "def print_coin(text):\n",
    "    print(text)\n",
    "\n",
    "def coin():\n",
    "    coin = \"비트코인\"\n",
    "    return coin\n",
    "\n",
    "# #2 1번에서 정의한 함수를 호출하시오.\n",
    "# print(coin())\n",
    "# print_coin('비트코인')\n",
    "#\n",
    "# def print_coins():\n",
    "#     for _ in range(100):\n",
    "#         print(\"비트코인\")\n",
    "#\n",
    "# for i in range(100):\n",
    "#     print_coin('비트코인')"
   ]
  },
  {
   "cell_type": "code",
   "execution_count": 1,
   "id": "7eb28b39-b1ca-49e2-ac0e-b3d8a287ca89",
   "metadata": {},
   "outputs": [
    {
     "name": "stdin",
     "output_type": "stream",
     "text": [
      "숫자 1 :  2\n",
      "숫자 2 :  3\n"
     ]
    },
    {
     "name": "stdout",
     "output_type": "stream",
     "text": [
      "6\n"
     ]
    }
   ],
   "source": [
    "# 11.\n",
    "def a(x,y):\n",
    "    return x * y\n",
    "\n",
    "x = int(input('숫자 1 : '))\n",
    "y = int(input('숫자 2 : '))\n",
    "\n",
    "print(a(x,y))"
   ]
  },
  {
   "cell_type": "code",
   "execution_count": 3,
   "id": "c4305201-9b86-4025-b8cb-93c375ffc391",
   "metadata": {},
   "outputs": [
    {
     "name": "stdin",
     "output_type": "stream",
     "text": [
      "소문자 문자열 입력 :  ticker\n"
     ]
    },
    {
     "name": "stdout",
     "output_type": "stream",
     "text": [
      "TICKER\n"
     ]
    }
   ],
   "source": [
    "# # 12.\n",
    "def transCapital():\n",
    "    ticker = input('소문자 문자열 입력 : ')\n",
    "    return ticker.upper()\n",
    "\n",
    "print(transCapital())\n",
    "\n",
    "# def upp(a):\n",
    "#     res = a.upper()\n",
    "#     return res\n",
    "# res = upp(input(\"ticker 입력\"))\n",
    "# print(res)"
   ]
  },
  {
   "cell_type": "code",
   "execution_count": 7,
   "id": "aaf583cf-4e7d-460e-b9e5-0db84bdd100c",
   "metadata": {},
   "outputs": [
    {
     "name": "stdin",
     "output_type": "stream",
     "text": [
      "숫자를 입력하세요.(엔터키 누르면 종료) :  1\n",
      "숫자를 입력하세요.(엔터키 누르면 종료) :  2\n",
      "숫자를 입력하세요.(엔터키 누르면 종료) :  3\n",
      "숫자를 입력하세요.(엔터키 누르면 종료) :  4\n",
      "숫자를 입력하세요.(엔터키 누르면 종료) :  \n"
     ]
    },
    {
     "name": "stdout",
     "output_type": "stream",
     "text": [
      "[2, 4]\n"
     ]
    }
   ],
   "source": [
    "#13.\n",
    "\n",
    "# def sootja():\n",
    "#     e=[]\n",
    "#     while 1:\n",
    "#         n= int(input('숫자를 입력하세요.(엔터키 누르면 종료) : '))\n",
    "#         if n=='':   #엔터키 누르면 종료하게 하는것\n",
    "#            break\n",
    "#         else:\n",
    "#            e.append(n)\n",
    "#     return e\n",
    "\n",
    "def num():\n",
    "    numberL=[]\n",
    "    while 1:\n",
    "        n= input('숫자를 입력하세요.(엔터키 누르면 종료) : ')\n",
    "        if n=='':   #엔터키 누르면 종료하게 하는것\n",
    "           break\n",
    "        else:\n",
    "           numberL.append(int(n))\n",
    "    return numberL\n",
    "\n",
    "def pickup_even():\n",
    "    e = num()\n",
    "    f=[]\n",
    "    for i in e:\n",
    "        if i % 2==0 :\n",
    "            f.append(i)\n",
    "        else:\n",
    "            continue\n",
    "    return f\n",
    "\n",
    "print(pickup_even())"
   ]
  },
  {
   "cell_type": "code",
   "execution_count": null,
   "id": "0bb6731e-38f5-4b7d-83f0-cd37afcb84ce",
   "metadata": {},
   "outputs": [],
   "source": []
  }
 ],
 "metadata": {
  "kernelspec": {
   "display_name": "python Multi",
   "language": "python",
   "name": "multi"
  },
  "language_info": {
   "codemirror_mode": {
    "name": "ipython",
    "version": 3
   },
   "file_extension": ".py",
   "mimetype": "text/x-python",
   "name": "python",
   "nbconvert_exporter": "python",
   "pygments_lexer": "ipython3",
   "version": "3.7.6"
  }
 },
 "nbformat": 4,
 "nbformat_minor": 5
}
