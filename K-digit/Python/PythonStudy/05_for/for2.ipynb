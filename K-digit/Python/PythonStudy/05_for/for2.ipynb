{
 "cells": [
  {
   "cell_type": "code",
   "execution_count": 1,
   "id": "e06632e0-28e8-4cdf-bf97-f8f054c2f76c",
   "metadata": {},
   "outputs": [],
   "source": [
    "# 1~10 사이의 수를 더하고 더한 결과 출력"
   ]
  },
  {
   "cell_type": "code",
   "execution_count": 4,
   "id": "58bf5022-9d87-4857-a059-cd4af4b8ee57",
   "metadata": {},
   "outputs": [
    {
     "name": "stdout",
     "output_type": "stream",
     "text": [
      "1~10 사이의 수를 더한 값은 45이다\n"
     ]
    }
   ],
   "source": [
    "total=0\n",
    "for num in range(1,10):\n",
    "    total += num\n",
    "print(\"1~10 사이의 수를 더한 값은 %d이다\" %total)"
   ]
  },
  {
   "cell_type": "code",
   "execution_count": null,
   "id": "76dad0b3-9f15-49a9-8587-51fcf34ccca9",
   "metadata": {},
   "outputs": [],
   "source": []
  }
 ],
 "metadata": {
  "kernelspec": {
   "display_name": "Python Multi",
   "language": "python",
   "name": "multi"
  },
  "language_info": {
   "codemirror_mode": {
    "name": "ipython",
    "version": 3
   },
   "file_extension": ".py",
   "mimetype": "text/x-python",
   "name": "python",
   "nbconvert_exporter": "python",
   "pygments_lexer": "ipython3",
   "version": "3.7.6"
  }
 },
 "nbformat": 4,
 "nbformat_minor": 5
}
