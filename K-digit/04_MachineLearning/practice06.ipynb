{
 "cells": [
  {
   "cell_type": "markdown",
   "id": "a8b82af7-a332-44f6-b18d-6d75cbcdcb6c",
   "metadata": {},
   "source": [
    "## 사이킷런으로 수행하는 타이타닉 생존자 예측\n",
    "\n",
    "* 캐글에서 제공하는 타이타닉 탑승자 데이터 기반으로\n",
    "* 생존자 예측을 사이킷런으로 수행\n",
    "\n",
    "* 타이타닉 생존자 데이터\n",
    "    - 머신러닝에 입문하는 데이터 분석가/과학자를 위한 기초 예제로 제공\n",
    "    - 많은 캐글 이용자가 자신의 방법으로 타이타닉 생존자 예측을 수행하고\n",
    "    - 수행 방법을 캐글에 공유\n",
    "\n",
    "* 캐글 : 데이터 분석 오픈 포탈\n",
    "    - 세계적인 ML 기반 분석 대회를 온라인 상에서 주관\n",
    "    \n",
    "캐글사이트 : https://www.kaggle.com/c/titanic/data\n",
    "\n",
    "## 변수 별 정보"
   ]
  },
  {
   "cell_type": "code",
   "execution_count": 1,
   "id": "5836d201-0d57-4c90-aade-cc592f541821",
   "metadata": {},
   "outputs": [
    {
     "data": {
      "text/html": [
       "<div>\n",
       "<style scoped>\n",
       "    .dataframe tbody tr th:only-of-type {\n",
       "        vertical-align: middle;\n",
       "    }\n",
       "\n",
       "    .dataframe tbody tr th {\n",
       "        vertical-align: top;\n",
       "    }\n",
       "\n",
       "    .dataframe thead th {\n",
       "        text-align: right;\n",
       "    }\n",
       "</style>\n",
       "<table border=\"1\" class=\"dataframe\">\n",
       "  <thead>\n",
       "    <tr style=\"text-align: right;\">\n",
       "      <th></th>\n",
       "      <th>PassengerId</th>\n",
       "      <th>Survived</th>\n",
       "      <th>Pclass</th>\n",
       "      <th>Name</th>\n",
       "      <th>Sex</th>\n",
       "      <th>Age</th>\n",
       "      <th>SibSp</th>\n",
       "      <th>Parch</th>\n",
       "      <th>Ticket</th>\n",
       "      <th>Fare</th>\n",
       "      <th>Cabin</th>\n",
       "      <th>Embarked</th>\n",
       "    </tr>\n",
       "  </thead>\n",
       "  <tbody>\n",
       "    <tr>\n",
       "      <th>0</th>\n",
       "      <td>1</td>\n",
       "      <td>0</td>\n",
       "      <td>3</td>\n",
       "      <td>Braund, Mr. Owen Harris</td>\n",
       "      <td>male</td>\n",
       "      <td>22.0</td>\n",
       "      <td>1</td>\n",
       "      <td>0</td>\n",
       "      <td>A/5 21171</td>\n",
       "      <td>7.2500</td>\n",
       "      <td>NaN</td>\n",
       "      <td>S</td>\n",
       "    </tr>\n",
       "    <tr>\n",
       "      <th>1</th>\n",
       "      <td>2</td>\n",
       "      <td>1</td>\n",
       "      <td>1</td>\n",
       "      <td>Cumings, Mrs. John Bradley (Florence Briggs Th...</td>\n",
       "      <td>female</td>\n",
       "      <td>38.0</td>\n",
       "      <td>1</td>\n",
       "      <td>0</td>\n",
       "      <td>PC 17599</td>\n",
       "      <td>71.2833</td>\n",
       "      <td>C85</td>\n",
       "      <td>C</td>\n",
       "    </tr>\n",
       "    <tr>\n",
       "      <th>2</th>\n",
       "      <td>3</td>\n",
       "      <td>1</td>\n",
       "      <td>3</td>\n",
       "      <td>Heikkinen, Miss. Laina</td>\n",
       "      <td>female</td>\n",
       "      <td>26.0</td>\n",
       "      <td>0</td>\n",
       "      <td>0</td>\n",
       "      <td>STON/O2. 3101282</td>\n",
       "      <td>7.9250</td>\n",
       "      <td>NaN</td>\n",
       "      <td>S</td>\n",
       "    </tr>\n",
       "  </tbody>\n",
       "</table>\n",
       "</div>"
      ],
      "text/plain": [
       "   PassengerId  Survived  Pclass  \\\n",
       "0            1         0       3   \n",
       "1            2         1       1   \n",
       "2            3         1       3   \n",
       "\n",
       "                                                Name     Sex   Age  SibSp  \\\n",
       "0                            Braund, Mr. Owen Harris    male  22.0      1   \n",
       "1  Cumings, Mrs. John Bradley (Florence Briggs Th...  female  38.0      1   \n",
       "2                             Heikkinen, Miss. Laina  female  26.0      0   \n",
       "\n",
       "   Parch            Ticket     Fare Cabin Embarked  \n",
       "0      0         A/5 21171   7.2500   NaN        S  \n",
       "1      0          PC 17599  71.2833   C85        C  \n",
       "2      0  STON/O2. 3101282   7.9250   NaN        S  "
      ]
     },
     "execution_count": 1,
     "metadata": {},
     "output_type": "execute_result"
    }
   ],
   "source": [
    "import numpy as np\n",
    "import pandas as pd\n",
    "import matplotlib.pyplot as plt\n",
    "import seaborn as sns\n",
    "get_ipython().run_line_magic('matplotlib', 'inline')\n",
    "\n",
    "titanic_df = pd.read_csv('data/titanic_train.csv')\n",
    "titanic_df.head(3)"
   ]
  },
  {
   "cell_type": "markdown",
   "id": "b86db13d-b120-4c62-b253-8f0787221511",
   "metadata": {},
   "source": [
    "* Passengerid: 탑승자 데이터 일련번호\n",
    "* survived: 생존 여부, 0 = 사망, 1 = 생존\n",
    "* Pclass: 티켓의 선실 등급, 1 = 일등석, 2 = 이등석, 3 = 삼등석\n",
    "* sex: 탑승자 성별\n",
    "* name: 탑승자 이름\n",
    "* Age: 탑승자 나이\n",
    "* sibsp: 같이 탑승한 형제자매 또는 배우자 인원수\n",
    "* parch: 같이 탑승한 부모님 또는 어린이 인원수\n",
    "* ticket: 티켓 번호\n",
    "* fare: 요금\n",
    "* cabin: 선실 번호\n",
    "* embarked: 중간 정착 항구 C = Cherbourg, Q = Queenstown, S = Southampton"
   ]
  },
  {
   "cell_type": "code",
   "execution_count": 2,
   "id": "48cc221d-ec13-43ee-a14e-8cdaacd04b0e",
   "metadata": {},
   "outputs": [
    {
     "data": {
      "text/plain": [
       "(891, 12)"
      ]
     },
     "execution_count": 2,
     "metadata": {},
     "output_type": "execute_result"
    }
   ],
   "source": [
    "titanic_df.shape"
   ]
  },
  {
   "cell_type": "code",
   "execution_count": 3,
   "id": "91333a80-aa80-4e2b-b348-7c81ee4a6bb1",
   "metadata": {},
   "outputs": [
    {
     "name": "stdout",
     "output_type": "stream",
     "text": [
      "<class 'pandas.core.frame.DataFrame'>\n",
      "RangeIndex: 891 entries, 0 to 890\n",
      "Data columns (total 12 columns):\n",
      " #   Column       Non-Null Count  Dtype  \n",
      "---  ------       --------------  -----  \n",
      " 0   PassengerId  891 non-null    int64  \n",
      " 1   Survived     891 non-null    int64  \n",
      " 2   Pclass       891 non-null    int64  \n",
      " 3   Name         891 non-null    object \n",
      " 4   Sex          891 non-null    object \n",
      " 5   Age          714 non-null    float64\n",
      " 6   SibSp        891 non-null    int64  \n",
      " 7   Parch        891 non-null    int64  \n",
      " 8   Ticket       891 non-null    object \n",
      " 9   Fare         891 non-null    float64\n",
      " 10  Cabin        204 non-null    object \n",
      " 11  Embarked     889 non-null    object \n",
      "dtypes: float64(2), int64(5), object(5)\n",
      "memory usage: 83.7+ KB\n"
     ]
    }
   ],
   "source": [
    "# 데이터 칼럼 타입 확인\n",
    "titanic_df.info()"
   ]
  },
  {
   "cell_type": "markdown",
   "id": "e8f22691-5fc4-4b67-9413-3c91c94ffd28",
   "metadata": {},
   "source": [
    "데이터 정보 확인\n",
    "- RangeIndex: 891 entries, 0 to 890 : 전체 행 (891개 행)\n",
    "- Data columns (total 12 columns): 칼럼 수 (12개)\n",
    "- float64 : 2개\n",
    "- int64 : 5개\n",
    "- object(string) : 5개\n",
    " - (판다스는 넘파이 기반으로 만들어졌는데\n",
    " - 넘파이의 String 타입의 길이 제한이 있기 때문에 \n",
    " - 이에 대한 구분을 위해 object 타입으로 명기)\n",
    "- Age : 714개 (Null값(NaN): 177개)\n",
    "- Cabin : 204개 (Null값(NaN): 687개)\n",
    "- Embarked : 889개 (Null값(NaN): 2개)\n",
    "\n",
    "## 결측치 파악"
   ]
  },
  {
   "cell_type": "code",
   "execution_count": 5,
   "id": "d74f1f83-7314-460f-8914-4e425fc3bc91",
   "metadata": {},
   "outputs": [
    {
     "data": {
      "text/plain": [
       "177"
      ]
     },
     "execution_count": 5,
     "metadata": {},
     "output_type": "execute_result"
    }
   ],
   "source": [
    "# Null 값 개수 확인\n",
    "titanic_df['Age'].isnull().sum()"
   ]
  },
  {
   "cell_type": "code",
   "execution_count": 6,
   "id": "dea6c6bd-0970-4c20-bfe8-bbcb8af3ddf4",
   "metadata": {},
   "outputs": [
    {
     "data": {
      "text/plain": [
       "687"
      ]
     },
     "execution_count": 6,
     "metadata": {},
     "output_type": "execute_result"
    }
   ],
   "source": [
    "titanic_df['Cabin'].isnull().sum()"
   ]
  },
  {
   "cell_type": "code",
   "execution_count": 7,
   "id": "7c4c3e01-adca-4be9-8e8b-9d84c6654a87",
   "metadata": {},
   "outputs": [
    {
     "data": {
      "text/plain": [
       "2"
      ]
     },
     "execution_count": 7,
     "metadata": {},
     "output_type": "execute_result"
    }
   ],
   "source": [
    "titanic_df['Embarked'].isnull().sum()"
   ]
  },
  {
   "cell_type": "markdown",
   "id": "a1529874-0962-40cf-9314-119727444cdd",
   "metadata": {},
   "source": [
    "##  데이터 전처리 : 결측치 처리\n",
    "\n",
    "### NULL 컬럼들에 대한 처리\n",
    "\n",
    "- 사이킷 머신러닝 알고리즘은 Null 값을 허용하지 않으므로\n",
    "- Null 값을 어떻게 처리할지 결정\n",
    "- DataFrame()의 fillna() 메서드를 사용해서 \n",
    "- Null 값을 평균 또는 고정 값으로 변경\n",
    "- Age : 평균 나이로 변경\n",
    "- 나머지 칼럼 : 'N'으로 변경"
   ]
  },
  {
   "cell_type": "code",
   "execution_count": 9,
   "id": "601715dd-dc89-4153-8030-82f3e70654f5",
   "metadata": {},
   "outputs": [],
   "source": [
    "# Null 처리\n",
    "\n",
    "titanic_df['Age'].fillna(titanic_df['Age'].mean, inplace=True)\n",
    "titanic_df['Cabin'].fillna(\"N\", inplace=True)\n",
    "titanic_df['Embarked'].fillna(\"N\", inplace=True)"
   ]
  },
  {
   "cell_type": "code",
   "execution_count": 10,
   "id": "a6b6a5b4-7b1a-45de-aca5-c5ccf3eb4f5c",
   "metadata": {},
   "outputs": [
    {
     "data": {
      "text/plain": [
       "PassengerId    0\n",
       "Survived       0\n",
       "Pclass         0\n",
       "Name           0\n",
       "Sex            0\n",
       "Age            0\n",
       "SibSp          0\n",
       "Parch          0\n",
       "Ticket         0\n",
       "Fare           0\n",
       "Cabin          0\n",
       "Embarked       0\n",
       "dtype: int64"
      ]
     },
     "execution_count": 10,
     "metadata": {},
     "output_type": "execute_result"
    }
   ],
   "source": [
    "# 모든 칼럼의 Null 값을 합산해서 Null 값이 없는지 확인\n",
    "titanic_df.isnull().sum()"
   ]
  },
  {
   "cell_type": "markdown",
   "id": "a30bcaed-c581-471b-8c1d-4b028367f42d",
   "metadata": {},
   "source": [
    "### 문자열 변수(피처) 빈도 분포 확인 : value_counts()"
   ]
  },
  {
   "cell_type": "code",
   "execution_count": 11,
   "id": "14f31cf6-4e26-4088-b27b-9d6d4efee944",
   "metadata": {},
   "outputs": [
    {
     "name": "stdout",
     "output_type": "stream",
     "text": [
      "Sex분포: \n",
      " male      577\n",
      "female    314\n",
      "Name: Sex, dtype: int64\n",
      "\n",
      "Cabin분포: \n",
      " N              687\n",
      "C23 C25 C27      4\n",
      "B96 B98          4\n",
      "G6               4\n",
      "C22 C26          3\n",
      "              ... \n",
      "D11              1\n",
      "D50              1\n",
      "C118             1\n",
      "C50              1\n",
      "C110             1\n",
      "Name: Cabin, Length: 148, dtype: int64\n",
      "\n",
      "Embarked분포: \n",
      " S    644\n",
      "C    168\n",
      "Q     77\n",
      "N      2\n",
      "Name: Embarked, dtype: int64\n"
     ]
    }
   ],
   "source": [
    "# 문자열 피처 (Sex, Cabin, Embarked) 값 분류 확인\n",
    "print('Sex분포: \\n', titanic_df['Sex'].value_counts())\n",
    "print('\\nCabin분포: \\n', titanic_df['Cabin'].value_counts())\n",
    "print('\\nEmbarked분포: \\n', titanic_df['Embarked'].value_counts())"
   ]
  },
  {
   "cell_type": "markdown",
   "id": "72e3822d-062c-4ec1-b371-f7d8d767b28a",
   "metadata": {},
   "source": [
    "### 문자열 변수 Cabin값 변경"
   ]
  },
  {
   "cell_type": "code",
   "execution_count": 13,
   "id": "40121d6d-6677-45d3-8393-78791814751f",
   "metadata": {},
   "outputs": [
    {
     "data": {
      "text/plain": [
       "0      N\n",
       "1      C\n",
       "2      N\n",
       "3      C\n",
       "4      N\n",
       "      ..\n",
       "886    N\n",
       "887    B\n",
       "888    N\n",
       "889    C\n",
       "890    N\n",
       "Name: Cabin, Length: 891, dtype: object"
      ]
     },
     "execution_count": 13,
     "metadata": {},
     "output_type": "execute_result"
    }
   ],
   "source": [
    "# Cabin 칼럼 값 중에서 첫 번째 문자만 추출\n",
    "titanic_df['Cabin'].str[:1]"
   ]
  },
  {
   "cell_type": "code",
   "execution_count": 14,
   "id": "57475318-ed35-42a2-94af-1d85e842322f",
   "metadata": {},
   "outputs": [
    {
     "data": {
      "text/plain": [
       "N    687\n",
       "C     59\n",
       "B     47\n",
       "D     33\n",
       "E     32\n",
       "A     15\n",
       "F     13\n",
       "G      4\n",
       "T      1\n",
       "Name: Cabin, dtype: int64"
      ]
     },
     "execution_count": 14,
     "metadata": {},
     "output_type": "execute_result"
    }
   ],
   "source": [
    "# Cabin 값을 선실등급만으로 표기 (선실 번호 제외)\n",
    "titanic_df['Cabin'] = titanic_df['Cabin'].str[:1]\n",
    "\n",
    "# 선실등급 별 개수 확인\n",
    "titanic_df['Cabin'].value_counts()"
   ]
  },
  {
   "cell_type": "markdown",
   "id": "cb444b3a-8796-4bef-85f1-61d68918d8c1",
   "metadata": {},
   "source": [
    "## 성별에 따른 생존자수 분포(EDA)\n",
    "\n",
    "머신러닝 알고리즘 적용해서 예측 수행 전에 데이터 탐색\n",
    "- 어떤 유형의 승객이 생존 확률이 높았는지 확인\n",
    "- 성별이 생존 확률에 어떤 영향을 미쳤는지 확인\n",
    "- 성별에 따른 생존자 수 비교"
   ]
  },
  {
   "cell_type": "code",
   "execution_count": 16,
   "id": "ad65ea48-adbe-4970-9aa2-482b7ecf21f8",
   "metadata": {},
   "outputs": [
    {
     "data": {
      "text/plain": [
       "Survived\n",
       "0    549\n",
       "1    342\n",
       "Name: Survived, dtype: int64"
      ]
     },
     "execution_count": 16,
     "metadata": {},
     "output_type": "execute_result"
    }
   ],
   "source": [
    "# 성별(Sex) 분포 확인\n",
    "titanic_df.groupby('Sex')['Sex'].count()\n",
    "\n",
    "# 생존(Survived) 분포 확인\n",
    "titanic_df.groupby('Survived')['Survived'].count()"
   ]
  },
  {
   "cell_type": "code",
   "execution_count": 17,
   "id": "623f5558-caa3-405e-a9fa-24f891e46e59",
   "metadata": {},
   "outputs": [
    {
     "data": {
      "text/plain": [
       "Sex     Survived\n",
       "female  0            81\n",
       "        1           233\n",
       "male    0           468\n",
       "        1           109\n",
       "Name: Survived, dtype: int64"
      ]
     },
     "execution_count": 17,
     "metadata": {},
     "output_type": "execute_result"
    }
   ],
   "source": [
    "# 성별(Sex) 생존(Survived) 확인\n",
    "# 사망 : 0\n",
    "# 생존 : 1\n",
    "# Survived 칼럼 : 레이블로 결정 클래스 값\n",
    "\n",
    "titanic_df.groupby(['Sex','Survived'])['Survived'].count()"
   ]
  },
  {
   "cell_type": "code",
   "execution_count": 18,
   "id": "298a2297-c96b-4fec-ad98-cbc6d22e9320",
   "metadata": {},
   "outputs": [
    {
     "data": {
      "text/plain": [
       "<AxesSubplot:xlabel='Sex', ylabel='Survived'>"
      ]
     },
     "execution_count": 18,
     "metadata": {},
     "output_type": "execute_result"
    },
    {
     "data": {
      "image/png": "[encoded data removed]",
      "text/plain": [
       "<Figure size 432x288 with 1 Axes>"
      ]
     },
     "metadata": {
      "needs_background": "light"
     },
     "output_type": "display_data"
    }
   ],
   "source": [
    "# 성별 생존자 : 막대 그래프 (barplot)\n",
    "sns.barplot(x='Sex', y = 'Survived', data=titanic_df)"
   ]
  },
  {
   "cell_type": "code",
   "execution_count": 19,
   "id": "e180f211-c969-4bf7-be18-30d602bce610",
   "metadata": {},
   "outputs": [
    {
     "data": {
      "text/plain": [
       "<AxesSubplot:xlabel='Pclass', ylabel='Survived'>"
      ]
     },
     "execution_count": 19,
     "metadata": {},
     "output_type": "execute_result"
    },
    {
     "data": {
      "image/png": "[encoded data removed]",
      "text/plain": [
       "<Figure size 432x288 with 1 Axes>"
      ]
     },
     "metadata": {
      "needs_background": "light"
     },
     "output_type": "display_data"
    }
   ],
   "source": [
    "# 객실 등급별/성별 생존 확률\n",
    "sns.barplot(x='Pclass', y='Survived', hue='Sex', data=titanic_df)"
   ]
  }
 ],
 "metadata": {
  "kernelspec": {
   "display_name": "Python Multi",
   "language": "python",
   "name": "multi"
  },
  "language_info": {
   "codemirror_mode": {
    "name": "ipython",
    "version": 3
   },
   "file_extension": ".py",
   "mimetype": "text/x-python",
   "name": "python",
   "nbconvert_exporter": "python",
   "pygments_lexer": "ipython3",
   "version": "3.7.6"
  }
 },
 "nbformat": 4,
 "nbformat_minor": 5
}
