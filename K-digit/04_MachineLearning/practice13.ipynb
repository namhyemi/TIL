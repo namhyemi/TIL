{
 "cells": [
  {
   "cell_type": "markdown",
   "id": "7c984719-be79-412b-8660-a54eba7d9e41",
   "metadata": {},
   "source": [
    "# 분류 실습 : 캐글 신용카드 사기 검출\n",
    "\n",
    "- Kaggle의 신용카드 데이터 세트를 이용해 신용카드 사기 검출 분류 실습  \n",
    "\n",
    "\n",
    "- 데이터 다운로드 : https://www.kaggle.com/mlg-ulb/creditcardfraud  \n",
    "credit card fraud\n",
    "\n",
    "![image.png](attachment:image.png)\n",
    "\n",
    "## Credit Card Fraud Detection ML 모델 구축\n",
    "- 다양한 Feature Engineering 방식을 \n",
    "- Logistic Regression과 LightGBM 방식을 이용하여 \n",
    "- 각 방식에 적용 후 평가 비교\n",
    "\n",
    "### Feature Engineering \n",
    "- 피처들 중 어떤 것이 모델링할 때 중요한 것인지 결정하는 과정\n",
    "- 모델 성능에 미치는 영향이 크기 때문에 머신러닝 응용에 있어서 굉장히 중요한 단계이며\n",
    "- 전문성과 시간과 비용이 많이 드는 작업\n",
    "- Feature Selection, Feature Extraction\n",
    "- PCA 방식 사용\n",
    "\n",
    "### 차원 축소\n",
    "- 많은 피처로 구성된 다차원의 데이터 셋을\n",
    "- 차원을 축소하여 새로원 차원의 데이터 세트를 생성하는 것\n",
    "\n",
    "**PCA(Principal Component Analysis) : 주성분 분석**\n",
    "- 대표적인 차원 축소 알고리즘\n",
    "- 여러 변수 간 존재하는 상관관계를 이용해 \n",
    "- 대표하는 주성분을 추출해서 차원을 축소하는 기법\n",
    "- 간단하게 가장 높은 분산을 가지는 데이터의 축을 찾아 차원을 축소\n",
    "\n",
    "### Log 변환\n",
    "- 비대칭된 분포도를 가진 데이터 세트를 정규분포와 같이 대칭으로 변환하는 방식\n",
    "\n",
    "![image.png](attachment:image.png)\n",
    "\n",
    "### 이상치 탐지\n",
    "- IQR(Inter Quantile Range), 사분위수(Quantile), Boxplot을 이용\n",
    "    - 최대값 : 3분위수 + 1.5 * IQR\n",
    "    - 최소값 : 1분위수 - 1.5 * IQR    \n",
    "\n",
    "![image-2.png](attachment:image-2.png)\n",
    "\n",
    "## imbalanced data set 가공을 위한 언더 샘플링/오버 샘플링\n",
    "\n",
    "- 언더 샘플링(under sampling)\n",
    "    - 많은 레이블을 가진 데이터 세트를 적은 데이터 세트 수준으로 감소시키는 방식\n",
    "\n",
    "- 오버 샘플링(over sampling)\n",
    "    - 적은 레이블을 가진 데이터 세트를 많은 데이터 세트 수준으로 증식시키는 방식\n",
    "    - 원본 데이터의 피처 값들을 약가만 변경하여 증식\n",
    "    - 대표적인 방법이 SMOTE\n",
    "\n",
    "![image-2.png](attachment:image-2.png)\n",
    "\n",
    "### SMOTE(Synthetic Minority Over-sample Technique)\n",
    "- 적은 데이터 세트에 있는 개별 데이터들의 K 최근접 이웃(K Nearest Neighbor)을 찾고,\n",
    "- K개 이웃들과의 차이를 일정 값으로 만들어서\n",
    "- 기존 데이터와 약간 차이가 나는 새로운 데이터 생성\n",
    "\n",
    "![image-2.png](attachment:image-2.png)\n",
    "\n",
    "### SMOTE 방식을 제공하는 패키지\n",
    "- imblearn.over_sampling (imbalanced learn)  \n",
    "- imbalanced-learn 설치 필요  \n",
    "    - Anaconda Prompt를 관리자 권한으로 실행시키고 설치  \n",
    "    - **`conda install -c conda-forge imbalanced-learn`**  \n",
    "    - 중간에 y 입력\n",
    "\n",
    "## 데이터 일차 가공 및 모델 학습/예측/평가\n",
    "\n",
    "### 'creditcard.csv' 파일 데이터 로드"
   ]
  },
  {
   "cell_type": "code",
   "execution_count": 2,
   "id": "f2631f56-8f51-4e95-98c5-f07922adda28",
   "metadata": {},
   "outputs": [
    {
     "data": {
      "text/html": [
       "<div>\n",
       "<style scoped>\n",
       "    .dataframe tbody tr th:only-of-type {\n",
       "        vertical-align: middle;\n",
       "    }\n",
       "\n",
       "    .dataframe tbody tr th {\n",
       "        vertical-align: top;\n",
       "    }\n",
       "\n",
       "    .dataframe thead th {\n",
       "        text-align: right;\n",
       "    }\n",
       "</style>\n",
       "<table border=\"1\" class=\"dataframe\">\n",
       "  <thead>\n",
       "    <tr style=\"text-align: right;\">\n",
       "      <th></th>\n",
       "      <th>Time</th>\n",
       "      <th>V1</th>\n",
       "      <th>V2</th>\n",
       "      <th>V3</th>\n",
       "      <th>V4</th>\n",
       "      <th>V5</th>\n",
       "      <th>V6</th>\n",
       "      <th>V7</th>\n",
       "      <th>V8</th>\n",
       "      <th>V9</th>\n",
       "      <th>...</th>\n",
       "      <th>V21</th>\n",
       "      <th>V22</th>\n",
       "      <th>V23</th>\n",
       "      <th>V24</th>\n",
       "      <th>V25</th>\n",
       "      <th>V26</th>\n",
       "      <th>V27</th>\n",
       "      <th>V28</th>\n",
       "      <th>Amount</th>\n",
       "      <th>Class</th>\n",
       "    </tr>\n",
       "  </thead>\n",
       "  <tbody>\n",
       "    <tr>\n",
       "      <th>0</th>\n",
       "      <td>0.0</td>\n",
       "      <td>-1.359807</td>\n",
       "      <td>-0.072781</td>\n",
       "      <td>2.536347</td>\n",
       "      <td>1.378155</td>\n",
       "      <td>-0.338321</td>\n",
       "      <td>0.462388</td>\n",
       "      <td>0.239599</td>\n",
       "      <td>0.098698</td>\n",
       "      <td>0.363787</td>\n",
       "      <td>...</td>\n",
       "      <td>-0.018307</td>\n",
       "      <td>0.277838</td>\n",
       "      <td>-0.110474</td>\n",
       "      <td>0.066928</td>\n",
       "      <td>0.128539</td>\n",
       "      <td>-0.189115</td>\n",
       "      <td>0.133558</td>\n",
       "      <td>-0.021053</td>\n",
       "      <td>149.62</td>\n",
       "      <td>0</td>\n",
       "    </tr>\n",
       "    <tr>\n",
       "      <th>1</th>\n",
       "      <td>0.0</td>\n",
       "      <td>1.191857</td>\n",
       "      <td>0.266151</td>\n",
       "      <td>0.166480</td>\n",
       "      <td>0.448154</td>\n",
       "      <td>0.060018</td>\n",
       "      <td>-0.082361</td>\n",
       "      <td>-0.078803</td>\n",
       "      <td>0.085102</td>\n",
       "      <td>-0.255425</td>\n",
       "      <td>...</td>\n",
       "      <td>-0.225775</td>\n",
       "      <td>-0.638672</td>\n",
       "      <td>0.101288</td>\n",
       "      <td>-0.339846</td>\n",
       "      <td>0.167170</td>\n",
       "      <td>0.125895</td>\n",
       "      <td>-0.008983</td>\n",
       "      <td>0.014724</td>\n",
       "      <td>2.69</td>\n",
       "      <td>0</td>\n",
       "    </tr>\n",
       "    <tr>\n",
       "      <th>2</th>\n",
       "      <td>1.0</td>\n",
       "      <td>-1.358354</td>\n",
       "      <td>-1.340163</td>\n",
       "      <td>1.773209</td>\n",
       "      <td>0.379780</td>\n",
       "      <td>-0.503198</td>\n",
       "      <td>1.800499</td>\n",
       "      <td>0.791461</td>\n",
       "      <td>0.247676</td>\n",
       "      <td>-1.514654</td>\n",
       "      <td>...</td>\n",
       "      <td>0.247998</td>\n",
       "      <td>0.771679</td>\n",
       "      <td>0.909412</td>\n",
       "      <td>-0.689281</td>\n",
       "      <td>-0.327642</td>\n",
       "      <td>-0.139097</td>\n",
       "      <td>-0.055353</td>\n",
       "      <td>-0.059752</td>\n",
       "      <td>378.66</td>\n",
       "      <td>0</td>\n",
       "    </tr>\n",
       "  </tbody>\n",
       "</table>\n",
       "<p>3 rows × 31 columns</p>\n",
       "</div>"
      ],
      "text/plain": [
       "   Time        V1        V2        V3        V4        V5        V6        V7  \\\n",
       "0   0.0 -1.359807 -0.072781  2.536347  1.378155 -0.338321  0.462388  0.239599   \n",
       "1   0.0  1.191857  0.266151  0.166480  0.448154  0.060018 -0.082361 -0.078803   \n",
       "2   1.0 -1.358354 -1.340163  1.773209  0.379780 -0.503198  1.800499  0.791461   \n",
       "\n",
       "         V8        V9  ...       V21       V22       V23       V24       V25  \\\n",
       "0  0.098698  0.363787  ... -0.018307  0.277838 -0.110474  0.066928  0.128539   \n",
       "1  0.085102 -0.255425  ... -0.225775 -0.638672  0.101288 -0.339846  0.167170   \n",
       "2  0.247676 -1.514654  ...  0.247998  0.771679  0.909412 -0.689281 -0.327642   \n",
       "\n",
       "        V26       V27       V28  Amount  Class  \n",
       "0 -0.189115  0.133558 -0.021053  149.62      0  \n",
       "1  0.125895 -0.008983  0.014724    2.69      0  \n",
       "2 -0.139097 -0.055353 -0.059752  378.66      0  \n",
       "\n",
       "[3 rows x 31 columns]"
      ]
     },
     "execution_count": 2,
     "metadata": {},
     "output_type": "execute_result"
    }
   ],
   "source": [
    "import pandas as pd\n",
    "import numpy as np \n",
    "import matplotlib.pyplot as plt\n",
    "import warnings\n",
    "warnings.filterwarnings(\"ignore\")\n",
    "get_ipython().run_line_magic('matplotlib', 'inline')\n",
    "\n",
    "card_df = pd.read_csv('creditcard.csv')\n",
    "card_df.head(3)"
   ]
  },
  {
   "cell_type": "code",
   "execution_count": 3,
   "id": "dd478abe-836f-4f0f-aa82-342c671dae8b",
   "metadata": {},
   "outputs": [
    {
     "data": {
      "text/plain": [
       "(284807, 31)"
      ]
     },
     "execution_count": 3,
     "metadata": {},
     "output_type": "execute_result"
    }
   ],
   "source": [
    "card_df.shape"
   ]
  },
  {
   "cell_type": "code",
   "execution_count": 4,
   "id": "e867c7bf-2a7b-4924-873c-28d125ee69c4",
   "metadata": {},
   "outputs": [
    {
     "name": "stdout",
     "output_type": "stream",
     "text": [
      "<class 'pandas.core.frame.DataFrame'>\n",
      "RangeIndex: 284807 entries, 0 to 284806\n",
      "Data columns (total 31 columns):\n",
      " #   Column  Non-Null Count   Dtype  \n",
      "---  ------  --------------   -----  \n",
      " 0   Time    284807 non-null  float64\n",
      " 1   V1      284807 non-null  float64\n",
      " 2   V2      284807 non-null  float64\n",
      " 3   V3      284807 non-null  float64\n",
      " 4   V4      284807 non-null  float64\n",
      " 5   V5      284807 non-null  float64\n",
      " 6   V6      284807 non-null  float64\n",
      " 7   V7      284807 non-null  float64\n",
      " 8   V8      284807 non-null  float64\n",
      " 9   V9      284807 non-null  float64\n",
      " 10  V10     284807 non-null  float64\n",
      " 11  V11     284807 non-null  float64\n",
      " 12  V12     284807 non-null  float64\n",
      " 13  V13     284807 non-null  float64\n",
      " 14  V14     284807 non-null  float64\n",
      " 15  V15     284807 non-null  float64\n",
      " 16  V16     284807 non-null  float64\n",
      " 17  V17     284807 non-null  float64\n",
      " 18  V18     284807 non-null  float64\n",
      " 19  V19     284807 non-null  float64\n",
      " 20  V20     284807 non-null  float64\n",
      " 21  V21     284807 non-null  float64\n",
      " 22  V22     284807 non-null  float64\n",
      " 23  V23     284807 non-null  float64\n",
      " 24  V24     284807 non-null  float64\n",
      " 25  V25     284807 non-null  float64\n",
      " 26  V26     284807 non-null  float64\n",
      " 27  V27     284807 non-null  float64\n",
      " 28  V28     284807 non-null  float64\n",
      " 29  Amount  284807 non-null  float64\n",
      " 30  Class   284807 non-null  int64  \n",
      "dtypes: float64(30), int64(1)\n",
      "memory usage: 67.4 MB\n"
     ]
    }
   ],
   "source": [
    "card_df.info()"
   ]
  },
  {
   "cell_type": "markdown",
   "id": "3f5bc6d8-f8f3-4b5f-8ab9-389bb40c0648",
   "metadata": {},
   "source": [
    "**creditcard 피처 정보**\n",
    "- Time : 데이터 생성 관련한 속성으로 분석에 큰 의미가 없음 => 삭제\n",
    "- Amount : 신용카드 트랜잭션 금액\n",
    "- Class : 레이블, 0-정상, 1-사기\n",
    "\n",
    "### 전처리 함수 ① : get_preprocessed_df() 작성 \n",
    "- 원본 DataFrame은 유지하고 데이터 가공을 위한 DataFrame을 복사하여 반환"
   ]
  },
  {
   "cell_type": "code",
   "execution_count": 5,
   "id": "60c0647a-14ad-4b92-a4a9-f23fd7e8e4eb",
   "metadata": {},
   "outputs": [],
   "source": [
    "# 전처리 함수\n",
    "# - Time 칼럼만 삭제\n",
    "# - 원본 데이터 유지하고, 복사본 반환\n",
    "\n",
    "from sklearn.model_selection import train_test_split\n",
    "\n",
    "# 인자로 입력받은 DataFrame을 복사 한 뒤 Time 컬럼만 삭제하고 복사된 DataFrame 반환\n",
    "def get_preprocessed_df(df=None):\n",
    "    df_copy = df.copy()\n",
    "    df_copy.drop('Time', axis=1, inplace=True)\n",
    "    return df_copy"
   ]
  },
  {
   "cell_type": "markdown",
   "id": "7e645bfc-767c-4bb8-856d-a88bf828623a",
   "metadata": {},
   "source": [
    "### 학습과 테스트 데이터 세트를 반환하는 함수 생성\n",
    "- 사전 데이터 처리가 끝난 뒤 해당 함수 호출\n",
    "\n",
    "**`get_train_test_dataset(df=None)`**"
   ]
  },
  {
   "cell_type": "code",
   "execution_count": 6,
   "id": "f1b6280b-4333-486a-aaf1-517f320e0623",
   "metadata": {},
   "outputs": [],
   "source": [
    "# 사전 데이터 가공 후 학습과 테스트 데이터 세트를 반환하는 함수.\n",
    "def get_train_test_dataset(df=None):\n",
    "    # 인자로 입력된 DataFrame의 사전 데이터 가공이 완료된 복사 DataFrame 반환\n",
    "    df_copy = get_preprocessed_df(df)\n",
    "    \n",
    "    # DataFrame의 맨 마지막 컬럼이 레이블, 나머지는 피처들\n",
    "    X_features = df_copy.iloc[:, :-1] # 피처 : 마지막 칼럼 전까지\n",
    "    y_target = df_copy.iloc[:, -1] # 레이블 : 마지막 칼럼\n",
    "    \n",
    "    # train_test_split( )으로 학습과 테스트 데이터 분할. stratify=y_target으로 Stratified 기반 분할\n",
    "    # stratify: 타겟 값의 분포도에 맞춰, 학습과 테스트 맞춰서 분할 (레이)\n",
    "    X_train, X_test, y_train, y_test =     train_test_split(X_features, y_target, test_size=0.3, random_state=0, stratify=y_target)\n",
    "    \n",
    "    # 학습과 테스트 데이터 세트 반환\n",
    "    return X_train, X_test, y_train, y_test\n",
    "\n",
    "X_train, X_test, y_train, y_test = get_train_test_dataset(card_df)"
   ]
  },
  {
   "cell_type": "code",
   "execution_count": 7,
   "id": "3f7e4864-0153-4aec-8b1a-284b3199c015",
   "metadata": {},
   "outputs": [
    {
     "data": {
      "text/plain": [
       "0    199020\n",
       "1       344\n",
       "Name: Class, dtype: int64"
      ]
     },
     "execution_count": 7,
     "metadata": {},
     "output_type": "execute_result"
    }
   ],
   "source": [
    "y_train.value_counts()"
   ]
  },
  {
   "cell_type": "code",
   "execution_count": 8,
   "id": "7758e01b-00be-4322-b6f3-82b4e7198056",
   "metadata": {},
   "outputs": [
    {
     "data": {
      "text/plain": [
       "(199364,)"
      ]
     },
     "execution_count": 8,
     "metadata": {},
     "output_type": "execute_result"
    }
   ],
   "source": [
    "y_train.shape"
   ]
  },
  {
   "cell_type": "code",
   "execution_count": 9,
   "id": "edb7e885-399a-437b-8be8-44669db743b5",
   "metadata": {},
   "outputs": [
    {
     "data": {
      "text/plain": [
       "0    99.827451\n",
       "1     0.172549\n",
       "Name: Class, dtype: float64"
      ]
     },
     "execution_count": 9,
     "metadata": {},
     "output_type": "execute_result"
    }
   ],
   "source": [
    "y_train.value_counts()/y_train.shape[0]*100"
   ]
  },
  {
   "cell_type": "markdown",
   "id": "d05f2654-1795-47be-b799-73f2c5c46936",
   "metadata": {},
   "source": [
    "**학습/테스트 데이터 레이블 비율**"
   ]
  },
  {
   "cell_type": "code",
   "execution_count": 10,
   "id": "abbda97e-1709-41a1-8c3c-342ca7dc5cf9",
   "metadata": {},
   "outputs": [
    {
     "name": "stdout",
     "output_type": "stream",
     "text": [
      "학습 데이터 레이블 값 비율\n",
      "0    99.827451\n",
      "1     0.172549\n",
      "Name: Class, dtype: float64\n",
      "테스트 데이터 레이블 값 비율\n",
      "0    99.826785\n",
      "1     0.173215\n",
      "Name: Class, dtype: float64\n"
     ]
    }
   ],
   "source": [
    "print('학습 데이터 레이블 값 비율')\n",
    "print(y_train.value_counts()/y_train.shape[0] * 100)\n",
    "print('테스트 데이터 레이블 값 비율')\n",
    "print(y_test.value_counts()/y_test.shape[0] * 100)"
   ]
  },
  {
   "cell_type": "markdown",
   "id": "df321d8b-4a32-456a-b457-544b9e3268ab",
   "metadata": {},
   "source": [
    "**LogisticRegression 알고리즘 적용하여 학습/예측/평가 수행**"
   ]
  },
  {
   "cell_type": "code",
   "execution_count": 11,
   "id": "acfea4c9-0c96-467a-b30a-a12da2d269fc",
   "metadata": {},
   "outputs": [],
   "source": [
    "# 먼저  LogisticRegression 부터 학습/예측/평가 수행\n",
    "\n",
    "from sklearn.linear_model import LogisticRegression\n",
    "\n",
    "lr_clf = LogisticRegression()\n",
    "\n",
    "lr_clf.fit(X_train, y_train)\n",
    "\n",
    "lr_pred = lr_clf.predict(X_test)\n",
    "lr_pred_proba = lr_clf.predict_proba(X_test)[:, 1]"
   ]
  },
  {
   "cell_type": "code",
   "execution_count": 12,
   "id": "e5edfc75-403f-4cbb-87cc-96edd2b5fb8f",
   "metadata": {},
   "outputs": [],
   "source": [
    "# 예측 평가 수행 함수 (앞에서 복사할 것)\n",
    "\n",
    "from sklearn.metrics import confusion_matrix, accuracy_score, precision_score, recall_score, f1_score\n",
    "from sklearn.metrics import roc_auc_score\n",
    "\n",
    "# 수정된 get_clf_eval() 함수 \n",
    "def get_clf_eval(y_test, pred=None, pred_proba=None):\n",
    "    confusion = confusion_matrix( y_test, pred)\n",
    "    accuracy = accuracy_score(y_test , pred)\n",
    "    precision = precision_score(y_test , pred)\n",
    "    recall = recall_score(y_test , pred)\n",
    "    f1 = f1_score(y_test,pred)\n",
    "    # ROC-AUC 추가 \n",
    "    roc_auc = roc_auc_score(y_test, pred_proba)\n",
    "    print('오차 행렬')\n",
    "    print(confusion)\n",
    "    # ROC-AUC print 추가\n",
    "    print('정확도: {0:.4f}, 정밀도: {1:.4f}, 재현율: {2:.4f}, F1: {3:.4f}, AUC:{4:.4f}'.format(accuracy, precision, recall, f1, roc_auc))\n"
   ]
  },
  {
   "cell_type": "code",
   "execution_count": 13,
   "id": "d991031b-5a94-4a7e-95c0-6b46790e816a",
   "metadata": {},
   "outputs": [
    {
     "name": "stdout",
     "output_type": "stream",
     "text": [
      "오차 행렬\n",
      "[[85281    14]\n",
      " [   55    93]]\n",
      "정확도: 0.9992, 정밀도: 0.8692, 재현율: 0.6284, F1: 0.7294, AUC:0.9650\n"
     ]
    }
   ],
   "source": [
    "# 3장에서 사용한 get_clf_eval() 함수를 이용하여 평가 수행. \n",
    "get_clf_eval(y_test, lr_pred, lr_pred_proba)"
   ]
  },
  {
   "cell_type": "markdown",
   "id": "785100c8-d32a-4fbe-a885-55f7e67b9d91",
   "metadata": {},
   "source": [
    "### 모델을 학습/예측/평가를 위한 함수 생성\n",
    ": 앞으로 피처 엔지니어링을 수행할 때마다 사용\n",
    "\n",
    "**`get_model_train_eval(model, ftr_train=None, ftr_test=None, tgt_train=None, tgt_test=None)`**"
   ]
  },
  {
   "cell_type": "code",
   "execution_count": 15,
   "id": "8d806a6e-5b81-426d-a59f-1d38c7d6b4b3",
   "metadata": {},
   "outputs": [],
   "source": [
    "# 인자로 사이킷런의 Estimator객체와, 학습/테스트 데이터 세트를 입력 받아서 학습/예측/평가 수행.\n",
    "def get_model_train_eval(model, ftr_train=None, ftr_test=None, tgt_train=None, tgt_test=None):\n",
    "    model.fit(ftr_train, tgt_train)\n",
    "    pred = model.predict(ftr_test)\n",
    "    pred_proba = model.predict_proba(ftr_test)[:, 1]\n",
    "    get_clf_eval(tgt_test, pred, pred_proba)"
   ]
  },
  {
   "cell_type": "markdown",
   "id": "c16d44eb-fa60-4841-84c6-eaaaa3a11ff8",
   "metadata": {},
   "source": [
    "### LightGBM 학습/예측/평가\n",
    "\n",
    "- boost_from_average가 True일 경우 레이블 값이 극도로 불균형 분포를 이루는 경우 재현률 및 ROC-AUC 성능이 매우 저하됨\n",
    "\n",
    "- LightGBM 2.1.0 이상 버전에서 이와 같은 현상 발생 \n",
    "     - 디폴트가 True로 바뀌면서(이전에는 False)\n",
    "     - True일 경우 전반적으로 좋은데\n",
    "     - 레이블 값이 극도로 불균형 분포를 이루는 경우 재현률 및 ROC-AUC 성능이 매우 저하됨"
   ]
  },
  {
   "cell_type": "code",
   "execution_count": 17,
   "id": "8b7acdfb-171e-425d-b71b-408f5d4e1e34",
   "metadata": {},
   "outputs": [
    {
     "name": "stdout",
     "output_type": "stream",
     "text": [
      "오차 행렬\n",
      "[[85290     5]\n",
      " [   36   112]]\n",
      "정확도: 0.9995, 정밀도: 0.9573, 재현율: 0.7568, F1: 0.8453, AUC:0.9790\n"
     ]
    }
   ],
   "source": [
    "from lightgbm import LGBMClassifier\n",
    "\n",
    "# boost_from_average : 에러까지는 아닌데 T\n",
    "lgbm_clf = LGBMClassifier(n_estimators=1000, num_leaves=64, n_jobs=-1, boost_from_average=False)\n",
    "\n",
    "get_model_train_eval(lgbm_clf, ftr_train=X_train, ftr_test=X_test, \n",
    "                     tgt_train=y_train, tgt_test=y_test)\n",
    "\n",
    "# 재현율이 LogisticRegression 보다 좋아졌음\n",
    "# 그러나 많이 좋아질 수 있는 요소들이 있을 것이다"
   ]
  },
  {
   "cell_type": "markdown",
   "id": "62581825-4196-4713-b48e-cd6eb0d1e1f6",
   "metadata": {},
   "source": [
    "## 중요 데이터 분포도 변환 후 모델 학습/예측/평가\n",
    "\n",
    "**중요 feature의 분포도 확인**"
   ]
  },
  {
   "cell_type": "code",
   "execution_count": 18,
   "id": "5386fe6f-8a92-4802-9d22-4f220043d7b2",
   "metadata": {},
   "outputs": [
    {
     "data": {
      "text/plain": [
       "<AxesSubplot:xlabel='Amount', ylabel='Density'>"
      ]
     },
     "execution_count": 18,
     "metadata": {},
     "output_type": "execute_result"
    },
    {
     "data": {
      "image/png": "[encoded data removed]",
      "text/plain": [
       "<Figure size 576x288 with 1 Axes>"
      ]
     },
     "metadata": {
      "needs_background": "light"
     },
     "output_type": "display_data"
    }
   ],
   "source": [
    "# 중요 속성으로 Amount 선정해서 분포도 확인\n",
    "\n",
    "import seaborn as sns\n",
    "\n",
    "plt.figure(figsize=(8, 4))\n",
    "plt.xticks(range(0, 30000, 1000), rotation=60)\n",
    "sns.distplot(card_df['Amount'])"
   ]
  },
  {
   "cell_type": "markdown",
   "id": "a3c81cd7-3034-430b-bb36-3a7cfcd980e0",
   "metadata": {},
   "source": [
    "### 전처리 함수 ② get_preprocessed_df() 수정\n",
    "- StandardScaler를 이용하여 Amount 피처 변환 추가"
   ]
  },
  {
   "cell_type": "code",
   "execution_count": 20,
   "id": "14795ee2-1707-42cc-b49f-1d21fbe02eed",
   "metadata": {},
   "outputs": [],
   "source": [
    "from sklearn.preprocessing import StandardScaler\n",
    "\n",
    "# scaled 된 값 Amount_Scaled 추가하고, 기존의 Time, Amount 피처 삭제\n",
    "# 사이킷런의 StandardScaler를 이용하여 정규분포 형태로 Amount 피처값 변환하는 로직으로 수정. \n",
    "def get_preprocessed_df(df=None):\n",
    "    df_copy = df.copy()\n",
    "    scaler = StandardScaler()\n",
    "    amount_n = scaler.fit_transform(df_copy['Amount'].values.reshape(-1, 1))\n",
    "    \n",
    "    # 변환된 Amount를 Amount_Scaled로 피처명 변경후 DataFrame맨 앞 컬럼으로 입력\n",
    "    df_copy.insert(0, 'Amount_Scaled', amount_n)\n",
    "    \n",
    "    # 기존 Time, Amount 피처 삭제\n",
    "    df_copy.drop(['Time','Amount'], axis=1, inplace=True)\n",
    "    return df_copy"
   ]
  },
  {
   "cell_type": "code",
   "execution_count": 21,
   "id": "58d9403f-5ed9-4dce-babe-34902f5a76cb",
   "metadata": {},
   "outputs": [
    {
     "data": {
      "text/html": [
       "<div>\n",
       "<style scoped>\n",
       "    .dataframe tbody tr th:only-of-type {\n",
       "        vertical-align: middle;\n",
       "    }\n",
       "\n",
       "    .dataframe tbody tr th {\n",
       "        vertical-align: top;\n",
       "    }\n",
       "\n",
       "    .dataframe thead th {\n",
       "        text-align: right;\n",
       "    }\n",
       "</style>\n",
       "<table border=\"1\" class=\"dataframe\">\n",
       "  <thead>\n",
       "    <tr style=\"text-align: right;\">\n",
       "      <th></th>\n",
       "      <th>Amount_Scaled</th>\n",
       "      <th>V1</th>\n",
       "      <th>V2</th>\n",
       "      <th>V3</th>\n",
       "      <th>V4</th>\n",
       "      <th>V5</th>\n",
       "      <th>V6</th>\n",
       "      <th>V7</th>\n",
       "      <th>V8</th>\n",
       "      <th>V9</th>\n",
       "      <th>...</th>\n",
       "      <th>V20</th>\n",
       "      <th>V21</th>\n",
       "      <th>V22</th>\n",
       "      <th>V23</th>\n",
       "      <th>V24</th>\n",
       "      <th>V25</th>\n",
       "      <th>V26</th>\n",
       "      <th>V27</th>\n",
       "      <th>V28</th>\n",
       "      <th>Class</th>\n",
       "    </tr>\n",
       "  </thead>\n",
       "  <tbody>\n",
       "    <tr>\n",
       "      <th>0</th>\n",
       "      <td>0.244964</td>\n",
       "      <td>-1.359807</td>\n",
       "      <td>-0.072781</td>\n",
       "      <td>2.536347</td>\n",
       "      <td>1.378155</td>\n",
       "      <td>-0.338321</td>\n",
       "      <td>0.462388</td>\n",
       "      <td>0.239599</td>\n",
       "      <td>0.098698</td>\n",
       "      <td>0.363787</td>\n",
       "      <td>...</td>\n",
       "      <td>0.251412</td>\n",
       "      <td>-0.018307</td>\n",
       "      <td>0.277838</td>\n",
       "      <td>-0.110474</td>\n",
       "      <td>0.066928</td>\n",
       "      <td>0.128539</td>\n",
       "      <td>-0.189115</td>\n",
       "      <td>0.133558</td>\n",
       "      <td>-0.021053</td>\n",
       "      <td>0</td>\n",
       "    </tr>\n",
       "    <tr>\n",
       "      <th>1</th>\n",
       "      <td>-0.342475</td>\n",
       "      <td>1.191857</td>\n",
       "      <td>0.266151</td>\n",
       "      <td>0.166480</td>\n",
       "      <td>0.448154</td>\n",
       "      <td>0.060018</td>\n",
       "      <td>-0.082361</td>\n",
       "      <td>-0.078803</td>\n",
       "      <td>0.085102</td>\n",
       "      <td>-0.255425</td>\n",
       "      <td>...</td>\n",
       "      <td>-0.069083</td>\n",
       "      <td>-0.225775</td>\n",
       "      <td>-0.638672</td>\n",
       "      <td>0.101288</td>\n",
       "      <td>-0.339846</td>\n",
       "      <td>0.167170</td>\n",
       "      <td>0.125895</td>\n",
       "      <td>-0.008983</td>\n",
       "      <td>0.014724</td>\n",
       "      <td>0</td>\n",
       "    </tr>\n",
       "    <tr>\n",
       "      <th>2</th>\n",
       "      <td>1.160686</td>\n",
       "      <td>-1.358354</td>\n",
       "      <td>-1.340163</td>\n",
       "      <td>1.773209</td>\n",
       "      <td>0.379780</td>\n",
       "      <td>-0.503198</td>\n",
       "      <td>1.800499</td>\n",
       "      <td>0.791461</td>\n",
       "      <td>0.247676</td>\n",
       "      <td>-1.514654</td>\n",
       "      <td>...</td>\n",
       "      <td>0.524980</td>\n",
       "      <td>0.247998</td>\n",
       "      <td>0.771679</td>\n",
       "      <td>0.909412</td>\n",
       "      <td>-0.689281</td>\n",
       "      <td>-0.327642</td>\n",
       "      <td>-0.139097</td>\n",
       "      <td>-0.055353</td>\n",
       "      <td>-0.059752</td>\n",
       "      <td>0</td>\n",
       "    </tr>\n",
       "    <tr>\n",
       "      <th>3</th>\n",
       "      <td>0.140534</td>\n",
       "      <td>-0.966272</td>\n",
       "      <td>-0.185226</td>\n",
       "      <td>1.792993</td>\n",
       "      <td>-0.863291</td>\n",
       "      <td>-0.010309</td>\n",
       "      <td>1.247203</td>\n",
       "      <td>0.237609</td>\n",
       "      <td>0.377436</td>\n",
       "      <td>-1.387024</td>\n",
       "      <td>...</td>\n",
       "      <td>-0.208038</td>\n",
       "      <td>-0.108300</td>\n",
       "      <td>0.005274</td>\n",
       "      <td>-0.190321</td>\n",
       "      <td>-1.175575</td>\n",
       "      <td>0.647376</td>\n",
       "      <td>-0.221929</td>\n",
       "      <td>0.062723</td>\n",
       "      <td>0.061458</td>\n",
       "      <td>0</td>\n",
       "    </tr>\n",
       "    <tr>\n",
       "      <th>4</th>\n",
       "      <td>-0.073403</td>\n",
       "      <td>-1.158233</td>\n",
       "      <td>0.877737</td>\n",
       "      <td>1.548718</td>\n",
       "      <td>0.403034</td>\n",
       "      <td>-0.407193</td>\n",
       "      <td>0.095921</td>\n",
       "      <td>0.592941</td>\n",
       "      <td>-0.270533</td>\n",
       "      <td>0.817739</td>\n",
       "      <td>...</td>\n",
       "      <td>0.408542</td>\n",
       "      <td>-0.009431</td>\n",
       "      <td>0.798278</td>\n",
       "      <td>-0.137458</td>\n",
       "      <td>0.141267</td>\n",
       "      <td>-0.206010</td>\n",
       "      <td>0.502292</td>\n",
       "      <td>0.219422</td>\n",
       "      <td>0.215153</td>\n",
       "      <td>0</td>\n",
       "    </tr>\n",
       "  </tbody>\n",
       "</table>\n",
       "<p>5 rows × 30 columns</p>\n",
       "</div>"
      ],
      "text/plain": [
       "   Amount_Scaled        V1        V2        V3        V4        V5        V6  \\\n",
       "0       0.244964 -1.359807 -0.072781  2.536347  1.378155 -0.338321  0.462388   \n",
       "1      -0.342475  1.191857  0.266151  0.166480  0.448154  0.060018 -0.082361   \n",
       "2       1.160686 -1.358354 -1.340163  1.773209  0.379780 -0.503198  1.800499   \n",
       "3       0.140534 -0.966272 -0.185226  1.792993 -0.863291 -0.010309  1.247203   \n",
       "4      -0.073403 -1.158233  0.877737  1.548718  0.403034 -0.407193  0.095921   \n",
       "\n",
       "         V7        V8        V9  ...       V20       V21       V22       V23  \\\n",
       "0  0.239599  0.098698  0.363787  ...  0.251412 -0.018307  0.277838 -0.110474   \n",
       "1 -0.078803  0.085102 -0.255425  ... -0.069083 -0.225775 -0.638672  0.101288   \n",
       "2  0.791461  0.247676 -1.514654  ...  0.524980  0.247998  0.771679  0.909412   \n",
       "3  0.237609  0.377436 -1.387024  ... -0.208038 -0.108300  0.005274 -0.190321   \n",
       "4  0.592941 -0.270533  0.817739  ...  0.408542 -0.009431  0.798278 -0.137458   \n",
       "\n",
       "        V24       V25       V26       V27       V28  Class  \n",
       "0  0.066928  0.128539 -0.189115  0.133558 -0.021053      0  \n",
       "1 -0.339846  0.167170  0.125895 -0.008983  0.014724      0  \n",
       "2 -0.689281 -0.327642 -0.139097 -0.055353 -0.059752      0  \n",
       "3 -1.175575  0.647376 -0.221929  0.062723  0.061458      0  \n",
       "4  0.141267 -0.206010  0.502292  0.219422  0.215153      0  \n",
       "\n",
       "[5 rows x 30 columns]"
      ]
     },
     "execution_count": 21,
     "metadata": {},
     "output_type": "execute_result"
    }
   ],
   "source": [
    "card_df2 = get_preprocessed_df(card_df)\n",
    "card_df2.head()"
   ]
  },
  {
   "cell_type": "markdown",
   "id": "f7d3fbec-ac54-4535-b128-df2f52d000aa",
   "metadata": {},
   "source": [
    "**StandardScaler 변환 후 로지스틱 회귀 및 LightGBM 학습/예측/평가**"
   ]
  },
  {
   "cell_type": "code",
   "execution_count": 22,
   "id": "089d4d37-a186-4697-97c5-9f0b0d3aeabe",
   "metadata": {},
   "outputs": [
    {
     "name": "stdout",
     "output_type": "stream",
     "text": [
      "### 로지스틱 회귀 예측 성능 ###\n",
      "오차 행렬\n",
      "[[85281    14]\n",
      " [   58    90]]\n",
      "정확도: 0.9992, 정밀도: 0.8654, 재현율: 0.6081, F1: 0.7143, AUC:0.9702\n",
      "### LightGBM 예측 성능 ###\n",
      "오차 행렬\n",
      "[[85290     5]\n",
      " [   37   111]]\n",
      "정확도: 0.9995, 정밀도: 0.9569, 재현율: 0.7500, F1: 0.8409, AUC:0.9779\n"
     ]
    }
   ],
   "source": [
    "# Amount를 정규분포 형태로 변환 후 로지스틱 회귀 및 LightGBM 수행. \n",
    "X_train, X_test, y_train, y_test = get_train_test_dataset(card_df)\n",
    "\n",
    "print('### 로지스틱 회귀 예측 성능 ###')\n",
    "lr_clf = LogisticRegression()\n",
    "get_model_train_eval(lr_clf, ftr_train=X_train, ftr_test=X_test, \n",
    "                     tgt_train=y_train, tgt_test=y_test)\n",
    "\n",
    "print('### LightGBM 예측 성능 ###')\n",
    "lgbm_clf = LGBMClassifier(n_estimators=1000, num_leaves=64,\n",
    "                          n_jobs=-1, boost_from_average=False)\n",
    "get_model_train_eval(lgbm_clf, ftr_train=X_train, ftr_test=X_test, \n",
    "                     tgt_train=y_train, tgt_test=y_test)"
   ]
  },
  {
   "cell_type": "code",
   "execution_count": 23,
   "id": "a3f0aad8-ca1f-4485-9b14-067c9e57e56a",
   "metadata": {},
   "outputs": [
    {
     "data": {
      "text/plain": [
       "<AxesSubplot:xlabel='Amount_Scaled', ylabel='Density'>"
      ]
     },
     "execution_count": 23,
     "metadata": {},
     "output_type": "execute_result"
    },
    {
     "data": {
      "image/png": "[encoded data removed]",
      "text/plain": [
       "<Figure size 576x288 with 1 Axes>"
      ]
     },
     "metadata": {
      "needs_background": "light"
     },
     "output_type": "display_data"
    }
   ],
   "source": [
    "import seaborn as sns\n",
    "\n",
    "plt.figure(figsize=(8, 4))\n",
    "sns.distplot(card_df2['Amount_Scaled'])\n",
    "\n",
    "\n",
    "# ### 전처리 함수 ③ : get_preprocessed_df() 수정\n",
    "# - 비대칭 분포를 갖는 Amount 피처를 로그 변환"
   ]
  },
  {
   "cell_type": "code",
   "execution_count": 24,
   "id": "fcbfcfba-95f5-4370-919a-b706c883472f",
   "metadata": {},
   "outputs": [],
   "source": [
    "def get_preprocessed_df(df=None):\n",
    "    df_copy = df.copy()\n",
    "    \n",
    "    # 넘파이의 log1p( )를 이용하여 Amount를 로그 변환 \n",
    "    amount_n = np.log1p(df_copy['Amount'])\n",
    "    \n",
    "    # 넘파이의 로그 변환 함수는 np.log()인데\n",
    "    # 보통 로그 변환할 때 log() 잘 안쓰고 log1p() 사용\n",
    "    # 1p가 원 플러스로 하나를 더하겠다는 의미\n",
    "    \n",
    "    # Amount_Scaled 칼럼 추가하고 'Time','Amount' 삭제\n",
    "    df_copy.insert(0, 'Amount_Scaled', amount_n)\n",
    "    df_copy.drop(['Time','Amount'], axis=1, inplace=True)\n",
    "    return df_copy"
   ]
  },
  {
   "cell_type": "markdown",
   "id": "441d23e2-1ecb-443f-8720-1cb0db73da4e",
   "metadata": {},
   "source": [
    "---\n",
    "##### log1p 와 expm1 설명  #####"
   ]
  },
  {
   "cell_type": "code",
   "execution_count": 25,
   "id": "94cb0581-733d-467c-a2cc-bdb97027de50",
   "metadata": {},
   "outputs": [
    {
     "name": "stdout",
     "output_type": "stream",
     "text": [
      "True\n",
      "-inf\n",
      "0.0\n",
      "0.0\n"
     ]
    }
   ],
   "source": [
    "# log1p 와 expm1 설명 \n",
    "import numpy as np\n",
    "\n",
    "# log(-1000)은 0 인데\n",
    "print(1e-1000 == 0.0)\n",
    "\n",
    "# log() 사용하면 -inf가 나옴\n",
    "print(np.log(1e-1000)) \n",
    "# log() 사용 시 문제 : \n",
    "\n",
    "# log()에 1을 더하면 0이 됨\n",
    "print(np.log(1e-1000 + 1))\n",
    "\n",
    "# 그래서 1을 더한 log1p() 사용 : 0이 됨\n",
    "print(np.log1p(1e-1000))"
   ]
  },
  {
   "cell_type": "code",
   "execution_count": 26,
   "id": "e2771a50-f7fb-4e1a-b149-00dc05711ae9",
   "metadata": {},
   "outputs": [
    {
     "name": "stdout",
     "output_type": "stream",
     "text": [
      "4.61512051684126 100.00000000000003\n"
     ]
    }
   ],
   "source": [
    "# log1p() 한 값을 원래 값으로 되돌릴 때는 expm1() 시용\n",
    "# expm1() : 1을 뺀다는 의미\n",
    "var_1 = np.log1p(100)\n",
    "var_2 = np.expm1(var_1) \n",
    "print(var_1, var_2)"
   ]
  },
  {
   "cell_type": "markdown",
   "id": "fb6b0222-909e-402e-aec9-cd428bf8281b",
   "metadata": {},
   "source": [
    "**Ammount 피처 로그 변환한 뒤 로지스틱회귀, LightGBM 학습/예측/평가**"
   ]
  },
  {
   "cell_type": "code",
   "execution_count": 27,
   "id": "30ce0372-bc90-428a-8a4c-f1a725470641",
   "metadata": {},
   "outputs": [
    {
     "name": "stdout",
     "output_type": "stream",
     "text": [
      "### 로지스틱 회귀 예측 성능 ###\n",
      "오차 행렬\n",
      "[[85283    12]\n",
      " [   59    89]]\n",
      "정확도: 0.9992, 정밀도: 0.8812, 재현율: 0.6014, F1: 0.7149, AUC:0.9727\n",
      "### LightGBM 예측 성능 ###\n",
      "오차 행렬\n",
      "[[85290     5]\n",
      " [   35   113]]\n",
      "정확도: 0.9995, 정밀도: 0.9576, 재현율: 0.7635, F1: 0.8496, AUC:0.9796\n"
     ]
    }
   ],
   "source": [
    "# 학습/테스트 데이터 분리하고\n",
    "X_train, X_test, y_train, y_test = get_train_test_dataset(card_df)\n",
    "\n",
    "# 예측 성능 확인\n",
    "print('### 로지스틱 회귀 예측 성능 ###')\n",
    "get_model_train_eval(lr_clf, ftr_train=X_train, ftr_test=X_test, tgt_train=y_train, tgt_test=y_test)\n",
    "\n",
    "print('### LightGBM 예측 성능 ###')\n",
    "get_model_train_eval(lgbm_clf, ftr_train=X_train, ftr_test=X_test, tgt_train=y_train, tgt_test=y_test)"
   ]
  },
  {
   "cell_type": "markdown",
   "id": "6d0b05aa-32cc-4926-a312-9bbc8c70c271",
   "metadata": {},
   "source": [
    "     => Amount 피처 로그변환하지 않은 데이터로 학습한 경우보다 약간씩 성능이 개선됨"
   ]
  },
  {
   "cell_type": "code",
   "execution_count": 28,
   "id": "9ebc6b75-237a-462e-bd39-3bf970181370",
   "metadata": {},
   "outputs": [
    {
     "data": {
      "text/plain": [
       "<AxesSubplot:xlabel='Amount_Scaled', ylabel='Density'>"
      ]
     },
     "execution_count": 28,
     "metadata": {},
     "output_type": "execute_result"
    },
    {
     "data": {
      "image/png": "[encoded data removed]",
      "text/plain": [
       "<Figure size 576x288 with 1 Axes>"
      ]
     },
     "metadata": {
      "needs_background": "light"
     },
     "output_type": "display_data"
    }
   ],
   "source": [
    "import seaborn as sns\n",
    "\n",
    "card_df2 = get_preprocessed_df(card_df)\n",
    "plt.figure(figsize=(8, 4))\n",
    "sns.distplot(card_df2['Amount_Scaled'])"
   ]
  },
  {
   "cell_type": "markdown",
   "id": "a2a051bc-b20b-44f5-acb2-977978244585",
   "metadata": {},
   "source": [
    "## 이상치 데이터 제거 후 모델 학습/예측/평가\n",
    "\n",
    "### 각 피처들의 상관 관계 시각화 : 히트맵(heatmap)\n",
    "- 결정 레이블인 class 값과 가장 상관도가 높은 피처 추출\n",
    "\n",
    "\n",
    "- 추출한 다음 이 중에 상관도가 높은 피처들에 대해서 아웃 라이어 찾음\n",
    "\n",
    "\n",
    "- 그 다음에 거기에 대한 아웃 라이어가 높은 피처들을 가지고 있는 레코드 삭제"
   ]
  },
  {
   "cell_type": "code",
   "execution_count": 29,
   "id": "ad6ad653-f513-49e4-9c30-3f04aecbc0c0",
   "metadata": {},
   "outputs": [
    {
     "data": {
      "text/plain": [
       "<AxesSubplot:>"
      ]
     },
     "execution_count": 29,
     "metadata": {},
     "output_type": "execute_result"
    },
    {
     "data": {
      "image/png": "[encoded data removed]",
      "text/plain": [
       "<Figure size 648x648 with 2 Axes>"
      ]
     },
     "metadata": {
      "needs_background": "light"
     },
     "output_type": "display_data"
    }
   ],
   "source": [
    "import seaborn as sns\n",
    "\n",
    "plt.figure(figsize=(9, 9))\n",
    "corr = card_df.corr() # 각 칼럼들의 상관도 값 반환\n",
    "sns.heatmap(corr, cmap='RdBu') "
   ]
  },
  {
   "cell_type": "markdown",
   "id": "1c2b84c0-0b26-453f-a2df-8f471adc3073",
   "metadata": {},
   "source": [
    "- 히트맵에서 cmap을 'RdBu'로 설정해\n",
    "    - 양의 상관관계가 높을수록 색깔이 진한 파란색에 가깝고,\n",
    "    - 음의 상관관계가 높을수록 색깔이 진한 빨강색에 가깝게 표현됨\n",
    "\n",
    "=> 레이블 Class와 상관관계가 가장 높은 피처는 V14와 V17 (음의 상관관계)\n",
    "\n",
    "### 이상치 필터링을 위한 함수 작성 : get_outlier()\n",
    "- Dataframe에서 outlier에 해당하는 데이터를 필터링\n",
    "- outlier 레코드의 index를 반환함"
   ]
  },
  {
   "cell_type": "code",
   "execution_count": 32,
   "id": "7413e84a-8229-4c07-9f9a-54c52bb3a095",
   "metadata": {},
   "outputs": [],
   "source": [
    "# 아웃라이어를 찾기 위한 함수 새로 생성\n",
    "\n",
    "import numpy as np\n",
    "\n",
    "# weight는 boxplot에서 이상치 계산시 1.5*IQR(몸통)을 더하고, 뺀 값들이 이상치\n",
    "# 전체 데이터에서 찾지 않고 사기 데이터 (Class가 1인)에서 찾음\n",
    "def get_outlier(df=None, column=None, weight=1.5):\n",
    "    # fraud에 해당하는 column 데이터만 추출, 1/4 분위와 3/4 분위 지점을 np.percentile로 구함. \n",
    "    fraud = df[df['Class']==1][column] # column 값으로 V14 들어올 것임\n",
    "    quantile_25 = np.percentile(fraud.values, 25) # 1분위수\n",
    "    quantile_75 = np.percentile(fraud.values, 75) # 3분위수\n",
    "    \n",
    "    # IQR을 구하고, IQR에 1.5를 곱하여 최대값과 최소값 지점 구함. \n",
    "    iqr = quantile_75 - quantile_25\n",
    "\n",
    "    iqr_weight = iqr * weight\n",
    "    lowest_val = quantile_25 - iqr_weight\n",
    "    highest_val = quantile_75 + iqr_weight\n",
    "    \n",
    "    # 데이터 프레임 인덱스 찾음\n",
    "    # 최대값 보다 크거나, 최소값 보다 작은 값을 아웃라이어로 설정하고 DataFrame index 반환. \n",
    "    outlier_index = fraud[(fraud < lowest_val) | (fraud > highest_val)].index\n",
    "    \n",
    "    return outlier_index"
   ]
  },
  {
   "cell_type": "markdown",
   "id": "b429c5e2-98b1-47b3-bdb6-2912543dd656",
   "metadata": {},
   "source": [
    "**피처 V14의 분포**\n",
    "- 사분위수"
   ]
  },
  {
   "cell_type": "code",
   "execution_count": 33,
   "id": "80abb685-c647-4ec8-995c-10f86b95e5ec",
   "metadata": {},
   "outputs": [
    {
     "data": {
      "text/plain": [
       "-0.4255740124549935"
      ]
     },
     "execution_count": 33,
     "metadata": {},
     "output_type": "execute_result"
    }
   ],
   "source": [
    "np.percentile(card_df['V14'], 25) # 1분위수"
   ]
  },
  {
   "cell_type": "code",
   "execution_count": 34,
   "id": "52137053-9c02-46ac-b0b1-3322281e9281",
   "metadata": {},
   "outputs": [
    {
     "data": {
      "text/plain": [
       "0.493149849218149"
      ]
     },
     "execution_count": 34,
     "metadata": {},
     "output_type": "execute_result"
    }
   ],
   "source": [
    "np.percentile(card_df['V14'], 75) # 3분위수 : 상위 75%"
   ]
  },
  {
   "cell_type": "code",
   "execution_count": 35,
   "id": "c56be849-9777-4e05-a44f-06851b9a32d1",
   "metadata": {},
   "outputs": [
    {
     "data": {
      "text/plain": [
       "10.5267660517847"
      ]
     },
     "execution_count": 35,
     "metadata": {},
     "output_type": "execute_result"
    }
   ],
   "source": [
    "#np.percentile(card_df['V14'].values, 100) \n",
    "np.max(card_df['V14'])"
   ]
  },
  {
   "cell_type": "code",
   "execution_count": 36,
   "id": "dfa0a192-556f-4db8-a780-88c4c4e73e2e",
   "metadata": {},
   "outputs": [
    {
     "name": "stdout",
     "output_type": "stream",
     "text": [
      "이상치 데이터 인덱스: Int64Index([8296, 8615, 9035, 9252], dtype='int64')\n"
     ]
    }
   ],
   "source": [
    "outlier_index = get_outlier(df=card_df, column='V14', weight=1.5)\n",
    "print('이상치 데이터 인덱스:', outlier_index)\n",
    "# 4개 인덱스 : 이 인덱스에 해당되는 행은 삭제할 것임"
   ]
  },
  {
   "cell_type": "code",
   "execution_count": 37,
   "id": "fd76f2bf-94ed-48de-92db-1aefef52e726",
   "metadata": {},
   "outputs": [
    {
     "data": {
      "text/plain": [
       "-19.2143254902614"
      ]
     },
     "execution_count": 37,
     "metadata": {},
     "output_type": "execute_result"
    }
   ],
   "source": [
    "card_df['V14'][8296]"
   ]
  },
  {
   "cell_type": "code",
   "execution_count": 38,
   "id": "c5067893-2bc8-4602-8a61-4df07f3e462e",
   "metadata": {},
   "outputs": [
    {
     "data": {
      "text/plain": [
       "0.796994975493623"
      ]
     },
     "execution_count": 38,
     "metadata": {},
     "output_type": "execute_result"
    }
   ],
   "source": [
    "card_df['V14'][100]"
   ]
  },
  {
   "cell_type": "code",
   "execution_count": 39,
   "id": "650b00ee-8ff4-40bc-9e67-acd1e2da6e21",
   "metadata": {},
   "outputs": [
    {
     "data": {
      "text/plain": [
       "<AxesSubplot:xlabel='V14', ylabel='Density'>"
      ]
     },
     "execution_count": 39,
     "metadata": {},
     "output_type": "execute_result"
    },
    {
     "data": {
      "image/png": "[encoded data removed]",
      "text/plain": [
       "<Figure size 576x288 with 1 Axes>"
      ]
     },
     "metadata": {
      "needs_background": "light"
     },
     "output_type": "display_data"
    }
   ],
   "source": [
    "import seaborn as sns\n",
    "\n",
    "plt.figure(figsize=(8, 4))\n",
    "sns.distplot(card_df['V14'])"
   ]
  },
  {
   "cell_type": "markdown",
   "id": "9e066260-401a-431c-92c6-7c042c007e43",
   "metadata": {},
   "source": [
    "### 전처리 함수 ④ : get_processed_df( )\n",
    "- Amount 피처 로그 변환\n",
    "- V14 피처의 이상치 데이터 삭제"
   ]
  },
  {
   "cell_type": "code",
   "execution_count": 40,
   "id": "18165d44-86c5-496f-8a74-10dfab8948f0",
   "metadata": {},
   "outputs": [],
   "source": [
    "# 이상치 데이터 삭제하는 로직 추가\n",
    "\n",
    "# get_processed_df( )를 로그 변환 후 V14 피처의 이상치 데이터를 삭제하는 로직으로 변경. \n",
    "def get_preprocessed_df(df=None):\n",
    "    df_copy = df.copy()\n",
    "    amount_n = np.log1p(df_copy['Amount'])\n",
    "    df_copy.insert(0, 'Amount_Scaled', amount_n)\n",
    "    df_copy.drop(['Time','Amount'], axis=1, inplace=True)\n",
    "    \n",
    "    # 이상치 데이터 삭제하는 로직 추가\n",
    "    outlier_index = get_outlier(df=df_copy, column='V14', weight=1.5)\n",
    "    df_copy.drop(outlier_index, axis=0, inplace=True) # axis=0 : 행 삭제\n",
    "    return df_copy"
   ]
  },
  {
   "cell_type": "markdown",
   "id": "544d88e6-2973-40dd-97d8-b7f82cb8382f",
   "metadata": {},
   "source": [
    "### 로그변환, 이상치 제거 후 모델들을 재 학습/예측/평가"
   ]
  },
  {
   "cell_type": "code",
   "execution_count": 41,
   "id": "1c85dbdd-9d33-4217-8f89-9de1b1b1db12",
   "metadata": {},
   "outputs": [
    {
     "name": "stdout",
     "output_type": "stream",
     "text": [
      "### 로지스틱 회귀 예측 성능 ###\n",
      "오차 행렬\n",
      "[[85281    14]\n",
      " [   48    98]]\n",
      "정확도: 0.9993, 정밀도: 0.8750, 재현율: 0.6712, F1: 0.7597, AUC:0.9743\n",
      "### LightGBM 예측 성능 ###\n",
      "오차 행렬\n",
      "[[85290     5]\n",
      " [   25   121]]\n",
      "정확도: 0.9996, 정밀도: 0.9603, 재현율: 0.8288, F1: 0.8897, AUC:0.9780\n"
     ]
    }
   ],
   "source": [
    "X_train, X_test, y_train, y_test = get_train_test_dataset(card_df)\n",
    "\n",
    "print('### 로지스틱 회귀 예측 성능 ###')\n",
    "get_model_train_eval(lr_clf, ftr_train=X_train, ftr_test=X_test, tgt_train=y_train, tgt_test=y_test)\n",
    "\n",
    "print('### LightGBM 예측 성능 ###')\n",
    "get_model_train_eval(lgbm_clf, ftr_train=X_train, ftr_test=X_test, tgt_train=y_train, tgt_test=y_test)"
   ]
  },
  {
   "cell_type": "markdown",
   "id": "b9690295-6ac6-4a75-8b29-2e95d4f3d3d5",
   "metadata": {},
   "source": [
    "    => 이상치 제거 후 로지스틱 회귀와 LightGBM 모두 예측 성능이 크게 향상됨"
   ]
  },
  {
   "cell_type": "markdown",
   "id": "88fc9351-6f7a-497c-822e-f16c1e97e903",
   "metadata": {},
   "source": [
    "## SMOTE 오버 샘플링 적용 후 모델 학습/예측/평가"
   ]
  },
  {
   "cell_type": "code",
   "execution_count": 44,
   "id": "2466e44c-9a76-4d62-ad85-2530b2f783ee",
   "metadata": {},
   "outputs": [
    {
     "name": "stdout",
     "output_type": "stream",
     "text": [
      "SMOTE 적용 전 학습용 피처/레이블 데이터 세트:  (199362, 29) (199362,)\n",
      "SMOTE 적용 후 학습용 피처/레이블 데이터 세트:  (398040, 29) (398040,)\n",
      "SMOTE 적용 후 레이블 값 분포: \n",
      " 0    199020\n",
      "1    199020\n",
      "Name: Class, dtype: int64\n"
     ]
    }
   ],
   "source": [
    "from imblearn.over_sampling import SMOTE\n",
    "\n",
    "# SMOTE 객체 생성\n",
    "smote = SMOTE(random_state=0) \n",
    "\n",
    "# train 데이터 세트로 들어오는 값들에 대해서 오버샘플링 시작\n",
    "# 타겟값의 분포에 맞춰 피처값 생성\n",
    "\n",
    "# 교재 smote.fit_sample()의 경우 : 'SMOTE' object has no attribute 'fit_sample' 오류 메시지발생\n",
    "# smote.fit_resample()로 변경\n",
    "\n",
    "X_train_over, y_train_over = smote.fit_resample(X_train, y_train)\n",
    "\n",
    "# 전체 데이터 : 284,807 \n",
    "# 테스트 : 30 %, train : 70 %\n",
    "print('SMOTE 적용 전 학습용 피처/레이블 데이터 세트: ', X_train.shape, y_train.shape)\n",
    "print('SMOTE 적용 후 학습용 피처/레이블 데이터 세트: ', X_train_over.shape, y_train_over.shape)\n",
    "print('SMOTE 적용 후 레이블 값 분포: \\n', pd.Series(y_train_over).value_counts())"
   ]
  },
  {
   "cell_type": "code",
   "execution_count": 45,
   "id": "e361a13c-9b03-4adc-bb82-0dee73ea3f0c",
   "metadata": {},
   "outputs": [
    {
     "data": {
      "text/plain": [
       "0    199020\n",
       "1       342\n",
       "Name: Class, dtype: int64"
      ]
     },
     "execution_count": 45,
     "metadata": {},
     "output_type": "execute_result"
    }
   ],
   "source": [
    "# 원래는 이랬음\n",
    "y_train.value_counts()\n",
    "# 전체 0.1 % 만 1 값이었음"
   ]
  },
  {
   "cell_type": "markdown",
   "id": "0baeb07a-0e14-4692-8195-ec2cfe843515",
   "metadata": {},
   "source": [
    "###  오버샘플링된 데이터로 로지스틱 회귀로 학습/예측/평가"
   ]
  },
  {
   "cell_type": "code",
   "execution_count": 46,
   "id": "00895a52-541a-419d-9b39-773fc258e12c",
   "metadata": {},
   "outputs": [
    {
     "name": "stdout",
     "output_type": "stream",
     "text": [
      "오차 행렬\n",
      "[[82937  2358]\n",
      " [   11   135]]\n",
      "정확도: 0.9723, 정밀도: 0.0542, 재현율: 0.9247, F1: 0.1023, AUC:0.9737\n"
     ]
    }
   ],
   "source": [
    "# 증식된 데이터에 기반해서 다시 모델 학습/예측/평가 \n",
    "\n",
    "lr_clf = LogisticRegression()\n",
    "# ftr_train과 tgt_train 인자값이 SMOTE 증식된 X_train_over와 y_train_over로 변경됨에 유의\n",
    "get_model_train_eval(lr_clf, ftr_train=X_train_over, ftr_test=X_test, \n",
    "                     tgt_train=y_train_over, tgt_test=y_test)"
   ]
  },
  {
   "cell_type": "markdown",
   "id": "f4a6e3df-f2de-43cc-b97e-2067159f9f76",
   "metadata": {},
   "source": [
    "**Precision-Recall 곡선 시각화**"
   ]
  },
  {
   "cell_type": "code",
   "execution_count": 47,
   "id": "f845f4e9-8a08-4bd0-87d9-dbfdd4e20857",
   "metadata": {},
   "outputs": [],
   "source": [
    "# 3장에서 사용한 것 그대로 복사해서 사용\n",
    "\n",
    "import matplotlib.pyplot as plt\n",
    "import matplotlib.ticker as ticker\n",
    "from sklearn.metrics import precision_recall_curve\n",
    "get_ipython().run_line_magic('matplotlib', 'inline')\n",
    "\n",
    "def precision_recall_curve_plot(y_test , pred_proba_c1):\n",
    "    # threshold ndarray와 이 threshold에 따른 정밀도, 재현율 ndarray 추출. \n",
    "    precisions, recalls, thresholds = precision_recall_curve( y_test, pred_proba_c1)\n",
    "    \n",
    "    # X축을 threshold값으로, Y축은 정밀도, 재현율 값으로 각각 Plot 수행. 정밀도는 점선으로 표시\n",
    "    plt.figure(figsize=(8,6))\n",
    "    threshold_boundary = thresholds.shape[0]\n",
    "    plt.plot(thresholds, precisions[0:threshold_boundary], linestyle='--', label='precision')\n",
    "    plt.plot(thresholds, recalls[0:threshold_boundary],label='recall')\n",
    "    \n",
    "    # threshold 값 X 축의 Scale을 0.1 단위로 변경\n",
    "    start, end = plt.xlim()\n",
    "    plt.xticks(np.round(np.arange(start, end, 0.1),2))\n",
    "    \n",
    "    # x축, y축 label과 legend, 그리고 grid 설정\n",
    "    plt.xlabel('Threshold value'); plt.ylabel('Precision and Recall value')\n",
    "    plt.legend(); plt.grid()\n",
    "    plt.show()"
   ]
  },
  {
   "cell_type": "code",
   "execution_count": 48,
   "id": "29173e71-c9b7-479c-a614-b80eef103cfd",
   "metadata": {},
   "outputs": [
    {
     "data": {
      "image/png": "[encoded data removed]",
      "text/plain": [
       "<Figure size 576x432 with 1 Axes>"
      ]
     },
     "metadata": {
      "needs_background": "light"
     },
     "output_type": "display_data"
    }
   ],
   "source": [
    "precision_recall_curve_plot( y_test, lr_clf.predict_proba(X_test)[:, 1] )\n",
    "# 재현율은 좋은데 정밀도 너무 낮음"
   ]
  },
  {
   "cell_type": "markdown",
   "id": "f9cac30c-9829-4bfe-a391-e5c1b1884ae1",
   "metadata": {},
   "source": [
    "### 오버샘플링된 데이터로 LightGBM 모델 적용"
   ]
  },
  {
   "cell_type": "code",
   "execution_count": 50,
   "id": "2a2ff43b-7100-4638-95a7-657abae2aaad",
   "metadata": {},
   "outputs": [
    {
     "name": "stdout",
     "output_type": "stream",
     "text": [
      "오차 행렬\n",
      "[[85283    12]\n",
      " [   22   124]]\n",
      "정확도: 0.9996, 정밀도: 0.9118, 재현율: 0.8493, F1: 0.8794, AUC:0.9814\n"
     ]
    }
   ],
   "source": [
    "lgbm_clf = LGBMClassifier(n_estimators=1000, num_leaves=64, n_jobs=-1, boost_from_average=False)\n",
    "\n",
    "# 샘플링된 데이터 세트 사용\n",
    "get_model_train_eval(lgbm_clf, ftr_train=X_train_over, ftr_test=X_test,\n",
    "                  tgt_train=y_train_over, tgt_test=y_test)"
   ]
  },
  {
   "cell_type": "code",
   "execution_count": 51,
   "id": "e5a9ab54-eda3-4116-9617-bb009c73f705",
   "metadata": {},
   "outputs": [
    {
     "data": {
      "image/png": "[encoded data removed]",
      "text/plain": [
       "<Figure size 576x432 with 1 Axes>"
      ]
     },
     "metadata": {
      "needs_background": "light"
     },
     "output_type": "display_data"
    }
   ],
   "source": [
    "precision_recall_curve_plot( y_test, lgbm_clf.predict_proba(X_test)[:, 1] )"
   ]
  },
  {
   "cell_type": "code",
   "execution_count": 52,
   "id": "6c3c8d6b-03d7-43a2-9625-e5c3e4d19ee4",
   "metadata": {},
   "outputs": [],
   "source": [
    "# ![image.png](attachment:image.png)\n",
    "\n",
    "# - SMOTE 오버샘플링된 경우의 재현율이 이상치만 제거한 경우 보다 더 높아짐\n",
    "# - SMOTE를 적용하면 재현율은 높아지나 정밀도는 낮아지는 것이 일반적임\n",
    "# - 좋은 SMOTE 패키지일수록 재현율 증가율을 높이고, 정밀도 감소율은 낮출 수 있도록 효과적으로 데이터를 증식함"
   ]
  },
  {
   "cell_type": "code",
   "execution_count": null,
   "id": "0d2d3fef-36d5-46d5-85c4-465741f7a047",
   "metadata": {},
   "outputs": [],
   "source": []
  }
 ],
 "metadata": {
  "kernelspec": {
   "display_name": "Multi",
   "language": "python",
   "name": "multi"
  },
  "language_info": {
   "codemirror_mode": {
    "name": "ipython",
    "version": 3
   },
   "file_extension": ".py",
   "mimetype": "text/x-python",
   "name": "python",
   "nbconvert_exporter": "python",
   "pygments_lexer": "ipython3",
   "version": "3.7.10"
  }
 },
 "nbformat": 4,
 "nbformat_minor": 5
}
