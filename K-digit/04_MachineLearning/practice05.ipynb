{
 "cells": [
  {
   "cell_type": "markdown",
   "id": "d61b651f-18dc-4ca9-8244-3bf8bfb0372e",
   "metadata": {},
   "source": [
    "<!-- # # 데이터 전처리\n",
    "\n",
    "# - 데이터를 분석하기에 좋은 형태로 만드는 과정\n",
    "# - Garbage In Garbage Out\n",
    "#     - 데이터 전처리가 중요한 근본적인 이유\n",
    "#     - 데이터 품질은 분석 결과 품질의 출발점\n",
    "#     \n",
    "# ![image.png](attachment:image.png)\n",
    "\n",
    "# ### 데이터 전처리의 필요성\n",
    "# - 데이터 품질이 높은 경우에도 전처리 필요\n",
    "#     - 구조적 형태가 분석 목적에 적합하지 않은 경우\n",
    "#     - 사용하는 툴, 기법에서 요구하는 데이터 형태\n",
    "#     - 데이터가 너무 많은 경우\n",
    "#     - 데이터 분석의 레벨이 데이터 저장 레벨과 다른 경우\n",
    "# \n",
    "# \n",
    "# - 데이터 품질을 낮추는 요인\n",
    "#     - 불완전(incomplete) : 데이터 필드가 비어 있는 경우\n",
    "#     - 잡음(noise) : 데이터에 오류가 포함된 경우\n",
    "#     - 모순(inconsistency) : 데이터 간 정합성, 일관성이 결여된 경우\n",
    "\n",
    "# ### 데이터 전처리 주요 기법\n",
    "# - 데이터 정제\n",
    "#     - 결측치, 이상치, 잡음\n",
    "# \n",
    "# \n",
    "# - 데이터 결합\n",
    "# \n",
    "# \n",
    "# - 데이터 변환\n",
    "#     - Normalization, scaling\n",
    "# \n",
    "# \n",
    "# - 차원 축소\n",
    "#     - Feature selection\n",
    "#         - filter, wrapper, embedded\n",
    "#     - Feature extraction\n",
    "#         - PCA, SVD, FA, NMF\n",
    "# \n",
    "# \n",
    "# ![image-2.png](attachment:image-2.png)\n",
    "\n",
    "# ### 결측값(missing value) 처리\n",
    "# - 해당 데이터 행을 모두 제거(완전제거법)\n",
    "# - 수작업으로 채워 넣음\n",
    "# - 특정값 사용\n",
    "# - 핫덱(hot-deck) 대체법\n",
    "#     - 동일한 조사에서 다른 관측값으로부터 얻은 자료를 이용해 대체\n",
    "#     - 관측값 중 결측치와 비슷한 특성을 가진 것을 무작위 추출하여 대체\n",
    "# - 평균값 사용 (전체 평균 혹은 기준 속성 평균)\n",
    "#     - 표준오차 과소추정 발생\n",
    "# - 가장 가능성이 높은 값 사용 (회귀분석, 보간법 등)\n",
    "\n",
    "# ## 데이터 인코딩\n",
    "# \n",
    "# - 문자열을 숫자형으로 변환\n",
    "# \n",
    "# \n",
    "# - 인코딩 방식\n",
    "#     - 레이블 인코딩(Label encoding)\n",
    "#     - 원-핫 인코딩(One-hot encoding)\n",
    "\n",
    "# ### 레이블 인코딩 (Label encoding)\n",
    "# - 문자열 데이터를 숫자로 코드화\n",
    "# - 범주형 자료의 수치화\n",
    "# \n",
    "# ![image.png](attachment:image.png)\n",
    "\n",
    "# **사이킷런의 레이블 인코딩 클래스 : LabelEncoder**\n",
    "# 1. LabelEncoder 객체 생성\n",
    "# 2. fit() 메서드\n",
    "#     - 레이블 인코더를 맞춤\n",
    "# 3. transform() 메서드\n",
    "#     - 인코딩된 레이블 반환\n",
    " -->"
   ]
  },
  {
   "cell_type": "markdown",
   "id": "bfd630ce-a0e0-4415-abfc-6ddbd594b499",
   "metadata": {},
   "source": [
    "# 데이터 전처리\n",
    "\n",
    "- 데이터를 분석하기에 좋은 형태로 만드는 과정\n",
    "- Garbage In Garbage Out\n",
    "    - 데이터 전처리가 중요한 근본적인 이유\n",
    "    - 데이터 품질은 분석 결과 품질의 출발점\n",
    "    \n",
    "\n",
    "### 데이터 전처리의 필요성\n",
    "- 데이터 품질이 높은 경우에도 전처리 필요\n",
    "    - 구조적 형태가 분석 목적에 적합하지 않은 경우\n",
    "    - 사용하는 툴, 기법에서 요구하는 데이터 형태\n",
    "    - 데이터가 너무 많은 경우\n",
    "    - 데이터 분석의 레벨이 데이터 저장 레벨과 다른 경우\n",
    "\n",
    "\n",
    "- 데이터 품질을 낮추는 요인\n",
    "    - 불완전(incomplete) : 데이터 필드가 비어 있는 경우\n",
    "    - 잡음(noise) : 데이터에 오류가 포함된 경우\n",
    "    - 모순(inconsistency) : 데이터 간 정합성, 일관성이 결여된 경우\n",
    "\n",
    "### 데이터 전처리 주요 기법\n",
    "- 데이터 정제\n",
    "    - 결측치, 이상치, 잡음\n",
    "\n",
    "\n",
    "- 데이터 결합\n",
    "\n",
    "\n",
    "- 데이터 변환\n",
    "    - Normalization, scaling\n",
    "\n",
    "\n",
    "- 차원 축소\n",
    "    - Feature selection\n",
    "        - filter, wrapper, embedded\n",
    "    - Feature extraction\n",
    "        - PCA, SVD, FA, NMF\n",
    "\n",
    "\n",
    "### 결측값(missing value) 처리\n",
    "- 해당 데이터 행을 모두 제거(완전제거법)\n",
    "- 수작업으로 채워 넣음\n",
    "- 특정값 사용\n",
    "- 핫덱(hot-deck) 대체법\n",
    "    - 동일한 조사에서 다른 관측값으로부터 얻은 자료를 이용해 대체\n",
    "    - 관측값 중 결측치와 비슷한 특성을 가진 것을 무작위 추출하여 대체\n",
    "- 평균값 사용 (전체 평균 혹은 기준 속성 평균)\n",
    "    - 표준오차 과소추정 발생\n",
    "- 가장 가능성이 높은 값 사용 (회귀분석, 보간법 등)\n",
    "\n",
    "## 데이터 인코딩\n",
    "\n",
    "- 문자열을 숫자형으로 변환\n",
    "\n",
    "\n",
    "- 인코딩 방식\n",
    "    - 레이블 인코딩(Label encoding)\n",
    "    - 원-핫 인코딩(One-hot encoding)\n",
    "\n",
    "### 레이블 인코딩 (Label encoding)\n",
    "- 문자열 데이터를 숫자로 코드화\n",
    "- 범주형 자료의 수치화\n",
    "\n",
    "\n",
    "**사이킷런의 레이블 인코딩 클래스 : LabelEncoder**\n",
    "1. LabelEncoder 객체 생성\n",
    "2. fit() 메서드\n",
    "    - 레이블 인코더를 맞춤\n",
    "3. transform() 메서드\n",
    "    - 인코딩된 레이블 반환"
   ]
  },
  {
   "cell_type": "code",
   "execution_count": 1,
   "id": "0abdee9b-1084-4384-9ced-f4b2ce6cfa41",
   "metadata": {},
   "outputs": [
    {
     "name": "stdout",
     "output_type": "stream",
     "text": [
      "[0 1 4 5 3 3 2 2]\n"
     ]
    }
   ],
   "source": [
    "from sklearn.preprocessing import LabelEncoder\n",
    "\n",
    "items = ['TV', '냉장고', '전자렌지', '컴퓨터', '선풍기', '선풍기', '믹서', '믹서']\n",
    "encoder = LabelEncoder()\n",
    "encoder.fit(items)\n",
    "labels = encoder.transform(items)\n",
    "print(labels)"
   ]
  },
  {
   "cell_type": "code",
   "execution_count": 2,
   "id": "145f220c-ae72-4667-915f-7f6e11c1bf78",
   "metadata": {},
   "outputs": [],
   "source": [
    "# LabelEncoder 객체의 classes_ : 인코딩된 문자열 값 목록 확인"
   ]
  },
  {
   "cell_type": "code",
   "execution_count": 3,
   "id": "1a6fedba-8ba7-4e84-a817-43025a892701",
   "metadata": {},
   "outputs": [
    {
     "data": {
      "text/plain": [
       "array(['TV', '냉장고', '믹서', '선풍기', '전자렌지', '컴퓨터'], dtype='<U4')"
      ]
     },
     "execution_count": 3,
     "metadata": {},
     "output_type": "execute_result"
    }
   ],
   "source": [
    "# 인코딩 전 원래의 값 확인 : encoder.classes_ 속성\n",
    "encoder.classes_"
   ]
  },
  {
   "cell_type": "code",
   "execution_count": 4,
   "id": "f454448c-354b-4c2b-849d-459ebc96d22a",
   "metadata": {},
   "outputs": [],
   "source": [
    "# inverse_transform() : 인코딩된 값을 다시 디코딩"
   ]
  },
  {
   "cell_type": "code",
   "execution_count": 5,
   "id": "6af557fc-8452-440c-80c4-8888c9f6b146",
   "metadata": {},
   "outputs": [
    {
     "data": {
      "text/plain": [
       "array(['선풍기', 'TV', '믹서', '냉장고'], dtype='<U4')"
      ]
     },
     "execution_count": 5,
     "metadata": {},
     "output_type": "execute_result"
    }
   ],
   "source": [
    "encoder.inverse_transform([3, 0, 2, 1])"
   ]
  },
  {
   "cell_type": "markdown",
   "id": "866c9673-711c-4273-bc43-29e1c148c20a",
   "metadata": {},
   "source": [
    "- 레이블 인코딩된 데이터른 회귀와 같은 ML 알고리즘에 적용해서는 안됨\n",
    "    - 변환된 수치의 크기가 의미가 없기 때문에\n",
    "\n",
    "### 원-핫 인코딩(One-Hot encoding)\n",
    "\n",
    "- feature 값의 유형에 따라 새로운 feature를 추가하여\n",
    "- 고유 값에 해당하는 컬럼만 1을 표시하고 나머지 컬럼에는 0을 표시\n",
    "\n",
    "- 범주형 변수를 독립변수로 갖는 회귀분석의 경우 범주형 변수를 dummy 변수로 변환\n",
    "\n",
    "**사이킷런에서 원-핫 인코딩 클래스 : OneHotEncoder**\n",
    "\n",
    "**원-핫 인코딩 변환 과정**\n",
    "1. 문자열 값을 숫자형 값으로 변환\n",
    "2. 입력 값을 2차원 데이터로 변환\n",
    "3. OneHotEncoder 클래스로 원-핫 인코딩 적용\n",
    "    - fit()\n",
    "    - transform()"
   ]
  },
  {
   "cell_type": "code",
   "execution_count": 6,
   "id": "0b92125d-2292-4439-a2fc-d222388166c2",
   "metadata": {},
   "outputs": [
    {
     "data": {
      "text/plain": [
       "array([0, 1, 4, 5, 3, 3, 2, 2], dtype=int64)"
      ]
     },
     "execution_count": 6,
     "metadata": {},
     "output_type": "execute_result"
    }
   ],
   "source": [
    "from sklearn.preprocessing import OneHotEncoder, LabelEncoder\n",
    "import numpy as np\n",
    "\n",
    "items=['TV','냉장고','전자렌지','컴퓨터','선풍기','선풍기','믹서','믹서']\n",
    "\n",
    "# 1. 먼저 숫자값으로 변환을 위해 LabelEncoder로 변환 \n",
    "encoder = LabelEncoder()\n",
    "encoder.fit(items)\n",
    "labels = encoder.transform(items)\n",
    "labels"
   ]
  },
  {
   "cell_type": "code",
   "execution_count": 8,
   "id": "2597e10f-de09-4fcc-a5bd-d69be4ebf939",
   "metadata": {},
   "outputs": [
    {
     "data": {
      "text/plain": [
       "array([[0],\n",
       "       [1],\n",
       "       [4],\n",
       "       [5],\n",
       "       [3],\n",
       "       [3],\n",
       "       [2],\n",
       "       [2]], dtype=int64)"
      ]
     },
     "execution_count": 8,
     "metadata": {},
     "output_type": "execute_result"
    }
   ],
   "source": [
    "# 2. 2차원 데이터로 변환\n",
    "labels = labels.reshape(-1, 1)  # ( , 1)\n",
    "labels"
   ]
  },
  {
   "cell_type": "code",
   "execution_count": 9,
   "id": "8c73e608-bf19-473b-a6f9-66536e0708fe",
   "metadata": {},
   "outputs": [
    {
     "data": {
      "text/plain": [
       "<8x6 sparse matrix of type '<class 'numpy.float64'>'\n",
       "\twith 8 stored elements in Compressed Sparse Row format>"
      ]
     },
     "execution_count": 9,
     "metadata": {},
     "output_type": "execute_result"
    }
   ],
   "source": [
    "# 3. 원-핫 인코딩을 적용 \n",
    "one_encoder = OneHotEncoder()\n",
    "one_encoder.fit(labels)\n",
    "one_labels = one_encoder.transform(labels)\n",
    "one_labels"
   ]
  },
  {
   "cell_type": "code",
   "execution_count": 10,
   "id": "2c53e64a-14db-46e3-bce0-44f9c2b80314",
   "metadata": {},
   "outputs": [],
   "source": [
    "# sparse matrix : 희소행렬 (행렬의 값이 대부분 0인 경우)"
   ]
  },
  {
   "cell_type": "code",
   "execution_count": 11,
   "id": "b3215b8d-efea-4dbd-8ff4-007bb0c90a6f",
   "metadata": {},
   "outputs": [
    {
     "name": "stdout",
     "output_type": "stream",
     "text": [
      "  (0, 0)\t1.0\n",
      "  (1, 1)\t1.0\n",
      "  (2, 4)\t1.0\n",
      "  (3, 5)\t1.0\n",
      "  (4, 3)\t1.0\n",
      "  (5, 3)\t1.0\n",
      "  (6, 2)\t1.0\n",
      "  (7, 2)\t1.0\n"
     ]
    }
   ],
   "source": [
    "print(one_labels)"
   ]
  },
  {
   "cell_type": "code",
   "execution_count": 12,
   "id": "c5908db6-050b-40b7-bced-46d241e87312",
   "metadata": {},
   "outputs": [
    {
     "data": {
      "text/plain": [
       "array([[1., 0., 0., 0., 0., 0.],\n",
       "       [0., 1., 0., 0., 0., 0.],\n",
       "       [0., 0., 0., 0., 1., 0.],\n",
       "       [0., 0., 0., 0., 0., 1.],\n",
       "       [0., 0., 0., 1., 0., 0.],\n",
       "       [0., 0., 0., 1., 0., 0.],\n",
       "       [0., 0., 1., 0., 0., 0.],\n",
       "       [0., 0., 1., 0., 0., 0.]])"
      ]
     },
     "execution_count": 12,
     "metadata": {},
     "output_type": "execute_result"
    }
   ],
   "source": [
    "# 2차원 형태로 출력\n",
    "one_labels.toarray()"
   ]
  },
  {
   "cell_type": "code",
   "execution_count": 13,
   "id": "2d04330a-aeaf-4e01-8d08-268da360efaa",
   "metadata": {},
   "outputs": [
    {
     "name": "stdout",
     "output_type": "stream",
     "text": [
      "원-핫 인코딩 데이터\n",
      "[[1. 0. 0. 0. 0. 0.]\n",
      " [0. 1. 0. 0. 0. 0.]\n",
      " [0. 0. 0. 0. 1. 0.]\n",
      " [0. 0. 0. 0. 0. 1.]\n",
      " [0. 0. 0. 1. 0. 0.]\n",
      " [0. 0. 0. 1. 0. 0.]\n",
      " [0. 0. 1. 0. 0. 0.]\n",
      " [0. 0. 1. 0. 0. 0.]]\n",
      "원-핫 인코딩 데이터 차원\n",
      "(8, 6)\n"
     ]
    }
   ],
   "source": [
    "# 원-핫 인코딩 전체 과정\n",
    "\n",
    "from sklearn.preprocessing import OneHotEncoder, LabelEncoder\n",
    "import numpy as np\n",
    "\n",
    "items=['TV','냉장고','전자렌지','컴퓨터','선풍기','선풍기','믹서','믹서']\n",
    "\n",
    "# 1. 먼저 숫자값으로 변환을 위해 LabelEncoder로 변환 \n",
    "encoder = LabelEncoder()\n",
    "encoder.fit(items)\n",
    "labels = encoder.transform(items)\n",
    "\n",
    "# 2. 2차원 데이터로 변환합니다. \n",
    "labels = labels.reshape(-1,1)\n",
    "\n",
    "# 3. 원-핫 인코딩을 적용합니다. \n",
    "oh_encoder = OneHotEncoder()\n",
    "oh_encoder.fit(labels)\n",
    "oh_labels = oh_encoder.transform(labels)\n",
    "\n",
    "print('원-핫 인코딩 데이터')\n",
    "print(oh_labels.toarray())\n",
    "print('원-핫 인코딩 데이터 차원')\n",
    "print(oh_labels.shape)"
   ]
  },
  {
   "cell_type": "markdown",
   "id": "ff7017e1-580d-4a77-99c3-2672a9d3ed0b",
   "metadata": {},
   "source": [
    "### Pandas API 사용 원-핫 인코딩 수행\n",
    "- get_dummies() 메서드 사용\n",
    "- 숫자형으로 변환없이 바로 변환"
   ]
  },
  {
   "cell_type": "code",
   "execution_count": 14,
   "id": "0fca17f7-6b9c-4642-bbcd-e9a49ff9b8a3",
   "metadata": {},
   "outputs": [
    {
     "data": {
      "text/html": [
       "<div>\n",
       "<style scoped>\n",
       "    .dataframe tbody tr th:only-of-type {\n",
       "        vertical-align: middle;\n",
       "    }\n",
       "\n",
       "    .dataframe tbody tr th {\n",
       "        vertical-align: top;\n",
       "    }\n",
       "\n",
       "    .dataframe thead th {\n",
       "        text-align: right;\n",
       "    }\n",
       "</style>\n",
       "<table border=\"1\" class=\"dataframe\">\n",
       "  <thead>\n",
       "    <tr style=\"text-align: right;\">\n",
       "      <th></th>\n",
       "      <th>item</th>\n",
       "    </tr>\n",
       "  </thead>\n",
       "  <tbody>\n",
       "    <tr>\n",
       "      <th>0</th>\n",
       "      <td>TV</td>\n",
       "    </tr>\n",
       "    <tr>\n",
       "      <th>1</th>\n",
       "      <td>냉장고</td>\n",
       "    </tr>\n",
       "    <tr>\n",
       "      <th>2</th>\n",
       "      <td>전자렌지</td>\n",
       "    </tr>\n",
       "    <tr>\n",
       "      <th>3</th>\n",
       "      <td>컴퓨터</td>\n",
       "    </tr>\n",
       "    <tr>\n",
       "      <th>4</th>\n",
       "      <td>선풍기</td>\n",
       "    </tr>\n",
       "    <tr>\n",
       "      <th>5</th>\n",
       "      <td>선풍기</td>\n",
       "    </tr>\n",
       "    <tr>\n",
       "      <th>6</th>\n",
       "      <td>믹서</td>\n",
       "    </tr>\n",
       "    <tr>\n",
       "      <th>7</th>\n",
       "      <td>믹서</td>\n",
       "    </tr>\n",
       "  </tbody>\n",
       "</table>\n",
       "</div>"
      ],
      "text/plain": [
       "   item\n",
       "0    TV\n",
       "1   냉장고\n",
       "2  전자렌지\n",
       "3   컴퓨터\n",
       "4   선풍기\n",
       "5   선풍기\n",
       "6    믹서\n",
       "7    믹서"
      ]
     },
     "execution_count": 14,
     "metadata": {},
     "output_type": "execute_result"
    }
   ],
   "source": [
    "import pandas as pd\n",
    "\n",
    "df = pd.DataFrame({'item':['TV','냉장고','전자렌지','컴퓨터','선풍기','선풍기','믹서','믹서']})\n",
    "df"
   ]
  },
  {
   "cell_type": "code",
   "execution_count": 15,
   "id": "dcb6d737-b5f3-46d2-817f-42492ab942eb",
   "metadata": {},
   "outputs": [
    {
     "data": {
      "text/html": [
       "<div>\n",
       "<style scoped>\n",
       "    .dataframe tbody tr th:only-of-type {\n",
       "        vertical-align: middle;\n",
       "    }\n",
       "\n",
       "    .dataframe tbody tr th {\n",
       "        vertical-align: top;\n",
       "    }\n",
       "\n",
       "    .dataframe thead th {\n",
       "        text-align: right;\n",
       "    }\n",
       "</style>\n",
       "<table border=\"1\" class=\"dataframe\">\n",
       "  <thead>\n",
       "    <tr style=\"text-align: right;\">\n",
       "      <th></th>\n",
       "      <th>item_TV</th>\n",
       "      <th>item_냉장고</th>\n",
       "      <th>item_믹서</th>\n",
       "      <th>item_선풍기</th>\n",
       "      <th>item_전자렌지</th>\n",
       "      <th>item_컴퓨터</th>\n",
       "    </tr>\n",
       "  </thead>\n",
       "  <tbody>\n",
       "    <tr>\n",
       "      <th>0</th>\n",
       "      <td>1</td>\n",
       "      <td>0</td>\n",
       "      <td>0</td>\n",
       "      <td>0</td>\n",
       "      <td>0</td>\n",
       "      <td>0</td>\n",
       "    </tr>\n",
       "    <tr>\n",
       "      <th>1</th>\n",
       "      <td>0</td>\n",
       "      <td>1</td>\n",
       "      <td>0</td>\n",
       "      <td>0</td>\n",
       "      <td>0</td>\n",
       "      <td>0</td>\n",
       "    </tr>\n",
       "    <tr>\n",
       "      <th>2</th>\n",
       "      <td>0</td>\n",
       "      <td>0</td>\n",
       "      <td>0</td>\n",
       "      <td>0</td>\n",
       "      <td>1</td>\n",
       "      <td>0</td>\n",
       "    </tr>\n",
       "    <tr>\n",
       "      <th>3</th>\n",
       "      <td>0</td>\n",
       "      <td>0</td>\n",
       "      <td>0</td>\n",
       "      <td>0</td>\n",
       "      <td>0</td>\n",
       "      <td>1</td>\n",
       "    </tr>\n",
       "    <tr>\n",
       "      <th>4</th>\n",
       "      <td>0</td>\n",
       "      <td>0</td>\n",
       "      <td>0</td>\n",
       "      <td>1</td>\n",
       "      <td>0</td>\n",
       "      <td>0</td>\n",
       "    </tr>\n",
       "    <tr>\n",
       "      <th>5</th>\n",
       "      <td>0</td>\n",
       "      <td>0</td>\n",
       "      <td>0</td>\n",
       "      <td>1</td>\n",
       "      <td>0</td>\n",
       "      <td>0</td>\n",
       "    </tr>\n",
       "    <tr>\n",
       "      <th>6</th>\n",
       "      <td>0</td>\n",
       "      <td>0</td>\n",
       "      <td>1</td>\n",
       "      <td>0</td>\n",
       "      <td>0</td>\n",
       "      <td>0</td>\n",
       "    </tr>\n",
       "    <tr>\n",
       "      <th>7</th>\n",
       "      <td>0</td>\n",
       "      <td>0</td>\n",
       "      <td>1</td>\n",
       "      <td>0</td>\n",
       "      <td>0</td>\n",
       "      <td>0</td>\n",
       "    </tr>\n",
       "  </tbody>\n",
       "</table>\n",
       "</div>"
      ],
      "text/plain": [
       "   item_TV  item_냉장고  item_믹서  item_선풍기  item_전자렌지  item_컴퓨터\n",
       "0        1         0        0         0          0         0\n",
       "1        0         1        0         0          0         0\n",
       "2        0         0        0         0          1         0\n",
       "3        0         0        0         0          0         1\n",
       "4        0         0        0         1          0         0\n",
       "5        0         0        0         1          0         0\n",
       "6        0         0        1         0          0         0\n",
       "7        0         0        1         0          0         0"
      ]
     },
     "execution_count": 15,
     "metadata": {},
     "output_type": "execute_result"
    }
   ],
   "source": [
    "pd.get_dummies(df)"
   ]
  },
  {
   "cell_type": "code",
   "execution_count": 16,
   "id": "b8937a93-646e-4f72-b005-607d4408e278",
   "metadata": {},
   "outputs": [
    {
     "data": {
      "text/plain": [
       "array([[1, 0, 0, 0, 0, 0],\n",
       "       [0, 1, 0, 0, 0, 0],\n",
       "       [0, 0, 0, 0, 1, 0],\n",
       "       [0, 0, 0, 0, 0, 1],\n",
       "       [0, 0, 0, 1, 0, 0],\n",
       "       [0, 0, 0, 1, 0, 0],\n",
       "       [0, 0, 1, 0, 0, 0],\n",
       "       [0, 0, 1, 0, 0, 0]], dtype=uint8)"
      ]
     },
     "execution_count": 16,
     "metadata": {},
     "output_type": "execute_result"
    }
   ],
   "source": [
    "# Pandas 데이터프레임을 NumPy 배열로 변환\n",
    "pd.get_dummies(df).to_numpy()"
   ]
  },
  {
   "cell_type": "markdown",
   "id": "80396b61-0ef4-4892-ba56-fd3cd66427a0",
   "metadata": {},
   "source": [
    "### 피처 스케일링과 정규화\n",
    "\n",
    "- 피처 스케일링(feature scaling)\n",
    "    - 서로 다른 변수의 값 범위를 일정한 수준으로 맞춤\n",
    "\n",
    "- 방식\n",
    "    - Z-scaling\n",
    "        - 표준화(standardization)\n",
    "        - 평균이 0이고 분산이 1인 가우지안 정규분포로 변환\n",
    "        - 정규화(Normalization)\n",
    "        - sklearn.preprocessing의  StandardScaler 모듈\n",
    "\n",
    "    - Min-max\n",
    "        -  0~1로 변환\n",
    "        - sklearn.preprocessing의  MinMaxScaler 모듈\n",
    "\n",
    "    - 벡터 정규화\n",
    "        - Sklearn의 Nomalizer 모듈\n",
    "        - 선형대수의 정규화 개념\n",
    "        - 개별 벡터의 크기를 맞추기 위해 모든 피처벡터의 크기로 나누어 변환\n",
    "\n",
    "StandardScaler\n",
    "* 표준화 지원 클래스\n",
    "* 개별 피처를 평균이 0이고 분산이 1인 값으로 변환\n"
   ]
  },
  {
   "cell_type": "code",
   "execution_count": 17,
   "id": "497c87ad-50e3-4a1a-b650-a485ea3d5ef8",
   "metadata": {},
   "outputs": [
    {
     "name": "stdout",
     "output_type": "stream",
     "text": [
      "sepal length (cm)    5.843333\n",
      "sepal width (cm)     3.057333\n",
      "petal length (cm)    3.758000\n",
      "petal width (cm)     1.199333\n",
      "dtype: float64\n",
      "sepal length (cm)    0.828066\n",
      "sepal width (cm)     0.435866\n",
      "petal length (cm)    1.765298\n",
      "petal width (cm)     0.762238\n",
      "dtype: float64\n"
     ]
    }
   ],
   "source": [
    "from sklearn.datasets import load_iris\n",
    "import pandas as pd\n",
    "# 붓꽃 데이터 셋을 로딩하고 DataFrame으로 변환\n",
    "\n",
    "iris = load_iris()\n",
    "iris_data = iris.data\n",
    "iris_df = pd.DataFrame(data=iris_data, columns=iris.feature_names)\n",
    "\n",
    "print(iris_df.mean())\n",
    "print(iris_df.std())"
   ]
  },
  {
   "cell_type": "markdown",
   "id": "d955aa6b-7240-4715-9ee1-119da174f7a0",
   "metadata": {},
   "source": [
    "StandardScaler 이용 표준화해서 변환\n",
    "1.  StandardScaler 객체 생성\n",
    "2. fit() : 데이터 변환을 위한 기준 정보 설정\n",
    "3. transform() : fit()에서 설정된 정보를 이용해 데이터 변환\n",
    "    - scale 변환된 데이터 셋이 numpy ndarry로 반환"
   ]
  },
  {
   "cell_type": "code",
   "execution_count": 19,
   "id": "d47dc504-8718-4edb-9cb9-8cddccb610d1",
   "metadata": {},
   "outputs": [
    {
     "name": "stdout",
     "output_type": "stream",
     "text": [
      "sepal length (cm)   -1.690315e-15\n",
      "sepal width (cm)    -1.842970e-15\n",
      "petal length (cm)   -1.698641e-15\n",
      "petal width (cm)    -1.409243e-15\n",
      "dtype: float64\n",
      "sepal length (cm)    1.00335\n",
      "sepal width (cm)     1.00335\n",
      "petal length (cm)    1.00335\n",
      "petal width (cm)     1.00335\n",
      "dtype: float64\n"
     ]
    }
   ],
   "source": [
    "from sklearn.preprocessing import StandardScaler\n",
    "\n",
    "scaler = StandardScaler()\n",
    "scaler.fit(iris_df)\n",
    "iris_scaled = scaler.transform(iris_df)\n",
    "# print(iris_scaled)\n",
    "iris_scaled_df = pd.DataFrame(data=iris_scaled, columns=iris.feature_names)\n",
    "\n",
    "print(iris_scaled_df.mean())\n",
    "print(iris_scaled_df.std())"
   ]
  },
  {
   "cell_type": "markdown",
   "id": "8cc17ffa-a2cf-4a02-ae5c-db0d76c1239f",
   "metadata": {},
   "source": [
    "MinMaxScaler\n",
    "* 데이터값을 0과 1사이의 범위 값으로 변환\n",
    "* 음수인 경우 -1에서 1사이의 값으로 변환\n",
    "* 데이터의 분포가 가우시안 분포가 아닌 경우 Min, Max Scale 적용 가능\n",
    "\n",
    "MinMaxScaler 이용 변환\n",
    "1. MinMaxScaler 객체 생성\n",
    "2. fit()\n",
    "3. transform() : scale 변환된 데이터 셋이 numpy ndarry로 반환"
   ]
  },
  {
   "cell_type": "code",
   "execution_count": 20,
   "id": "4ff14a41-b2db-409f-823e-4ab1085c98e8",
   "metadata": {},
   "outputs": [
    {
     "name": "stdout",
     "output_type": "stream",
     "text": [
      "sepal length (cm)    0.0\n",
      "sepal width (cm)     0.0\n",
      "petal length (cm)    0.0\n",
      "petal width (cm)     0.0\n",
      "dtype: float64\n",
      "sepal length (cm)    1.0\n",
      "sepal width (cm)     1.0\n",
      "petal length (cm)    1.0\n",
      "petal width (cm)     1.0\n",
      "dtype: float64\n"
     ]
    }
   ],
   "source": [
    "from sklearn.preprocessing import MinMaxScaler\n",
    "\n",
    "scaler = MinMaxScaler()\n",
    "scaler.fit(iris_df)\n",
    "iris_scaled = scaler.transform(iris_df)\n",
    "#print(iris_scaled)\n",
    "\n",
    "iris_scaled_df = pd.DataFrame(data=iris_scaled, columns=iris.feature_names)\n",
    "\n",
    "print(iris_scaled_df.min())\n",
    "print(iris_scaled_df.max())"
   ]
  },
  {
   "cell_type": "code",
   "execution_count": 21,
   "id": "122c22e1-fed9-4910-862e-07e4dd7d4a9c",
   "metadata": {},
   "outputs": [
    {
     "data": {
      "text/plain": [
       "array([[0.22222222, 0.625     , 0.06779661, 0.04166667],\n",
       "       [0.16666667, 0.41666667, 0.06779661, 0.04166667],\n",
       "       [0.11111111, 0.5       , 0.05084746, 0.04166667],\n",
       "       [0.08333333, 0.45833333, 0.08474576, 0.04166667],\n",
       "       [0.19444444, 0.66666667, 0.06779661, 0.04166667],\n",
       "       [0.30555556, 0.79166667, 0.11864407, 0.125     ],\n",
       "       [0.08333333, 0.58333333, 0.06779661, 0.08333333],\n",
       "       [0.19444444, 0.58333333, 0.08474576, 0.04166667],\n",
       "       [0.02777778, 0.375     , 0.06779661, 0.04166667],\n",
       "       [0.16666667, 0.45833333, 0.08474576, 0.        ],\n",
       "       [0.30555556, 0.70833333, 0.08474576, 0.04166667],\n",
       "       [0.13888889, 0.58333333, 0.10169492, 0.04166667],\n",
       "       [0.13888889, 0.41666667, 0.06779661, 0.        ],\n",
       "       [0.        , 0.41666667, 0.01694915, 0.        ],\n",
       "       [0.41666667, 0.83333333, 0.03389831, 0.04166667],\n",
       "       [0.38888889, 1.        , 0.08474576, 0.125     ],\n",
       "       [0.30555556, 0.79166667, 0.05084746, 0.125     ],\n",
       "       [0.22222222, 0.625     , 0.06779661, 0.08333333],\n",
       "       [0.38888889, 0.75      , 0.11864407, 0.08333333],\n",
       "       [0.22222222, 0.75      , 0.08474576, 0.08333333],\n",
       "       [0.30555556, 0.58333333, 0.11864407, 0.04166667],\n",
       "       [0.22222222, 0.70833333, 0.08474576, 0.125     ],\n",
       "       [0.08333333, 0.66666667, 0.        , 0.04166667],\n",
       "       [0.22222222, 0.54166667, 0.11864407, 0.16666667],\n",
       "       [0.13888889, 0.58333333, 0.15254237, 0.04166667],\n",
       "       [0.19444444, 0.41666667, 0.10169492, 0.04166667],\n",
       "       [0.19444444, 0.58333333, 0.10169492, 0.125     ],\n",
       "       [0.25      , 0.625     , 0.08474576, 0.04166667],\n",
       "       [0.25      , 0.58333333, 0.06779661, 0.04166667],\n",
       "       [0.11111111, 0.5       , 0.10169492, 0.04166667],\n",
       "       [0.13888889, 0.45833333, 0.10169492, 0.04166667],\n",
       "       [0.30555556, 0.58333333, 0.08474576, 0.125     ],\n",
       "       [0.25      , 0.875     , 0.08474576, 0.        ],\n",
       "       [0.33333333, 0.91666667, 0.06779661, 0.04166667],\n",
       "       [0.16666667, 0.45833333, 0.08474576, 0.04166667],\n",
       "       [0.19444444, 0.5       , 0.03389831, 0.04166667],\n",
       "       [0.33333333, 0.625     , 0.05084746, 0.04166667],\n",
       "       [0.16666667, 0.66666667, 0.06779661, 0.        ],\n",
       "       [0.02777778, 0.41666667, 0.05084746, 0.04166667],\n",
       "       [0.22222222, 0.58333333, 0.08474576, 0.04166667],\n",
       "       [0.19444444, 0.625     , 0.05084746, 0.08333333],\n",
       "       [0.05555556, 0.125     , 0.05084746, 0.08333333],\n",
       "       [0.02777778, 0.5       , 0.05084746, 0.04166667],\n",
       "       [0.19444444, 0.625     , 0.10169492, 0.20833333],\n",
       "       [0.22222222, 0.75      , 0.15254237, 0.125     ],\n",
       "       [0.13888889, 0.41666667, 0.06779661, 0.08333333],\n",
       "       [0.22222222, 0.75      , 0.10169492, 0.04166667],\n",
       "       [0.08333333, 0.5       , 0.06779661, 0.04166667],\n",
       "       [0.27777778, 0.70833333, 0.08474576, 0.04166667],\n",
       "       [0.19444444, 0.54166667, 0.06779661, 0.04166667],\n",
       "       [0.75      , 0.5       , 0.62711864, 0.54166667],\n",
       "       [0.58333333, 0.5       , 0.59322034, 0.58333333],\n",
       "       [0.72222222, 0.45833333, 0.66101695, 0.58333333],\n",
       "       [0.33333333, 0.125     , 0.50847458, 0.5       ],\n",
       "       [0.61111111, 0.33333333, 0.61016949, 0.58333333],\n",
       "       [0.38888889, 0.33333333, 0.59322034, 0.5       ],\n",
       "       [0.55555556, 0.54166667, 0.62711864, 0.625     ],\n",
       "       [0.16666667, 0.16666667, 0.38983051, 0.375     ],\n",
       "       [0.63888889, 0.375     , 0.61016949, 0.5       ],\n",
       "       [0.25      , 0.29166667, 0.49152542, 0.54166667],\n",
       "       [0.19444444, 0.        , 0.42372881, 0.375     ],\n",
       "       [0.44444444, 0.41666667, 0.54237288, 0.58333333],\n",
       "       [0.47222222, 0.08333333, 0.50847458, 0.375     ],\n",
       "       [0.5       , 0.375     , 0.62711864, 0.54166667],\n",
       "       [0.36111111, 0.375     , 0.44067797, 0.5       ],\n",
       "       [0.66666667, 0.45833333, 0.57627119, 0.54166667],\n",
       "       [0.36111111, 0.41666667, 0.59322034, 0.58333333],\n",
       "       [0.41666667, 0.29166667, 0.52542373, 0.375     ],\n",
       "       [0.52777778, 0.08333333, 0.59322034, 0.58333333],\n",
       "       [0.36111111, 0.20833333, 0.49152542, 0.41666667],\n",
       "       [0.44444444, 0.5       , 0.6440678 , 0.70833333],\n",
       "       [0.5       , 0.33333333, 0.50847458, 0.5       ],\n",
       "       [0.55555556, 0.20833333, 0.66101695, 0.58333333],\n",
       "       [0.5       , 0.33333333, 0.62711864, 0.45833333],\n",
       "       [0.58333333, 0.375     , 0.55932203, 0.5       ],\n",
       "       [0.63888889, 0.41666667, 0.57627119, 0.54166667],\n",
       "       [0.69444444, 0.33333333, 0.6440678 , 0.54166667],\n",
       "       [0.66666667, 0.41666667, 0.6779661 , 0.66666667],\n",
       "       [0.47222222, 0.375     , 0.59322034, 0.58333333],\n",
       "       [0.38888889, 0.25      , 0.42372881, 0.375     ],\n",
       "       [0.33333333, 0.16666667, 0.47457627, 0.41666667],\n",
       "       [0.33333333, 0.16666667, 0.45762712, 0.375     ],\n",
       "       [0.41666667, 0.29166667, 0.49152542, 0.45833333],\n",
       "       [0.47222222, 0.29166667, 0.69491525, 0.625     ],\n",
       "       [0.30555556, 0.41666667, 0.59322034, 0.58333333],\n",
       "       [0.47222222, 0.58333333, 0.59322034, 0.625     ],\n",
       "       [0.66666667, 0.45833333, 0.62711864, 0.58333333],\n",
       "       [0.55555556, 0.125     , 0.57627119, 0.5       ],\n",
       "       [0.36111111, 0.41666667, 0.52542373, 0.5       ],\n",
       "       [0.33333333, 0.20833333, 0.50847458, 0.5       ],\n",
       "       [0.33333333, 0.25      , 0.57627119, 0.45833333],\n",
       "       [0.5       , 0.41666667, 0.61016949, 0.54166667],\n",
       "       [0.41666667, 0.25      , 0.50847458, 0.45833333],\n",
       "       [0.19444444, 0.125     , 0.38983051, 0.375     ],\n",
       "       [0.36111111, 0.29166667, 0.54237288, 0.5       ],\n",
       "       [0.38888889, 0.41666667, 0.54237288, 0.45833333],\n",
       "       [0.38888889, 0.375     , 0.54237288, 0.5       ],\n",
       "       [0.52777778, 0.375     , 0.55932203, 0.5       ],\n",
       "       [0.22222222, 0.20833333, 0.33898305, 0.41666667],\n",
       "       [0.38888889, 0.33333333, 0.52542373, 0.5       ],\n",
       "       [0.55555556, 0.54166667, 0.84745763, 1.        ],\n",
       "       [0.41666667, 0.29166667, 0.69491525, 0.75      ],\n",
       "       [0.77777778, 0.41666667, 0.83050847, 0.83333333],\n",
       "       [0.55555556, 0.375     , 0.77966102, 0.70833333],\n",
       "       [0.61111111, 0.41666667, 0.81355932, 0.875     ],\n",
       "       [0.91666667, 0.41666667, 0.94915254, 0.83333333],\n",
       "       [0.16666667, 0.20833333, 0.59322034, 0.66666667],\n",
       "       [0.83333333, 0.375     , 0.89830508, 0.70833333],\n",
       "       [0.66666667, 0.20833333, 0.81355932, 0.70833333],\n",
       "       [0.80555556, 0.66666667, 0.86440678, 1.        ],\n",
       "       [0.61111111, 0.5       , 0.69491525, 0.79166667],\n",
       "       [0.58333333, 0.29166667, 0.72881356, 0.75      ],\n",
       "       [0.69444444, 0.41666667, 0.76271186, 0.83333333],\n",
       "       [0.38888889, 0.20833333, 0.6779661 , 0.79166667],\n",
       "       [0.41666667, 0.33333333, 0.69491525, 0.95833333],\n",
       "       [0.58333333, 0.5       , 0.72881356, 0.91666667],\n",
       "       [0.61111111, 0.41666667, 0.76271186, 0.70833333],\n",
       "       [0.94444444, 0.75      , 0.96610169, 0.875     ],\n",
       "       [0.94444444, 0.25      , 1.        , 0.91666667],\n",
       "       [0.47222222, 0.08333333, 0.6779661 , 0.58333333],\n",
       "       [0.72222222, 0.5       , 0.79661017, 0.91666667],\n",
       "       [0.36111111, 0.33333333, 0.66101695, 0.79166667],\n",
       "       [0.94444444, 0.33333333, 0.96610169, 0.79166667],\n",
       "       [0.55555556, 0.29166667, 0.66101695, 0.70833333],\n",
       "       [0.66666667, 0.54166667, 0.79661017, 0.83333333],\n",
       "       [0.80555556, 0.5       , 0.84745763, 0.70833333],\n",
       "       [0.52777778, 0.33333333, 0.6440678 , 0.70833333],\n",
       "       [0.5       , 0.41666667, 0.66101695, 0.70833333],\n",
       "       [0.58333333, 0.33333333, 0.77966102, 0.83333333],\n",
       "       [0.80555556, 0.41666667, 0.81355932, 0.625     ],\n",
       "       [0.86111111, 0.33333333, 0.86440678, 0.75      ],\n",
       "       [1.        , 0.75      , 0.91525424, 0.79166667],\n",
       "       [0.58333333, 0.33333333, 0.77966102, 0.875     ],\n",
       "       [0.55555556, 0.33333333, 0.69491525, 0.58333333],\n",
       "       [0.5       , 0.25      , 0.77966102, 0.54166667],\n",
       "       [0.94444444, 0.41666667, 0.86440678, 0.91666667],\n",
       "       [0.55555556, 0.58333333, 0.77966102, 0.95833333],\n",
       "       [0.58333333, 0.45833333, 0.76271186, 0.70833333],\n",
       "       [0.47222222, 0.41666667, 0.6440678 , 0.70833333],\n",
       "       [0.72222222, 0.45833333, 0.74576271, 0.83333333],\n",
       "       [0.66666667, 0.45833333, 0.77966102, 0.95833333],\n",
       "       [0.72222222, 0.45833333, 0.69491525, 0.91666667],\n",
       "       [0.41666667, 0.29166667, 0.69491525, 0.75      ],\n",
       "       [0.69444444, 0.5       , 0.83050847, 0.91666667],\n",
       "       [0.66666667, 0.54166667, 0.79661017, 1.        ],\n",
       "       [0.66666667, 0.41666667, 0.71186441, 0.91666667],\n",
       "       [0.55555556, 0.20833333, 0.6779661 , 0.75      ],\n",
       "       [0.61111111, 0.41666667, 0.71186441, 0.79166667],\n",
       "       [0.52777778, 0.58333333, 0.74576271, 0.91666667],\n",
       "       [0.44444444, 0.41666667, 0.69491525, 0.70833333]])"
      ]
     },
     "execution_count": 21,
     "metadata": {},
     "output_type": "execute_result"
    }
   ],
   "source": [
    "# 각 피처 값 확인\n",
    "iris_scaled"
   ]
  },
  {
   "cell_type": "markdown",
   "id": "632f907a-eb2d-410a-8d23-cbb9fdd9b580",
   "metadata": {},
   "source": [
    "학습 데이터와 테스트 데이터의 스케일링 변환 시 유의점\n",
    "* 학습 데이터와 테스트 데이터의 스케일링 기준 정보 달라지지 않게 주의\n",
    "* 머신러닝 모델은 학습 데이터를 기반으로 학습되기 때문에\n",
    "* 반드시 테스트 데이터는 학습 데이터의 스케일러 기준에 따라야 함\n",
    "* Scaler 객체를 이용해 학습 데이터 세트로 fit()과 transform()을 적용하면\n",
    "* 테스트 데이터에 다시 fit()을 적용해서는 안 되며 \n",
    "* 학습 데이터로 이미 fit()이 적용된 Scaler객체를 이용해 transform()으로 변환해야 함\n",
    "\n",
    "## [참고] 데이터 변환\n",
    "\n",
    "**자료 변환을 통해 자료의 해석을 쉽고 풍부하게 하기 위한 과정**\n",
    "\n",
    "**데이터 변환 목적**\n",
    "- 분포의 대칭화\n",
    "- 산포를 비슷하게\n",
    "- 변수 간의 관계를 단순하게 하기 위해\n",
    "\n",
    "**데이터 변환 종류**\n",
    "- 모양 변환 : pivot, unpivot\n",
    "- 파생변수/요약변수\n",
    "- Normalization (scaling)\n",
    "- 데이터 분포 변환 : 제곱근 변환, 제곱변환, 지수변환, 로그변환, 박스콕스변환\n",
    "\n",
    "### 모양변환\n",
    "**Pivot**\n",
    "- 행,열 별 요약된 값으로 정렬해서 분석을 하고자 할 때 사용\n",
    "\n",
    "\n",
    "**Unpivot**\n",
    "- 컬럼 형태로 되어 있는 것을 행 형태로 바꿀 때 사용 (wide form→long form)\n",
    "\n",
    "https://support.microsoft.com/ko-kr/office/%ED%94%BC%EB%B2%97-%EC%97%B4-%ED%8C%8C%EC%9B%8C-%EC%BF%BC%EB%A6%AC-abc9c8da-3be9-44c4-886e-0be331ab387a\n",
    "\n",
    "\n",
    "### 파생변수/요약변수\n",
    "**파생변수**\n",
    "- 이미 수집된 변수를 활용해 새로운 변수 생성하는 경우\n",
    "- 분석자가 특정 조건을 만족하거나 특정 함수에 의해 값을 만들어 의미를 부여한 변수\n",
    "- 주관적일 수 있으며 논리적 타당성을 갖추어 개발해야 함\n",
    "- 예. 주구매 매장, 구매상품다양성, 가격선호대, 라이프스타일\n",
    "\n",
    "**요약 변수**\n",
    "- 원 데이터를 분석 Needs에 맞게 종합한 변수\n",
    "- 데이터의 수준을 달리하여 종합하는 경우가 많음\n",
    "- 예. 총구매금액, 매장별 방문횟수, 매장이용횟수, 구매상품목록\n",
    "\n",
    "### 정규화(Normalization)\n",
    "- 단위 차이, 극단값 등으로 비교가 어렵거나 왜곡이 발생할 때, 표준화하여 비교 가능하게 만드는 방법\n",
    "- Scale이 다른 여러 변수에 대해 Scale을 맞춰 모든 데이터 포인트가 동일한 정도의 중요도로 비교되도록 함\n",
    "- Scaling 여부가 모델링의 성능에도 영향을 주기도 함\n",
    "\n",
    "\n",
    "**대표적인 Normalization**\n",
    "\n",
    "https://stats.stackexchange.com/questions/287425/why-do-you-need-to-scale-data-in-knn\n",
    "http://hleecaster.com/ml-normalization-concept/\n",
    "\n",
    "### 데이터 분포의 변환\n",
    "- 정규분포를 가정하는 분석 기법을 사용할 때 입력데이터가 정규를 따르지 않는 경우, 정규분포 혹은 정규분포에 가깝게 변환하는 기법\n",
    "\n",
    "- Positively Skewed\n",
    "    - $sqrt(x)$\n",
    "    - $log_{10}{(x)}$\n",
    "    - $1 / x$\n",
    "\n",
    "\n",
    "- Negatively Skewed\n",
    "    - $sqrt(max(x+1) – x)$\n",
    "    - $log_{10}(max(x+1) –x)$\n",
    "    - $1 / (max(x+1) - x)$\n",
    "\n",
    "https://www.datanovia.com/en/lessons/transform-data-to-normal-distribution-in-r/\n"
   ]
  }
 ],
 "metadata": {
  "kernelspec": {
   "display_name": "Python Multi",
   "language": "python",
   "name": "multi"
  },
  "language_info": {
   "codemirror_mode": {
    "name": "ipython",
    "version": 3
   },
   "file_extension": ".py",
   "mimetype": "text/x-python",
   "name": "python",
   "nbconvert_exporter": "python",
   "pygments_lexer": "ipython3",
   "version": "3.7.6"
  }
 },
 "nbformat": 4,
 "nbformat_minor": 5
}
