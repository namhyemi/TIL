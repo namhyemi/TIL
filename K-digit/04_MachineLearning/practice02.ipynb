{
 "cells": [
  {
   "cell_type": "markdown",
   "id": "63b3e8fc-07ea-434a-b6fa-67d42ed643e0",
   "metadata": {},
   "source": [
    "# 훈련 세트와 테스트 세트"
   ]
  },
  {
   "cell_type": "markdown",
   "id": "40a09470-2980-4de6-bcf3-e28a83bef6cf",
   "metadata": {},
   "source": [
    "### 생선 분류\n",
    "- 앞의 예에서 훈련데이터에서 도미를 100% 완벽하게 분류함\n",
    "    - 문제점 : 정답을 미리 알려주고 시험보는 것과 같음\n",
    "    \n",
    "    \n",
    "-  훈련한 데이터와 평가에 사용된 데이터가 달라야 함"
   ]
  },
  {
   "cell_type": "markdown",
   "id": "36b94132-f9cf-42d3-ab73-bda71768ba88",
   "metadata": {},
   "source": [
    "## Data Split과 모델 검증"
   ]
  },
  {
   "cell_type": "markdown",
   "id": "f9428529-7ddf-4c12-8187-9437f385e28b",
   "metadata": {},
   "source": [
    "- 언제\n",
    "    - \"충분히 큰\" 데이터 세트를 가용할 때\n",
    "    - \"충분히 큰\" 데이터가 없을 때에는 교차 확인(Cross Validation) 고려\n",
    "    \n",
    "\n",
    "- 왜\n",
    "    - 학습에 사용되지 않은 데이터를 사용하여 예측을 수행함으로써 모델의 일반적인 성능에 대한 적절한 예측을 함\n",
    "    \n",
    "\n",
    "- 어떻게\n",
    "    - 홀드-아웃(Hold-out)\n",
    "    - 교차검증(Cross Validation,CV)\n",
    "    - 필요에 따라 Stratified Sampling"
   ]
  },
  {
   "cell_type": "markdown",
   "id": "b54d5824-013a-4693-b2c9-95da9b224dfb",
   "metadata": {},
   "source": [
    "### 홀드-아웃 방식\n",
    "- 데이터를 두 개 세트로 나누어 각각 Train과 Test 세트로 사용\n",
    "- Train과 Test의 비율을 7:3 ~ 9:1로 널리 사용하나, 알고리즘의 특성 및 상황에 따라 적절한 비율을 사용\n",
    "- Train – Validation - Test로 나누기도 함"
   ]
  },
  {
   "cell_type": "markdown",
   "id": "ef26706b-67d5-4f31-9327-37c65a00bb8d",
   "metadata": {},
   "source": [
    "## 훈련 세트와 테스트 세트"
   ]
  },
  {
   "cell_type": "code",
   "execution_count": 3,
   "id": "b0c994a3-0261-46f4-8df0-624e05052fa7",
   "metadata": {},
   "outputs": [],
   "source": [
    "fish_length = [25.4, 26.3, 26.5, 29.0, 29.0, 29.7, 29.7, 30.0, 30.0, 30.7,\n",
    "               31.0, 31.0, 31.5, 32.0, 32.0, 32.0, 33.0, 33.0, 33.5, 33.5,\n",
    "               34.0, 34.0, 34.5, 35.0, 35.0, 35.0, 35.0, 36.0, 36.0, 37.0,\n",
    "               38.5, 38.5, 39.5, 41.0, 41.0, \n",
    "               9.8, 10.5, 10.6, 11.0, 11.2, 11.3, 11.8, 11.8, 12.0, 12.2,\n",
    "               12.4, 13.0, 14.3, 15.0]\n",
    "fish_weight = [242.0, 290.0, 340.0, 363.0, 430.0, 450.0, 500.0, 390.0, 450.0, 500.0,\n",
    "               475.0, 500.0, 500.0, 340.0, 600.0, 600.0, 700.0, 700.0, 610.0, 650.0,\n",
    "               575.0, 685.0, 620.0, 680.0, 700.0, 725.0, 720.0, 714.0, 850.0, 1000.0,\n",
    "               920.0, 955.0, 925.0, 975.0, 950.0, \n",
    "               6.7, 7.5, 7.0, 9.7, 9.8, 8.7, 10.0, 9.9, 9.8, 12.2, 13.4, 12.2, 19.7, 19.9]"
   ]
  },
  {
   "cell_type": "code",
   "execution_count": 5,
   "id": "59ff43b6-e55a-445c-a778-8e5f760dbf65",
   "metadata": {},
   "outputs": [],
   "source": [
    "fish_data = [[l,w] for l, w in zip(fish_length,fish_weight)]\n",
    "fish_target = [1]*35 + [0]*14"
   ]
  },
  {
   "cell_type": "code",
   "execution_count": 6,
   "id": "eb438c9c-891f-4cd6-8261-8e76ff05855e",
   "metadata": {},
   "outputs": [],
   "source": [
    "from sklearn.neighbors import KNeighborsClassifier"
   ]
  },
  {
   "cell_type": "code",
   "execution_count": 7,
   "id": "217cd9df-7c50-4f9e-9d0d-e9752d76ce7b",
   "metadata": {},
   "outputs": [],
   "source": [
    "kn = KNeighborsClassifier()"
   ]
  },
  {
   "cell_type": "markdown",
   "id": "a6bb97c7-59d1-4049-b6ca-d093095a2955",
   "metadata": {},
   "source": [
    "**훈련 데이터셋과 테스트 데이터셋으로 분리**"
   ]
  },
  {
   "cell_type": "code",
   "execution_count": 62,
   "id": "01d125ca-8f64-4539-a589-b480dadc4b08",
   "metadata": {},
   "outputs": [],
   "source": [
    "train_data = fish_data[:35]\n",
    "train_target = fish_target[:35]\n",
    "\n",
    "test_data = fish_data[35:]\n",
    "test_target = fish_target[35:]"
   ]
  },
  {
   "cell_type": "markdown",
   "id": "8150adc1-dd1d-4fd5-a1b1-49307e4525f2",
   "metadata": {},
   "source": [
    "**학습 및 평가**"
   ]
  },
  {
   "cell_type": "code",
   "execution_count": 10,
   "id": "ddeff4b9-d965-413b-af88-ffd8a3525947",
   "metadata": {},
   "outputs": [
    {
     "data": {
      "text/plain": [
       "KNeighborsClassifier()"
      ]
     },
     "execution_count": 10,
     "metadata": {},
     "output_type": "execute_result"
    }
   ],
   "source": [
    "kn.fit(train_data, train_target)"
   ]
  },
  {
   "cell_type": "code",
   "execution_count": 11,
   "id": "df6e8bfa-b17e-4900-913d-78541e8f1583",
   "metadata": {},
   "outputs": [
    {
     "data": {
      "text/plain": [
       "0.0"
      ]
     },
     "execution_count": 11,
     "metadata": {},
     "output_type": "execute_result"
    }
   ],
   "source": [
    "kn.score(test_data, test_target)"
   ]
  },
  {
   "cell_type": "code",
   "execution_count": 12,
   "id": "302de671-e926-460c-82aa-dba5d82131cb",
   "metadata": {},
   "outputs": [
    {
     "name": "stdout",
     "output_type": "stream",
     "text": [
      "[1, 1, 1, 1, 1, 1, 1, 1, 1, 1, 1, 1, 1, 1, 1, 1, 1, 1, 1, 1, 1, 1, 1, 1, 1, 1, 1, 1, 1, 1, 1, 1, 1, 1, 1]\n"
     ]
    }
   ],
   "source": [
    "print(train_target)"
   ]
  },
  {
   "cell_type": "code",
   "execution_count": 13,
   "id": "029481ad-8466-4653-9c6f-3f20ab2c603d",
   "metadata": {},
   "outputs": [
    {
     "name": "stdout",
     "output_type": "stream",
     "text": [
      "[0, 0, 0, 0, 0, 0, 0, 0, 0, 0, 0, 0, 0, 0]\n"
     ]
    }
   ],
   "source": [
    "print(test_target)"
   ]
  },
  {
   "cell_type": "markdown",
   "id": "9b93217c-6d60-4843-a8e6-e89d5a40a2af",
   "metadata": {},
   "source": [
    "### 왜? 성능이 0.0일까?\n",
    "\n",
    "**편향(biased)된 데이터 셋 구성** 때문에\n",
    "\n",
    "- 샘플링 편향(Sampling Bias)"
   ]
  },
  {
   "cell_type": "markdown",
   "id": "5b6adbaa-016c-46f5-b1af-49b9baa36349",
   "metadata": {},
   "source": [
    "### 올바른 훈련데이터와 테스트데이터 구성하기"
   ]
  },
  {
   "cell_type": "code",
   "execution_count": 14,
   "id": "7e1d1349-b2fa-42bc-b87b-2995c6a6b4c8",
   "metadata": {},
   "outputs": [],
   "source": [
    "import numpy as np"
   ]
  },
  {
   "cell_type": "code",
   "execution_count": 19,
   "id": "d30a2f46-89a7-42f5-ae80-70675583dfb3",
   "metadata": {},
   "outputs": [
    {
     "name": "stdout",
     "output_type": "stream",
     "text": [
      "<class 'list'>\n",
      "<class 'numpy.ndarray'>\n"
     ]
    }
   ],
   "source": [
    "print(type(fish_data))\n",
    "\n",
    "input_arr = np.array(fish_data)\n",
    "target_arr = np.array(fish_target)\n",
    "\n",
    "print(type(input_arr))"
   ]
  },
  {
   "cell_type": "code",
   "execution_count": 21,
   "id": "52b8afc2-5549-485d-a03c-9b609a155302",
   "metadata": {},
   "outputs": [
    {
     "name": "stdout",
     "output_type": "stream",
     "text": [
      "[[25.4, 242.0], [26.3, 290.0], [26.5, 340.0], [29.0, 363.0], [29.0, 430.0], [29.7, 450.0], [29.7, 500.0], [30.0, 390.0], [30.0, 450.0], [30.7, 500.0], [31.0, 475.0], [31.0, 500.0], [31.5, 500.0], [32.0, 340.0], [32.0, 600.0], [32.0, 600.0], [33.0, 700.0], [33.0, 700.0], [33.5, 610.0], [33.5, 650.0], [34.0, 575.0], [34.0, 685.0], [34.5, 620.0], [35.0, 680.0], [35.0, 700.0], [35.0, 725.0], [35.0, 720.0], [36.0, 714.0], [36.0, 850.0], [37.0, 1000.0], [38.5, 920.0], [38.5, 955.0], [39.5, 925.0], [41.0, 975.0], [41.0, 950.0], [9.8, 6.7], [10.5, 7.5], [10.6, 7.0], [11.0, 9.7], [11.2, 9.8], [11.3, 8.7], [11.8, 10.0], [11.8, 9.9], [12.0, 9.8], [12.2, 12.2], [12.4, 13.4], [13.0, 12.2], [14.3, 19.7], [15.0, 19.9]]\n"
     ]
    }
   ],
   "source": [
    "print(fish_data)"
   ]
  },
  {
   "cell_type": "code",
   "execution_count": 20,
   "id": "e15f2030-330c-4d2c-86a0-a72ec75829fb",
   "metadata": {},
   "outputs": [
    {
     "name": "stdout",
     "output_type": "stream",
     "text": [
      "[[  25.4  242. ]\n",
      " [  26.3  290. ]\n",
      " [  26.5  340. ]\n",
      " [  29.   363. ]\n",
      " [  29.   430. ]\n",
      " [  29.7  450. ]\n",
      " [  29.7  500. ]\n",
      " [  30.   390. ]\n",
      " [  30.   450. ]\n",
      " [  30.7  500. ]\n",
      " [  31.   475. ]\n",
      " [  31.   500. ]\n",
      " [  31.5  500. ]\n",
      " [  32.   340. ]\n",
      " [  32.   600. ]\n",
      " [  32.   600. ]\n",
      " [  33.   700. ]\n",
      " [  33.   700. ]\n",
      " [  33.5  610. ]\n",
      " [  33.5  650. ]\n",
      " [  34.   575. ]\n",
      " [  34.   685. ]\n",
      " [  34.5  620. ]\n",
      " [  35.   680. ]\n",
      " [  35.   700. ]\n",
      " [  35.   725. ]\n",
      " [  35.   720. ]\n",
      " [  36.   714. ]\n",
      " [  36.   850. ]\n",
      " [  37.  1000. ]\n",
      " [  38.5  920. ]\n",
      " [  38.5  955. ]\n",
      " [  39.5  925. ]\n",
      " [  41.   975. ]\n",
      " [  41.   950. ]\n",
      " [   9.8    6.7]\n",
      " [  10.5    7.5]\n",
      " [  10.6    7. ]\n",
      " [  11.     9.7]\n",
      " [  11.2    9.8]\n",
      " [  11.3    8.7]\n",
      " [  11.8   10. ]\n",
      " [  11.8    9.9]\n",
      " [  12.     9.8]\n",
      " [  12.2   12.2]\n",
      " [  12.4   13.4]\n",
      " [  13.    12.2]\n",
      " [  14.3   19.7]\n",
      " [  15.    19.9]]\n"
     ]
    }
   ],
   "source": [
    "print(input_arr)"
   ]
  },
  {
   "cell_type": "code",
   "execution_count": 23,
   "id": "f66b243b-e82c-4027-b2ac-ce12d6c46a3d",
   "metadata": {},
   "outputs": [
    {
     "name": "stdout",
     "output_type": "stream",
     "text": [
      "(49, 2)\n"
     ]
    }
   ],
   "source": [
    "print(input_arr.shape)"
   ]
  },
  {
   "cell_type": "code",
   "execution_count": 27,
   "id": "71b749d7-bcb3-4b88-8148-0c4c78f66ab1",
   "metadata": {},
   "outputs": [
    {
     "name": "stdout",
     "output_type": "stream",
     "text": [
      "[ 0  1  2  3  4  5  6  7  8  9 10 11 12 13 14 15 16 17 18 19 20 21 22 23\n",
      " 24 25 26 27 28 29 30 31 32 33 34 35 36 37 38 39 40 41 42 43 44 45 46 47\n",
      " 48]\n"
     ]
    }
   ],
   "source": [
    "index = np.arange(49)\n",
    "print(index)"
   ]
  },
  {
   "cell_type": "code",
   "execution_count": 28,
   "id": "eb3b584d-b07c-4c0a-906f-c30f58d8e479",
   "metadata": {},
   "outputs": [],
   "source": [
    "np.random.seed(42)\n",
    "np.random.shuffle(index)"
   ]
  },
  {
   "cell_type": "markdown",
   "id": "d82dff45-5768-4373-900f-cd34bb8283e1",
   "metadata": {},
   "source": [
    "- [참고]: random.seed()\n",
    "    - 난수를 생성하기 위한 초기값 지정\n",
    "    - seed를 지정하면 랜덤함수의 결과를 동일하게 재현할 수 있음"
   ]
  },
  {
   "cell_type": "code",
   "execution_count": 29,
   "id": "03613386-ec9b-4abd-8b9b-cb29110d7d1f",
   "metadata": {},
   "outputs": [
    {
     "name": "stdout",
     "output_type": "stream",
     "text": [
      "[13 45 47 44 17 27 26 25 31 19 12  4 34  8  3  6 40 41 46 15  9 16 24 33\n",
      " 30  0 43 32  5 29 11 36  1 21  2 37 35 23 39 10 22 18 48 20  7 42 14 28\n",
      " 38]\n"
     ]
    }
   ],
   "source": [
    "print(index)"
   ]
  },
  {
   "cell_type": "code",
   "execution_count": 42,
   "id": "91061ab6-38a0-48df-9ec7-eb557252cf31",
   "metadata": {},
   "outputs": [],
   "source": [
    "train_input = input_arr[index[:35]]\n",
    "train_target = target_arr[index[:35]]"
   ]
  },
  {
   "cell_type": "code",
   "execution_count": 49,
   "id": "1ed34f4f-de17-46fe-991f-04539aec0947",
   "metadata": {},
   "outputs": [
    {
     "data": {
      "text/plain": [
       "array([13, 45, 47, 44, 17, 27, 26, 25, 31, 19, 12,  4, 34,  8,  3,  6, 40,\n",
       "       41, 46, 15,  9, 16, 24, 33, 30,  0, 43, 32,  5, 29, 11, 36,  1, 21,\n",
       "        2])"
      ]
     },
     "execution_count": 49,
     "metadata": {},
     "output_type": "execute_result"
    }
   ],
   "source": [
    "index[:35]"
   ]
  },
  {
   "cell_type": "code",
   "execution_count": 54,
   "id": "1bf052c6-408b-4f38-81ee-cd9574569eda",
   "metadata": {},
   "outputs": [
    {
     "data": {
      "text/plain": [
       "array([[ 32. , 340. ],\n",
       "       [ 12.4,  13.4],\n",
       "       [ 14.3,  19.7]])"
      ]
     },
     "execution_count": 54,
     "metadata": {},
     "output_type": "execute_result"
    }
   ],
   "source": [
    "input_arr[[13,45,47]]"
   ]
  },
  {
   "cell_type": "code",
   "execution_count": 43,
   "id": "1f35046e-94e6-4aa7-b194-7530ecdd5b50",
   "metadata": {},
   "outputs": [
    {
     "data": {
      "text/plain": [
       "array([[  32. ,  340. ],\n",
       "       [  12.4,   13.4],\n",
       "       [  14.3,   19.7],\n",
       "       [  12.2,   12.2],\n",
       "       [  33. ,  700. ],\n",
       "       [  36. ,  714. ],\n",
       "       [  35. ,  720. ],\n",
       "       [  35. ,  725. ],\n",
       "       [  38.5,  955. ],\n",
       "       [  33.5,  650. ],\n",
       "       [  31.5,  500. ],\n",
       "       [  29. ,  430. ],\n",
       "       [  41. ,  950. ],\n",
       "       [  30. ,  450. ],\n",
       "       [  29. ,  363. ],\n",
       "       [  29.7,  500. ],\n",
       "       [  11.3,    8.7],\n",
       "       [  11.8,   10. ],\n",
       "       [  13. ,   12.2],\n",
       "       [  32. ,  600. ],\n",
       "       [  30.7,  500. ],\n",
       "       [  33. ,  700. ],\n",
       "       [  35. ,  700. ],\n",
       "       [  41. ,  975. ],\n",
       "       [  38.5,  920. ],\n",
       "       [  25.4,  242. ],\n",
       "       [  12. ,    9.8],\n",
       "       [  39.5,  925. ],\n",
       "       [  29.7,  450. ],\n",
       "       [  37. , 1000. ],\n",
       "       [  31. ,  500. ],\n",
       "       [  10.5,    7.5],\n",
       "       [  26.3,  290. ],\n",
       "       [  34. ,  685. ],\n",
       "       [  26.5,  340. ]])"
      ]
     },
     "execution_count": 43,
     "metadata": {},
     "output_type": "execute_result"
    }
   ],
   "source": [
    "input_arr[index[:35]]"
   ]
  },
  {
   "cell_type": "code",
   "execution_count": 55,
   "id": "2e715e39-c491-4072-b857-e0a2fd4b472d",
   "metadata": {},
   "outputs": [
    {
     "name": "stdout",
     "output_type": "stream",
     "text": [
      "[ 32. 340.] [ 32. 340.]\n"
     ]
    }
   ],
   "source": [
    "print(input_arr[13], train_input[0])"
   ]
  },
  {
   "cell_type": "code",
   "execution_count": 65,
   "id": "ad695d3a-67d3-4349-b154-0828dd12187f",
   "metadata": {},
   "outputs": [],
   "source": [
    "test_input = input_arr[index[35:]]\n",
    "test_target = target_arr[index[35:]]"
   ]
  },
  {
   "cell_type": "code",
   "execution_count": 66,
   "id": "a7e71bbf-667b-4240-a0fe-0a82aec6ecd3",
   "metadata": {},
   "outputs": [],
   "source": [
    "import matplotlib.pyplot as plt"
   ]
  },
  {
   "cell_type": "code",
   "execution_count": 64,
   "id": "e133547b-b783-4970-be16-6725ad1d2051",
   "metadata": {},
   "outputs": [
    {
     "data": {
      "image/png": "[encoded data removed]",
      "text/plain": [
       "<Figure size 432x288 with 1 Axes>"
      ]
     },
     "metadata": {
      "needs_background": "light"
     },
     "output_type": "display_data"
    }
   ],
   "source": [
    "plt.scatter(train_input[:, 0], train_input[:, 1])\n",
    "plt.scatter(test_input[:, 0], test_input[:, 1])\n",
    "plt.xlabel('length')\n",
    "plt.ylabel('weight')\n",
    "plt.show()"
   ]
  },
  {
   "cell_type": "code",
   "execution_count": 67,
   "id": "8c66aae9-6dae-4b14-91b7-e74bdfc8272b",
   "metadata": {},
   "outputs": [
    {
     "data": {
      "text/plain": [
       "KNeighborsClassifier()"
      ]
     },
     "execution_count": 67,
     "metadata": {},
     "output_type": "execute_result"
    }
   ],
   "source": [
    "kn.fit(train_input, train_target)"
   ]
  },
  {
   "cell_type": "code",
   "execution_count": 68,
   "id": "c0589dec-86b3-4409-b0a8-ac1ef0501067",
   "metadata": {},
   "outputs": [
    {
     "data": {
      "text/plain": [
       "0.5714285714285714"
      ]
     },
     "execution_count": 68,
     "metadata": {},
     "output_type": "execute_result"
    }
   ],
   "source": [
    "kn.score(test_input, test_target)"
   ]
  },
  {
   "cell_type": "code",
   "execution_count": 69,
   "id": "603fbd0c-cfae-46bb-b9b9-e7864490597f",
   "metadata": {},
   "outputs": [
    {
     "name": "stdout",
     "output_type": "stream",
     "text": [
      "[[ 10.6   7. ]\n",
      " [  9.8   6.7]\n",
      " [ 35.  680. ]\n",
      " [ 11.2   9.8]\n",
      " [ 31.  475. ]\n",
      " [ 34.5 620. ]\n",
      " [ 33.5 610. ]\n",
      " [ 15.   19.9]\n",
      " [ 34.  575. ]\n",
      " [ 30.  390. ]\n",
      " [ 11.8   9.9]\n",
      " [ 32.  600. ]\n",
      " [ 36.  850. ]\n",
      " [ 11.    9.7]]\n"
     ]
    }
   ],
   "source": [
    "print(test_input)"
   ]
  },
  {
   "cell_type": "code",
   "execution_count": 75,
   "id": "d51fab4c-a79e-4cb0-9da3-7decf90f2bac",
   "metadata": {},
   "outputs": [
    {
     "name": "stdout",
     "output_type": "stream",
     "text": [
      "0.5714285714285714\n"
     ]
    }
   ],
   "source": [
    "# 14개 중 8개가 도미임\n",
    "print(8/14)"
   ]
  },
  {
   "cell_type": "code",
   "execution_count": 70,
   "id": "8e80ac6d-8c36-4ebb-a89d-1d1381d510e6",
   "metadata": {},
   "outputs": [
    {
     "data": {
      "text/plain": [
       "array([1, 1, 1, 1, 1, 1, 1, 1, 1, 1, 1, 1, 1, 1])"
      ]
     },
     "execution_count": 70,
     "metadata": {},
     "output_type": "execute_result"
    }
   ],
   "source": [
    "kn.predict(test_input)"
   ]
  },
  {
   "cell_type": "code",
   "execution_count": 71,
   "id": "a1066cbf-a173-426e-96f8-6e3f924a5b35",
   "metadata": {},
   "outputs": [
    {
     "data": {
      "text/plain": [
       "array([0, 0, 1, 0, 1, 1, 1, 0, 1, 1, 0, 1, 1, 0])"
      ]
     },
     "execution_count": 71,
     "metadata": {},
     "output_type": "execute_result"
    }
   ],
   "source": [
    "test_target"
   ]
  },
  {
   "cell_type": "code",
   "execution_count": null,
   "id": "006e7845-c581-4435-b576-42bf5205c1c7",
   "metadata": {},
   "outputs": [],
   "source": []
  }
 ],
 "metadata": {
  "kernelspec": {
   "display_name": "Python Multi",
   "language": "python",
   "name": "multi"
  },
  "language_info": {
   "codemirror_mode": {
    "name": "ipython",
    "version": 3
   },
   "file_extension": ".py",
   "mimetype": "text/x-python",
   "name": "python",
   "nbconvert_exporter": "python",
   "pygments_lexer": "ipython3",
   "version": "3.7.6"
  }
 },
 "nbformat": 4,
 "nbformat_minor": 5
}
