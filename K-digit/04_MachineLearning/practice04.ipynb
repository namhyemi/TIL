{
 "cells": [
  {
   "cell_type": "markdown",
   "id": "731306a8-2de6-4494-9b95-2aa6bb24e981",
   "metadata": {},
   "source": [
    "# Model Selection 모듈 소개\n",
    "\n",
    "## 학습/테스트 데이터 셋 분리 – train_test_split()\n",
    "\n",
    "### 사이킷런 model_selection 모듈의 주요 기능\n",
    "- 학습 데이터와 테스트 데이터 세트 분리\n",
    "- 교차 검증 분할 및 평가\n",
    "- Estimator의 하이퍼 파라미터 튜닝\n",
    "\n",
    "\n",
    "**학습 데이터와 테스트 데이터 세트 분리**\n",
    "- train_test_split() 함수 사용\n",
    "\n",
    "**학습 데이터 세트**\n",
    "- 머신러닝 알고리즘의 학습을 위해 사용\n",
    "- 데이터의 속성(피처)과 결정값(레이블) 모두 포함\n",
    "- 학습 데이터를 기반으로 머신러닝 알고리즘이 데이터 속성과 결정값의 패턴을 인지하고 학습\n",
    "\n",
    "**테스트 데이터 세트** \n",
    "- 학습된 머신러닝 알고리즘 테스트용\n",
    "- 머신러닝 알고리즘은 제공된 속성 데이터를 기반으로 결정값 예측\n",
    "- 학습 데이터와 별도의 세트로 제공\n",
    "\n",
    "\n",
    "**train_test_split() 함수**\n",
    "\n",
    "train_test_split(feature_dataset, label_dataset, test_size, train_size, random_state, shuffle, stratify)\n",
    "\n",
    "\n",
    "- feature_dataset : 피처 데이터 세트\n",
    "    - 피처(feature)만으로 된 데이터(numpy) [5.1, 3.5, 1.4, 0.2],...\n",
    "- label_dataset : 레이블 데이터 세트\n",
    "    - 레이블(결정 값) 데이터(numpy) [0 0 0 ... 1 1 1 .... 2 2 2]\n",
    "- label_dataset : 테스트 데이터 세트 비율\n",
    "    - 전체 데이터 세트 중 테스트 데이터 세트 비율\n",
    "    - 지정하지 않으면 0.25\n",
    "- random_state : 세트를 섞을 때 해당 int 값을 보고 섞음\n",
    "    - 수행할 때마다 동일한 데이터 세트로 분리하기 위해 시드값 고정(실습용)\n",
    "    - 0 또는 4가 가장 많이 사용\n",
    "    - 하이퍼 파라미터 튜닝시 이 값을 고정해두고 튜닝해야 매번 데이터셋이 변경되는 것을 방지할 수 있음\n",
    "    \n",
    "- shuffle : 분할하기 전에 섞을지 지정\n",
    "    - default=True (보통은 default 값으로 놔둠)\n",
    "- stratify : 지정된 레이블의 클래스 비율에 맞게 분할\n",
    "    - default=None\n",
    "    - classification을 다룰 때 매우 중요한 옵션값\n",
    "    - stratify 값을 target으로 지정해주면 각각의 class 비율(ratio)을 train/ validation에 유지해 줌(한 쪽에 쏠려서 분배되는 것을 방지)\n",
    "    - 이 옵션을 지정해 주지 않고 classification 문제를 다룬다면, 성능의 차이가 많이 날 수 있음\n",
    "    \n",
    "   \n",
    "   \n",
    "예. train_test_split(iris_data, iris_label, test_size=0.3, random_state=11)\n",
    "\n",
    "\n",
    "train_test_split() 반환값\n",
    "* X_train : 학습용 피처 데이터 세트 (feature)\n",
    "* X_test : 테스트용 피처 데이터 세트 (feature)\n",
    "* y_train : 학습용 레이블 데이터 세트 (target)\n",
    "* y_test : 테스트용 레이블 데이터 세트 (target)\n",
    "* feature : 대문자 X_\n",
    "* label(target) : 소문자 y_\n",
    "\n",
    "\n",
    "### (1) 학습/테스트 데이터 셋 분리하지 않고 예측"
   ]
  },
  {
   "cell_type": "code",
   "execution_count": 2,
   "id": "1d81f52c-455d-4d08-94df-c56f697faad8",
   "metadata": {},
   "outputs": [],
   "source": [
    "# (1) 학습/테스트 데이터 셋 분리하지 않고 예측\n",
    "\n",
    "from sklearn.datasets import load_iris\n",
    "from sklearn.tree import DecisionTreeClassifier\n",
    "from sklearn.metrics import accuracy_score"
   ]
  },
  {
   "cell_type": "code",
   "execution_count": 9,
   "id": "317b6514-4d37-44bc-9ebb-14490a71348e",
   "metadata": {},
   "outputs": [],
   "source": [
    "iris_data = load_iris()\n",
    "dt_clf = DecisionTreeClassifier()\n",
    "\n",
    "train_data = iris_data.data\n",
    "train_label = iris_data.target"
   ]
  },
  {
   "cell_type": "code",
   "execution_count": 10,
   "id": "e9a44a07-a408-469a-afa2-d705fb75ab5a",
   "metadata": {},
   "outputs": [
    {
     "data": {
      "text/plain": [
       "DecisionTreeClassifier()"
      ]
     },
     "execution_count": 10,
     "metadata": {},
     "output_type": "execute_result"
    }
   ],
   "source": [
    "# 학습 수행\n",
    "dt_clf.fit(train_data, train_label)"
   ]
  },
  {
   "cell_type": "code",
   "execution_count": 12,
   "id": "fb852a63-b5b2-40eb-9a87-3e6306d80967",
   "metadata": {},
   "outputs": [
    {
     "name": "stdout",
     "output_type": "stream",
     "text": [
      "예측 정확도 :  1.0\n"
     ]
    }
   ],
   "source": [
    "# 테스트\n",
    "pred = dt_clf.predict(train_data)\n",
    "print('예측 정확도 : ', accuracy_score(target_label, pred))"
   ]
  },
  {
   "cell_type": "code",
   "execution_count": 16,
   "id": "82fa0325-0458-4725-ad97-2fcfd899e62e",
   "metadata": {},
   "outputs": [
    {
     "name": "stdout",
     "output_type": "stream",
     "text": [
      "train_label : [0 0 0 0 0 0 0 0 0 0 0 0 0 0 0 0 0 0 0 0 0 0 0 0 0 0 0 0 0 0 0 0 0 0 0 0 0\n",
      " 0 0 0 0 0 0 0 0 0 0 0 0 0 1 1 1 1 1 1 1 1 1 1 1 1 1 1 1 1 1 1 1 1 1 1 1 1\n",
      " 1 1 1 1 1 1 1 1 1 1 1 1 1 1 1 1 1 1 1 1 1 1 1 1 1 1 2 2 2 2 2 2 2 2 2 2 2\n",
      " 2 2 2 2 2 2 2 2 2 2 2 2 2 2 2 2 2 2 2 2 2 2 2 2 2 2 2 2 2 2 2 2 2 2 2 2 2\n",
      " 2 2]\n",
      "pred : [0 0 0 0 0 0 0 0 0 0 0 0 0 0 0 0 0 0 0 0 0 0 0 0 0 0 0 0 0 0 0 0 0 0 0 0 0\n",
      " 0 0 0 0 0 0 0 0 0 0 0 0 0 1 1 1 1 1 1 1 1 1 1 1 1 1 1 1 1 1 1 1 1 1 1 1 1\n",
      " 1 1 1 1 1 1 1 1 1 1 1 1 1 1 1 1 1 1 1 1 1 1 1 1 1 1 2 2 2 2 2 2 2 2 2 2 2\n",
      " 2 2 2 2 2 2 2 2 2 2 2 2 2 2 2 2 2 2 2 2 2 2 2 2 2 2 2 2 2 2 2 2 2 2 2 2 2\n",
      " 2 2]\n"
     ]
    }
   ],
   "source": [
    "print(\"train_label :\", train_label)\n",
    "print(\"pred :\", pred)"
   ]
  },
  {
   "cell_type": "markdown",
   "id": "314aa876-6a77-494b-9ed1-642cb0b95192",
   "metadata": {},
   "source": [
    "- 예측을 train_data로 했기 때문에 결과 1.0 (100%)으로 출력 (잘못됨)\n",
    "- 예측은 테스트 데이터로 해야 함\n",
    "\n",
    " ### (2) 학습/테스트 데이터 셋 분리하고 예측"
   ]
  },
  {
   "cell_type": "code",
   "execution_count": 18,
   "id": "1bbf2f92-e83a-4bfd-b0b6-3a9eac9a2c55",
   "metadata": {},
   "outputs": [],
   "source": [
    "# (2) 학습/테스트 데이터 셋 분리하고 예측 \n",
    "\n",
    "from sklearn.datasets import load_iris\n",
    "from sklearn.tree import DecisionTreeClassifier\n",
    "from sklearn.metrics import accuracy_score\n",
    "from sklearn.model_selection import train_test_split"
   ]
  },
  {
   "cell_type": "code",
   "execution_count": 19,
   "id": "cbeae6df-3602-4793-b58a-9824e353cf6d",
   "metadata": {},
   "outputs": [],
   "source": [
    "iris_data = load_iris()\n",
    "dt_clf = DecisionTreeClassifier()"
   ]
  },
  {
   "cell_type": "code",
   "execution_count": 20,
   "id": "44c996bf-db02-494f-893d-b07cf2e13879",
   "metadata": {},
   "outputs": [],
   "source": [
    "# 학습/테스트 분할(split)\n",
    "X_train, X_test, y_train, y_test = train_test_split(iris_data.data, \n",
    "                                                    iris_data.target, \n",
    "                                                    test_size=0.2 \n",
    "                                                    ,random_state=4)"
   ]
  },
  {
   "cell_type": "code",
   "execution_count": 21,
   "id": "9b94a009-6672-4c0c-a8f1-50b85209fda3",
   "metadata": {},
   "outputs": [
    {
     "name": "stdout",
     "output_type": "stream",
     "text": [
      "[1 0 2 0 1 2 2 1 1 0 2 0 1 0 2 0 0 1 1 2 0 1 2 2 1 1 0 1 2 1 0 1 0 1 2 1 2\n",
      " 1 0 2 2 0 1 2 0 2 1 2 1 0 2 1 2 0 2 1 2 1 2 1 1 2 1 1 2 1 1 0 2 0 1 0 1 1\n",
      " 1 1 0 2 2 1 1 1 0 0 2 2 0 0 0 2 0 0 2 2 1 0 0 0 2 1 0 0 2 1 2 0 0 2 1 1 1\n",
      " 2 2 1 2 1 1 2 2 2]\n"
     ]
    }
   ],
   "source": [
    "print(y_train)"
   ]
  },
  {
   "cell_type": "code",
   "execution_count": 24,
   "id": "0874eae7-c7f6-4ee0-a783-95e9e40a9ffd",
   "metadata": {},
   "outputs": [
    {
     "name": "stdout",
     "output_type": "stream",
     "text": [
      "150\n",
      "120\n",
      "30\n"
     ]
    }
   ],
   "source": [
    "print(len(iris_data.target))\n",
    "print(len(y_train))\n",
    "print(len(y_test))"
   ]
  },
  {
   "cell_type": "code",
   "execution_count": 25,
   "id": "90f3686f-5789-437d-b91b-6e795298379f",
   "metadata": {},
   "outputs": [
    {
     "data": {
      "text/plain": [
       "DecisionTreeClassifier()"
      ]
     },
     "execution_count": 25,
     "metadata": {},
     "output_type": "execute_result"
    }
   ],
   "source": [
    "# 학습 수행\n",
    "dt_clf.fit(X_train, y_train)"
   ]
  },
  {
   "cell_type": "code",
   "execution_count": 27,
   "id": "592883cb-fc3f-41db-be09-b388b74b7384",
   "metadata": {},
   "outputs": [
    {
     "name": "stdout",
     "output_type": "stream",
     "text": [
      "예측정확도 : 0.9666666666666667\n"
     ]
    }
   ],
   "source": [
    "# 예측 수행\n",
    "pred =dt_clf.predict(X_test)\n",
    "print(\"예측정확도 :\", accuracy_score(y_test, pred))"
   ]
  },
  {
   "cell_type": "markdown",
   "id": "7aecf5a0-c8a5-48eb-b23c-43b34b52af38",
   "metadata": {},
   "source": [
    "# 넘파이 ndarray 뿐만 아니라 판다스 DataFrame/Series도 train_test_split( )으로 분할 가능"
   ]
  },
  {
   "cell_type": "code",
   "execution_count": 35,
   "id": "4bed1c4c-5b57-4829-8134-ee06019b4e48",
   "metadata": {},
   "outputs": [],
   "source": [
    "import pandas as pd"
   ]
  },
  {
   "cell_type": "code",
   "execution_count": 42,
   "id": "c99e714c-f419-4639-a8ea-a211ea99e478",
   "metadata": {},
   "outputs": [
    {
     "data": {
      "text/html": [
       "<div>\n",
       "<style scoped>\n",
       "    .dataframe tbody tr th:only-of-type {\n",
       "        vertical-align: middle;\n",
       "    }\n",
       "\n",
       "    .dataframe tbody tr th {\n",
       "        vertical-align: top;\n",
       "    }\n",
       "\n",
       "    .dataframe thead th {\n",
       "        text-align: right;\n",
       "    }\n",
       "</style>\n",
       "<table border=\"1\" class=\"dataframe\">\n",
       "  <thead>\n",
       "    <tr style=\"text-align: right;\">\n",
       "      <th></th>\n",
       "      <th>sepal length (cm)</th>\n",
       "      <th>sepal width (cm)</th>\n",
       "      <th>petal length (cm)</th>\n",
       "      <th>petal width (cm)</th>\n",
       "    </tr>\n",
       "  </thead>\n",
       "  <tbody>\n",
       "    <tr>\n",
       "      <th>0</th>\n",
       "      <td>5.1</td>\n",
       "      <td>3.5</td>\n",
       "      <td>1.4</td>\n",
       "      <td>0.2</td>\n",
       "    </tr>\n",
       "    <tr>\n",
       "      <th>1</th>\n",
       "      <td>4.9</td>\n",
       "      <td>3.0</td>\n",
       "      <td>1.4</td>\n",
       "      <td>0.2</td>\n",
       "    </tr>\n",
       "    <tr>\n",
       "      <th>2</th>\n",
       "      <td>4.7</td>\n",
       "      <td>3.2</td>\n",
       "      <td>1.3</td>\n",
       "      <td>0.2</td>\n",
       "    </tr>\n",
       "  </tbody>\n",
       "</table>\n",
       "</div>"
      ],
      "text/plain": [
       "   sepal length (cm)  sepal width (cm)  petal length (cm)  petal width (cm)\n",
       "0                5.1               3.5                1.4               0.2\n",
       "1                4.9               3.0                1.4               0.2\n",
       "2                4.7               3.2                1.3               0.2"
      ]
     },
     "execution_count": 42,
     "metadata": {},
     "output_type": "execute_result"
    }
   ],
   "source": [
    "iris_df = pd.DataFrame(iris_data.data, columns=iris_data.feature_names)\n",
    "iris_df.head(3)"
   ]
  },
  {
   "cell_type": "code",
   "execution_count": 39,
   "id": "94750682-fcb6-4974-8a9b-e9c29e41c05c",
   "metadata": {},
   "outputs": [
    {
     "data": {
      "text/plain": [
       "['sepal length (cm)',\n",
       " 'sepal width (cm)',\n",
       " 'petal length (cm)',\n",
       " 'petal width (cm)']"
      ]
     },
     "execution_count": 39,
     "metadata": {},
     "output_type": "execute_result"
    }
   ],
   "source": [
    "iris_data.feature_names"
   ]
  },
  {
   "cell_type": "code",
   "execution_count": 44,
   "id": "2950fe0c-753b-42b7-adf6-f6ca233bd057",
   "metadata": {},
   "outputs": [
    {
     "data": {
      "text/html": [
       "<div>\n",
       "<style scoped>\n",
       "    .dataframe tbody tr th:only-of-type {\n",
       "        vertical-align: middle;\n",
       "    }\n",
       "\n",
       "    .dataframe tbody tr th {\n",
       "        vertical-align: top;\n",
       "    }\n",
       "\n",
       "    .dataframe thead th {\n",
       "        text-align: right;\n",
       "    }\n",
       "</style>\n",
       "<table border=\"1\" class=\"dataframe\">\n",
       "  <thead>\n",
       "    <tr style=\"text-align: right;\">\n",
       "      <th></th>\n",
       "      <th>sepal length (cm)</th>\n",
       "      <th>sepal width (cm)</th>\n",
       "      <th>petal length (cm)</th>\n",
       "      <th>petal width (cm)</th>\n",
       "      <th>target</th>\n",
       "    </tr>\n",
       "  </thead>\n",
       "  <tbody>\n",
       "    <tr>\n",
       "      <th>0</th>\n",
       "      <td>5.1</td>\n",
       "      <td>3.5</td>\n",
       "      <td>1.4</td>\n",
       "      <td>0.2</td>\n",
       "      <td>0</td>\n",
       "    </tr>\n",
       "    <tr>\n",
       "      <th>1</th>\n",
       "      <td>4.9</td>\n",
       "      <td>3.0</td>\n",
       "      <td>1.4</td>\n",
       "      <td>0.2</td>\n",
       "      <td>0</td>\n",
       "    </tr>\n",
       "    <tr>\n",
       "      <th>2</th>\n",
       "      <td>4.7</td>\n",
       "      <td>3.2</td>\n",
       "      <td>1.3</td>\n",
       "      <td>0.2</td>\n",
       "      <td>0</td>\n",
       "    </tr>\n",
       "    <tr>\n",
       "      <th>3</th>\n",
       "      <td>4.6</td>\n",
       "      <td>3.1</td>\n",
       "      <td>1.5</td>\n",
       "      <td>0.2</td>\n",
       "      <td>0</td>\n",
       "    </tr>\n",
       "    <tr>\n",
       "      <th>4</th>\n",
       "      <td>5.0</td>\n",
       "      <td>3.6</td>\n",
       "      <td>1.4</td>\n",
       "      <td>0.2</td>\n",
       "      <td>0</td>\n",
       "    </tr>\n",
       "    <tr>\n",
       "      <th>...</th>\n",
       "      <td>...</td>\n",
       "      <td>...</td>\n",
       "      <td>...</td>\n",
       "      <td>...</td>\n",
       "      <td>...</td>\n",
       "    </tr>\n",
       "    <tr>\n",
       "      <th>145</th>\n",
       "      <td>6.7</td>\n",
       "      <td>3.0</td>\n",
       "      <td>5.2</td>\n",
       "      <td>2.3</td>\n",
       "      <td>2</td>\n",
       "    </tr>\n",
       "    <tr>\n",
       "      <th>146</th>\n",
       "      <td>6.3</td>\n",
       "      <td>2.5</td>\n",
       "      <td>5.0</td>\n",
       "      <td>1.9</td>\n",
       "      <td>2</td>\n",
       "    </tr>\n",
       "    <tr>\n",
       "      <th>147</th>\n",
       "      <td>6.5</td>\n",
       "      <td>3.0</td>\n",
       "      <td>5.2</td>\n",
       "      <td>2.0</td>\n",
       "      <td>2</td>\n",
       "    </tr>\n",
       "    <tr>\n",
       "      <th>148</th>\n",
       "      <td>6.2</td>\n",
       "      <td>3.4</td>\n",
       "      <td>5.4</td>\n",
       "      <td>2.3</td>\n",
       "      <td>2</td>\n",
       "    </tr>\n",
       "    <tr>\n",
       "      <th>149</th>\n",
       "      <td>5.9</td>\n",
       "      <td>3.0</td>\n",
       "      <td>5.1</td>\n",
       "      <td>1.8</td>\n",
       "      <td>2</td>\n",
       "    </tr>\n",
       "  </tbody>\n",
       "</table>\n",
       "<p>150 rows × 5 columns</p>\n",
       "</div>"
      ],
      "text/plain": [
       "     sepal length (cm)  sepal width (cm)  petal length (cm)  petal width (cm)  \\\n",
       "0                  5.1               3.5                1.4               0.2   \n",
       "1                  4.9               3.0                1.4               0.2   \n",
       "2                  4.7               3.2                1.3               0.2   \n",
       "3                  4.6               3.1                1.5               0.2   \n",
       "4                  5.0               3.6                1.4               0.2   \n",
       "..                 ...               ...                ...               ...   \n",
       "145                6.7               3.0                5.2               2.3   \n",
       "146                6.3               2.5                5.0               1.9   \n",
       "147                6.5               3.0                5.2               2.0   \n",
       "148                6.2               3.4                5.4               2.3   \n",
       "149                5.9               3.0                5.1               1.8   \n",
       "\n",
       "     target  \n",
       "0         0  \n",
       "1         0  \n",
       "2         0  \n",
       "3         0  \n",
       "4         0  \n",
       "..      ...  \n",
       "145       2  \n",
       "146       2  \n",
       "147       2  \n",
       "148       2  \n",
       "149       2  \n",
       "\n",
       "[150 rows x 5 columns]"
      ]
     },
     "execution_count": 44,
     "metadata": {},
     "output_type": "execute_result"
    }
   ],
   "source": [
    "iris_df['target'] = iris_data.target\n",
    "iris_df"
   ]
  },
  {
   "cell_type": "code",
   "execution_count": 49,
   "id": "8780f559-dd86-4948-aa3b-ce035fa778d3",
   "metadata": {},
   "outputs": [
    {
     "data": {
      "text/html": [
       "<div>\n",
       "<style scoped>\n",
       "    .dataframe tbody tr th:only-of-type {\n",
       "        vertical-align: middle;\n",
       "    }\n",
       "\n",
       "    .dataframe tbody tr th {\n",
       "        vertical-align: top;\n",
       "    }\n",
       "\n",
       "    .dataframe thead th {\n",
       "        text-align: right;\n",
       "    }\n",
       "</style>\n",
       "<table border=\"1\" class=\"dataframe\">\n",
       "  <thead>\n",
       "    <tr style=\"text-align: right;\">\n",
       "      <th></th>\n",
       "      <th>sepal length (cm)</th>\n",
       "      <th>sepal width (cm)</th>\n",
       "      <th>petal length (cm)</th>\n",
       "      <th>petal width (cm)</th>\n",
       "    </tr>\n",
       "  </thead>\n",
       "  <tbody>\n",
       "    <tr>\n",
       "      <th>0</th>\n",
       "      <td>5.1</td>\n",
       "      <td>3.5</td>\n",
       "      <td>1.4</td>\n",
       "      <td>0.2</td>\n",
       "    </tr>\n",
       "    <tr>\n",
       "      <th>1</th>\n",
       "      <td>4.9</td>\n",
       "      <td>3.0</td>\n",
       "      <td>1.4</td>\n",
       "      <td>0.2</td>\n",
       "    </tr>\n",
       "    <tr>\n",
       "      <th>2</th>\n",
       "      <td>4.7</td>\n",
       "      <td>3.2</td>\n",
       "      <td>1.3</td>\n",
       "      <td>0.2</td>\n",
       "    </tr>\n",
       "    <tr>\n",
       "      <th>3</th>\n",
       "      <td>4.6</td>\n",
       "      <td>3.1</td>\n",
       "      <td>1.5</td>\n",
       "      <td>0.2</td>\n",
       "    </tr>\n",
       "    <tr>\n",
       "      <th>4</th>\n",
       "      <td>5.0</td>\n",
       "      <td>3.6</td>\n",
       "      <td>1.4</td>\n",
       "      <td>0.2</td>\n",
       "    </tr>\n",
       "    <tr>\n",
       "      <th>...</th>\n",
       "      <td>...</td>\n",
       "      <td>...</td>\n",
       "      <td>...</td>\n",
       "      <td>...</td>\n",
       "    </tr>\n",
       "    <tr>\n",
       "      <th>145</th>\n",
       "      <td>6.7</td>\n",
       "      <td>3.0</td>\n",
       "      <td>5.2</td>\n",
       "      <td>2.3</td>\n",
       "    </tr>\n",
       "    <tr>\n",
       "      <th>146</th>\n",
       "      <td>6.3</td>\n",
       "      <td>2.5</td>\n",
       "      <td>5.0</td>\n",
       "      <td>1.9</td>\n",
       "    </tr>\n",
       "    <tr>\n",
       "      <th>147</th>\n",
       "      <td>6.5</td>\n",
       "      <td>3.0</td>\n",
       "      <td>5.2</td>\n",
       "      <td>2.0</td>\n",
       "    </tr>\n",
       "    <tr>\n",
       "      <th>148</th>\n",
       "      <td>6.2</td>\n",
       "      <td>3.4</td>\n",
       "      <td>5.4</td>\n",
       "      <td>2.3</td>\n",
       "    </tr>\n",
       "    <tr>\n",
       "      <th>149</th>\n",
       "      <td>5.9</td>\n",
       "      <td>3.0</td>\n",
       "      <td>5.1</td>\n",
       "      <td>1.8</td>\n",
       "    </tr>\n",
       "  </tbody>\n",
       "</table>\n",
       "<p>150 rows × 4 columns</p>\n",
       "</div>"
      ],
      "text/plain": [
       "     sepal length (cm)  sepal width (cm)  petal length (cm)  petal width (cm)\n",
       "0                  5.1               3.5                1.4               0.2\n",
       "1                  4.9               3.0                1.4               0.2\n",
       "2                  4.7               3.2                1.3               0.2\n",
       "3                  4.6               3.1                1.5               0.2\n",
       "4                  5.0               3.6                1.4               0.2\n",
       "..                 ...               ...                ...               ...\n",
       "145                6.7               3.0                5.2               2.3\n",
       "146                6.3               2.5                5.0               1.9\n",
       "147                6.5               3.0                5.2               2.0\n",
       "148                6.2               3.4                5.4               2.3\n",
       "149                5.9               3.0                5.1               1.8\n",
       "\n",
       "[150 rows x 4 columns]"
      ]
     },
     "execution_count": 49,
     "metadata": {},
     "output_type": "execute_result"
    }
   ],
   "source": [
    "iris_df.iloc[:,:-1]"
   ]
  },
  {
   "cell_type": "code",
   "execution_count": 48,
   "id": "c3cd9cb3-3862-405e-81af-fd7d6c8ec269",
   "metadata": {},
   "outputs": [],
   "source": [
    "# 피처 데이터프레임 반환 (마지막 열 전까지, 마지막 열 제외)\n",
    "feature_df = iris_df.iloc[:,:-1]\n",
    "\n",
    "# 타깃 데이터프레임 반환\n",
    "target_df = iris_df.iloc[:,-1]\n",
    "\n",
    "# 학습/테스트 데이터 분할\n",
    "X_train, X_test, y_train, y_test = train_test_split(feature_df,\n",
    "                                                    target_df, \n",
    "                                                    test_size=0.3, \n",
    "                                                    random_state=4)"
   ]
  },
  {
   "cell_type": "code",
   "execution_count": 50,
   "id": "b4a616b3-39f9-4b09-aa17-cf0025928891",
   "metadata": {},
   "outputs": [
    {
     "data": {
      "text/plain": [
       "pandas.core.frame.DataFrame"
      ]
     },
     "execution_count": 50,
     "metadata": {},
     "output_type": "execute_result"
    }
   ],
   "source": [
    "type(X_train)"
   ]
  },
  {
   "cell_type": "code",
   "execution_count": 51,
   "id": "7b4ef49d-5724-48c8-9d98-129584dcf908",
   "metadata": {},
   "outputs": [
    {
     "name": "stdout",
     "output_type": "stream",
     "text": [
      "예측 정확도 : 0.978\n"
     ]
    }
   ],
   "source": [
    "dt_clf = DecisionTreeClassifier()\n",
    "dt_clf.fit(X_train, y_train)\n",
    "\n",
    "pred = dt_clf.predict(X_test)\n",
    "print('예측 정확도 : {0:.3f}'.format(accuracy_score(y_test, pred)))"
   ]
  },
  {
   "cell_type": "markdown",
   "id": "c5f4a98d-98f3-472c-8c42-5e1e3ad67af1",
   "metadata": {},
   "source": [
    "## Data Split과 모델 검증\n",
    "\n",
    "- 언제\n",
    "    - \"충분히 큰\" 데이터 세트를 가용할 때\n",
    "    - \"충분히 큰\" 데이터가 없을 때에는 교차 확인(Cross Validation) 고려\n",
    "    \n",
    "\n",
    "- 왜\n",
    "    - 학습에 사용되지 않은 데이터를 사용하여 예측을 수행함으로써 모델의 일반적인 성능에 대한 적절한 예측을 함\n",
    "    \n",
    "\n",
    "- 어떻게\n",
    "    - 홀드-아웃(Hold-out)\n",
    "    - 교차검증(Cross Validation,CV)\n",
    "    - 필요에 따라 Stratified Sampling\n",
    "\n",
    "\n",
    "\n",
    "\n",
    "### 홀드-아웃 방식\n",
    "- 데이터를 두 개 세트로 나누어 각각 Train과 Test 세트로 사용\n",
    "- Train과 Test의 비율을 7:3 ~ 9:1로 널리 사용하나, 알고리즘의 특성 및 상황에 따라 적절한 비율을 사용\n",
    "- Train – Validation - Test로 나누기도 함\n",
    "\n",
    "https://algotrading101.com/learn/train-test-split-2/\n",
    "\n",
    "\n",
    "부적합한 데이터 선별로 인한 문제점\n",
    "- ML은 데이터에 기반하고, \n",
    "- 데이터는 이상치, 분포도, 다양한 속성값, 피처 중요도 등 \n",
    "- ML에 영향을 미치는 다양한 요소를 가지고 있음\n",
    "- 특정 ML 알고리즘에 최적으로 동작할 수 있도록\n",
    "- 데이터를 선별해서 학습한다면\n",
    "- 실제 데이터 양식과는 많은 차이가 있을 것이고\n",
    "- 결국 성능 저하로 이어질 것임\n",
    "\n",
    "문제점 개선 ---> 교차 검증을 이용해 더 다양한 학습 평가 수행\n",
    "\n",
    "\n",
    "### 교차검증(Cross Validation, CV)\n",
    "- k-fold Cross Validation이라고도 함\n",
    "- 전체 데이터 세트를 임의로 k개의 그룹으로 나누고, 그 가운데 하나의 그룹을 돌아가면서 테스트 데이터 세트로, 나머지 k-1개 그룹은 학습용 데이터 세트로 사용하는 방법\n",
    "- 별도의 여러 세트로 구성된 학습 데이터 세트와 검증 데이터 세트에서 학습과 평가를 수행\n",
    "\n",
    "\n",
    "- 사용 목적\n",
    "    - 데이터에 적합한 알고리즘인지 평가하기 위해 \n",
    "    - 모델에 적절한 hyperparameter 찾기 위해\n",
    "    - 과대적합 예방\n",
    "    - 데이터 편중을 막기 위해\n",
    "    \n",
    "\n",
    "http://karlrosaen.com/ml/learning-log/2016-06-20/\n",
    "\n",
    "    \n",
    "### 교차 검증 방법\n",
    "- K 폴드 교차 검증\n",
    "- Stratified K 폴드 교차 검증\n",
    "\n",
    "### K 폴드 교차 검증\n",
    "- K개의 데이터 폴드 세트를 만들어서\n",
    "- K번만큼 각 폴드 세트에 학습과 검증 평가를 반복적으로 수행\n",
    "- 가장 보편적으로 사용되는 교차 검증 기법\n",
    "\n",
    "\n",
    "- 5-폴드 교차 검증\n",
    "\n",
    "**K 폴드 교차 검증 프로세스 구현을 위한 사이킷런 클래스**\n",
    "\n",
    "(1) KFold 클래스 : 폴드 세트로 분리하는 객체 생성\n",
    "- kfold = KFold(n_splits=5)\n",
    "\n",
    "(2) split() 메소드 : 폴드 데이터 세트로 분리\n",
    "- kfold.split(features)\n",
    "- 각 폴드마다  \n",
    "    학습용, 검증용, 테스트 데이터 추출  \n",
    "    학습용 및 예측 수행  \n",
    "    정확도 측정  \n",
    "    \n",
    "(3) 최종 평균 정확도 계산\n",
    "\n",
    "* K 폴드 예제"
   ]
  },
  {
   "cell_type": "code",
   "execution_count": 54,
   "id": "c922c9cd-e888-4a91-9c3f-9b8ed795ab28",
   "metadata": {},
   "outputs": [],
   "source": [
    "from sklearn.datasets import load_iris\n",
    "from sklearn.tree import DecisionTreeClassifier\n",
    "from sklearn.metrics import accuracy_score\n",
    "from sklearn.model_selection import KFold"
   ]
  },
  {
   "cell_type": "code",
   "execution_count": 77,
   "id": "9e1f2652-99db-4752-8ff4-a4726bf33a32",
   "metadata": {},
   "outputs": [],
   "source": [
    "iris = load_iris()\n",
    "\n",
    "features = iris.data\n",
    "label = iris.target"
   ]
  },
  {
   "cell_type": "code",
   "execution_count": 78,
   "id": "2fba7c2a-d752-4ffe-9935-a8558afda215",
   "metadata": {},
   "outputs": [
    {
     "data": {
      "text/plain": [
       "numpy.ndarray"
      ]
     },
     "execution_count": 78,
     "metadata": {},
     "output_type": "execute_result"
    }
   ],
   "source": [
    "type(features)"
   ]
  },
  {
   "cell_type": "code",
   "execution_count": 79,
   "id": "71117fee-0940-4543-955f-08bb60cba529",
   "metadata": {},
   "outputs": [
    {
     "data": {
      "text/plain": [
       "(150, 4)"
      ]
     },
     "execution_count": 79,
     "metadata": {},
     "output_type": "execute_result"
    }
   ],
   "source": [
    "features.shape"
   ]
  },
  {
   "cell_type": "code",
   "execution_count": 80,
   "id": "1e19cc55-f65c-48bc-92a2-1813ac6c4588",
   "metadata": {},
   "outputs": [],
   "source": [
    "# DesicionTreeClassifier\n",
    "dt_clf = DecisionTreeClassifier(random_state=156)\n",
    "\n",
    "# 5개의 폴드 세트로 분리하는 KFold 객체 생성\n",
    "Kfold = KFold(n_splits=5)\n",
    "\n",
    "# 폴드 세트별 정확도를 담을 리스트 객체 생성\n",
    "cv_accuracy = []"
   ]
  },
  {
   "cell_type": "code",
   "execution_count": 81,
   "id": "1ca2ae22-aac5-4d70-b67c-a680b779e908",
   "metadata": {},
   "outputs": [
    {
     "data": {
      "text/plain": [
       "KFold(n_splits=5, random_state=None, shuffle=False)"
      ]
     },
     "execution_count": 81,
     "metadata": {},
     "output_type": "execute_result"
    }
   ],
   "source": [
    "Kfold"
   ]
  },
  {
   "cell_type": "code",
   "execution_count": 82,
   "id": "94d9b55f-c0c1-466a-849d-2b4c08231a61",
   "metadata": {},
   "outputs": [
    {
     "data": {
      "text/plain": [
       "(150, 4)"
      ]
     },
     "execution_count": 82,
     "metadata": {},
     "output_type": "execute_result"
    }
   ],
   "source": [
    "features.shape"
   ]
  },
  {
   "cell_type": "code",
   "execution_count": 83,
   "id": "4af85b7b-81f1-4cc6-8592-07499d125953",
   "metadata": {},
   "outputs": [
    {
     "name": "stdout",
     "output_type": "stream",
     "text": [
      "[ 30  31  32  33  34  35  36  37  38  39  40  41  42  43  44  45  46  47\n",
      "  48  49  50  51  52  53  54  55  56  57  58  59  60  61  62  63  64  65\n",
      "  66  67  68  69  70  71  72  73  74  75  76  77  78  79  80  81  82  83\n",
      "  84  85  86  87  88  89  90  91  92  93  94  95  96  97  98  99 100 101\n",
      " 102 103 104 105 106 107 108 109 110 111 112 113 114 115 116 117 118 119\n",
      " 120 121 122 123 124 125 126 127 128 129 130 131 132 133 134 135 136 137\n",
      " 138 139 140 141 142 143 144 145 146 147 148 149] [ 0  1  2  3  4  5  6  7  8  9 10 11 12 13 14 15 16 17 18 19 20 21 22 23\n",
      " 24 25 26 27 28 29]\n",
      "[  0   1   2   3   4   5   6   7   8   9  10  11  12  13  14  15  16  17\n",
      "  18  19  20  21  22  23  24  25  26  27  28  29  60  61  62  63  64  65\n",
      "  66  67  68  69  70  71  72  73  74  75  76  77  78  79  80  81  82  83\n",
      "  84  85  86  87  88  89  90  91  92  93  94  95  96  97  98  99 100 101\n",
      " 102 103 104 105 106 107 108 109 110 111 112 113 114 115 116 117 118 119\n",
      " 120 121 122 123 124 125 126 127 128 129 130 131 132 133 134 135 136 137\n",
      " 138 139 140 141 142 143 144 145 146 147 148 149] [30 31 32 33 34 35 36 37 38 39 40 41 42 43 44 45 46 47 48 49 50 51 52 53\n",
      " 54 55 56 57 58 59]\n",
      "[  0   1   2   3   4   5   6   7   8   9  10  11  12  13  14  15  16  17\n",
      "  18  19  20  21  22  23  24  25  26  27  28  29  30  31  32  33  34  35\n",
      "  36  37  38  39  40  41  42  43  44  45  46  47  48  49  50  51  52  53\n",
      "  54  55  56  57  58  59  90  91  92  93  94  95  96  97  98  99 100 101\n",
      " 102 103 104 105 106 107 108 109 110 111 112 113 114 115 116 117 118 119\n",
      " 120 121 122 123 124 125 126 127 128 129 130 131 132 133 134 135 136 137\n",
      " 138 139 140 141 142 143 144 145 146 147 148 149] [60 61 62 63 64 65 66 67 68 69 70 71 72 73 74 75 76 77 78 79 80 81 82 83\n",
      " 84 85 86 87 88 89]\n",
      "[  0   1   2   3   4   5   6   7   8   9  10  11  12  13  14  15  16  17\n",
      "  18  19  20  21  22  23  24  25  26  27  28  29  30  31  32  33  34  35\n",
      "  36  37  38  39  40  41  42  43  44  45  46  47  48  49  50  51  52  53\n",
      "  54  55  56  57  58  59  60  61  62  63  64  65  66  67  68  69  70  71\n",
      "  72  73  74  75  76  77  78  79  80  81  82  83  84  85  86  87  88  89\n",
      " 120 121 122 123 124 125 126 127 128 129 130 131 132 133 134 135 136 137\n",
      " 138 139 140 141 142 143 144 145 146 147 148 149] [ 90  91  92  93  94  95  96  97  98  99 100 101 102 103 104 105 106 107\n",
      " 108 109 110 111 112 113 114 115 116 117 118 119]\n",
      "[  0   1   2   3   4   5   6   7   8   9  10  11  12  13  14  15  16  17\n",
      "  18  19  20  21  22  23  24  25  26  27  28  29  30  31  32  33  34  35\n",
      "  36  37  38  39  40  41  42  43  44  45  46  47  48  49  50  51  52  53\n",
      "  54  55  56  57  58  59  60  61  62  63  64  65  66  67  68  69  70  71\n",
      "  72  73  74  75  76  77  78  79  80  81  82  83  84  85  86  87  88  89\n",
      "  90  91  92  93  94  95  96  97  98  99 100 101 102 103 104 105 106 107\n",
      " 108 109 110 111 112 113 114 115 116 117 118 119] [120 121 122 123 124 125 126 127 128 129 130 131 132 133 134 135 136 137\n",
      " 138 139 140 141 142 143 144 145 146 147 148 149]\n"
     ]
    }
   ],
   "source": [
    "# 폴드 별 학습용, 검증용 데이터 세트의 행 인덱스 확인\n",
    "\n",
    "for train_index, test_index in Kfold.split(features):\n",
    "    print(train_index, test_index)"
   ]
  },
  {
   "cell_type": "code",
   "execution_count": 84,
   "id": "3aecf7b8-dc0e-4353-8ed2-92d127fec6e9",
   "metadata": {},
   "outputs": [],
   "source": [
    "import numpy as np"
   ]
  },
  {
   "cell_type": "code",
   "execution_count": 91,
   "id": "5bcc2ed0-13c9-4f2d-8f31-8dbeb5e4cee3",
   "metadata": {},
   "outputs": [
    {
     "name": "stdout",
     "output_type": "stream",
     "text": [
      "예측 정확도: 1.000000, 학습데이터크기: 120, 검증데이터크기: 30\n",
      "예측 정확도: 0.967000, 학습데이터크기: 120, 검증데이터크기: 30\n",
      "예측 정확도: 0.867000, 학습데이터크기: 120, 검증데이터크기: 30\n",
      "예측 정확도: 0.933000, 학습데이터크기: 120, 검증데이터크기: 30\n",
      "예측 정확도: 0.733000, 학습데이터크기: 120, 검증데이터크기: 30\n",
      "평균 검증 정확도 : 0.9\n"
     ]
    }
   ],
   "source": [
    "for train_index, test_index in Kfold.split(features):\n",
    "    X_train, X_test = features[train_index],  features[test_index]\n",
    "    y_train, y_test = label[train_index], label[test_index]\n",
    "    \n",
    "    dt_clf.fit(X_train, y_train)\n",
    "    pred = dt_clf.predict(X_test)\n",
    "    \n",
    "    acc = np.round(accuracy_score(y_test, pred), 3)\n",
    "    train_size = X_train.shape[0]\n",
    "    test_size = X_test.shape[0]\n",
    "    \n",
    "    print('예측 정확도: %f, 학습데이터크기: %d, 검증데이터크기: %d' %(acc, train_size, test_size))\n",
    "    \n",
    "    cv_accuracy.append(acc)\n",
    "    \n",
    "print('평균 검증 정확도 :', np.mean(cv_accuracy))"
   ]
  },
  {
   "cell_type": "markdown",
   "id": "414f4cbd-4743-4b7b-a770-1b7ca3695dc0",
   "metadata": {},
   "source": [
    "### Stratified K 폴드 교차 검증\n",
    "- 불균형한 분포도를 가진 레이블(결정 클래스) 데이터 집합을 위한 K 폴드 방식\n",
    "\n",
    "### 불균형한 데이터(imbalanced data) 문제\n",
    "- 관심 대상 데이터가 상대적으로 매우 적은 비율로 나타나는 데이터 문제\n",
    "\n",
    "- 분류 문제인 경우 : 클래스들이 균일하게 분포하지 않은 문제를 의미\n",
    "    - 예. 불량률이 1%인 생산라인에서 양품과 불량품을 예측하는 문제\n",
    "    - 사기감지탐지(fraud detection), 이상거래감지(anomaly detection), 의료진단(medical diagnosis) 등 에서 자주 나타남\n",
    "\n",
    "- 회귀 문제인 경우 : 극단값이 포함되어 있는 \"치우친\" 데이터 사례\n",
    "    - 예. 산불에 의한 피해 면적을 예측하는 문제\n",
    "    (https://www.kaggle.com/aleksandradeis/regression-addressing-extreme-rare-cases)\n",
    "\n",
    "\n",
    "**우회/극복하는 방법**\n",
    "- 데이터 추가 확보\n",
    "\n",
    "\n",
    "- Re-Sampling\n",
    "    - Under-sampling(과소표집)\n",
    "        - 다른 클래스에 비하여 상대적으로 많이 나타나는 클래스의 개수를 줄임\n",
    "        - 균형은 유지할 수 있으나 유용한 정보에 대한 손실이 있을 수 있음\n",
    "    - Over-Sampling(과대표집)\n",
    "        - 상대적으로 적게 나타나는 클래스의 데이터를 복제하여 데이터의 개수를 늘림\n",
    "        - 정보 손실은 없이 학습 성능은 높아지는 반면, 과적합의 위험이 있음\n",
    "        - 이를 회피하기 위해서 SMOTE 와 같이 임의의 값을 생성하여 추가하는 방법 사용\n",
    "   \n",
    "\n",
    "* 먼저 K 폴드 문제점 확인하고, \n",
    "* 사이킷런의 Stratified K 폴드 교차 검증 방법으로 개선\n",
    "* 붓꽃 데이터 세트를 DataFrame으로 생성하고 \n",
    "* 레이블 값의 분포도 확인"
   ]
  },
  {
   "cell_type": "code",
   "execution_count": 92,
   "id": "144d5c61-e562-44f0-9160-fdc842113038",
   "metadata": {},
   "outputs": [],
   "source": [
    "import pandas as pd"
   ]
  },
  {
   "cell_type": "code",
   "execution_count": 94,
   "id": "61d9e43c-e999-44f3-a86b-52b3d81e6455",
   "metadata": {},
   "outputs": [
    {
     "data": {
      "text/html": [
       "<div>\n",
       "<style scoped>\n",
       "    .dataframe tbody tr th:only-of-type {\n",
       "        vertical-align: middle;\n",
       "    }\n",
       "\n",
       "    .dataframe tbody tr th {\n",
       "        vertical-align: top;\n",
       "    }\n",
       "\n",
       "    .dataframe thead th {\n",
       "        text-align: right;\n",
       "    }\n",
       "</style>\n",
       "<table border=\"1\" class=\"dataframe\">\n",
       "  <thead>\n",
       "    <tr style=\"text-align: right;\">\n",
       "      <th></th>\n",
       "      <th>sepal length (cm)</th>\n",
       "      <th>sepal width (cm)</th>\n",
       "      <th>petal length (cm)</th>\n",
       "      <th>petal width (cm)</th>\n",
       "      <th>label</th>\n",
       "    </tr>\n",
       "  </thead>\n",
       "  <tbody>\n",
       "    <tr>\n",
       "      <th>0</th>\n",
       "      <td>5.1</td>\n",
       "      <td>3.5</td>\n",
       "      <td>1.4</td>\n",
       "      <td>0.2</td>\n",
       "      <td>0</td>\n",
       "    </tr>\n",
       "    <tr>\n",
       "      <th>1</th>\n",
       "      <td>4.9</td>\n",
       "      <td>3.0</td>\n",
       "      <td>1.4</td>\n",
       "      <td>0.2</td>\n",
       "      <td>0</td>\n",
       "    </tr>\n",
       "    <tr>\n",
       "      <th>2</th>\n",
       "      <td>4.7</td>\n",
       "      <td>3.2</td>\n",
       "      <td>1.3</td>\n",
       "      <td>0.2</td>\n",
       "      <td>0</td>\n",
       "    </tr>\n",
       "    <tr>\n",
       "      <th>3</th>\n",
       "      <td>4.6</td>\n",
       "      <td>3.1</td>\n",
       "      <td>1.5</td>\n",
       "      <td>0.2</td>\n",
       "      <td>0</td>\n",
       "    </tr>\n",
       "    <tr>\n",
       "      <th>4</th>\n",
       "      <td>5.0</td>\n",
       "      <td>3.6</td>\n",
       "      <td>1.4</td>\n",
       "      <td>0.2</td>\n",
       "      <td>0</td>\n",
       "    </tr>\n",
       "  </tbody>\n",
       "</table>\n",
       "</div>"
      ],
      "text/plain": [
       "   sepal length (cm)  sepal width (cm)  petal length (cm)  petal width (cm)  \\\n",
       "0                5.1               3.5                1.4               0.2   \n",
       "1                4.9               3.0                1.4               0.2   \n",
       "2                4.7               3.2                1.3               0.2   \n",
       "3                4.6               3.1                1.5               0.2   \n",
       "4                5.0               3.6                1.4               0.2   \n",
       "\n",
       "   label  \n",
       "0      0  \n",
       "1      0  \n",
       "2      0  \n",
       "3      0  \n",
       "4      0  "
      ]
     },
     "execution_count": 94,
     "metadata": {},
     "output_type": "execute_result"
    }
   ],
   "source": [
    "iris = load_iris()\n",
    "\n",
    "iris_df = pd.DataFrame(data=iris.data, columns=iris.feature_names)\n",
    "iris_df['label'] = iris.target\n",
    "iris_df.head()"
   ]
  },
  {
   "cell_type": "code",
   "execution_count": 95,
   "id": "fe365234-893a-42a6-8744-f6666931c67e",
   "metadata": {},
   "outputs": [
    {
     "data": {
      "text/plain": [
       "0    50\n",
       "1    50\n",
       "2    50\n",
       "Name: label, dtype: int64"
      ]
     },
     "execution_count": 95,
     "metadata": {},
     "output_type": "execute_result"
    }
   ],
   "source": [
    "iris_df['label'].value_counts()"
   ]
  },
  {
   "cell_type": "code",
   "execution_count": 96,
   "id": "dafca33d-5857-464d-9036-0eac0c45693f",
   "metadata": {},
   "outputs": [],
   "source": [
    "# 레이블 값은 0, 1, 2 값 모두 50개로 동일\n",
    "# 즉, Setosa, Versicolor, virginica 각 품종 50개 씩 "
   ]
  },
  {
   "cell_type": "code",
   "execution_count": 99,
   "id": "4d0ca958-e383-4cd3-9a90-4a4fcd8bd244",
   "metadata": {},
   "outputs": [
    {
     "name": "stdout",
     "output_type": "stream",
     "text": [
      "[교차검증: 1]\n",
      "  학습용 : \n",
      "1    50\n",
      "2    50\n",
      "Name: label, dtype: int64\n",
      "  검증용 : \n",
      "0    50\n",
      "Name: label, dtype: int64\n",
      "[교차검증: 2]\n",
      "  학습용 : \n",
      "0    50\n",
      "2    50\n",
      "Name: label, dtype: int64\n",
      "  검증용 : \n",
      "1    50\n",
      "Name: label, dtype: int64\n",
      "[교차검증: 3]\n",
      "  학습용 : \n",
      "0    50\n",
      "1    50\n",
      "Name: label, dtype: int64\n",
      "  검증용 : \n",
      "2    50\n",
      "Name: label, dtype: int64\n"
     ]
    }
   ],
   "source": [
    "# 3개 폴드를 구성\n",
    "kfold = KFold(n_splits=3)\n",
    "\n",
    "n=0\n",
    "for train_index, test_index in kfold.split(iris_df):\n",
    "    n += 1\n",
    "    label_train = iris_df['label'].iloc[train_index]\n",
    "    label_test = iris_df['label'].iloc[test_index]\n",
    "    \n",
    "    print(\"[교차검증: %d]\" %(n))\n",
    "    print(\"  학습용 : \\n\", end='')\n",
    "    print(label_train.value_counts())\n",
    "    print(\"  검증용 : \\n\", end='')\n",
    "    print(label_test.value_counts())"
   ]
  },
  {
   "cell_type": "code",
   "execution_count": null,
   "id": "020bbded-8d08-4d2d-831b-a6dd1f04487e",
   "metadata": {},
   "outputs": [],
   "source": [
    "########## 참고 : 3개의 폴드 세트로 KFold 교차 검증 : 정확도 : 0 ###########"
   ]
  },
  {
   "cell_type": "code",
   "execution_count": 101,
   "id": "66d58f37-6fb5-431e-8a77-43f19db087ca",
   "metadata": {},
   "outputs": [],
   "source": [
    "# DecisionTreeClassifier 객체 생성 \n",
    "dt_clf = DecisionTreeClassifier(random_state=156)\n",
    "\n",
    "# 3개의 폴드 세트로 분리하는 KFold 객체 생성\n",
    "Kfold = KFold(n_splits=3)\n",
    "\n",
    "# 폴드 세트별 정확도를 담을 리스트 객체 생성\n",
    "cv_accuracy = []"
   ]
  },
  {
   "cell_type": "code",
   "execution_count": 108,
   "id": "62dfbc08-4828-4828-b37e-bc08216f5e1f",
   "metadata": {},
   "outputs": [
    {
     "name": "stdout",
     "output_type": "stream",
     "text": [
      "1 \n",
      "정확도: 0.000000, 학습데이터크기: 100, 검증데이터크기: 50\n",
      "2 \n",
      "정확도: 0.000000, 학습데이터크기: 100, 검증데이터크기: 50\n",
      "3 \n",
      "정확도: 0.000000, 학습데이터크기: 100, 검증데이터크기: 50\n",
      "\n",
      "## 평균 검증 정확도: 0.0\n"
     ]
    }
   ],
   "source": [
    "n = 0\n",
    "\n",
    "for train_index, test_index in Kfold.split(iris_df):\n",
    "    X_train, X_test = features[train_index], features[test_index]\n",
    "    y_train, y_test = label[train_index], label[test_index]\n",
    "    \n",
    "    # 학습 및 예측\n",
    "    dt_clf.fit(X_train, y_train)\n",
    "    pred = dt_clf.predict(X_test)\n",
    "    n += 1\n",
    "    \n",
    "    # 반복 시 마다 정확도 측정\n",
    "    acc = np.round(accuracy_score(y_test, pred),3)\n",
    "    train_size = X_train.shape[0]\n",
    "    test_size = X_test.shape[0]\n",
    "    print('%d \\n정확도: %f, 학습데이터크기: %d, 검증데이터크기: %d' %(n, acc, train_size, test_size))\n",
    "    \n",
    "    cv_accuracy.append(acc)\n",
    "    \n",
    "# 개별 iteration별 정확도를 합하여 평균 정확도 계산 \n",
    "print('\\n## 평균 검증 정확도:', np.mean(cv_accuracy)) "
   ]
  },
  {
   "cell_type": "code",
   "execution_count": null,
   "id": "5c4427d3-7f95-45cc-8ccf-a6d184b17a40",
   "metadata": {},
   "outputs": [],
   "source": [
    "######### 참고 끝   ###########"
   ]
  },
  {
   "cell_type": "markdown",
   "id": "defc5364-4de7-47ad-ad85-44587bf3ecbe",
   "metadata": {},
   "source": [
    "- 위 코드 결과의 문제점\n",
    "    - 학습하지 않은 데이터를 검증 데이터로 사용\n",
    "    - 원할한 학습과 예측이 어려움\n",
    "    - 검증 정확도는 0\n",
    "\n",
    "StratifiedKFold 클래스\n",
    "- 원본 데이터의 레이블 분포를 고려한 뒤 이 분포와 동일하게 학습과 검증데이터 세트를 분배\n",
    "\n",
    "- KFold 사용법과 거의 비슷\n",
    "- 차이점\n",
    "  - 레이블 데이터 분포도에 따라 학습/검증 데이터를 나누기 때문에\n",
    "  - split() 메서드에 인자로 피처 데이터 세트뿐 아니라 \n",
    "  - 레이블 데이터 세트도 반드시 필요하다는 것\n"
   ]
  },
  {
   "cell_type": "code",
   "execution_count": 109,
   "id": "f4394f61-81cc-4fe1-bf78-d289b6e4de47",
   "metadata": {},
   "outputs": [],
   "source": [
    "from sklearn.datasets import load_iris\n",
    "from sklearn.tree import DecisionTreeClassifier\n",
    "from sklearn.metrics import accuracy_score\n",
    "from sklearn.model_selection import StratifiedKFold"
   ]
  },
  {
   "cell_type": "code",
   "execution_count": 110,
   "id": "726ec1cf-547d-45e2-a68e-346f98b0ea93",
   "metadata": {},
   "outputs": [],
   "source": [
    "skf = StratifiedKFold(n_splits=3)"
   ]
  },
  {
   "cell_type": "code",
   "execution_count": 113,
   "id": "557d31e5-555d-4ae5-830f-fe962258da60",
   "metadata": {},
   "outputs": [
    {
     "name": "stdout",
     "output_type": "stream",
     "text": [
      "[교차검증 : %d] % n\n",
      "학습용 레이블 분포: \n",
      "2    34\n",
      "0    33\n",
      "1    33\n",
      "Name: label, dtype: int64\n",
      "검증용 레이블 분포: \n",
      "0    17\n",
      "1    17\n",
      "2    16\n",
      "Name: label, dtype: int64\n",
      "[교차검증 : %d] % n\n",
      "학습용 레이블 분포: \n",
      "1    34\n",
      "0    33\n",
      "2    33\n",
      "Name: label, dtype: int64\n",
      "검증용 레이블 분포: \n",
      "0    17\n",
      "2    17\n",
      "1    16\n",
      "Name: label, dtype: int64\n",
      "[교차검증 : %d] % n\n",
      "학습용 레이블 분포: \n",
      "0    34\n",
      "1    33\n",
      "2    33\n",
      "Name: label, dtype: int64\n",
      "검증용 레이블 분포: \n",
      "1    17\n",
      "2    17\n",
      "0    16\n",
      "Name: label, dtype: int64\n"
     ]
    }
   ],
   "source": [
    "n = 0\n",
    "\n",
    "for train_index, test_index in skf.split(iris_df, iris_df['label']):\n",
    "    n = n + 1\n",
    "    \n",
    "    label_train = iris_df['label'].iloc[train_index]\n",
    "    label_test = iris_df['label'].iloc[test_index]\n",
    "    print(\"[교차검증 : %d] % n\")\n",
    "    print('학습용 레이블 분포: \\n', end='')\n",
    "    print(label_train.value_counts())\n",
    "    print('검증용 레이블 분포: \\n', end='')\n",
    "    print(label_test.value_counts())"
   ]
  },
  {
   "cell_type": "code",
   "execution_count": 118,
   "id": "018ca666-fabf-4aed-8dfe-7f4cd1b8572e",
   "metadata": {},
   "outputs": [],
   "source": [
    "# StratifiedKFold를 이용해 붓꽃 데이터 교차 검증\n",
    "dt_clf = DecisionTreeClassifier(random_state = 156)\n",
    "\n",
    "# 3개의 폴드 세트로 분리하는 StratifiedKFold 객체 생성\n",
    "skfold = StratifiedKFold(n_splits=3)\n",
    "\n",
    "# 폴드 세트별 정확도를 담을 리스트 객체 생성\n",
    "cv_accuracy = []"
   ]
  },
  {
   "cell_type": "code",
   "execution_count": 121,
   "id": "c5d6d2ee-32d3-42c3-97b5-e7c1c8eb5f10",
   "metadata": {},
   "outputs": [
    {
     "name": "stdout",
     "output_type": "stream",
     "text": [
      "1 \n",
      "정확도: 0.980000, 학습데이터크기: 100, 검증데이터크기: 50\n",
      "2 \n",
      "정확도: 0.940000, 학습데이터크기: 100, 검증데이터크기: 50\n",
      "3 \n",
      "정확도: 0.980000, 학습데이터크기: 100, 검증데이터크기: 50\n",
      "\n",
      "## 평균 검증 정확도: 0.9666666666666668\n"
     ]
    }
   ],
   "source": [
    "n = 0\n",
    "\n",
    "for train_index, test_index in skfold.split(features, label):\n",
    "    X_train, X_test = features[train_index], features[test_index] \n",
    "    y_train, y_test = label[train_index], label[test_index]\n",
    "    \n",
    "    # 학습 및 예측\n",
    "    dt_clf.fit(X_train, y_train)\n",
    "    pred = dt_clf.predict(X_test)\n",
    "\n",
    "    # 반복 시 마다 정확도 측정 \n",
    "    n += 1   \n",
    "    \n",
    "    acc = np.round(accuracy_score(y_test, pred), 3)\n",
    "    train_size = X_train.shape[0]\n",
    "    test_size = X_test.shape[0]\n",
    "    print('%d \\n정확도: %f, 학습데이터크기: %d, 검증데이터크기: %d' %(n, acc, train_size, test_size))\n",
    "          \n",
    "    cv_accuracy.append(acc)\n",
    "\n",
    "# 개별 iteration별 정확도를 합하여 평균 정확도 계산 \n",
    "print('\\n## 평균 검증 정확도:', np.mean(cv_accuracy)) "
   ]
  },
  {
   "cell_type": "markdown",
   "id": "3f950bdf-0ea4-4484-9be2-b531824f14db",
   "metadata": {},
   "source": [
    "Stratified K 폴드의 경우\n",
    "- 원본 데이터의 레이블 분포도 특성을 반영한 학습 및 검증 데이터 세트를 만들 수 있으므로\n",
    "- 왜곡된 레이블 데이터 세트에서는 반드시 Stratified K 폴드를 이용해서 교차 검증해야 함\n",
    "- 일반적으로 분류(Classification)에서의 교차 검증은 K 폴드가 아니라 Stratified K 폴드로 분할되어야 함\n",
    "- 회귀(Regression)에서는 Stratified K 폴드 지원되지 않음\n",
    "    - 이유 : 회귀의 결정값은 이산값 형태의 레이블이 아니라 연속된 숫자값이기 때문에\n",
    "    - 결정값별로 분포를 정하는 의미가 없기 때문\n",
    "\n",
    "## 교차검증을 보다 간편하게 \n",
    "\n",
    "- 교차 검증 (Cross Validation) 과정\n",
    "    1. 폴드 세트 설정\n",
    "    2. for 문에서 반복적으로 학습 및 검증 데이터 추출 및 학습과 예측 수행\n",
    "    3. 폴드 세트별로 예측 성능을 평균하여 최종 성능 평가\n",
    "\n",
    "### cross_val_score( ) 함수\n",
    "- 1 ~ 3 단계의 교차 검증 과정을 한꺼번에 수행\n",
    "- 내부에서 Estimator를 학습(fit), 예측(predict), 평가(evaluation) 시켜주므로\n",
    "- 간단하게 교차 검증 수행 가능"
   ]
  },
  {
   "cell_type": "markdown",
   "id": "56516c78-8871-4439-af01-6718a7172cb3",
   "metadata": {},
   "source": [
    "### 붓꽃 자료를 3개 폴드로 분할하여 학습 및 검증"
   ]
  },
  {
   "cell_type": "code",
   "execution_count": 125,
   "id": "1480c653-ac7f-400e-bad0-0bc1cb1afbb5",
   "metadata": {},
   "outputs": [],
   "source": [
    "from sklearn.tree import DecisionTreeClassifier\n",
    "from sklearn.model_selection import cross_val_score, cross_validate\n",
    "from sklearn.datasets import load_iris\n",
    "import numpy as np"
   ]
  },
  {
   "cell_type": "code",
   "execution_count": 127,
   "id": "eef9f014-1565-4fa5-83df-7375a2d78075",
   "metadata": {},
   "outputs": [],
   "source": [
    "iris = load_iris()\n",
    "dt_clf = DecisionTreeClassifier(random_state=156)\n",
    "\n",
    "features = iris.data\n",
    "label = iris.target"
   ]
  },
  {
   "cell_type": "code",
   "execution_count": 128,
   "id": "341a4eba-59fd-4103-8fec-852fbd33d339",
   "metadata": {},
   "outputs": [
    {
     "name": "stdout",
     "output_type": "stream",
     "text": [
      "교차 검증별 정확도: [0.98 0.94 0.98]\n",
      "평균 검증 정확도: 0.9667\n"
     ]
    }
   ],
   "source": [
    "scores = cross_val_score(dt_clf, features, label, scoring='accuracy', cv=3)\n",
    "print('교차 검증별 정확도:', scores)\n",
    "print('평균 검증 정확도:', np.round(np.mean(scores), 4))"
   ]
  },
  {
   "cell_type": "markdown",
   "id": "afe6af7e-61a0-4460-b24a-0992995b6d25",
   "metadata": {},
   "source": [
    "\n",
    "- cross_val_score()는 cv로 지정된 횟수만큼\n",
    "- scoring 파라미터로 지정된 평가 지표로 평가 결과값을 배열로 반환\n",
    "- 일반적으로 평가 결과값 평균을 평가 수치로 사용\n",
    "\n",
    "## 교차 검증과 최적의 하이퍼파라미터 튜닝을 한번에\n",
    "\n",
    "하이퍼파라미터(Hyper parameter)\n",
    "- 머신러닝 알고리즘을 구성하는 요소\n",
    "- 이 값들을 조정해 알고리즘의 예측 성능을 개선할 수 있음\n",
    "\n",
    "### 사이킷런의 GridSearchCV클래스\n",
    "\n",
    "- Classifier나 Regressor와 같은 알고리즘에 사용되는\n",
    "- 하이퍼 파라미터를 순차적으로 입력하면서\n",
    "- 최적의 파라미터를 편리하게 도출할 수 있는 방법 제공  \n",
    "-(Grid는 격자라는 의미 : 촘촘하게 파라미터를 입력하면서 테스트 하는 방식)\n",
    "\n",
    "즉,  \n",
    "- 머신러닝 알고리즘의 여러 하이퍼 파라미터를  \n",
    "- 순차적으로 변경하면서 최고 성능을 가지는 파라미터를 찾고자 한다면  \n",
    "- 파라미터의 집합을 만들어 순차적으로 적용하면서 최적화 수행  \n",
    "\n",
    "**GridSearchCV 클래스 생성자의 주요 파라미터**\n",
    "\n",
    "- estimator : classifier, regressor, peipeline\n",
    "\n",
    "\n",
    "- param_grid : key + 리스트 값을 가지는 딕셔너리 (estimator 튜닝을 위한 하이퍼 파라미터 )\n",
    "     - key: 파라미터명, 리스트값:파라미터 값\n",
    "     \n",
    "     \n",
    "- scoring : 예측 성능을 측정할 평가 방법 \n",
    "     - 성능 평가 지표를 지정하는 문자열\n",
    "     - 예: 정확도인 경우 'accuracy'\n",
    "     \n",
    "     \n",
    "- cv : 교차 검증을 위해 분할되는 학습/테스트 세트의 개수\n",
    "\n",
    "\n",
    "- refit : 최적의 하이퍼 파라미터를 찾은 뒤 입력된 estimator 객체를 해당 하이퍼 파라미터로 재학습 여부\n",
    "     - 디폴트 : True    \n"
   ]
  },
  {
   "cell_type": "code",
   "execution_count": 130,
   "id": "449d7872-d205-44e7-af37-fae57ba4eb9b",
   "metadata": {},
   "outputs": [],
   "source": [
    "# GridSearchCV를 이용해\n",
    "# 결정 트리 알고리즘의 여러 가지 최적화 파라미터를 순차적으로 적용해서\n",
    "# 붓꽃 데이터 예측 분석\n",
    "\n",
    "from sklearn.datasets import load_iris\n",
    "from sklearn.tree import DecisionTreeClassifier\n",
    "from sklearn.model_selection import GridSearchCV, train_test_split\n",
    "from sklearn.metrics import accuracy_score\n",
    "\n",
    "iris = load_iris()\n",
    "X_train, X_test, y_train, y_test = train_test_split(iris.data,\n",
    "                                                   iris.target,\n",
    "                                                   test_size=0.2,\n",
    "                                                    random_state=121)\n",
    "\n",
    "dt_clf = DecisionTreeClassifier()\n",
    "\n",
    "parameters = {'max_depth': [1, 2, 3], 'min_samples_split':[2, 3]}"
   ]
  },
  {
   "cell_type": "markdown",
   "id": "aca3e464-97da-41d2-9a81-efcef523f67f",
   "metadata": {},
   "source": [
    "하이퍼파라미터는 딕셔너리 형식으로 지정\n",
    "key : 결정트리의 하이파라미터\n",
    "value : 하이퍼파라미터의 값\n",
    "\n",
    "\n",
    "min_samples_split : 자식 규칙 노드를 분할해서 만드는데 필요한 최소 샘플 데이터 개수\n",
    "- min_samples_split=4로 설정하는 경우\n",
    "    - 최소 샘플 개수가 4개 필요한데\n",
    "    - 3개만 있는 경우에는 더 이상 자식 규칙 노드를 위한 분할을 하지 않음\n",
    "\n",
    "\n",
    "트리 깊이도 줄어서 더 간결한 결정 트리 생성"
   ]
  },
  {
   "cell_type": "code",
   "execution_count": 131,
   "id": "4d8a8e7e-97b7-476b-8e23-780c55357918",
   "metadata": {},
   "outputs": [
    {
     "data": {
      "text/html": [
       "<div>\n",
       "<style scoped>\n",
       "    .dataframe tbody tr th:only-of-type {\n",
       "        vertical-align: middle;\n",
       "    }\n",
       "\n",
       "    .dataframe tbody tr th {\n",
       "        vertical-align: top;\n",
       "    }\n",
       "\n",
       "    .dataframe thead th {\n",
       "        text-align: right;\n",
       "    }\n",
       "</style>\n",
       "<table border=\"1\" class=\"dataframe\">\n",
       "  <thead>\n",
       "    <tr style=\"text-align: right;\">\n",
       "      <th></th>\n",
       "      <th>mean_fit_time</th>\n",
       "      <th>std_fit_time</th>\n",
       "      <th>mean_score_time</th>\n",
       "      <th>std_score_time</th>\n",
       "      <th>param_max_depth</th>\n",
       "      <th>param_min_samples_split</th>\n",
       "      <th>params</th>\n",
       "      <th>split0_test_score</th>\n",
       "      <th>split1_test_score</th>\n",
       "      <th>split2_test_score</th>\n",
       "      <th>mean_test_score</th>\n",
       "      <th>std_test_score</th>\n",
       "      <th>rank_test_score</th>\n",
       "      <th>split0_train_score</th>\n",
       "      <th>split1_train_score</th>\n",
       "      <th>split2_train_score</th>\n",
       "      <th>mean_train_score</th>\n",
       "      <th>std_train_score</th>\n",
       "    </tr>\n",
       "  </thead>\n",
       "  <tbody>\n",
       "    <tr>\n",
       "      <th>0</th>\n",
       "      <td>0.001000</td>\n",
       "      <td>4.495664e-07</td>\n",
       "      <td>0.000000</td>\n",
       "      <td>0.000000</td>\n",
       "      <td>1</td>\n",
       "      <td>2</td>\n",
       "      <td>{'max_depth': 1, 'min_samples_split': 2}</td>\n",
       "      <td>0.700</td>\n",
       "      <td>0.7</td>\n",
       "      <td>0.70</td>\n",
       "      <td>0.700000</td>\n",
       "      <td>1.110223e-16</td>\n",
       "      <td>5</td>\n",
       "      <td>0.7000</td>\n",
       "      <td>0.7000</td>\n",
       "      <td>0.7000</td>\n",
       "      <td>0.700000</td>\n",
       "      <td>1.110223e-16</td>\n",
       "    </tr>\n",
       "    <tr>\n",
       "      <th>1</th>\n",
       "      <td>0.000000</td>\n",
       "      <td>0.000000e+00</td>\n",
       "      <td>0.000000</td>\n",
       "      <td>0.000000</td>\n",
       "      <td>1</td>\n",
       "      <td>3</td>\n",
       "      <td>{'max_depth': 1, 'min_samples_split': 3}</td>\n",
       "      <td>0.700</td>\n",
       "      <td>0.7</td>\n",
       "      <td>0.70</td>\n",
       "      <td>0.700000</td>\n",
       "      <td>1.110223e-16</td>\n",
       "      <td>5</td>\n",
       "      <td>0.7000</td>\n",
       "      <td>0.7000</td>\n",
       "      <td>0.7000</td>\n",
       "      <td>0.700000</td>\n",
       "      <td>1.110223e-16</td>\n",
       "    </tr>\n",
       "    <tr>\n",
       "      <th>2</th>\n",
       "      <td>0.000333</td>\n",
       "      <td>4.711456e-04</td>\n",
       "      <td>0.000667</td>\n",
       "      <td>0.000472</td>\n",
       "      <td>2</td>\n",
       "      <td>2</td>\n",
       "      <td>{'max_depth': 2, 'min_samples_split': 2}</td>\n",
       "      <td>0.925</td>\n",
       "      <td>1.0</td>\n",
       "      <td>0.95</td>\n",
       "      <td>0.958333</td>\n",
       "      <td>3.118048e-02</td>\n",
       "      <td>3</td>\n",
       "      <td>0.9750</td>\n",
       "      <td>0.9375</td>\n",
       "      <td>0.9625</td>\n",
       "      <td>0.958333</td>\n",
       "      <td>1.559024e-02</td>\n",
       "    </tr>\n",
       "    <tr>\n",
       "      <th>3</th>\n",
       "      <td>0.000333</td>\n",
       "      <td>4.713704e-04</td>\n",
       "      <td>0.000000</td>\n",
       "      <td>0.000000</td>\n",
       "      <td>2</td>\n",
       "      <td>3</td>\n",
       "      <td>{'max_depth': 2, 'min_samples_split': 3}</td>\n",
       "      <td>0.925</td>\n",
       "      <td>1.0</td>\n",
       "      <td>0.95</td>\n",
       "      <td>0.958333</td>\n",
       "      <td>3.118048e-02</td>\n",
       "      <td>3</td>\n",
       "      <td>0.9750</td>\n",
       "      <td>0.9375</td>\n",
       "      <td>0.9625</td>\n",
       "      <td>0.958333</td>\n",
       "      <td>1.559024e-02</td>\n",
       "    </tr>\n",
       "    <tr>\n",
       "      <th>4</th>\n",
       "      <td>0.000334</td>\n",
       "      <td>4.717075e-04</td>\n",
       "      <td>0.000333</td>\n",
       "      <td>0.000471</td>\n",
       "      <td>3</td>\n",
       "      <td>2</td>\n",
       "      <td>{'max_depth': 3, 'min_samples_split': 2}</td>\n",
       "      <td>0.975</td>\n",
       "      <td>1.0</td>\n",
       "      <td>0.95</td>\n",
       "      <td>0.975000</td>\n",
       "      <td>2.041241e-02</td>\n",
       "      <td>1</td>\n",
       "      <td>0.9875</td>\n",
       "      <td>0.9625</td>\n",
       "      <td>0.9875</td>\n",
       "      <td>0.979167</td>\n",
       "      <td>1.178511e-02</td>\n",
       "    </tr>\n",
       "    <tr>\n",
       "      <th>5</th>\n",
       "      <td>0.000334</td>\n",
       "      <td>4.719323e-04</td>\n",
       "      <td>0.000333</td>\n",
       "      <td>0.000471</td>\n",
       "      <td>3</td>\n",
       "      <td>3</td>\n",
       "      <td>{'max_depth': 3, 'min_samples_split': 3}</td>\n",
       "      <td>0.975</td>\n",
       "      <td>1.0</td>\n",
       "      <td>0.95</td>\n",
       "      <td>0.975000</td>\n",
       "      <td>2.041241e-02</td>\n",
       "      <td>1</td>\n",
       "      <td>0.9875</td>\n",
       "      <td>0.9625</td>\n",
       "      <td>0.9875</td>\n",
       "      <td>0.979167</td>\n",
       "      <td>1.178511e-02</td>\n",
       "    </tr>\n",
       "  </tbody>\n",
       "</table>\n",
       "</div>"
      ],
      "text/plain": [
       "   mean_fit_time  std_fit_time  mean_score_time  std_score_time  \\\n",
       "0       0.001000  4.495664e-07         0.000000        0.000000   \n",
       "1       0.000000  0.000000e+00         0.000000        0.000000   \n",
       "2       0.000333  4.711456e-04         0.000667        0.000472   \n",
       "3       0.000333  4.713704e-04         0.000000        0.000000   \n",
       "4       0.000334  4.717075e-04         0.000333        0.000471   \n",
       "5       0.000334  4.719323e-04         0.000333        0.000471   \n",
       "\n",
       "  param_max_depth param_min_samples_split  \\\n",
       "0               1                       2   \n",
       "1               1                       3   \n",
       "2               2                       2   \n",
       "3               2                       3   \n",
       "4               3                       2   \n",
       "5               3                       3   \n",
       "\n",
       "                                     params  split0_test_score  \\\n",
       "0  {'max_depth': 1, 'min_samples_split': 2}              0.700   \n",
       "1  {'max_depth': 1, 'min_samples_split': 3}              0.700   \n",
       "2  {'max_depth': 2, 'min_samples_split': 2}              0.925   \n",
       "3  {'max_depth': 2, 'min_samples_split': 3}              0.925   \n",
       "4  {'max_depth': 3, 'min_samples_split': 2}              0.975   \n",
       "5  {'max_depth': 3, 'min_samples_split': 3}              0.975   \n",
       "\n",
       "   split1_test_score  split2_test_score  mean_test_score  std_test_score  \\\n",
       "0                0.7               0.70         0.700000    1.110223e-16   \n",
       "1                0.7               0.70         0.700000    1.110223e-16   \n",
       "2                1.0               0.95         0.958333    3.118048e-02   \n",
       "3                1.0               0.95         0.958333    3.118048e-02   \n",
       "4                1.0               0.95         0.975000    2.041241e-02   \n",
       "5                1.0               0.95         0.975000    2.041241e-02   \n",
       "\n",
       "   rank_test_score  split0_train_score  split1_train_score  \\\n",
       "0                5              0.7000              0.7000   \n",
       "1                5              0.7000              0.7000   \n",
       "2                3              0.9750              0.9375   \n",
       "3                3              0.9750              0.9375   \n",
       "4                1              0.9875              0.9625   \n",
       "5                1              0.9875              0.9625   \n",
       "\n",
       "   split2_train_score  mean_train_score  std_train_score  \n",
       "0              0.7000          0.700000     1.110223e-16  \n",
       "1              0.7000          0.700000     1.110223e-16  \n",
       "2              0.9625          0.958333     1.559024e-02  \n",
       "3              0.9625          0.958333     1.559024e-02  \n",
       "4              0.9875          0.979167     1.178511e-02  \n",
       "5              0.9875          0.979167     1.178511e-02  "
      ]
     },
     "execution_count": 131,
     "metadata": {},
     "output_type": "execute_result"
    }
   ],
   "source": [
    "grid_tree = GridSearchCV(dt_clf, param_grid=parameters, cv=3, refit=True, return_train_score=True)\n",
    "\n",
    "grid_tree.fit(X_train, y_train)\n",
    "\n",
    "scores_df = pd.DataFrame(grid_tree.cv_results_)\n",
    "scores_df"
   ]
  },
  {
   "cell_type": "code",
   "execution_count": 132,
   "id": "988b3401-0325-48d8-bf2f-fb9a2d8d66e6",
   "metadata": {},
   "outputs": [
    {
     "data": {
      "text/plain": [
       "{'mean_fit_time': array([0.00100048, 0.        , 0.00033315, 0.00033331, 0.00033355,\n",
       "        0.00033371]),\n",
       " 'std_fit_time': array([4.49566384e-07, 0.00000000e+00, 4.71145571e-04, 4.71370354e-04,\n",
       "        4.71707529e-04, 4.71932312e-04]),\n",
       " 'mean_score_time': array([0.        , 0.        , 0.00066694, 0.        , 0.00033315,\n",
       "        0.00033339]),\n",
       " 'std_score_time': array([0.        , 0.        , 0.0004716 , 0.        , 0.00047115,\n",
       "        0.00047148]),\n",
       " 'param_max_depth': masked_array(data=[1, 1, 2, 2, 3, 3],\n",
       "              mask=[False, False, False, False, False, False],\n",
       "        fill_value='?',\n",
       "             dtype=object),\n",
       " 'param_min_samples_split': masked_array(data=[2, 3, 2, 3, 2, 3],\n",
       "              mask=[False, False, False, False, False, False],\n",
       "        fill_value='?',\n",
       "             dtype=object),\n",
       " 'params': [{'max_depth': 1, 'min_samples_split': 2},\n",
       "  {'max_depth': 1, 'min_samples_split': 3},\n",
       "  {'max_depth': 2, 'min_samples_split': 2},\n",
       "  {'max_depth': 2, 'min_samples_split': 3},\n",
       "  {'max_depth': 3, 'min_samples_split': 2},\n",
       "  {'max_depth': 3, 'min_samples_split': 3}],\n",
       " 'split0_test_score': array([0.7  , 0.7  , 0.925, 0.925, 0.975, 0.975]),\n",
       " 'split1_test_score': array([0.7, 0.7, 1. , 1. , 1. , 1. ]),\n",
       " 'split2_test_score': array([0.7 , 0.7 , 0.95, 0.95, 0.95, 0.95]),\n",
       " 'mean_test_score': array([0.7       , 0.7       , 0.95833333, 0.95833333, 0.975     ,\n",
       "        0.975     ]),\n",
       " 'std_test_score': array([1.11022302e-16, 1.11022302e-16, 3.11804782e-02, 3.11804782e-02,\n",
       "        2.04124145e-02, 2.04124145e-02]),\n",
       " 'rank_test_score': array([5, 5, 3, 3, 1, 1]),\n",
       " 'split0_train_score': array([0.7   , 0.7   , 0.975 , 0.975 , 0.9875, 0.9875]),\n",
       " 'split1_train_score': array([0.7   , 0.7   , 0.9375, 0.9375, 0.9625, 0.9625]),\n",
       " 'split2_train_score': array([0.7   , 0.7   , 0.9625, 0.9625, 0.9875, 0.9875]),\n",
       " 'mean_train_score': array([0.7       , 0.7       , 0.95833333, 0.95833333, 0.97916667,\n",
       "        0.97916667]),\n",
       " 'std_train_score': array([1.11022302e-16, 1.11022302e-16, 1.55902391e-02, 1.55902391e-02,\n",
       "        1.17851130e-02, 1.17851130e-02])}"
      ]
     },
     "execution_count": 132,
     "metadata": {},
     "output_type": "execute_result"
    }
   ],
   "source": [
    "# 파라미터 확인\n",
    "grid_tree.cv_results_"
   ]
  },
  {
   "cell_type": "code",
   "execution_count": 133,
   "id": "a7fcb6e2-0f0c-4d2e-bd9c-9404e265a346",
   "metadata": {},
   "outputs": [
    {
     "data": {
      "text/html": [
       "<div>\n",
       "<style scoped>\n",
       "    .dataframe tbody tr th:only-of-type {\n",
       "        vertical-align: middle;\n",
       "    }\n",
       "\n",
       "    .dataframe tbody tr th {\n",
       "        vertical-align: top;\n",
       "    }\n",
       "\n",
       "    .dataframe thead th {\n",
       "        text-align: right;\n",
       "    }\n",
       "</style>\n",
       "<table border=\"1\" class=\"dataframe\">\n",
       "  <thead>\n",
       "    <tr style=\"text-align: right;\">\n",
       "      <th></th>\n",
       "      <th>params</th>\n",
       "      <th>mean_test_score</th>\n",
       "      <th>rank_test_score</th>\n",
       "    </tr>\n",
       "  </thead>\n",
       "  <tbody>\n",
       "    <tr>\n",
       "      <th>0</th>\n",
       "      <td>{'max_depth': 1, 'min_samples_split': 2}</td>\n",
       "      <td>0.700000</td>\n",
       "      <td>5</td>\n",
       "    </tr>\n",
       "    <tr>\n",
       "      <th>1</th>\n",
       "      <td>{'max_depth': 1, 'min_samples_split': 3}</td>\n",
       "      <td>0.700000</td>\n",
       "      <td>5</td>\n",
       "    </tr>\n",
       "    <tr>\n",
       "      <th>2</th>\n",
       "      <td>{'max_depth': 2, 'min_samples_split': 2}</td>\n",
       "      <td>0.958333</td>\n",
       "      <td>3</td>\n",
       "    </tr>\n",
       "    <tr>\n",
       "      <th>3</th>\n",
       "      <td>{'max_depth': 2, 'min_samples_split': 3}</td>\n",
       "      <td>0.958333</td>\n",
       "      <td>3</td>\n",
       "    </tr>\n",
       "    <tr>\n",
       "      <th>4</th>\n",
       "      <td>{'max_depth': 3, 'min_samples_split': 2}</td>\n",
       "      <td>0.975000</td>\n",
       "      <td>1</td>\n",
       "    </tr>\n",
       "    <tr>\n",
       "      <th>5</th>\n",
       "      <td>{'max_depth': 3, 'min_samples_split': 3}</td>\n",
       "      <td>0.975000</td>\n",
       "      <td>1</td>\n",
       "    </tr>\n",
       "  </tbody>\n",
       "</table>\n",
       "</div>"
      ],
      "text/plain": [
       "                                     params  mean_test_score  rank_test_score\n",
       "0  {'max_depth': 1, 'min_samples_split': 2}         0.700000                5\n",
       "1  {'max_depth': 1, 'min_samples_split': 3}         0.700000                5\n",
       "2  {'max_depth': 2, 'min_samples_split': 2}         0.958333                3\n",
       "3  {'max_depth': 2, 'min_samples_split': 3}         0.958333                3\n",
       "4  {'max_depth': 3, 'min_samples_split': 2}         0.975000                1\n",
       "5  {'max_depth': 3, 'min_samples_split': 3}         0.975000                1"
      ]
     },
     "execution_count": 133,
     "metadata": {},
     "output_type": "execute_result"
    }
   ],
   "source": [
    "# GridSearchCV 결과 세트로 딕셔너리 형태인 cv_results_ 를 \n",
    "# DataFrame으로 변환 후 # 일부 파라미터 확인\n",
    "scores_df[['params', 'mean_test_score', 'rank_test_score']]"
   ]
  },
  {
   "cell_type": "code",
   "execution_count": 134,
   "id": "29ea4cfe-19b5-4219-9fcd-5d2ebb83ab62",
   "metadata": {},
   "outputs": [
    {
     "name": "stdout",
     "output_type": "stream",
     "text": [
      "최적 파라미터:  {'max_depth': 3, 'min_samples_split': 2}\n",
      "최고 정확도: 0.975\n"
     ]
    }
   ],
   "source": [
    "# 최고 성능을 가지는 파라미터 조합 및 예측 성능 1위 값 출력\n",
    "print('최적 파라미터: ', grid_tree.best_params_)\n",
    "print('최고 정확도:', grid_tree.best_score_)"
   ]
  },
  {
   "cell_type": "code",
   "execution_count": 135,
   "id": "6420ab11-6f9a-427e-9605-ffc0950ab497",
   "metadata": {},
   "outputs": [
    {
     "data": {
      "text/plain": [
       "0.9666666666666667"
      ]
     },
     "execution_count": 135,
     "metadata": {},
     "output_type": "execute_result"
    }
   ],
   "source": [
    "# GridSearchCV 객체의 생성 파라미터로 refit=True로 설정된 경우(디폴트)\n",
    "# GridSearchCV가 최적 성능을 나타내는 하이퍼 파라미터로 Estimator를 학습하고\n",
    "# best_estimator_ 로 저장\n",
    "# (GridSearchCV의 refit으로 이미 학습이 된 estimator) \n",
    "best_dt = grid_tree.best_estimator_\n",
    "\n",
    "# (best_estimator_는 이미 최적 학습이 됐으므로 \n",
    "# 별도 학습 필요 없이 바로 예측 가능)\n",
    "\n",
    "pred = best_dt.predict(X_test)\n",
    "accuracy_score(y_test, pred)"
   ]
  },
  {
   "cell_type": "markdown",
   "id": "7263a384-0dd6-4ff8-aee0-1d7c48cbb77b",
   "metadata": {},
   "source": [
    "**일반적인 머신러닝 모델 적용 방법**\n",
    "\n",
    "- 일반적으로 학습 데이터를 GridSearchCV를 이용해\n",
    "- 최적 하이퍼 파라미터 튜닝을 수행한 뒤에\n",
    "- 별도의 테스트 세트에서 이를 평가하는 방식"
   ]
  },
  {
   "cell_type": "code",
   "execution_count": null,
   "id": "b8399e5f-d4fd-429b-95ec-3303341f105c",
   "metadata": {},
   "outputs": [],
   "source": []
  }
 ],
 "metadata": {
  "kernelspec": {
   "display_name": "Python Multi",
   "language": "python",
   "name": "multi"
  },
  "language_info": {
   "codemirror_mode": {
    "name": "ipython",
    "version": 3
   },
   "file_extension": ".py",
   "mimetype": "text/x-python",
   "name": "python",
   "nbconvert_exporter": "python",
   "pygments_lexer": "ipython3",
   "version": "3.7.6"
  }
 },
 "nbformat": 4,
 "nbformat_minor": 5
}
