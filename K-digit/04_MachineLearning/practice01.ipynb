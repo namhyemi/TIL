{
 "cells": [
  {
   "cell_type": "markdown",
   "id": "ccfa503d-04e1-4346-aa13-1fdb7d452851",
   "metadata": {},
   "source": [
    "# 실습1. 마켓과 머신러닝"
   ]
  },
  {
   "cell_type": "markdown",
   "id": "762b346e-08d3-4ef4-ace0-973346779415",
   "metadata": {},
   "source": [
    "- 마켓에 들어온 생선의 크기 정보를 입력하면 자동으로 생선 이름 알려주기\n",
    "\n",
    "- 도미에 대한 정보 안다면? \"30~40cm 길이의 생선은 도미\"\n",
    "\n",
    "- 시스템이 스스로 기준을 찾으려면?"
   ]
  },
  {
   "cell_type": "markdown",
   "id": "c32e207a-0016-4945-be41-c5606e982b30",
   "metadata": {},
   "source": [
    "### 도미 데이터 준비하기"
   ]
  },
  {
   "cell_type": "code",
   "execution_count": 21,
   "id": "3fbce3d2-644b-48d2-a5a1-ff3989677e4d",
   "metadata": {},
   "outputs": [
    {
     "data": {
      "text/plain": [
       "35"
      ]
     },
     "execution_count": 21,
     "metadata": {},
     "output_type": "execute_result"
    }
   ],
   "source": [
    "bream_length = [25.4, 26.3, 26.5, 29.0, 29.0, 29.7, 29.7, 30.0, 30.0, 30.7,\n",
    "                31.0, 31.0, 31.5, 32.0, 32.0, 32.0, 33.0, 33.0, 33.5, 33.5,\n",
    "                34.0, 34.0, 34.5, 35.0, 35.0, 35.0, 35.0, 36.0, 36.0, 37.0,\n",
    "                38.5, 38.5, 39.5, 41.0, 41.0]\n",
    "bream_weight = [242.0, 290.0, 340.0, 363.0, 430.0, 450.0, 500.0, 390.0, 450.0,\n",
    "                500.0, 475.0, 500.0, 500.0, 340.0, 600.0, 600.0, 700.0, 700.0,\n",
    "                610.0, 650.0, 575.0, 685.0, 620.0, 680.0, 700.0, 725.0, 720.0,\n",
    "                714.0, 850.0, 1000.0, 920.0, 955.0, 925.0, 975.0, 950.0]\n",
    "\n",
    "len(bream_length)"
   ]
  },
  {
   "cell_type": "markdown",
   "id": "cb19f5a7-0c24-467a-8266-ebc4625d1ea0",
   "metadata": {},
   "source": [
    "- 도미의 길이, 무게는 도미의 특징을 나타내는 특성(feature) 라고 함\n",
    "    - 통계학에서는 변수라고 부름\n",
    "\n",
    "\n",
    "    \n",
    "- 특성은 데이터를 표현하는 하나의 성질"
   ]
  },
  {
   "cell_type": "markdown",
   "id": "43b82568-a531-40ff-909b-139ace755d25",
   "metadata": {},
   "source": [
    "### 도미 길이와 무게 데이터에 대한 산점도"
   ]
  },
  {
   "cell_type": "code",
   "execution_count": 8,
   "id": "d8816c86-2e9c-4343-a472-b227499381f1",
   "metadata": {},
   "outputs": [],
   "source": [
    "import matplotlib.pyplot as plt"
   ]
  },
  {
   "cell_type": "code",
   "execution_count": 9,
   "id": "b16e51be-b01a-4d4c-b225-8d0a12c5d1a6",
   "metadata": {},
   "outputs": [
    {
     "data": {
      "image/png": "[encoded data removed]",
      "text/plain": [
       "<Figure size 432x288 with 1 Axes>"
      ]
     },
     "metadata": {
      "needs_background": "light"
     },
     "output_type": "display_data"
    }
   ],
   "source": [
    "plt.scatter(bream_length, bream_weight)\n",
    "plt.xlabel('length')\n",
    "plt.ylabel('weight')\n",
    "plt.show()"
   ]
  },
  {
   "cell_type": "markdown",
   "id": "a17da474-4051-4817-9602-d365173ce20c",
   "metadata": {},
   "source": [
    "- 생선의 길이가 길수록 무게가 많이 나가는 모양 -> 선형적 관계"
   ]
  },
  {
   "cell_type": "markdown",
   "id": "80c60a9f-7df2-4f7b-82db-7983d0c5645c",
   "metadata": {},
   "source": [
    "### 빙어 데이터 준비하기"
   ]
  },
  {
   "cell_type": "code",
   "execution_count": 20,
   "id": "68ba99a5-f0f1-4f93-a8da-1dd95fe9d49a",
   "metadata": {},
   "outputs": [
    {
     "data": {
      "text/plain": [
       "14"
      ]
     },
     "execution_count": 20,
     "metadata": {},
     "output_type": "execute_result"
    }
   ],
   "source": [
    "smelt_length = [9.8, 10.5, 10.6, 11.0, 11.2, 11.3, 11.8, 11.8, 12.0, 12.2,\n",
    "                12.4, 13.0, 14.3, 15.0]\n",
    "smelt_weight = [6.7, 7.5, 7.0, 9.7, 9.8, 8.7, 10.0, 9.9, 9.8, 12.2,\n",
    "                13.4, 12.2, 19.7, 19.9]\n",
    "\n",
    "len(smelt_length)"
   ]
  },
  {
   "cell_type": "code",
   "execution_count": 75,
   "id": "e9050267-7b9e-4db8-b34d-0bd4aaafc8fa",
   "metadata": {},
   "outputs": [
    {
     "data": {
      "image/png": "[encoded data removed]",
      "text/plain": [
       "<Figure size 432x288 with 1 Axes>"
      ]
     },
     "metadata": {
      "needs_background": "light"
     },
     "output_type": "display_data"
    }
   ],
   "source": [
    "plt.scatter(smelt_length, smelt_weight)\n",
    "plt.xlabel('length')\n",
    "plt.ylabel('weight')\n",
    "plt.show()"
   ]
  },
  {
   "cell_type": "markdown",
   "id": "cf7bf07d-08eb-4a61-a569-bdeb2f58089a",
   "metadata": {},
   "source": [
    "### 도미 데이터와 빙어 데이터 병합한 산점도"
   ]
  },
  {
   "cell_type": "code",
   "execution_count": 15,
   "id": "b38a26e1-abc2-4be3-b1c4-b3e51a4a8bef",
   "metadata": {},
   "outputs": [
    {
     "data": {
      "image/png": "[encoded data removed]",
      "text/plain": [
       "<Figure size 432x288 with 1 Axes>"
      ]
     },
     "metadata": {
      "needs_background": "light"
     },
     "output_type": "display_data"
    }
   ],
   "source": [
    "plt.scatter(bream_length, bream_weight)\n",
    "plt.scatter(smelt_length, smelt_weight)\n",
    "plt.xlabel('length')\n",
    "plt.ylabel('weight')\n",
    "plt.show()"
   ]
  },
  {
   "cell_type": "markdown",
   "id": "73fc7d07-9ef8-424c-87ee-47f5f25de9ea",
   "metadata": {},
   "source": [
    "## 첫 번째 머신러닝 프로그램"
   ]
  },
  {
   "cell_type": "markdown",
   "id": "0f8c4578-bea0-45d3-b64d-b4738c6620a8",
   "metadata": {},
   "source": [
    "### 두 생선 데이터 병합"
   ]
  },
  {
   "cell_type": "code",
   "execution_count": 59,
   "id": "4587c6a5-8a18-4807-b86a-bd29b5b4521e",
   "metadata": {},
   "outputs": [],
   "source": [
    "#두 리시트 합치기\n",
    "lenght = bream_length + smelt_length\n",
    "weight = bream_weight + smelt_weight"
   ]
  },
  {
   "cell_type": "code",
   "execution_count": 60,
   "id": "284288e4-77e8-4bdc-aeb1-953402476215",
   "metadata": {},
   "outputs": [
    {
     "data": {
      "text/plain": [
       "[[25.4, 242.0],\n",
       " [26.3, 290.0],\n",
       " [26.5, 340.0],\n",
       " [29.0, 363.0],\n",
       " [29.0, 430.0],\n",
       " [29.7, 450.0],\n",
       " [29.7, 500.0],\n",
       " [30.0, 390.0],\n",
       " [30.0, 450.0],\n",
       " [30.7, 500.0],\n",
       " [31.0, 475.0],\n",
       " [31.0, 500.0],\n",
       " [31.5, 500.0],\n",
       " [32.0, 340.0],\n",
       " [32.0, 600.0],\n",
       " [32.0, 600.0],\n",
       " [33.0, 700.0],\n",
       " [33.0, 700.0],\n",
       " [33.5, 610.0],\n",
       " [33.5, 650.0],\n",
       " [34.0, 575.0],\n",
       " [34.0, 685.0],\n",
       " [34.5, 620.0],\n",
       " [35.0, 680.0],\n",
       " [35.0, 700.0],\n",
       " [35.0, 725.0],\n",
       " [35.0, 720.0],\n",
       " [36.0, 714.0],\n",
       " [36.0, 850.0],\n",
       " [37.0, 1000.0],\n",
       " [38.5, 920.0],\n",
       " [38.5, 955.0],\n",
       " [39.5, 925.0],\n",
       " [41.0, 975.0],\n",
       " [41.0, 950.0],\n",
       " [9.8, 6.7],\n",
       " [10.5, 7.5],\n",
       " [10.6, 7.0],\n",
       " [11.0, 9.7],\n",
       " [11.2, 9.8],\n",
       " [11.3, 8.7],\n",
       " [11.8, 10.0],\n",
       " [11.8, 9.9],\n",
       " [12.0, 9.8],\n",
       " [12.2, 12.2],\n",
       " [12.4, 13.4],\n",
       " [13.0, 12.2],\n",
       " [14.3, 19.7],\n",
       " [15.0, 19.9]]"
      ]
     },
     "execution_count": 60,
     "metadata": {},
     "output_type": "execute_result"
    }
   ],
   "source": [
    "# 2차원 리스트로 변환\n",
    "fish_data = [[l,w] for l, w in zip(lenght, weight)]\n",
    "fish_data"
   ]
  },
  {
   "cell_type": "markdown",
   "id": "cef19dbd-1757-46d1-9a49-40f773612558",
   "metadata": {},
   "source": [
    "### 타겟(레이블) 데이터 생성"
   ]
  },
  {
   "cell_type": "code",
   "execution_count": 61,
   "id": "19377ecf-3951-414e-9545-bdadb1c63a9a",
   "metadata": {},
   "outputs": [
    {
     "name": "stdout",
     "output_type": "stream",
     "text": [
      "[1, 1, 1, 1, 1, 1, 1, 1, 1, 1, 1, 1, 1, 1, 1, 1, 1, 1, 1, 1, 1, 1, 1, 1, 1, 1, 1, 1, 1, 1, 1, 1, 1, 1, 1, 0, 0, 0, 0, 0, 0, 0, 0, 0, 0, 0, 0, 0, 0]\n"
     ]
    }
   ],
   "source": [
    "fish_target = [1]*35 + [0]*14\n",
    "\n",
    "print(fish_target)"
   ]
  },
  {
   "cell_type": "markdown",
   "id": "b6c32df3-3007-4317-9696-628b601d1934",
   "metadata": {},
   "source": [
    "## K-최근접 이웃(K-Nearest Neighbor) 알고리즘을 이용한 분류"
   ]
  },
  {
   "cell_type": "markdown",
   "id": "a3c2c475-df54-4fba-93bc-f07993b7d9ee",
   "metadata": {},
   "source": [
    "### K-최근접 이웃(K-Nearest Neighbor) 알고리즘 소개"
   ]
  },
  {
   "cell_type": "markdown",
   "id": "ad578ded-2e5e-4e31-a469-27cb48ee939d",
   "metadata": {},
   "source": [
    "- 테스트 데이터와 K개 훈련데이터의 y값들을 비교\n",
    "- 분류와 회귀 모두 활용\n",
    "    - 분류 : k개 최근접 이웃들의 class들 중 다수결 결과로 class 예측\n",
    "    - 회귀 : k개 최근접 이웃들이 가지고 있는 값의 평균을 결과값으로 예측"
   ]
  },
  {
   "cell_type": "markdown",
   "id": "6809452f-9870-4516-9875-1dd9cec5d672",
   "metadata": {},
   "source": [
    "- 비모수방식이며 instance-based 알고리즘\n",
    "\n",
    "- train과 test 세트로 데이터를 분리하지만 실제로 train은 존재하지 않는 게으른 알고리즘\n",
    "\n",
    "- 구체적인 데이터를 가지고 예측을 요청할 때, K개 가장 가까운 사례를 train data set에서 찾아 해당하는 데이터의 y 값을 기반으로 예측 결과를 제시\n",
    "\n",
    "- K 값 : 동점을 막기 위해 대개 홀수로 정함 \n",
    "    - k가 작으면 이상치 등 노이즈에 민감하게 반응하여 과대적합 \n",
    "        - k=1인 경우 가장 가까운 이웃과 같은 클래스가 할당됨\n",
    "    - k가 크면 자료의 패턴을 파악할 수 없어 과소적합\n",
    "        - k=N인 경우 전체 평균의 개념\n",
    "\n",
    "\n",
    "- '가깝다'는 판단 기준 : **거리** (맨하탄 거리, 유클리디안 거리, 민코위스키 거리 등)"
   ]
  },
  {
   "cell_type": "markdown",
   "id": "64f14292-0677-4c3d-b8f9-bd9aa9ed0ba3",
   "metadata": {},
   "source": [
    "### 사이킷런의 K-최근접이웃 클래스"
   ]
  },
  {
   "cell_type": "code",
   "execution_count": 62,
   "id": "d29564dd-b3ed-4102-906b-e25631b756e5",
   "metadata": {},
   "outputs": [],
   "source": [
    "from sklearn.neighbors import KNeighborsClassifier"
   ]
  },
  {
   "cell_type": "code",
   "execution_count": 63,
   "id": "498595de-cc4f-4df7-8965-675372b4cba9",
   "metadata": {},
   "outputs": [],
   "source": [
    "# KNeighborsClass 객체 생성\n",
    "\n",
    "kn = KNeighborsClassifier()"
   ]
  },
  {
   "cell_type": "code",
   "execution_count": 64,
   "id": "38567390-6c5e-4262-a225-b66af994b6f3",
   "metadata": {},
   "outputs": [
    {
     "data": {
      "text/plain": [
       "KNeighborsClassifier()"
      ]
     },
     "execution_count": 64,
     "metadata": {},
     "output_type": "execute_result"
    }
   ],
   "source": [
    "# 훈련(training) : fit(features, label) 메서드\n",
    "\n",
    "kn.fit(fish_data, fish_target)"
   ]
  },
  {
   "cell_type": "code",
   "execution_count": 65,
   "id": "9195cb3f-b2fd-4d9a-b21e-e58d1fa84e09",
   "metadata": {},
   "outputs": [
    {
     "data": {
      "text/plain": [
       "1.0"
      ]
     },
     "execution_count": 65,
     "metadata": {},
     "output_type": "execute_result"
    }
   ],
   "source": [
    "# 모델 평가 : score() 메서드 => 정확도\n",
    "\n",
    "kn.score(fish_data, fish_target)"
   ]
  },
  {
   "cell_type": "markdown",
   "id": "2cf96cbe-6ef6-4bfe-a783-86f3fc15c8f8",
   "metadata": {},
   "source": [
    "**정확도(accuracy)**\n",
    "\n",
    "- 정확한 답을 몇개 맞추었는지를 백분율로 나타낸 값\n",
    "-  $정확히 맞힌 개수 / 전체 데이터수$"
   ]
  },
  {
   "cell_type": "markdown",
   "id": "b1ecf502-8ffa-4c88-ab2e-702193f96c76",
   "metadata": {},
   "source": [
    "### K-최근접 이웃 알고리즘을 이용한 새로운 데이터 분류"
   ]
  },
  {
   "cell_type": "code",
   "execution_count": 66,
   "id": "3c4120a9-f3bd-4432-8b2b-0ec50ea676af",
   "metadata": {},
   "outputs": [
    {
     "data": {
      "image/png": "[encoded data removed]",
      "text/plain": [
       "<Figure size 432x288 with 1 Axes>"
      ]
     },
     "metadata": {
      "needs_background": "light"
     },
     "output_type": "display_data"
    }
   ],
   "source": [
    "plt.scatter(bream_length, bream_weight)\n",
    "plt.scatter(smelt_length, smelt_weight)\n",
    "plt.scatter(30, 600, marker='^')\n",
    "plt.xlabel('length')\n",
    "plt.ylabel('weight')\n",
    "plt.show()"
   ]
  },
  {
   "cell_type": "code",
   "execution_count": 67,
   "id": "220191b0-6340-411a-876e-421b0a1cdde8",
   "metadata": {},
   "outputs": [
    {
     "data": {
      "text/plain": [
       "array([1, 1, 0])"
      ]
     },
     "execution_count": 67,
     "metadata": {},
     "output_type": "execute_result"
    }
   ],
   "source": [
    "kn.predict([[30,600],[50,550],[5,20]])"
   ]
  },
  {
   "cell_type": "code",
   "execution_count": 70,
   "id": "bd11af9e-a9b3-41fa-81dd-aec6d658c5b2",
   "metadata": {},
   "outputs": [
    {
     "name": "stdout",
     "output_type": "stream",
     "text": [
      "[[  25.4  242. ]\n",
      " [  26.3  290. ]\n",
      " [  26.5  340. ]\n",
      " [  29.   363. ]\n",
      " [  29.   430. ]\n",
      " [  29.7  450. ]\n",
      " [  29.7  500. ]\n",
      " [  30.   390. ]\n",
      " [  30.   450. ]\n",
      " [  30.7  500. ]\n",
      " [  31.   475. ]\n",
      " [  31.   500. ]\n",
      " [  31.5  500. ]\n",
      " [  32.   340. ]\n",
      " [  32.   600. ]\n",
      " [  32.   600. ]\n",
      " [  33.   700. ]\n",
      " [  33.   700. ]\n",
      " [  33.5  610. ]\n",
      " [  33.5  650. ]\n",
      " [  34.   575. ]\n",
      " [  34.   685. ]\n",
      " [  34.5  620. ]\n",
      " [  35.   680. ]\n",
      " [  35.   700. ]\n",
      " [  35.   725. ]\n",
      " [  35.   720. ]\n",
      " [  36.   714. ]\n",
      " [  36.   850. ]\n",
      " [  37.  1000. ]\n",
      " [  38.5  920. ]\n",
      " [  38.5  955. ]\n",
      " [  39.5  925. ]\n",
      " [  41.   975. ]\n",
      " [  41.   950. ]\n",
      " [   9.8    6.7]\n",
      " [  10.5    7.5]\n",
      " [  10.6    7. ]\n",
      " [  11.     9.7]\n",
      " [  11.2    9.8]\n",
      " [  11.3    8.7]\n",
      " [  11.8   10. ]\n",
      " [  11.8    9.9]\n",
      " [  12.     9.8]\n",
      " [  12.2   12.2]\n",
      " [  12.4   13.4]\n",
      " [  13.    12.2]\n",
      " [  14.3   19.7]\n",
      " [  15.    19.9]]\n"
     ]
    }
   ],
   "source": [
    "# _fit_X  속성 : fish_data를 가지고 있음\n",
    "    \n",
    "print(kn._fit_X)"
   ]
  },
  {
   "cell_type": "code",
   "execution_count": 71,
   "id": "f6ba8bc8-fa1b-4aec-bf8e-b881087efaf7",
   "metadata": {},
   "outputs": [
    {
     "name": "stdout",
     "output_type": "stream",
     "text": [
      "[1 1 1 1 1 1 1 1 1 1 1 1 1 1 1 1 1 1 1 1 1 1 1 1 1 1 1 1 1 1 1 1 1 1 1 0 0\n",
      " 0 0 0 0 0 0 0 0 0 0 0 0]\n"
     ]
    }
   ],
   "source": [
    "# _y 속성 : fish_target 을 가지고 있음\n",
    "\n",
    "print(kn._y)"
   ]
  },
  {
   "cell_type": "code",
   "execution_count": 72,
   "id": "5de51905-4d46-4b9b-b28c-4920bd8a166f",
   "metadata": {},
   "outputs": [],
   "source": [
    "# K-neighbors 크기 지정\n",
    "\n",
    "kn49 = KNeighborsClassifier(n_neighbors=49)"
   ]
  },
  {
   "cell_type": "code",
   "execution_count": 74,
   "id": "52b816db-dafd-4b13-945d-bd2e2959ce4d",
   "metadata": {},
   "outputs": [
    {
     "data": {
      "text/plain": [
       "0.7142857142857143"
      ]
     },
     "execution_count": 74,
     "metadata": {},
     "output_type": "execute_result"
    }
   ],
   "source": [
    "# K=49인 경우 모델 훈련 및 성능\n",
    "\n",
    "kn49.fit(fish_data, fish_target)\n",
    "kn49.score(fish_data, fish_target)"
   ]
  },
  {
   "cell_type": "code",
   "execution_count": 77,
   "id": "d0616783-c0f4-48c3-af15-41c77707c599",
   "metadata": {},
   "outputs": [
    {
     "name": "stdout",
     "output_type": "stream",
     "text": [
      "0.7142857142857143\n"
     ]
    }
   ],
   "source": [
    "# **49개 중 도미가 35개 이므로 어떤 데이터를 넣어도 무조건 도미로 예측**\n",
    "\n",
    "print(35/49)"
   ]
  },
  {
   "cell_type": "markdown",
   "id": "eb977e0c-54b0-4f70-9e85-fb3bcf428b7d",
   "metadata": {},
   "source": [
    "### 확인 문제"
   ]
  },
  {
   "cell_type": "code",
   "execution_count": 78,
   "id": "db73ac1f-fdb0-477a-9642-1d070935f519",
   "metadata": {},
   "outputs": [
    {
     "data": {
      "text/plain": [
       "KNeighborsClassifier()"
      ]
     },
     "execution_count": 78,
     "metadata": {},
     "output_type": "execute_result"
    }
   ],
   "source": [
    "kn = KNeighborsClassifier()\n",
    "\n",
    "kn.fit(fish_data, fish_target)"
   ]
  },
  {
   "cell_type": "code",
   "execution_count": 79,
   "id": "7dfd89db-249c-457c-9f46-f94f92d7e556",
   "metadata": {},
   "outputs": [
    {
     "name": "stdout",
     "output_type": "stream",
     "text": [
      "18 0.9795918367346939\n"
     ]
    }
   ],
   "source": [
    "for k in range(5, 50):\n",
    "    # 최근접 이웃 개수 설정\n",
    "    kn.n_neighbors = k\n",
    "    # 점수 계산\n",
    "    score = kn.score(fish_data, fish_target)\n",
    "    # print('k= %d, score= %f' %(k, score))\n",
    "    # 100% 정확도에 미치지 못하는 이웃 개수 출력\n",
    "    if score < 1 :\n",
    "        print(k, score)\n",
    "        break"
   ]
  },
  {
   "cell_type": "markdown",
   "id": "53eadfd9-6d84-4f1d-8420-e151ee44fcba",
   "metadata": {},
   "source": [
    "<!-- # ### [마무리]\n",
    "# \n",
    "# - 특성\n",
    "# - k-최근접 이웃 알고리즘\n",
    "# - 정확도\n",
    "# \n",
    "# ### 핵심 패키지와 함수\n",
    "# **scikit-learn**\n",
    "# \n",
    "# - KNeighborsClassifier()\n",
    "# - fit()\n",
    "# - predict()\n",
    "# - score() -->"
   ]
  },
  {
   "cell_type": "markdown",
   "id": "176befca-f760-4028-b42b-e9df43923067",
   "metadata": {},
   "source": [
    "### [마무리]\n",
    "\n",
    "- 특성\n",
    "- k-최근접 이웃 알고리즘\n",
    "- 정확도\n",
    "\n",
    "### 핵심 패키지와 함수\n",
    "**scikit-learn**\n",
    "\n",
    "- KNeighborsClassifier()\n",
    "- fit()\n",
    "- predict()\n",
    "- score()"
   ]
  }
 ],
 "metadata": {
  "kernelspec": {
   "display_name": "Python Multi",
   "language": "python",
   "name": "multi"
  },
  "language_info": {
   "codemirror_mode": {
    "name": "ipython",
    "version": 3
   },
   "file_extension": ".py",
   "mimetype": "text/x-python",
   "name": "python",
   "nbconvert_exporter": "python",
   "pygments_lexer": "ipython3",
   "version": "3.7.6"
  }
 },
 "nbformat": 4,
 "nbformat_minor": 5
}
