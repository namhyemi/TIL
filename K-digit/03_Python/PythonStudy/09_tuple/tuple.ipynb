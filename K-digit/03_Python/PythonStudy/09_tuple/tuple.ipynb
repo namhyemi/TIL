{
 "cells": [
  {
   "cell_type": "code",
   "execution_count": null,
   "id": "a6c2591b-47fe-4f44-b75c-8d3110809969",
   "metadata": {},
   "outputs": [],
   "source": [
    "# 집합적 자료형 : tuple\n",
    "# 삭제, 변경, 추가 작업불가"
   ]
  },
  {
   "cell_type": "code",
   "execution_count": null,
   "id": "3244c87d-ea78-42be-9c1a-12647db5980c",
   "metadata": {},
   "outputs": [],
   "source": [
    "# 리스트 생성 : list() or []\n",
    "# tuple 생성 : tuple() or ()"
   ]
  },
  {
   "cell_type": "code",
   "execution_count": 14,
   "id": "f7eca947-3cba-42d9-adc2-7f4537175108",
   "metadata": {},
   "outputs": [
    {
     "name": "stdout",
     "output_type": "stream",
     "text": [
      "(1, 2, 3)\n",
      "<class 'tuple'>\n",
      "(1, 3, 4)\n",
      "((1, 2, 3), (5, 6, 7))\n",
      "([1, 4], [5, 6])\n",
      "(1, 4)\n"
     ]
    }
   ],
   "source": [
    "t1 = tuple()\n",
    "t2 = ()\n",
    "\n",
    "t1 = (1,2,3)\n",
    "print(t1)\n",
    "print(type(t1))\n",
    "\n",
    "t2 = 1,3,4\n",
    "print(t2)\n",
    "\n",
    "t3 = t1,(5,6,7)\n",
    "print(t3)\n",
    "\n",
    "t4 = [1,4],[5,6]\n",
    "print(t4)\n",
    "\n",
    "t5 = tuple([1,4])  # list -> tuple\n",
    "print(t5)"
   ]
  },
  {
   "cell_type": "code",
   "execution_count": 5,
   "id": "e6ec653a-01e5-4dc9-bb8b-0088a8021447",
   "metadata": {},
   "outputs": [
    {
     "name": "stdout",
     "output_type": "stream",
     "text": [
      "3\n"
     ]
    }
   ],
   "source": [
    "# 튜플의 요소 다루기\n",
    "# 요소 변경 불가\n",
    "print(t1[2])\n",
    "# t1[2] = 10"
   ]
  },
  {
   "cell_type": "code",
   "execution_count": 11,
   "id": "5b1ce85d-74e4-4b66-949b-500bd21c32fc",
   "metadata": {},
   "outputs": [
    {
     "name": "stdout",
     "output_type": "stream",
     "text": [
      "[1, 3]\n",
      "3\n",
      "2\n"
     ]
    }
   ],
   "source": [
    "# 요소 추가 및 삭제 불가\n",
    "# t1.append(-9)\n",
    "# del(t1[2])\n",
    "# del(t1)\n",
    "# print(t1)\n",
    "list1 = [1,2,3]\n",
    "del(list1[1])\n",
    "print(list1)\n",
    "\n",
    "# tuple.index(), .count()\n",
    "tt = 'a', 'b','c','e','a','d'\n",
    "i = tt.index('e')\n",
    "print(i)\n",
    "c =tt.count('a')\n",
    "print(c)"
   ]
  },
  {
   "cell_type": "code",
   "execution_count": 15,
   "id": "5be94746-58c6-43b0-a39a-40aafc763397",
   "metadata": {},
   "outputs": [
    {
     "name": "stdout",
     "output_type": "stream",
     "text": [
      "('b', 'c', 'e', 'a')\n"
     ]
    }
   ],
   "source": [
    "# slicing\n",
    "t = tt[:]\n",
    "t = tt[1:5]\n",
    "print(t)"
   ]
  },
  {
   "cell_type": "code",
   "execution_count": 16,
   "id": "39eb48a6-a757-4dd4-a177-7fb1aeaa2cdb",
   "metadata": {},
   "outputs": [
    {
     "name": "stdout",
     "output_type": "stream",
     "text": [
      "(1, 2, 3, 1, 3, 4)\n",
      "('a', 'b', 'c', 'e', 'a', 'd', 'a', 'b', 'c', 'e', 'a', 'd')\n"
     ]
    }
   ],
   "source": [
    "# +, * 연산\n",
    "print(t1 + t2)\n",
    "print(tt*2)"
   ]
  },
  {
   "cell_type": "code",
   "execution_count": 17,
   "id": "d2bfeb16-8122-4169-b46d-d8788b5bcb0e",
   "metadata": {},
   "outputs": [
    {
     "name": "stdout",
     "output_type": "stream",
     "text": [
      "6\n",
      "1 2 3 \n",
      "4 5 6 \n",
      "7 8 9 \n"
     ]
    }
   ],
   "source": [
    "# 2차원 tuple 연습문제\n",
    "\n",
    "tt = ((1,2,3),(4,5,6),(7,8,9))\n",
    "print(tt[1][2])\n",
    "\n",
    "for t in tt:\n",
    "    #print(t)\n",
    "    for a in t:\n",
    "        print(a,end=' ')\n",
    "    print()"
   ]
  },
  {
   "cell_type": "code",
   "execution_count": 19,
   "id": "347f8682-d782-488a-8368-12e48e8bbee3",
   "metadata": {},
   "outputs": [
    {
     "name": "stdout",
     "output_type": "stream",
     "text": [
      "<class 'list'>\n",
      "[10, 20, 30]\n",
      "[10, 20, 30, 40]\n",
      "(10, 20, 30, 40)\n"
     ]
    }
   ],
   "source": [
    "# tuple\n",
    "myTuple = (10, 20, 30)\n",
    "myList = list(myTuple)\n",
    "print(type(myList))\n",
    "print(myList)\n",
    "\n",
    "myList.append(40)\n",
    "print(myList)\n",
    "\n",
    "myTuple=tuple(myList)\n",
    "print(myTuple)\n",
    "# myTuple = (10, 20, 30, 40) 방법은 에러가 난다.\n",
    "# 리스트로 변경 후 값 추가"
   ]
  },
  {
   "cell_type": "code",
   "execution_count": 22,
   "id": "f79cd19f-d0f0-44c5-a8c0-8411636b3b7c",
   "metadata": {},
   "outputs": [
    {
     "name": "stdout",
     "output_type": "stream",
     "text": [
      "[10, 4]\n",
      "<class 'tuple'>\n",
      "<class 'list'>\n",
      "([10, 4], [5, 6])\n"
     ]
    }
   ],
   "source": [
    "# t4 = [1,4],[5,6]\n",
    "print(t4[0])\n",
    "print(type(t4))\n",
    "print(type(t4[0]))\n",
    "t4[0][0]=10\n",
    "print(t4)"
   ]
  },
  {
   "cell_type": "code",
   "execution_count": 23,
   "id": "63639246-5233-43e4-9f6b-d5791a9000ae",
   "metadata": {},
   "outputs": [],
   "source": [
    "# list 객체의 메소드들\n",
    "# dir(list())\n",
    "# ['__add__', '__class__', '__class_getitem__', '__contains__',\n",
    "#  '__delattr__', '__delitem__', '__dir__', '__doc__', '__eq__',\n",
    "#  '__format__', '__ge__', '__getattribute__', '__getitem__',\n",
    "#  '__gt__', '__hash__', '__iadd__', '__imul__', '__init__',\n",
    "#  '__init_subclass__', '__iter__', '__le__', '__len__', '__lt__',\n",
    "#  '__mul__', '__ne__', '__new__', '__reduce__', '__reduce_ex__',\n",
    "#  '__repr__', '__reversed__', '__rmul__', '__setattr__',\n",
    "#  '__setitem__', '__sizeof__', '__str__', '__subclasshook__',\n",
    "#  'append', 'clear', 'copy', 'count', 'extend', 'index',\n",
    "#  'insert', 'pop', 'remove', 'reverse', 'sort']\n",
    "\n",
    "# tuple 객체의 메소드들\n",
    "# dir(tuple())\n",
    "# ['__add__', '__class__', '__class_getitem__', '__contains__',\n",
    "#  '__delattr__', '__dir__', '__doc__', '__eq__', '__format__',\n",
    "#  '__ge__', '__getattribute__', '__getitem__', '__getnewargs__',\n",
    "#  '__gt__', '__hash__', '__init__', '__init_subclass__', '__iter__',\n",
    "#  '__le__', '__len__', '__lt__', '__mul__', '__ne__', '__new__',\n",
    "#  '__reduce__', '__reduce_ex__', '__repr__', '__rmul__', '__setattr__',\n",
    "#  '__sizeof__', '__str__', '__subclasshook__', 'count', 'index']"
   ]
  }
 ],
 "metadata": {
  "kernelspec": {
   "display_name": "python Multi",
   "language": "python",
   "name": "multi"
  },
  "language_info": {
   "codemirror_mode": {
    "name": "ipython",
    "version": 3
   },
   "file_extension": ".py",
   "mimetype": "text/x-python",
   "name": "python",
   "nbconvert_exporter": "python",
   "pygments_lexer": "ipython3",
   "version": "3.7.6"
  }
 },
 "nbformat": 4,
 "nbformat_minor": 5
}
