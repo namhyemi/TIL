{
 "cells": [
  {
   "cell_type": "code",
   "execution_count": 1,
   "id": "0abafd73-5d97-4b33-8776-a4c4ba358c98",
   "metadata": {},
   "outputs": [],
   "source": [
    "# split() 연습문제"
   ]
  },
  {
   "cell_type": "code",
   "execution_count": 3,
   "id": "99ab45f8-3b0a-42e9-b7ce-85400f3d4146",
   "metadata": {},
   "outputs": [
    {
     "name": "stdin",
     "output_type": "stream",
     "text": [
      "생일 입력(연/월/일) : 1991/2/21\n"
     ]
    },
    {
     "name": "stdout",
     "output_type": "stream",
     "text": [
      "당신은 1991년에 태어나셨군요\n",
      "생일은 2월 21일 이네요\n"
     ]
    }
   ],
   "source": [
    "Birth = input('생일 입력(연/월/일) :')\n",
    "BirthL = Birth.split('/')\n",
    "print(\"당신은 {}년에 태어나셨군요\".format(BirthL[0]))\n",
    "print(\"생일은 {}월 {}일 이네요\".format(BirthL[1],BirthL[2]))"
   ]
  },
  {
   "cell_type": "code",
   "execution_count": 16,
   "id": "83e87f26-7672-4344-8804-60ae5fcc8975",
   "metadata": {},
   "outputs": [
    {
     "name": "stdout",
     "output_type": "stream",
     "text": [
      "총점 :  21 합 :  4.2\n"
     ]
    }
   ],
   "source": [
    "sum = 0\n",
    "data = \"{a1:30},{a2:50},{a3:20},{a4:70},{a5:40}\"\n",
    "dataL = data.split(',')\n",
    "for i in range(len(dataL)):\n",
    "    num, score = dataL[i][2:5].split(':')\n",
    "    sum += int(score)\n",
    "avg = sum / len(dataL)\n",
    "print(\"총점 : \",sum,\"합 : \",avg)"
   ]
  },
  {
   "cell_type": "code",
   "execution_count": null,
   "id": "e0c6edb1-f486-4037-b87a-20312b5e74c3",
   "metadata": {},
   "outputs": [],
   "source": []
  }
 ],
 "metadata": {
  "kernelspec": {
   "display_name": "python Multi",
   "language": "python",
   "name": "multi"
  },
  "language_info": {
   "codemirror_mode": {
    "name": "ipython",
    "version": 3
   },
   "file_extension": ".py",
   "mimetype": "text/x-python",
   "name": "python",
   "nbconvert_exporter": "python",
   "pygments_lexer": "ipython3",
   "version": "3.7.6"
  }
 },
 "nbformat": 4,
 "nbformat_minor": 5
}
