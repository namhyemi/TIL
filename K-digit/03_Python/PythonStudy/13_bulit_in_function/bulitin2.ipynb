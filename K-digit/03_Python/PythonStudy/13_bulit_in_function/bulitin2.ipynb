{
 "cells": [
  {
   "cell_type": "code",
   "execution_count": 1,
   "id": "86132dff-f391-453f-a418-acdb520bda2d",
   "metadata": {},
   "outputs": [],
   "source": [
    "# 계산과 관련된 내장 함수"
   ]
  },
  {
   "cell_type": "code",
   "execution_count": 2,
   "id": "fe57b0fe-722d-4930-9b8d-bfa75ed57e88",
   "metadata": {},
   "outputs": [
    {
     "name": "stdout",
     "output_type": "stream",
     "text": [
      "10\n",
      "100\n"
     ]
    }
   ],
   "source": [
    "# abs() : 절대값 계산\n",
    "\n",
    "print(abs(-10))\n",
    "print(abs(100))"
   ]
  },
  {
   "cell_type": "code",
   "execution_count": 3,
   "id": "49984752-9cbe-448b-a84e-7aba8383effd",
   "metadata": {},
   "outputs": [
    {
     "name": "stdout",
     "output_type": "stream",
     "text": [
      "-10\n",
      "-30\n"
     ]
    }
   ],
   "source": [
    "# min() : 최소값 계산\n",
    "\n",
    "print(min(1,-10, 3))\n",
    "print(min([-9, 10, -30, 3]))"
   ]
  },
  {
   "cell_type": "code",
   "execution_count": 4,
   "id": "dee01556-07ea-4823-8a0b-3e058d587cdf",
   "metadata": {},
   "outputs": [
    {
     "name": "stdout",
     "output_type": "stream",
     "text": [
      "3\n",
      "10\n"
     ]
    }
   ],
   "source": [
    "# max() : 최대값 계산\n",
    "\n",
    "print(max(1,-10, 3))\n",
    "print(max([-9, 10, -30, 3]))"
   ]
  },
  {
   "cell_type": "code",
   "execution_count": 5,
   "id": "8a17787b-0ceb-4dae-af1e-d04f8adaf2d4",
   "metadata": {},
   "outputs": [
    {
     "name": "stdout",
     "output_type": "stream",
     "text": [
      "1024\n"
     ]
    }
   ],
   "source": [
    "# pow(base, exp) : x^y\n",
    "\n",
    "print(pow(2, 10))"
   ]
  },
  {
   "cell_type": "code",
   "execution_count": 6,
   "id": "dc566ba9-4e19-4d06-8cea-c45fb9bcb07f",
   "metadata": {},
   "outputs": [
    {
     "name": "stdout",
     "output_type": "stream",
     "text": [
      "(4, 1)\n"
     ]
    }
   ],
   "source": [
    "# divmod(a, b) : 나머지와 몫 => 결과 (//, %)\n",
    "\n",
    "print(divmod(9, 2))"
   ]
  },
  {
   "cell_type": "code",
   "execution_count": 7,
   "id": "f5421a17-5208-4126-8cd2-4f96c88c3900",
   "metadata": {},
   "outputs": [
    {
     "name": "stdout",
     "output_type": "stream",
     "text": [
      "-6\n"
     ]
    }
   ],
   "source": [
    "# sum(iterable) : 합계\n",
    "print(sum([1,-10, 3]))"
   ]
  },
  {
   "cell_type": "code",
   "execution_count": 8,
   "id": "d6f2a4f7-4802-4bbc-bc6b-b569a8b18a85",
   "metadata": {},
   "outputs": [
    {
     "name": "stdout",
     "output_type": "stream",
     "text": [
      "10\n",
      "9.9\n",
      "-9.9\n",
      "9.874\n"
     ]
    }
   ],
   "source": [
    "# round(숫자, 소수자리) : 반올림\n",
    "\n",
    "print(round(9.87))\n",
    "print(round(9.87, 1))\n",
    "print(round(-9.87, 1))\n",
    "print(round(9.87433, 3))"
   ]
  },
  {
   "cell_type": "code",
   "execution_count": 10,
   "id": "14ad8df8-0dd7-49cf-bada-89e7de01213e",
   "metadata": {},
   "outputs": [
    {
     "name": "stdout",
     "output_type": "stream",
     "text": [
      "<enumerate object at 0x0000022918ADA1D8>\n",
      "0 apple\n",
      "1 banana\n",
      "2 melon\n",
      "3 strawberry\n",
      "4 kiwi\n",
      "5 watermelon\n"
     ]
    }
   ],
   "source": [
    "# enumerate(iterable, start=0) : 열거형\n",
    "# 시퀀스(리슽, 튜플, 문자열, range)를 인덱스값을 포함하느 enumerate 객체로 반환\n",
    "\n",
    "enum = enumerate(['apple','banana','melon', 'strawberry', 'kiwi','watermelon'])\n",
    "print(enum)\n",
    "\n",
    "for i, item in enum:\n",
    "    print(i, item)\n",
    "\n",
    "# for item in enum:\n",
    "#     print(item)"
   ]
  },
  {
   "cell_type": "code",
   "execution_count": 11,
   "id": "781b24f1-860f-4c82-9d5d-b5d5a4d4dcb5",
   "metadata": {},
   "outputs": [
    {
     "name": "stdout",
     "output_type": "stream",
     "text": [
      "[(1, 'Spring'), (2, 'Summer'), (3, 'Fall'), (4, 'winter')]\n"
     ]
    }
   ],
   "source": [
    "seasons = ['Spring', 'Summer', 'Fall', 'winter']\n",
    "enumSeason = list(enumerate(seasons, start=1))\n",
    "print(enumSeason)"
   ]
  },
  {
   "cell_type": "code",
   "execution_count": 12,
   "id": "b61d7814-03e5-4c8f-9cef-559c6fccd80b",
   "metadata": {},
   "outputs": [
    {
     "name": "stdout",
     "output_type": "stream",
     "text": [
      "3.1\n",
      "110\n"
     ]
    }
   ],
   "source": [
    "# eval()\n",
    "\n",
    "print(eval('3.1'))\n",
    "print(eval('10+100'))"
   ]
  },
  {
   "cell_type": "code",
   "execution_count": 13,
   "id": "9ef84a33-296c-4b26-afe4-1b1da2db7a3c",
   "metadata": {},
   "outputs": [
    {
     "name": "stdout",
     "output_type": "stream",
     "text": [
      "False\n",
      "<class 'filter'>\n",
      "[3, 7]\n"
     ]
    }
   ],
   "source": [
    "# filter(function, iterable) : 반복가능한 자료형 요소에 함수를 적용하여\n",
    "# 반환값이 참(True)인 결과만 걸러내어 반환\n",
    "\n",
    "def positive(x):\n",
    "    return x > 0\n",
    "\n",
    "print(positive(-9))\n",
    "\n",
    "result = filter(positive, [-10, 0, 3, -8, 7])\n",
    "print(type(result))\n",
    "print(list(result))"
   ]
  },
  {
   "cell_type": "code",
   "execution_count": 14,
   "id": "ded450fb-c7bd-48cf-9dbf-8b1ed2fb9700",
   "metadata": {},
   "outputs": [
    {
     "name": "stdout",
     "output_type": "stream",
     "text": [
      "[2, 4, 6]\n"
     ]
    }
   ],
   "source": [
    "# 실습문제 : 짝수인지를 판별하는 함수 even(x)를 정의하고,\n",
    "# 이 함수를 filter를 이용하여 주어진 리스트의 짝수만 걸러내는 코드\n",
    "\n",
    "def even(x) :\n",
    "    return x % 2 == 0\n",
    "\n",
    "result = filter(even,[1,2,3,4,5,6])\n",
    "print(list(result))"
   ]
  },
  {
   "cell_type": "code",
   "execution_count": 16,
   "id": "17bb2d3d-e8e5-4c62-8aba-f608d9d7449c",
   "metadata": {},
   "outputs": [
    {
     "name": "stdout",
     "output_type": "stream",
     "text": [
      "(0, 'apple')\n",
      "(1, 'banana')\n",
      "(2, 'melon')\n",
      "<enumerate object at 0x0000022918ACA7C8>\n",
      "[(0, 'apple'), (1, 'banana'), (2, 'melon')]\n"
     ]
    }
   ],
   "source": [
    "enum = enumerate(['apple', 'banana', 'melon'])\n",
    "# enum = list(enum)\n",
    "# next()\n",
    "for e in enumerate(['apple', 'banana', 'melon']):\n",
    "    print(e)\n",
    "\n",
    "print(enum)\n",
    "print(list(enum))"
   ]
  },
  {
   "cell_type": "code",
   "execution_count": 17,
   "id": "87d4f0d8-0fdf-4dee-9161-d999b876143e",
   "metadata": {},
   "outputs": [
    {
     "name": "stdout",
     "output_type": "stream",
     "text": [
      "apple\n",
      "banana\n",
      "melon\n",
      "[]\n"
     ]
    }
   ],
   "source": [
    "fruits = iter(['apple', 'banana', 'melon'])\n",
    "print(next(fruits))\n",
    "print(next(fruits))\n",
    "print(next(fruits))\n",
    "print(list(fruits))"
   ]
  },
  {
   "cell_type": "code",
   "execution_count": 19,
   "id": "ba6acd93-668a-469c-9aa9-60da87684c9a",
   "metadata": {},
   "outputs": [
    {
     "data": {
      "text/plain": [
       "['H', 'i', ' ', 'H', 'e', 'l', 'l', 'o', ' ']"
      ]
     },
     "execution_count": 19,
     "metadata": {},
     "output_type": "execute_result"
    }
   ],
   "source": [
    "# list()\n",
    "list(\"Hi Hello \")"
   ]
  },
  {
   "cell_type": "code",
   "execution_count": 20,
   "id": "9d3f8867-13fe-4018-adbb-de970a80301a",
   "metadata": {},
   "outputs": [
    {
     "name": "stdout",
     "output_type": "stream",
     "text": [
      "[-4, 5, 10]\n",
      "[10, 5, -4]\n",
      "['e', 'f', 'l', 'o', 'r', 'w']\n",
      "['e', 'F', 'l', 'n', 'o', 'r', 'S', 'u', 'w']\n"
     ]
    }
   ],
   "source": [
    "# sorted(iterable, key=None, reverse=False)\n",
    "print(sorted([10, -4, 5]))\n",
    "print(sorted([10, -4, 5], reverse=True))\n",
    "print(sorted(\"flower\"))\n",
    "print(sorted(\"SunFlower\", key=str.lower))"
   ]
  },
  {
   "cell_type": "code",
   "execution_count": 21,
   "id": "ef55df51-13dd-41e9-93e6-9f68365bdae5",
   "metadata": {},
   "outputs": [
    {
     "name": "stdout",
     "output_type": "stream",
     "text": [
      "<class 'range'>\n",
      "[0, 1, 2, 3, 4]\n",
      "[2, 5, 8]\n",
      "(0, 1, 2, 3, 4)\n"
     ]
    }
   ],
   "source": [
    "# range()\n",
    "\n",
    "print(type(range(5)))\n",
    "print(list(range(5)))\n",
    "print(list(range(2, 10, 3)))\n",
    "print(tuple(range(5)))"
   ]
  },
  {
   "cell_type": "code",
   "execution_count": 22,
   "id": "babf7e5e-34f5-4848-870b-ec811a443b14",
   "metadata": {},
   "outputs": [
    {
     "name": "stdout",
     "output_type": "stream",
     "text": [
      "<zip object at 0x0000022918B01588>\n",
      "[(1, 'cat'), (3, 'dog'), (5, 'horse')]\n",
      "[(1, 'cat'), (3, 'dog'), (5, 'horse')]\n",
      "((1, 'cat'), (3, 'dog'), (5, 'horse'))\n",
      "{'cat': 1, 'dog': 3, 'horse': 5}\n"
     ]
    }
   ],
   "source": [
    "# zip(*iterable) : 각 iterable에서 동일한 인덱스 요소를 추출하여 묶어서 반환\n",
    "\n",
    "print(zip([1,3,5], ['cat', 'dog', 'horse']))\n",
    "print(list(zip([1,3,5], ['cat', 'dog', 'horse'])))\n",
    "print(list(zip([1,3,5], ['cat', 'dog', 'horse','lion'])))\n",
    "print(tuple(zip([1,3,5], ['cat', 'dog', 'horse'])))\n",
    "\n",
    "keys = ['cat', 'dog', 'horse']\n",
    "values = [1,3,5]\n",
    "result = dict(zip(keys, values))\n",
    "print(result)"
   ]
  },
  {
   "cell_type": "code",
   "execution_count": 25,
   "id": "c3c9d2e6-aaf8-42d5-b91d-f938e57dd932",
   "metadata": {},
   "outputs": [
    {
     "name": "stdout",
     "output_type": "stream",
     "text": [
      "['0', '1', '2', '3', '4', '5', '6', '7', '8', '9']\n",
      "[0, 1, 2, 3, 4, 5, 6, 7, 8, 9]\n"
     ]
    }
   ],
   "source": [
    "# map()\n",
    "result = list(map(str, range(10)))\n",
    "print(result)\n",
    "print(list(map(int, result)))"
   ]
  },
  {
   "cell_type": "code",
   "execution_count": null,
   "id": "bd9a2431-f295-4ee6-9522-20ffe5d8cbe0",
   "metadata": {},
   "outputs": [],
   "source": []
  }
 ],
 "metadata": {
  "kernelspec": {
   "display_name": "python Multi",
   "language": "python",
   "name": "multi"
  },
  "language_info": {
   "codemirror_mode": {
    "name": "ipython",
    "version": 3
   },
   "file_extension": ".py",
   "mimetype": "text/x-python",
   "name": "python",
   "nbconvert_exporter": "python",
   "pygments_lexer": "ipython3",
   "version": "3.7.6"
  }
 },
 "nbformat": 4,
 "nbformat_minor": 5
}
