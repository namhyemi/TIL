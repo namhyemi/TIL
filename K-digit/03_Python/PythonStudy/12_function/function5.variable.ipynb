{
 "cells": [
  {
   "cell_type": "code",
   "execution_count": null,
   "id": "b36e2b35-d41e-4d01-8184-19be90fa666e",
   "metadata": {},
   "outputs": [],
   "source": [
    "# 함수내에 사용되는 변수 : local variable(지역변수)"
   ]
  },
  {
   "cell_type": "code",
   "execution_count": 5,
   "id": "c2cd6901-6c16-4275-b002-89dc514f79c0",
   "metadata": {},
   "outputs": [
    {
     "name": "stdout",
     "output_type": "stream",
     "text": [
      "Hello\n",
      "HahaHello\n",
      "Hi\n",
      "HiH\n",
      "HiH\n"
     ]
    }
   ],
   "source": [
    "def show():\n",
    "    a = 'Hello'  #지역변수\n",
    "    print(a)\n",
    "\n",
    "def show1(a):\n",
    "    a = a + 'Hello'\n",
    "    print(a)\n",
    "\n",
    "# 전역변수를 함수 내부에서 사용\n",
    "def show2():\n",
    "    print(a)\n",
    "\n",
    "# 전역변수를 함수 내부에서 수정(변경)\n",
    "def show3():    # 전역변수 a를 변경하고 싶다\n",
    "    global a\n",
    "    a = a + 'H'\n",
    "    print(a)\n",
    "\n",
    "a ='Hi'   # 전역변수\n",
    "show()\n",
    "show1('Haha')\n",
    "show2()\n",
    "show3()\n",
    "print(a)"
   ]
  },
  {
   "cell_type": "code",
   "execution_count": 16,
   "id": "2f347522-1985-44de-a84f-54ad8e4d72e6",
   "metadata": {},
   "outputs": [
    {
     "name": "stdout",
     "output_type": "stream",
     "text": [
      "전역변수\n",
      "함수 전 변수 :  1 2 3 4\n",
      "a 주소:  140725032624528\n",
      "x 주소 : 140725032624592\n",
      "함수 내 변수 :  7 3 4 3\n",
      "a 주소 :  140725032624720\n",
      "x 주소 : 140725032624624\n",
      "함수 외 변수 :  7 2 3 4\n",
      "a 주소 :  140725032624720\n",
      "x 주소 : 140725032624592\n"
     ]
    }
   ],
   "source": [
    "# 실습문제 : 결과는?\n",
    "def sub(x, y):\n",
    "    global a\n",
    "    a = 7\n",
    "    x, y = y, x   # swap\n",
    "    b = 3\n",
    "    print(\"함수 내 변수 : \",a, b, x, y)\n",
    "    print(\"a 주소 : \",id(a))\n",
    "    print('x 주소 :',id(x))\n",
    "\n",
    "a, b, x, y = 1, 2, 3, 4\n",
    "print('전역변수')\n",
    "print(\"함수 전 변수 : \",a, b, x, y)\n",
    "print(\"a 주소: \",id(a))\n",
    "print('x 주소 :',id(x))\n",
    "sub(x, y)\n",
    "print(\"함수 외 변수 : \",a, b, x, y)\n",
    "print(\"a 주소 : \",id(a))\n",
    "print('x 주소 :', id(x))"
   ]
  },
  {
   "cell_type": "code",
   "execution_count": 9,
   "id": "edbc6fed-9c9c-4619-83b3-593c630c9dd2",
   "metadata": {},
   "outputs": [
    {
     "name": "stdout",
     "output_type": "stream",
     "text": [
      "[100, 2, 3, 4]\n",
      "in function ID : 2096044677704\n",
      "[100, 2, 3, 4]\n",
      "out function ID : 2096044677704\n"
     ]
    }
   ],
   "source": [
    "def showList(mylist):\n",
    "    mylist[0]=100\n",
    "    print(mylist)\n",
    "    print('in function ID :', id(mylist))\n",
    "\n",
    "mylist = [1,2,3,4]\n",
    "showList(mylist)\n",
    "print(mylist)\n",
    "print('out function ID :', id(mylist))"
   ]
  },
  {
   "cell_type": "code",
   "execution_count": 10,
   "id": "2227abb7-fff0-48d0-97e1-b7fe9a7480c9",
   "metadata": {},
   "outputs": [
    {
     "name": "stdout",
     "output_type": "stream",
     "text": [
      "{'name': 'notebook', 'price': 12000000}\n",
      "{'name': 'smartPhone', 'price': 12000000}\n",
      "{'name': '냉장고', 'price': 51000000}\n",
      "{'name': '에어콘', 'price': 35000000}\n"
     ]
    }
   ],
   "source": [
    "# 딕셔너리list를 dictionary로 변환\n",
    "\n",
    "def getProduct(prdList):\n",
    "    name = prdList['name']\n",
    "    price = prdList['price']\n",
    "    return {'name' : name, 'price': price}\n",
    "\n",
    "productL = [ {'name': 'notebook', 'price': 12000000, 'Maker':'삼성'},\n",
    "             {'name': 'smartPhone', 'price': 12000000, 'Maker':'삼성'},\n",
    "             {'name': '냉장고', 'price': 51000000, 'Maker':'LG'},\n",
    "             {'name': '에어콘', 'price': 35000000, 'Maker':'삼성'}]\n",
    "\n",
    "for product in productL:\n",
    "    prdInfo = getProduct(product)\n",
    "    print(prdInfo)"
   ]
  },
  {
   "cell_type": "code",
   "execution_count": null,
   "id": "dfa2e3a7-a32d-4352-99eb-e5182043acd2",
   "metadata": {},
   "outputs": [],
   "source": []
  }
 ],
 "metadata": {
  "kernelspec": {
   "display_name": "python Multi",
   "language": "python",
   "name": "multi"
  },
  "language_info": {
   "codemirror_mode": {
    "name": "ipython",
    "version": 3
   },
   "file_extension": ".py",
   "mimetype": "text/x-python",
   "name": "python",
   "nbconvert_exporter": "python",
   "pygments_lexer": "ipython3",
   "version": "3.7.6"
  }
 },
 "nbformat": 4,
 "nbformat_minor": 5
}
