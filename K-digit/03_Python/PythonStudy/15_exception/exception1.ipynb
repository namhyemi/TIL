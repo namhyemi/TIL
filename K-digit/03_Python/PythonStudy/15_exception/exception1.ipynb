{
 "cells": [
  {
   "cell_type": "code",
   "execution_count": null,
   "id": "1b370242-a1b6-4d43-84a3-572a5b239e68",
   "metadata": {},
   "outputs": [],
   "source": [
    "# 예외 발생 상황\n",
    "\n",
    "# ZeroDivisionError: division by zero\n",
    "# print(10/0)"
   ]
  },
  {
   "cell_type": "code",
   "execution_count": null,
   "id": "5014f1fe-1698-4b94-92ff-15e2ec9b5217",
   "metadata": {},
   "outputs": [],
   "source": [
    "# TypeError: can only concatenate str (not \"int\") to str\n",
    "# print('age=' + 23)"
   ]
  },
  {
   "cell_type": "code",
   "execution_count": null,
   "id": "d6056ff4-6787-4cd8-bd2d-6b522916689a",
   "metadata": {},
   "outputs": [],
   "source": [
    "# NameError: name 'x' is not defined\n",
    "# print(x)"
   ]
  },
  {
   "cell_type": "code",
   "execution_count": null,
   "id": "92d183b7-7060-4b94-8a42-4d8941445a37",
   "metadata": {},
   "outputs": [],
   "source": [
    "# ValueError: incomplete format\n",
    "# a = 100\n",
    "# print(\"%d%\" % a)"
   ]
  },
  {
   "cell_type": "code",
   "execution_count": null,
   "id": "f603d05b-c34c-4b92-abab-14ec24611cbd",
   "metadata": {},
   "outputs": [],
   "source": [
    "# SyntaxError: invalid syntax\n",
    "# if x>10\n",
    "#     print('Kim')"
   ]
  },
  {
   "cell_type": "code",
   "execution_count": null,
   "id": "3175feb2-73e1-4a6f-8a49-c09ced3541a3",
   "metadata": {},
   "outputs": [],
   "source": [
    "# IndexError: list index out of range\n",
    "# a = [1,2,3]\n",
    "# print(a[3])"
   ]
  },
  {
   "cell_type": "code",
   "execution_count": null,
   "id": "56e7dfe7-9169-4b92-a41c-a37db39a11a3",
   "metadata": {},
   "outputs": [],
   "source": [
    "# unboundLocalError :\n",
    "# def add():\n",
    "#     a += 1"
   ]
  },
  {
   "cell_type": "code",
   "execution_count": null,
   "id": "d71c064e-159d-4f6e-ba02-52703151fd5f",
   "metadata": {},
   "outputs": [],
   "source": [
    "# ModuleNotFoundError: No module named 'modd'\n",
    "# import modd"
   ]
  },
  {
   "cell_type": "code",
   "execution_count": null,
   "id": "44987922-bb6a-4e0a-8f49-af63b9906314",
   "metadata": {},
   "outputs": [],
   "source": [
    "# FileNotFoundError: [Errno 2] No such file or directory: 'readfile.txt'\n",
    "# f = open('readfile.txt', 'r')\n",
    "# data = f.read()"
   ]
  },
  {
   "cell_type": "code",
   "execution_count": null,
   "id": "8036ea9c-0476-4a0f-9846-9d9a3df49ed5",
   "metadata": {},
   "outputs": [],
   "source": [
    "# OSError: [Errno 22] Invalid argument: 'd:\\readfile.txt'\n",
    "# f = open('d:\\readfile.txt', 'r')"
   ]
  }
 ],
 "metadata": {
  "kernelspec": {
   "display_name": "python Multi",
   "language": "python",
   "name": "multi"
  },
  "language_info": {
   "codemirror_mode": {
    "name": "ipython",
    "version": 3
   },
   "file_extension": ".py",
   "mimetype": "text/x-python",
   "name": "python",
   "nbconvert_exporter": "python",
   "pygments_lexer": "ipython3",
   "version": "3.7.6"
  }
 },
 "nbformat": 4,
 "nbformat_minor": 5
}
