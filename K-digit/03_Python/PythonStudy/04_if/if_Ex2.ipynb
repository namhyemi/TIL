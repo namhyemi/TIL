{
 "cells": [
  {
   "cell_type": "code",
   "execution_count": 1,
   "id": "4d522ef2-d3ab-4e0e-a864-f7dcf0b52ce4",
   "metadata": {},
   "outputs": [],
   "source": [
    "# 입력한 정수가 양수, 음수, 0인지 판별하여 출력"
   ]
  },
  {
   "cell_type": "code",
   "execution_count": 2,
   "id": "bea67600-1560-421d-855f-812214b4fbd9",
   "metadata": {},
   "outputs": [
    {
     "name": "stdin",
     "output_type": "stream",
     "text": [
      "값을 입력하세요 :  15\n"
     ]
    }
   ],
   "source": [
    "check = int(input(\"값을 입력하세요 : \"))"
   ]
  },
  {
   "cell_type": "code",
   "execution_count": 3,
   "id": "334c9f91-56a9-4b3d-b46f-d1cd44dce16f",
   "metadata": {},
   "outputs": [
    {
     "name": "stdout",
     "output_type": "stream",
     "text": [
      "양수입니다.\n"
     ]
    }
   ],
   "source": [
    "if check > 0:\n",
    "    print(\"양수입니다.\")\n",
    "elif check < 0:\n",
    "    print(\"음수입니다.\")\n",
    "else:\n",
    "    print(\"0입니다.\")"
   ]
  },
  {
   "cell_type": "code",
   "execution_count": 5,
   "id": "91139757-698e-4085-984f-acae7a2926d3",
   "metadata": {},
   "outputs": [
    {
     "name": "stdout",
     "output_type": "stream",
     "text": [
      "양수입니다.\n"
     ]
    }
   ],
   "source": [
    "if check > 0:\n",
    "    if check < 0:\n",
    "        print(\"음수입니다.\")\n",
    "    else:\n",
    "        print(\"양수입니다.\")\n",
    "else:\n",
    "    print(\"0입니다.\")"
   ]
  },
  {
   "cell_type": "code",
   "execution_count": null,
   "id": "a03d2d59-9bbe-4df9-adf6-eed747214a49",
   "metadata": {},
   "outputs": [],
   "source": []
  }
 ],
 "metadata": {
  "kernelspec": {
   "display_name": "Python Multi",
   "language": "python",
   "name": "multi"
  },
  "language_info": {
   "codemirror_mode": {
    "name": "ipython",
    "version": 3
   },
   "file_extension": ".py",
   "mimetype": "text/x-python",
   "name": "python",
   "nbconvert_exporter": "python",
   "pygments_lexer": "ipython3",
   "version": "3.7.6"
  }
 },
 "nbformat": 4,
 "nbformat_minor": 5
}
