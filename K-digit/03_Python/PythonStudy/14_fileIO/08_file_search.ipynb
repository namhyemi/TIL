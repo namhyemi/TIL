{
 "cells": [
  {
   "cell_type": "code",
   "execution_count": 1,
   "id": "cc21530a-79bf-470e-a700-141031a87b13",
   "metadata": {},
   "outputs": [
    {
     "name": "stdin",
     "output_type": "stream",
     "text": [
      "검색 값 입력 :  가\n"
     ]
    },
    {
     "name": "stdout",
     "output_type": "stream",
     "text": [
      "있음 가\n"
     ]
    }
   ],
   "source": [
    "# read()함수 이용하여 원하는 내용이 파일에 있는지 검색\n",
    "\n",
    "value = input(\"검색 값 입력 : \")\n",
    "f = open(\"test2.txt\",\"r\",encoding=\"utf-8\")\n",
    "data = f.read()\n",
    "if value in data:\n",
    "    print('있음',value)\n",
    "else:\n",
    "    print(\"없음\")\n",
    "f.close()\n"
   ]
  },
  {
   "cell_type": "code",
   "execution_count": null,
   "id": "2474e30d-31b7-469f-bc66-bbf6fa8a8381",
   "metadata": {},
   "outputs": [],
   "source": []
  }
 ],
 "metadata": {
  "kernelspec": {
   "display_name": "python Multi",
   "language": "python",
   "name": "multi"
  },
  "language_info": {
   "codemirror_mode": {
    "name": "ipython",
    "version": 3
   },
   "file_extension": ".py",
   "mimetype": "text/x-python",
   "name": "python",
   "nbconvert_exporter": "python",
   "pygments_lexer": "ipython3",
   "version": "3.7.6"
  }
 },
 "nbformat": 4,
 "nbformat_minor": 5
}
