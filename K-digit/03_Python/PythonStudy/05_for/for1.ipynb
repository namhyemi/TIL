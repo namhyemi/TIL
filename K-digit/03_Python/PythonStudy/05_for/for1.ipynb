{
 "cells": [
  {
   "cell_type": "code",
   "execution_count": 1,
   "id": "0aa9e2c2-7538-42ef-a4e7-6a6126d2130d",
   "metadata": {},
   "outputs": [],
   "source": [
    "#for의 이해"
   ]
  },
  {
   "cell_type": "code",
   "execution_count": 2,
   "id": "7aed8c01-eaa6-4338-a71e-1977f773b794",
   "metadata": {},
   "outputs": [
    {
     "name": "stdout",
     "output_type": "stream",
     "text": [
      "홍길동\n",
      "성춘향\n",
      "변학도\n",
      "이몽룡\n"
     ]
    }
   ],
   "source": [
    "for name in ['홍길동','성춘향','변학도','이몽룡']:\n",
    "    print(name)"
   ]
  },
  {
   "cell_type": "code",
   "execution_count": 3,
   "id": "c73f3c11-7b2c-4f56-9001-b48c95c656ea",
   "metadata": {},
   "outputs": [
    {
     "name": "stdout",
     "output_type": "stream",
     "text": [
      "1 2 3 4 5 6 7 8 9 "
     ]
    }
   ],
   "source": [
    "for num in [1,2,3,4,5,6,7,8,9,10]:\n",
    "    print(num, end=' ')"
   ]
  },
  {
   "cell_type": "code",
   "execution_count": null,
   "id": "72871bcb-0f9d-4229-9dbf-ad930c542fc8",
   "metadata": {},
   "outputs": [],
   "source": [
    "# range(start, end, sep)"
   ]
  },
  {
   "cell_type": "code",
   "execution_count": 4,
   "id": "007fbee5-bf9b-4055-85e5-13fded82e453",
   "metadata": {},
   "outputs": [
    {
     "name": "stdout",
     "output_type": "stream",
     "text": [
      "1 2 3 4 5 6 7 8 9 10 "
     ]
    }
   ],
   "source": [
    "for num in range(1,10):\n",
    "    print(num, end=' ')"
   ]
  },
  {
   "cell_type": "code",
   "execution_count": 10,
   "id": "c83fc212-b2f9-4f54-8308-c5a674b74588",
   "metadata": {},
   "outputs": [
    {
     "name": "stdout",
     "output_type": "stream",
     "text": [
      "0 1 2 3 4 5 6 7 8 9 "
     ]
    }
   ],
   "source": [
    "for num in range(10):\n",
    "    print(num, end=' ')"
   ]
  },
  {
   "cell_type": "code",
   "execution_count": 11,
   "id": "21ccbca2-c5ac-452d-a60e-a65a1aba2e2c",
   "metadata": {},
   "outputs": [
    {
     "name": "stdout",
     "output_type": "stream",
     "text": [
      "2 4 6 8 10 "
     ]
    }
   ],
   "source": [
    "for num in range(2,11,2):\n",
    "    print(num, end=' ')"
   ]
  },
  {
   "cell_type": "code",
   "execution_count": 12,
   "id": "8f4e513a-25a6-44c1-a586-53e0fd2f7355",
   "metadata": {},
   "outputs": [
    {
     "name": "stdout",
     "output_type": "stream",
     "text": [
      "12 9 6 3 "
     ]
    }
   ],
   "source": [
    "for num in range(12,1,-3):\n",
    "    print(num, end=' ')"
   ]
  }
 ],
 "metadata": {
  "kernelspec": {
   "display_name": "Python Multi",
   "language": "python",
   "name": "multi"
  },
  "language_info": {
   "codemirror_mode": {
    "name": "ipython",
    "version": 3
   },
   "file_extension": ".py",
   "mimetype": "text/x-python",
   "name": "python",
   "nbconvert_exporter": "python",
   "pygments_lexer": "ipython3",
   "version": "3.7.6"
  }
 },
 "nbformat": 4,
 "nbformat_minor": 5
}
