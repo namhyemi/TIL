{
 "cells": [
  {
   "cell_type": "code",
   "execution_count": 1,
   "id": "e9e150c5-b6c9-4fa1-a84d-b01ea2aab5bc",
   "metadata": {},
   "outputs": [
    {
     "name": "stdout",
     "output_type": "stream",
     "text": [
      "2.0\n"
     ]
    }
   ],
   "source": [
    "# 정적 메소드(static method)\n",
    "# self 를 통하지 않고 바로 클래스가 메소드 호출\n",
    "# @staticmethod : 함수의 데코레이터 ->정적메소드로 정의한다 표시\n",
    "\n",
    "class Calc:\n",
    "    @staticmethod\n",
    "    def add(a,b):\n",
    "        return a+b\n",
    "\n",
    "    @staticmethod\n",
    "    def sub(a, b):\n",
    "        return a - b\n",
    "\n",
    "    @staticmethod\n",
    "    def mul(a, b):\n",
    "        return a * b\n",
    "\n",
    "    @staticmethod\n",
    "    def add(a, b):\n",
    "        return a / b\n",
    "\n",
    "print(Calc.add(10,5))"
   ]
  },
  {
   "cell_type": "code",
   "execution_count": null,
   "id": "8abc9da0-1f56-4e5d-b2b3-daac0f70dc5b",
   "metadata": {},
   "outputs": [],
   "source": []
  }
 ],
 "metadata": {
  "kernelspec": {
   "display_name": "python Multi",
   "language": "python",
   "name": "multi"
  },
  "language_info": {
   "codemirror_mode": {
    "name": "ipython",
    "version": 3
   },
   "file_extension": ".py",
   "mimetype": "text/x-python",
   "name": "python",
   "nbconvert_exporter": "python",
   "pygments_lexer": "ipython3",
   "version": "3.7.6"
  }
 },
 "nbformat": 4,
 "nbformat_minor": 5
}
