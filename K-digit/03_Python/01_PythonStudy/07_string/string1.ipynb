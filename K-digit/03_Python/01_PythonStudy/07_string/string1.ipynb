{
 "cells": [
  {
   "cell_type": "code",
   "execution_count": 1,
   "id": "965b1239-9070-4a8c-83a3-3b05507f20f9",
   "metadata": {},
   "outputs": [],
   "source": [
    "# 문자열의 기본 형식과 이해"
   ]
  },
  {
   "cell_type": "code",
   "execution_count": 6,
   "id": "2fb883e4-b23e-4e93-b570-62a0212422b0",
   "metadata": {},
   "outputs": [
    {
     "name": "stdout",
     "output_type": "stream",
     "text": [
      "hellohellohello\n"
     ]
    }
   ],
   "source": [
    "print('hello'*3)"
   ]
  },
  {
   "cell_type": "code",
   "execution_count": 8,
   "id": "005c6e32-d175-4316-ba8a-f495379f1359",
   "metadata": {},
   "outputs": [
    {
     "name": "stdout",
     "output_type": "stream",
     "text": [
      "반지름10인 원의 넓이는314.15000000000003\n"
     ]
    }
   ],
   "source": [
    "PI = 3.1415\n",
    "r = 10\n",
    "result = '반지름' + str(r) + '인 원의 넓이는' + str(PI*r*r)\n",
    "print(result)"
   ]
  },
  {
   "cell_type": "code",
   "execution_count": 2,
   "id": "8636fc76-e6a9-4933-9f53-311afa1bcb03",
   "metadata": {},
   "outputs": [],
   "source": [
    "crawling = 'Data crawling is fun.'\n",
    "parsing = 'Data parsing is also fun.'"
   ]
  },
  {
   "cell_type": "code",
   "execution_count": 3,
   "id": "1a66c0ac-c884-4bef-85c5-082184886b6d",
   "metadata": {},
   "outputs": [
    {
     "name": "stdout",
     "output_type": "stream",
     "text": [
      "Data crawling is fun.\n",
      "Data parsing is also fun.\n"
     ]
    }
   ],
   "source": [
    "print(crawling)\n",
    "print(parsing)"
   ]
  },
  {
   "cell_type": "code",
   "execution_count": 4,
   "id": "9a923ef0-5f2e-430c-9a2a-7c78389c636d",
   "metadata": {},
   "outputs": [
    {
     "name": "stdout",
     "output_type": "stream",
     "text": [
      "<class 'str'>\n",
      "<class 'str'>\n"
     ]
    }
   ],
   "source": [
    "print(type(crawling))\n",
    "print(type(parsing))"
   ]
  },
  {
   "cell_type": "code",
   "execution_count": null,
   "id": "ba92796a-57ef-4c35-98e1-4836905355f3",
   "metadata": {},
   "outputs": [],
   "source": []
  },
  {
   "cell_type": "code",
   "execution_count": 9,
   "id": "5d7034e1-e078-481b-9869-0d0d29bdb4f9",
   "metadata": {},
   "outputs": [],
   "source": [
    "# slicing : 문자열의 일부분을 추출"
   ]
  },
  {
   "cell_type": "code",
   "execution_count": 11,
   "id": "4a725365-5e21-46cc-8ade-f048d4fa9450",
   "metadata": {},
   "outputs": [
    {
     "name": "stdout",
     "output_type": "stream",
     "text": [
      "D\n",
      ".\n",
      "ata c\n",
      "Data crawling is fun\n",
      ".\n",
      "Data crawling is fun.\n",
      "Data crawl\n"
     ]
    }
   ],
   "source": [
    "print(crawling[0])\n",
    "print(crawling[-1])\n",
    "print(crawling[1:6])\n",
    "print(crawling[:-1])\n",
    "print(crawling[-1:]) \n",
    "print(crawling[:])\n",
    "print(crawling[0:10])"
   ]
  },
  {
   "cell_type": "code",
   "execution_count": null,
   "id": "13e22e21-2031-4caa-8bdc-e617370d7098",
   "metadata": {},
   "outputs": [],
   "source": []
  }
 ],
 "metadata": {
  "kernelspec": {
   "display_name": "Python Multi",
   "language": "python",
   "name": "multi"
  },
  "language_info": {
   "codemirror_mode": {
    "name": "ipython",
    "version": 3
   },
   "file_extension": ".py",
   "mimetype": "text/x-python",
   "name": "python",
   "nbconvert_exporter": "python",
   "pygments_lexer": "ipython3",
   "version": "3.7.6"
  }
 },
 "nbformat": 4,
 "nbformat_minor": 5
}
