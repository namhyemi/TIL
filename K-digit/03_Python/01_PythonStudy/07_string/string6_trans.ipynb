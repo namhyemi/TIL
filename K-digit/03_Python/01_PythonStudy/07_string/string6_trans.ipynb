{
 "cells": [
  {
   "cell_type": "code",
   "execution_count": 1,
   "id": "0313419d-afaa-4316-a1c4-772a360605cb",
   "metadata": {},
   "outputs": [],
   "source": [
    "# replace()"
   ]
  },
  {
   "cell_type": "code",
   "execution_count": 4,
   "id": "b7b63aac-745c-4bb0-aba6-ff6e1ed9d71f",
   "metadata": {},
   "outputs": [
    {
     "name": "stdout",
     "output_type": "stream",
     "text": [
      "Python Programming\n"
     ]
    }
   ],
   "source": [
    "text = 'Java Programming'\n",
    "text2 = text.replace('Java','Python')\n",
    "print(text2)"
   ]
  },
  {
   "cell_type": "code",
   "execution_count": null,
   "id": "b18307bd-2af8-4258-9c55-0c54d1c0dfd3",
   "metadata": {},
   "outputs": [],
   "source": [
    "# 대문자/소문자 변환\n",
    "# upper():대문자, lower():소문자, capitalize():첫문자, title(), swqpcase()"
   ]
  },
  {
   "cell_type": "code",
   "execution_count": 9,
   "id": "7c50da94-6f93-407a-bc48-0149d21636c4",
   "metadata": {},
   "outputs": [
    {
     "name": "stdout",
     "output_type": "stream",
     "text": [
      "JAVA PROGRAMMING IS FUN\n",
      "java programming is fun\n",
      "Java Programming Is Fun\n",
      "Java programming is fun\n",
      "JAVA PROGRAMMING IS fUN\n"
     ]
    }
   ],
   "source": [
    "text = 'java programming is Fun'\n",
    "print(text.upper())\n",
    "print(text.lower())\n",
    "print(text.title())\n",
    "print(text.capitalize())\n",
    "print(text.swapcase())"
   ]
  },
  {
   "cell_type": "code",
   "execution_count": 17,
   "id": "ae3d8cbd-6956-43f2-b32b-d5612a1200fa",
   "metadata": {},
   "outputs": [
    {
     "name": "stdout",
     "output_type": "stream",
     "text": [
      "  java programming is fun  -----\n",
      "java programming is fun\n",
      "java programming is fun  \n",
      "  java programming is fun------\n"
     ]
    }
   ],
   "source": [
    "# 공백문자 제거 strip()\n",
    "text = '  java programming is fun  '\n",
    "print(text+'-----')\n",
    "print(text.strip())\n",
    "print(text.lstrip())\n",
    "print(text.rstrip()+'------')"
   ]
  },
  {
   "cell_type": "code",
   "execution_count": null,
   "id": "9b76b5e7-c47a-4991-ad44-8f9d215c19fc",
   "metadata": {},
   "outputs": [],
   "source": []
  }
 ],
 "metadata": {
  "kernelspec": {
   "display_name": "Python Multi",
   "language": "python",
   "name": "multi"
  },
  "language_info": {
   "codemirror_mode": {
    "name": "ipython",
    "version": 3
   },
   "file_extension": ".py",
   "mimetype": "text/x-python",
   "name": "python",
   "nbconvert_exporter": "python",
   "pygments_lexer": "ipython3",
   "version": "3.7.6"
  }
 },
 "nbformat": 4,
 "nbformat_minor": 5
}
