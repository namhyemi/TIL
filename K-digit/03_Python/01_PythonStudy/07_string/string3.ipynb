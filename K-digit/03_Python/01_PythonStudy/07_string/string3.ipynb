{
 "cells": [
  {
   "cell_type": "code",
   "execution_count": null,
   "id": "3e67fce5-c212-481f-ad77-7e3fb7aa611f",
   "metadata": {},
   "outputs": [],
   "source": [
    "crawling = 'Data crawling is fun.'"
   ]
  },
  {
   "cell_type": "code",
   "execution_count": 8,
   "id": "9fe3ecd1-3446-46f6-924b-dcdadcc6f126",
   "metadata": {},
   "outputs": [],
   "source": [
    "# split() "
   ]
  },
  {
   "cell_type": "code",
   "execution_count": 10,
   "id": "449b8170-7f10-46af-8ff6-9550aec69437",
   "metadata": {},
   "outputs": [
    {
     "name": "stdout",
     "output_type": "stream",
     "text": [
      "['Data', 'crawling', 'is', 'fun.']\n"
     ]
    }
   ],
   "source": [
    "token = crawling.split()\n",
    "print(token)"
   ]
  },
  {
   "cell_type": "code",
   "execution_count": 11,
   "id": "a7caf3ec-cf58-4dbd-b31e-d7a6cf6cfbbd",
   "metadata": {},
   "outputs": [
    {
     "name": "stdout",
     "output_type": "stream",
     "text": [
      "['Lee', 'Kim', 'Choi', 'Kand']\n"
     ]
    }
   ],
   "source": [
    "names = 'Lee, Kim, Choi, Kand'\n",
    "print(names.split(', '))"
   ]
  },
  {
   "cell_type": "code",
   "execution_count": 13,
   "id": "3522313c-ccee-4075-998b-491a83a7c2a3",
   "metadata": {},
   "outputs": [
    {
     "name": "stdout",
     "output_type": "stream",
     "text": [
      "Lee\n",
      "Kim\n",
      "Choi\n",
      "Kand\n"
     ]
    }
   ],
   "source": [
    "nameL = names.split(', ')\n",
    "for i in nameL:\n",
    "    print(i)"
   ]
  },
  {
   "cell_type": "code",
   "execution_count": 15,
   "id": "0e66d401-b86d-49df-bebf-62dd51428e66",
   "metadata": {},
   "outputs": [
    {
     "name": "stdout",
     "output_type": "stream",
     "text": [
      "D\n",
      "a\n",
      "t\n",
      "a\n",
      " \n",
      "c\n",
      "r\n",
      "a\n",
      "w\n",
      "l\n",
      "i\n",
      "n\n",
      "g\n",
      " \n",
      "i\n",
      "s\n",
      " \n",
      "f\n",
      "u\n",
      "n\n",
      ".\n"
     ]
    }
   ],
   "source": [
    "# 문자열의 요소 하나씩 출력\n",
    "for c in crawling:\n",
    "    print(c)"
   ]
  },
  {
   "cell_type": "code",
   "execution_count": 16,
   "id": "153616c0-8672-4e15-b57b-55a3190fa4da",
   "metadata": {},
   "outputs": [
    {
     "name": "stdout",
     "output_type": "stream",
     "text": [
      "Lee\n",
      "Kim\n",
      "Choi\n",
      "Kand\n"
     ]
    }
   ],
   "source": [
    "for i in range(len(nameL)):\n",
    "    print(nameL[i])"
   ]
  },
  {
   "cell_type": "code",
   "execution_count": null,
   "id": "5799682b-b5ec-4cd8-b9d9-27f5ac4699f1",
   "metadata": {},
   "outputs": [],
   "source": []
  }
 ],
 "metadata": {
  "kernelspec": {
   "display_name": "Python Multi",
   "language": "python",
   "name": "multi"
  },
  "language_info": {
   "codemirror_mode": {
    "name": "ipython",
    "version": 3
   },
   "file_extension": ".py",
   "mimetype": "text/x-python",
   "name": "python",
   "nbconvert_exporter": "python",
   "pygments_lexer": "ipython3",
   "version": "3.7.6"
  }
 },
 "nbformat": 4,
 "nbformat_minor": 5
}
