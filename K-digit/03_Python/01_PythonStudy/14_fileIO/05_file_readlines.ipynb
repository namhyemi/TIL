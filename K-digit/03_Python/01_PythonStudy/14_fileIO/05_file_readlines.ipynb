{
 "cells": [
  {
   "cell_type": "code",
   "execution_count": null,
   "id": "2477c379-53df-4b2d-8fc1-7de5404c4b44",
   "metadata": {},
   "outputs": [],
   "source": [
    "## readlines()를 이용하여 파일 읽기\n",
    "\n",
    "# readline() : 1개의 행씩 읽어 오기, 행 끝에 '\\n' 포함\n",
    "# readlines() : 모든 행을 읽어 라인 단위별로 잘라서 리스트를 생성\n",
    "#               ['...\\n','...\\n','...\\n',...,'...\\n']\n",
    "# read() : 내용 전체를 한 문자열로 반환 ''' '''"
   ]
  },
  {
   "cell_type": "code",
   "execution_count": 2,
   "id": "f3aeb1e3-3681-460f-911e-95511d01f47c",
   "metadata": {},
   "outputs": [
    {
     "name": "stdout",
     "output_type": "stream",
     "text": [
      "['안녕하세요. 홍길동입니다.\\n', '지금 파이썬을 공부하는 중이에요']\n"
     ]
    }
   ],
   "source": [
    "# #----파일 전체 읽고 각 행을 리스트에 저장하기 ------\n",
    "# # readlines() 결과와 동일\n",
    "f = open('test.txt','r', encoding='utf-8')\n",
    "myL = []\n",
    "while True:\n",
    "    line = f.readline()\n",
    "    if(line ==''):\n",
    "        break\n",
    "    myL.append(line)\n",
    "f.close()\n",
    "print(myL)"
   ]
  },
  {
   "cell_type": "code",
   "execution_count": 3,
   "id": "027783ee-9aed-4d45-ab34-afc13f43472b",
   "metadata": {},
   "outputs": [],
   "source": [
    "# 파일 전체 읽기\n",
    "# f = open('test.txt', 'r', encoding='utf-8')\n",
    "# lines = f.readlines()\n",
    "# print(lines)\n",
    "# f.close()"
   ]
  },
  {
   "cell_type": "code",
   "execution_count": 4,
   "id": "e2a9ea86-1379-4866-9a9a-75d781321065",
   "metadata": {},
   "outputs": [
    {
     "name": "stdout",
     "output_type": "stream",
     "text": [
      "안녕하세요. 홍길동입니다.\n",
      "지금 파이썬을 공부하는 중이에요"
     ]
    }
   ],
   "source": [
    "# readlines()로 읽은 내용을 한 줄씩 출력하기\n",
    "\n",
    "f = open('test.txt', 'r', encoding='utf-8')\n",
    "lines = f.readlines()\n",
    "for line in lines:\n",
    "    print(line, end='')\n",
    "f.close()"
   ]
  },
  {
   "cell_type": "code",
   "execution_count": null,
   "id": "48568cac-fa0a-40a1-a890-210dc50ab066",
   "metadata": {},
   "outputs": [],
   "source": []
  }
 ],
 "metadata": {
  "kernelspec": {
   "display_name": "python Multi",
   "language": "python",
   "name": "multi"
  },
  "language_info": {
   "codemirror_mode": {
    "name": "ipython",
    "version": 3
   },
   "file_extension": ".py",
   "mimetype": "text/x-python",
   "name": "python",
   "nbconvert_exporter": "python",
   "pygments_lexer": "ipython3",
   "version": "3.7.6"
  }
 },
 "nbformat": 4,
 "nbformat_minor": 5
}
