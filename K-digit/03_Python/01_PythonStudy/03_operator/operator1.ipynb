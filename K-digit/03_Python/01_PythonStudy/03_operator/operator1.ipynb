{
 "cells": [
  {
   "cell_type": "code",
   "execution_count": 1,
   "id": "552a8fd6-37db-414b-8dcd-66e1c417db3d",
   "metadata": {},
   "outputs": [],
   "source": [
    "# 산술연산자 : +(더하기), -(빼기), *(곱하기), /(나누기), //(몫), %(나머지), **(지수)"
   ]
  },
  {
   "cell_type": "code",
   "execution_count": 2,
   "id": "9b1d1f4a-807d-4f37-a100-724368fd895d",
   "metadata": {},
   "outputs": [],
   "source": [
    "# 산술연산자 우선 순위\n",
    "# ()\n",
    "# **\n",
    "# 곱셉, 나눗셈, 나머지, 몫\n",
    "# 덧셈, 뺄셈"
   ]
  },
  {
   "cell_type": "code",
   "execution_count": 3,
   "id": "f66b90dc-7224-4754-88be-5890351ebf16",
   "metadata": {},
   "outputs": [
    {
     "name": "stdout",
     "output_type": "stream",
     "text": [
      "2시 46분 40초\n"
     ]
    }
   ],
   "source": [
    "# 문제. 10000초는 몇시간 몇분 몇초인가?\n",
    "\n",
    "s = 10000\n",
    "m = s//60\n",
    "s = s%60\n",
    "h = m//60\n",
    "m = m%60\n",
    "\n",
    "print(\"%d시 %d분 %d초\"  %(h,m,s))"
   ]
  },
  {
   "cell_type": "code",
   "execution_count": 4,
   "id": "b60bdd2a-01d2-4d0e-a536-31aeec6b3ef5",
   "metadata": {},
   "outputs": [],
   "source": [
    "# 할당 연산자 : ="
   ]
  },
  {
   "cell_type": "code",
   "execution_count": 5,
   "id": "cb86ac73-56b4-43b6-af92-b3593430a53e",
   "metadata": {},
   "outputs": [
    {
     "name": "stdout",
     "output_type": "stream",
     "text": [
      "20\n",
      "5\n",
      "100\n",
      "2.0\n"
     ]
    }
   ],
   "source": [
    "# 대입 연산자 : *=, -=, /=, //=, %=, **=\n",
    "a=b=c=d=e=10\n",
    "\n",
    "a += 10 # a = a+10\n",
    "print(a)\n",
    "\n",
    "b -= 5 # b = b-5\n",
    "print(b)\n",
    "\n",
    "c *= 10 # c = c * 10\n",
    "print(c)\n",
    "\n",
    "d /= 5 # d = d /5\n",
    "print(d)"
   ]
  },
  {
   "cell_type": "code",
   "execution_count": 6,
   "id": "daf659df-dfcc-4d98-acfc-2a7c7d9abe49",
   "metadata": {},
   "outputs": [
    {
     "name": "stdout",
     "output_type": "stream",
     "text": [
      "True\n",
      "False\n",
      "True\n"
     ]
    }
   ],
   "source": [
    "# 관계 연산자 : >, >=, <, <=, ==, !=\n",
    "print(100>3)\n",
    "a = 100; b=101\n",
    "print(a>b)\n",
    "print(a!=b) # != 같지 않다"
   ]
  },
  {
   "cell_type": "code",
   "execution_count": 7,
   "id": "5263bc34-f1b2-4280-973a-262db0471316",
   "metadata": {},
   "outputs": [
    {
     "name": "stdout",
     "output_type": "stream",
     "text": [
      "False\n",
      "True\n",
      "False\n"
     ]
    }
   ],
   "source": [
    "# 논리 연산자 : and, or, not\n",
    "print(a>b and b==101) # 모두 True 일 때 True\n",
    "print(a>b or b==101) # 하나라도 True 일 때 True\n",
    "print(not(a<b)) # 반대값"
   ]
  },
  {
   "cell_type": "code",
   "execution_count": 8,
   "id": "18f1c330-8efa-4355-a6e0-5dcd5cb2ff1b",
   "metadata": {},
   "outputs": [],
   "source": [
    "# 비트 연산자 : 정수를 2진수로 변환한 후 각각의 비트별로 연산"
   ]
  },
  {
   "cell_type": "code",
   "execution_count": 9,
   "id": "3aa771a1-1ded-4cff-b3bc-956e280b23ee",
   "metadata": {},
   "outputs": [],
   "source": [
    "# &(논리곱), |(논리합), ^(Xor), ~(부정), <<(왼쪽시프트), >>(오른쪽시프트)"
   ]
  },
  {
   "cell_type": "code",
   "execution_count": 10,
   "id": "c9299688-60f1-48ab-9def-a2b729b6d7d1",
   "metadata": {},
   "outputs": [
    {
     "name": "stdout",
     "output_type": "stream",
     "text": [
      "2\n",
      "11\n",
      "9\n",
      "-4\n",
      "-3\n"
     ]
    }
   ],
   "source": [
    "print(10 & 3) # 1010 & 0011 => 0010\n",
    "print(10 | 3) # 1010 & 0011 => 1011\n",
    "print(10 ^ 3) # 1010 & 0011 => 1001\n",
    "print(~3) # 0011 -> 1100\n",
    "print(~3+1)"
   ]
  },
  {
   "cell_type": "code",
   "execution_count": 11,
   "id": "0ff8acbb-6080-4b40-86fd-47eb1a0346da",
   "metadata": {},
   "outputs": [
    {
     "name": "stdout",
     "output_type": "stream",
     "text": [
      "20\n",
      "40\n",
      "80\n"
     ]
    }
   ],
   "source": [
    "print(10<<1) #1010 -> 10100\n",
    "print(10<<2) #1010 -> 101000\n",
    "print(10<<3) #1010 -> 1010000"
   ]
  },
  {
   "cell_type": "code",
   "execution_count": 12,
   "id": "06a92ca4-26c6-4c7c-9bd0-bf35a21de593",
   "metadata": {},
   "outputs": [
    {
     "name": "stdout",
     "output_type": "stream",
     "text": [
      "5\n",
      "2\n",
      "1\n"
     ]
    }
   ],
   "source": [
    "print(10>>1) #1010 -> 101\n",
    "print(10>>2) #1010 -> 10\n",
    "print(10>>3) #1010 -> 1"
   ]
  },
  {
   "cell_type": "code",
   "execution_count": 13,
   "id": "fda79a17-d1a2-4714-b748-0de692430afa",
   "metadata": {},
   "outputs": [
    {
     "name": "stdout",
     "output_type": "stream",
     "text": [
      "잔액 :  1,235,000\n",
      "잔액 :  1,235,000\n",
      "잔액 :  1,235,000.1\n"
     ]
    }
   ],
   "source": [
    "print('잔액 : ',format(1235000, ',.0f'))\n",
    "print('잔액 : ',format(1235000, ',d'))\n",
    "print('잔액 : ',format(1235000.123, ',.1f'))"
   ]
  },
  {
   "cell_type": "code",
   "execution_count": null,
   "id": "59a67189-4eb6-4c86-8cac-1ec4d3574824",
   "metadata": {},
   "outputs": [],
   "source": []
  }
 ],
 "metadata": {
  "kernelspec": {
   "display_name": "Python Multi",
   "language": "python",
   "name": "multi"
  },
  "language_info": {
   "codemirror_mode": {
    "name": "ipython",
    "version": 3
   },
   "file_extension": ".py",
   "mimetype": "text/x-python",
   "name": "python",
   "nbconvert_exporter": "python",
   "pygments_lexer": "ipython3",
   "version": "3.7.6"
  }
 },
 "nbformat": 4,
 "nbformat_minor": 5
}
