{
 "cells": [
  {
   "cell_type": "code",
   "execution_count": 1,
   "id": "2fda0281-df32-44ee-a572-553f8bee0e96",
   "metadata": {},
   "outputs": [
    {
     "name": "stdout",
     "output_type": "stream",
     "text": [
      "[[1, 2, 3, 0], [4, 5, 6, 1], [7, 8, 9, 2]]\n"
     ]
    }
   ],
   "source": [
    "#2차원 리스트\n",
    "list3 = [[1,2,3,0],[4,5,6,1],[7,8,9,2]]\n",
    "list4 = [[1,2,3],[1,2],[1,3,4,5]]\n",
    "\n",
    "print(list3)"
   ]
  },
  {
   "cell_type": "code",
   "execution_count": 3,
   "id": "bb011238-6a84-48ec-8d43-bd5c32dd5b34",
   "metadata": {},
   "outputs": [
    {
     "name": "stdout",
     "output_type": "stream",
     "text": [
      "[1, 2, 3, 0]\n",
      "[4, 5, 6, 1]\n",
      "[7, 8, 9, 2]\n",
      "1 2 3 0 \n",
      "4 5 6 1 \n",
      "7 8 9 2 \n",
      "5\n",
      "3\n",
      "4\n"
     ]
    }
   ],
   "source": [
    "for i in list3:\n",
    "    print(i)\n",
    "\n",
    "for i in list3:\n",
    "    for j in i:\n",
    "        print(j,end=' ')\n",
    "    print()\n",
    "\n",
    "print(list3[1][1])\n",
    "print(len(list3))\n",
    "print(len(list3[0]))"
   ]
  },
  {
   "cell_type": "code",
   "execution_count": 4,
   "id": "afafa3ed-3bb9-4aa3-8481-5afc0b9bdb0d",
   "metadata": {},
   "outputs": [],
   "source": [
    "# 2차원 리스트 연습문제\n",
    "# 10명의 학생의 국어, 영어, 수학 점수가 2차원 리스트 형식으로 저장된 경우\n",
    "# 각 학생별 세 과목의 총점과 평균 점수를 계산하여 과목점수와 함께 출력하는 코드 작성"
   ]
  },
  {
   "cell_type": "code",
   "execution_count": 5,
   "id": "ed4dea40-1a35-4c4f-a89b-f39d86bb629c",
   "metadata": {},
   "outputs": [
    {
     "name": "stdout",
     "output_type": "stream",
     "text": [
      "[90, 85, 70] 245 81.7\n",
      "[88, 72, 92] 252 84.0\n",
      "[100, 100, 100] 300 100.0\n",
      "[90, 60, 50] 200 66.7\n",
      "[90, 80, 70] 240 80.0\n",
      "[70, 60, 50] 180 60.0\n",
      "[95, 85, 75] 255 85.0\n",
      "[83, 72, 65] 220 73.3\n",
      "[86, 90, 59] 235 78.3\n",
      "[77, 89, 91] 257 85.7\n"
     ]
    }
   ],
   "source": [
    "# [90, 85, 70]\n",
    "# [88, 72, 92]\n",
    "# [100, 100, 100]\n",
    "# [90, 60, 50]\n",
    "# ...\n",
    "\n",
    "# 출력\n",
    "# [90, 85, 70], 245, 81.7\n",
    "# [88, 72, 92], 259, 86,3\n",
    "# ...\n",
    "\n",
    "\n",
    "\n",
    "studentL = [[90,85,70],[88,72,92],[100,100,100],[90,60,50],[90,80,70],[70,60,50],[95,85,75],[83,72,65],[86,90,59],[77,89,91]]\n",
    "\n",
    "for student in studentL:\n",
    "    total = 0\n",
    "    total = sum(student)\n",
    "    avg = total/len(student)\n",
    "    print(\"{} {} {:.1f}\".format(student, total, avg))\n",
    "    # print(\"%d %d, %.1f\" %(student, total, total/len(i)))\n",
    "\n",
    "    # for num in i:\n",
    "    #     sum += num\n",
    "    # print(\"%d, %.1f\" %(sum(student), sum(student)/len(student)))\n",
    "\n",
    "\n",
    "#round(70.5555,2) -> 70.56 두자리수로 반올림"
   ]
  },
  {
   "cell_type": "code",
   "execution_count": null,
   "id": "1c918a8b-cffe-4fe6-9939-a0b06bc1af6c",
   "metadata": {},
   "outputs": [],
   "source": []
  }
 ],
 "metadata": {
  "kernelspec": {
   "display_name": "python Multi",
   "language": "python",
   "name": "multi"
  },
  "language_info": {
   "codemirror_mode": {
    "name": "ipython",
    "version": 3
   },
   "file_extension": ".py",
   "mimetype": "text/x-python",
   "name": "python",
   "nbconvert_exporter": "python",
   "pygments_lexer": "ipython3",
   "version": "3.7.6"
  }
 },
 "nbformat": 4,
 "nbformat_minor": 5
}
