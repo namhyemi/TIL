{
 "cells": [
  {
   "cell_type": "code",
   "execution_count": 1,
   "id": "7b616e08-687f-4b1d-b00b-dd7621acecf9",
   "metadata": {},
   "outputs": [
    {
     "name": "stdin",
     "output_type": "stream",
     "text": [
      "학생의 수 입력 :  3\n",
      "학생 1 점수 입력 :  90\n",
      "학생 2 점수 입력 :  85\n",
      "학생 3 점수 입력 :  70\n"
     ]
    },
    {
     "name": "stdout",
     "output_type": "stream",
     "text": [
      "총점 : 245\n",
      "평균 : 81.67\n",
      "80점 이상 학생 : 2명\n",
      "점수 내림차순 정렬 :  [90, 85, 70]\n"
     ]
    }
   ],
   "source": [
    "# 4\n",
    "# 2번 문제 학생들 점수를 내림차순으로 정렬하여 출력\n",
    "\n",
    "student = int(input(\"학생의 수 입력 : \"))\n",
    "studentL = []\n",
    "count = total = avg = 0\n",
    "\n",
    "for i in range(student):\n",
    "    name = int(input(\"학생 %d 점수 입력 : \" %(i+1)))\n",
    "    studentL.append(name)\n",
    "\n",
    "for i in range(len(studentL)):\n",
    "    total += studentL[i]\n",
    "    if(studentL[i]>=80):\n",
    "        count += 1\n",
    "\n",
    "print(\"총점 :\",total)\n",
    "print(\"평균 : %.2f\" %(total/len(studentL)))\n",
    "print(\"80점 이상 학생 : %d명\" %count)\n",
    "\n",
    "sort_student = sorted(studentL,reverse=True)\n",
    "print(\"점수 내림차순 정렬 : \",sort_student )\n"
   ]
  },
  {
   "cell_type": "code",
   "execution_count": 2,
   "id": "4796c1eb-0589-4fd3-adb3-1fcb51c0e9e2",
   "metadata": {},
   "outputs": [
    {
     "name": "stdout",
     "output_type": "stream",
     "text": [
      "죽일 고비를 여러 번 겪으며 살아나다\n"
     ]
    },
    {
     "name": "stdin",
     "output_type": "stream",
     "text": [
      "이말의 사자성어는? :  구사일생\n"
     ]
    },
    {
     "name": "stdout",
     "output_type": "stream",
     "text": [
      "\n",
      "맞습니다..게임을 종료합니다.\n"
     ]
    }
   ],
   "source": [
    "#5. 사자성어 맞추기 게임\n",
    "\n",
    "import random\n",
    "\n",
    "Idiom = ['개과천선','구사일생','군계일학','무용지물','동고동락','유비무환',\n",
    "         '입신양명','괄목상대','막역지우','고장난명']\n",
    "Idiom_mean = [\"잘못을 고치고 옳은 길에 들어섬\",\n",
    "              \"죽일 고비를 여러 번 겪으며 살아나다\",\n",
    "              \"평범한 사람 가운데 뛰어난 사람\",\n",
    "              \"아무짝에나 쓸모 없는 것\",\n",
    "              \"고통과 즐거움을 함께 한다.\",\n",
    "              \"미리 준비해두면 근심 걱정이 없다.\",\n",
    "              \"사회적으로 인정받고 출세하여 이름을 세상에 드날림\",\n",
    "              \"다른 사람의 학식이나 업적이 크게 진보한 것을 말함\",\n",
    "              \"생사를 같이 할 수 있는 친밀한 벗\",\n",
    "              \"상대 없이 혼자서는 어떤 일을 이룰 수 없다\"]\n",
    "\n",
    "num =random.randint(0,len(Idiom)-1)\n",
    "\n",
    "while True :\n",
    "    print(\"%s\" %(Idiom_mean[num]))\n",
    "    answer = input(\"이말의 사자성어는? : \")\n",
    "    if(answer == Idiom[num]):\n",
    "        print(\"\\n맞습니다..게임을 종료합니다.\")\n",
    "        break\n",
    "    else:\n",
    "        print(\"\\n틀렸습니다...다시 도전 !\\n\")"
   ]
  },
  {
   "cell_type": "code",
   "execution_count": null,
   "id": "e34f3260-3b02-464d-b8bb-09eb1ad8e140",
   "metadata": {},
   "outputs": [],
   "source": []
  }
 ],
 "metadata": {
  "kernelspec": {
   "display_name": "python Multi",
   "language": "python",
   "name": "multi"
  },
  "language_info": {
   "codemirror_mode": {
    "name": "ipython",
    "version": 3
   },
   "file_extension": ".py",
   "mimetype": "text/x-python",
   "name": "python",
   "nbconvert_exporter": "python",
   "pygments_lexer": "ipython3",
   "version": "3.7.6"
  }
 },
 "nbformat": 4,
 "nbformat_minor": 5
}
