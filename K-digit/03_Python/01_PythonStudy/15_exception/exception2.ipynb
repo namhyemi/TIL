{
 "cells": [
  {
   "cell_type": "code",
   "execution_count": null,
   "id": "c8fd2313-ba47-4a40-a881-dac98418b882",
   "metadata": {},
   "outputs": [],
   "source": [
    "# 여러 개의 예외 처리 : 함께 처리 가능\n",
    "# try:\n",
    "#     print('age=' + 23)\n",
    "#     print(10 / 0)\n",
    "# except (ZeroDivisionError, TypeError) as e:\n",
    "#     print(e)"
   ]
  },
  {
   "cell_type": "code",
   "execution_count": null,
   "id": "2cab8de3-8cfb-401e-93dc-50c41875eb05",
   "metadata": {},
   "outputs": [],
   "source": [
    "#\n",
    "# try:\n",
    "#     num = int(input('input number :'))\n",
    "# except ValueError:\n",
    "#     print('정수가 아닙니다')\n",
    "# else:\n",
    "#     print(num)\n",
    "# finally:\n",
    "#     print('종료')\n",
    "#"
   ]
  },
  {
   "cell_type": "code",
   "execution_count": 1,
   "id": "a2599f64-d68a-42fd-9a72-6a7ac6963e1d",
   "metadata": {},
   "outputs": [
    {
     "name": "stdout",
     "output_type": "stream",
     "text": [
      "종료\n"
     ]
    }
   ],
   "source": [
    "try:\n",
    "    f = open('testex.txt','r')\n",
    "except FileNotFoundError:\n",
    "    pass\n",
    "else:\n",
    "    data = f.read()\n",
    "    print(data)\n",
    "    f.close()\n",
    "finally:\n",
    "    print('종료')"
   ]
  },
  {
   "cell_type": "code",
   "execution_count": null,
   "id": "e0e44359-007c-481d-82a2-d657a15e87d4",
   "metadata": {},
   "outputs": [],
   "source": []
  }
 ],
 "metadata": {
  "kernelspec": {
   "display_name": "python Multi",
   "language": "python",
   "name": "multi"
  },
  "language_info": {
   "codemirror_mode": {
    "name": "ipython",
    "version": 3
   },
   "file_extension": ".py",
   "mimetype": "text/x-python",
   "name": "python",
   "nbconvert_exporter": "python",
   "pygments_lexer": "ipython3",
   "version": "3.7.6"
  }
 },
 "nbformat": 4,
 "nbformat_minor": 5
}
