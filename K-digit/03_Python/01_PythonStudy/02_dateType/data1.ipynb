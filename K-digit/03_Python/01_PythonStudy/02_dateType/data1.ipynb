{
 "cells": [
  {
   "cell_type": "code",
   "execution_count": 1,
   "id": "8192a219-c221-4298-a400-cfa543ca7c98",
   "metadata": {},
   "outputs": [],
   "source": [
    "# 진수 변환 함수\n",
    "\n",
    "# bin() : 2진수\n",
    "# oct() : 8진수\n",
    "# hex() : 16진수"
   ]
  },
  {
   "cell_type": "code",
   "execution_count": 2,
   "id": "ca98661f-8d51-4efb-a133-41ebd6ea1888",
   "metadata": {},
   "outputs": [
    {
     "name": "stdout",
     "output_type": "stream",
     "text": [
      "0b1011\n",
      "0b1001\n",
      "0b10001\n"
     ]
    }
   ],
   "source": [
    "# 2진수로 변환\n",
    "print(bin(11))\n",
    "print(bin(0o11))\n",
    "print(bin(0x11))"
   ]
  },
  {
   "cell_type": "code",
   "execution_count": 3,
   "id": "f03589aa-b0aa-483a-87e3-3f892ba57c18",
   "metadata": {},
   "outputs": [
    {
     "name": "stdout",
     "output_type": "stream",
     "text": [
      "0o13\n",
      "0o3\n",
      "0o21\n"
     ]
    }
   ],
   "source": [
    "# 8진수로 변환\n",
    "print(oct(11))\n",
    "print(oct(0b11))\n",
    "print(oct(0x11))"
   ]
  },
  {
   "cell_type": "code",
   "execution_count": 4,
   "id": "dc814b94-9b18-459b-b74d-d20c45002b95",
   "metadata": {},
   "outputs": [
    {
     "name": "stdout",
     "output_type": "stream",
     "text": [
      "0xb\n",
      "0x3\n",
      "0x9\n"
     ]
    }
   ],
   "source": [
    "# 16진수로 변환\n",
    "print(hex(11))\n",
    "print(hex(0b11))\n",
    "print(hex(0o11))"
   ]
  },
  {
   "cell_type": "code",
   "execution_count": 5,
   "id": "d82a159d-31a0-47ab-8ea5-ca92069e0bbc",
   "metadata": {},
   "outputs": [
    {
     "name": "stdout",
     "output_type": "stream",
     "text": [
      "255\n",
      "123\n",
      "83\n",
      "10\n"
     ]
    }
   ],
   "source": [
    "# int() 함수를 이용한 진수 변환\n",
    "print(int('ff',16))\n",
    "print(int('123',10))\n",
    "print(int('123',8))\n",
    "print(int('1010',2))"
   ]
  }
 ],
 "metadata": {
  "kernelspec": {
   "display_name": "Python Multi",
   "language": "python",
   "name": "multi"
  },
  "language_info": {
   "codemirror_mode": {
    "name": "ipython",
    "version": 3
   },
   "file_extension": ".py",
   "mimetype": "text/x-python",
   "name": "python",
   "nbconvert_exporter": "python",
   "pygments_lexer": "ipython3",
   "version": "3.7.6"
  }
 },
 "nbformat": 4,
 "nbformat_minor": 5
}
