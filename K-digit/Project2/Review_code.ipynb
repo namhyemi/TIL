{
 "cells": [
  {
   "cell_type": "markdown",
   "id": "39c05403-9b87-4fd3-9ee6-65b1cb97b061",
   "metadata": {},
   "source": [
    "# 시작"
   ]
  },
  {
   "cell_type": "code",
   "execution_count": null,
   "id": "f456c896-50cb-4ef3-a661-50b45052e02e",
   "metadata": {},
   "outputs": [],
   "source": [
    "import pandas as pd\n",
    "#각 구별 1페이지 리뷰만 크롤링한 파일입니다\n",
    "#실제 코드 병합시에는 csv파일이 아닌 데이터 프레임에 직접 적용 예정입니다\n",
    "GN_df = pd.read_csv('강남구 맛집_rating_df.csv')\n",
    "GD_df = pd.read_csv('강동구 맛집_rating_df.csv')\n",
    "GA_df = pd.read_csv('관악구 맛집_rating_df.csv')\n",
    "GC_df = pd.read_csv('금천구 맛집_rating_df.csv')\n",
    "DJ_df = pd.read_csv('동작구 맛집_rating_df.csv')\n",
    "SC_df = pd.read_csv('서초구 맛집_rating_df.csv')\n",
    "SP_df = pd.read_csv('송파구 맛집_rating_df.csv')\n",
    "YDP_df = pd.read_csv('영등포구 맛집_rating_df.csv')"
   ]
  },
  {
   "cell_type": "code",
   "execution_count": null,
   "id": "87191dce-ad18-4c2a-8753-4554a5a1bc1b",
   "metadata": {},
   "outputs": [],
   "source": [
    "gu_list = ['GN', 'GD', 'GA', 'GC', 'DJ', 'SC', 'SP', 'YDP'] #구 코드 리스트\n",
    "df_gu_list = [GN_df, GD_df, GA_df, GC_df, DJ_df, SC_df, SP_df, YDP_df] #구 데이터프레임 리스트"
   ]
  },
  {
   "cell_type": "code",
   "execution_count": null,
   "id": "8e8913e4-2e45-4ec4-95ff-51bbfea7da57",
   "metadata": {},
   "outputs": [],
   "source": [
    "#Review code insert\n",
    "def review_code(gu_list, df_gu, review_num):\n",
    "    df_gu.insert(0, 'Review', review_num)\n",
    "\n",
    "#반복문 활용해 모든 데이터 프레임에 Review code 추가\n",
    "for i in range(len(gu_list)):\n",
    "    df_gu_list[i].drop(['Unnamed: 0'], axis=1, inplace=True)\n",
    "    len_df = df_gu_list[i].shape[0]\n",
    "    review_code(gu_list[i], df_gu_list[i], [gu_list[i]+str(j).zfill(6) for j in range(0,len_df)])"
   ]
  },
  {
   "cell_type": "code",
   "execution_count": null,
   "id": "670dc5c0-8b79-449d-947f-a1e7e6da8fc6",
   "metadata": {},
   "outputs": [],
   "source": [
    "for i in range(len(df_gu_list)):\n",
    "    print(df_gu_list[i].tail())"
   ]
  },
  {
   "cell_type": "code",
   "execution_count": null,
   "id": "60827e2e-d098-45bf-904e-eed7e85061ae",
   "metadata": {},
   "outputs": [],
   "source": []
  }
 ],
 "metadata": {
  "kernelspec": {
   "display_name": "Python Multi",
   "language": "python",
   "name": "multi"
  },
  "language_info": {
   "codemirror_mode": {
    "name": "ipython",
    "version": 3
   },
   "file_extension": ".py",
   "mimetype": "text/x-python",
   "name": "python",
   "nbconvert_exporter": "python",
   "pygments_lexer": "ipython3",
   "version": "3.7.6"
  }
 },
 "nbformat": 4,
 "nbformat_minor": 5
}
