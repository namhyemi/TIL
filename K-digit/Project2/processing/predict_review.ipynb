{
 "cells": [
  {
   "cell_type": "code",
   "execution_count": null,
   "metadata": {
    "id": "qZHHw3Bogc0z"
   },
   "outputs": [],
   "source": [
    "# Colab에 Mecab 설치\n",
    "!git clone https://github.com/SOMJANG/Mecab-ko-for-Google-Colab.git\n",
    "%cd Mecab-ko-for-Google-Colab\n",
    "!bash install_mecab-ko_on_colab190912.sh"
   ]
  },
  {
   "cell_type": "code",
   "execution_count": null,
   "metadata": {
    "id": "kzuYkGm9gYCe"
   },
   "outputs": [],
   "source": [
    "!pip install konlpy"
   ]
  },
  {
   "cell_type": "code",
   "execution_count": 1,
   "metadata": {
    "id": "mWa-8pNVgNrz"
   },
   "outputs": [],
   "source": [
    "import pandas as pd\n",
    "import numpy as np\n",
    "import matplotlib.pyplot as plt\n",
    "import urllib.request\n",
    "from collections import Counter\n",
    "from konlpy.tag import Mecab\n",
    "from sklearn.model_selection import train_test_split\n",
    "from tensorflow.keras.preprocessing.text import Tokenizer\n",
    "from tensorflow.keras.preprocessing.sequence import pad_sequences\n",
    "%matplotlib inline"
   ]
  },
  {
   "cell_type": "code",
   "execution_count": null,
   "metadata": {
    "colab": {
     "base_uri": "https://localhost:8080/"
    },
    "id": "dJ1a_H-Ahvbh",
    "outputId": "2ece5d3f-1513-4814-df66-fc0c510ef062"
   },
   "outputs": [
    {
     "name": "stdout",
     "output_type": "stream",
     "text": [
      "images\t\t\t\t\t   LICENSE\n",
      "install_mecab-ko_on_colab190912.sh\t   README.md\n",
      "install_mecab-ko_on_colab_light_210108.sh\n"
     ]
    }
   ],
   "source": [
    "!dir"
   ]
  },
  {
   "cell_type": "code",
   "execution_count": 2,
   "metadata": {
    "colab": {
     "base_uri": "https://localhost:8080/"
    },
    "id": "RJUR8wUrgVwA",
    "outputId": "2b46c290-6166-496e-8bc5-e7a41038ef3b"
   },
   "outputs": [
    {
     "name": "stdout",
     "output_type": "stream",
     "text": [
      "전체 리뷰 개수 : 316352\n"
     ]
    }
   ],
   "source": [
    "total_data = pd.read_csv('/content/REVIEW.csv')\n",
    "print('전체 리뷰 개수 :',len(total_data)) # 전체 리뷰 개수 출력"
   ]
  },
  {
   "cell_type": "code",
   "execution_count": 3,
   "metadata": {
    "id": "D-JPq-Bqgnxi"
   },
   "outputs": [],
   "source": [
    "total_data = total_data.drop('Test', axis=1)"
   ]
  },
  {
   "cell_type": "code",
   "execution_count": 4,
   "metadata": {
    "colab": {
     "base_uri": "https://localhost:8080/",
     "height": 206
    },
    "id": "EsVpQRJjgpRO",
    "outputId": "11a3af47-5569-436e-83cf-7d12d9aade34"
   },
   "outputs": [
    {
     "data": {
      "text/html": [
       "<div>\n",
       "<style scoped>\n",
       "    .dataframe tbody tr th:only-of-type {\n",
       "        vertical-align: middle;\n",
       "    }\n",
       "\n",
       "    .dataframe tbody tr th {\n",
       "        vertical-align: top;\n",
       "    }\n",
       "\n",
       "    .dataframe thead th {\n",
       "        text-align: right;\n",
       "    }\n",
       "</style>\n",
       "<table border=\"1\" class=\"dataframe\">\n",
       "  <thead>\n",
       "    <tr style=\"text-align: right;\">\n",
       "      <th></th>\n",
       "      <th>Review</th>\n",
       "      <th>Review Code</th>\n",
       "      <th>Score</th>\n",
       "      <th>Store Code (Review)</th>\n",
       "      <th>Upload Date</th>\n",
       "      <th>User Id</th>\n",
       "      <th>label</th>\n",
       "    </tr>\n",
       "  </thead>\n",
       "  <tbody>\n",
       "    <tr>\n",
       "      <th>0</th>\n",
       "      <td>가지마 이거봤으면 가지마</td>\n",
       "      <td>DB000001</td>\n",
       "      <td>1.0</td>\n",
       "      <td>STORE_DB00001</td>\n",
       "      <td>2021-07-27</td>\n",
       "      <td>16d9tp6</td>\n",
       "      <td>0</td>\n",
       "    </tr>\n",
       "    <tr>\n",
       "      <th>1</th>\n",
       "      <td>고기 올려놓고 손님한테 구우라고 하고 화장실감 공기밥 달라고 세번 얘기해야 가져다줌...</td>\n",
       "      <td>DB000002</td>\n",
       "      <td>1.0</td>\n",
       "      <td>STORE_DB00001</td>\n",
       "      <td>2021-07-25</td>\n",
       "      <td>unrrni</td>\n",
       "      <td>0</td>\n",
       "    </tr>\n",
       "    <tr>\n",
       "      <th>2</th>\n",
       "      <td>구워주는 고기집에 고기를 올려놓고 화장실 가고.. 손님한테 구우라는 건 뭔가요? 그...</td>\n",
       "      <td>DB000003</td>\n",
       "      <td>1.0</td>\n",
       "      <td>STORE_DB00001</td>\n",
       "      <td>2021-07-25</td>\n",
       "      <td>qr530u</td>\n",
       "      <td>0</td>\n",
       "    </tr>\n",
       "    <tr>\n",
       "      <th>3</th>\n",
       "      <td>이동네서는 대형음식점 갈데가 별로 없으니, 배짱식으로 장사하는 곳.  음식 중상, ...</td>\n",
       "      <td>DB000004</td>\n",
       "      <td>2.0</td>\n",
       "      <td>STORE_DB00001</td>\n",
       "      <td>2021-07-17</td>\n",
       "      <td>vel3rk</td>\n",
       "      <td>0</td>\n",
       "    </tr>\n",
       "    <tr>\n",
       "      <th>4</th>\n",
       "      <td>손님말 안듣는 직원들이 근무하는곳이네..</td>\n",
       "      <td>DB000005</td>\n",
       "      <td>1.0</td>\n",
       "      <td>STORE_DB00001</td>\n",
       "      <td>2021-07-17</td>\n",
       "      <td>167lsjl</td>\n",
       "      <td>0</td>\n",
       "    </tr>\n",
       "  </tbody>\n",
       "</table>\n",
       "</div>"
      ],
      "text/plain": [
       "                                              Review  ... label\n",
       "0                                      가지마 이거봤으면 가지마  ...     0\n",
       "1  고기 올려놓고 손님한테 구우라고 하고 화장실감 공기밥 달라고 세번 얘기해야 가져다줌...  ...     0\n",
       "2  구워주는 고기집에 고기를 올려놓고 화장실 가고.. 손님한테 구우라는 건 뭔가요? 그...  ...     0\n",
       "3  이동네서는 대형음식점 갈데가 별로 없으니, 배짱식으로 장사하는 곳.  음식 중상, ...  ...     0\n",
       "4                             손님말 안듣는 직원들이 근무하는곳이네..  ...     0\n",
       "\n",
       "[5 rows x 7 columns]"
      ]
     },
     "execution_count": 4,
     "metadata": {
      "tags": []
     },
     "output_type": "execute_result"
    }
   ],
   "source": [
    "total_data['label'] = np.select([total_data.Score > 3], [1], default=0)\n",
    "total_data[:5]"
   ]
  },
  {
   "cell_type": "code",
   "execution_count": 5,
   "metadata": {
    "colab": {
     "base_uri": "https://localhost:8080/"
    },
    "id": "TY367ws2grWS",
    "outputId": "495708af-b075-4604-9f85-dc2f5092a73e"
   },
   "outputs": [
    {
     "data": {
      "text/plain": [
       "(5, 239626, 2)"
      ]
     },
     "execution_count": 5,
     "metadata": {
      "tags": []
     },
     "output_type": "execute_result"
    }
   ],
   "source": [
    "total_data['Score'].nunique(), total_data['Review'].nunique(), total_data['label'].nunique()"
   ]
  },
  {
   "cell_type": "code",
   "execution_count": 6,
   "metadata": {
    "id": "8_OwfJShgtrx"
   },
   "outputs": [],
   "source": [
    "#결측치 제거\n",
    "total_data = total_data.dropna(axis=0)"
   ]
  },
  {
   "cell_type": "code",
   "execution_count": 7,
   "metadata": {
    "colab": {
     "base_uri": "https://localhost:8080/"
    },
    "id": "JTbnHcRngv2R",
    "outputId": "3178d870-d1be-47de-f7b3-38340ba3283c"
   },
   "outputs": [
    {
     "name": "stdout",
     "output_type": "stream",
     "text": [
      "총 샘플의 수 : 178105\n"
     ]
    }
   ],
   "source": [
    "# review 열에서 중복인 내용이 있다면 중복 제거\n",
    "total_data.drop_duplicates(subset=['Review'], inplace=True) # reviews 열에서 중복인 내용이 있다면 중복 제거\n",
    "print('총 샘플의 수 :',len(total_data))"
   ]
  },
  {
   "cell_type": "code",
   "execution_count": 8,
   "metadata": {
    "colab": {
     "base_uri": "https://localhost:8080/"
    },
    "id": "IoTPcEnZgxhK",
    "outputId": "79af0f01-b6c6-4850-910f-d09f52827f70"
   },
   "outputs": [
    {
     "name": "stdout",
     "output_type": "stream",
     "text": [
      "훈련용 리뷰의 개수 : 133578\n",
      "테스트용 리뷰의 개수 : 44527\n"
     ]
    }
   ],
   "source": [
    "train_data, test_data = train_test_split(total_data, test_size = 0.25, random_state = 42)\n",
    "print('훈련용 리뷰의 개수 :', len(train_data))\n",
    "print('테스트용 리뷰의 개수 :', len(test_data))"
   ]
  },
  {
   "cell_type": "code",
   "execution_count": 9,
   "metadata": {
    "colab": {
     "base_uri": "https://localhost:8080/",
     "height": 318
    },
    "id": "zb3dDnjmgy9s",
    "outputId": "860255a7-8059-454a-c984-3e54be24b4f3"
   },
   "outputs": [
    {
     "name": "stdout",
     "output_type": "stream",
     "text": [
      "   label  count\n",
      "0      0  52365\n",
      "1      1  81213\n"
     ]
    },
    {
     "data": {
      "image/png": "[encoded data removed]",
      "text/plain": [
       "<Figure size 432x288 with 1 Axes>"
      ]
     },
     "metadata": {
      "needs_background": "light",
      "tags": []
     },
     "output_type": "display_data"
    }
   ],
   "source": [
    "#자료가 불균형함\n",
    "train_data['label'].value_counts().plot(kind = 'bar')\n",
    "print(train_data.groupby('label').size().reset_index(name = 'count'))"
   ]
  },
  {
   "cell_type": "code",
   "execution_count": 12,
   "metadata": {
    "colab": {
     "base_uri": "https://localhost:8080/"
    },
    "id": "SJV87ifCg0OI",
    "outputId": "8964092f-1006-4824-b57b-486c9de65bdb"
   },
   "outputs": [
    {
     "name": "stdout",
     "output_type": "stream",
     "text": [
      "Review                 0\n",
      "Review Code            0\n",
      "Score                  0\n",
      "Store Code (Review)    0\n",
      "Upload Date            0\n",
      "User Id                0\n",
      "label                  0\n",
      "dtype: int64\n",
      "전처리 후 학습용 샘플의 개수 : 133301\n"
     ]
    }
   ],
   "source": [
    "# 한글과 공백을 제외하고 모두 제거\n",
    "train_data['Review'] = train_data['Review'].str.replace(\"[^ㄱ-ㅎㅏ-ㅣ가-힣 ]\",\"\")\n",
    "train_data['Review'].replace('', np.nan, inplace=True)\n",
    "train_data = train_data.dropna(how='any') # Null 값 제거\n",
    "print(train_data.isnull().sum())\n",
    "print('전처리 후 학습용 샘플의 개수 :',len(train_data))"
   ]
  },
  {
   "cell_type": "code",
   "execution_count": 11,
   "metadata": {
    "colab": {
     "base_uri": "https://localhost:8080/"
    },
    "id": "a8-CClcbg1ju",
    "outputId": "d27d7993-db95-48f8-b9de-041add2fb11f"
   },
   "outputs": [
    {
     "name": "stdout",
     "output_type": "stream",
     "text": [
      "전처리 후 테스트용 샘플의 개수 : 44425\n"
     ]
    },
    {
     "name": "stderr",
     "output_type": "stream",
     "text": [
      "/usr/local/lib/python3.7/dist-packages/ipykernel_launcher.py:2: SettingWithCopyWarning: \n",
      "A value is trying to be set on a copy of a slice from a DataFrame\n",
      "\n",
      "See the caveats in the documentation: https://pandas.pydata.org/pandas-docs/stable/user_guide/indexing.html#returning-a-view-versus-a-copy\n",
      "  \n",
      "/usr/local/lib/python3.7/dist-packages/ipykernel_launcher.py:3: SettingWithCopyWarning: \n",
      "A value is trying to be set on a copy of a slice from a DataFrame.\n",
      "Try using .loc[row_indexer,col_indexer] = value instead\n",
      "\n",
      "See the caveats in the documentation: https://pandas.pydata.org/pandas-docs/stable/user_guide/indexing.html#returning-a-view-versus-a-copy\n",
      "  This is separate from the ipykernel package so we can avoid doing imports until\n",
      "/usr/local/lib/python3.7/dist-packages/pandas/core/series.py:4582: SettingWithCopyWarning: \n",
      "A value is trying to be set on a copy of a slice from a DataFrame\n",
      "\n",
      "See the caveats in the documentation: https://pandas.pydata.org/pandas-docs/stable/user_guide/indexing.html#returning-a-view-versus-a-copy\n",
      "  method=method,\n"
     ]
    }
   ],
   "source": [
    "#테스트 데이터에도 동일한 과정\n",
    "test_data.drop_duplicates(subset = ['Review'], inplace=True) # 중복 제거\n",
    "test_data['Review'] = test_data['Review'].str.replace(\"[^ㄱ-ㅎㅏ-ㅣ가-힣 ]\",\"\") # 정규 표현식 수행\n",
    "test_data['Review'].replace('', np.nan, inplace=True) # 공백은 Null 값으로 변경\n",
    "test_data = test_data.dropna(how='any') # Null 값 제거\n",
    "print('전처리 후 테스트용 샘플의 개수 :',len(test_data))"
   ]
  },
  {
   "cell_type": "code",
   "execution_count": 13,
   "metadata": {
    "colab": {
     "base_uri": "https://localhost:8080/"
    },
    "id": "WTm5W4FZg3HC",
    "outputId": "f47db598-5ef8-4143-ecc2-000be53d4bcf"
   },
   "outputs": [
    {
     "name": "stdout",
     "output_type": "stream",
     "text": [
      "['와', '이런', '것', '도', '상품', '이', '라고', '차라리', '내', '가', '만드', '는', '게', '나을', '뻔']\n"
     ]
    }
   ],
   "source": [
    "mecab = Mecab()\n",
    "print(mecab.morphs('와 이런 것도 상품이라고 차라리 내가 만드는 게 나을 뻔'))"
   ]
  },
  {
   "cell_type": "code",
   "execution_count": 14,
   "metadata": {
    "id": "U30xu5Gqh5Wm"
   },
   "outputs": [],
   "source": [
    "# 불용어 정의\n",
    "stopwords = ['도', '는', '다', '의', '가', '이', '은', '한', '에', '하', '고', '을', '를', '인', '듯', '과', '와', '네', '들', '듯', '지', '임', '게']"
   ]
  },
  {
   "cell_type": "code",
   "execution_count": 15,
   "metadata": {
    "id": "8SYB-N51iBrF"
   },
   "outputs": [],
   "source": [
    "train_data['tokenized'] = train_data['Review'].apply(mecab.morphs)\n",
    "train_data['tokenized'] = train_data['tokenized'].apply(lambda x: [item for item in x if item not in stopwords])"
   ]
  },
  {
   "cell_type": "code",
   "execution_count": 16,
   "metadata": {
    "id": "U6CXQgcKiC-s"
   },
   "outputs": [],
   "source": [
    "test_data['tokenized'] = test_data['Review'].apply(mecab.morphs)\n",
    "test_data['tokenized'] = test_data['tokenized'].apply(lambda x: [item for item in x if item not in stopwords])"
   ]
  },
  {
   "cell_type": "code",
   "execution_count": 17,
   "metadata": {
    "id": "XmoEhIP1ssUC"
   },
   "outputs": [],
   "source": [
    "negative_words = np.hstack(train_data[train_data.label == 0]['tokenized'].values)\n",
    "positive_words = np.hstack(train_data[train_data.label == 1]['tokenized'].values)"
   ]
  },
  {
   "cell_type": "code",
   "execution_count": 18,
   "metadata": {
    "colab": {
     "base_uri": "https://localhost:8080/"
    },
    "id": "tSjcqQD6t-5M",
    "outputId": "29109a9a-567a-4358-8d9a-5f664e17aa93"
   },
   "outputs": [
    {
     "name": "stdout",
     "output_type": "stream",
     "text": [
      "[('맛', 20874), ('먹', 19096), ('는데', 18639), ('안', 15945), ('있', 13825), ('음', 12610), ('없', 12262), ('었', 10743), ('네요', 9813), ('너무', 9452), ('만', 9447), ('어요', 9315), ('좋', 8884), ('맛있', 8831), ('어', 8385), ('시', 7995), ('않', 7967), ('면', 7921), ('했', 7761), ('습니다', 7232)]\n"
     ]
    }
   ],
   "source": [
    "negative_word_count = Counter(negative_words)\n",
    "print(negative_word_count.most_common(20))"
   ]
  },
  {
   "cell_type": "code",
   "execution_count": 19,
   "metadata": {
    "colab": {
     "base_uri": "https://localhost:8080/"
    },
    "id": "fapbMk7wuBbu",
    "outputId": "5b1e57f7-afdd-4f1c-b57d-67f343b2006f"
   },
   "outputs": [
    {
     "name": "stdout",
     "output_type": "stream",
     "text": [
      "[('맛있', 41520), ('먹', 28455), ('좋', 27238), ('어요', 26552), ('맛', 23539), ('었', 16693), ('있', 16591), ('는데', 15340), ('음', 13118), ('너무', 12315), ('습니다', 12127), ('친절', 12045), ('시', 10546), ('네요', 9400), ('어', 9024), ('면', 8962), ('지만', 8274), ('아요', 8273), ('았', 7462), ('주', 7248)]\n"
     ]
    }
   ],
   "source": [
    "positive_word_count = Counter(positive_words)\n",
    "print(positive_word_count.most_common(20))"
   ]
  },
  {
   "cell_type": "code",
   "execution_count": 20,
   "metadata": {
    "colab": {
     "base_uri": "https://localhost:8080/",
     "height": 407
    },
    "id": "qzHmWyysuFDo",
    "outputId": "3bcac7a9-8ecb-4572-f3a2-4d3faf2774a1"
   },
   "outputs": [
    {
     "name": "stdout",
     "output_type": "stream",
     "text": [
      "긍정 리뷰의 평균 길이 : 18.711060948081265\n",
      "부정 리뷰의 평균 길이 : 26.495060499310767\n"
     ]
    },
    {
     "data": {
      "image/png": "[encoded data removed]",
      "text/plain": [
       "<Figure size 720x360 with 2 Axes>"
      ]
     },
     "metadata": {
      "needs_background": "light",
      "tags": []
     },
     "output_type": "display_data"
    }
   ],
   "source": [
    "fig,(ax1,ax2) = plt.subplots(1,2,figsize=(10,5))\n",
    "text_len = train_data[train_data['label']==1]['tokenized'].map(lambda x: len(x))\n",
    "ax1.hist(text_len, color='red')\n",
    "ax1.set_title('Positive Reviews')\n",
    "ax1.set_xlabel('length of samples')\n",
    "ax1.set_ylabel('number of samples')\n",
    "print('긍정 리뷰의 평균 길이 :', np.mean(text_len))\n",
    "\n",
    "text_len = train_data[train_data['label']==0]['tokenized'].map(lambda x: len(x))\n",
    "ax2.hist(text_len, color='blue')\n",
    "ax2.set_title('Negative Reviews')\n",
    "fig.suptitle('Words in texts')\n",
    "ax2.set_xlabel('length of samples')\n",
    "ax2.set_ylabel('number of samples')\n",
    "print('부정 리뷰의 평균 길이 :', np.mean(text_len))\n",
    "plt.show()"
   ]
  },
  {
   "cell_type": "code",
   "execution_count": 21,
   "metadata": {
    "id": "NvLSB6ASuJ57"
   },
   "outputs": [],
   "source": [
    "X_train = train_data['tokenized'].values\n",
    "y_train = train_data['label'].values\n",
    "X_test= test_data['tokenized'].values\n",
    "y_test = test_data['label'].values"
   ]
  },
  {
   "cell_type": "code",
   "execution_count": 22,
   "metadata": {
    "id": "JKPUEUpzuRmD"
   },
   "outputs": [],
   "source": [
    "tokenizer = Tokenizer()\n",
    "tokenizer.fit_on_texts(X_train)"
   ]
  },
  {
   "cell_type": "code",
   "execution_count": 23,
   "metadata": {
    "colab": {
     "base_uri": "https://localhost:8080/"
    },
    "id": "4c5lP0yluTit",
    "outputId": "3faaaccf-f3f3-4864-b82d-bb992d902eca"
   },
   "outputs": [
    {
     "name": "stdout",
     "output_type": "stream",
     "text": [
      "단어 집합(vocabulary)의 크기 : 40480\n",
      "등장 빈도가 1번 이하인 희귀 단어의 수: 16056\n",
      "단어 집합에서 희귀 단어의 비율: 39.66403162055336\n",
      "전체 등장 빈도에서 희귀 단어 등장 빈도 비율: 0.553506870745321\n"
     ]
    }
   ],
   "source": [
    "threshold = 2\n",
    "total_cnt = len(tokenizer.word_index) # 단어의 수\n",
    "rare_cnt = 0 # 등장 빈도수가 threshold보다 작은 단어의 개수를 카운트\n",
    "total_freq = 0 # 훈련 데이터의 전체 단어 빈도수 총 합\n",
    "rare_freq = 0 # 등장 빈도수가 threshold보다 작은 단어의 등장 빈도수의 총 합\n",
    "\n",
    "# 단어와 빈도수의 쌍(pair)을 key와 value로 받는다.\n",
    "for key, value in tokenizer.word_counts.items():\n",
    "    total_freq = total_freq + value\n",
    "\n",
    "    # 단어의 등장 빈도수가 threshold보다 작으면\n",
    "    if(value < threshold):\n",
    "        rare_cnt = rare_cnt + 1\n",
    "        rare_freq = rare_freq + value\n",
    "\n",
    "print('단어 집합(vocabulary)의 크기 :',total_cnt)\n",
    "print('등장 빈도가 %s번 이하인 희귀 단어의 수: %s'%(threshold - 1, rare_cnt))\n",
    "print(\"단어 집합에서 희귀 단어의 비율:\", (rare_cnt / total_cnt)*100)\n",
    "print(\"전체 등장 빈도에서 희귀 단어 등장 빈도 비율:\", (rare_freq / total_freq)*100)"
   ]
  },
  {
   "cell_type": "code",
   "execution_count": 24,
   "metadata": {
    "colab": {
     "base_uri": "https://localhost:8080/"
    },
    "id": "zuf4Re6fuU_8",
    "outputId": "098dacb9-15be-4382-887b-2e71a26a9571"
   },
   "outputs": [
    {
     "name": "stdout",
     "output_type": "stream",
     "text": [
      "단어 집합의 크기 : 24426\n"
     ]
    }
   ],
   "source": [
    "# 전체 단어 개수 중 빈도수 2이하인 단어 개수는 제거.\n",
    "# 0번 패딩 토큰과 1번 OOV 토큰을 고려하여 +2\n",
    "vocab_size = total_cnt - rare_cnt + 2\n",
    "print('단어 집합의 크기 :',vocab_size)"
   ]
  },
  {
   "cell_type": "code",
   "execution_count": 25,
   "metadata": {
    "id": "YKtIMtzQu_mG"
   },
   "outputs": [],
   "source": [
    "tokenizer = Tokenizer(vocab_size, oov_token = 'OOV') \n",
    "tokenizer.fit_on_texts(X_train)\n",
    "X_train = tokenizer.texts_to_sequences(X_train)\n",
    "X_test = tokenizer.texts_to_sequences(X_test)"
   ]
  },
  {
   "cell_type": "code",
   "execution_count": 26,
   "metadata": {
    "colab": {
     "base_uri": "https://localhost:8080/"
    },
    "id": "wqHIMKxKvCHF",
    "outputId": "43ee4a0b-89bd-46d6-8d95-89d009c9ed7a"
   },
   "outputs": [
    {
     "name": "stdout",
     "output_type": "stream",
     "text": [
      "[[170, 103, 77, 2803, 166, 4, 5], [151, 4, 359, 181], [6684, 4, 359, 744, 70, 44, 208, 20, 104, 131, 133, 52, 58, 25, 104]]\n"
     ]
    }
   ],
   "source": [
    "print(X_train[:3])"
   ]
  },
  {
   "cell_type": "code",
   "execution_count": 27,
   "metadata": {
    "colab": {
     "base_uri": "https://localhost:8080/"
    },
    "id": "8hWc3dJZvEOb",
    "outputId": "f6f94676-a857-4e72-90f9-c69876147656"
   },
   "outputs": [
    {
     "name": "stdout",
     "output_type": "stream",
     "text": [
      "[[1, 196, 646, 251, 2, 340, 196, 1, 355, 3247, 1, 1900], [191, 1, 100, 506, 357, 66, 215, 86, 946, 3, 791, 57, 9, 13, 223, 4732, 18672, 1, 1, 3755, 679, 151, 4, 760], [61, 12, 5, 46, 22, 1304, 1, 84, 4, 72, 36]]\n"
     ]
    }
   ],
   "source": [
    "print(X_test[:3])"
   ]
  },
  {
   "cell_type": "code",
   "execution_count": 28,
   "metadata": {
    "colab": {
     "base_uri": "https://localhost:8080/",
     "height": 317
    },
    "id": "g7wq1cj7vHGa",
    "outputId": "2df72be4-a2cb-41e5-82b3-ef9a51268444"
   },
   "outputs": [
    {
     "name": "stdout",
     "output_type": "stream",
     "text": [
      "리뷰의 최대 길이 : 103\n",
      "리뷰의 평균 길이 : 21.761104567857707\n"
     ]
    },
    {
     "data": {
      "image/png": "[encoded data removed]",
      "text/plain": [
       "<Figure size 432x288 with 1 Axes>"
      ]
     },
     "metadata": {
      "needs_background": "light",
      "tags": []
     },
     "output_type": "display_data"
    }
   ],
   "source": [
    "print('리뷰의 최대 길이 :',max(len(l) for l in X_train))\n",
    "print('리뷰의 평균 길이 :',sum(map(len, X_train))/len(X_train))\n",
    "plt.hist([len(s) for s in X_train], bins=50)\n",
    "plt.xlabel('length of samples')\n",
    "plt.ylabel('number of samples')\n",
    "plt.show()"
   ]
  },
  {
   "cell_type": "code",
   "execution_count": 29,
   "metadata": {
    "id": "Gne1WElFvJnd"
   },
   "outputs": [],
   "source": [
    "def below_threshold_len(max_len, nested_list):\n",
    "  cnt = 0\n",
    "  for s in nested_list:\n",
    "    if(len(s) <= max_len):\n",
    "        cnt = cnt + 1\n",
    "  print('전체 샘플 중 길이가 %s 이하인 샘플의 비율: %s'%(max_len, (cnt / len(nested_list))*100))"
   ]
  },
  {
   "cell_type": "code",
   "execution_count": 30,
   "metadata": {
    "colab": {
     "base_uri": "https://localhost:8080/"
    },
    "id": "67ZSulCNvMqx",
    "outputId": "1110d7b4-c302-4ed7-9b19-0c49ea970c1d"
   },
   "outputs": [
    {
     "name": "stdout",
     "output_type": "stream",
     "text": [
      "전체 샘플 중 길이가 80 이하인 샘플의 비율: 99.78319742537566\n"
     ]
    }
   ],
   "source": [
    "max_len = 80\n",
    "below_threshold_len(max_len, X_train)"
   ]
  },
  {
   "cell_type": "code",
   "execution_count": 31,
   "metadata": {
    "id": "Q9H5Zx6avNIO"
   },
   "outputs": [],
   "source": [
    "X_train = pad_sequences(X_train, maxlen = max_len)\n",
    "X_test = pad_sequences(X_test, maxlen = max_len)"
   ]
  },
  {
   "cell_type": "code",
   "execution_count": 32,
   "metadata": {
    "id": "_vFZ6GalvPEt"
   },
   "outputs": [],
   "source": [
    "from tensorflow.keras.layers import Embedding, Dense, GRU\n",
    "from tensorflow.keras.models import Sequential\n",
    "from tensorflow.keras.models import load_model\n",
    "from tensorflow.keras.callbacks import EarlyStopping, ModelCheckpoint"
   ]
  },
  {
   "cell_type": "code",
   "execution_count": 33,
   "metadata": {
    "id": "3XBdQ7euvQ4s"
   },
   "outputs": [],
   "source": [
    "model = Sequential()\n",
    "model.add(Embedding(vocab_size, 100))\n",
    "model.add(GRU(128))\n",
    "model.add(Dense(1, activation='sigmoid'))"
   ]
  },
  {
   "cell_type": "code",
   "execution_count": 34,
   "metadata": {
    "id": "i3n16pPjvSJR"
   },
   "outputs": [],
   "source": [
    "es = EarlyStopping(monitor='val_loss', mode='min', verbose=1, patience=4)\n",
    "mc = ModelCheckpoint('best_model.h5', monitor='val_acc', mode='max', verbose=1, save_best_only=True)"
   ]
  },
  {
   "cell_type": "code",
   "execution_count": 35,
   "metadata": {
    "colab": {
     "base_uri": "https://localhost:8080/"
    },
    "id": "fgf7sk8svTkw",
    "outputId": "20a7d32b-7d89-47c8-8e68-5998cd0cb5ca"
   },
   "outputs": [
    {
     "name": "stdout",
     "output_type": "stream",
     "text": [
      "Epoch 1/15\n",
      "1778/1778 [==============================] - 269s 150ms/step - loss: 0.3418 - acc: 0.8491 - val_loss: 0.3032 - val_acc: 0.8695\n",
      "\n",
      "Epoch 00001: val_acc improved from -inf to 0.86951, saving model to best_model.h5\n",
      "Epoch 2/15\n",
      "1778/1778 [==============================] - 267s 150ms/step - loss: 0.2833 - acc: 0.8783 - val_loss: 0.2885 - val_acc: 0.8777\n",
      "\n",
      "Epoch 00002: val_acc improved from 0.86951 to 0.87772, saving model to best_model.h5\n",
      "Epoch 3/15\n",
      "1778/1778 [==============================] - 270s 152ms/step - loss: 0.2613 - acc: 0.8903 - val_loss: 0.2796 - val_acc: 0.8812\n",
      "\n",
      "Epoch 00003: val_acc improved from 0.87772 to 0.88125, saving model to best_model.h5\n",
      "Epoch 4/15\n",
      "1778/1778 [==============================] - 267s 150ms/step - loss: 0.2448 - acc: 0.8978 - val_loss: 0.2835 - val_acc: 0.8790\n",
      "\n",
      "Epoch 00004: val_acc did not improve from 0.88125\n",
      "Epoch 5/15\n",
      "1778/1778 [==============================] - 267s 150ms/step - loss: 0.2300 - acc: 0.9057 - val_loss: 0.2833 - val_acc: 0.8782\n",
      "\n",
      "Epoch 00005: val_acc did not improve from 0.88125\n",
      "Epoch 6/15\n",
      "1778/1778 [==============================] - 264s 149ms/step - loss: 0.2167 - acc: 0.9121 - val_loss: 0.3023 - val_acc: 0.8760\n",
      "\n",
      "Epoch 00006: val_acc did not improve from 0.88125\n",
      "Epoch 7/15\n",
      "1778/1778 [==============================] - 264s 149ms/step - loss: 0.2023 - acc: 0.9187 - val_loss: 0.2878 - val_acc: 0.8767\n",
      "\n",
      "Epoch 00007: val_acc did not improve from 0.88125\n",
      "Epoch 00007: early stopping\n"
     ]
    }
   ],
   "source": [
    "model.compile(optimizer='rmsprop', loss='binary_crossentropy', metrics=['acc'])\n",
    "history = model.fit(X_train, y_train, epochs=15, callbacks=[es, mc], batch_size=60, validation_split=0.2)"
   ]
  },
  {
   "cell_type": "markdown",
   "metadata": {
    "id": "5-deKWh6vXjS"
   },
   "source": [
    "### 리뷰 예측"
   ]
  },
  {
   "cell_type": "code",
   "execution_count": 38,
   "metadata": {
    "colab": {
     "base_uri": "https://localhost:8080/"
    },
    "id": "YaBkiHGd6MHI",
    "outputId": "a306e2a6-4891-499e-c10d-0b5eede01d5c"
   },
   "outputs": [
    {
     "name": "stdout",
     "output_type": "stream",
     "text": [
      "1389/1389 [==============================] - 32s 23ms/step - loss: 0.2843 - acc: 0.8801\n",
      "\n",
      " 테스트 정확도: 0.8801\n"
     ]
    }
   ],
   "source": [
    "loaded_model = load_model('best_model.h5')\n",
    "print(\"\\n 테스트 정확도: %.4f\" % (loaded_model.evaluate(X_test, y_test)[1]))"
   ]
  },
  {
   "cell_type": "code",
   "execution_count": 39,
   "metadata": {
    "id": "j5oAJ_bavUyH"
   },
   "outputs": [],
   "source": [
    "def sentiment_predict(new_sentence):\n",
    "  new_sentence = mecab.morphs(new_sentence) # 토큰화\n",
    "  new_sentence = [word for word in new_sentence if not word in stopwords] # 불용어 제거\n",
    "  encoded = tokenizer.texts_to_sequences([new_sentence]) # 정수 인코딩\n",
    "  pad_new = pad_sequences(encoded, maxlen = max_len) # 패딩\n",
    "  score = float(loaded_model.predict(pad_new)) # 예측\n",
    "  if(score > 0.5):\n",
    "    print(\"{:.2f}% 확률로 긍정 리뷰입니다.\".format(score * 100))\n",
    "  else:\n",
    "    print(\"{:.2f}% 확률로 부정 리뷰입니다.\".format((1 - score) * 100))"
   ]
  },
  {
   "cell_type": "code",
   "execution_count": 41,
   "metadata": {
    "colab": {
     "base_uri": "https://localhost:8080/"
    },
    "id": "EYFER-Yb54B5",
    "outputId": "6f579f5d-bc8d-4e9b-8ccb-fd4591f46283"
   },
   "outputs": [
    {
     "name": "stdout",
     "output_type": "stream",
     "text": [
      "99.71% 확률로 부정 리뷰입니다.\n"
     ]
    }
   ],
   "source": [
    "sentiment_predict('차슈가 너무 짜서 다 먹을 수가 없었음 남김 맛이 없어 남겼지만 보기에 양도 적고  오랜만에 가서 그런가 변한듯 마제소바는 진짜 매우 실망스러움 너무 짜서 먹을수가 없음.... 비주얼도 영 별로임   요즘같은 때에 이렇게 협소한 공간에서 먹을 이유가 없는 곳 제방문 의사 없음')"
   ]
  },
  {
   "cell_type": "code",
   "execution_count": 69,
   "metadata": {
    "colab": {
     "base_uri": "https://localhost:8080/"
    },
    "id": "kswLdPdE58i7",
    "outputId": "2a2052ff-590c-4173-acc5-f4934f96e984"
   },
   "outputs": [
    {
     "data": {
      "text/plain": [
       "10"
      ]
     },
     "execution_count": 69,
     "metadata": {
      "tags": []
     },
     "output_type": "execute_result"
    }
   ],
   "source": [
    "# 별점 5점\n",
    "score_5 = ['제 기준 라멘 최고 맛집. 이곳에서 라멘을 먹어보고 반해서 이리저리 라멘집을 전전해봤지만.. 이 곳만큼 제 입맛에 맛는 곳은 없었네요',\n",
    "           '맛있어요 !  근데 그 매장이 좀 좁아서 불편하게 먹어야해요', '라멘도 라멘이지만 교자를 꼭 먹어야합니다.', '정자동 대표라멘집',\n",
    "           '코이라멘은 어딜가든 똑같은 맛이에요 최고', '헐... 진짜 홍콩식 딤섬을 먹을 수 있다니 놀랐습니다. 홍콩서 10년 살다 온 사람으로서 맛도 인정합니다.진짜 하가우에 슈마이, 초이가우, 함수이콕 등등...모두 홍콩 딤섬 맞네요. 딱 하나, 홍콩 딤섬 식당은 뜨거운 차를 가져다 줍니다. 저는 한국사람이라 차가운 냉차가 좋지만 홍콩사람들은 너무 어색해 하네요. 뜨거운 차, 차가운 차 선택 가능하게 해주시면 좋을 것 같습니다.',\n",
    "            '깔끔하고 맛있는 곳. 사리추가하면 양도 적당하고 재료 하나 하나 다 맛있게 먹었던곳','맛있어요 ~!! 늦게가면 소진된 메뉴가 많아요 !! 겨울에도 여름에도 맛있게 먹을 수 있는 모밀~~',\n",
    "            '둘이 가서 탕수육도 먹고 싶어서 짬뽕이랑 탕수육 시켰더니 짬뽕 나눠서 주시더라구요! 센스 굳굳ㅎㅎ 탕수육 진짜진짜 맛있어요!! 튀김옷 얇고 돼지고기가 완전 꽉 차 있어서 식감도 엄청 좋습니다. 탕수육 강추!! 먹다가 찍어서 탕수육 양이 좀 적습니당',\n",
    "           '코스요리로 먹었는데 대만족'\n",
    "           ]\n",
    "len(score_5)"
   ]
  },
  {
   "cell_type": "code",
   "execution_count": 70,
   "metadata": {
    "colab": {
     "base_uri": "https://localhost:8080/"
    },
    "id": "Fc04og5LLila",
    "outputId": "411364d0-5ad6-4a7e-d58b-bd20350dbe22"
   },
   "outputs": [
    {
     "data": {
      "text/plain": [
       "10"
      ]
     },
     "execution_count": 70,
     "metadata": {
      "tags": []
     },
     "output_type": "execute_result"
    }
   ],
   "source": [
    "# 별점 4점\n",
    "score_4 = ['매우 협소하나 맛은 나쁘지않음', '뭐 동네 맛집.','정자 근처의 라멘집 중에서는 제일 괜찮은 것 같음.  초창기 계란이 달다고 피드백 했더니 바로 달걀이 적절하게 맛이 변해서 아주 좋았음. ',\n",
    "           '차슈가 오향족발처럼 맛났어요. 한국인 맥시멀리스트에게 적합', '인생 최고의 딤섬 아직 여기 새우딤섬만한 딤섬 못 먹어봄', '적당히 맛있는 딤섬',\n",
    "           '하가우. 시우마이. 샤오롱바오. 함소이꼬. 첸쩨우. 이빈란미엔. 흡 딤섬류는 다 넘나 맛있었는데 면은 별로였음, 남겼...ㅎ 전반적으로 간은 좀 짠편',\n",
    "           '유린기는 너무너무너무 맛있어요 미친맛입니다 짬뽕은 재료상태는 좋았지만 자극적인 맛을 선호하는 저는 좀 싱거웠어요! 순하고 건강한 맛입니다 그치만 유린기는 최고였습니다',\n",
    "           '육즙가득탕슉이랑 어향동고에 볶음밥 최고 맛있음!! 직원분들 엄청 친절하심~ 7시반에 가서 웨이팅 30-40분정도 하고 들어감!',\n",
    "           '술먹고 난 뒤 혼자 해장하러가기 좋은곳 국밥맛집ㅋㅋ'\n",
    "           ]\n",
    "len(score_4)"
   ]
  },
  {
   "cell_type": "code",
   "execution_count": 71,
   "metadata": {
    "colab": {
     "base_uri": "https://localhost:8080/"
    },
    "id": "3FpugLBdLkSy",
    "outputId": "cedaaff2-08e5-463d-ab92-3a91f906ee30"
   },
   "outputs": [
    {
     "data": {
      "text/plain": [
       "10"
      ]
     },
     "execution_count": 71,
     "metadata": {
      "tags": []
     },
     "output_type": "execute_result"
    }
   ],
   "source": [
    "# 별점 3점\n",
    "score_3 = ['서현 판교등등 다른 체인점에서 너무 실망을 하고 본점은 다르겠지 하면서 정말 오랜만에 갔는데 그냥 맛이 달라졌네요…..국물에 물탄듯한 밍밍한맛  옛날에 첨 먹었던 그 깊은맛이 그립다ㅠ',\n",
    "           '어느정도 진하고 괜찮긴한데 숙주랑 라멘이랑 안어울리고 그냥 그렇네요. 특출나게 맛있거나 하진 않네요. ',\n",
    "           '변했으 바지버클 풀어가면서 탑처럼쌓인 지로라멘 완식하고가던 그런 추억이 무색하게도 챠슈도 퍽퍽해졌고 양도 애매해졌고 아부라도 .... 초심의 라멘으로 돌아와주세요',\n",
    "           '초창기부터 갔었던 내 최애맛집 이었는데 지금은.. 공장화되면서 슬퍼짐ㅠㅠ','라멘맛 그러저럭 괜찮은데 가게가 너무 좁음', '옛날엔 진짜진짜 감동받을정도로 맛있었는데 지금은 그냥 괜찮은 라멘집정도. 혼라멘하기 좋음 시간대만 잘 고른다면',\n",
    "           '전반적으로 새우가 많이 들었어요~ 한국에서 주로 안파는 메뉴 많고 독특하긴 한데 느끼해요 ㅠㅠ ', '웨이팅 없을 때 운 좋게 들어갔음 냉소바는 ㄱㅊ았는데 으레 그렇듯.. 마끼가 너무 돈아까웠다','감동적인 맛은 아닙니다 고급진 식재료인 성게알이 올라간다는 점 고등어 구이가 겉이 짭짤하고 속은 담백하다는 점 말고 국물이나 면이 특별히 맛있는지는 잘 모르겠습니다 온소바는 단맛이 덜하고 짰습니다 냉소바는 달달하고 아는 맛입니다 마끼는 김이 질기고 그닥 추천할정돈 아닙니다',\n",
    "           '일반 중식당보다 조금 더 비싸고 조금 더 퀄리티 좋은 중식당. 가격대비 맛이 떨어지는 건 아니지만 월등히 좋은 것도 아님. 미리 예약만한다면 회식장소로는 아주 좋습니다.'\n",
    "           ]\n",
    "len(score_3)"
   ]
  },
  {
   "cell_type": "code",
   "execution_count": 83,
   "metadata": {
    "colab": {
     "base_uri": "https://localhost:8080/"
    },
    "id": "urFyeqN6Lk_F",
    "outputId": "175134ac-d03d-4a59-95d4-90dca8211635"
   },
   "outputs": [
    {
     "data": {
      "text/plain": [
       "10"
      ]
     },
     "execution_count": 83,
     "metadata": {
      "tags": []
     },
     "output_type": "execute_result"
    }
   ],
   "source": [
    "# 별점 2점\n",
    "score_2 = ['차슈가 너무 짜서 다 먹을 수가 없었음 남김 맛이 없어 남겼지만 보기에 양도 적고  오랜만에 가서 그런가 변한듯 마제소바는 진짜 매우 실망스러움 너무 짜서 먹을수가 없음.... 비주얼도 영 별로임   요즘같은 때에 이렇게 협소한 공간에서 먹을 이유가 없는 곳 제방문 의사 없음',\n",
    "           '가맹점이 우후죽순으로 생기더니 ㅠ 가격도 맛도 변해간다.. 어느날 가격이 왕창 뛰더니(물가 상승으로 이해한다만….) 무엇보다 고기는 퍽퍽 육수는 밍밍 면은 왜이렇게 얇고 건조하죠ㅠ  돌아와요 코이.. 분당 맛집 중 하나였눈데……. p.s 고기는 사진만 봐도 건조해보임',\n",
    "           '대만 홍콩에서 딤섬 다 먹어봤는데 이곳 딤섬은 분발해야할듯요. 임대료가 너무 비싸서 그런가요?', '오랜만에 찾아간 미미면가맛은있었습니다. 그러나 직원분(특히 여자분)친절하지않은기분이랄까?? 썩 기분좋은 식사는 아니네요!주문할때 말귀를 잘 못알아 들으시고 제가 메뉴품절됐는지 물어봤는데 가지튀김이요 이러면서 딴소리하시고...음..?? 혼자서 저의 주문을 창조하고 계셔서 뭔가싶었어여 그리고 소스 달라고 부탁해도 대꾸도 안하시고해서 제 말이 무시된건가 싶었어서 어리둥절 기분언짢 ㅋㅋ가격에비해 서비스가 너무 구려요 여러모로 실망했습니다',\n",
    "           '솔직히 왜 유명하지, 뭐가 특별한지 모르겠는 느낌.. 냉소바 사실 일본 편의점가면 엄청 맛있거든요 만드는것도 어렵지않구요. 음식이 대체적으로 비싸고 직원들이 종종 불친절하고 웨이팅도 너무 김 ㅜㅜ ',\n",
    "           '흠...? 인스타에서 너무 유명하길래 가봤는데 기대한만큼 맛있었는진 잘 모르겠어요! 우니도 조금 쿰쿰한 향이있었고 사람이 많다보니까 너무너무 바쁘셔서 응대부분에 조금 취약한 음식점인것같아요. 가격도 양에비해 비싸단 생각이 들었어요. 지인들한테 모밀/소바 미슐랭 맛집으로 저는 미진을 추천드릴것같네요.',\n",
    "           '가격 대비 음식맛은 괜찮은 편이다. 특히 탕수육이 맛있다. 하지만 대체로 간이 세다(짠 편이다). 또한 매니저가 매우 불친절하고 가격이 비싼 요리를 주문하도록 유도한다.',\n",
    "           '일단 너무 시끄럽습니다. 앞사람하고 이야기 불가능. 업소 책임은 아니겠지요. 게살볶음. 탕수육. 짬뽕 괜찮으나 시끄러운 분위기탓에 다시 방문할지는 의문. ',\n",
    "           '최악임 차라리 배달시킬걸.....', '제 기준 가격, 맛 평가했을때 선호할 정도 안됨. 육회는 그냥 입 심심해서 주워먹었음'\n",
    "           ]\n",
    "len(score_2)"
   ]
  },
  {
   "cell_type": "code",
   "execution_count": 73,
   "metadata": {
    "colab": {
     "base_uri": "https://localhost:8080/"
    },
    "id": "n8S7AquaLl7O",
    "outputId": "13380e99-5f9c-4faa-bfc0-5ef5bd77adf5"
   },
   "outputs": [
    {
     "data": {
      "text/plain": [
       "10"
      ]
     },
     "execution_count": 73,
     "metadata": {
      "tags": []
     },
     "output_type": "execute_result"
    }
   ],
   "source": [
    "# 별점 1점\n",
    "score_1 = ['2018 여름 미국 유학 가기전까지 맛있었는데, 체인점 하고 나서부터 맛이 없어졌다 길래 먹어봄. 진짜 무맛임ㅋㅋㅋ 매운거 먹었는데 그냥 곰탕에 고춧가루 푼 수준. 이제 다시는 안갈듯. ',\n",
    "           '정말 좋아하는 라멘 덮밥집이었는데 이제 안가요 맛 양 둘다 너무 변했어요 맛집이 하나 사라져서 너무 마음이 아프네요',\n",
    "           '먹을때는 맛있으나 식후에 부담이 조금 있음 매장이 좁아 식사 시간에 대기가 길다 식후에 양치중 이사이에 껴있던 뭔가가 나왔는데, 아마 식재료를 담던 포장조각이었던거 같다. 이거뿐이라면 다행이지만 아니라면 난 이미 음식이 아닌걸 먹은거겠지.  처음 먹었을때는 근처 마카나이보다는 나았다고 생각했는데, 찬찬히 생각해보니 그냥 가까운데서 빨리 먹어야겠다. ',\n",
    "           '평일 저녁타임 직원분 실례지만 땀냄새가 너무 심합니다... 가게 들어서자마자 나길래 바닥에 걸레질 하신 냄새인줄 알았는데, 서빙하러 지나다니실 때마다 냄새 나는거 보고 충격먹었습니다.. 웬만하면 참는데 입맛이 떨어질 정도예요.. 환기라도 해주셨으면 좋겠습니다.',\n",
    "           '가게 정말 좁은데 직원들이 쉴새없이 수다떨어요. 웃고 떠들고 난리나요. 손님들 말 소리보다 커요. 지들 노는데 내가 낀 줄 알았어요. 불과 이번 해 3월 후기에도 같은 의견이 있네요? 전 그보다 훨씬 전에 갔는데요. 맛은 있지만 분당만 해도 참 맛있는 라멘집 많죠? 변함이 없는 걸 한결같다 해야할지 개선 의지가 없다고 해야할지. ^^ ㅋㅋ',\n",
    "           '맛은 그냥저냥, 가격을 생각하면 좀 아깝다. 홀 알바가 5명인데 일하는 건 한 두명이고 나머지는 놀고있다. 서빙하다 국물을 지갑에 흘렸는데 말도 없이 그냥 간다. 차라리 인건비를 줄여서 가격을 내리는 건 어떨까.',\n",
    "           '불친절한 직원분들은 그렇다치고 위생은 어떨지요. 한번가보고 실망했습니다. 이런 밥풀?음식물 떨어져있는테이블에서 밥먹으려니 ㅜㅜ 조금불편했습니다.',\n",
    "           '제 입맛에는 특별히 맛있지 않았어요. 근데 오픈시간 10분전에도 문 잠그고 있는데 문앞에는 재료 소진되었다는 안내글이 붙어있어 오해하기 딱 좋더라구요?',\n",
    "           '최악의 서비스 일하기싫어하는직원들', '일단 식기가 더럽고 컵에서 물고기 냄새나요 ( 첫번째 사진 보시면 짜장면 그릇에 짬뽕 국물 기름 묻어있어요)  짜장면 싱겁고 짬뽕은 그냥그냥  탕수육 간은 괜찮지만 소스가 별로에요'\n",
    "           ]\n",
    "len(score_1)"
   ]
  },
  {
   "cell_type": "code",
   "execution_count": 77,
   "metadata": {
    "id": "iw2At423OcOw"
   },
   "outputs": [],
   "source": [
    "def predict_by_score(scores):\n",
    "    for score in scores:\n",
    "        sentiment_predict(score)"
   ]
  },
  {
   "cell_type": "code",
   "execution_count": 78,
   "metadata": {
    "colab": {
     "base_uri": "https://localhost:8080/"
    },
    "id": "M0S1MKfURWaY",
    "outputId": "5622f486-28cd-49b3-c734-10b7570453a4"
   },
   "outputs": [
    {
     "name": "stdout",
     "output_type": "stream",
     "text": [
      "###5점 리뷰 감성분석###\n",
      "93.81% 확률로 긍정 리뷰입니다.\n",
      "91.96% 확률로 긍정 리뷰입니다.\n",
      "92.41% 확률로 긍정 리뷰입니다.\n",
      "59.66% 확률로 긍정 리뷰입니다.\n",
      "95.12% 확률로 긍정 리뷰입니다.\n",
      "95.53% 확률로 긍정 리뷰입니다.\n",
      "97.92% 확률로 긍정 리뷰입니다.\n",
      "96.90% 확률로 긍정 리뷰입니다.\n",
      "99.63% 확률로 긍정 리뷰입니다.\n",
      "97.70% 확률로 긍정 리뷰입니다.\n"
     ]
    }
   ],
   "source": [
    "print('###5점 리뷰 감성분석###')\n",
    "predict_by_score(score_5)"
   ]
  },
  {
   "cell_type": "code",
   "execution_count": 79,
   "metadata": {
    "colab": {
     "base_uri": "https://localhost:8080/"
    },
    "id": "LmOwm6kVRyLO",
    "outputId": "b98ad188-0813-4c25-ba4c-2cd2aa3c9f86"
   },
   "outputs": [
    {
     "name": "stdout",
     "output_type": "stream",
     "text": [
      "###4점 리뷰 감성분석###\n",
      "80.13% 확률로 부정 리뷰입니다.\n",
      "84.63% 확률로 긍정 리뷰입니다.\n",
      "72.49% 확률로 긍정 리뷰입니다.\n",
      "62.51% 확률로 긍정 리뷰입니다.\n",
      "98.81% 확률로 긍정 리뷰입니다.\n",
      "88.08% 확률로 긍정 리뷰입니다.\n",
      "79.36% 확률로 부정 리뷰입니다.\n",
      "99.54% 확률로 긍정 리뷰입니다.\n",
      "99.21% 확률로 긍정 리뷰입니다.\n",
      "98.22% 확률로 긍정 리뷰입니다.\n"
     ]
    }
   ],
   "source": [
    "print('###4점 리뷰 감성분석###')\n",
    "predict_by_score(score_4)"
   ]
  },
  {
   "cell_type": "code",
   "execution_count": 80,
   "metadata": {
    "colab": {
     "base_uri": "https://localhost:8080/"
    },
    "id": "W88pbkoKR025",
    "outputId": "9ce296df-4881-476a-e6ec-4f9b5d5f4b41"
   },
   "outputs": [
    {
     "name": "stdout",
     "output_type": "stream",
     "text": [
      "###3점 리뷰 감성분석###\n",
      "99.53% 확률로 부정 리뷰입니다.\n",
      "89.97% 확률로 부정 리뷰입니다.\n",
      "96.77% 확률로 부정 리뷰입니다.\n",
      "95.68% 확률로 긍정 리뷰입니다.\n",
      "81.12% 확률로 부정 리뷰입니다.\n",
      "89.78% 확률로 긍정 리뷰입니다.\n",
      "83.47% 확률로 부정 리뷰입니다.\n",
      "92.31% 확률로 부정 리뷰입니다.\n",
      "90.82% 확률로 부정 리뷰입니다.\n",
      "57.15% 확률로 부정 리뷰입니다.\n"
     ]
    }
   ],
   "source": [
    "print('###3점 리뷰 감성분석###')\n",
    "predict_by_score(score_3)"
   ]
  },
  {
   "cell_type": "code",
   "execution_count": 84,
   "metadata": {
    "colab": {
     "base_uri": "https://localhost:8080/"
    },
    "id": "L8vjdqsOR20t",
    "outputId": "0be3f257-9fe9-4d82-c99a-c5c144936811"
   },
   "outputs": [
    {
     "name": "stdout",
     "output_type": "stream",
     "text": [
      "###2점 리뷰 감성분석###\n",
      "99.71% 확률로 부정 리뷰입니다.\n",
      "98.94% 확률로 부정 리뷰입니다.\n",
      "69.74% 확률로 긍정 리뷰입니다.\n",
      "99.82% 확률로 부정 리뷰입니다.\n",
      "98.72% 확률로 부정 리뷰입니다.\n",
      "78.53% 확률로 부정 리뷰입니다.\n",
      "96.45% 확률로 부정 리뷰입니다.\n",
      "99.35% 확률로 부정 리뷰입니다.\n",
      "99.52% 확률로 부정 리뷰입니다.\n",
      "88.74% 확률로 부정 리뷰입니다.\n"
     ]
    }
   ],
   "source": [
    "print('###2점 리뷰 감성분석###')\n",
    "predict_by_score(score_2)"
   ]
  },
  {
   "cell_type": "code",
   "execution_count": 85,
   "metadata": {
    "colab": {
     "base_uri": "https://localhost:8080/"
    },
    "id": "C2i7nUbGR4yn",
    "outputId": "49b93175-72e6-43b2-de53-6668f3f9fb35"
   },
   "outputs": [
    {
     "name": "stdout",
     "output_type": "stream",
     "text": [
      "###1점 리뷰 감성분석###\n",
      "99.71% 확률로 부정 리뷰입니다.\n",
      "98.94% 확률로 부정 리뷰입니다.\n",
      "69.74% 확률로 긍정 리뷰입니다.\n",
      "99.82% 확률로 부정 리뷰입니다.\n",
      "98.72% 확률로 부정 리뷰입니다.\n",
      "78.53% 확률로 부정 리뷰입니다.\n",
      "96.45% 확률로 부정 리뷰입니다.\n",
      "99.35% 확률로 부정 리뷰입니다.\n",
      "99.52% 확률로 부정 리뷰입니다.\n",
      "88.74% 확률로 부정 리뷰입니다.\n"
     ]
    }
   ],
   "source": [
    "print('###1점 리뷰 감성분석###')\n",
    "predict_by_score(score_2)"
   ]
  },
  {
   "cell_type": "code",
   "execution_count": null,
   "metadata": {
    "id": "LNC_q_0ISKt6"
   },
   "outputs": [],
   "source": []
  }
 ],
 "metadata": {
  "colab": {
   "name": "predict_review.ipynb",
   "provenance": []
  },
  "kernelspec": {
   "display_name": "Python 3",
   "language": "python",
   "name": "python3"
  },
  "language_info": {
   "codemirror_mode": {
    "name": "ipython",
    "version": 3
   },
   "file_extension": ".py",
   "mimetype": "text/x-python",
   "name": "python",
   "nbconvert_exporter": "python",
   "pygments_lexer": "ipython3",
   "version": "3.7.6"
  }
 },
 "nbformat": 4,
 "nbformat_minor": 4
}
