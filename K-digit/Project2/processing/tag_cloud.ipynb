{
 "cells": [
  {
   "cell_type": "code",
   "execution_count": 61,
   "id": "ae6d80e0-f1ee-43b7-9d6d-1530a8e12e6a",
   "metadata": {},
   "outputs": [],
   "source": [
    "# !pip install konlpy\n",
    "# !pip install wheel\n",
    "# !pip install JPype1-1.1.2-cp37-cp37m-win_amd64.whl"
   ]
  },
  {
   "cell_type": "code",
   "execution_count": 1,
   "id": "f9be133d-0299-4ab0-8079-4dc099d881d1",
   "metadata": {},
   "outputs": [],
   "source": [
    "from wordcloud import WordCloud"
   ]
  },
  {
   "cell_type": "code",
   "execution_count": 2,
   "id": "a356e70c-14ca-4f28-b201-053b2bdf0ad9",
   "metadata": {},
   "outputs": [],
   "source": [
    "import pandas as pd\n",
    "import numpy as np\n",
    "import konlpy\n",
    "import re\n",
    "\n",
    "import seaborn as sns\n",
    "import matplotlib.pyplot as plt\n",
    "%matplotlib inline"
   ]
  },
  {
   "cell_type": "code",
   "execution_count": 3,
   "id": "a49bcee5-927d-4854-a1f8-ab638418da4b",
   "metadata": {},
   "outputs": [],
   "source": [
    "from sklearn.feature_extraction.text import CountVectorizer   # tf-idf 방식을 사용하려면 대신 TfidfVectorizer를 import\n",
    "from sklearn.model_selection import train_test_split\n",
    "from sklearn.linear_model import LogisticRegression\n",
    "from sklearn.metrics import accuracy_score"
   ]
  },
  {
   "cell_type": "code",
   "execution_count": 4,
   "id": "33f8536f-4c26-4dc7-8ec9-03ce4751d559",
   "metadata": {},
   "outputs": [],
   "source": [
    "from konlpy.tag import Okt"
   ]
  },
  {
   "cell_type": "code",
   "execution_count": 5,
   "id": "795b5fd1-91ba-474f-a69c-f92bc0e8a517",
   "metadata": {},
   "outputs": [
    {
     "name": "stdout",
     "output_type": "stream",
     "text": [
      "3.7.6 (default, Jan  8 2020, 20:23:39) [MSC v.1916 64 bit (AMD64)]\n"
     ]
    }
   ],
   "source": [
    "import sys\n",
    "print(sys.version)"
   ]
  },
  {
   "cell_type": "code",
   "execution_count": 6,
   "id": "74e06182-9400-45d4-9adc-68c36c96bc90",
   "metadata": {},
   "outputs": [
    {
     "data": {
      "text/plain": [
       "'0.5.2'"
      ]
     },
     "execution_count": 6,
     "metadata": {},
     "output_type": "execute_result"
    }
   ],
   "source": [
    "konlpy.__version__"
   ]
  },
  {
   "cell_type": "code",
   "execution_count": 7,
   "id": "d36f240a-e6f4-40d1-9295-6560a6b36211",
   "metadata": {},
   "outputs": [],
   "source": [
    "okt = Okt()"
   ]
  },
  {
   "cell_type": "code",
   "execution_count": 8,
   "id": "66d733bf-3238-4774-a256-7cf091401828",
   "metadata": {},
   "outputs": [
    {
     "data": {
      "text/html": [
       "<div>\n",
       "<style scoped>\n",
       "    .dataframe tbody tr th:only-of-type {\n",
       "        vertical-align: middle;\n",
       "    }\n",
       "\n",
       "    .dataframe tbody tr th {\n",
       "        vertical-align: top;\n",
       "    }\n",
       "\n",
       "    .dataframe thead th {\n",
       "        text-align: right;\n",
       "    }\n",
       "</style>\n",
       "<table border=\"1\" class=\"dataframe\">\n",
       "  <thead>\n",
       "    <tr style=\"text-align: right;\">\n",
       "      <th></th>\n",
       "      <th>review_code</th>\n",
       "      <th>place_code</th>\n",
       "      <th>ItemID</th>\n",
       "      <th>UserID</th>\n",
       "      <th>review</th>\n",
       "      <th>Rating</th>\n",
       "      <th>Timestamp</th>\n",
       "    </tr>\n",
       "  </thead>\n",
       "  <tbody>\n",
       "    <tr>\n",
       "      <th>0</th>\n",
       "      <td>SB000001</td>\n",
       "      <td>STORE_SB0001</td>\n",
       "      <td>성북동메밀수제비누룽지백숙</td>\n",
       "      <td>te9a7m</td>\n",
       "      <td>너무비싸</td>\n",
       "      <td>2.0</td>\n",
       "      <td>2021-08-08</td>\n",
       "    </tr>\n",
       "    <tr>\n",
       "      <th>1</th>\n",
       "      <td>SB000002</td>\n",
       "      <td>STORE_SB0001</td>\n",
       "      <td>성북동메밀수제비누룽지백숙</td>\n",
       "      <td>7kup8e</td>\n",
       "      <td>맛은 좋으나 기다림이 문제</td>\n",
       "      <td>3.0</td>\n",
       "      <td>2021-07-14</td>\n",
       "    </tr>\n",
       "    <tr>\n",
       "      <th>2</th>\n",
       "      <td>SB000003</td>\n",
       "      <td>STORE_SB0001</td>\n",
       "      <td>성북동메밀수제비누룽지백숙</td>\n",
       "      <td>fkfake</td>\n",
       "      <td>NaN</td>\n",
       "      <td>3.0</td>\n",
       "      <td>2021-06-26</td>\n",
       "    </tr>\n",
       "    <tr>\n",
       "      <th>3</th>\n",
       "      <td>SB000004</td>\n",
       "      <td>STORE_SB0001</td>\n",
       "      <td>성북동메밀수제비누룽지백숙</td>\n",
       "      <td>g8k5fl</td>\n",
       "      <td>들깨수제비까지 욕심부리면 배터집니다. 백숙과 메일전이면 충분 남은 음식 포장 가능</td>\n",
       "      <td>4.0</td>\n",
       "      <td>2021-06-20</td>\n",
       "    </tr>\n",
       "    <tr>\n",
       "      <th>4</th>\n",
       "      <td>SB000005</td>\n",
       "      <td>STORE_SB0001</td>\n",
       "      <td>성북동메밀수제비누룽지백숙</td>\n",
       "      <td>n5mvk0</td>\n",
       "      <td>굿 애프터하이크 푸드</td>\n",
       "      <td>4.0</td>\n",
       "      <td>2021-05-23</td>\n",
       "    </tr>\n",
       "  </tbody>\n",
       "</table>\n",
       "</div>"
      ],
      "text/plain": [
       "  review_code    place_code         ItemID  UserID  \\\n",
       "0    SB000001  STORE_SB0001  성북동메밀수제비누룽지백숙  te9a7m   \n",
       "1    SB000002  STORE_SB0001  성북동메밀수제비누룽지백숙  7kup8e   \n",
       "2    SB000003  STORE_SB0001  성북동메밀수제비누룽지백숙  fkfake   \n",
       "3    SB000004  STORE_SB0001  성북동메밀수제비누룽지백숙  g8k5fl   \n",
       "4    SB000005  STORE_SB0001  성북동메밀수제비누룽지백숙  n5mvk0   \n",
       "\n",
       "                                          review  Rating  Timestamp  \n",
       "0                                           너무비싸     2.0 2021-08-08  \n",
       "1                                 맛은 좋으나 기다림이 문제     3.0 2021-07-14  \n",
       "2                                            NaN     3.0 2021-06-26  \n",
       "3  들깨수제비까지 욕심부리면 배터집니다. 백숙과 메일전이면 충분 남은 음식 포장 가능     4.0 2021-06-20  \n",
       "4                                    굿 애프터하이크 푸드     4.0 2021-05-23  "
      ]
     },
     "execution_count": 8,
     "metadata": {},
     "output_type": "execute_result"
    }
   ],
   "source": [
    "reviews_df = pd.read_csv('rating_df.csv', encoding='utf-8', index_col=0, parse_dates=['Timestamp'])\n",
    "reviews_df.head()"
   ]
  },
  {
   "cell_type": "code",
   "execution_count": 9,
   "id": "008dbbb0-a039-49f7-9195-be1b09eba41f",
   "metadata": {},
   "outputs": [
    {
     "data": {
      "text/plain": [
       "(15420, 7)"
      ]
     },
     "execution_count": 9,
     "metadata": {},
     "output_type": "execute_result"
    }
   ],
   "source": [
    "reviews_df.shape"
   ]
  },
  {
   "cell_type": "code",
   "execution_count": 10,
   "id": "e7ba5206-d3bd-4a6d-ab73-ff470f64b21e",
   "metadata": {},
   "outputs": [
    {
     "name": "stdout",
     "output_type": "stream",
     "text": [
      "review_code       0\n",
      "place_code        0\n",
      "ItemID            0\n",
      "UserID         4592\n",
      "review         2945\n",
      "Rating         1412\n",
      "Timestamp         0\n",
      "dtype: int64\n"
     ]
    }
   ],
   "source": [
    "print(reviews_df.isna().sum())"
   ]
  },
  {
   "cell_type": "code",
   "execution_count": 11,
   "id": "77271675-e72b-4198-835f-8b66d0bb6a0f",
   "metadata": {},
   "outputs": [],
   "source": [
    "reviews = reviews_df.dropna(axis=0)"
   ]
  },
  {
   "cell_type": "code",
   "execution_count": 12,
   "id": "081f7040-039e-47b3-8b14-65764e983e27",
   "metadata": {},
   "outputs": [
    {
     "data": {
      "text/plain": [
       "(9086, 7)"
      ]
     },
     "execution_count": 12,
     "metadata": {},
     "output_type": "execute_result"
    }
   ],
   "source": [
    "reviews.shape"
   ]
  },
  {
   "cell_type": "code",
   "execution_count": 13,
   "id": "47bbb0ae-6ce4-4616-bec5-d05573f41a32",
   "metadata": {},
   "outputs": [
    {
     "data": {
      "text/html": [
       "<div>\n",
       "<style scoped>\n",
       "    .dataframe tbody tr th:only-of-type {\n",
       "        vertical-align: middle;\n",
       "    }\n",
       "\n",
       "    .dataframe tbody tr th {\n",
       "        vertical-align: top;\n",
       "    }\n",
       "\n",
       "    .dataframe thead th {\n",
       "        text-align: right;\n",
       "    }\n",
       "</style>\n",
       "<table border=\"1\" class=\"dataframe\">\n",
       "  <thead>\n",
       "    <tr style=\"text-align: right;\">\n",
       "      <th></th>\n",
       "      <th>review_code</th>\n",
       "      <th>place_code</th>\n",
       "      <th>ItemID</th>\n",
       "      <th>UserID</th>\n",
       "      <th>review</th>\n",
       "      <th>Rating</th>\n",
       "      <th>Timestamp</th>\n",
       "    </tr>\n",
       "  </thead>\n",
       "  <tbody>\n",
       "    <tr>\n",
       "      <th>0</th>\n",
       "      <td>SB000001</td>\n",
       "      <td>STORE_SB0001</td>\n",
       "      <td>성북동메밀수제비누룽지백숙</td>\n",
       "      <td>te9a7m</td>\n",
       "      <td>너무비싸</td>\n",
       "      <td>2.0</td>\n",
       "      <td>2021-08-08</td>\n",
       "    </tr>\n",
       "    <tr>\n",
       "      <th>1</th>\n",
       "      <td>SB000002</td>\n",
       "      <td>STORE_SB0001</td>\n",
       "      <td>성북동메밀수제비누룽지백숙</td>\n",
       "      <td>7kup8e</td>\n",
       "      <td>맛은 좋으나 기다림이 문제</td>\n",
       "      <td>3.0</td>\n",
       "      <td>2021-07-14</td>\n",
       "    </tr>\n",
       "    <tr>\n",
       "      <th>3</th>\n",
       "      <td>SB000004</td>\n",
       "      <td>STORE_SB0001</td>\n",
       "      <td>성북동메밀수제비누룽지백숙</td>\n",
       "      <td>g8k5fl</td>\n",
       "      <td>들깨수제비까지 욕심부리면 배터집니다. 백숙과 메일전이면 충분 남은 음식 포장 가능</td>\n",
       "      <td>4.0</td>\n",
       "      <td>2021-06-20</td>\n",
       "    </tr>\n",
       "    <tr>\n",
       "      <th>4</th>\n",
       "      <td>SB000005</td>\n",
       "      <td>STORE_SB0001</td>\n",
       "      <td>성북동메밀수제비누룽지백숙</td>\n",
       "      <td>n5mvk0</td>\n",
       "      <td>굿 애프터하이크 푸드</td>\n",
       "      <td>4.0</td>\n",
       "      <td>2021-05-23</td>\n",
       "    </tr>\n",
       "    <tr>\n",
       "      <th>5</th>\n",
       "      <td>SB000006</td>\n",
       "      <td>STORE_SB0001</td>\n",
       "      <td>성북동메밀수제비누룽지백숙</td>\n",
       "      <td>1dtoiih</td>\n",
       "      <td>좋아 함. 그래서 자주 감. 근데 닭보다 누룽지가 훨 맛있음. 누룽지를 먹기 위해 ...</td>\n",
       "      <td>4.0</td>\n",
       "      <td>2021-05-13</td>\n",
       "    </tr>\n",
       "  </tbody>\n",
       "</table>\n",
       "</div>"
      ],
      "text/plain": [
       "  review_code    place_code         ItemID   UserID  \\\n",
       "0    SB000001  STORE_SB0001  성북동메밀수제비누룽지백숙   te9a7m   \n",
       "1    SB000002  STORE_SB0001  성북동메밀수제비누룽지백숙   7kup8e   \n",
       "3    SB000004  STORE_SB0001  성북동메밀수제비누룽지백숙   g8k5fl   \n",
       "4    SB000005  STORE_SB0001  성북동메밀수제비누룽지백숙   n5mvk0   \n",
       "5    SB000006  STORE_SB0001  성북동메밀수제비누룽지백숙  1dtoiih   \n",
       "\n",
       "                                              review  Rating  Timestamp  \n",
       "0                                               너무비싸     2.0 2021-08-08  \n",
       "1                                     맛은 좋으나 기다림이 문제     3.0 2021-07-14  \n",
       "3      들깨수제비까지 욕심부리면 배터집니다. 백숙과 메일전이면 충분 남은 음식 포장 가능     4.0 2021-06-20  \n",
       "4                                        굿 애프터하이크 푸드     4.0 2021-05-23  \n",
       "5  좋아 함. 그래서 자주 감. 근데 닭보다 누룽지가 훨 맛있음. 누룽지를 먹기 위해 ...     4.0 2021-05-13  "
      ]
     },
     "execution_count": 13,
     "metadata": {},
     "output_type": "execute_result"
    }
   ],
   "source": [
    "reviews.head()"
   ]
  },
  {
   "cell_type": "code",
   "execution_count": null,
   "id": "c39c39c1-a7de-4d51-8bed-d8d826da6445",
   "metadata": {},
   "outputs": [],
   "source": []
  },
  {
   "cell_type": "code",
   "execution_count": null,
   "id": "3db5b6f2-6b33-4169-9d63-0f755affc920",
   "metadata": {},
   "outputs": [],
   "source": []
  },
  {
   "cell_type": "code",
   "execution_count": 14,
   "id": "386e606a-24ff-40a8-81d8-7bc7f16be654",
   "metadata": {},
   "outputs": [],
   "source": [
    "# 텍스트를 tokenize해서 adjective, verb, noun만 추출하는 함수\n",
    "\n",
    "def tokenize_korean_text(text): \n",
    "    text_filtered = re.sub('[^,.?!\\w\\s]','', text)\n",
    "\n",
    "    okt = Okt() \n",
    "    Okt_morphs = okt.pos(text_filtered) \n",
    "\n",
    "    words = []\n",
    "    for word, pos in Okt_morphs:\n",
    "        if pos == 'Adjective' or pos == 'Verb' or pos == 'Noun':\n",
    "            words.append(word)\n",
    "\n",
    "    words_str = ' '.join(words)\n",
    "    return words_str"
   ]
  },
  {
   "cell_type": "code",
   "execution_count": 15,
   "id": "7fa221d8-1862-4131-82d6-af3112b53e95",
   "metadata": {},
   "outputs": [
    {
     "name": "stdout",
     "output_type": "stream",
     "text": [
      "원래 text 수: 9086\n",
      "['비싸', '맛 좋으나 기다림 문제', '들깨 수제비 욕심 부리면 배 터집니다 백숙 메일 전이 충분 남은 음식 포장 가능', '굿 애프터 이크 푸드', '좋아 함 자주 감 닭 누룽지 훨 맛있음 누룽지 먹기 위해 닭백숙 시켜야 하는 슬픈 현실 센터 살코기 조금 넣고 누룽지 죽 메뉴 좀 파세요 인분 먹을 의향 있음']\n"
     ]
    }
   ],
   "source": [
    "X_texts = []\n",
    "y = []\n",
    "\n",
    "for star, comment in zip(reviews['Rating'], reviews['review']):\n",
    "    \n",
    "    tokenized_comment = tokenize_korean_text(comment)  # 위에서 만들었던 함수로 comment 쪼개기\n",
    "    X_texts.append(tokenized_comment)\n",
    "    \n",
    "    y.append(1 if star > 3 else -1)\n",
    "    # 평점이 8 이상이면(8,9,10) 값을 1로 지정 (positive)\n",
    "    # 평점이 3 이하이면(1,2,3) 값을 -1로 지정 (negative)\n",
    "\n",
    "print(f'원래 text 수: {len(reviews)}')\n",
    "# print(f'평점 3 이하 혹은 8 이상인 text 수: {len(X_texts)}')\n",
    "print(X_texts[:5])"
   ]
  },
  {
   "cell_type": "code",
   "execution_count": 46,
   "id": "d064d9f0-b8fa-478a-af3f-a3a5fe1dd94f",
   "metadata": {},
   "outputs": [
    {
     "data": {
      "text/plain": [
       "['비싸',\n",
       " '맛 좋으나 기다림 문제',\n",
       " '들깨 수제비 욕심 부리면 배 터집니다 백숙 메일 전이 충분 남은 음식 포장 가능',\n",
       " '굿 애프터 이크 푸드',\n",
       " '좋아 함 자주 감 닭 누룽지 훨 맛있음 누룽지 먹기 위해 닭백숙 시켜야 하는 슬픈 현실 센터 살코기 조금 넣고 누룽지 죽 메뉴 좀 파세요 인분 먹을 의향 있음',\n",
       " '누룽지 백숙 부드럽고 김치 동치미 맛 좋음 식사 후 리홀 뮤직 갤러리 음악 들으며 차 한잔 하는 것 이집 풀 코스',\n",
       " '가야 이유 쫄깃 백숙 구수한 누룽지 상당한 양 가는 이유 포장 하겠지만 삶는지 고기 쫄깃 담백하지만 껍질 싫어하는 사람 더 싫을듯 죽은 굉장히 걸쭉하고 누룽지 구수해서 좋음 누룽지 양 많아서 인분 하는게 맞을듯 메밀전 자리 셋팅되는 먼저 나와서 기다리는 동안 먹을 수 있어 좋고 맛 괜찮 일요일',\n",
       " '김치 재사용 하시나 봐요 김치 물티슈 비닐 나왔습니다 저희 물티슈 주지 않으셨습니다 확인 하시더니 비닐 게눈 감추듯 후다닥 처리 하시더라구요 맛있게 먹다 얼마나 열 받던지 사진 찍어 놓을걸 또 열 받네',\n",
       " '맛 변한건 가요 아래 들 알바 맛 없는데 내 그냥 삶아도 것 맛있을듯',\n",
       " '영업 시간 정보 잘못 되어 있네요 마감 주문 마감 부러 찾아가서 도착 했는데 영업 시간 찾아보고 온 거 잘못 왔다고 되려 성 내시길래 당황 했네요 인터넷 익숙 치 않으시다고 이해해 그럼 안 드시라고 성 내는 태도 찾아간 고객 인 가봐요 안 드시라면서 메밀전 안 시키냐고']"
      ]
     },
     "execution_count": 46,
     "metadata": {},
     "output_type": "execute_result"
    }
   ],
   "source": [
    "X_texts[:10]"
   ]
  },
  {
   "cell_type": "code",
   "execution_count": 34,
   "id": "00d7b27c-3d12-47f3-80a4-483409dd71d7",
   "metadata": {},
   "outputs": [
    {
     "data": {
      "text/plain": [
       "9086"
      ]
     },
     "execution_count": 34,
     "metadata": {},
     "output_type": "execute_result"
    }
   ],
   "source": [
    "len(X_texts)"
   ]
  },
  {
   "cell_type": "code",
   "execution_count": null,
   "id": "6b0cdd34-f104-43a2-8661-b8c19cef2bc3",
   "metadata": {},
   "outputs": [],
   "source": []
  },
  {
   "cell_type": "code",
   "execution_count": 114,
   "id": "46e61487-acff-47c8-bd58-351db4c0695c",
   "metadata": {},
   "outputs": [
    {
     "name": "stdout",
     "output_type": "stream",
     "text": [
      "[[], ['맛', '기다림', '문제'], ['들깨', '수제비', '욕심', '부리면', '배', '백숙', '메일', '전이', '충분', '음식', '포장', '가능'], ['굿', '애프터', '이크', '푸드'], ['함', '자주', '감', '닭', '누룽지', '훨', '누룽지', '먹기', '위해', '닭백숙', '현실', '센터', '살코기', '조금', '누룽지', '죽', '메뉴', '좀', '인분', '의향']]\n"
     ]
    }
   ],
   "source": [
    "vocab = {}\n",
    "sentences = []\n",
    "\n",
    "for text in X_texts:\n",
    "    sentence = okt.nouns(text)\n",
    "    \n",
    "    for word in sentence:\n",
    "        if word not in vocab:\n",
    "            vocab[word] = 0\n",
    "        vocab[word] += 1\n",
    "    \n",
    "    sentences.append(sentence)\n",
    "\n",
    "print(sentences[:5])"
   ]
  },
  {
   "cell_type": "code",
   "execution_count": 103,
   "id": "c14383ad-a6c2-450d-aefb-cc83ca417244",
   "metadata": {},
   "outputs": [],
   "source": [
    "# print(vocab)"
   ]
  },
  {
   "cell_type": "code",
   "execution_count": 115,
   "id": "3b736414-ce19-4e60-95e0-38d3539d41b1",
   "metadata": {},
   "outputs": [
    {
     "name": "stdout",
     "output_type": "stream",
     "text": [
      "[('맛', 2501), ('가격', 888), ('곳', 737), ('진짜', 736), ('집', 657)]\n"
     ]
    }
   ],
   "source": [
    "vocab_sorted = sorted(vocab.items(), key = lambda x:x[1], reverse = True)\n",
    "print(vocab_sorted[:5])"
   ]
  },
  {
   "cell_type": "code",
   "execution_count": null,
   "id": "1ae36f1d-c596-4cef-b77d-51eea137574c",
   "metadata": {},
   "outputs": [],
   "source": []
  },
  {
   "cell_type": "code",
   "execution_count": 78,
   "id": "ecfe5871-985a-406b-9354-f8409ca1d66a",
   "metadata": {},
   "outputs": [],
   "source": [
    "import numpy as np\n",
    "\n",
    "from PIL import Image\n",
    "from wordcloud import WordCloud"
   ]
  },
  {
   "cell_type": "code",
   "execution_count": 116,
   "id": "0f54a03a-a165-416c-83ef-79f3806d2049",
   "metadata": {},
   "outputs": [
    {
     "data": {
      "image/png": "[encoded data removed]",
      "text/plain": [
       "<Figure size 432x288 with 1 Axes>"
      ]
     },
     "metadata": {
      "needs_background": "light"
     },
     "output_type": "display_data"
    }
   ],
   "source": [
    "## 자신의 컴퓨터 환경에 맞는 한글 폰트 경로를 설정\n",
    "font_path = 'TIL/K-digit/Project2/preprocessing/malgun.ttf'\n",
    "\n",
    "good_mask = np.array(Image.open('cloud-re.png'))\n",
    "\n",
    "wc = WordCloud(width = 1500, height = 1000, background_color=\"white\", font_path=font_path)\n",
    "wc = wc.generate_from_frequencies(dict(vocab_sorted))\n",
    "wc.to_file('wordcloud.png')\n",
    "# wc.generate_from_frequencies(dict(vocab_sorted))\n",
    "\n",
    "plt.imshow(wc)\n",
    "plt.axis(\"off\")\n",
    "plt.show()"
   ]
  },
  {
   "cell_type": "code",
   "execution_count": 95,
   "id": "bf2e99e7-015a-4160-8dac-abdd33aecbf1",
   "metadata": {},
   "outputs": [
    {
     "data": {
      "text/plain": [
       "(-0.5, 773.5, 321.5, -0.5)"
      ]
     },
     "execution_count": 95,
     "metadata": {},
     "output_type": "execute_result"
    },
    {
     "data": {
      "image/png": "[encoded data removed]",
      "text/plain": [
       "<Figure size 432x288 with 1 Axes>"
      ]
     },
     "metadata": {
      "needs_background": "light"
     },
     "output_type": "display_data"
    }
   ],
   "source": [
    "good_mask = np.array(Image.open('cloud-re.png'))\n",
    "\n",
    "plt.imshow(good_mask)\n",
    "plt.axis('off')"
   ]
  },
  {
   "cell_type": "code",
   "execution_count": null,
   "id": "1ca1a61f-2a9f-4b4a-9737-66bccaab04f0",
   "metadata": {},
   "outputs": [],
   "source": []
  },
  {
   "cell_type": "code",
   "execution_count": null,
   "id": "db4615bf-5c5a-4a6d-b94b-073be9485a2b",
   "metadata": {},
   "outputs": [],
   "source": [
    "# font_path = 'C:\\\\Windows\\\\Fonts\\\\HYGothic 중간.ttf'\n",
    "\n",
    "# wc = WordCloud(width = 1000, height = 600, background_color=\"white\", font_path=font_path)\n",
    "# wc.generate(vocab_sorted)"
   ]
  },
  {
   "cell_type": "code",
   "execution_count": null,
   "id": "c7e9535c-bdad-4acb-98cb-b4fef02dc2e3",
   "metadata": {},
   "outputs": [],
   "source": [
    "wc = WordCloud().generate(dict(vocab_sorted))"
   ]
  },
  {
   "cell_type": "code",
   "execution_count": null,
   "id": "e54c103f-8d7f-46a2-ae84-436d8dd0c6e8",
   "metadata": {},
   "outputs": [],
   "source": [
    "wc.generate_from_frequencies(dict(vocab_sorted))"
   ]
  },
  {
   "cell_type": "code",
   "execution_count": null,
   "id": "1ffdfbc5-90b0-457a-b732-882f03995bb7",
   "metadata": {},
   "outputs": [],
   "source": []
  },
  {
   "cell_type": "code",
   "execution_count": null,
   "id": "ec1702ce-76b0-4628-92d2-85312b84f672",
   "metadata": {},
   "outputs": [],
   "source": []
  },
  {
   "cell_type": "code",
   "execution_count": 21,
   "id": "f6772b16-bb5a-49bc-a3ac-5b8a067c13a2",
   "metadata": {},
   "outputs": [],
   "source": [
    "# train_test_split\n",
    "X_train_texts, X_test_texts, y_train, y_test = train_test_split(X_texts, y, test_size=0.2, random_state=0)"
   ]
  },
  {
   "cell_type": "code",
   "execution_count": 22,
   "id": "e62bc05f-103a-45ab-a1f8-9de960f0e954",
   "metadata": {},
   "outputs": [],
   "source": [
    "# CountVectorizer로 vector화\n",
    "tf_vectorizer = CountVectorizer(min_df=1, ngram_range=(1,1))\n",
    "X_train_tf = tf_vectorizer.fit_transform(X_train_texts)  # training data에 맞게 fit & training data를 transform\n",
    "X_test_tf = tf_vectorizer.transform(X_test_texts) # test data를 transform\n",
    "\n",
    "vocablist = [word for word, number in sorted(tf_vectorizer.vocabulary_.items(), key=lambda x:x[1])]  # 단어들을 번호 기준 내림차순으로 저장"
   ]
  },
  {
   "cell_type": "code",
   "execution_count": 23,
   "id": "8eb237c3-f243-4c7c-bd86-189fd5d728c6",
   "metadata": {},
   "outputs": [
    {
     "name": "stdout",
     "output_type": "stream",
     "text": [
      "  (0, 4980)\t1\n",
      "  (0, 8620)\t1\n",
      "  (0, 14701)\t1\n",
      "  (0, 5820)\t1\n",
      "  (0, 7470)\t1\n",
      "  (0, 13214)\t1\n",
      "  (0, 12503)\t1\n",
      "  (0, 5657)\t1\n",
      "  (0, 5803)\t1\n",
      "  (0, 980)\t1\n",
      "  (0, 3497)\t1 \n",
      "\n",
      "  (0, 15)\t1\n",
      "  (0, 544)\t1\n",
      "  (0, 1017)\t1\n",
      "  (0, 1530)\t1\n",
      "  (0, 1720)\t1\n",
      "  (0, 5439)\t1\n",
      "  (0, 5946)\t1\n",
      "  (0, 6932)\t1\n",
      "  (0, 6986)\t1\n",
      "  (0, 9004)\t1\n",
      "  (0, 9227)\t1\n",
      "  (0, 11152)\t1\n",
      "  (0, 11386)\t1\n",
      "  (0, 13214)\t1\n",
      "  (0, 13498)\t1\n",
      "  (0, 14506)\t1\n",
      "  (0, 14817)\t1\n",
      "  (0, 16424)\t1 \n",
      "\n",
      "['가게', '가게네요', '가게되']\n"
     ]
    }
   ],
   "source": [
    "## 확인해보기\n",
    "print(X_train_tf[:1], '\\n')\n",
    "print(X_test_tf[:1], '\\n')\n",
    "print(vocablist[:3])"
   ]
  },
  {
   "cell_type": "code",
   "execution_count": 24,
   "id": "9968a846-2f7f-4e82-b67b-e63f6fdd1b0f",
   "metadata": {},
   "outputs": [
    {
     "data": {
      "text/plain": [
       "LogisticRegression(C=0.1, random_state=0)"
      ]
     },
     "execution_count": 24,
     "metadata": {},
     "output_type": "execute_result"
    }
   ],
   "source": [
    "model = LogisticRegression(C=0.1, penalty='l2', random_state=0)\n",
    "model.fit(X_train_tf, y_train)  # 학습"
   ]
  },
  {
   "cell_type": "code",
   "execution_count": 25,
   "id": "f590cd2e-e7cd-4d71-9b73-a1e111bb2010",
   "metadata": {},
   "outputs": [
    {
     "data": {
      "text/plain": [
       "LogisticRegression(C=0.1, random_state=0)"
      ]
     },
     "execution_count": 25,
     "metadata": {},
     "output_type": "execute_result"
    }
   ],
   "source": [
    "LogisticRegression(C=0.1, class_weight=None, dual=False, fit_intercept=True,\n",
    "                   intercept_scaling=1, l1_ratio=None, max_iter=100,\n",
    "                   multi_class='auto', n_jobs=None, penalty='l2',\n",
    "                   random_state=0, solver='lbfgs', tol=0.0001, verbose=0,\n",
    "                   warm_start=False)"
   ]
  },
  {
   "cell_type": "code",
   "execution_count": 26,
   "id": "dc2b6687-45ee-4a0f-8ea1-197ce61a7a0b",
   "metadata": {},
   "outputs": [
    {
     "name": "stdout",
     "output_type": "stream",
     "text": [
      "Misclassified samples: 325 out of 1818\n",
      "Accuracy: 0.82\n"
     ]
    }
   ],
   "source": [
    "y_test_pred = model.predict(X_test_tf)\n",
    "\n",
    "print('Misclassified samples: {} out of {}'.format((y_test_pred != y_test).sum(), len(y_test)))\n",
    "print('Accuracy: {:.2f}'.format(accuracy_score(y_test, y_test_pred)))  # model.score(X_test_tf, y_test)로 계산해도 됨"
   ]
  },
  {
   "cell_type": "code",
   "execution_count": 27,
   "id": "cc4c1cba-0b21-4693-ad15-0294f9be66c4",
   "metadata": {},
   "outputs": [
    {
     "name": "stdout",
     "output_type": "stream",
     "text": [
      "긍정적인 단어 Top 10 (높은 평점과 상관관계가 강한 단어들)\n",
      "맛있어요(1.783)\n",
      "최고(1.522)\n",
      "맛있고(1.158)\n",
      "존맛(1.150)\n",
      "좋아요(1.114)\n",
      "친절하시고(0.933)\n",
      "맛있음(0.907)\n",
      "맛있었어요(0.887)\n",
      "맛있습니다(0.885)\n",
      "맛있네요(0.862)\n",
      "\n",
      "부정적인 단어 Top 10 (낮은 평점과 상관관계가 강한 단어들)\n",
      "시켰는데(-0.673)\n",
      "마세요(-0.676)\n",
      "실망(-0.680)\n",
      "다신(-0.717)\n",
      "없음(-0.748)\n",
      "손님(-0.774)\n",
      "그냥(-0.931)\n",
      "최악(-1.076)\n",
      "별로(-1.100)\n",
      "불친절(-1.208)\n"
     ]
    }
   ],
   "source": [
    "coefficients = model.coef_.tolist()\n",
    "\n",
    "sorted_coefficients = sorted(enumerate(coefficients[0]), key=lambda x:x[1], reverse=True)\n",
    "# coefficients(계수)가 큰 값부터 내림차순으로 정렬\n",
    "\n",
    "print('긍정적인 단어 Top 10 (높은 평점과 상관관계가 강한 단어들)')\n",
    "for word_num, coef in sorted_coefficients[:10]:\n",
    "    print('{0:}({1:.3f})'.format(vocablist[word_num], coef))\n",
    "\n",
    "print('\\n부정적인 단어 Top 10 (낮은 평점과 상관관계가 강한 단어들)')\n",
    "for word_num, coef in sorted_coefficients[-10:]: \n",
    "    print('{0:}({1:.3f})'.format(vocablist[word_num], coef))"
   ]
  },
  {
   "cell_type": "code",
   "execution_count": null,
   "id": "1a164388-d198-473e-b4f5-9e60ddf0c723",
   "metadata": {},
   "outputs": [],
   "source": []
  },
  {
   "cell_type": "code",
   "execution_count": null,
   "id": "9f5906f7-52db-49c5-8fe0-41d36d206fb8",
   "metadata": {},
   "outputs": [],
   "source": []
  },
  {
   "cell_type": "code",
   "execution_count": null,
   "id": "f289ede4-20d4-4f49-8184-3a5a51e5b533",
   "metadata": {},
   "outputs": [],
   "source": []
  },
  {
   "cell_type": "code",
   "execution_count": 19,
   "id": "345338f8-0d9c-4db5-9c2c-90d0170261f2",
   "metadata": {},
   "outputs": [],
   "source": []
  },
  {
   "cell_type": "code",
   "execution_count": null,
   "id": "2fbc3ba7-7b15-4792-950a-d430e5e65972",
   "metadata": {},
   "outputs": [],
   "source": []
  },
  {
   "cell_type": "code",
   "execution_count": null,
   "id": "0eb009f0-650b-4ea2-80b9-b16bfa3ffc30",
   "metadata": {},
   "outputs": [],
   "source": []
  },
  {
   "cell_type": "code",
   "execution_count": null,
   "id": "fa0bacf5-0830-4421-9cdd-b2017e2b464a",
   "metadata": {},
   "outputs": [],
   "source": []
  },
  {
   "cell_type": "code",
   "execution_count": null,
   "id": "86412d87-fb90-43ef-8b8e-9ebca4e98623",
   "metadata": {},
   "outputs": [],
   "source": []
  },
  {
   "cell_type": "code",
   "execution_count": null,
   "id": "bf50b0c6-3260-4a9e-a719-ba1b414f6306",
   "metadata": {},
   "outputs": [],
   "source": []
  },
  {
   "cell_type": "code",
   "execution_count": null,
   "id": "f6dea258-5f6e-4263-bc5d-559b2d06f591",
   "metadata": {},
   "outputs": [],
   "source": []
  }
 ],
 "metadata": {
  "kernelspec": {
   "display_name": "Python Multi",
   "language": "python",
   "name": "multi"
  },
  "language_info": {
   "codemirror_mode": {
    "name": "ipython",
    "version": 3
   },
   "file_extension": ".py",
   "mimetype": "text/x-python",
   "name": "python",
   "nbconvert_exporter": "python",
   "pygments_lexer": "ipython3",
   "version": "3.7.6"
  }
 },
 "nbformat": 4,
 "nbformat_minor": 5
}
