{
 "cells": [
  {
   "cell_type": "code",
   "execution_count": 1,
   "id": "5385fb58-fc39-4969-a5c4-ddaafcf70777",
   "metadata": {},
   "outputs": [],
   "source": [
    "from selenium import webdriver"
   ]
  },
  {
   "cell_type": "code",
   "execution_count": 2,
   "id": "bdc67515-6290-4345-8c8d-1f1e099706d5",
   "metadata": {},
   "outputs": [],
   "source": [
    "import time\n",
    "import pandas as pd"
   ]
  },
  {
   "cell_type": "code",
   "execution_count": 3,
   "id": "01b933c4-b966-47fc-9feb-8fdb66e5de87",
   "metadata": {},
   "outputs": [],
   "source": [
    "df = pd.read_csv('sb_restaurant.csv', sep=',', encoding='CP949')"
   ]
  },
  {
   "cell_type": "code",
   "execution_count": 4,
   "id": "c6059f0d-2155-4697-a6be-23d92e5f1273",
   "metadata": {},
   "outputs": [],
   "source": [
    "df = df[['업소명', '소재지도로명', '업태명', '주된음식', '행정동명', '소재지전화번호']]\n",
    "df.columns = ['name', 'address', 'cate1', 'cate2', 'dong', 'phone']\n",
    "df = df.drop_duplicates(['name'], keep='first')"
   ]
  },
  {
   "cell_type": "code",
   "execution_count": 5,
   "id": "c000692b-8d88-4e1e-ac94-e163e4dd3ca8",
   "metadata": {},
   "outputs": [],
   "source": [
    "df['cate_mix'] = df['cate1'] + df['cate2']"
   ]
  },
  {
   "cell_type": "code",
   "execution_count": 6,
   "id": "6b6546b0-b57c-4a0e-bc57-570770e4435d",
   "metadata": {},
   "outputs": [
    {
     "name": "stdout",
     "output_type": "stream",
     "text": [
      "                    name                             address     cate1  cate2  \\\n",
      "0       기찬 전통육개장 흑염소 전문점            서울특별시 성북구 솔샘로 71 (정릉동1층)        한식   돼지갈비   \n",
      "1              김태완의초밥좋은날  서울특별시 성북구 동소문로20길 28-4 (동소문동5가 2층)  식육(숯불구이)    삼겹살   \n",
      "4            만복식당(성신여대점)  서울특별시 성북구 동소문로20길 28-4 (동소문동5가 2층)  식육(숯불구이)    삼겹살   \n",
      "8              유자유 김치떡볶이      서울특별시 성북구 인촌로24길 48 2층 (안암동5가)        한식  김치떡볶이   \n",
      "10      약산 전통육개장 흑염소 전문점            서울특별시 성북구 솔샘로 71 (정릉동1층)        한식   돼지갈비   \n",
      "..                   ...                                 ...       ...    ...   \n",
      "195                금왕돈까스             서울특별시 성북구 성북로 138 (성북동)       경양식    돈까스   \n",
      "196                큰솥감자탕      서울특별시 성북구 동소문로24길 31 (동선동1가1층)        한식   돼지갈비   \n",
      "198                   한강        서울특별시 성북구 창경궁로43길 17 (성북동1가)        한식     국수   \n",
      "199  꿈꾸는이상(주) 갈비명가이상돈암본관             서울특별시 성북구 정릉로 364 (돈암동)        한식   돼지갈비   \n",
      "200                전통설렁탕     서울특별시 성북구 성북로 105 (성북동107-2103)        한식    갈비탕   \n",
      "\n",
      "      dong         phone     cate_mix  \n",
      "0    정릉제4동  02  982 5070       한식돼지갈비  \n",
      "1      삼선동  02  923 8628  식육(숯불구이)삼겹살  \n",
      "4      삼선동  02  923 8628  식육(숯불구이)삼겹살  \n",
      "8      안암동  02  928 7754      한식김치떡볶이  \n",
      "10   정릉제4동  02  982 5070       한식돼지갈비  \n",
      "..     ...           ...          ...  \n",
      "195    성북동    0207642691       경양식돈까스  \n",
      "196    동선동    02 9212302       한식돼지갈비  \n",
      "198    성북동    02 7474004         한식국수  \n",
      "199  돈암제1동  02  925 8700       한식돼지갈비  \n",
      "200    성북동    02 7472753        한식갈비탕  \n",
      "\n",
      "[124 rows x 7 columns]\n"
     ]
    }
   ],
   "source": [
    "print(df)"
   ]
  },
  {
   "cell_type": "code",
   "execution_count": 7,
   "id": "94860814-d0f3-4a95-b89a-6e1faa485075",
   "metadata": {},
   "outputs": [],
   "source": [
    "df['kakao_keyword'] = df['dong'] + \" \" + df['name']"
   ]
  },
  {
   "cell_type": "code",
   "execution_count": 8,
   "id": "2756399e-8175-4564-9394-ed8bc539f58f",
   "metadata": {},
   "outputs": [
    {
     "name": "stderr",
     "output_type": "stream",
     "text": [
      "C:\\Users\\nhm05\\anaconda3\\envs\\multi\\lib\\site-packages\\ipykernel_launcher.py:1: DeprecationWarning: executable_path has been deprecated, please pass in a Service object\n",
      "  \"\"\"Entry point for launching an IPython kernel.\n"
     ]
    }
   ],
   "source": [
    "driver = webdriver.Chrome('../webdriver/chromedriver.exe')"
   ]
  },
  {
   "cell_type": "code",
   "execution_count": 9,
   "id": "ebad1cc6-fd13-4648-aa42-c3e9fe697bcd",
   "metadata": {},
   "outputs": [
    {
     "name": "stdout",
     "output_type": "stream",
     "text": [
      "정릉제4동 기찬 전통육개장 흑염소 전문점 "
     ]
    },
    {
     "name": "stderr",
     "output_type": "stream",
     "text": [
      "C:\\Users\\nhm05\\anaconda3\\envs\\multi\\lib\\site-packages\\selenium\\webdriver\\remote\\webdriver.py:670: UserWarning: find_element_by_* commands are deprecated. Please use find_element() instead\n",
      "  warnings.warn(\"find_element_by_* commands are deprecated. Please use find_element() instead\")\n"
     ]
    },
    {
     "name": "stdout",
     "output_type": "stream",
     "text": [
      "정보 없음\n",
      "삼선동 김태완의초밥좋은날 정보 없음\n",
      "삼선동 만복식당(성신여대점) 정보 없음\n",
      "안암동 유자유 김치떡볶이 리뷰 45건, 평점 3.7\n",
      "정릉제4동 약산 전통육개장 흑염소 전문점 정보 없음\n",
      "정릉제4동 정릉곤드레밥 리뷰 19건, 평점 3.8\n",
      "안암동 만복식당 리뷰 4건, 평점 4.8\n",
      "안암동 치폴레옹(고려대점) 리뷰 2건, 평점 4.5\n",
      "안암동 원진노기순청국장 리뷰 7건, 평점 4.3\n",
      "정릉제4동 담소면옥 리뷰 1건, 평점 1.0\n",
      "삼선동 녹천 리뷰 0건, 평점 0.0\n",
      "삼선동 화끈한동태요리집 정보 없음\n",
      "동선동 포앤시드니 리뷰 35건, 평점 4.1\n",
      "동선동 할매숯불닭갈비 리뷰 20건, 평점 4.2\n",
      "월곡제1동 엉터리생고기 정보 없음\n",
      "월곡제1동 용주 한방삼계탕 리뷰 4건, 평점 4.0\n",
      "보문동 담소 소사골 순대 성북구청점 정보 없음\n",
      "보문동 제주고깃집 정보 없음\n",
      "삼선동 초밥좋은날 시즌투(Ⅱ) 정보 없음\n",
      "성북동 중경당 리뷰 9건, 평점 3.0\n",
      "보문동 요이사카나(よい魚) 정보 없음\n",
      "보문동 간지 정보 없음\n",
      "보문동 스시엠(M) 정보 없음\n",
      "월곡제1동 신명가해물짬뽕 정보 없음\n",
      "월곡제1동 명가해물짬뽕전문점 정보 없음\n",
      "종암동 유정식당 정보 없음\n",
      "동선동 도쿄커틀릿 리뷰 31건, 평점 3.7\n",
      "안암동 이세(李世)돈가스전문점 정보 없음\n",
      "보문동 미운오리 정보 없음\n",
      "안암동 스시바 정보 없음\n",
      "안암동 역전할머니맥주 정보 없음\n",
      "안암동 숙성의미(고대점) 정보 없음\n",
      "안암동 서래갈매기(고대점) 정보 없음\n",
      "안암동 역전할머니맥주 고대점 정보 없음\n",
      "안암동 내가찜한닭 정보 없음\n",
      "안암동 육쌈냉면 정보 없음\n",
      "안암동 본샤브칼국수 정보 없음\n",
      "동선동 태조집 태조감자국 성신여대점 정보 없음\n",
      "돈암제2동 가나다라생고기 정보 없음\n",
      "안암동 전주완산골 정보 없음\n",
      "안암동 매스플레이트 정보 없음\n",
      "안암동 미각 정보 없음\n",
      "안암동 모심 정보 없음\n",
      "동선동 칠백집 정보 없음\n",
      "동선동 칠백집서울껍데기 정보 없음\n",
      "정릉제1동 보리보리시골밥상 정보 없음\n",
      "성북동 성북동사람들박앤윤 정보 없음\n",
      "동선동 만선참치 정보 없음\n",
      "석관동 창신동매운족발 석계점 정보 없음\n",
      "석관동 (주)삼대족발(석관점) 정보 없음\n",
      "석관동 삼대족발(석관점) 정보 없음\n",
      "석관동 주)대게축제 정보 없음\n",
      "정릉제3동 전원주의손큰할매순대국국민대점 정보 없음\n",
      "삼선동 구어줘 양대창집 정보 없음\n",
      "삼선동 혜화면옥 정보 없음\n",
      "정릉제4동 참이맛감자탕(정릉점) 정보 없음\n",
      "삼선동 오소오소양대창전문점 정보 없음\n",
      "삼선동 갈비애드림 정보 없음\n",
      "삼선동 화통집(성북구청점) 정보 없음\n",
      "삼선동 가부 정보 없음\n",
      "종암동 해미수산 정보 없음\n",
      "월곡제1동 장운산꽃게 정보 없음\n",
      "종암동 대왕참치 정보 없음\n",
      "석관동 석계 창신동 매운족발 1호점 정보 없음\n",
      "정릉제1동 조선화로구이 정보 없음\n",
      "정릉제4동 돈까스캠프 정보 없음\n",
      "정릉제1동 신)마포갈매기정릉점 정보 없음\n",
      "삼선동 씽푸 정보 없음\n",
      "돈암제2동 어촌 정보 없음\n",
      "정릉제1동 미각아구동태탕 정보 없음\n",
      "월곡제1동 장충당 월곡점 정보 없음\n",
      "월곡제1동 대포항회집 정보 없음\n",
      "석관동 성가네낙지마을 정보 없음\n",
      "월곡제1동 채화정&청정 정보 없음\n",
      "월곡제1동 채화정 정보 없음\n",
      "정릉제3동 채움늘 정보 없음\n",
      "장위제3동 한근더한근 정보 없음\n",
      "안암동 오샬(OTSAL) 정보 없음\n",
      "정릉제1동 청록원 정보 없음\n",
      "돈암제1동 초림정 정보 없음\n",
      "삼선동 동해해물탕 정보 없음\n",
      "동선동 해송 정보 없음\n",
      "안암동 베나레스(Benares) 정보 없음\n",
      "정릉제1동 맛깔참죽(정릉점) 정보 없음\n",
      "월곡제2동 삽교원조두리곱창 정보 없음\n",
      "성북동 성북동참치 정보 없음\n",
      "성북동 안동할매청국장 정보 없음\n",
      "안암동 무등산참숯갈비 정보 없음\n",
      "종암동 큰대문집 정보 없음\n",
      "성북동 성북동섭지코지 정보 없음\n",
      "종암동 화로구이조선 정보 없음\n",
      "삼선동 가재야 정보 없음\n",
      "장위제2동 갈비둥지 어해랑 정보 없음\n",
      "삼선동 한우설렁탕 정보 없음\n",
      "안암동 더씨(The C) 정보 없음\n",
      "안암동 본죽&비빔밥 고려대점 정보 없음\n",
      "안암동 향나무집 정보 없음\n",
      "동선동 곰탕집 정보 없음\n",
      "동선동 순두부와빈대떡마을 정보 없음\n",
      "석관동 조마루뼈다귀전문점 정보 없음\n",
      "동선동 최네집부대찌개 정보 없음\n",
      "성북동 국화정원 정보 없음\n",
      "돈암제1동 채선당샤브&월남쌈&쭈꾸미&육회 정보 없음\n",
      "돈암제1동 채선당 정보 없음\n",
      "돈암제1동 채선당(길음점) 정보 없음\n",
      "돈암제1동 채선당 길음점 정보 없음\n",
      "정릉제3동 (주)한스갤러리앤코 정보 없음\n",
      "석관동 이웃사촌 정보 없음\n",
      "동선동 선창연가 정보 없음\n",
      "삼선동 춘향골남원추어탕 성북구청점 정보 없음\n",
      "안암동 등촌샤브칼국수 정보 없음\n",
      "종암동 거산프라자다원 정보 없음\n",
      "석관동 원조마포소금구이 정보 없음\n",
      "종암동 반월 정보 없음\n",
      "동선동 봉추찜닭 정보 없음\n",
      "동선동 용범이네 인계동껍데기 성신여대점 정보 없음\n",
      "동선동 곱도리식당 성신여대점 정보 없음\n",
      "동선동 은하수식당 정보 없음\n",
      "월곡제2동 메밀촌 정보 없음\n",
      "성북동 금왕돈까스 정보 없음\n",
      "동선동 큰솥감자탕 정보 없음\n",
      "성북동 한강 정보 없음\n",
      "돈암제1동 꿈꾸는이상(주) 갈비명가이상돈암본관 정보 없음\n",
      "성북동 전통설렁탕 정보 없음\n"
     ]
    }
   ],
   "source": [
    "for i, keyword in enumerate(df['kakao_keyword'].tolist()):\n",
    "    print(keyword, end=\" \")\n",
    "    try:\n",
    "        kakao_map_search_url = f\"https://map.kakao.com/?q={keyword}\"\n",
    "        driver.get(kakao_map_search_url)\n",
    "        time.sleep(1)\n",
    "        rate = driver.find_element_by_css_selector(\"#info\\.search\\.place\\.list > li.PlaceItem.clickArea.PlaceItem-ACTIVE > div.rating.clickArea > span.score > em\").text\n",
    "        rateNum = driver.find_element_by_css_selector(\"#info\\.search\\.place\\.list > li.PlaceItem.clickArea.PlaceItem-ACTIVE > div.rating.clickArea > span.score > a\").text\n",
    "            \n",
    "        print(\"리뷰 \" + rateNum + \", 평점 \" + rate)\n",
    "        \n",
    "    except Exception as e1:\n",
    "        print(\"정보 없음\")\n",
    "        pass"
   ]
  },
  {
   "cell_type": "code",
   "execution_count": null,
   "id": "2f74e84d-9daa-4a5c-86b3-95e15bb9c519",
   "metadata": {},
   "outputs": [],
   "source": []
  },
  {
   "cell_type": "code",
   "execution_count": null,
   "id": "211f672e-e864-45a1-acea-9c8b9b0427d0",
   "metadata": {},
   "outputs": [],
   "source": []
  },
  {
   "cell_type": "code",
   "execution_count": null,
   "id": "165fb38b-81d3-4342-8da6-0f73f989918b",
   "metadata": {},
   "outputs": [],
   "source": []
  }
 ],
 "metadata": {
  "kernelspec": {
   "display_name": "Python Multi",
   "language": "python",
   "name": "multi"
  },
  "language_info": {
   "codemirror_mode": {
    "name": "ipython",
    "version": 3
   },
   "file_extension": ".py",
   "mimetype": "text/x-python",
   "name": "python",
   "nbconvert_exporter": "python",
   "pygments_lexer": "ipython3",
   "version": "3.7.6"
  }
 },
 "nbformat": 4,
 "nbformat_minor": 5
}
