{
 "cells": [
  {
   "cell_type": "code",
   "execution_count": 37,
   "id": "854ddfca-2d76-405b-9643-eb9f3fd7b8d3",
   "metadata": {},
   "outputs": [],
   "source": [
    "from bs4 import BeautifulSoup\n",
    "from selenium import webdriver"
   ]
  },
  {
   "cell_type": "code",
   "execution_count": 15,
   "id": "140d728f-2cf3-4245-80e7-5198e0fb0958",
   "metadata": {},
   "outputs": [],
   "source": [
    "import time\n",
    "import warnings\n",
    "\n",
    "warnings.filterwarnings(action='ignore')"
   ]
  },
  {
   "cell_type": "code",
   "execution_count": 47,
   "id": "5d21f07c-efb8-4367-9bab-e8451f9ca06b",
   "metadata": {},
   "outputs": [],
   "source": [
    "urls = 'https://map.kakao.com/'\n",
    "item = '맛집'"
   ]
  },
  {
   "cell_type": "code",
   "execution_count": 46,
   "id": "1fc39cb4-5cca-4457-a2d4-49ad57a7cb94",
   "metadata": {},
   "outputs": [],
   "source": [
    "driver = webdriver.Chrome('../webdriver/chromedriver')"
   ]
  },
  {
   "cell_type": "code",
   "execution_count": 48,
   "id": "603c5317-8561-4a45-b46d-8a265892eb7b",
   "metadata": {},
   "outputs": [],
   "source": [
    "driver.get(urls)"
   ]
  },
  {
   "cell_type": "code",
   "execution_count": 49,
   "id": "970281ae-5e3e-448c-816c-6422e05786ab",
   "metadata": {},
   "outputs": [],
   "source": [
    "searchbox = driver.find_element_by_xpath(\"//input[@id='search.keyword.query']\") # 검색창에 입력하기\n",
    "searchbox.send_keys(item)"
   ]
  },
  {
   "cell_type": "code",
   "execution_count": 50,
   "id": "81025abf-bf8c-4bb4-91be-fe2e8177e7b5",
   "metadata": {},
   "outputs": [],
   "source": [
    "searchbutton = driver.find_element_by_xpath(\"//button[@id='search.keyword.submit']\")\n",
    "driver.execute_script(\"arguments[0].click();\", searchbutton)"
   ]
  },
  {
   "cell_type": "code",
   "execution_count": 54,
   "id": "31195f67-d479-45a0-9408-f7568f58863e",
   "metadata": {},
   "outputs": [
    {
     "ename": "IndentationError",
     "evalue": "unindent does not match any outer indentation level (<tokenize>, line 124)",
     "output_type": "error",
     "traceback": [
      "\u001b[1;36m  File \u001b[1;32m\"<tokenize>\"\u001b[1;36m, line \u001b[1;32m124\u001b[0m\n\u001b[1;33m    else:\u001b[0m\n\u001b[1;37m    ^\u001b[0m\n\u001b[1;31mIndentationError\u001b[0m\u001b[1;31m:\u001b[0m unindent does not match any outer indentation level\n"
     ]
    }
   ],
   "source": [
    "if len(driver.find_elements_by_xpath(\"//a[@class='moreview']\")) != 0:\n",
    "        print('식당 존재')\n",
    "        driver.execute_script('window.open(\"about:blank\", \"_blank\");') # 새 탭 열기\n",
    "        reviewbutton = driver.find_element_by_xpath(\"//a[@class='numberofscore']\")\n",
    "        time.sleep(2)\n",
    "        content_url = reviewbutton.get_attribute(\"href\") \n",
    "        tabs = driver.window_handles\n",
    "        driver.switch_to_window(tabs[1]) # 새 탭으로 이동\n",
    "        driver.get(content_url) # 링크 열기\n",
    "        time.sleep(3)\n",
    "        html = driver.page_source\n",
    "        soup = BeautifulSoup(html, 'html.parser')\n",
    "        review_lists = soup.select('.list_evaluation > li')\n",
    "        print(len(review_lists))\n",
    "        if len(review_lists) != 0 :\n",
    "            for i, review in enumerate(review_lists) :\n",
    "                user_review = review.select('.txt_comment > span') # 리뷰\n",
    "                rating = review.select('.grade_star > em') # 별점\n",
    "                try:\n",
    "                    img_url = review_lists[i].select_one('a.link_photo > img ')['src']\n",
    "                except:\n",
    "                    continue\n",
    "                user_id = review.select('.append_item > a[data-userid]') # user 정보 html 파싱\n",
    "                timestamp = review.select(' div > span.time_write') #시간정보\n",
    "                try:\n",
    "                    row = {\"UserID\":user_id[0].get('data-userid'),\"ItemID\":item,\"Rating\":rating[0].text,\"Timestamp\":timestamp[0].text}\n",
    "                    row = pd.DataFrame(row, index=[i])\n",
    "                    rating_df = rating_df.append(row,ignore_index=True)\n",
    "                    review_row = {\"ItemID\" : item, \"review\" : user_review[0].text}\n",
    "                    review_row = pd.DataFrame(review_row, index=[i])\n",
    "                    review_elem = review_elem.append(review_row, ignore_index = True)\n",
    "                    try :\n",
    "                        img_row = {\"UserID\":user_id[0].get('data-userid'),\"ItemID\" : item, \"img_url\" : img_url}\n",
    "                        img_row = pd.DataFrame(img_row, index=[i])\n",
    "                        img_elem = img_elem.append(img_row, ignore_index=True)\n",
    "                    except :\n",
    "                        img_row = {\"UserID\":None,\"ItemID\" : item, \"img_url\" : None}\n",
    "                        img_row = pd.DataFrame(img_row, index=[i])\n",
    "                        img_elem = img_elem.append(img_row, ignore_index=True)\n",
    "\n",
    "                    time.sleep(3)\n",
    "                except:\n",
    "                    row = {\"UserID\":None,\"ItemID\":item,\"Rating\":None,\"Timestamp\":timestamp[0].text}\n",
    "                    row = pd.DataFrame(row, index=[i])\n",
    "                    rating_df = rating_df.append(row,ignore_index=True)\n",
    "                    review_row = {\"ItemID\" : item, \"review\" : user_review[0].text}\n",
    "                    review_row = pd.DataFrame(review_row, index=[i])\n",
    "                    review_elem = review_elem.append(review_row, ignore_index = True)\n",
    "                    try :\n",
    "                        img_row = {\"UserID\":user_id[0].get('data-userid'),\"ItemID\" : item, \"img_url\" : img_url}\n",
    "                        img_row = pd.DataFrame(img_row, index=[i])\n",
    "                        img_elem = img_elem.append(img_row, ignore_index=True)\n",
    "                    except :\n",
    "                        img_row = {\"UserID\":user_id[0].get('data-userid'),\"ItemID\" : item, \"img_url\" : None}\n",
    "                        img_row = pd.DataFrame(img_row, index=[i])\n",
    "                        img_elem = img_elem.append(img_row, ignore_index=True)\n",
    "                    time.sleep(1)\n",
    "\n",
    "                \n",
    "                    \n",
    "        else :\n",
    "            print(\"리뷰가 없습니다\")\n",
    "            \n",
    "        try:\n",
    "            for i in range(2,500):\n",
    "                time.sleep(3)\n",
    "                another_review = driver.find_element_by_xpath(\"//a[@data-page='\" + str(i) + \"']\")\n",
    "                another_review.click()\n",
    "                time.sleep(3)\n",
    "                html = driver.page_source\n",
    "                soup = BeautifulSoup(html, 'html.parser')\n",
    "                review_lists = soup.select('.list_evaluation > li')\n",
    "                if len(review_lists) != 0 :\n",
    "                    for i, review in enumerate(review_lists) :\n",
    "                        user_review = review.select('.txt_comment > span') # 리뷰\n",
    "                        rating = review.select('.grade_star > em') # 별점\n",
    "                        try:\n",
    "                            img_url = review_lists[i].select_one('a.link_photo > img ')['src']\n",
    "                        except:\n",
    "                            continue\n",
    "                        user_id = review.select('.append_item > a[data-userid]') # user 정보 html 파싱\n",
    "                        timestamp = review.select(' div > span.time_write') #시간정보\n",
    "                        try:\n",
    "                            row = {\"UserID\":user_id[0].get('data-userid'),\"ItemID\":item,\"Rating\":rating[0].text,\"Timestamp\":timestamp[0].text}\n",
    "                            row = pd.DataFrame(row, index=[i])\n",
    "                            rating_df = rating_df.append(row,ignore_index=True)\n",
    "                            review_row = {\"UserID\":user_id[0].get('data-userid'), \"ItemID\" : item, \"review\" : user_review[0].text}\n",
    "                            review_row = pd.DataFrame(review_row, index=[i])\n",
    "                            review_elem = review_elem.append(review_row, ignore_index = True)\n",
    "                            try:\n",
    "                                img_row = {\"UserID\":user_id[0].get('data-userid'),\"ItemID\" : item, \"img_url\" : img_url}\n",
    "                                img_row = pd.DataFrame(img_row, index=[i])\n",
    "                                img_elem = img_elem.append(img_row, ignore_index=True)\n",
    "                            except:\n",
    "                                img_row = {\"UserID\":user_id[0].get('data-userid'),\"ItemID\" : item, \"img_url\" : None}\n",
    "                                img_row = pd.DataFrame(img_row, index=[i])\n",
    "                                img_elem = img_elem.append(img_row, ignore_index=True)\n",
    "                            time.sleep(1)\n",
    "                            \n",
    "                        except:\n",
    "                            row = {\"UserID\":None,\"ItemID\":item,\"Rating\":None,\"Timestamp\":timestamp[0].text}\n",
    "                            row = pd.DataFrame(row, index=[i])\n",
    "                            rating_df = rating_df.append(row,ignore_index=True)\n",
    "                            review_row = {\"UserID\":user_id[0].get('data-userid'),\"ItemID\" : item, \"review\" : user_review[0].text}\n",
    "                            review_row = pd.DataFrame(review_row, index=[i])\n",
    "                            review_elem = review_elem.append(review_row, ignore_index = True)\n",
    "                            try :\n",
    "                                img_row = {\"UserID\":user_id[0].get('data-userid'),\"ItemID\" : item, \"img_url\" : img_url}\n",
    "                                img_row = pd.DataFrame(img_row, index=[i])\n",
    "                                img_elem = img_elem.append(img_row, ignore_index=True)\n",
    "                            except :\n",
    "                                img_row = {\"UserID\":user_id[0].get('data-userid'),\"ItemID\" : item, \"img_url\" : None}\n",
    "                                img_row = pd.DataFrame(img_row, index=[i])\n",
    "                                img_elem = img_elem.append(img_row, ignore_index=True)\n",
    "                            \n",
    "                        \n",
    "                            \n",
    "        except:\n",
    "            print(\"더 이상 리뷰 존재 X\")\n",
    "            driver.close()\n",
    "        driver.switch_to_window(tabs[0])\n",
    "        print(\"기본 페이지로 돌아가자\")\n",
    "            \n",
    "    else:\n",
    "        print(\"식당 존재 x\")\n",
    "        \n",
    "else:\n",
    "    pass"
   ]
  },
  {
   "cell_type": "code",
   "execution_count": 13,
   "id": "2dfd0919-235c-46ac-898b-07185b7777bd",
   "metadata": {},
   "outputs": [],
   "source": [
    "driver.close()"
   ]
  },
  {
   "cell_type": "code",
   "execution_count": null,
   "id": "eb6f701e-5cf4-48de-8fec-158f6ade3da5",
   "metadata": {},
   "outputs": [],
   "source": []
  }
 ],
 "metadata": {
  "kernelspec": {
   "display_name": "Python Multi",
   "language": "python",
   "name": "multi"
  },
  "language_info": {
   "codemirror_mode": {
    "name": "ipython",
    "version": 3
   },
   "file_extension": ".py",
   "mimetype": "text/x-python",
   "name": "python",
   "nbconvert_exporter": "python",
   "pygments_lexer": "ipython3",
   "version": "3.7.6"
  }
 },
 "nbformat": 4,
 "nbformat_minor": 5
}
