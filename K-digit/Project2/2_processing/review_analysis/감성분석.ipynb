{
 "cells": [
  {
   "cell_type": "markdown",
   "metadata": {
    "id": "cG8oV7q1vqOs"
   },
   "source": []
  },
  {
   "cell_type": "markdown",
   "metadata": {
    "id": "Ec9aqvo1NfWv"
   },
   "source": [
    "기초분석\n",
    "1. 기본 시각화\n",
    "\t1. 지역별 가장 리뷰가 많고 별점이 높은 맛집\n",
    "\t2. 리뷰 단어 빈도수 히스토그램 및 워드클라우드(전체/지역별)\n",
    "2. 지도에 특정 음식점이 모여있는 지역 표시(STORE의 카테고리 통해)\n",
    "심화 분석\n",
    "1. 감성분석 통해 리뷰 예측((https://wikidocs.net/44249),(https://chaelist.github.io/docs/ml_application/sentiment_analysis/))\n",
    "2. 리뷰 기반 맛집 추천(https://data101.oopy.io/recommendation-engine-cosine-similarity)\n",
    "3. word2vec 사용해 특정 단어와 유사한 단어 추출(https://wikidocs.net/50739)"
   ]
  },
  {
   "cell_type": "code",
   "execution_count": 1,
   "metadata": {
    "id": "pFyGhOrpvm65"
   },
   "outputs": [
    {
     "ename": "ModuleNotFoundError",
     "evalue": "No module named 'google'",
     "output_type": "error",
     "traceback": [
      "\u001b[1;31m---------------------------------------------------------------------------\u001b[0m",
      "\u001b[1;31mModuleNotFoundError\u001b[0m                       Traceback (most recent call last)",
      "\u001b[1;32m<ipython-input-1-d5df0069828e>\u001b[0m in \u001b[0;36m<module>\u001b[1;34m\u001b[0m\n\u001b[1;32m----> 1\u001b[1;33m \u001b[1;32mfrom\u001b[0m \u001b[0mgoogle\u001b[0m\u001b[1;33m.\u001b[0m\u001b[0mcolab\u001b[0m \u001b[1;32mimport\u001b[0m \u001b[0mdrive\u001b[0m\u001b[1;33m\u001b[0m\u001b[1;33m\u001b[0m\u001b[0m\n\u001b[0m\u001b[0;32m      2\u001b[0m \u001b[0mdrive\u001b[0m\u001b[1;33m.\u001b[0m\u001b[0mmount\u001b[0m\u001b[1;33m(\u001b[0m\u001b[1;34m'/content/drive'\u001b[0m\u001b[1;33m)\u001b[0m\u001b[1;33m\u001b[0m\u001b[1;33m\u001b[0m\u001b[0m\n",
      "\u001b[1;31mModuleNotFoundError\u001b[0m: No module named 'google'"
     ]
    }
   ],
   "source": [
    "from google.colab import drive\n",
    "drive.mount('/content/drive')"
   ]
  },
  {
   "cell_type": "code",
   "execution_count": null,
   "metadata": {
    "executionInfo": {
     "elapsed": 8,
     "status": "aborted",
     "timestamp": 1629164087835,
     "user": {
      "displayName": "강민규",
      "photoUrl": "",
      "userId": "12444287606709526479"
     },
     "user_tz": -540
    },
    "id": "V5MHvthvvu7v"
   },
   "outputs": [],
   "source": [
    "'''#한글 깨짐 현상 수정\n",
    "!sudo apt-get install -y fonts-nanum\n",
    "!sudo fc-cache -fv\n",
    "!rm ~/.cache/matplotlib -rf'''"
   ]
  },
  {
   "cell_type": "code",
   "execution_count": null,
   "metadata": {
    "id": "EbksIXhwyOXF"
   },
   "outputs": [],
   "source": [
    "!pip install konlpy"
   ]
  },
  {
   "cell_type": "code",
   "execution_count": null,
   "metadata": {},
   "outputs": [],
   "source": []
  },
  {
   "cell_type": "code",
   "execution_count": 5,
   "metadata": {
    "executionInfo": {
     "elapsed": 1053,
     "status": "ok",
     "timestamp": 1629177968072,
     "user": {
      "displayName": "강민규",
      "photoUrl": "",
      "userId": "12444287606709526479"
     },
     "user_tz": -540
    },
    "id": "zpHgOxE-yLRL"
   },
   "outputs": [],
   "source": [
    "# 사용할 library를 먼저 모두 import\n",
    "import pandas as pd\n",
    "import numpy as np\n",
    "import konlpy\n",
    "import re\n",
    "from sklearn.feature_extraction.text import CountVectorizer   # tf-idf 방식을 사용하려면 대신 TfidfVectorizer를 import\n",
    "from sklearn.model_selection import train_test_split\n",
    "from sklearn.linear_model import LogisticRegression\n",
    "from sklearn.metrics import accuracy_score"
   ]
  },
  {
   "cell_type": "code",
   "execution_count": 6,
   "metadata": {
    "executionInfo": {
     "elapsed": 269,
     "status": "ok",
     "timestamp": 1629177970974,
     "user": {
      "displayName": "강민규",
      "photoUrl": "",
      "userId": "12444287606709526479"
     },
     "user_tz": -540
    },
    "id": "zo2zGutrvxWW"
   },
   "outputs": [],
   "source": [
    "import pandas as pd\n",
    "import matplotlib.pyplot as plt\n",
    "%matplotlib inline\n",
    "import numpy as np\n",
    "import seaborn as sns\n",
    "import matplotlib.pyplot as plt\n",
    "\n",
    "plt.rc('font', family='NanumBarunGothic') "
   ]
  },
  {
   "cell_type": "code",
   "execution_count": 7,
   "metadata": {
    "colab": {
     "base_uri": "https://localhost:8080/",
     "height": 204
    },
    "executionInfo": {
     "elapsed": 268,
     "status": "ok",
     "timestamp": 1629177972873,
     "user": {
      "displayName": "강민규",
      "photoUrl": "",
      "userId": "12444287606709526479"
     },
     "user_tz": -540
    },
    "id": "wZpUVDrDv2Yl",
    "outputId": "e658422a-ebea-4554-94e1-82d2cb601b0a"
   },
   "outputs": [
    {
     "data": {
      "text/html": [
       "<div>\n",
       "<style scoped>\n",
       "    .dataframe tbody tr th:only-of-type {\n",
       "        vertical-align: middle;\n",
       "    }\n",
       "\n",
       "    .dataframe tbody tr th {\n",
       "        vertical-align: top;\n",
       "    }\n",
       "\n",
       "    .dataframe thead th {\n",
       "        text-align: right;\n",
       "    }\n",
       "</style>\n",
       "<table border=\"1\" class=\"dataframe\">\n",
       "  <thead>\n",
       "    <tr style=\"text-align: right;\">\n",
       "      <th></th>\n",
       "      <th>review_code</th>\n",
       "      <th>place_code</th>\n",
       "      <th>ItemID</th>\n",
       "      <th>UserID</th>\n",
       "      <th>review</th>\n",
       "      <th>Rating</th>\n",
       "      <th>Timestamp</th>\n",
       "    </tr>\n",
       "  </thead>\n",
       "  <tbody>\n",
       "    <tr>\n",
       "      <th>0</th>\n",
       "      <td>SB000001</td>\n",
       "      <td>STORE_SB0001</td>\n",
       "      <td>성북동메밀수제비누룽지백숙</td>\n",
       "      <td>te9a7m</td>\n",
       "      <td>너무비싸</td>\n",
       "      <td>2.0</td>\n",
       "      <td>2021.08.08.</td>\n",
       "    </tr>\n",
       "    <tr>\n",
       "      <th>1</th>\n",
       "      <td>SB000002</td>\n",
       "      <td>STORE_SB0001</td>\n",
       "      <td>성북동메밀수제비누룽지백숙</td>\n",
       "      <td>7kup8e</td>\n",
       "      <td>맛은 좋으나 기다림이 문제</td>\n",
       "      <td>3.0</td>\n",
       "      <td>2021.07.14.</td>\n",
       "    </tr>\n",
       "    <tr>\n",
       "      <th>2</th>\n",
       "      <td>SB000003</td>\n",
       "      <td>STORE_SB0001</td>\n",
       "      <td>성북동메밀수제비누룽지백숙</td>\n",
       "      <td>fkfake</td>\n",
       "      <td>NaN</td>\n",
       "      <td>3.0</td>\n",
       "      <td>2021.06.26.</td>\n",
       "    </tr>\n",
       "    <tr>\n",
       "      <th>3</th>\n",
       "      <td>SB000004</td>\n",
       "      <td>STORE_SB0001</td>\n",
       "      <td>성북동메밀수제비누룽지백숙</td>\n",
       "      <td>g8k5fl</td>\n",
       "      <td>들깨수제비까지 욕심부리면 배터집니다. 백숙과 메일전이면 충분 남은 음식 포장 가능</td>\n",
       "      <td>4.0</td>\n",
       "      <td>2021.06.20.</td>\n",
       "    </tr>\n",
       "    <tr>\n",
       "      <th>4</th>\n",
       "      <td>SB000005</td>\n",
       "      <td>STORE_SB0001</td>\n",
       "      <td>성북동메밀수제비누룽지백숙</td>\n",
       "      <td>n5mvk0</td>\n",
       "      <td>굿 애프터하이크 푸드</td>\n",
       "      <td>4.0</td>\n",
       "      <td>2021.05.23.</td>\n",
       "    </tr>\n",
       "  </tbody>\n",
       "</table>\n",
       "</div>"
      ],
      "text/plain": [
       "  review_code    place_code  ... Rating    Timestamp\n",
       "0    SB000001  STORE_SB0001  ...    2.0  2021.08.08.\n",
       "1    SB000002  STORE_SB0001  ...    3.0  2021.07.14.\n",
       "2    SB000003  STORE_SB0001  ...    3.0  2021.06.26.\n",
       "3    SB000004  STORE_SB0001  ...    4.0  2021.06.20.\n",
       "4    SB000005  STORE_SB0001  ...    4.0  2021.05.23.\n",
       "\n",
       "[5 rows x 7 columns]"
      ]
     },
     "execution_count": 7,
     "metadata": {
      "tags": []
     },
     "output_type": "execute_result"
    }
   ],
   "source": [
    "reviews_df = pd.read_csv('rating_df.csv', encoding='utf-8')\n",
    "reviews_df.drop(['Unnamed: 0'], axis=1, inplace=True)\n",
    "reviews_df.head()"
   ]
  },
  {
   "cell_type": "code",
   "execution_count": 8,
   "metadata": {
    "colab": {
     "base_uri": "https://localhost:8080/"
    },
    "executionInfo": {
     "elapsed": 5,
     "status": "ok",
     "timestamp": 1629177973750,
     "user": {
      "displayName": "강민규",
      "photoUrl": "",
      "userId": "12444287606709526479"
     },
     "user_tz": -540
    },
    "id": "N4Mb7zIBwEjS",
    "outputId": "1c0e5087-0d41-449d-ee84-f447e7197513"
   },
   "outputs": [
    {
     "data": {
      "text/plain": [
       "review_code       0\n",
       "place_code        0\n",
       "ItemID            0\n",
       "UserID         4592\n",
       "review         2945\n",
       "Rating         1412\n",
       "Timestamp         0\n",
       "dtype: int64"
      ]
     },
     "execution_count": 8,
     "metadata": {
      "tags": []
     },
     "output_type": "execute_result"
    }
   ],
   "source": [
    "reviews_df.isna().sum()"
   ]
  },
  {
   "cell_type": "code",
   "execution_count": 9,
   "metadata": {
    "executionInfo": {
     "elapsed": 3,
     "status": "ok",
     "timestamp": 1629177974837,
     "user": {
      "displayName": "강민규",
      "photoUrl": "",
      "userId": "12444287606709526479"
     },
     "user_tz": -540
    },
    "id": "-hwIo58EwQvs"
   },
   "outputs": [],
   "source": [
    "#결측치 제거\n",
    "reviews = reviews_df.dropna(axis=0)"
   ]
  },
  {
   "cell_type": "code",
   "execution_count": 10,
   "metadata": {
    "colab": {
     "base_uri": "https://localhost:8080/"
    },
    "executionInfo": {
     "elapsed": 398,
     "status": "ok",
     "timestamp": 1629177976766,
     "user": {
      "displayName": "강민규",
      "photoUrl": "",
      "userId": "12444287606709526479"
     },
     "user_tz": -540
    },
    "id": "0mrp8l_lxLb2",
    "outputId": "cde3f86e-8bc7-4feb-eb20-84bf539b9539"
   },
   "outputs": [
    {
     "data": {
      "text/plain": [
       "review_code    0\n",
       "place_code     0\n",
       "ItemID         0\n",
       "UserID         0\n",
       "review         0\n",
       "Rating         0\n",
       "Timestamp      0\n",
       "dtype: int64"
      ]
     },
     "execution_count": 10,
     "metadata": {
      "tags": []
     },
     "output_type": "execute_result"
    }
   ],
   "source": [
    "reviews.isna().sum()"
   ]
  },
  {
   "cell_type": "code",
   "execution_count": 11,
   "metadata": {
    "colab": {
     "base_uri": "https://localhost:8080/",
     "height": 204
    },
    "executionInfo": {
     "elapsed": 270,
     "status": "ok",
     "timestamp": 1629177978723,
     "user": {
      "displayName": "강민규",
      "photoUrl": "",
      "userId": "12444287606709526479"
     },
     "user_tz": -540
    },
    "id": "5AbujTBhxOUJ",
    "outputId": "fe0d4c67-5da0-4310-ca87-b6ceadbae000"
   },
   "outputs": [
    {
     "data": {
      "text/html": [
       "<div>\n",
       "<style scoped>\n",
       "    .dataframe tbody tr th:only-of-type {\n",
       "        vertical-align: middle;\n",
       "    }\n",
       "\n",
       "    .dataframe tbody tr th {\n",
       "        vertical-align: top;\n",
       "    }\n",
       "\n",
       "    .dataframe thead th {\n",
       "        text-align: right;\n",
       "    }\n",
       "</style>\n",
       "<table border=\"1\" class=\"dataframe\">\n",
       "  <thead>\n",
       "    <tr style=\"text-align: right;\">\n",
       "      <th></th>\n",
       "      <th>review_code</th>\n",
       "      <th>place_code</th>\n",
       "      <th>ItemID</th>\n",
       "      <th>UserID</th>\n",
       "      <th>review</th>\n",
       "      <th>Rating</th>\n",
       "      <th>Timestamp</th>\n",
       "    </tr>\n",
       "  </thead>\n",
       "  <tbody>\n",
       "    <tr>\n",
       "      <th>0</th>\n",
       "      <td>SB000001</td>\n",
       "      <td>STORE_SB0001</td>\n",
       "      <td>성북동메밀수제비누룽지백숙</td>\n",
       "      <td>te9a7m</td>\n",
       "      <td>너무비싸</td>\n",
       "      <td>2.0</td>\n",
       "      <td>2021.08.08.</td>\n",
       "    </tr>\n",
       "    <tr>\n",
       "      <th>1</th>\n",
       "      <td>SB000002</td>\n",
       "      <td>STORE_SB0001</td>\n",
       "      <td>성북동메밀수제비누룽지백숙</td>\n",
       "      <td>7kup8e</td>\n",
       "      <td>맛은 좋으나 기다림이 문제</td>\n",
       "      <td>3.0</td>\n",
       "      <td>2021.07.14.</td>\n",
       "    </tr>\n",
       "    <tr>\n",
       "      <th>3</th>\n",
       "      <td>SB000004</td>\n",
       "      <td>STORE_SB0001</td>\n",
       "      <td>성북동메밀수제비누룽지백숙</td>\n",
       "      <td>g8k5fl</td>\n",
       "      <td>들깨수제비까지 욕심부리면 배터집니다. 백숙과 메일전이면 충분 남은 음식 포장 가능</td>\n",
       "      <td>4.0</td>\n",
       "      <td>2021.06.20.</td>\n",
       "    </tr>\n",
       "    <tr>\n",
       "      <th>4</th>\n",
       "      <td>SB000005</td>\n",
       "      <td>STORE_SB0001</td>\n",
       "      <td>성북동메밀수제비누룽지백숙</td>\n",
       "      <td>n5mvk0</td>\n",
       "      <td>굿 애프터하이크 푸드</td>\n",
       "      <td>4.0</td>\n",
       "      <td>2021.05.23.</td>\n",
       "    </tr>\n",
       "    <tr>\n",
       "      <th>5</th>\n",
       "      <td>SB000006</td>\n",
       "      <td>STORE_SB0001</td>\n",
       "      <td>성북동메밀수제비누룽지백숙</td>\n",
       "      <td>1dtoiih</td>\n",
       "      <td>좋아 함. 그래서 자주 감. 근데 닭보다 누룽지가 훨 맛있음. 누룽지를 먹기 위해 ...</td>\n",
       "      <td>4.0</td>\n",
       "      <td>2021.05.13.</td>\n",
       "    </tr>\n",
       "  </tbody>\n",
       "</table>\n",
       "</div>"
      ],
      "text/plain": [
       "  review_code    place_code  ... Rating    Timestamp\n",
       "0    SB000001  STORE_SB0001  ...    2.0  2021.08.08.\n",
       "1    SB000002  STORE_SB0001  ...    3.0  2021.07.14.\n",
       "3    SB000004  STORE_SB0001  ...    4.0  2021.06.20.\n",
       "4    SB000005  STORE_SB0001  ...    4.0  2021.05.23.\n",
       "5    SB000006  STORE_SB0001  ...    4.0  2021.05.13.\n",
       "\n",
       "[5 rows x 7 columns]"
      ]
     },
     "execution_count": 11,
     "metadata": {
      "tags": []
     },
     "output_type": "execute_result"
    }
   ],
   "source": [
    "reviews.head()"
   ]
  },
  {
   "cell_type": "code",
   "execution_count": 12,
   "metadata": {
    "executionInfo": {
     "elapsed": 266,
     "status": "ok",
     "timestamp": 1629177980823,
     "user": {
      "displayName": "강민규",
      "photoUrl": "",
      "userId": "12444287606709526479"
     },
     "user_tz": -540
    },
    "id": "1cIBqTp8xSRK"
   },
   "outputs": [],
   "source": [
    "# 텍스트를 tokenize해서 adjective, verb, noun만 추출하는 함수\n",
    "\n",
    "def tokenize_korean_text(text): \n",
    "    text_filtered = re.sub('[^,.?!\\w\\s]','', text)\n",
    "\n",
    "    okt = konlpy.tag.Okt() \n",
    "    Okt_morphs = okt.pos(text_filtered) \n",
    "\n",
    "    words = []\n",
    "    for word, pos in Okt_morphs:\n",
    "        if pos == 'Adjective' or pos == 'Verb' or pos == 'Noun':\n",
    "            words.append(word)\n",
    "\n",
    "    words_str = ' '.join(words)\n",
    "    return words_str"
   ]
  },
  {
   "cell_type": "code",
   "execution_count": 13,
   "metadata": {
    "colab": {
     "base_uri": "https://localhost:8080/"
    },
    "executionInfo": {
     "elapsed": 44673,
     "status": "ok",
     "timestamp": 1629178026168,
     "user": {
      "displayName": "강민규",
      "photoUrl": "",
      "userId": "12444287606709526479"
     },
     "user_tz": -540
    },
    "id": "5tQtnKZExfNT",
    "outputId": "2c47c79a-9154-4268-ad4c-2186f8ec2af0"
   },
   "outputs": [
    {
     "name": "stdout",
     "output_type": "stream",
     "text": [
      "원래 text 수: 9086\n",
      "['비싸', '맛 좋으나 기다림 문제', '들깨 수제비 욕심 부리면 배 터집니다 백숙 메일 전이 충분 남은 음식 포장 가능', '굿 애프터 이크 푸드', '좋아 함 자주 감 닭 누룽지 훨 맛있음 누룽지 먹기 위해 닭백숙 시켜야 하는 슬픈 현실 센터 살코기 조금 넣고 누룽지 죽 메뉴 좀 파세요 인분 먹을 의향 있음']\n"
     ]
    }
   ],
   "source": [
    "X_texts = []\n",
    "y = []\n",
    "\n",
    "for star, comment in zip(reviews['Rating'], reviews['review']):\n",
    "\n",
    "  tokenized_comment = tokenize_korean_text(comment)  # 위에서 만들었던 함수로 comment 쪼개기\n",
    "  X_texts.append(tokenized_comment)\n",
    "\n",
    "  y.append(1 if star > 3 else -1)\n",
    "    # 평점이 8 이상이면(8,9,10) 값을 1로 지정 (positive)\n",
    "    # 평점이 3 이하이면(1,2,3) 값을 -1로 지정 (negative)\n",
    "\n",
    "print(f'원래 text 수: {len(reviews)}')\n",
    "# print(f'평점 3 이하 혹은 8 이상인 text 수: {len(X_texts)}')\n",
    "print(X_texts[:5])"
   ]
  },
  {
   "cell_type": "markdown",
   "metadata": {
    "id": "W452PLY70DQi"
   },
   "source": [
    "## Logistic Regression으로 학습\n",
    "train_test_split & vector화\n"
   ]
  },
  {
   "cell_type": "code",
   "execution_count": 14,
   "metadata": {
    "executionInfo": {
     "elapsed": 287,
     "status": "ok",
     "timestamp": 1629178041061,
     "user": {
      "displayName": "강민규",
      "photoUrl": "",
      "userId": "12444287606709526479"
     },
     "user_tz": -540
    },
    "id": "wvXvRqIXyDfX"
   },
   "outputs": [],
   "source": [
    "# train_test_split\n",
    "X_train_texts, X_test_texts, y_train, y_test = train_test_split(X_texts, y, test_size=0.2, random_state=0)"
   ]
  },
  {
   "cell_type": "code",
   "execution_count": 15,
   "metadata": {
    "executionInfo": {
     "elapsed": 321,
     "status": "ok",
     "timestamp": 1629178042439,
     "user": {
      "displayName": "강민규",
      "photoUrl": "",
      "userId": "12444287606709526479"
     },
     "user_tz": -540
    },
    "id": "J30I5moP0Jcd"
   },
   "outputs": [],
   "source": [
    "# CountVectorizer로 vector화\n",
    "tf_vectorizer = CountVectorizer(min_df=1, ngram_range=(1,1))\n",
    "X_train_tf = tf_vectorizer.fit_transform(X_train_texts)  # training data에 맞게 fit & training data를 transform\n",
    "X_test_tf = tf_vectorizer.transform(X_test_texts) # test data를 transform\n",
    "\n",
    "vocablist = [word for word, number in sorted(tf_vectorizer.vocabulary_.items(), key=lambda x:x[1])]  # 단어들을 번호 기준 내림차순으로 저장"
   ]
  },
  {
   "cell_type": "code",
   "execution_count": 16,
   "metadata": {
    "colab": {
     "base_uri": "https://localhost:8080/"
    },
    "executionInfo": {
     "elapsed": 3,
     "status": "ok",
     "timestamp": 1629178043536,
     "user": {
      "displayName": "강민규",
      "photoUrl": "",
      "userId": "12444287606709526479"
     },
     "user_tz": -540
    },
    "id": "Xzx6h0zQ0Mc7",
    "outputId": "59b4fcb1-6672-449d-d52c-99dbc108ad8c"
   },
   "outputs": [
    {
     "name": "stdout",
     "output_type": "stream",
     "text": [
      "  (0, 4980)\t1\n",
      "  (0, 8620)\t1\n",
      "  (0, 14701)\t1\n",
      "  (0, 5820)\t1\n",
      "  (0, 7470)\t1\n",
      "  (0, 13214)\t1\n",
      "  (0, 12503)\t1\n",
      "  (0, 5657)\t1\n",
      "  (0, 5803)\t1\n",
      "  (0, 980)\t1\n",
      "  (0, 3497)\t1 \n",
      "\n",
      "  (0, 15)\t1\n",
      "  (0, 544)\t1\n",
      "  (0, 1017)\t1\n",
      "  (0, 1530)\t1\n",
      "  (0, 1720)\t1\n",
      "  (0, 5439)\t1\n",
      "  (0, 5946)\t1\n",
      "  (0, 6932)\t1\n",
      "  (0, 6986)\t1\n",
      "  (0, 9004)\t1\n",
      "  (0, 9227)\t1\n",
      "  (0, 11152)\t1\n",
      "  (0, 11386)\t1\n",
      "  (0, 13214)\t1\n",
      "  (0, 13498)\t1\n",
      "  (0, 14506)\t1\n",
      "  (0, 14817)\t1\n",
      "  (0, 16424)\t1 \n",
      "\n",
      "['가게', '가게네요', '가게되']\n"
     ]
    }
   ],
   "source": [
    "## 확인해보기\n",
    "print(X_train_tf[:1], '\\n')\n",
    "print(X_test_tf[:1], '\\n')\n",
    "print(vocablist[:3])"
   ]
  },
  {
   "cell_type": "markdown",
   "metadata": {
    "id": "M0fB9qce0Rvu"
   },
   "source": [
    "학습 & test data 예측\n"
   ]
  },
  {
   "cell_type": "code",
   "execution_count": 17,
   "metadata": {
    "colab": {
     "base_uri": "https://localhost:8080/"
    },
    "executionInfo": {
     "elapsed": 647,
     "status": "ok",
     "timestamp": 1629178046972,
     "user": {
      "displayName": "강민규",
      "photoUrl": "",
      "userId": "12444287606709526479"
     },
     "user_tz": -540
    },
    "id": "qIcz9kyp0OcN",
    "outputId": "ca69e4a7-3962-4eee-92c8-a8f9a90ef591"
   },
   "outputs": [
    {
     "data": {
      "text/plain": [
       "LogisticRegression(C=0.1, class_weight=None, dual=False, fit_intercept=True,\n",
       "                   intercept_scaling=1, l1_ratio=None, max_iter=100,\n",
       "                   multi_class='auto', n_jobs=None, penalty='l2',\n",
       "                   random_state=0, solver='lbfgs', tol=0.0001, verbose=0,\n",
       "                   warm_start=False)"
      ]
     },
     "execution_count": 17,
     "metadata": {
      "tags": []
     },
     "output_type": "execute_result"
    }
   ],
   "source": [
    "model = LogisticRegression(C=0.1, penalty='l2', random_state=0)\n",
    "model.fit(X_train_tf, y_train)  # 학습"
   ]
  },
  {
   "cell_type": "code",
   "execution_count": 18,
   "metadata": {
    "colab": {
     "base_uri": "https://localhost:8080/"
    },
    "executionInfo": {
     "elapsed": 3,
     "status": "ok",
     "timestamp": 1629178048156,
     "user": {
      "displayName": "강민규",
      "photoUrl": "",
      "userId": "12444287606709526479"
     },
     "user_tz": -540
    },
    "id": "F7ri8Wm50URd",
    "outputId": "d09453ff-5b5b-4d03-f9c9-22c81824f253"
   },
   "outputs": [
    {
     "data": {
      "text/plain": [
       "LogisticRegression(C=0.1, class_weight=None, dual=False, fit_intercept=True,\n",
       "                   intercept_scaling=1, l1_ratio=None, max_iter=100,\n",
       "                   multi_class='auto', n_jobs=None, penalty='l2',\n",
       "                   random_state=0, solver='lbfgs', tol=0.0001, verbose=0,\n",
       "                   warm_start=False)"
      ]
     },
     "execution_count": 18,
     "metadata": {
      "tags": []
     },
     "output_type": "execute_result"
    }
   ],
   "source": [
    "LogisticRegression(C=0.1, class_weight=None, dual=False, fit_intercept=True,\n",
    "                   intercept_scaling=1, l1_ratio=None, max_iter=100,\n",
    "                   multi_class='auto', n_jobs=None, penalty='l2',\n",
    "                   random_state=0, solver='lbfgs', tol=0.0001, verbose=0,\n",
    "                   warm_start=False)"
   ]
  },
  {
   "cell_type": "code",
   "execution_count": 19,
   "metadata": {
    "colab": {
     "base_uri": "https://localhost:8080/"
    },
    "executionInfo": {
     "elapsed": 3,
     "status": "ok",
     "timestamp": 1629178049741,
     "user": {
      "displayName": "강민규",
      "photoUrl": "",
      "userId": "12444287606709526479"
     },
     "user_tz": -540
    },
    "id": "kmlzORCm0U6P",
    "outputId": "a792de08-f453-439e-b1a2-5ed0ffe0bb09"
   },
   "outputs": [
    {
     "name": "stdout",
     "output_type": "stream",
     "text": [
      "Misclassified samples: 325 out of 1818\n",
      "Accuracy: 0.82\n"
     ]
    }
   ],
   "source": [
    "y_test_pred = model.predict(X_test_tf)\n",
    "\n",
    "print('Misclassified samples: {} out of {}'.format((y_test_pred != y_test).sum(), len(y_test)))\n",
    "print('Accuracy: {:.2f}'.format(accuracy_score(y_test, y_test_pred)))  # model.score(X_test_tf, y_test)로 계산해도 됨"
   ]
  },
  {
   "cell_type": "markdown",
   "metadata": {
    "id": "5UKJCTKw0ZwU"
   },
   "source": [
    "예측에 중요한 역할을 하는 단어들 확인"
   ]
  },
  {
   "cell_type": "code",
   "execution_count": 26,
   "metadata": {
    "colab": {
     "base_uri": "https://localhost:8080/"
    },
    "executionInfo": {
     "elapsed": 254,
     "status": "ok",
     "timestamp": 1629178178553,
     "user": {
      "displayName": "강민규",
      "photoUrl": "",
      "userId": "12444287606709526479"
     },
     "user_tz": -540
    },
    "id": "QUsegobU0XDL",
    "outputId": "3dfb5a76-6d66-4c75-9235-9a58caff725b"
   },
   "outputs": [
    {
     "name": "stdout",
     "output_type": "stream",
     "text": [
      "긍정적인 단어 Top 10 (높은 평점과 상관관계가 강한 단어들)\n",
      "맛있어요(1.783)\n",
      "최고(1.522)\n",
      "맛있고(1.158)\n",
      "존맛(1.150)\n",
      "좋아요(1.114)\n",
      "친절하시고(0.933)\n",
      "맛있음(0.907)\n",
      "맛있었어요(0.887)\n",
      "맛있습니다(0.885)\n",
      "맛있네요(0.862)\n",
      "\n",
      "부정적인 단어 Top 10 (낮은 평점과 상관관계가 강한 단어들)\n",
      "시켰는데(-0.673)\n",
      "마세요(-0.676)\n",
      "실망(-0.680)\n",
      "다신(-0.717)\n",
      "없음(-0.748)\n",
      "손님(-0.774)\n",
      "그냥(-0.931)\n",
      "최악(-1.076)\n",
      "별로(-1.100)\n",
      "불친절(-1.208)\n"
     ]
    }
   ],
   "source": [
    "coefficients = model.coef_.tolist()\n",
    "\n",
    "sorted_coefficients = sorted(enumerate(coefficients[0]), key=lambda x:x[1], reverse=True)\n",
    "# coefficients(계수)가 큰 값부터 내림차순으로 정렬\n",
    "\n",
    "print('긍정적인 단어 Top 10 (높은 평점과 상관관계가 강한 단어들)')\n",
    "for word_num, coef in sorted_coefficients[:10]:\n",
    "  print('{0:}({1:.3f})'.format(vocablist[word_num], coef))\n",
    "\n",
    "print('\\n부정적인 단어 Top 10 (낮은 평점과 상관관계가 강한 단어들)')\n",
    "for word_num, coef in sorted_coefficients[-10:]: \n",
    "  print('{0:}({1:.3f})'.format(vocablist[word_num], coef))"
   ]
  },
  {
   "cell_type": "markdown",
   "metadata": {
    "id": "RfhgWzT20f3x"
   },
   "source": [
    "새로운 댓글의 긍정/부정 예측해보기\n",
    ": 학습에 포함되지 않았던 영화인 ‘인턴‘에서 댓글을 가져와서 테스트"
   ]
  },
  {
   "cell_type": "code",
   "execution_count": 21,
   "metadata": {
    "executionInfo": {
     "elapsed": 2,
     "status": "ok",
     "timestamp": 1629178054774,
     "user": {
      "displayName": "강민규",
      "photoUrl": "",
      "userId": "12444287606709526479"
     },
     "user_tz": -540
    },
    "id": "9XZlgXBS0byv"
   },
   "outputs": [],
   "source": [
    "# 긍정/부정 테스트용 함수 생성\n",
    "def guess_good_or_bad(text):\n",
    "  text_filtered = text.replace('.', '').replace(',','').replace(\"'\",\"\").replace('·', ' ').replace('=','') \n",
    "\n",
    "  okt = konlpy.tag.Okt() \n",
    "  Okt_morphs = okt.pos(text_filtered) \n",
    "\n",
    "  words = []\n",
    "  for word, pos in Okt_morphs:\n",
    "    if pos == 'Adjective' or pos == 'Verb' or pos == 'Noun':\n",
    "      words.append(word)\n",
    "  words_str = ' '.join(words)\n",
    "  \n",
    "  new_text_tf = tf_vectorizer.transform([words_str])\n",
    "\n",
    "  if model.predict(new_text_tf) == 1:\n",
    "    print('긍정')\n",
    "  else:\n",
    "    print('부정')"
   ]
  },
  {
   "cell_type": "code",
   "execution_count": 22,
   "metadata": {
    "colab": {
     "base_uri": "https://localhost:8080/"
    },
    "executionInfo": {
     "elapsed": 267,
     "status": "ok",
     "timestamp": 1629178056904,
     "user": {
      "displayName": "강민규",
      "photoUrl": "",
      "userId": "12444287606709526479"
     },
     "user_tz": -540
    },
    "id": "pyR9orS-0irC",
    "outputId": "5c307879-f3b3-4c45-902a-4906e1c0cd5e"
   },
   "outputs": [
    {
     "name": "stdout",
     "output_type": "stream",
     "text": [
      "긍정\n"
     ]
    }
   ],
   "source": [
    "guess_good_or_bad('고기랑 채소는 엄청 신선해요~ 사이드 메뉴인 치킨은.. 넘 퍽퍽하네요ㅜㅜ 고기가 맛있어요~! 매장에 기름이 많아서 미끄러우니 조심하세요~^^;; 고기 퀄리티와 맛은 좋아요~!')"
   ]
  },
  {
   "cell_type": "code",
   "execution_count": 23,
   "metadata": {
    "colab": {
     "base_uri": "https://localhost:8080/"
    },
    "executionInfo": {
     "elapsed": 3,
     "status": "ok",
     "timestamp": 1629178057938,
     "user": {
      "displayName": "강민규",
      "photoUrl": "",
      "userId": "12444287606709526479"
     },
     "user_tz": -540
    },
    "id": "KAqyEiu80u26",
    "outputId": "f120cf10-bdda-46fd-c811-7b2449c90082"
   },
   "outputs": [
    {
     "name": "stdout",
     "output_type": "stream",
     "text": [
      "부정\n"
     ]
    }
   ],
   "source": [
    "guess_good_or_bad('별로네요, 인테리어도 칙칙하고 가게에서 냄새도 나요. 음식도 덜 익어서 나왔고 다신 안 올거 같아요')"
   ]
  },
  {
   "cell_type": "code",
   "execution_count": 24,
   "metadata": {
    "colab": {
     "base_uri": "https://localhost:8080/",
     "height": 283
    },
    "executionInfo": {
     "elapsed": 675,
     "status": "ok",
     "timestamp": 1629178060064,
     "user": {
      "displayName": "강민규",
      "photoUrl": "",
      "userId": "12444287606709526479"
     },
     "user_tz": -540
    },
    "id": "qTW1bDRJ1Bx1",
    "outputId": "a1d1b714-c1e8-4eb0-8026-37988f169016"
   },
   "outputs": [
    {
     "data": {
      "text/plain": [
       "<matplotlib.axes._subplots.AxesSubplot at 0x7f31e2953110>"
      ]
     },
     "execution_count": 24,
     "metadata": {
      "tags": []
     },
     "output_type": "execute_result"
    },
    {
     "name": "stderr",
     "output_type": "stream",
     "text": [
      "findfont: Font family ['NanumBarunGothic'] not found. Falling back to DejaVu Sans.\n"
     ]
    },
    {
     "data": {
      "image/png": "[encoded data removed]",
      "text/plain": [
       "<Figure size 432x288 with 1 Axes>"
      ]
     },
     "metadata": {
      "needs_background": "light",
      "tags": []
     },
     "output_type": "display_data"
    }
   ],
   "source": [
    "reviews_df['Rating'].hist()"
   ]
  },
  {
   "cell_type": "code",
   "execution_count": null,
   "metadata": {
    "id": "j2wFt6Xvkoul"
   },
   "outputs": [],
   "source": []
  }
 ],
 "metadata": {
  "colab": {
   "authorship_tag": "ABX9TyNJtlJEjL/7EcG54LYyfI3t",
   "name": "감성분석.ipynb",
   "provenance": []
  },
  "kernelspec": {
   "display_name": "Python 3",
   "language": "python",
   "name": "python3"
  },
  "language_info": {
   "codemirror_mode": {
    "name": "ipython",
    "version": 3
   },
   "file_extension": ".py",
   "mimetype": "text/x-python",
   "name": "python",
   "nbconvert_exporter": "python",
   "pygments_lexer": "ipython3",
   "version": "3.7.6"
  }
 },
 "nbformat": 4,
 "nbformat_minor": 4
}
