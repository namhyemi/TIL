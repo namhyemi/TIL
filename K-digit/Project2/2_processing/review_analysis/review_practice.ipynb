{
 "cells": [
  {
   "cell_type": "code",
   "execution_count": null,
   "id": "ee18f118-2603-4fa0-b858-c23b5516452b",
   "metadata": {},
   "outputs": [],
   "source": []
  },
  {
   "cell_type": "code",
   "execution_count": 1,
   "id": "89f23251-d662-4411-8a30-890e59464c75",
   "metadata": {},
   "outputs": [],
   "source": [
    "# !pip install konlpy"
   ]
  },
  {
   "cell_type": "code",
   "execution_count": 22,
   "id": "f592de7e-058c-47a9-9da5-1b704bc358e0",
   "metadata": {},
   "outputs": [],
   "source": [
    "from sklearn.model_selection import train_test_split\n",
    "\n",
    "import pandas as pd\n",
    "import numpy as np\n",
    "import matplotlib.pyplot as plt\n",
    "\n",
    "import warnings\n",
    "warnings.filterwarnings('ignore')"
   ]
  },
  {
   "cell_type": "code",
   "execution_count": 2,
   "id": "7c2c0fcb-f0d2-4170-a1f0-250f16595df4",
   "metadata": {},
   "outputs": [],
   "source": [
    "import konlpy\n",
    "\n",
    "from collections import Counter"
   ]
  },
  {
   "cell_type": "code",
   "execution_count": 6,
   "id": "6331e611-c8c8-4598-95f8-451db9283901",
   "metadata": {},
   "outputs": [],
   "source": [
    "\n"
   ]
  },
  {
   "cell_type": "code",
   "execution_count": 3,
   "id": "552b4792-0571-45dc-97be-2ed12e693910",
   "metadata": {},
   "outputs": [
    {
     "data": {
      "text/html": [
       "<div>\n",
       "<style scoped>\n",
       "    .dataframe tbody tr th:only-of-type {\n",
       "        vertical-align: middle;\n",
       "    }\n",
       "\n",
       "    .dataframe tbody tr th {\n",
       "        vertical-align: top;\n",
       "    }\n",
       "\n",
       "    .dataframe thead th {\n",
       "        text-align: right;\n",
       "    }\n",
       "</style>\n",
       "<table border=\"1\" class=\"dataframe\">\n",
       "  <thead>\n",
       "    <tr style=\"text-align: right;\">\n",
       "      <th></th>\n",
       "      <th>review_code</th>\n",
       "      <th>place_code</th>\n",
       "      <th>ItemID</th>\n",
       "      <th>UserID</th>\n",
       "      <th>review</th>\n",
       "      <th>Rating</th>\n",
       "      <th>Timestamp</th>\n",
       "    </tr>\n",
       "  </thead>\n",
       "  <tbody>\n",
       "    <tr>\n",
       "      <th>0</th>\n",
       "      <td>SB000001</td>\n",
       "      <td>STORE_SB0001</td>\n",
       "      <td>성북동메밀수제비누룽지백숙</td>\n",
       "      <td>te9a7m</td>\n",
       "      <td>너무비싸</td>\n",
       "      <td>2.0</td>\n",
       "      <td>2021-08-08</td>\n",
       "    </tr>\n",
       "    <tr>\n",
       "      <th>1</th>\n",
       "      <td>SB000002</td>\n",
       "      <td>STORE_SB0001</td>\n",
       "      <td>성북동메밀수제비누룽지백숙</td>\n",
       "      <td>7kup8e</td>\n",
       "      <td>맛은 좋으나 기다림이 문제</td>\n",
       "      <td>3.0</td>\n",
       "      <td>2021-07-14</td>\n",
       "    </tr>\n",
       "    <tr>\n",
       "      <th>2</th>\n",
       "      <td>SB000003</td>\n",
       "      <td>STORE_SB0001</td>\n",
       "      <td>성북동메밀수제비누룽지백숙</td>\n",
       "      <td>fkfake</td>\n",
       "      <td>NaN</td>\n",
       "      <td>3.0</td>\n",
       "      <td>2021-06-26</td>\n",
       "    </tr>\n",
       "    <tr>\n",
       "      <th>3</th>\n",
       "      <td>SB000004</td>\n",
       "      <td>STORE_SB0001</td>\n",
       "      <td>성북동메밀수제비누룽지백숙</td>\n",
       "      <td>g8k5fl</td>\n",
       "      <td>들깨수제비까지 욕심부리면 배터집니다. 백숙과 메일전이면 충분 남은 음식 포장 가능</td>\n",
       "      <td>4.0</td>\n",
       "      <td>2021-06-20</td>\n",
       "    </tr>\n",
       "    <tr>\n",
       "      <th>4</th>\n",
       "      <td>SB000005</td>\n",
       "      <td>STORE_SB0001</td>\n",
       "      <td>성북동메밀수제비누룽지백숙</td>\n",
       "      <td>n5mvk0</td>\n",
       "      <td>굿 애프터하이크 푸드</td>\n",
       "      <td>4.0</td>\n",
       "      <td>2021-05-23</td>\n",
       "    </tr>\n",
       "  </tbody>\n",
       "</table>\n",
       "</div>"
      ],
      "text/plain": [
       "  review_code    place_code         ItemID  UserID  \\\n",
       "0    SB000001  STORE_SB0001  성북동메밀수제비누룽지백숙  te9a7m   \n",
       "1    SB000002  STORE_SB0001  성북동메밀수제비누룽지백숙  7kup8e   \n",
       "2    SB000003  STORE_SB0001  성북동메밀수제비누룽지백숙  fkfake   \n",
       "3    SB000004  STORE_SB0001  성북동메밀수제비누룽지백숙  g8k5fl   \n",
       "4    SB000005  STORE_SB0001  성북동메밀수제비누룽지백숙  n5mvk0   \n",
       "\n",
       "                                          review  Rating  Timestamp  \n",
       "0                                           너무비싸     2.0 2021-08-08  \n",
       "1                                 맛은 좋으나 기다림이 문제     3.0 2021-07-14  \n",
       "2                                            NaN     3.0 2021-06-26  \n",
       "3  들깨수제비까지 욕심부리면 배터집니다. 백숙과 메일전이면 충분 남은 음식 포장 가능     4.0 2021-06-20  \n",
       "4                                    굿 애프터하이크 푸드     4.0 2021-05-23  "
      ]
     },
     "execution_count": 3,
     "metadata": {},
     "output_type": "execute_result"
    }
   ],
   "source": [
    "reviews_df = pd.read_csv('rating_df.csv', encoding='utf-8', index_col=0, parse_dates=['Timestamp'])\n",
    "reviews_df.head()"
   ]
  },
  {
   "cell_type": "code",
   "execution_count": 4,
   "id": "7eaadeb7-bd3e-4f67-b4e0-539b93cddd1f",
   "metadata": {},
   "outputs": [
    {
     "name": "stdout",
     "output_type": "stream",
     "text": [
      "<class 'pandas.core.frame.DataFrame'>\n",
      "Int64Index: 15420 entries, 0 to 15419\n",
      "Data columns (total 7 columns):\n",
      " #   Column       Non-Null Count  Dtype         \n",
      "---  ------       --------------  -----         \n",
      " 0   review_code  15420 non-null  object        \n",
      " 1   place_code   15420 non-null  object        \n",
      " 2   ItemID       15420 non-null  object        \n",
      " 3   UserID       10828 non-null  object        \n",
      " 4   review       12475 non-null  object        \n",
      " 5   Rating       14008 non-null  float64       \n",
      " 6   Timestamp    15420 non-null  datetime64[ns]\n",
      "dtypes: datetime64[ns](1), float64(1), object(5)\n",
      "memory usage: 963.8+ KB\n"
     ]
    }
   ],
   "source": [
    "reviews_df.info()"
   ]
  },
  {
   "cell_type": "code",
   "execution_count": 5,
   "id": "e07eeac3-09f5-44e1-bd1b-350bd1e90694",
   "metadata": {},
   "outputs": [
    {
     "data": {
      "text/plain": [
       "review_code       0\n",
       "place_code        0\n",
       "ItemID            0\n",
       "UserID         4592\n",
       "review         2945\n",
       "Rating         1412\n",
       "Timestamp         0\n",
       "dtype: int64"
      ]
     },
     "execution_count": 5,
     "metadata": {},
     "output_type": "execute_result"
    }
   ],
   "source": [
    "reviews_df.isna().sum()"
   ]
  },
  {
   "cell_type": "code",
   "execution_count": 6,
   "id": "9675e2cb-96f8-44ab-8e30-91a3226f824a",
   "metadata": {},
   "outputs": [],
   "source": [
    "#결측치 제거\n",
    "reviews = reviews_df.dropna(axis=0)"
   ]
  },
  {
   "cell_type": "code",
   "execution_count": 29,
   "id": "87e9339c-e09c-40eb-877d-d4d6b6844201",
   "metadata": {},
   "outputs": [],
   "source": [
    "# reviews.isna().values.any()"
   ]
  },
  {
   "cell_type": "code",
   "execution_count": 7,
   "id": "c1cdf23d-83cc-4f26-b1c1-e3651881066e",
   "metadata": {},
   "outputs": [
    {
     "name": "stdout",
     "output_type": "stream",
     "text": [
      "<class 'pandas.core.frame.DataFrame'>\n",
      "Int64Index: 9086 entries, 0 to 15419\n",
      "Data columns (total 7 columns):\n",
      " #   Column       Non-Null Count  Dtype         \n",
      "---  ------       --------------  -----         \n",
      " 0   review_code  9086 non-null   object        \n",
      " 1   place_code   9086 non-null   object        \n",
      " 2   ItemID       9086 non-null   object        \n",
      " 3   UserID       9086 non-null   object        \n",
      " 4   review       9086 non-null   object        \n",
      " 5   Rating       9086 non-null   float64       \n",
      " 6   Timestamp    9086 non-null   datetime64[ns]\n",
      "dtypes: datetime64[ns](1), float64(1), object(5)\n",
      "memory usage: 567.9+ KB\n"
     ]
    }
   ],
   "source": [
    "reviews.info()"
   ]
  },
  {
   "cell_type": "code",
   "execution_count": 17,
   "id": "8ff03bdf-0b9f-4201-808c-3f3da40c0400",
   "metadata": {},
   "outputs": [
    {
     "data": {
      "text/plain": [
       "(5, 8907)"
      ]
     },
     "execution_count": 17,
     "metadata": {},
     "output_type": "execute_result"
    }
   ],
   "source": [
    "# 중복값 확인\n",
    "reviews['Rating'].nunique(), reviews['review'].nunique()"
   ]
  },
  {
   "cell_type": "code",
   "execution_count": 19,
   "id": "348ec754-f781-4fae-929a-f4196b395594",
   "metadata": {},
   "outputs": [
    {
     "data": {
      "text/html": [
       "<div>\n",
       "<style scoped>\n",
       "    .dataframe tbody tr th:only-of-type {\n",
       "        vertical-align: middle;\n",
       "    }\n",
       "\n",
       "    .dataframe tbody tr th {\n",
       "        vertical-align: top;\n",
       "    }\n",
       "\n",
       "    .dataframe thead th {\n",
       "        text-align: right;\n",
       "    }\n",
       "</style>\n",
       "<table border=\"1\" class=\"dataframe\">\n",
       "  <thead>\n",
       "    <tr style=\"text-align: right;\">\n",
       "      <th></th>\n",
       "      <th>review_code</th>\n",
       "      <th>place_code</th>\n",
       "      <th>ItemID</th>\n",
       "      <th>UserID</th>\n",
       "      <th>review</th>\n",
       "      <th>Rating</th>\n",
       "      <th>Timestamp</th>\n",
       "    </tr>\n",
       "  </thead>\n",
       "  <tbody>\n",
       "    <tr>\n",
       "      <th>713</th>\n",
       "      <td>SB000714</td>\n",
       "      <td>STORE_SB0005</td>\n",
       "      <td>성북동면옥집</td>\n",
       "      <td>lc0foc</td>\n",
       "      <td>굳</td>\n",
       "      <td>4.0</td>\n",
       "      <td>2019-08-26</td>\n",
       "    </tr>\n",
       "    <tr>\n",
       "      <th>725</th>\n",
       "      <td>SB000726</td>\n",
       "      <td>STORE_SB0005</td>\n",
       "      <td>성북동면옥집</td>\n",
       "      <td>kdrbif</td>\n",
       "      <td>최고~~</td>\n",
       "      <td>5.0</td>\n",
       "      <td>2018-10-30</td>\n",
       "    </tr>\n",
       "    <tr>\n",
       "      <th>909</th>\n",
       "      <td>SB000910</td>\n",
       "      <td>STORE_SB0008</td>\n",
       "      <td>공푸</td>\n",
       "      <td>1c1mu4t</td>\n",
       "      <td>맛나요</td>\n",
       "      <td>5.0</td>\n",
       "      <td>2021-03-04</td>\n",
       "    </tr>\n",
       "    <tr>\n",
       "      <th>947</th>\n",
       "      <td>SB000948</td>\n",
       "      <td>STORE_SB0008</td>\n",
       "      <td>공푸</td>\n",
       "      <td>e2kb4f</td>\n",
       "      <td>최고</td>\n",
       "      <td>5.0</td>\n",
       "      <td>2020-07-05</td>\n",
       "    </tr>\n",
       "    <tr>\n",
       "      <th>1274</th>\n",
       "      <td>SB001275</td>\n",
       "      <td>STORE_SB0011</td>\n",
       "      <td>팔백집</td>\n",
       "      <td>s7eplh</td>\n",
       "      <td>맛있어요</td>\n",
       "      <td>4.0</td>\n",
       "      <td>2019-12-03</td>\n",
       "    </tr>\n",
       "    <tr>\n",
       "      <th>...</th>\n",
       "      <td>...</td>\n",
       "      <td>...</td>\n",
       "      <td>...</td>\n",
       "      <td>...</td>\n",
       "      <td>...</td>\n",
       "      <td>...</td>\n",
       "      <td>...</td>\n",
       "    </tr>\n",
       "    <tr>\n",
       "      <th>15096</th>\n",
       "      <td>GB005361</td>\n",
       "      <td>STORE_GB0371</td>\n",
       "      <td>미태리 미아뉴타운점</td>\n",
       "      <td>7khi0j</td>\n",
       "      <td>선한영향력가게</td>\n",
       "      <td>5.0</td>\n",
       "      <td>2021-03-16</td>\n",
       "    </tr>\n",
       "    <tr>\n",
       "      <th>15118</th>\n",
       "      <td>GB005383</td>\n",
       "      <td>STORE_GB0376</td>\n",
       "      <td>미스사이공 수유점</td>\n",
       "      <td>19gknbs</td>\n",
       "      <td>가성비갑</td>\n",
       "      <td>5.0</td>\n",
       "      <td>2020-06-29</td>\n",
       "    </tr>\n",
       "    <tr>\n",
       "      <th>15196</th>\n",
       "      <td>GB005461</td>\n",
       "      <td>STORE_GB0387</td>\n",
       "      <td>도미노피자 수유점</td>\n",
       "      <td>16u3ka2</td>\n",
       "      <td>좋았습니다</td>\n",
       "      <td>5.0</td>\n",
       "      <td>2021-02-23</td>\n",
       "    </tr>\n",
       "    <tr>\n",
       "      <th>15284</th>\n",
       "      <td>GB005549</td>\n",
       "      <td>STORE_GB0395</td>\n",
       "      <td>BHC치킨 강북구청점</td>\n",
       "      <td>7tekfm</td>\n",
       "      <td>불친절</td>\n",
       "      <td>1.0</td>\n",
       "      <td>2021-01-15</td>\n",
       "    </tr>\n",
       "    <tr>\n",
       "      <th>15286</th>\n",
       "      <td>GB005551</td>\n",
       "      <td>STORE_GB0395</td>\n",
       "      <td>BHC치킨 강북구청점</td>\n",
       "      <td>15mn6i3</td>\n",
       "      <td>최악</td>\n",
       "      <td>1.0</td>\n",
       "      <td>2021-01-04</td>\n",
       "    </tr>\n",
       "  </tbody>\n",
       "</table>\n",
       "<p>179 rows × 7 columns</p>\n",
       "</div>"
      ],
      "text/plain": [
       "      review_code    place_code       ItemID   UserID   review  Rating  \\\n",
       "713      SB000714  STORE_SB0005       성북동면옥집   lc0foc        굳     4.0   \n",
       "725      SB000726  STORE_SB0005       성북동면옥집   kdrbif     최고~~     5.0   \n",
       "909      SB000910  STORE_SB0008           공푸  1c1mu4t      맛나요     5.0   \n",
       "947      SB000948  STORE_SB0008           공푸   e2kb4f       최고     5.0   \n",
       "1274     SB001275  STORE_SB0011          팔백집   s7eplh     맛있어요     4.0   \n",
       "...           ...           ...          ...      ...      ...     ...   \n",
       "15096    GB005361  STORE_GB0371   미태리 미아뉴타운점   7khi0j  선한영향력가게     5.0   \n",
       "15118    GB005383  STORE_GB0376    미스사이공 수유점  19gknbs     가성비갑     5.0   \n",
       "15196    GB005461  STORE_GB0387    도미노피자 수유점  16u3ka2   좋았습니다      5.0   \n",
       "15284    GB005549  STORE_GB0395  BHC치킨 강북구청점   7tekfm      불친절     1.0   \n",
       "15286    GB005551  STORE_GB0395  BHC치킨 강북구청점  15mn6i3       최악     1.0   \n",
       "\n",
       "       Timestamp  \n",
       "713   2019-08-26  \n",
       "725   2018-10-30  \n",
       "909   2021-03-04  \n",
       "947   2020-07-05  \n",
       "1274  2019-12-03  \n",
       "...          ...  \n",
       "15096 2021-03-16  \n",
       "15118 2020-06-29  \n",
       "15196 2021-02-23  \n",
       "15284 2021-01-15  \n",
       "15286 2021-01-04  \n",
       "\n",
       "[179 rows x 7 columns]"
      ]
     },
     "execution_count": 19,
     "metadata": {},
     "output_type": "execute_result"
    }
   ],
   "source": [
    "reviews[reviews.duplicated(['review'])]"
   ]
  },
  {
   "cell_type": "code",
   "execution_count": 16,
   "id": "a40ee987-6eff-4847-a997-7abce9aea20c",
   "metadata": {},
   "outputs": [],
   "source": [
    "# reviews.drop_duplicates(subset=['review'], inplace=True)\n",
    "# reviews.info()"
   ]
  },
  {
   "cell_type": "code",
   "execution_count": 56,
   "id": "d8c6452c-b4ba-40a8-acc3-ab9e3ba05c82",
   "metadata": {},
   "outputs": [
    {
     "data": {
      "text/html": [
       "<div>\n",
       "<style scoped>\n",
       "    .dataframe tbody tr th:only-of-type {\n",
       "        vertical-align: middle;\n",
       "    }\n",
       "\n",
       "    .dataframe tbody tr th {\n",
       "        vertical-align: top;\n",
       "    }\n",
       "\n",
       "    .dataframe thead th {\n",
       "        text-align: right;\n",
       "    }\n",
       "</style>\n",
       "<table border=\"1\" class=\"dataframe\">\n",
       "  <thead>\n",
       "    <tr style=\"text-align: right;\">\n",
       "      <th></th>\n",
       "      <th>review_code</th>\n",
       "      <th>place_code</th>\n",
       "      <th>ItemID</th>\n",
       "      <th>UserID</th>\n",
       "      <th>review</th>\n",
       "      <th>Rating</th>\n",
       "      <th>Timestamp</th>\n",
       "      <th>label</th>\n",
       "    </tr>\n",
       "  </thead>\n",
       "  <tbody>\n",
       "    <tr>\n",
       "      <th>0</th>\n",
       "      <td>SB000001</td>\n",
       "      <td>STORE_SB0001</td>\n",
       "      <td>성북동메밀수제비누룽지백숙</td>\n",
       "      <td>te9a7m</td>\n",
       "      <td>너무비싸</td>\n",
       "      <td>2.0</td>\n",
       "      <td>2021-08-08</td>\n",
       "      <td>0</td>\n",
       "    </tr>\n",
       "    <tr>\n",
       "      <th>1</th>\n",
       "      <td>SB000002</td>\n",
       "      <td>STORE_SB0001</td>\n",
       "      <td>성북동메밀수제비누룽지백숙</td>\n",
       "      <td>7kup8e</td>\n",
       "      <td>맛은 좋으나 기다림이 문제</td>\n",
       "      <td>3.0</td>\n",
       "      <td>2021-07-14</td>\n",
       "      <td>0</td>\n",
       "    </tr>\n",
       "    <tr>\n",
       "      <th>3</th>\n",
       "      <td>SB000004</td>\n",
       "      <td>STORE_SB0001</td>\n",
       "      <td>성북동메밀수제비누룽지백숙</td>\n",
       "      <td>g8k5fl</td>\n",
       "      <td>들깨수제비까지 욕심부리면 배터집니다. 백숙과 메일전이면 충분 남은 음식 포장 가능</td>\n",
       "      <td>4.0</td>\n",
       "      <td>2021-06-20</td>\n",
       "      <td>1</td>\n",
       "    </tr>\n",
       "    <tr>\n",
       "      <th>4</th>\n",
       "      <td>SB000005</td>\n",
       "      <td>STORE_SB0001</td>\n",
       "      <td>성북동메밀수제비누룽지백숙</td>\n",
       "      <td>n5mvk0</td>\n",
       "      <td>굿 애프터하이크 푸드</td>\n",
       "      <td>4.0</td>\n",
       "      <td>2021-05-23</td>\n",
       "      <td>1</td>\n",
       "    </tr>\n",
       "    <tr>\n",
       "      <th>5</th>\n",
       "      <td>SB000006</td>\n",
       "      <td>STORE_SB0001</td>\n",
       "      <td>성북동메밀수제비누룽지백숙</td>\n",
       "      <td>1dtoiih</td>\n",
       "      <td>좋아 함. 그래서 자주 감. 근데 닭보다 누룽지가 훨 맛있음. 누룽지를 먹기 위해 ...</td>\n",
       "      <td>4.0</td>\n",
       "      <td>2021-05-13</td>\n",
       "      <td>1</td>\n",
       "    </tr>\n",
       "  </tbody>\n",
       "</table>\n",
       "</div>"
      ],
      "text/plain": [
       "  review_code    place_code         ItemID   UserID  \\\n",
       "0    SB000001  STORE_SB0001  성북동메밀수제비누룽지백숙   te9a7m   \n",
       "1    SB000002  STORE_SB0001  성북동메밀수제비누룽지백숙   7kup8e   \n",
       "3    SB000004  STORE_SB0001  성북동메밀수제비누룽지백숙   g8k5fl   \n",
       "4    SB000005  STORE_SB0001  성북동메밀수제비누룽지백숙   n5mvk0   \n",
       "5    SB000006  STORE_SB0001  성북동메밀수제비누룽지백숙  1dtoiih   \n",
       "\n",
       "                                              review  Rating  Timestamp  label  \n",
       "0                                               너무비싸     2.0 2021-08-08      0  \n",
       "1                                     맛은 좋으나 기다림이 문제     3.0 2021-07-14      0  \n",
       "3      들깨수제비까지 욕심부리면 배터집니다. 백숙과 메일전이면 충분 남은 음식 포장 가능     4.0 2021-06-20      1  \n",
       "4                                        굿 애프터하이크 푸드     4.0 2021-05-23      1  \n",
       "5  좋아 함. 그래서 자주 감. 근데 닭보다 누룽지가 훨 맛있음. 누룽지를 먹기 위해 ...     4.0 2021-05-13      1  "
      ]
     },
     "execution_count": 56,
     "metadata": {},
     "output_type": "execute_result"
    }
   ],
   "source": [
    "reviews['label'] = np.select([reviews.Rating > 3], [1], default=0)\n",
    "reviews.head()"
   ]
  },
  {
   "cell_type": "code",
   "execution_count": 65,
   "id": "dad41b78-ccc2-4c4f-a941-b545464e3610",
   "metadata": {},
   "outputs": [
    {
     "data": {
      "text/html": [
       "<div>\n",
       "<style scoped>\n",
       "    .dataframe tbody tr th:only-of-type {\n",
       "        vertical-align: middle;\n",
       "    }\n",
       "\n",
       "    .dataframe tbody tr th {\n",
       "        vertical-align: top;\n",
       "    }\n",
       "\n",
       "    .dataframe thead th {\n",
       "        text-align: right;\n",
       "    }\n",
       "</style>\n",
       "<table border=\"1\" class=\"dataframe\">\n",
       "  <thead>\n",
       "    <tr style=\"text-align: right;\">\n",
       "      <th></th>\n",
       "      <th>review</th>\n",
       "      <th>Rating</th>\n",
       "      <th>label</th>\n",
       "    </tr>\n",
       "  </thead>\n",
       "  <tbody>\n",
       "    <tr>\n",
       "      <th>0</th>\n",
       "      <td>너무비싸</td>\n",
       "      <td>2.0</td>\n",
       "      <td>0</td>\n",
       "    </tr>\n",
       "    <tr>\n",
       "      <th>1</th>\n",
       "      <td>맛은 좋으나 기다림이 문제</td>\n",
       "      <td>3.0</td>\n",
       "      <td>0</td>\n",
       "    </tr>\n",
       "    <tr>\n",
       "      <th>3</th>\n",
       "      <td>들깨수제비까지 욕심부리면 배터집니다. 백숙과 메일전이면 충분 남은 음식 포장 가능</td>\n",
       "      <td>4.0</td>\n",
       "      <td>1</td>\n",
       "    </tr>\n",
       "    <tr>\n",
       "      <th>4</th>\n",
       "      <td>굿 애프터하이크 푸드</td>\n",
       "      <td>4.0</td>\n",
       "      <td>1</td>\n",
       "    </tr>\n",
       "    <tr>\n",
       "      <th>5</th>\n",
       "      <td>좋아 함. 그래서 자주 감. 근데 닭보다 누룽지가 훨 맛있음. 누룽지를 먹기 위해 ...</td>\n",
       "      <td>4.0</td>\n",
       "      <td>1</td>\n",
       "    </tr>\n",
       "  </tbody>\n",
       "</table>\n",
       "</div>"
      ],
      "text/plain": [
       "                                              review  Rating  label\n",
       "0                                               너무비싸     2.0      0\n",
       "1                                     맛은 좋으나 기다림이 문제     3.0      0\n",
       "3      들깨수제비까지 욕심부리면 배터집니다. 백숙과 메일전이면 충분 남은 음식 포장 가능     4.0      1\n",
       "4                                        굿 애프터하이크 푸드     4.0      1\n",
       "5  좋아 함. 그래서 자주 감. 근데 닭보다 누룽지가 훨 맛있음. 누룽지를 먹기 위해 ...     4.0      1"
      ]
     },
     "execution_count": 65,
     "metadata": {},
     "output_type": "execute_result"
    }
   ],
   "source": [
    "rating = reviews[['review','Rating','label']]\n",
    "rating.head()"
   ]
  },
  {
   "cell_type": "code",
   "execution_count": 76,
   "id": "399c8a58-0b49-4fbd-bde9-6f9a312cb9a4",
   "metadata": {},
   "outputs": [
    {
     "name": "stdout",
     "output_type": "stream",
     "text": [
      "샘플 개수 : 8878\n"
     ]
    }
   ],
   "source": [
    "rating.drop_duplicates(subset = ['review'], inplace=True) # 중복 제거\n",
    "rating['review'] = rating['review'].str.replace(\"[^ㄱ-ㅎㅏ-ㅣ가-힣 ]\",\"\") # # 한글과 공백을 제외하고 모두 제거 (정규 표현식 수행)\n",
    "rating['review'].replace('', np.nan, inplace=True) # 공백은 Null 값으로 변경\n",
    "rating = rating.dropna(how='any') # Null 값 제거\n",
    "print('샘플 개수 :',len(rating))"
   ]
  },
  {
   "cell_type": "code",
   "execution_count": 77,
   "id": "5dbfc73a-41da-4961-9ac8-c96ded205b70",
   "metadata": {},
   "outputs": [
    {
     "name": "stdout",
     "output_type": "stream",
     "text": [
      "훈련용 리뷰의 개수 : 6658\n",
      "테스트용 리뷰의 개수 : 2220\n"
     ]
    }
   ],
   "source": [
    "train_data, test_data = train_test_split(rating, test_size = 0.25, random_state = 42)\n",
    "print('훈련용 리뷰의 개수 :', len(train_data))\n",
    "print('테스트용 리뷰의 개수 :', len(test_data))"
   ]
  },
  {
   "cell_type": "code",
   "execution_count": 78,
   "id": "1320d365-cbe8-4a49-a818-9894cf6f1f11",
   "metadata": {},
   "outputs": [
    {
     "data": {
      "text/plain": [
       "<AxesSubplot:>"
      ]
     },
     "execution_count": 78,
     "metadata": {},
     "output_type": "execute_result"
    },
    {
     "data": {
      "image/png": "[encoded data removed]",
      "text/plain": [
       "<Figure size 432x288 with 1 Axes>"
      ]
     },
     "metadata": {
      "needs_background": "light"
     },
     "output_type": "display_data"
    }
   ],
   "source": [
    "train_data['label'].value_counts().plot(kind = 'bar')"
   ]
  },
  {
   "cell_type": "code",
   "execution_count": 79,
   "id": "a988e41e-39df-4382-b700-9179aef094d5",
   "metadata": {},
   "outputs": [
    {
     "data": {
      "text/html": [
       "<div>\n",
       "<style scoped>\n",
       "    .dataframe tbody tr th:only-of-type {\n",
       "        vertical-align: middle;\n",
       "    }\n",
       "\n",
       "    .dataframe tbody tr th {\n",
       "        vertical-align: top;\n",
       "    }\n",
       "\n",
       "    .dataframe thead th {\n",
       "        text-align: right;\n",
       "    }\n",
       "</style>\n",
       "<table border=\"1\" class=\"dataframe\">\n",
       "  <thead>\n",
       "    <tr style=\"text-align: right;\">\n",
       "      <th></th>\n",
       "      <th>label</th>\n",
       "      <th>count</th>\n",
       "    </tr>\n",
       "  </thead>\n",
       "  <tbody>\n",
       "    <tr>\n",
       "      <th>0</th>\n",
       "      <td>0</td>\n",
       "      <td>2480</td>\n",
       "    </tr>\n",
       "    <tr>\n",
       "      <th>1</th>\n",
       "      <td>1</td>\n",
       "      <td>4178</td>\n",
       "    </tr>\n",
       "  </tbody>\n",
       "</table>\n",
       "</div>"
      ],
      "text/plain": [
       "   label  count\n",
       "0      0   2480\n",
       "1      1   4178"
      ]
     },
     "execution_count": 79,
     "metadata": {},
     "output_type": "execute_result"
    }
   ],
   "source": [
    "train_data.groupby('label').size().reset_index(name = 'count')"
   ]
  },
  {
   "cell_type": "code",
   "execution_count": 80,
   "id": "9805b2b0-2d6b-4b37-bd44-1128c55031f1",
   "metadata": {},
   "outputs": [],
   "source": [
    "# 토큰화"
   ]
  },
  {
   "cell_type": "code",
   "execution_count": null,
   "id": "91dafc0a-9012-4edc-9ee9-b18c9023277d",
   "metadata": {},
   "outputs": [],
   "source": []
  }
 ],
 "metadata": {
  "kernelspec": {
   "display_name": "Python Multi",
   "language": "python",
   "name": "multi"
  },
  "language_info": {
   "codemirror_mode": {
    "name": "ipython",
    "version": 3
   },
   "file_extension": ".py",
   "mimetype": "text/x-python",
   "name": "python",
   "nbconvert_exporter": "python",
   "pygments_lexer": "ipython3",
   "version": "3.7.6"
  }
 },
 "nbformat": 4,
 "nbformat_minor": 5
}
