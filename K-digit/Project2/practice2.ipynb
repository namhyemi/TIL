{
 "cells": [
  {
   "cell_type": "code",
   "execution_count": 1,
   "id": "271a0227-4ee6-4b60-80d0-8815ed592e45",
   "metadata": {},
   "outputs": [],
   "source": [
    "from selenium.webdriver.common.keys import Keys\n",
    "from selenium import webdriver\n",
    "from bs4 import BeautifulSoup"
   ]
  },
  {
   "cell_type": "code",
   "execution_count": 2,
   "id": "83575c7b-0d1c-4ea0-8374-314b7000bf65",
   "metadata": {},
   "outputs": [],
   "source": [
    "import time\n",
    "import warnings\n",
    "warnings.filterwarnings(action='ignore')"
   ]
  },
  {
   "cell_type": "code",
   "execution_count": 3,
   "id": "42d08b13-2569-4952-a330-fa2b4de0543d",
   "metadata": {},
   "outputs": [],
   "source": [
    "urls = 'https://map.kakao.com/'\n",
    "item = '맛집'"
   ]
  },
  {
   "cell_type": "code",
   "execution_count": 4,
   "id": "eb730b61-6b01-4386-943e-fcaea51bffc7",
   "metadata": {},
   "outputs": [],
   "source": [
    "driver = webdriver.Chrome('../webdriver/chromedriver')\n",
    "driver.get(urls)"
   ]
  },
  {
   "cell_type": "code",
   "execution_count": 37,
   "id": "a3d2ee0e-c94d-45d7-8f1d-3c17eedb1e06",
   "metadata": {},
   "outputs": [],
   "source": [
    "searchbox = driver.find_element_by_xpath(\"//input[@id='search.keyword.query']\") # 검색창에 입력하기\n",
    "searchbox.send_keys(item)"
   ]
  },
  {
   "cell_type": "code",
   "execution_count": 38,
   "id": "f1b7e48b-3064-41cd-a6e0-c7c0ea24de40",
   "metadata": {},
   "outputs": [],
   "source": [
    "searchbutton = driver.find_element_by_xpath(\"//button[@id='search.keyword.submit']\")\n",
    "driver.execute_script(\"arguments[0].click();\", searchbutton)"
   ]
  },
  {
   "cell_type": "code",
   "execution_count": 9,
   "id": "afda366a-2175-436e-9115-3898feda1eb9",
   "metadata": {},
   "outputs": [],
   "source": [
    "driver.find_element_by_xpath('//*[@id=\"info.search.place.more\"]').send_keys(Keys.ENTER)\n",
    "time.sleep(1)"
   ]
  },
  {
   "cell_type": "code",
   "execution_count": 164,
   "id": "d4333813-ce8a-4b60-8b78-8da355602fed",
   "metadata": {},
   "outputs": [],
   "source": [
    "# driver.find_element_by_css_selector('#info\\.search\\.place\\.list > li.AdItem')"
   ]
  },
  {
   "cell_type": "code",
   "execution_count": null,
   "id": "fe45982c-4f58-4e8e-8d0e-4e605e2c404c",
   "metadata": {},
   "outputs": [],
   "source": [
    "# searchbutton = driver.find_element_by_xpath(\"//button[@id='search.keyword.submit']\").send_keys(Keys.ENTER)"
   ]
  },
  {
   "cell_type": "code",
   "execution_count": 28,
   "id": "bd9a5ca9-6a79-4c08-822d-cfbcbec7e92d",
   "metadata": {},
   "outputs": [
    {
     "name": "stdout",
     "output_type": "stream",
     "text": [
      "조연탄\n",
      "https://place.map.kakao.com/13561654\n",
      "먹자대게\n",
      "https://place.map.kakao.com/1261981008\n",
      "착한낙지 목동점\n",
      "https://place.map.kakao.com/18461103\n",
      "일미락 목동본점\n",
      "https://place.map.kakao.com/25490987\n",
      "원조소금구이\n",
      "https://place.map.kakao.com/16930822\n",
      "엉털네숯불꼼장어\n",
      "https://place.map.kakao.com/16796753\n",
      "더아리엘 목동점\n",
      "https://place.map.kakao.com/1474166020\n",
      "양천옥설렁탕\n",
      "https://place.map.kakao.com/488167110\n",
      "오목집 목동본점\n",
      "https://place.map.kakao.com/18876729\n",
      "스타벅스 화곡DT점\n",
      "https://place.map.kakao.com/470408699\n",
      "쭉심 목동사거리점\n",
      "https://place.map.kakao.com/17732413\n",
      "팔각도 목동본점\n",
      "https://place.map.kakao.com/1576447858\n",
      "우장창창 목동본점\n",
      "https://place.map.kakao.com/8025486\n",
      "개성집\n",
      "https://place.map.kakao.com/11327980\n",
      "은행골 목동점\n",
      "https://place.map.kakao.com/14592119\n"
     ]
    }
   ],
   "source": [
    "html= driver.page_source\n",
    "soup = BeautifulSoup(html, 'html.parser')\n",
    "\n",
    "food_list = soup.select('.placelist > .PlaceItem')\n",
    "\n",
    "for food in food_list:\n",
    "    food_name = food.select('.head_item > .tit_name > .link_name')[0].text\n",
    "    food_detail = food.select('.info_item > .contact> .moreview')[0].get('href')\n",
    "    print(food_name)\n",
    "    print(food_detail)"
   ]
  },
  {
   "cell_type": "code",
   "execution_count": 43,
   "id": "8539a249-16c8-4fd6-93ba-bd53a7603491",
   "metadata": {},
   "outputs": [
    {
     "name": "stdout",
     "output_type": "stream",
     "text": [
      "[<span>헉 가게가 좀 부산스럽고 종업원분들이 극 인싸이싱거같아요 그거랑 별개로 맛은 정말 좋습니다</span>]\n",
      "[<span>어엄청 친절하셔유! 맛있어여 또 갈거예요</span>]\n",
      "[<span></span>]\n",
      "[<span>찐맛집</span>]\n",
      "[<span>내 최애 고기집</span>]\n",
      "[<span>인터넷 리뷰 보고 평이 좋은편이라 방문했으나 (일부 솔직리뷰에서 악평도 있었으나 설마 하는 기대감에...) 맛 양 퀄리티 스끼다시 구성 모든면에서 실망했습니다.  제가 8월 첫주 후기단 이후로 갑자기 연달아 하루에 한개씩 별5후기가 계속 올라오는게 정말 신기합니다.   ☆설마 댓글이나 체험단 알ㅂ쓰나요 여기???  이미 아래 후기에도 이런 의혹이 제기된 적...</span>]\n",
      "[<span>리뷰 보고 갔더니 낚였네... 아 왠만해서는 돈 안 아까운데. ..</span>]\n",
      "[<span>여기 완전 대게 퀄리티 장난아니더라구요~^^대게속살이 꽉차있는게 부드럽고 싱싱해서 술도마시고왔어요~굿!</span>]\n",
      "[<span>친절하고 잘나오네요</span>]\n",
      "[<span>깔끔하게 나오고 맛있게 먹었습니다</span>]\n",
      "[<span>밥먹고 나왔는데 문콕 생김 ㅠㅠ</span>]\n",
      "[<span>가격대비 괜찮아요.낙지 먹을만 합니다만 일하시는 분들 친절하지는 않은것 같아요.</span>]\n",
      "[<span>매운데 진짜 맛있어요ㅎ</span>]\n",
      "[<span>맛있음    근데 직원들 불친절</span>]\n",
      "[<span>직원분들이 친절하진 않지만 음식은 먹을만합니다</span>]\n",
      "[<span>역시 고기는 남이 구워줘야 제맛</span>]\n",
      "[<span>괜찮은데.. 가격대 생각하면 너무 평범한 맛</span>]\n",
      "[<span>집근처라 몇년전부터 종종갔는데 요새는 이 가격대에 괜찮은 삼겹살집이 많아져서 굳이 찾아올 가게는 아닌듯합니다</span>]\n",
      "[<span>맛있어요 ~!!</span>]\n",
      "[<span>소고기맛 나는 돼지고기</span>]\n",
      "[<span>정말 동네 맛집. 다른 매장 가려다가 우연히 여기 왔는데 너무 만족함 이 집 목살이 목동에서 탑티어급인듯  </span>]\n",
      "[<span>조연탄 갈려다 여기왔는데..고기맛은 보통인데.. 마늘도 없고 김치.상추등은 질이 낮고 허접하네요.좁고 시장통 같이 시끌벅적.대화하기 힘듬.다시는 가고싶지 않네요. 허접해서 아쉬워서 근처에 있는 조연탄가서 함흥냉면 먹었는데 서비스좋고 맛좋네요. 조연탄 추천합니다~. 저는 조연탄하고 관계 무.</span>]\n",
      "[<span></span>]\n",
      "[<span>음 글쎄요, 저렴한데 고기질은 저렴한 값 하는 것 같습니다 ! </span>]\n",
      "[<span>동네에 이런 맛있는 고기집이 있었다니! 자주 와야겠다는 생각을 함 #목동고기집#원조소금구이 1994년부터 장사를 하기 시작하신 사장님. 고기에 대한 철학과 스킬이 남다르신 분인것 같았다. 막고기의 밑간은 만족스러웠고 공기밥에 라면 조합이 클라스있었다. 비가 추적추적 내리는 가운데 분위기 있게 고기에 소주 한 잔 크... 마지막에 고기 부위가 궁금한데 다음에...</span>]\n",
      "[<span>꼼장어 맛있어요. 셀프바도 좋아요</span>]\n",
      "[<span>꼼장어 쭈꾸미</span>]\n",
      "[<span>소금구이까지 맛있는 맛집 </span>]\n",
      "[<span>모든메뉴가 맛집</span>]\n",
      "[<span>여기는 내가 실수한뒤로 잘 못가고잇다 근데 자꾸 열무국수가 생각난다 진짜 맛있다.   이젠 가도될것같다^^♡</span>]\n",
      "[<span>생각보다 쏘쏘했던 곳</span>]\n",
      "[<span>생각보다 별로였지만 그래도 괜찮았던곳ㅎㅎ 재방문은 글쎄요..</span>]\n",
      "[<span>악평이 많아서 걱정했는데, 음식은 전체적으로 괜찮았습니다. 시간대별로 차이는 있겠지만 저녁시간대 나쁘지 않았네요.</span>]\n",
      "[<span>인테리어와 크기가 커 좋아보이나 초밥 퀄리티도 떨어지고(초밥 회랑 밥도 오래되어 맛이 떨어짐), 고기도 구워주는게 좀 이상하다해서 유심히 관찰해보니 무슨통에서 꺼내어 금방 데워주네요.  새우도 껍질이 안까지고......  방송에서 나온 맛집중 맛있는걸 못봤네요. 후식으로 먹은 케익 맛집이네요.</span>]\n",
      "[<span>모든 음식이 이렇게 다 맛이없긴 쉽지않을거같은데 말이죠</span>]\n",
      "[<span>맛집인정. 사장님도 짱친절하심</span>]\n",
      "[<span>매우 깔끔하며, 사장님이 홀에서 손님맞이함. 신뢰감가는 매장임.</span>]\n",
      "[<span>형님 형수님 모시고 갈비탕 도가니탕을 아주 맛있게 드셔서 감사합니다  국물 맛도 진하고 김치 깍뚜기도 맛있어습니다</span>]\n",
      "[<span>도가니탕은 맛있어요</span>]\n",
      "[<span></span>]\n",
      "[<span>맛나요  맛도 맛이지만 친구들 동네에 왔을때 데려가서 첫입 먹고 맛있어서 기뻐 놀라는 동영상 촬영하는게 제 취미에요 </span>]\n",
      "[<span>아 먹고싶다 벌써...</span>]\n",
      "[<span>너무 좋아유</span>]\n",
      "[<span>이 집 족발 정말 잘해요</span>]\n",
      "[<span>최고예요</span>]\n",
      "[<span>하정우 꺼 아니여 이젠</span>]\n",
      "[<span>직원이 싸가지없음</span>]\n",
      "[<span>하정우씨 보고싶다... 커피는 커피맛</span>]\n",
      "[<span>매장 영업 마감 30분 전 부터 청소를 하네요. 커피 아직 마시고 있는데 먼지 풀풀 날리고  서비스가 영 엉망이네요 양해를 구하고 청소를 하는것도 아니고... 그럼 영업 종료 시간을 앞당기고 청소를 하던지  남은 커피에 모든 먼지가 들어간 것 같아 꺼림찍하네요 불쾌합니다. </span>]\n",
      "[<span>드라이부쓰루매장.총 3층 공간넓음</span>]\n",
      "[<span>왜맛있다고하는지 전혀모르겠음.. 쭈꾸미양념은 쓰고 텁텁하고.. 그냥 술포차느낌. 볶음밥에 날치알이많이들어가긴함. </span>]\n",
      "[<span>맛있어요</span>]\n",
      "[<span>정말 넘 사랑하는곳 ㅠ̑̈ㅠ̑̈ 재방문 의사 100번 있어요. 사실 5번은 넘게 갔는ㄷ 항상 감동 받는 맛으로 감동받고 나오고 집오면 또 생각나는 맛이에요ㅠ̑̈ㅠ̑̈ 쭈꾸미 삼겹살 중 여기가 체고ㅠ</span>]\n",
      "[<span>매운거 땡길 때 가는곳. 알밥은 꼭 먹어야 함</span>]\n",
      "[<span>꿉꿉한 느낌.  술먹고 집에 늦게 오는 날이면 식당 앞에서 담배피는사람이 너므 많음</span>]\n",
      "[<span>메뉴마다 굽는 방식이 달라 한번에 같이 먹지 못하고 번거로움. (회전율이 안좋은 이유가 이거 아닐까싶은) 가격에 비해 아쉬움이 있어 자주 갈거같진않지만 맛은 있어요.</span>]\n",
      "[<span>더위에 기다린사람 ♪♪~만듬 나이드신 분들 와서 징징되니까 대기없이 먼저들어감  하.. 누군 시간남아돌아서 기다리나 ㅎㅎ</span>]\n",
      "[<span>목동 맛집</span>]\n",
      "[<span>기본 닭갈비 싸고 맛있고 무적권 파랑 싸먹어야함 소금이랑 와사비소스가 젤마싯 글고 순찌가 존맛탱임 게라면은 된장국물이라 별로엿어여 그래서 별하나뺌 글고 무슨 타코와사비같은 반찬 있는데 것도 맛잇음</span>]\n",
      "[<span>본메뉴 외에 사이드는 다 맛없어요</span>]\n",
      "[<span></span>]\n",
      "[<span></span>]\n",
      "[<span>너무비싸고   맛도 없음  </span>]\n",
      "[<span></span>]\n",
      "[<span>마르고 키큰 알바 있으면 그냥 나오세요 기분만 상하고 나옴</span>]\n",
      "[<span>별로에요. 유명해서 갔는데 만두피가 말라비틀어져서 딱딱. 맛도 그닥. 양도 적고. 한번가고 다시 안가요.</span>]\n",
      "[<span>만두국 유명한 집인데 소머리국밥 아주 좋았음. 국내산 머리고기, 고기가 쫀득하고 찰지다. 김치 깍두기 베리굿.</span>]\n",
      "[<span>만두국은 괜찮은데 소머리국밥은 별루였음</span>]\n",
      "[<span>not bad</span>]\n",
      "[<span>여기 어릴때 자주 다녔는데, 실망스럽네요. 돼지고기는 손질이 잘 안돼고 피도 덜 빠져서 모래같은게 씹히고 색도 퍼렇게 피어오른곳도 있네요. 그 뒤에 시켜놓은 만두국은 괜찮다고 생각합니다만 솔찍히 수육때 불쾌해서 그냥 돈 아까운 생각에 먹었네요.</span>]\n",
      "[<span>뭔 초밥에 밥을 이리많이 붙여놨어?!</span>]\n",
      "[<span>은행골 늘 믿고 맛있게 먹고있는데 요 근래들어 밥양이 너무 많은거 같아요. 스시에 비해 밥양이 너무 많아서 회 맛이 잘 안나요ㅠ 그리고 너무 배불러서 먹을때마다 밥을 절반은 덜고 먹게되네요. 밥양을 좀 줄이셔야 할 것 같아요.</span>]\n",
      "[<span></span>]\n",
      "[<span>불진절</span>]\n",
      "[<span></span>]\n"
     ]
    }
   ],
   "source": [
    "for i, food in enumerate(food_list):\n",
    "    place_name = food.select('.head_item > .tit_name > .link_name')[0].text\n",
    "    url = food_detail = food.select('.info_item > .contact> .moreview')[0].get('href')\n",
    "    driver.execute_script('window.open(\"about:blank\", \"_blank\");')\n",
    "    driver.switch_to.window(driver.window_handles[-1])\n",
    "    driver.get(url)\n",
    "    time.sleep(1)\n",
    "    \n",
    "    html = driver.page_source\n",
    "    soup = BeautifulSoup(html, 'html.parser')\n",
    "    \n",
    "    review_lists = soup.select('.list_evaluation > li')\n",
    "    \n",
    "    if len(review_lists) != 0:\n",
    "        for j, review in enumerate(review_lists):\n",
    "            comment = review.select('.txt_comment > span')\n",
    "            print(comment)\n",
    "    \n",
    "    driver.close()     \n",
    "    driver.switch_to.window(driver.window_handles[0])"
   ]
  },
  {
   "cell_type": "code",
   "execution_count": 40,
   "id": "d9dc1c89-44fe-4724-8012-fbfdb0d6cf37",
   "metadata": {},
   "outputs": [],
   "source": [
    "# for i, food in enumerate(food_list):\n",
    "#     place_name = food.select('.head_item > .tit_name > .link_name')[0].text\n",
    "#     detail_page_xpath = '//*[@id=\"info.search.place.list\"]/li['+str(i+1)+']/div[5]/div[4]/a[1]'\n",
    "#     driver.find_element_by_xpath(detail_page_xpath).send_keys(Keys.ENTER)\n",
    "#     print(detail_page_xpath)\n",
    "#     driver.switch_to.window(driver.window_handles[-1])\n",
    "#     time.sleep(1)\n",
    "    \n",
    "#     html = driver.page_source\n",
    "#     soup = BeautifulSoup(html, 'html.parser')\n",
    "    \n",
    "#     review_lists = soup.select('.list_evaluation > li')\n",
    "    \n",
    "#     if len(review_lists) != 0:\n",
    "#         for j, review in enumerate(review_lists):\n",
    "#             comment = review.select('.txt_comment > span')\n",
    "#             print(comment)\n",
    "    \n",
    "# #     driver.close()     \n",
    "#     driver.switch_to.window(driver.window_handles[0])"
   ]
  },
  {
   "cell_type": "code",
   "execution_count": null,
   "id": "0b2927b7-901a-4c53-ad32-115af241872d",
   "metadata": {},
   "outputs": [],
   "source": [
    "#info\\.search\\.place\\.list > li:nth-child(1) > div.info_item > div.contact.clickArea > a.moreview\n",
    "#info\\.search\\.place\\.list > li.AdItem > a\n",
    "#info\\.search\\.place\\.list > li:nth-child(2) > div.info_item > div.contact.clickArea > a.moreview"
   ]
  },
  {
   "cell_type": "code",
   "execution_count": 220,
   "id": "5385fc96-374a-4a6f-a592-58e5f322e45b",
   "metadata": {},
   "outputs": [],
   "source": [
    "driver.find_element_by_css_selector('#info\\.search\\.place\\.list > li:nth-child(1) > div.info_item > div.contact.clickArea > a.moreview').send_keys(Keys.ENTER)\n",
    "driver.switch_to.window(driver.window_handles[-1])"
   ]
  },
  {
   "cell_type": "code",
   "execution_count": 223,
   "id": "a9832f99-6ceb-4708-a743-c1fbcb001c3b",
   "metadata": {},
   "outputs": [
    {
     "name": "stdout",
     "output_type": "stream",
     "text": [
      "[<span>헉 가게가 좀 부산스럽고 종업원분들이 극 인싸이싱거같아요 그거랑 별개로 맛은 정말 좋습니다</span>]\n",
      "[<span>어엄청 친절하셔유! 맛있어여 또 갈거예요</span>]\n",
      "[<span></span>]\n",
      "[<span>찐맛집</span>]\n",
      "[<span>내 최애 고기집</span>]\n"
     ]
    }
   ],
   "source": [
    "html = driver.page_source\n",
    "soup = BeautifulSoup(html, 'html.parser')\n",
    "\n",
    "review_lists = soup.select('.list_evaluation > li')\n",
    "\n",
    "if len(review_lists) != 0:\n",
    "    for j, review in enumerate(review_lists):\n",
    "        comment = review.select('.txt_comment > span')\n",
    "        \n",
    "        time.sleep(2)\n",
    "        print(comment)"
   ]
  },
  {
   "cell_type": "code",
   "execution_count": 10,
   "id": "e7eba199-b355-4676-864c-2fa17b2faef1",
   "metadata": {},
   "outputs": [
    {
     "name": "stdout",
     "output_type": "stream",
     "text": [
      "#info\\.search\\.place\\.list > li:nth-child(1) > div.info_item > div.contact.clickArea > a.moreview\n",
      "[<span>헉 가게가 좀 부산스럽고 종업원분들이 극 인싸이싱거같아요 그거랑 별개로 맛은 정말 좋습니다</span>]\n",
      "[<span>어엄청 친절하셔유! 맛있어여 또 갈거예요</span>]\n",
      "[<span></span>]\n",
      "[<span>찐맛집</span>]\n",
      "[<span>내 최애 고기집</span>]\n",
      "#info\\.search\\.place\\.list > li:nth-child(2) > div.info_item > div.contact.clickArea > a.moreview\n",
      "[<span>인터넷 리뷰 보고 평이 좋은편이라 방문했으나 (일부 솔직리뷰에서 악평도 있었으나 설마 하는 기대감에...) 맛 양 퀄리티 스끼다시 구성 모든면에서 실망했습니다.  제가 8월 첫주 후기단 이후로 갑자기 연달아 하루에 한개씩 별5후기가 계속 올라오는게 정말 신기합니다.   ☆설마 댓글이나 체험단 알ㅂ쓰나요 여기???  이미 아래 후기에도 이런 의혹이 제기된 적...</span>]\n",
      "[<span>리뷰 보고 갔더니 낚였네... 아 왠만해서는 돈 안 아까운데. ..</span>]\n",
      "[<span>여기 완전 대게 퀄리티 장난아니더라구요~^^대게속살이 꽉차있는게 부드럽고 싱싱해서 술도마시고왔어요~굿!</span>]\n",
      "[<span>친절하고 잘나오네요</span>]\n",
      "[<span>깔끔하게 나오고 맛있게 먹었습니다</span>]\n",
      "#info\\.search\\.place\\.list > li:nth-child(3) > div.info_item > div.contact.clickArea > a.moreview\n",
      "[<span>밥먹고 나왔는데 문콕 생김 ㅠㅠ</span>]\n",
      "[<span>가격대비 괜찮아요.낙지 먹을만 합니다만 일하시는 분들 친절하지는 않은것 같아요.</span>]\n",
      "[<span>매운데 진짜 맛있어요ㅎ</span>]\n",
      "[<span>맛있음    근데 직원들 불친절</span>]\n",
      "[<span>직원분들이 친절하진 않지만 음식은 먹을만합니다</span>]\n",
      "#info\\.search\\.place\\.list > li:nth-child(5) > div.info_item > div.contact.clickArea > a.moreview\n",
      "[<span>역시 고기는 남이 구워줘야 제맛</span>]\n",
      "[<span>괜찮은데.. 가격대 생각하면 너무 평범한 맛</span>]\n",
      "[<span>집근처라 몇년전부터 종종갔는데 요새는 이 가격대에 괜찮은 삼겹살집이 많아져서 굳이 찾아올 가게는 아닌듯합니다</span>]\n",
      "[<span>맛있어요 ~!!</span>]\n",
      "[<span>소고기맛 나는 돼지고기</span>]\n",
      "#info\\.search\\.place\\.list > li:nth-child(6) > div.info_item > div.contact.clickArea > a.moreview\n",
      "[<span>정말 동네 맛집. 다른 매장 가려다가 우연히 여기 왔는데 너무 만족함 이 집 목살이 목동에서 탑티어급인듯  </span>]\n",
      "[<span>조연탄 갈려다 여기왔는데..고기맛은 보통인데.. 마늘도 없고 김치.상추등은 질이 낮고 허접하네요.좁고 시장통 같이 시끌벅적.대화하기 힘듬.다시는 가고싶지 않네요. 허접해서 아쉬워서 근처에 있는 조연탄가서 함흥냉면 먹었는데 서비스좋고 맛좋네요. 조연탄 추천합니다~. 저는 조연탄하고 관계 무.</span>]\n",
      "[<span></span>]\n",
      "[<span>음 글쎄요, 저렴한데 고기질은 저렴한 값 하는 것 같습니다 ! </span>]\n",
      "[<span>동네에 이런 맛있는 고기집이 있었다니! 자주 와야겠다는 생각을 함 #목동고기집#원조소금구이 1994년부터 장사를 하기 시작하신 사장님. 고기에 대한 철학과 스킬이 남다르신 분인것 같았다. 막고기의 밑간은 만족스러웠고 공기밥에 라면 조합이 클라스있었다. 비가 추적추적 내리는 가운데 분위기 있게 고기에 소주 한 잔 크... 마지막에 고기 부위가 궁금한데 다음에...</span>]\n",
      "#info\\.search\\.place\\.list > li:nth-child(7) > div.info_item > div.contact.clickArea > a.moreview\n",
      "[<span>꼼장어 맛있어요. 셀프바도 좋아요</span>]\n",
      "[<span>꼼장어 쭈꾸미</span>]\n",
      "[<span>소금구이까지 맛있는 맛집 </span>]\n",
      "[<span>모든메뉴가 맛집</span>]\n",
      "[<span>여기는 내가 실수한뒤로 잘 못가고잇다 근데 자꾸 열무국수가 생각난다 진짜 맛있다.   이젠 가도될것같다^^♡</span>]\n",
      "#info\\.search\\.place\\.list > li:nth-child(8) > div.info_item > div.contact.clickArea > a.moreview\n",
      "[<span>생각보다 쏘쏘했던 곳</span>]\n",
      "[<span>생각보다 별로였지만 그래도 괜찮았던곳ㅎㅎ 재방문은 글쎄요..</span>]\n",
      "[<span>악평이 많아서 걱정했는데, 음식은 전체적으로 괜찮았습니다. 시간대별로 차이는 있겠지만 저녁시간대 나쁘지 않았네요.</span>]\n",
      "[<span>인테리어와 크기가 커 좋아보이나 초밥 퀄리티도 떨어지고(초밥 회랑 밥도 오래되어 맛이 떨어짐), 고기도 구워주는게 좀 이상하다해서 유심히 관찰해보니 무슨통에서 꺼내어 금방 데워주네요.  새우도 껍질이 안까지고......  방송에서 나온 맛집중 맛있는걸 못봤네요. 후식으로 먹은 케익 맛집이네요.</span>]\n",
      "[<span>모든 음식이 이렇게 다 맛이없긴 쉽지않을거같은데 말이죠</span>]\n",
      "#info\\.search\\.place\\.list > li:nth-child(9) > div.info_item > div.contact.clickArea > a.moreview\n",
      "[<span>맛집인정. 사장님도 짱친절하심</span>]\n",
      "[<span>매우 깔끔하며, 사장님이 홀에서 손님맞이함. 신뢰감가는 매장임.</span>]\n",
      "[<span>형님 형수님 모시고 갈비탕 도가니탕을 아주 맛있게 드셔서 감사합니다  국물 맛도 진하고 김치 깍뚜기도 맛있어습니다</span>]\n",
      "[<span>도가니탕은 맛있어요</span>]\n",
      "[<span></span>]\n",
      "#info\\.search\\.place\\.list > li:nth-child(10) > div.info_item > div.contact.clickArea > a.moreview\n",
      "[<span>맛나요  맛도 맛이지만 친구들 동네에 왔을때 데려가서 첫입 먹고 맛있어서 기뻐 놀라는 동영상 촬영하는게 제 취미에요 </span>]\n",
      "[<span>아 먹고싶다 벌써...</span>]\n",
      "[<span>너무 좋아유</span>]\n",
      "[<span>이 집 족발 정말 잘해요</span>]\n",
      "[<span>최고예요</span>]\n",
      "#info\\.search\\.place\\.list > li:nth-child(11) > div.info_item > div.contact.clickArea > a.moreview\n",
      "[<span>하정우 꺼 아니여 이젠</span>]\n",
      "[<span>직원이 싸가지없음</span>]\n",
      "[<span>하정우씨 보고싶다... 커피는 커피맛</span>]\n",
      "[<span>매장 영업 마감 30분 전 부터 청소를 하네요. 커피 아직 마시고 있는데 먼지 풀풀 날리고  서비스가 영 엉망이네요 양해를 구하고 청소를 하는것도 아니고... 그럼 영업 종료 시간을 앞당기고 청소를 하던지  남은 커피에 모든 먼지가 들어간 것 같아 꺼림찍하네요 불쾌합니다. </span>]\n",
      "[<span>드라이부쓰루매장.총 3층 공간넓음</span>]\n",
      "#info\\.search\\.place\\.list > li:nth-child(12) > div.info_item > div.contact.clickArea > a.moreview\n",
      "[<span>왜맛있다고하는지 전혀모르겠음.. 쭈꾸미양념은 쓰고 텁텁하고.. 그냥 술포차느낌. 볶음밥에 날치알이많이들어가긴함. </span>]\n",
      "[<span>맛있어요</span>]\n",
      "[<span>정말 넘 사랑하는곳 ㅠ̑̈ㅠ̑̈ 재방문 의사 100번 있어요. 사실 5번은 넘게 갔는ㄷ 항상 감동 받는 맛으로 감동받고 나오고 집오면 또 생각나는 맛이에요ㅠ̑̈ㅠ̑̈ 쭈꾸미 삼겹살 중 여기가 체고ㅠ</span>]\n",
      "[<span>매운거 땡길 때 가는곳. 알밥은 꼭 먹어야 함</span>]\n",
      "[<span>꿉꿉한 느낌.  술먹고 집에 늦게 오는 날이면 식당 앞에서 담배피는사람이 너므 많음</span>]\n",
      "#info\\.search\\.place\\.list > li:nth-child(13) > div.info_item > div.contact.clickArea > a.moreview\n",
      "[<span>메뉴마다 굽는 방식이 달라 한번에 같이 먹지 못하고 번거로움. (회전율이 안좋은 이유가 이거 아닐까싶은) 가격에 비해 아쉬움이 있어 자주 갈거같진않지만 맛은 있어요.</span>]\n",
      "[<span>더위에 기다린사람 ♪♪~만듬 나이드신 분들 와서 징징되니까 대기없이 먼저들어감  하.. 누군 시간남아돌아서 기다리나 ㅎㅎ</span>]\n",
      "[<span>목동 맛집</span>]\n",
      "[<span>기본 닭갈비 싸고 맛있고 무적권 파랑 싸먹어야함 소금이랑 와사비소스가 젤마싯 글고 순찌가 존맛탱임 게라면은 된장국물이라 별로엿어여 그래서 별하나뺌 글고 무슨 타코와사비같은 반찬 있는데 것도 맛잇음</span>]\n",
      "[<span>본메뉴 외에 사이드는 다 맛없어요</span>]\n",
      "#info\\.search\\.place\\.list > li:nth-child(14) > div.info_item > div.contact.clickArea > a.moreview\n",
      "[<span></span>]\n",
      "[<span></span>]\n",
      "[<span>너무비싸고   맛도 없음  </span>]\n",
      "[<span></span>]\n",
      "[<span>마르고 키큰 알바 있으면 그냥 나오세요 기분만 상하고 나옴</span>]\n",
      "#info\\.search\\.place\\.list > li:nth-child(15) > div.info_item > div.contact.clickArea > a.moreview\n",
      "[<span>별로에요. 유명해서 갔는데 만두피가 말라비틀어져서 딱딱. 맛도 그닥. 양도 적고. 한번가고 다시 안가요.</span>]\n",
      "[<span>만두국 유명한 집인데 소머리국밥 아주 좋았음. 국내산 머리고기, 고기가 쫀득하고 찰지다. 김치 깍두기 베리굿.</span>]\n",
      "[<span>만두국은 괜찮은데 소머리국밥은 별루였음</span>]\n",
      "[<span>not bad</span>]\n",
      "[<span>여기 어릴때 자주 다녔는데, 실망스럽네요. 돼지고기는 손질이 잘 안돼고 피도 덜 빠져서 모래같은게 씹히고 색도 퍼렇게 피어오른곳도 있네요. 그 뒤에 시켜놓은 만두국은 괜찮다고 생각합니다만 솔찍히 수육때 불쾌해서 그냥 돈 아까운 생각에 먹었네요.</span>]\n",
      "#info\\.search\\.place\\.list > li:nth-child(16) > div.info_item > div.contact.clickArea > a.moreview\n",
      "[<span>뭔 초밥에 밥을 이리많이 붙여놨어?!</span>]\n",
      "[<span>은행골 늘 믿고 맛있게 먹고있는데 요 근래들어 밥양이 너무 많은거 같아요. 스시에 비해 밥양이 너무 많아서 회 맛이 잘 안나요ㅠ 그리고 너무 배불러서 먹을때마다 밥을 절반은 덜고 먹게되네요. 밥양을 좀 줄이셔야 할 것 같아요.</span>]\n",
      "[<span></span>]\n",
      "[<span>불진절</span>]\n",
      "[<span></span>]\n"
     ]
    }
   ],
   "source": [
    "for i in range(1, 17):\n",
    "    if i == 4:\n",
    "        continue\n",
    "    detail_page_xpath = '#info\\.search\\.place\\.list > li:nth-child('+str(i)+') > div.info_item > div.contact.clickArea > a.moreview'\n",
    "    print(detail_page_xpath)\n",
    "    driver.find_element_by_css_selector(detail_page_xpath).send_keys(Keys.ENTER)\n",
    "    driver.switch_to.window(driver.window_handles[-1])\n",
    "    time.sleep(1)\n",
    "    \n",
    "    html = driver.page_source\n",
    "    soup = BeautifulSoup(html, 'html.parser')\n",
    "\n",
    "    review_lists = soup.select('.list_evaluation > li')\n",
    "    \n",
    "    if len(review_lists) != 0:\n",
    "        for j, review in enumerate(review_lists):\n",
    "            comment = review.select('.txt_comment > span')\n",
    "            print(comment)    \n",
    "\n",
    "    \n",
    "    driver.close() \n",
    "    driver.switch_to.window(driver.window_handles[0])"
   ]
  },
  {
   "cell_type": "code",
   "execution_count": 146,
   "id": "acc1c749-3007-4c44-bad4-08132861e073",
   "metadata": {},
   "outputs": [],
   "source": [
    "for i in range(0, 17):\n",
    "    if i == 3:\n",
    "        continue\n",
    "    detail_page_xpath = '//*[@id=\"info.search.place.list\"]/li['+str(i+1)+']/div[5]/div[4]/a[1]'\n",
    "    print(detail_page_xpath)\n",
    "\n",
    "    driver.find_element_by_xpath(detail_page_xpath).send_keys(Keys.ENTER)\n",
    "    driver.switch_to.window(driver.window_handles[-1])\n",
    "    \n",
    "    html = driver.page_source\n",
    "    soup = BeautifulSoup(html, 'html.parser')\n",
    "    \n",
    "    review_lists = soup.select('.list_evaluation > li')\n",
    "    \n",
    "    if len(review_lists) != 0:\n",
    "        for j, review in enumerate(review_lists):\n",
    "            comment = review.select('.txt_comment > span')\n",
    "            print(comment)    \n",
    "    \n",
    "    time.sleep(10)\n",
    "    \n",
    "    driver.close() \n",
    "    driver.switch_to.window(driver.window_handles[0])"
   ]
  },
  {
   "cell_type": "code",
   "execution_count": 147,
   "id": "f5d28d01-43a4-49fd-98f5-00bae039526b",
   "metadata": {},
   "outputs": [],
   "source": []
  },
  {
   "cell_type": "code",
   "execution_count": null,
   "id": "203d6aad-64c4-43ff-8d32-88c5c42de1b7",
   "metadata": {},
   "outputs": [],
   "source": []
  },
  {
   "cell_type": "code",
   "execution_count": null,
   "id": "84febc17-0351-4d10-aed8-02f35261baca",
   "metadata": {},
   "outputs": [],
   "source": []
  }
 ],
 "metadata": {
  "kernelspec": {
   "display_name": "Python Multi",
   "language": "python",
   "name": "multi"
  },
  "language_info": {
   "codemirror_mode": {
    "name": "ipython",
    "version": 3
   },
   "file_extension": ".py",
   "mimetype": "text/x-python",
   "name": "python",
   "nbconvert_exporter": "python",
   "pygments_lexer": "ipython3",
   "version": "3.7.6"
  }
 },
 "nbformat": 4,
 "nbformat_minor": 5
}
