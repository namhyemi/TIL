{
 "cells": [
  {
   "cell_type": "code",
   "execution_count": 1,
   "id": "87798277-536c-4fea-a144-82e0e265e5e7",
   "metadata": {},
   "outputs": [],
   "source": [
    "from nltk.tokenize import word_tokenize"
   ]
  },
  {
   "cell_type": "code",
   "execution_count": null,
   "id": "c2d3ff2e-0e2f-40b7-9950-dfaaedb7f7e8",
   "metadata": {},
   "outputs": [],
   "source": [
    "print(word_tokenize(\"Don't be fooled by the dark sounding name, Mr. Jone's Orphanage is as cheery as cheery goes for a pastry shop.\"))  "
   ]
  },
  {
   "cell_type": "code",
   "execution_count": null,
   "id": "dae4563b-5cce-4fb2-9b9c-5272fe493463",
   "metadata": {},
   "outputs": [],
   "source": [
    "# 문장 토큰화\n",
    "\n",
    "from nltk.tokenize import sent_tokenize\n",
    "text=\"His barber kept his word. But keeping such a huge secret to himself was driving him crazy. Finally, the barber went up a mountain and almost to the edge of a cliff. He dug a hole in the midst of some reeds. He looked about, to make sure no one was near.\"\n",
    "print(sent_tokenize(text))"
   ]
  },
  {
   "cell_type": "code",
   "execution_count": null,
   "id": "ca4642dc-9daa-4eec-9fb7-1a39f3f9c2b5",
   "metadata": {},
   "outputs": [],
   "source": [
    "# 한글 문장 토큰화\n",
    "# pip install kss"
   ]
  },
  {
   "cell_type": "code",
   "execution_count": null,
   "id": "a95c818e-c7d7-4547-bd10-d17dcd5fb5eb",
   "metadata": {},
   "outputs": [],
   "source": [
    "import kss\n",
    "\n",
    "text='딥 러닝 자연어 처리가 재미있기는 합니다. 그런데 문제는 영어보다 한국어로 할 때 너무 어려워요. 농담아니에요. 이제 해보면 알걸요?'\n",
    "print(kss.split_sentences(text))"
   ]
  },
  {
   "cell_type": "code",
   "execution_count": null,
   "id": "3375909f-da38-4253-94db-826c32f62a2b",
   "metadata": {},
   "outputs": [],
   "source": [
    "# Okt 형태소 분석기\n",
    "from konlpy.tag import Okt  \n",
    "okt=Okt()  \n",
    "print(okt.morphs(\"열심히 코딩한 당신, 연휴에는 여행을 가봐요\")) # 형태소 토큰화\n",
    "print(okt.pos(\"열심히 코딩한 당신, 연휴에는 여행을 가봐요\")) #품사 태깅\n",
    "print(okt.nouns(\"열심히 코딩한 당신, 연휴에는 여행을 가봐요\"))  # 명사 추출"
   ]
  },
  {
   "cell_type": "code",
   "execution_count": null,
   "id": "184d060a-736f-4876-922f-a4b6704fadde",
   "metadata": {},
   "outputs": [],
   "source": [
    "# 꼬꼬마 형태소 분석기\n",
    "from konlpy.tag import Kkma  \n",
    "kkma=Kkma()  \n",
    "print(kkma.morphs(\"열심히 코딩한 당신, 연휴에는 여행을 가봐요\"))"
   ]
  },
  {
   "cell_type": "code",
   "execution_count": null,
   "id": "fef7a61f-308d-42fd-96da-924089d6404c",
   "metadata": {},
   "outputs": [],
   "source": []
  }
 ],
 "metadata": {
  "kernelspec": {
   "display_name": "Python 3",
   "language": "python",
   "name": "python3"
  },
  "language_info": {
   "codemirror_mode": {
    "name": "ipython",
    "version": 3
   },
   "file_extension": ".py",
   "mimetype": "text/x-python",
   "name": "python",
   "nbconvert_exporter": "python",
   "pygments_lexer": "ipython3",
   "version": "3.7.6"
  }
 },
 "nbformat": 4,
 "nbformat_minor": 5
}
