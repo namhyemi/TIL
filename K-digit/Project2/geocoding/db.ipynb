{
 "cells": [
  {
   "cell_type": "code",
   "execution_count": null,
   "id": "3c50be37-d82e-491a-acb8-9624e7998e37",
   "metadata": {},
   "outputs": [],
   "source": [
    "## csv파일 DB 저장하기 "
   ]
  },
  {
   "cell_type": "code",
   "execution_count": 2,
   "id": "9b45e56d-4726-462a-99f6-74559fbe34e6",
   "metadata": {},
   "outputs": [],
   "source": [
    "import pandas as pd\n",
    "import numpy as np\n",
    "import pymysql as my"
   ]
  },
  {
   "cell_type": "code",
   "execution_count": 5,
   "id": "43f30ccd-2819-4732-85d1-057765bafb90",
   "metadata": {},
   "outputs": [],
   "source": [
    "### DB 다루는 클래스\n",
    "class DBHelper:\n",
    "    '''\n",
    "    맴버변수 : 커넥션 \n",
    "    '''\n",
    "    conn = None\n",
    "    '''\n",
    "    생성자\n",
    "    '''\n",
    "    def __init__(self):\n",
    "        self.db_init()\n",
    "    '''\n",
    "    맴버 함수\n",
    "    '''\n",
    "    def db_init(self):\n",
    "        self.conn = my.connect(\n",
    "                        host='3.34.111.86',\n",
    "                        user='root',\n",
    "                        password='123456',\n",
    "                        db='project_db',\n",
    "                        charset='utf8mb4',\n",
    "                        cursorclass=my.cursors.DictCursor\n",
    "        )\n",
    "\n",
    "\n",
    "    def db_free(self):\n",
    "        if self.conn:\n",
    "            self.conn.close()\n",
    "\n",
    "\n",
    "    def db_insertCrawlingData_ADDRESS(self, local, latitude, longitude):\n",
    "        with self.conn.cursor() as cursor:\n",
    "            sql = \"INSERT INTO ADDRESS (LOCAL_CODE, LATITUDE, LONGITUDE) VALUES ( %s, %s, %s )\"\n",
    "            cursor.execute(sql, (local, latitude, longitude)) \n",
    "        self.conn.commit()"
   ]
  },
  {
   "cell_type": "code",
   "execution_count": null,
   "id": "30ead359-fd10-4e50-b208-1c6c1d7948a6",
   "metadata": {},
   "outputs": [],
   "source": []
  },
  {
   "cell_type": "code",
   "execution_count": null,
   "id": "6c59b1f2-f945-43d5-9d66-cfd61acfce11",
   "metadata": {},
   "outputs": [],
   "source": []
  },
  {
   "cell_type": "code",
   "execution_count": 3,
   "id": "26d99354-49cb-4326-a90b-921cf5184155",
   "metadata": {},
   "outputs": [
    {
     "data": {
      "text/html": [
       "<div>\n",
       "<style scoped>\n",
       "    .dataframe tbody tr th:only-of-type {\n",
       "        vertical-align: middle;\n",
       "    }\n",
       "\n",
       "    .dataframe tbody tr th {\n",
       "        vertical-align: top;\n",
       "    }\n",
       "\n",
       "    .dataframe thead th {\n",
       "        text-align: right;\n",
       "    }\n",
       "</style>\n",
       "<table border=\"1\" class=\"dataframe\">\n",
       "  <thead>\n",
       "    <tr style=\"text-align: right;\">\n",
       "      <th></th>\n",
       "      <th>LOCAL_CODE</th>\n",
       "      <th>Latitude</th>\n",
       "      <th>Longitude</th>\n",
       "    </tr>\n",
       "  </thead>\n",
       "  <tbody>\n",
       "    <tr>\n",
       "      <th>0</th>\n",
       "      <td>(지번) 창동 337-1</td>\n",
       "      <td>37.651522</td>\n",
       "      <td>127.044820</td>\n",
       "    </tr>\n",
       "    <tr>\n",
       "      <th>1</th>\n",
       "      <td>(지번) 도봉동 470-3</td>\n",
       "      <td>37.677884</td>\n",
       "      <td>127.035022</td>\n",
       "    </tr>\n",
       "    <tr>\n",
       "      <th>2</th>\n",
       "      <td>(지번) 쌍문동 100-35</td>\n",
       "      <td>37.647075</td>\n",
       "      <td>127.031735</td>\n",
       "    </tr>\n",
       "    <tr>\n",
       "      <th>3</th>\n",
       "      <td>(지번) 창동 700-27</td>\n",
       "      <td>37.651605</td>\n",
       "      <td>127.037173</td>\n",
       "    </tr>\n",
       "    <tr>\n",
       "      <th>4</th>\n",
       "      <td>(지번) 쌍문동 395-6</td>\n",
       "      <td>37.645558</td>\n",
       "      <td>127.031691</td>\n",
       "    </tr>\n",
       "  </tbody>\n",
       "</table>\n",
       "</div>"
      ],
      "text/plain": [
       "        LOCAL_CODE   Latitude   Longitude\n",
       "0    (지번) 창동 337-1  37.651522  127.044820\n",
       "1   (지번) 도봉동 470-3  37.677884  127.035022\n",
       "2  (지번) 쌍문동 100-35  37.647075  127.031735\n",
       "3   (지번) 창동 700-27  37.651605  127.037173\n",
       "4   (지번) 쌍문동 395-6  37.645558  127.031691"
      ]
     },
     "execution_count": 3,
     "metadata": {},
     "output_type": "execute_result"
    }
   ],
   "source": [
    "store_df = pd.read_csv('DB_PLACE.csv', encoding='utf-8')\n",
    "store_df.head()"
   ]
  },
  {
   "cell_type": "code",
   "execution_count": 30,
   "id": "129c8fb8-6f0b-474c-a911-923593c262e1",
   "metadata": {},
   "outputs": [
    {
     "name": "stderr",
     "output_type": "stream",
     "text": [
      "C:\\Users\\nhm05\\anaconda3\\envs\\multi\\lib\\site-packages\\ipykernel_launcher.py:11: DeprecationWarning: 'db' is deprecated, use 'database'\n",
      "  # This is added back by InteractiveShellApp.init_path()\n"
     ]
    }
   ],
   "source": [
    "db = DBHelper()"
   ]
  },
  {
   "cell_type": "code",
   "execution_count": null,
   "id": "feab8ded-6b96-4059-90cd-71b73730db08",
   "metadata": {},
   "outputs": [],
   "source": [
    "for i in range(len(store_df)):\n",
    "    db.db_insertCrawlingData_ADDRESS(store_df['LOCAL_CODE'][i], store_df['Latitude'][i], store_df['Longitude'][i])"
   ]
  }
 ],
 "metadata": {
  "kernelspec": {
   "display_name": "Python Multi",
   "language": "python",
   "name": "multi"
  },
  "language_info": {
   "codemirror_mode": {
    "name": "ipython",
    "version": 3
   },
   "file_extension": ".py",
   "mimetype": "text/x-python",
   "name": "python",
   "nbconvert_exporter": "python",
   "pygments_lexer": "ipython3",
   "version": "3.7.6"
  }
 },
 "nbformat": 4,
 "nbformat_minor": 5
}
