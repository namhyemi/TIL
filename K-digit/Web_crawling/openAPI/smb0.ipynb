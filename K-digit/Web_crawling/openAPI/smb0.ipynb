{
 "cells": [
  {
   "cell_type": "code",
   "execution_count": null,
   "metadata": {},
   "outputs": [],
   "source": []
  },
  {
   "cell_type": "code",
   "execution_count": null,
   "metadata": {},
   "outputs": [],
   "source": [
    "# 소상공인 상가업소 정보 서비스 \n",
    "# https://www.data.go.kr/iim/api/selectAPIAcountView.do"
   ]
  },
  {
   "cell_type": "code",
   "execution_count": 1,
   "metadata": {},
   "outputs": [],
   "source": [
    "api_key = 'R5paJqm2Ehw2tHeFBRXuD62PIxD4Xej%2FgAs7AiQT5dAu0F0o6h%2BAkHW8sLzZ2Bkq9xzdw6mHV6EH9oSTh%2FHfew%3D%3D'"
   ]
  },
  {
   "cell_type": "code",
   "execution_count": 2,
   "metadata": {},
   "outputs": [],
   "source": [
    "import urllib.request"
   ]
  },
  {
   "cell_type": "code",
   "execution_count": 3,
   "metadata": {},
   "outputs": [],
   "source": [
    "#-*- coding:utf-8 -*-\n",
    "# url = 'http://apis.data.go.kr/B553077/api/open/sdsc/storeListInDong?divId=ctprvnCd&key=11&ServiceKey='+api_key"
   ]
  },
  {
   "cell_type": "code",
   "execution_count": 9,
   "metadata": {},
   "outputs": [],
   "source": [
    "#-*- coding:utf-8 -*-\n",
    "url = 'http://apis.data.go.kr/B553077/api/open/sdsc/storeListInDong?divId=ctprvnCd&key=11&ServiceKey='+api_key+'&type=json'"
   ]
  },
  {
   "cell_type": "code",
   "execution_count": 10,
   "metadata": {},
   "outputs": [
    {
     "data": {
      "text/plain": [
       "'http://apis.data.go.kr/B553077/api/open/sdsc/storeListInDong?divId=ctprvnCd&key=11&ServiceKey=R5paJqm2Ehw2tHeFBRXuD62PIxD4Xej%2FgAs7AiQT5dAu0F0o6h%2BAkHW8sLzZ2Bkq9xzdw6mHV6EH9oSTh%2FHfew%3D%3D&type=json'"
      ]
     },
     "execution_count": 10,
     "metadata": {},
     "output_type": "execute_result"
    }
   ],
   "source": [
    "url"
   ]
  },
  {
   "cell_type": "code",
   "execution_count": 11,
   "metadata": {},
   "outputs": [],
   "source": [
    "response = urllib.request.urlopen(url)"
   ]
  },
  {
   "cell_type": "code",
   "execution_count": 12,
   "metadata": {},
   "outputs": [
    {
     "data": {
      "text/plain": [
       "<http.client.HTTPResponse at 0x1866639ef10>"
      ]
     },
     "execution_count": 12,
     "metadata": {},
     "output_type": "execute_result"
    }
   ],
   "source": [
    "response"
   ]
  },
  {
   "cell_type": "code",
   "execution_count": 13,
   "metadata": {},
   "outputs": [],
   "source": [
    "json_str = response.read().decode(\"utf-8\")"
   ]
  },
  {
   "cell_type": "code",
   "execution_count": 23,
   "metadata": {},
   "outputs": [],
   "source": [
    "# json_str"
   ]
  },
  {
   "cell_type": "code",
   "execution_count": null,
   "metadata": {},
   "outputs": [],
   "source": [
    "# json을 import 하여 문자열 -> json으로 변환"
   ]
  },
  {
   "cell_type": "code",
   "execution_count": 14,
   "metadata": {},
   "outputs": [],
   "source": [
    "import json\n",
    "json_object = json.loads(json_str)"
   ]
  },
  {
   "cell_type": "code",
   "execution_count": 16,
   "metadata": {},
   "outputs": [],
   "source": [
    "# json_object"
   ]
  },
  {
   "cell_type": "code",
   "execution_count": null,
   "metadata": {},
   "outputs": [],
   "source": [
    "# pandas를 이용해 json을 DataFrame 형태로\n",
    "# 데이터를 보면 header와 body가 나뉜다. 우리가 필요한 정보는 body이니 그쪽 정보를 로드해서 pandas로 변형"
   ]
  },
  {
   "cell_type": "code",
   "execution_count": 17,
   "metadata": {},
   "outputs": [],
   "source": [
    "import pandas as pd\n",
    "from pandas.io.json import json_normalize"
   ]
  },
  {
   "cell_type": "code",
   "execution_count": 18,
   "metadata": {},
   "outputs": [],
   "source": [
    "body = [json_object['body']['items']]"
   ]
  },
  {
   "cell_type": "code",
   "execution_count": null,
   "metadata": {},
   "outputs": [],
   "source": [
    "# body"
   ]
  },
  {
   "cell_type": "code",
   "execution_count": 20,
   "metadata": {},
   "outputs": [
    {
     "data": {
      "text/plain": [
       "list"
      ]
     },
     "execution_count": 20,
     "metadata": {},
     "output_type": "execute_result"
    }
   ],
   "source": [
    "type(body)"
   ]
  },
  {
   "cell_type": "code",
   "execution_count": 24,
   "metadata": {},
   "outputs": [],
   "source": [
    "df = pd.DataFrame(body)"
   ]
  },
  {
   "cell_type": "code",
   "execution_count": 25,
   "metadata": {},
   "outputs": [],
   "source": [
    "df.to_csv('smb.csv')"
   ]
  },
  {
   "cell_type": "code",
   "execution_count": 28,
   "metadata": {},
   "outputs": [
    {
     "data": {
      "text/html": [
       "<div>\n",
       "<style scoped>\n",
       "    .dataframe tbody tr th:only-of-type {\n",
       "        vertical-align: middle;\n",
       "    }\n",
       "\n",
       "    .dataframe tbody tr th {\n",
       "        vertical-align: top;\n",
       "    }\n",
       "\n",
       "    .dataframe thead th {\n",
       "        text-align: right;\n",
       "    }\n",
       "</style>\n",
       "<table border=\"1\" class=\"dataframe\">\n",
       "  <thead>\n",
       "    <tr style=\"text-align: right;\">\n",
       "      <th></th>\n",
       "      <th>0</th>\n",
       "      <th>1</th>\n",
       "      <th>2</th>\n",
       "      <th>3</th>\n",
       "      <th>4</th>\n",
       "      <th>5</th>\n",
       "      <th>6</th>\n",
       "      <th>7</th>\n",
       "      <th>8</th>\n",
       "      <th>9</th>\n",
       "      <th>10</th>\n",
       "      <th>11</th>\n",
       "      <th>12</th>\n",
       "      <th>13</th>\n",
       "      <th>14</th>\n",
       "      <th>15</th>\n",
       "      <th>16</th>\n",
       "      <th>17</th>\n",
       "      <th>18</th>\n",
       "      <th>19</th>\n",
       "    </tr>\n",
       "  </thead>\n",
       "  <tbody>\n",
       "    <tr>\n",
       "      <th>0</th>\n",
       "      <td>{'bizesId': '10004623', 'bizesNm': '이철헤어커커', '...</td>\n",
       "      <td>{'bizesId': '10004646', 'bizesNm': '이철헤어커커', '...</td>\n",
       "      <td>{'bizesId': '10025887', 'bizesNm': '잠뱅이', 'brc...</td>\n",
       "      <td>{'bizesId': '10030788', 'bizesNm': '장안순대국밥', '...</td>\n",
       "      <td>{'bizesId': '10031349', 'bizesNm': '장어야', 'brc...</td>\n",
       "      <td>{'bizesId': '10031436', 'bizesNm': '장어천국', 'br...</td>\n",
       "      <td>{'bizesId': '10034303', 'bizesNm': '재건공조', 'br...</td>\n",
       "      <td>{'bizesId': '10038561', 'bizesNm': '전자랜드', 'br...</td>\n",
       "      <td>{'bizesId': '10041487', 'bizesNm': '정관장', 'brc...</td>\n",
       "      <td>{'bizesId': '10041503', 'bizesNm': '정관장', 'brc...</td>\n",
       "      <td>{'bizesId': '10041535', 'bizesNm': '정관장', 'brc...</td>\n",
       "      <td>{'bizesId': '10050747', 'bizesNm': '제시카키친', 'b...</td>\n",
       "      <td>{'bizesId': '10056742', 'bizesNm': '제일전기조명', '...</td>\n",
       "      <td>{'bizesId': '10065677', 'bizesNm': '종가집설렁탕', '...</td>\n",
       "      <td>{'bizesId': '10075124', 'bizesNm': '준오헤어돈암2호점'...</td>\n",
       "      <td>{'bizesId': '10080606', 'bizesNm': '중화공인중개사사무소...</td>\n",
       "      <td>{'bizesId': '10082162', 'bizesNm': '즐거운짜장', 'b...</td>\n",
       "      <td>{'bizesId': '10085207', 'bizesNm': 'GS25', 'br...</td>\n",
       "      <td>{'bizesId': '10086312', 'bizesNm': '지우미용실신월점',...</td>\n",
       "      <td>{'bizesId': '10088738', 'bizesNm': '지혜수산', 'br...</td>\n",
       "    </tr>\n",
       "  </tbody>\n",
       "</table>\n",
       "</div>"
      ],
      "text/plain": [
       "                                                   0  \\\n",
       "0  {'bizesId': '10004623', 'bizesNm': '이철헤어커커', '...   \n",
       "\n",
       "                                                   1  \\\n",
       "0  {'bizesId': '10004646', 'bizesNm': '이철헤어커커', '...   \n",
       "\n",
       "                                                   2  \\\n",
       "0  {'bizesId': '10025887', 'bizesNm': '잠뱅이', 'brc...   \n",
       "\n",
       "                                                   3  \\\n",
       "0  {'bizesId': '10030788', 'bizesNm': '장안순대국밥', '...   \n",
       "\n",
       "                                                   4  \\\n",
       "0  {'bizesId': '10031349', 'bizesNm': '장어야', 'brc...   \n",
       "\n",
       "                                                   5  \\\n",
       "0  {'bizesId': '10031436', 'bizesNm': '장어천국', 'br...   \n",
       "\n",
       "                                                   6  \\\n",
       "0  {'bizesId': '10034303', 'bizesNm': '재건공조', 'br...   \n",
       "\n",
       "                                                   7  \\\n",
       "0  {'bizesId': '10038561', 'bizesNm': '전자랜드', 'br...   \n",
       "\n",
       "                                                   8  \\\n",
       "0  {'bizesId': '10041487', 'bizesNm': '정관장', 'brc...   \n",
       "\n",
       "                                                   9  \\\n",
       "0  {'bizesId': '10041503', 'bizesNm': '정관장', 'brc...   \n",
       "\n",
       "                                                  10  \\\n",
       "0  {'bizesId': '10041535', 'bizesNm': '정관장', 'brc...   \n",
       "\n",
       "                                                  11  \\\n",
       "0  {'bizesId': '10050747', 'bizesNm': '제시카키친', 'b...   \n",
       "\n",
       "                                                  12  \\\n",
       "0  {'bizesId': '10056742', 'bizesNm': '제일전기조명', '...   \n",
       "\n",
       "                                                  13  \\\n",
       "0  {'bizesId': '10065677', 'bizesNm': '종가집설렁탕', '...   \n",
       "\n",
       "                                                  14  \\\n",
       "0  {'bizesId': '10075124', 'bizesNm': '준오헤어돈암2호점'...   \n",
       "\n",
       "                                                  15  \\\n",
       "0  {'bizesId': '10080606', 'bizesNm': '중화공인중개사사무소...   \n",
       "\n",
       "                                                  16  \\\n",
       "0  {'bizesId': '10082162', 'bizesNm': '즐거운짜장', 'b...   \n",
       "\n",
       "                                                  17  \\\n",
       "0  {'bizesId': '10085207', 'bizesNm': 'GS25', 'br...   \n",
       "\n",
       "                                                  18  \\\n",
       "0  {'bizesId': '10086312', 'bizesNm': '지우미용실신월점',...   \n",
       "\n",
       "                                                  19  \n",
       "0  {'bizesId': '10088738', 'bizesNm': '지혜수산', 'br...  "
      ]
     },
     "execution_count": 28,
     "metadata": {},
     "output_type": "execute_result"
    }
   ],
   "source": [
    "df.head()"
   ]
  },
  {
   "cell_type": "code",
   "execution_count": 29,
   "metadata": {},
   "outputs": [],
   "source": [
    "url_test = 'http://apis.data.go.kr/B553077/api/open/sdsc/storeListInDong?divId=adongCd&key=1168051000&indsLclsCd=Q&indsMclsCd=Q06&indsSclsCd=Q06A08&ServiceKey='+api_key+'&type=json'"
   ]
  },
  {
   "cell_type": "code",
   "execution_count": 30,
   "metadata": {},
   "outputs": [
    {
     "data": {
      "text/plain": [
       "'http://apis.data.go.kr/B553077/api/open/sdsc/storeListInDong?divId=adongCd&key=1168051000&indsLclsCd=Q&indsMclsCd=Q06&indsSclsCd=Q06A08&ServiceKey=R5paJqm2Ehw2tHeFBRXuD62PIxD4Xej%2FgAs7AiQT5dAu0F0o6h%2BAkHW8sLzZ2Bkq9xzdw6mHV6EH9oSTh%2FHfew%3D%3D&type=json'"
      ]
     },
     "execution_count": 30,
     "metadata": {},
     "output_type": "execute_result"
    }
   ],
   "source": [
    "url_test"
   ]
  },
  {
   "cell_type": "code",
   "execution_count": null,
   "metadata": {},
   "outputs": [],
   "source": []
  }
 ],
 "metadata": {
  "kernelspec": {
   "display_name": "Python 3",
   "language": "python",
   "name": "python3"
  },
  "language_info": {
   "codemirror_mode": {
    "name": "ipython",
    "version": 3
   },
   "file_extension": ".py",
   "mimetype": "text/x-python",
   "name": "python",
   "nbconvert_exporter": "python",
   "pygments_lexer": "ipython3",
   "version": "3.8.3"
  }
 },
 "nbformat": 4,
 "nbformat_minor": 5
}
