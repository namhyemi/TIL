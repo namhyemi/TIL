{
 "cells": [
  {
   "cell_type": "code",
   "execution_count": 1,
   "id": "815ad3cd-c8cf-4506-be3b-11c783ad4b8d",
   "metadata": {},
   "outputs": [],
   "source": [
    "import requests\n",
    "import lxml.html"
   ]
  },
  {
   "cell_type": "code",
   "execution_count": 2,
   "id": "8e6b6f9e-0989-417f-af49-a7fb72067e30",
   "metadata": {},
   "outputs": [],
   "source": [
    "# HTML 소스 코드를 읽어 들입니다.\n",
    "r = requests.get(\"http://wikibook.co.kr/python-for-web-scraping/\")"
   ]
  },
  {
   "cell_type": "code",
   "execution_count": null,
   "id": "bc0260f1-e2a8-4737-89c3-32b1cee88532",
   "metadata": {},
   "outputs": [],
   "source": [
    "html = r.text\n",
    "html"
   ]
  },
  {
   "cell_type": "code",
   "execution_count": 45,
   "id": "e1ff6fec-7cc5-4101-b100-d6869be652bf",
   "metadata": {},
   "outputs": [],
   "source": [
    "# HTML을 HtmlElement 객체로 변환합니다.\n",
    "root = lxml.html.fromstring(html)\n",
    "\n",
    "# XPath를 사용해서 요소를 추출합니다.\n",
    "titleElement = root.xpath('//*[@id=\"content\"]/div[1]/div[2]/ul/li[1]')"
   ]
  },
  {
   "cell_type": "code",
   "execution_count": 27,
   "id": "4de1a61b-fae4-4a50-b2b9-2aafe16d4998",
   "metadata": {},
   "outputs": [],
   "source": [
    "# titleElement = root.xpath('//*[@id=\"content\"]/div[1]/div[2]/h1')"
   ]
  },
  {
   "cell_type": "code",
   "execution_count": 46,
   "id": "6cbb5269-22ab-4da6-ab4f-6321fe11c831",
   "metadata": {},
   "outputs": [
    {
     "data": {
      "text/plain": [
       "list"
      ]
     },
     "execution_count": 46,
     "metadata": {},
     "output_type": "execute_result"
    }
   ],
   "source": [
    "type(titleElement)"
   ]
  },
  {
   "cell_type": "code",
   "execution_count": 47,
   "id": "a446cbab-e9eb-415d-98ff-e67d89b90736",
   "metadata": {},
   "outputs": [
    {
     "name": "stdout",
     "output_type": "stream",
     "text": [
      "카토 코타 \n"
     ]
    }
   ],
   "source": [
    "# 리스트의 첫 번째 요소가 가진 텍스트를 출력합니다.\n",
    "print(titleElement[0].text)"
   ]
  },
  {
   "cell_type": "code",
   "execution_count": 48,
   "id": "e8a0778f-3e04-404d-a5b7-a46eb502d3ae",
   "metadata": {},
   "outputs": [
    {
     "data": {
      "text/plain": [
       "{}"
      ]
     },
     "execution_count": 48,
     "metadata": {},
     "output_type": "execute_result"
    }
   ],
   "source": [
    "titleElement[0].attrib"
   ]
  },
  {
   "cell_type": "code",
   "execution_count": 49,
   "id": "f471d265-3889-4c6b-af7b-d0a5d58130ad",
   "metadata": {},
   "outputs": [],
   "source": [
    "# CSS 선택자를 사용해서 요소를 추출합니다.\n",
    "linkAs = root.cssselect('#book-stores > li > a')"
   ]
  },
  {
   "cell_type": "code",
   "execution_count": 35,
   "id": "abba19df-c458-4fd9-84f6-7367a8257332",
   "metadata": {},
   "outputs": [],
   "source": [
    "# linkAs = root.cssselect('#content > div:nth-child(1) > div.col-md-9 > h1')"
   ]
  },
  {
   "cell_type": "code",
   "execution_count": 52,
   "id": "2bae0c87-0c81-4f85-a6e0-e40d8336e6e9",
   "metadata": {},
   "outputs": [
    {
     "data": {
      "text/plain": [
       "4"
      ]
     },
     "execution_count": 52,
     "metadata": {},
     "output_type": "execute_result"
    }
   ],
   "source": [
    "len(linkAs)"
   ]
  },
  {
   "cell_type": "code",
   "execution_count": 53,
   "id": "cbbd1ea8-3346-4893-92f1-140e99dd6a4a",
   "metadata": {},
   "outputs": [
    {
     "name": "stdout",
     "output_type": "stream",
     "text": [
      "None\n"
     ]
    }
   ],
   "source": [
    "print(linkAs[0].text)"
   ]
  },
  {
   "cell_type": "code",
   "execution_count": 51,
   "id": "2b84b947-596c-4fb3-8095-656c2c9ff088",
   "metadata": {},
   "outputs": [
    {
     "data": {
      "text/plain": [
       "{'href': 'http://www.yes24.com/24/goods/59307498'}"
      ]
     },
     "execution_count": 51,
     "metadata": {},
     "output_type": "execute_result"
    }
   ],
   "source": [
    "linkAs[0].attrib"
   ]
  },
  {
   "cell_type": "code",
   "execution_count": 25,
   "id": "3cc1ee42-5c55-46d0-abdd-6fa063b3fb6c",
   "metadata": {},
   "outputs": [
    {
     "name": "stdout",
     "output_type": "stream",
     "text": [
      "http://www.yes24.com/24/goods/59307498\n",
      "http://www.kyobobook.co.kr/product/detailViewKor.laf?barcode=9791158390952\n",
      "http://book.interpark.com/product/BookDisplay.do?_method=detail&sc.prdNo=281415537\n",
      "http://www.aladin.co.kr/shop/wproduct.aspx?ItemId=137872443\n"
     ]
    }
   ],
   "source": [
    "## for 반복문으로 추출한 요소의 href 속성을 추출합니다.\n",
    "for linkA in linkAs:\n",
    "    print(linkA.attrib[\"href\"])"
   ]
  },
  {
   "cell_type": "code",
   "execution_count": null,
   "id": "f8ba92f2-85f4-449d-b8e1-032f195a1955",
   "metadata": {},
   "outputs": [],
   "source": []
  }
 ],
 "metadata": {
  "kernelspec": {
   "display_name": "Python Django",
   "language": "python",
   "name": "django"
  },
  "language_info": {
   "codemirror_mode": {
    "name": "ipython",
    "version": 3
   },
   "file_extension": ".py",
   "mimetype": "text/x-python",
   "name": "python",
   "nbconvert_exporter": "python",
   "pygments_lexer": "ipython3",
   "version": "3.8.3"
  }
 },
 "nbformat": 4,
 "nbformat_minor": 5
}
