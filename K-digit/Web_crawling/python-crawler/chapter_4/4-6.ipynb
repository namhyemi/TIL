{
 "cells": [
  {
   "cell_type": "code",
   "execution_count": 1,
   "id": "adb9621e-0f67-4006-831e-23fb1e0b5432",
   "metadata": {},
   "outputs": [],
   "source": [
    "import feedparser\n",
    "import MySQLdb"
   ]
  },
  {
   "cell_type": "code",
   "execution_count": null,
   "id": "61873ee1-3a9a-4882-af42-d96c8bd3818b",
   "metadata": {},
   "outputs": [],
   "source": [
    "# # 데이터베이스 연결하기\n",
    "# connection = MySQLdb.connect(\n",
    "#     user=\"scrapingman\",\n",
    "#     passwd=\"myPassword-1\",\n",
    "#     host=\"localhost\",\n",
    "#     db=\"scrapingdata\",\n",
    "#     charset=\"utf8\")"
   ]
  },
  {
   "cell_type": "code",
   "execution_count": 2,
   "id": "6fd543d6-94f0-4553-9d02-8e90f3120c28",
   "metadata": {},
   "outputs": [],
   "source": [
    "connection = MySQLdb.connect(\n",
    "    user=\"root\",\n",
    "    passwd=\"960525\",\n",
    "    host=\"localhost\",\n",
    "    db=\"tips\",\n",
    "    charset=\"utf8\")"
   ]
  },
  {
   "cell_type": "code",
   "execution_count": 3,
   "id": "97248e6b-5f3d-4218-bae3-fb6c1179d7fb",
   "metadata": {},
   "outputs": [],
   "source": [
    "# 커서 생성하기\n",
    "cursor = connection.cursor()"
   ]
  },
  {
   "cell_type": "code",
   "execution_count": null,
   "id": "dd188f71-f536-40c6-9e5e-644dc7e569a2",
   "metadata": {},
   "outputs": [],
   "source": [
    "# 실행할 때마다 같은 레코드가 중복되어 들어가지 않게 테이블을 제거해두기\n",
    "cursor.execute(\"DROP TABLE IF EXISTS books\")"
   ]
  },
  {
   "cell_type": "code",
   "execution_count": 4,
   "id": "13ca98c0-5c23-44ff-b4de-4c0a166ac01d",
   "metadata": {},
   "outputs": [
    {
     "data": {
      "text/plain": [
       "0"
      ]
     },
     "execution_count": 4,
     "metadata": {},
     "output_type": "execute_result"
    }
   ],
   "source": [
    "# 테이블 생성하기\n",
    "cursor.execute(\"CREATE TABLE books (title text, url text)\")"
   ]
  },
  {
   "cell_type": "code",
   "execution_count": 5,
   "id": "8918f422-749a-4cb5-b6cd-42293171b4f5",
   "metadata": {},
   "outputs": [],
   "source": [
    "# URL을 지정해서 FeedParserDict 객체 생성하기\n",
    "rss = feedparser.parse(\"http://www.aladin.co.kr/rss/special_new/351\")"
   ]
  },
  {
   "cell_type": "code",
   "execution_count": 6,
   "id": "5351b7bf-ff9b-437c-810d-855db521eae7",
   "metadata": {
    "tags": []
   },
   "outputs": [
    {
     "name": "stdout",
     "output_type": "stream",
     "text": [
      "rss20\n"
     ]
    }
   ],
   "source": [
    "# RSS 버전 확인하기\n",
    "print(rss.version)"
   ]
  },
  {
   "cell_type": "code",
   "execution_count": 7,
   "id": "515bd636-3869-4e7d-a5d5-5895d4050089",
   "metadata": {
    "tags": []
   },
   "outputs": [
    {
     "name": "stdout",
     "output_type": "stream",
     "text": [
      "분야별 신간 특선 - 컴퓨터/모바일\n"
     ]
    }
   ],
   "source": [
    "# 피드의 제목\n",
    "print(rss[\"feed\"][\"title\"])"
   ]
  },
  {
   "cell_type": "code",
   "execution_count": 8,
   "id": "fa546fae-1c68-4951-a99a-75634d5bb0ca",
   "metadata": {},
   "outputs": [],
   "source": [
    "# 반복 적용\n",
    "for content in rss[\"entries\"]:\n",
    "    # 데이터 저장하기\n",
    "    cursor.execute(\"INSERT INTO books VALUES(%s, %s)\", (content[\"title\"], content[\"link\"])) "
   ]
  },
  {
   "cell_type": "code",
   "execution_count": 9,
   "id": "73bca7be-a16c-4990-8dfc-a8a9df82ae79",
   "metadata": {},
   "outputs": [],
   "source": [
    "# 커밋하기\n",
    "connection.commit()"
   ]
  },
  {
   "cell_type": "code",
   "execution_count": null,
   "id": "1975354c-f321-4558-8ec9-6d75e538e0c3",
   "metadata": {},
   "outputs": [],
   "source": [
    "# 연결 종료하기\n",
    "connection.close()"
   ]
  }
 ],
 "metadata": {
  "kernelspec": {
   "display_name": "Python Django",
   "language": "python",
   "name": "django"
  },
  "language_info": {
   "codemirror_mode": {
    "name": "ipython",
    "version": 3
   },
   "file_extension": ".py",
   "mimetype": "text/x-python",
   "name": "python",
   "nbconvert_exporter": "python",
   "pygments_lexer": "ipython3",
   "version": "3.8.3"
  }
 },
 "nbformat": 4,
 "nbformat_minor": 5
}
